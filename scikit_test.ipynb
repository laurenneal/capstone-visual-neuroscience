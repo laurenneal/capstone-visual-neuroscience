{
  "nbformat": 4,
  "nbformat_minor": 0,
  "metadata": {
    "colab": {
      "name": "scikit test.ipynb",
      "provenance": [],
      "collapsed_sections": [],
      "authorship_tag": "ABX9TyOYUmWY6fYlchFVfX3vzHdB",
      "include_colab_link": true
    },
    "kernelspec": {
      "name": "python3",
      "display_name": "Python 3"
    },
    "language_info": {
      "name": "python"
    },
    "accelerator": "TPU"
  },
  "cells": [
    {
      "cell_type": "markdown",
      "metadata": {
        "id": "view-in-github",
        "colab_type": "text"
      },
      "source": [
        "<a href=\"https://colab.research.google.com/github/laurenneal/capstone-visual-neuroscience/blob/Dylan/scikit_test.ipynb\" target=\"_parent\"><img src=\"https://colab.research.google.com/assets/colab-badge.svg\" alt=\"Open In Colab\"/></a>"
      ]
    },
    {
      "cell_type": "code",
      "execution_count": 1,
      "metadata": {
        "colab": {
          "base_uri": "https://localhost:8080/"
        },
        "id": "XYt9E3-NyLo0",
        "outputId": "0b361e5c-c016-47e1-99b6-54915f56c629"
      },
      "outputs": [
        {
          "output_type": "stream",
          "name": "stdout",
          "text": [
            "Drive already mounted at /content/drive; to attempt to forcibly remount, call drive.mount(\"/content/drive\", force_remount=True).\n"
          ]
        }
      ],
      "source": [
        "from google.colab import drive\n",
        "drive.mount('/content/drive')"
      ]
    },
    {
      "cell_type": "code",
      "source": [
        "#imports\n",
        "import pandas as pd\n",
        "import os\n",
        "import random\n",
        "import seaborn as sns\n",
        "\n",
        "import numpy as np\n",
        "import matplotlib.pyplot as plt\n",
        "from matplotlib.colors import ListedColormap\n",
        "from sklearn.model_selection import train_test_split\n",
        "from sklearn.preprocessing import StandardScaler\n",
        "from sklearn.datasets import make_moons, make_circles, make_classification\n",
        "from sklearn.neural_network import MLPClassifier\n",
        "from sklearn.neighbors import KNeighborsClassifier\n",
        "from sklearn.svm import SVC\n",
        "from sklearn.gaussian_process import GaussianProcessClassifier\n",
        "from sklearn.gaussian_process.kernels import RBF\n",
        "from sklearn.tree import DecisionTreeClassifier\n",
        "from sklearn.ensemble import RandomForestClassifier, AdaBoostClassifier\n",
        "from sklearn.naive_bayes import GaussianNB\n",
        "from sklearn.discriminant_analysis import QuadraticDiscriminantAnalysis\n",
        "from sklearn.metrics import confusion_matrix\n",
        "from sklearn.metrics import ConfusionMatrixDisplay"
      ],
      "metadata": {
        "id": "rSe6lt-0RP-Q"
      },
      "execution_count": 12,
      "outputs": []
    },
    {
      "cell_type": "code",
      "source": [
        "#Get the filepaths to the csv's we're interested in\n",
        "\n",
        "root = '/content/drive/MyDrive/DS6011_Capstone_VisualNeuroscience/Seeded_CNMF/Extracted_Features/210815_0_allStacks_mc_mix1_syt_rawExtracts/1 Frame/'\n",
        "files = os.listdir(root)\n",
        "#spatial_files = [s for s in spatial_files if date_fly in s and '.h5' in s]\n",
        "filepaths = [root + s for s in files]\n",
        "filepaths"
      ],
      "metadata": {
        "colab": {
          "base_uri": "https://localhost:8080/"
        },
        "id": "I__7I8GjQoeR",
        "outputId": "72544e7e-cc0f-4a34-e286-9f463af160f9"
      },
      "execution_count": 3,
      "outputs": [
        {
          "output_type": "execute_result",
          "data": {
            "text/plain": [
              "['/content/drive/MyDrive/DS6011_Capstone_VisualNeuroscience/Seeded_CNMF/Extracted_Features/210815_0_allStacks_mc_mix1_syt_rawExtracts/1 Frame/210815_0_1_mc_mix1_syt_1frameWindow_rawExtract.csv',\n",
              " '/content/drive/MyDrive/DS6011_Capstone_VisualNeuroscience/Seeded_CNMF/Extracted_Features/210815_0_allStacks_mc_mix1_syt_rawExtracts/1 Frame/210815_0_2_mc_mix1_syt_1frameWindow_rawExtract.csv',\n",
              " '/content/drive/MyDrive/DS6011_Capstone_VisualNeuroscience/Seeded_CNMF/Extracted_Features/210815_0_allStacks_mc_mix1_syt_rawExtracts/1 Frame/210815_0_3_mc_mix1_syt_1frameWindow_rawExtract.csv',\n",
              " '/content/drive/MyDrive/DS6011_Capstone_VisualNeuroscience/Seeded_CNMF/Extracted_Features/210815_0_allStacks_mc_mix1_syt_rawExtracts/1 Frame/210815_0_4_mc_mix1_syt_1frameWindow_rawExtract.csv',\n",
              " '/content/drive/MyDrive/DS6011_Capstone_VisualNeuroscience/Seeded_CNMF/Extracted_Features/210815_0_allStacks_mc_mix1_syt_rawExtracts/1 Frame/210815_0_5_mc_mix1_syt_1frameWindow_rawExtract.csv',\n",
              " '/content/drive/MyDrive/DS6011_Capstone_VisualNeuroscience/Seeded_CNMF/Extracted_Features/210815_0_allStacks_mc_mix1_syt_rawExtracts/1 Frame/210815_0_6_mc_mix1_syt_1frameWindow_rawExtract.csv',\n",
              " '/content/drive/MyDrive/DS6011_Capstone_VisualNeuroscience/Seeded_CNMF/Extracted_Features/210815_0_allStacks_mc_mix1_syt_rawExtracts/1 Frame/210815_0_7_mc_mix1_syt_1frameWindow_rawExtract.csv',\n",
              " '/content/drive/MyDrive/DS6011_Capstone_VisualNeuroscience/Seeded_CNMF/Extracted_Features/210815_0_allStacks_mc_mix1_syt_rawExtracts/1 Frame/210815_0_8_mc_mix1_syt_1frameWindow_rawExtract.csv',\n",
              " '/content/drive/MyDrive/DS6011_Capstone_VisualNeuroscience/Seeded_CNMF/Extracted_Features/210815_0_allStacks_mc_mix1_syt_rawExtracts/1 Frame/210815_0_9_mc_mix1_syt_1frameWindow_rawExtract.csv',\n",
              " '/content/drive/MyDrive/DS6011_Capstone_VisualNeuroscience/Seeded_CNMF/Extracted_Features/210815_0_allStacks_mc_mix1_syt_rawExtracts/1 Frame/210815_0_10_mc_mix1_syt_1frameWindow_rawExtract.csv',\n",
              " '/content/drive/MyDrive/DS6011_Capstone_VisualNeuroscience/Seeded_CNMF/Extracted_Features/210815_0_allStacks_mc_mix1_syt_rawExtracts/1 Frame/210815_0_11_mc_mix1_syt_1frameWindow_rawExtract.csv']"
            ]
          },
          "metadata": {},
          "execution_count": 3
        }
      ]
    },
    {
      "cell_type": "code",
      "source": [
        "#pull in the single framed features\n",
        "df = pd.concat(map(pd.read_csv, filepaths), ignore_index=True)\n",
        "\n",
        "#drop duplicates and sample just 5000 obs for speed, need more observations for actually training\n",
        "df = df.drop(columns = ['Unnamed: 0']).drop_duplicates()\n",
        "df.head()"
      ],
      "metadata": {
        "colab": {
          "base_uri": "https://localhost:8080/",
          "height": 206
        },
        "id": "liYdsX9KyZmh",
        "outputId": "b2f9744a-6ec0-4d94-9d6b-bdbfa81d479b"
      },
      "execution_count": 276,
      "outputs": [
        {
          "output_type": "execute_result",
          "data": {
            "text/html": [
              "\n",
              "  <div id=\"df-67e2385d-3893-4331-bca6-e21ca90efcc6\">\n",
              "    <div class=\"colab-df-container\">\n",
              "      <div>\n",
              "<style scoped>\n",
              "    .dataframe tbody tr th:only-of-type {\n",
              "        vertical-align: middle;\n",
              "    }\n",
              "\n",
              "    .dataframe tbody tr th {\n",
              "        vertical-align: top;\n",
              "    }\n",
              "\n",
              "    .dataframe thead th {\n",
              "        text-align: right;\n",
              "    }\n",
              "</style>\n",
              "<table border=\"1\" class=\"dataframe\">\n",
              "  <thead>\n",
              "    <tr style=\"text-align: right;\">\n",
              "      <th></th>\n",
              "      <th>roi_ID</th>\n",
              "      <th>area</th>\n",
              "      <th>center_of_mass_row</th>\n",
              "      <th>center_of_mass_column</th>\n",
              "      <th>resp</th>\n",
              "      <th>stim1</th>\n",
              "      <th>label</th>\n",
              "      <th>frame_number</th>\n",
              "    </tr>\n",
              "  </thead>\n",
              "  <tbody>\n",
              "    <tr>\n",
              "      <th>0</th>\n",
              "      <td>210815_0_1_0_mc_mix1_syt_</td>\n",
              "      <td>98</td>\n",
              "      <td>33.969388</td>\n",
              "      <td>76.22449</td>\n",
              "      <td>0.244535</td>\n",
              "      <td>-0.700161</td>\n",
              "      <td>tm2</td>\n",
              "      <td>0</td>\n",
              "    </tr>\n",
              "    <tr>\n",
              "      <th>1</th>\n",
              "      <td>210815_0_1_0_mc_mix1_syt_</td>\n",
              "      <td>98</td>\n",
              "      <td>33.969388</td>\n",
              "      <td>76.22449</td>\n",
              "      <td>0.398458</td>\n",
              "      <td>-0.700161</td>\n",
              "      <td>tm2</td>\n",
              "      <td>1</td>\n",
              "    </tr>\n",
              "    <tr>\n",
              "      <th>2</th>\n",
              "      <td>210815_0_1_0_mc_mix1_syt_</td>\n",
              "      <td>98</td>\n",
              "      <td>33.969388</td>\n",
              "      <td>76.22449</td>\n",
              "      <td>0.619290</td>\n",
              "      <td>-0.405675</td>\n",
              "      <td>tm2</td>\n",
              "      <td>2</td>\n",
              "    </tr>\n",
              "    <tr>\n",
              "      <th>3</th>\n",
              "      <td>210815_0_1_0_mc_mix1_syt_</td>\n",
              "      <td>98</td>\n",
              "      <td>33.969388</td>\n",
              "      <td>76.22449</td>\n",
              "      <td>0.627615</td>\n",
              "      <td>0.772268</td>\n",
              "      <td>tm2</td>\n",
              "      <td>3</td>\n",
              "    </tr>\n",
              "    <tr>\n",
              "      <th>4</th>\n",
              "      <td>210815_0_1_0_mc_mix1_syt_</td>\n",
              "      <td>98</td>\n",
              "      <td>33.969388</td>\n",
              "      <td>76.22449</td>\n",
              "      <td>0.611509</td>\n",
              "      <td>0.772268</td>\n",
              "      <td>tm2</td>\n",
              "      <td>4</td>\n",
              "    </tr>\n",
              "  </tbody>\n",
              "</table>\n",
              "</div>\n",
              "      <button class=\"colab-df-convert\" onclick=\"convertToInteractive('df-67e2385d-3893-4331-bca6-e21ca90efcc6')\"\n",
              "              title=\"Convert this dataframe to an interactive table.\"\n",
              "              style=\"display:none;\">\n",
              "        \n",
              "  <svg xmlns=\"http://www.w3.org/2000/svg\" height=\"24px\"viewBox=\"0 0 24 24\"\n",
              "       width=\"24px\">\n",
              "    <path d=\"M0 0h24v24H0V0z\" fill=\"none\"/>\n",
              "    <path d=\"M18.56 5.44l.94 2.06.94-2.06 2.06-.94-2.06-.94-.94-2.06-.94 2.06-2.06.94zm-11 1L8.5 8.5l.94-2.06 2.06-.94-2.06-.94L8.5 2.5l-.94 2.06-2.06.94zm10 10l.94 2.06.94-2.06 2.06-.94-2.06-.94-.94-2.06-.94 2.06-2.06.94z\"/><path d=\"M17.41 7.96l-1.37-1.37c-.4-.4-.92-.59-1.43-.59-.52 0-1.04.2-1.43.59L10.3 9.45l-7.72 7.72c-.78.78-.78 2.05 0 2.83L4 21.41c.39.39.9.59 1.41.59.51 0 1.02-.2 1.41-.59l7.78-7.78 2.81-2.81c.8-.78.8-2.07 0-2.86zM5.41 20L4 18.59l7.72-7.72 1.47 1.35L5.41 20z\"/>\n",
              "  </svg>\n",
              "      </button>\n",
              "      \n",
              "  <style>\n",
              "    .colab-df-container {\n",
              "      display:flex;\n",
              "      flex-wrap:wrap;\n",
              "      gap: 12px;\n",
              "    }\n",
              "\n",
              "    .colab-df-convert {\n",
              "      background-color: #E8F0FE;\n",
              "      border: none;\n",
              "      border-radius: 50%;\n",
              "      cursor: pointer;\n",
              "      display: none;\n",
              "      fill: #1967D2;\n",
              "      height: 32px;\n",
              "      padding: 0 0 0 0;\n",
              "      width: 32px;\n",
              "    }\n",
              "\n",
              "    .colab-df-convert:hover {\n",
              "      background-color: #E2EBFA;\n",
              "      box-shadow: 0px 1px 2px rgba(60, 64, 67, 0.3), 0px 1px 3px 1px rgba(60, 64, 67, 0.15);\n",
              "      fill: #174EA6;\n",
              "    }\n",
              "\n",
              "    [theme=dark] .colab-df-convert {\n",
              "      background-color: #3B4455;\n",
              "      fill: #D2E3FC;\n",
              "    }\n",
              "\n",
              "    [theme=dark] .colab-df-convert:hover {\n",
              "      background-color: #434B5C;\n",
              "      box-shadow: 0px 1px 3px 1px rgba(0, 0, 0, 0.15);\n",
              "      filter: drop-shadow(0px 1px 2px rgba(0, 0, 0, 0.3));\n",
              "      fill: #FFFFFF;\n",
              "    }\n",
              "  </style>\n",
              "\n",
              "      <script>\n",
              "        const buttonEl =\n",
              "          document.querySelector('#df-67e2385d-3893-4331-bca6-e21ca90efcc6 button.colab-df-convert');\n",
              "        buttonEl.style.display =\n",
              "          google.colab.kernel.accessAllowed ? 'block' : 'none';\n",
              "\n",
              "        async function convertToInteractive(key) {\n",
              "          const element = document.querySelector('#df-67e2385d-3893-4331-bca6-e21ca90efcc6');\n",
              "          const dataTable =\n",
              "            await google.colab.kernel.invokeFunction('convertToInteractive',\n",
              "                                                     [key], {});\n",
              "          if (!dataTable) return;\n",
              "\n",
              "          const docLinkHtml = 'Like what you see? Visit the ' +\n",
              "            '<a target=\"_blank\" href=https://colab.research.google.com/notebooks/data_table.ipynb>data table notebook</a>'\n",
              "            + ' to learn more about interactive tables.';\n",
              "          element.innerHTML = '';\n",
              "          dataTable['output_type'] = 'display_data';\n",
              "          await google.colab.output.renderOutput(dataTable, element);\n",
              "          const docLink = document.createElement('div');\n",
              "          docLink.innerHTML = docLinkHtml;\n",
              "          element.appendChild(docLink);\n",
              "        }\n",
              "      </script>\n",
              "    </div>\n",
              "  </div>\n",
              "  "
            ],
            "text/plain": [
              "                      roi_ID  area  ...  label  frame_number\n",
              "0  210815_0_1_0_mc_mix1_syt_    98  ...    tm2             0\n",
              "1  210815_0_1_0_mc_mix1_syt_    98  ...    tm2             1\n",
              "2  210815_0_1_0_mc_mix1_syt_    98  ...    tm2             2\n",
              "3  210815_0_1_0_mc_mix1_syt_    98  ...    tm2             3\n",
              "4  210815_0_1_0_mc_mix1_syt_    98  ...    tm2             4\n",
              "\n",
              "[5 rows x 8 columns]"
            ]
          },
          "metadata": {},
          "execution_count": 276
        }
      ]
    },
    {
      "cell_type": "code",
      "source": [
        "df['label'].value_counts()"
      ],
      "metadata": {
        "colab": {
          "base_uri": "https://localhost:8080/"
        },
        "id": "RF6LG1a0zAtG",
        "outputId": "13fdf31b-a353-4494-89be-cab68772c0de"
      },
      "execution_count": 277,
      "outputs": [
        {
          "output_type": "execute_result",
          "data": {
            "text/plain": [
              "tm2    363853\n",
              "tm4    207916\n",
              "t5     103958\n",
              "tm9     51979\n",
              "tm1     51979\n",
              "Name: label, dtype: int64"
            ]
          },
          "metadata": {},
          "execution_count": 277
        }
      ]
    },
    {
      "cell_type": "code",
      "source": [
        "df['resp_scaled'] = df['resp'] /df['resp'].abs().max()\n",
        "df['sq_difference'] = (df['resp_scaled']-df['stim1'])**2\n",
        "df['product'] = df['resp_scaled']*df['stim1']\n",
        "#df = df.loc[df['sq_difference'] >.5]"
      ],
      "metadata": {
        "id": "Ad31PgK5zt-R"
      },
      "execution_count": 278,
      "outputs": []
    },
    {
      "cell_type": "code",
      "source": [
        "#playing with visualizing the data, no separation with just this feature\n",
        "df_sample = df.sample(1000)\n",
        "sns.scatterplot(x=df_sample['stim1'], y=df_sample['resp_scaled'], hue=df_sample['label'])\n",
        "plt.legend()"
      ],
      "metadata": {
        "colab": {
          "base_uri": "https://localhost:8080/",
          "height": 296
        },
        "id": "CtQLEowYFaim",
        "outputId": "249ee96f-afc3-47e6-a43e-ba8b446170e2"
      },
      "execution_count": 279,
      "outputs": [
        {
          "output_type": "execute_result",
          "data": {
            "text/plain": [
              "<matplotlib.legend.Legend at 0x7f53646fce50>"
            ]
          },
          "metadata": {},
          "execution_count": 279
        },
        {
          "output_type": "display_data",
          "data": {
            "image/png": "[encoded data removed]",
            "text/plain": [
              "<Figure size 432x288 with 1 Axes>"
            ]
          },
          "metadata": {
            "needs_background": "light"
          }
        }
      ]
    },
    {
      "cell_type": "code",
      "source": [
        ""
      ],
      "metadata": {
        "id": "zR1MMD0rFo7V"
      },
      "execution_count": 279,
      "outputs": []
    },
    {
      "cell_type": "code",
      "source": [
        "#train test split by roi_ID so that no single roi is included in the training and testing data\n",
        "#Right now the split is random\n",
        "\n",
        "rois = df.drop_duplicates('roi_ID')[['roi_ID', 'label']]\n",
        "\n",
        "X = np.array(rois['roi_ID'])\n",
        "y = np.array(rois['label'])\n",
        "\n",
        "\n",
        "#split into training and testing - returns the indexes\n",
        "from sklearn.model_selection import StratifiedShuffleSplit\n",
        "sss = StratifiedShuffleSplit(n_splits=1, test_size=0.5, random_state=0)\n",
        "for train_index, test_index in sss.split(X, y):\n",
        "    print(\"TRAIN:\", train_index, \"TEST:\", test_index)\n",
        "\n",
        "#These are lists of the rois to be included in each split, not the actual data\n",
        "X_train_rois, X_test_rois = X[train_index], X[test_index]\n",
        "y_train, y_test = y[train_index], y[test_index]\n"
      ],
      "metadata": {
        "colab": {
          "base_uri": "https://localhost:8080/"
        },
        "id": "QoI2DsY9VI2j",
        "outputId": "f3bfa9c4-e05a-4f82-a325-7e1a70cfbc1c"
      },
      "execution_count": 280,
      "outputs": [
        {
          "output_type": "stream",
          "name": "stdout",
          "text": [
            "TRAIN: [130  23  17  74  32  97 105  43   5  46  92  65  29  13  71  39  19  16\n",
            "   7  62 162  91  99 157  63  54  56  49 131 144  87 103  15  12  94 129\n",
            "  21 124  25 116 154  80 143  86 119  55 155 120  47 163   4  96 127 101\n",
            " 156 115 134 102  98 123  28  70 159   3 110  59  78  45 108  33 150  22\n",
            "  81  20 161  36  83 137  58 152 148  44] TEST: [ 64  89 151  67 139  52 158 164 121  51  88  37 141   2  75 146 117 126\n",
            "   1  60  84  79  68  14  40  10 133  66  11 104 136 113  31  82 147  57\n",
            "  30 107  93 111  24 149 153   9  61 125   6  73 140  26 100 142 135 109\n",
            "  95 138  34  85  69   8  77 118  42  90  18 112 106 145  41 122  27  53\n",
            " 160  38  50 128 132   0  72 114  35  76  48]\n"
          ]
        }
      ]
    },
    {
      "cell_type": "code",
      "source": [
        "#use the roi_id's as indexes to split train and test from our full df\n",
        "X_train = df.query('roi_ID in @X_train_rois')[['sq_difference', 'product']]\n",
        "y_train = df.query('roi_ID in @X_train_rois')['label'] \n",
        "\n",
        "X_test = df.query('roi_ID in @X_test_rois')[['sq_difference','product']]\n",
        "y_test = df.query('roi_ID in @X_test_rois')['label']     \n",
        "\n",
        "#resample the training set to balance the classes (upsampling the underrepresented classes)\n",
        "from imblearn.over_sampling import SMOTE\n",
        "smote_nc = SMOTE(random_state=0)\n",
        "X_train_resampled, y_train_resampled = smote_nc.fit_resample(X_train, y_train)"
      ],
      "metadata": {
        "id": "DsFEcppmVtkv"
      },
      "execution_count": 281,
      "outputs": []
    },
    {
      "cell_type": "code",
      "source": [
        "#Scale based on X_train to avoid data leakage\n",
        "scaler = StandardScaler() \n",
        "scaler.fit(X_train_resampled)\n",
        "X_train_resampled = scaler.transform(X_train_resampled)  \n",
        "# apply same transformation to test data\n",
        "X_test = scaler.transform(X_test)"
      ],
      "metadata": {
        "id": "n-IjG4H4IWvX"
      },
      "execution_count": 282,
      "outputs": []
    },
    {
      "cell_type": "markdown",
      "source": [
        "# try a model and score it based on the most predicted class for each roi"
      ],
      "metadata": {
        "id": "yfcE0b5RQRAG"
      }
    },
    {
      "cell_type": "code",
      "source": [
        "#knn\n",
        "model = KNeighborsClassifier(100)\n",
        "model.fit(X_train_resampled, y_train_resampled)"
      ],
      "metadata": {
        "colab": {
          "base_uri": "https://localhost:8080/"
        },
        "id": "TfFapBmxFXQf",
        "outputId": "6b8913e5-bbd7-437f-ee5e-b6aa9190dfda"
      },
      "execution_count": 292,
      "outputs": [
        {
          "output_type": "execute_result",
          "data": {
            "text/plain": [
              "KNeighborsClassifier(n_neighbors=100)"
            ]
          },
          "metadata": {},
          "execution_count": 292
        }
      ]
    },
    {
      "cell_type": "code",
      "source": [
        "#return the predicted classes and probabilities\n",
        "preds_prob = model.predict_proba(X_test)\n",
        "preds = model.predict(X_test)\n",
        "print(model.classes_)\n",
        "preds_prob"
      ],
      "metadata": {
        "colab": {
          "base_uri": "https://localhost:8080/"
        },
        "id": "liOaHmEzIue8",
        "outputId": "a3c9e3a4-7b50-42e2-d5f2-0f0304b66c14"
      },
      "execution_count": 293,
      "outputs": [
        {
          "output_type": "stream",
          "name": "stdout",
          "text": [
            "['t5' 'tm1' 'tm2' 'tm4' 'tm9']\n"
          ]
        },
        {
          "output_type": "execute_result",
          "data": {
            "text/plain": [
              "array([[0.11, 0.13, 0.2 , 0.25, 0.31],\n",
              "       [0.05, 0.09, 0.24, 0.29, 0.33],\n",
              "       [0.09, 0.06, 0.31, 0.23, 0.31],\n",
              "       ...,\n",
              "       [0.01, 0.21, 0.24, 0.32, 0.22],\n",
              "       [0.02, 0.2 , 0.12, 0.36, 0.3 ],\n",
              "       [0.06, 0.28, 0.27, 0.27, 0.12]])"
            ]
          },
          "metadata": {},
          "execution_count": 293
        }
      ]
    },
    {
      "cell_type": "code",
      "source": [
        "print(model.score(X_test, y_test)) #accuracy based on frame-level predictions\n",
        "ConfusionMatrixDisplay.from_predictions(y_test, preds)"
      ],
      "metadata": {
        "colab": {
          "base_uri": "https://localhost:8080/",
          "height": 313
        },
        "id": "wyjguQC9I9wH",
        "outputId": "afb65595-002e-47e4-cd5e-67bf9d821467"
      },
      "execution_count": 294,
      "outputs": [
        {
          "output_type": "stream",
          "name": "stdout",
          "text": [
            "0.19213890626246716\n"
          ]
        },
        {
          "output_type": "execute_result",
          "data": {
            "text/plain": [
              "<sklearn.metrics._plot.confusion_matrix.ConfusionMatrixDisplay at 0x7f5364a4da90>"
            ]
          },
          "metadata": {},
          "execution_count": 294
        },
        {
          "output_type": "display_data",
          "data": {
            "image/png": "[encoded data removed]",
            "text/plain": [
              "<Figure size 432x288 with 2 Axes>"
            ]
          },
          "metadata": {
            "needs_background": "light"
          }
        }
      ]
    },
    {
      "cell_type": "code",
      "source": [
        "#add the classes and probabilities back to the df of test set records\n",
        "test_df = df.query('roi_ID in @X_test_rois')\n",
        "test_df[['t5', 'tm1', 'tm2', 'tm4', 'tm9']] = preds_prob\n",
        "test_df['pred'] = preds"
      ],
      "metadata": {
        "colab": {
          "base_uri": "https://localhost:8080/"
        },
        "id": "eQlaTIKEIuhT",
        "outputId": "300df090-f3d7-4fbc-a39f-3f99818a0cca"
      },
      "execution_count": 295,
      "outputs": [
        {
          "output_type": "stream",
          "name": "stderr",
          "text": [
            "/usr/local/lib/python3.7/dist-packages/pandas/core/frame.py:3678: SettingWithCopyWarning: \n",
            "A value is trying to be set on a copy of a slice from a DataFrame.\n",
            "Try using .loc[row_indexer,col_indexer] = value instead\n",
            "\n",
            "See the caveats in the documentation: https://pandas.pydata.org/pandas-docs/stable/user_guide/indexing.html#returning-a-view-versus-a-copy\n",
            "  self[col] = igetitem(value, i)\n",
            "/usr/local/lib/python3.7/dist-packages/ipykernel_launcher.py:4: SettingWithCopyWarning: \n",
            "A value is trying to be set on a copy of a slice from a DataFrame.\n",
            "Try using .loc[row_indexer,col_indexer] = value instead\n",
            "\n",
            "See the caveats in the documentation: https://pandas.pydata.org/pandas-docs/stable/user_guide/indexing.html#returning-a-view-versus-a-copy\n",
            "  after removing the cwd from sys.path.\n"
          ]
        }
      ]
    },
    {
      "cell_type": "code",
      "source": [
        "#groupby the roi_id and predicted class to see the number of times each cell was predicted which class\n",
        "#right now it classifies everything as tm1\n",
        "max_preds = test_df.groupby(['roi_ID', 'pred']).count() \\\n",
        "    .reset_index() \\\n",
        "    .sort_values(['roi_ID', 'label'], ascending = False) \\\n",
        "    .drop_duplicates('roi_ID', keep='first') \\\n",
        "    [['roi_ID', 'pred']] \\\n",
        "    .rename(columns = {'pred': 'most_predicted_class'}) \\\n",
        "    .set_index('roi_ID')\n"
      ],
      "metadata": {
        "id": "3vE-dlxBIuj7"
      },
      "execution_count": 296,
      "outputs": []
    },
    {
      "cell_type": "code",
      "source": [
        "max_preds.head()"
      ],
      "metadata": {
        "colab": {
          "base_uri": "https://localhost:8080/",
          "height": 238
        },
        "id": "7aFjVXshVr-t",
        "outputId": "382b81a6-0f75-4b9f-e821-5a737b107ad5"
      },
      "execution_count": 297,
      "outputs": [
        {
          "output_type": "execute_result",
          "data": {
            "text/html": [
              "\n",
              "  <div id=\"df-78d40c36-c626-486b-9a98-551d866da38f\">\n",
              "    <div class=\"colab-df-container\">\n",
              "      <div>\n",
              "<style scoped>\n",
              "    .dataframe tbody tr th:only-of-type {\n",
              "        vertical-align: middle;\n",
              "    }\n",
              "\n",
              "    .dataframe tbody tr th {\n",
              "        vertical-align: top;\n",
              "    }\n",
              "\n",
              "    .dataframe thead th {\n",
              "        text-align: right;\n",
              "    }\n",
              "</style>\n",
              "<table border=\"1\" class=\"dataframe\">\n",
              "  <thead>\n",
              "    <tr style=\"text-align: right;\">\n",
              "      <th></th>\n",
              "      <th>most_predicted_class</th>\n",
              "    </tr>\n",
              "    <tr>\n",
              "      <th>roi_ID</th>\n",
              "      <th></th>\n",
              "    </tr>\n",
              "  </thead>\n",
              "  <tbody>\n",
              "    <tr>\n",
              "      <th>210815_0_9_8_mc_mix1_syt_</th>\n",
              "      <td>t5</td>\n",
              "    </tr>\n",
              "    <tr>\n",
              "      <th>210815_0_9_6_mc_mix1_syt_</th>\n",
              "      <td>t5</td>\n",
              "    </tr>\n",
              "    <tr>\n",
              "      <th>210815_0_9_5_mc_mix1_syt_</th>\n",
              "      <td>t5</td>\n",
              "    </tr>\n",
              "    <tr>\n",
              "      <th>210815_0_9_2_mc_mix1_syt_</th>\n",
              "      <td>t5</td>\n",
              "    </tr>\n",
              "    <tr>\n",
              "      <th>210815_0_9_1_mc_mix1_syt_</th>\n",
              "      <td>t5</td>\n",
              "    </tr>\n",
              "  </tbody>\n",
              "</table>\n",
              "</div>\n",
              "      <button class=\"colab-df-convert\" onclick=\"convertToInteractive('df-78d40c36-c626-486b-9a98-551d866da38f')\"\n",
              "              title=\"Convert this dataframe to an interactive table.\"\n",
              "              style=\"display:none;\">\n",
              "        \n",
              "  <svg xmlns=\"http://www.w3.org/2000/svg\" height=\"24px\"viewBox=\"0 0 24 24\"\n",
              "       width=\"24px\">\n",
              "    <path d=\"M0 0h24v24H0V0z\" fill=\"none\"/>\n",
              "    <path d=\"M18.56 5.44l.94 2.06.94-2.06 2.06-.94-2.06-.94-.94-2.06-.94 2.06-2.06.94zm-11 1L8.5 8.5l.94-2.06 2.06-.94-2.06-.94L8.5 2.5l-.94 2.06-2.06.94zm10 10l.94 2.06.94-2.06 2.06-.94-2.06-.94-.94-2.06-.94 2.06-2.06.94z\"/><path d=\"M17.41 7.96l-1.37-1.37c-.4-.4-.92-.59-1.43-.59-.52 0-1.04.2-1.43.59L10.3 9.45l-7.72 7.72c-.78.78-.78 2.05 0 2.83L4 21.41c.39.39.9.59 1.41.59.51 0 1.02-.2 1.41-.59l7.78-7.78 2.81-2.81c.8-.78.8-2.07 0-2.86zM5.41 20L4 18.59l7.72-7.72 1.47 1.35L5.41 20z\"/>\n",
              "  </svg>\n",
              "      </button>\n",
              "      \n",
              "  <style>\n",
              "    .colab-df-container {\n",
              "      display:flex;\n",
              "      flex-wrap:wrap;\n",
              "      gap: 12px;\n",
              "    }\n",
              "\n",
              "    .colab-df-convert {\n",
              "      background-color: #E8F0FE;\n",
              "      border: none;\n",
              "      border-radius: 50%;\n",
              "      cursor: pointer;\n",
              "      display: none;\n",
              "      fill: #1967D2;\n",
              "      height: 32px;\n",
              "      padding: 0 0 0 0;\n",
              "      width: 32px;\n",
              "    }\n",
              "\n",
              "    .colab-df-convert:hover {\n",
              "      background-color: #E2EBFA;\n",
              "      box-shadow: 0px 1px 2px rgba(60, 64, 67, 0.3), 0px 1px 3px 1px rgba(60, 64, 67, 0.15);\n",
              "      fill: #174EA6;\n",
              "    }\n",
              "\n",
              "    [theme=dark] .colab-df-convert {\n",
              "      background-color: #3B4455;\n",
              "      fill: #D2E3FC;\n",
              "    }\n",
              "\n",
              "    [theme=dark] .colab-df-convert:hover {\n",
              "      background-color: #434B5C;\n",
              "      box-shadow: 0px 1px 3px 1px rgba(0, 0, 0, 0.15);\n",
              "      filter: drop-shadow(0px 1px 2px rgba(0, 0, 0, 0.3));\n",
              "      fill: #FFFFFF;\n",
              "    }\n",
              "  </style>\n",
              "\n",
              "      <script>\n",
              "        const buttonEl =\n",
              "          document.querySelector('#df-78d40c36-c626-486b-9a98-551d866da38f button.colab-df-convert');\n",
              "        buttonEl.style.display =\n",
              "          google.colab.kernel.accessAllowed ? 'block' : 'none';\n",
              "\n",
              "        async function convertToInteractive(key) {\n",
              "          const element = document.querySelector('#df-78d40c36-c626-486b-9a98-551d866da38f');\n",
              "          const dataTable =\n",
              "            await google.colab.kernel.invokeFunction('convertToInteractive',\n",
              "                                                     [key], {});\n",
              "          if (!dataTable) return;\n",
              "\n",
              "          const docLinkHtml = 'Like what you see? Visit the ' +\n",
              "            '<a target=\"_blank\" href=https://colab.research.google.com/notebooks/data_table.ipynb>data table notebook</a>'\n",
              "            + ' to learn more about interactive tables.';\n",
              "          element.innerHTML = '';\n",
              "          dataTable['output_type'] = 'display_data';\n",
              "          await google.colab.output.renderOutput(dataTable, element);\n",
              "          const docLink = document.createElement('div');\n",
              "          docLink.innerHTML = docLinkHtml;\n",
              "          element.appendChild(docLink);\n",
              "        }\n",
              "      </script>\n",
              "    </div>\n",
              "  </div>\n",
              "  "
            ],
            "text/plain": [
              "                          most_predicted_class\n",
              "roi_ID                                        \n",
              "210815_0_9_8_mc_mix1_syt_                   t5\n",
              "210815_0_9_6_mc_mix1_syt_                   t5\n",
              "210815_0_9_5_mc_mix1_syt_                   t5\n",
              "210815_0_9_2_mc_mix1_syt_                   t5\n",
              "210815_0_9_1_mc_mix1_syt_                   t5"
            ]
          },
          "metadata": {},
          "execution_count": 297
        }
      ]
    },
    {
      "cell_type": "code",
      "source": [
        "#get the actual labels for the rois in the test set\n",
        "test_labels = test_df[['roi_ID', 'label']].drop_duplicates('roi_ID').set_index('roi_ID')\n",
        "test_labels.head()"
      ],
      "metadata": {
        "colab": {
          "base_uri": "https://localhost:8080/",
          "height": 238
        },
        "id": "gx3FUpjjVePe",
        "outputId": "261cba10-7b7a-4687-a341-d0629eb7b25b"
      },
      "execution_count": 298,
      "outputs": [
        {
          "output_type": "execute_result",
          "data": {
            "text/html": [
              "\n",
              "  <div id=\"df-cba35700-fd15-47af-9e7c-f673612520ba\">\n",
              "    <div class=\"colab-df-container\">\n",
              "      <div>\n",
              "<style scoped>\n",
              "    .dataframe tbody tr th:only-of-type {\n",
              "        vertical-align: middle;\n",
              "    }\n",
              "\n",
              "    .dataframe tbody tr th {\n",
              "        vertical-align: top;\n",
              "    }\n",
              "\n",
              "    .dataframe thead th {\n",
              "        text-align: right;\n",
              "    }\n",
              "</style>\n",
              "<table border=\"1\" class=\"dataframe\">\n",
              "  <thead>\n",
              "    <tr style=\"text-align: right;\">\n",
              "      <th></th>\n",
              "      <th>label</th>\n",
              "    </tr>\n",
              "    <tr>\n",
              "      <th>roi_ID</th>\n",
              "      <th></th>\n",
              "    </tr>\n",
              "  </thead>\n",
              "  <tbody>\n",
              "    <tr>\n",
              "      <th>210815_0_1_0_mc_mix1_syt_</th>\n",
              "      <td>tm2</td>\n",
              "    </tr>\n",
              "    <tr>\n",
              "      <th>210815_0_1_1_mc_mix1_syt_</th>\n",
              "      <td>tm2</td>\n",
              "    </tr>\n",
              "    <tr>\n",
              "      <th>210815_0_1_2_mc_mix1_syt_</th>\n",
              "      <td>tm4</td>\n",
              "    </tr>\n",
              "    <tr>\n",
              "      <th>210815_0_1_6_mc_mix1_syt_</th>\n",
              "      <td>tm1</td>\n",
              "    </tr>\n",
              "    <tr>\n",
              "      <th>210815_0_1_8_mc_mix1_syt_</th>\n",
              "      <td>tm4</td>\n",
              "    </tr>\n",
              "  </tbody>\n",
              "</table>\n",
              "</div>\n",
              "      <button class=\"colab-df-convert\" onclick=\"convertToInteractive('df-cba35700-fd15-47af-9e7c-f673612520ba')\"\n",
              "              title=\"Convert this dataframe to an interactive table.\"\n",
              "              style=\"display:none;\">\n",
              "        \n",
              "  <svg xmlns=\"http://www.w3.org/2000/svg\" height=\"24px\"viewBox=\"0 0 24 24\"\n",
              "       width=\"24px\">\n",
              "    <path d=\"M0 0h24v24H0V0z\" fill=\"none\"/>\n",
              "    <path d=\"M18.56 5.44l.94 2.06.94-2.06 2.06-.94-2.06-.94-.94-2.06-.94 2.06-2.06.94zm-11 1L8.5 8.5l.94-2.06 2.06-.94-2.06-.94L8.5 2.5l-.94 2.06-2.06.94zm10 10l.94 2.06.94-2.06 2.06-.94-2.06-.94-.94-2.06-.94 2.06-2.06.94z\"/><path d=\"M17.41 7.96l-1.37-1.37c-.4-.4-.92-.59-1.43-.59-.52 0-1.04.2-1.43.59L10.3 9.45l-7.72 7.72c-.78.78-.78 2.05 0 2.83L4 21.41c.39.39.9.59 1.41.59.51 0 1.02-.2 1.41-.59l7.78-7.78 2.81-2.81c.8-.78.8-2.07 0-2.86zM5.41 20L4 18.59l7.72-7.72 1.47 1.35L5.41 20z\"/>\n",
              "  </svg>\n",
              "      </button>\n",
              "      \n",
              "  <style>\n",
              "    .colab-df-container {\n",
              "      display:flex;\n",
              "      flex-wrap:wrap;\n",
              "      gap: 12px;\n",
              "    }\n",
              "\n",
              "    .colab-df-convert {\n",
              "      background-color: #E8F0FE;\n",
              "      border: none;\n",
              "      border-radius: 50%;\n",
              "      cursor: pointer;\n",
              "      display: none;\n",
              "      fill: #1967D2;\n",
              "      height: 32px;\n",
              "      padding: 0 0 0 0;\n",
              "      width: 32px;\n",
              "    }\n",
              "\n",
              "    .colab-df-convert:hover {\n",
              "      background-color: #E2EBFA;\n",
              "      box-shadow: 0px 1px 2px rgba(60, 64, 67, 0.3), 0px 1px 3px 1px rgba(60, 64, 67, 0.15);\n",
              "      fill: #174EA6;\n",
              "    }\n",
              "\n",
              "    [theme=dark] .colab-df-convert {\n",
              "      background-color: #3B4455;\n",
              "      fill: #D2E3FC;\n",
              "    }\n",
              "\n",
              "    [theme=dark] .colab-df-convert:hover {\n",
              "      background-color: #434B5C;\n",
              "      box-shadow: 0px 1px 3px 1px rgba(0, 0, 0, 0.15);\n",
              "      filter: drop-shadow(0px 1px 2px rgba(0, 0, 0, 0.3));\n",
              "      fill: #FFFFFF;\n",
              "    }\n",
              "  </style>\n",
              "\n",
              "      <script>\n",
              "        const buttonEl =\n",
              "          document.querySelector('#df-cba35700-fd15-47af-9e7c-f673612520ba button.colab-df-convert');\n",
              "        buttonEl.style.display =\n",
              "          google.colab.kernel.accessAllowed ? 'block' : 'none';\n",
              "\n",
              "        async function convertToInteractive(key) {\n",
              "          const element = document.querySelector('#df-cba35700-fd15-47af-9e7c-f673612520ba');\n",
              "          const dataTable =\n",
              "            await google.colab.kernel.invokeFunction('convertToInteractive',\n",
              "                                                     [key], {});\n",
              "          if (!dataTable) return;\n",
              "\n",
              "          const docLinkHtml = 'Like what you see? Visit the ' +\n",
              "            '<a target=\"_blank\" href=https://colab.research.google.com/notebooks/data_table.ipynb>data table notebook</a>'\n",
              "            + ' to learn more about interactive tables.';\n",
              "          element.innerHTML = '';\n",
              "          dataTable['output_type'] = 'display_data';\n",
              "          await google.colab.output.renderOutput(dataTable, element);\n",
              "          const docLink = document.createElement('div');\n",
              "          docLink.innerHTML = docLinkHtml;\n",
              "          element.appendChild(docLink);\n",
              "        }\n",
              "      </script>\n",
              "    </div>\n",
              "  </div>\n",
              "  "
            ],
            "text/plain": [
              "                          label\n",
              "roi_ID                         \n",
              "210815_0_1_0_mc_mix1_syt_   tm2\n",
              "210815_0_1_1_mc_mix1_syt_   tm2\n",
              "210815_0_1_2_mc_mix1_syt_   tm4\n",
              "210815_0_1_6_mc_mix1_syt_   tm1\n",
              "210815_0_1_8_mc_mix1_syt_   tm4"
            ]
          },
          "metadata": {},
          "execution_count": 298
        }
      ]
    },
    {
      "cell_type": "code",
      "source": [
        "#join the actual labels to the most predicted class labels\n",
        "max_preds = max_preds.join(test_labels)\n",
        "max_preds.head()"
      ],
      "metadata": {
        "colab": {
          "base_uri": "https://localhost:8080/",
          "height": 238
        },
        "id": "cXFjBXjUSqhL",
        "outputId": "f70aa4e0-dba6-4746-ea65-8ae9345924a1"
      },
      "execution_count": 299,
      "outputs": [
        {
          "output_type": "execute_result",
          "data": {
            "text/html": [
              "\n",
              "  <div id=\"df-b943944f-d76f-4de0-9d63-d6ccad632507\">\n",
              "    <div class=\"colab-df-container\">\n",
              "      <div>\n",
              "<style scoped>\n",
              "    .dataframe tbody tr th:only-of-type {\n",
              "        vertical-align: middle;\n",
              "    }\n",
              "\n",
              "    .dataframe tbody tr th {\n",
              "        vertical-align: top;\n",
              "    }\n",
              "\n",
              "    .dataframe thead th {\n",
              "        text-align: right;\n",
              "    }\n",
              "</style>\n",
              "<table border=\"1\" class=\"dataframe\">\n",
              "  <thead>\n",
              "    <tr style=\"text-align: right;\">\n",
              "      <th></th>\n",
              "      <th>most_predicted_class</th>\n",
              "      <th>label</th>\n",
              "    </tr>\n",
              "    <tr>\n",
              "      <th>roi_ID</th>\n",
              "      <th></th>\n",
              "      <th></th>\n",
              "    </tr>\n",
              "  </thead>\n",
              "  <tbody>\n",
              "    <tr>\n",
              "      <th>210815_0_9_8_mc_mix1_syt_</th>\n",
              "      <td>t5</td>\n",
              "      <td>tm4</td>\n",
              "    </tr>\n",
              "    <tr>\n",
              "      <th>210815_0_9_6_mc_mix1_syt_</th>\n",
              "      <td>t5</td>\n",
              "      <td>tm1</td>\n",
              "    </tr>\n",
              "    <tr>\n",
              "      <th>210815_0_9_5_mc_mix1_syt_</th>\n",
              "      <td>t5</td>\n",
              "      <td>tm9</td>\n",
              "    </tr>\n",
              "    <tr>\n",
              "      <th>210815_0_9_2_mc_mix1_syt_</th>\n",
              "      <td>t5</td>\n",
              "      <td>tm4</td>\n",
              "    </tr>\n",
              "    <tr>\n",
              "      <th>210815_0_9_1_mc_mix1_syt_</th>\n",
              "      <td>t5</td>\n",
              "      <td>tm2</td>\n",
              "    </tr>\n",
              "  </tbody>\n",
              "</table>\n",
              "</div>\n",
              "      <button class=\"colab-df-convert\" onclick=\"convertToInteractive('df-b943944f-d76f-4de0-9d63-d6ccad632507')\"\n",
              "              title=\"Convert this dataframe to an interactive table.\"\n",
              "              style=\"display:none;\">\n",
              "        \n",
              "  <svg xmlns=\"http://www.w3.org/2000/svg\" height=\"24px\"viewBox=\"0 0 24 24\"\n",
              "       width=\"24px\">\n",
              "    <path d=\"M0 0h24v24H0V0z\" fill=\"none\"/>\n",
              "    <path d=\"M18.56 5.44l.94 2.06.94-2.06 2.06-.94-2.06-.94-.94-2.06-.94 2.06-2.06.94zm-11 1L8.5 8.5l.94-2.06 2.06-.94-2.06-.94L8.5 2.5l-.94 2.06-2.06.94zm10 10l.94 2.06.94-2.06 2.06-.94-2.06-.94-.94-2.06-.94 2.06-2.06.94z\"/><path d=\"M17.41 7.96l-1.37-1.37c-.4-.4-.92-.59-1.43-.59-.52 0-1.04.2-1.43.59L10.3 9.45l-7.72 7.72c-.78.78-.78 2.05 0 2.83L4 21.41c.39.39.9.59 1.41.59.51 0 1.02-.2 1.41-.59l7.78-7.78 2.81-2.81c.8-.78.8-2.07 0-2.86zM5.41 20L4 18.59l7.72-7.72 1.47 1.35L5.41 20z\"/>\n",
              "  </svg>\n",
              "      </button>\n",
              "      \n",
              "  <style>\n",
              "    .colab-df-container {\n",
              "      display:flex;\n",
              "      flex-wrap:wrap;\n",
              "      gap: 12px;\n",
              "    }\n",
              "\n",
              "    .colab-df-convert {\n",
              "      background-color: #E8F0FE;\n",
              "      border: none;\n",
              "      border-radius: 50%;\n",
              "      cursor: pointer;\n",
              "      display: none;\n",
              "      fill: #1967D2;\n",
              "      height: 32px;\n",
              "      padding: 0 0 0 0;\n",
              "      width: 32px;\n",
              "    }\n",
              "\n",
              "    .colab-df-convert:hover {\n",
              "      background-color: #E2EBFA;\n",
              "      box-shadow: 0px 1px 2px rgba(60, 64, 67, 0.3), 0px 1px 3px 1px rgba(60, 64, 67, 0.15);\n",
              "      fill: #174EA6;\n",
              "    }\n",
              "\n",
              "    [theme=dark] .colab-df-convert {\n",
              "      background-color: #3B4455;\n",
              "      fill: #D2E3FC;\n",
              "    }\n",
              "\n",
              "    [theme=dark] .colab-df-convert:hover {\n",
              "      background-color: #434B5C;\n",
              "      box-shadow: 0px 1px 3px 1px rgba(0, 0, 0, 0.15);\n",
              "      filter: drop-shadow(0px 1px 2px rgba(0, 0, 0, 0.3));\n",
              "      fill: #FFFFFF;\n",
              "    }\n",
              "  </style>\n",
              "\n",
              "      <script>\n",
              "        const buttonEl =\n",
              "          document.querySelector('#df-b943944f-d76f-4de0-9d63-d6ccad632507 button.colab-df-convert');\n",
              "        buttonEl.style.display =\n",
              "          google.colab.kernel.accessAllowed ? 'block' : 'none';\n",
              "\n",
              "        async function convertToInteractive(key) {\n",
              "          const element = document.querySelector('#df-b943944f-d76f-4de0-9d63-d6ccad632507');\n",
              "          const dataTable =\n",
              "            await google.colab.kernel.invokeFunction('convertToInteractive',\n",
              "                                                     [key], {});\n",
              "          if (!dataTable) return;\n",
              "\n",
              "          const docLinkHtml = 'Like what you see? Visit the ' +\n",
              "            '<a target=\"_blank\" href=https://colab.research.google.com/notebooks/data_table.ipynb>data table notebook</a>'\n",
              "            + ' to learn more about interactive tables.';\n",
              "          element.innerHTML = '';\n",
              "          dataTable['output_type'] = 'display_data';\n",
              "          await google.colab.output.renderOutput(dataTable, element);\n",
              "          const docLink = document.createElement('div');\n",
              "          docLink.innerHTML = docLinkHtml;\n",
              "          element.appendChild(docLink);\n",
              "        }\n",
              "      </script>\n",
              "    </div>\n",
              "  </div>\n",
              "  "
            ],
            "text/plain": [
              "                          most_predicted_class label\n",
              "roi_ID                                              \n",
              "210815_0_9_8_mc_mix1_syt_                   t5   tm4\n",
              "210815_0_9_6_mc_mix1_syt_                   t5   tm1\n",
              "210815_0_9_5_mc_mix1_syt_                   t5   tm9\n",
              "210815_0_9_2_mc_mix1_syt_                   t5   tm4\n",
              "210815_0_9_1_mc_mix1_syt_                   t5   tm2"
            ]
          },
          "metadata": {},
          "execution_count": 299
        }
      ]
    },
    {
      "cell_type": "code",
      "source": [
        "#show the confusion matrix for the test set rois\n",
        "ConfusionMatrixDisplay.from_predictions(max_preds['label'], max_preds['most_predicted_class'])"
      ],
      "metadata": {
        "colab": {
          "base_uri": "https://localhost:8080/",
          "height": 300
        },
        "id": "Ful8fpWETMq0",
        "outputId": "cf4af218-6e19-4d11-f4f3-bcb0f9f28058"
      },
      "execution_count": 300,
      "outputs": [
        {
          "output_type": "execute_result",
          "data": {
            "text/plain": [
              "<sklearn.metrics._plot.confusion_matrix.ConfusionMatrixDisplay at 0x7f53625aec10>"
            ]
          },
          "metadata": {},
          "execution_count": 300
        },
        {
          "output_type": "display_data",
          "data": {
            "image/png": "[encoded data removed]",
            "text/plain": [
              "<Figure size 432x288 with 2 Axes>"
            ]
          },
          "metadata": {
            "needs_background": "light"
          }
        }
      ]
    },
    {
      "cell_type": "code",
      "source": [
        "# # Code source: Gaël Varoquaux\n",
        "# #              Andreas Müller\n",
        "# # Modified for documentation by Jaques Grobler\n",
        "# # License: BSD 3 clause\n",
        "\n",
        "\n",
        "\n",
        "# names = [\n",
        "#     \"Nearest Neighbors\",\n",
        "#     \"Linear SVM\",\n",
        "#     \"RBF SVM\",\n",
        "#     \"Gaussian Process\",\n",
        "#     \"Decision Tree\",\n",
        "#     \"Random Forest\",\n",
        "#     \"Neural Net\",\n",
        "#     \"AdaBoost\",\n",
        "#     \"Naive Bayes\",\n",
        "#     \"QDA\",\n",
        "# ]\n",
        "\n",
        "# classifiers = [\n",
        "#     KNeighborsClassifier(3),\n",
        "#     SVC(kernel=\"linear\", C=0.025),\n",
        "#     SVC(gamma=2, C=1),\n",
        "#     #GaussianProcessClassifier(1.0 * RBF(1.0)),\n",
        "#     DecisionTreeClassifier(max_depth=3),\n",
        "#     RandomForestClassifier(max_depth=3, n_estimators=10, max_features=1),\n",
        "#     MLPClassifier(alpha=.01, max_iter=1000),\n",
        "#     AdaBoostClassifier(),\n",
        "#     GaussianNB(),\n",
        "#     QuadraticDiscriminantAnalysis(),\n",
        "# ]\n",
        "\n",
        "\n",
        "# # # preprocess dataset, split into training and test part\n",
        "# # X_train, X_test, y_train, y_test = train_test_split(\n",
        "# #     X_resampled, y_resampled, test_size=0.3, random_state=101\n",
        "# # )\n",
        "\n",
        "# #Scale based on X_train to avoid data leakage\n",
        "# scaler = StandardScaler() \n",
        "# scaler.fit(X_train)\n",
        "# X_train = scaler.transform(X_train)  \n",
        "# # apply same transformation to test data\n",
        "# X_test = scaler.transform(X_test)\n",
        "\n",
        "\n",
        "# # iterate over classifiers\n",
        "# for name, clf in zip(names, classifiers):\n",
        "#     clf.fit(X_train, y_train)\n",
        "#     score = clf.score(X_test, y_test)\n",
        "#     print(f'{name}: score: {score}')\n",
        "\n",
        "#     preds = clf.predict(X_test)\n",
        "#     ConfusionMatrixDisplay.from_predictions(y_test, preds)\n",
        "#     plt.show()\n"
      ],
      "metadata": {
        "id": "hNqSyVKdyPqB"
      },
      "execution_count": 208,
      "outputs": []
    },
    {
      "cell_type": "code",
      "source": [
        ""
      ],
      "metadata": {
        "id": "ya9QlaeDiyWP"
      },
      "execution_count": null,
      "outputs": []
    }
  ]
}