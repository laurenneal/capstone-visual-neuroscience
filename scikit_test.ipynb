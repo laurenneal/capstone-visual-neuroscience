{
  "nbformat": 4,
  "nbformat_minor": 0,
  "metadata": {
    "colab": {
      "name": "scikit test.ipynb",
      "provenance": [],
      "collapsed_sections": [],
      "authorship_tag": "ABX9TyOG7qzTa3suvvxUa7iqYtdF",
      "include_colab_link": true
    },
    "kernelspec": {
      "name": "python3",
      "display_name": "Python 3"
    },
    "language_info": {
      "name": "python"
    }
  },
  "cells": [
    {
      "cell_type": "markdown",
      "metadata": {
        "id": "view-in-github",
        "colab_type": "text"
      },
      "source": [
        "<a href=\"https://colab.research.google.com/github/laurenneal/capstone-visual-neuroscience/blob/Dylan/scikit_test.ipynb\" target=\"_parent\"><img src=\"https://colab.research.google.com/assets/colab-badge.svg\" alt=\"Open In Colab\"/></a>"
      ]
    },
    {
      "cell_type": "code",
      "execution_count": 1,
      "metadata": {
        "colab": {
          "base_uri": "https://localhost:8080/"
        },
        "id": "XYt9E3-NyLo0",
        "outputId": "5703abc7-a5de-4783-d4c6-ca9fe91b3971"
      },
      "outputs": [
        {
          "output_type": "stream",
          "name": "stdout",
          "text": [
            "Mounted at /content/drive\n"
          ]
        }
      ],
      "source": [
        "from google.colab import drive\n",
        "drive.mount('/content/drive')"
      ]
    },
    {
      "cell_type": "code",
      "source": [
        "#imports\n",
        "import pandas as pd\n",
        "import os\n",
        "import random\n",
        "\n",
        "import numpy as np\n",
        "import matplotlib.pyplot as plt\n",
        "from matplotlib.colors import ListedColormap\n",
        "from sklearn.model_selection import train_test_split\n",
        "from sklearn.preprocessing import StandardScaler\n",
        "from sklearn.datasets import make_moons, make_circles, make_classification\n",
        "from sklearn.neural_network import MLPClassifier\n",
        "from sklearn.neighbors import KNeighborsClassifier\n",
        "from sklearn.svm import SVC\n",
        "from sklearn.gaussian_process import GaussianProcessClassifier\n",
        "from sklearn.gaussian_process.kernels import RBF\n",
        "from sklearn.tree import DecisionTreeClassifier\n",
        "from sklearn.ensemble import RandomForestClassifier, AdaBoostClassifier\n",
        "from sklearn.naive_bayes import GaussianNB\n",
        "from sklearn.discriminant_analysis import QuadraticDiscriminantAnalysis\n",
        "from sklearn.metrics import confusion_matrix\n",
        "from sklearn.metrics import ConfusionMatrixDisplay"
      ],
      "metadata": {
        "id": "rSe6lt-0RP-Q"
      },
      "execution_count": 17,
      "outputs": []
    },
    {
      "cell_type": "code",
      "source": [
        "#Get the filepaths to the csv's we're interested in\n",
        "\n",
        "root = '/content/drive/MyDrive/DS6011_Capstone_VisualNeuroscience/Seeded_CNMF/Extracted_Features/210815_0_allStacks_mc_mix1_syt_rawExtracts/1 Frame/'\n",
        "files = os.listdir(root)\n",
        "#spatial_files = [s for s in spatial_files if date_fly in s and '.h5' in s]\n",
        "filepaths = [root + s for s in files]\n",
        "filepaths"
      ],
      "metadata": {
        "colab": {
          "base_uri": "https://localhost:8080/"
        },
        "id": "I__7I8GjQoeR",
        "outputId": "18dd82ef-e90d-46fa-84b7-7e3b7ddae7dd"
      },
      "execution_count": 4,
      "outputs": [
        {
          "output_type": "execute_result",
          "data": {
            "text/plain": [
              "['/content/drive/MyDrive/DS6011_Capstone_VisualNeuroscience/Seeded_CNMF/Extracted_Features/210815_0_allStacks_mc_mix1_syt_rawExtracts/1 Frame/210815_0_1_mc_mix1_syt_1frameWindow_rawExtract.csv',\n",
              " '/content/drive/MyDrive/DS6011_Capstone_VisualNeuroscience/Seeded_CNMF/Extracted_Features/210815_0_allStacks_mc_mix1_syt_rawExtracts/1 Frame/210815_0_2_mc_mix1_syt_1frameWindow_rawExtract.csv',\n",
              " '/content/drive/MyDrive/DS6011_Capstone_VisualNeuroscience/Seeded_CNMF/Extracted_Features/210815_0_allStacks_mc_mix1_syt_rawExtracts/1 Frame/210815_0_3_mc_mix1_syt_1frameWindow_rawExtract.csv',\n",
              " '/content/drive/MyDrive/DS6011_Capstone_VisualNeuroscience/Seeded_CNMF/Extracted_Features/210815_0_allStacks_mc_mix1_syt_rawExtracts/1 Frame/210815_0_4_mc_mix1_syt_1frameWindow_rawExtract.csv',\n",
              " '/content/drive/MyDrive/DS6011_Capstone_VisualNeuroscience/Seeded_CNMF/Extracted_Features/210815_0_allStacks_mc_mix1_syt_rawExtracts/1 Frame/210815_0_5_mc_mix1_syt_1frameWindow_rawExtract.csv',\n",
              " '/content/drive/MyDrive/DS6011_Capstone_VisualNeuroscience/Seeded_CNMF/Extracted_Features/210815_0_allStacks_mc_mix1_syt_rawExtracts/1 Frame/210815_0_6_mc_mix1_syt_1frameWindow_rawExtract.csv',\n",
              " '/content/drive/MyDrive/DS6011_Capstone_VisualNeuroscience/Seeded_CNMF/Extracted_Features/210815_0_allStacks_mc_mix1_syt_rawExtracts/1 Frame/210815_0_7_mc_mix1_syt_1frameWindow_rawExtract.csv',\n",
              " '/content/drive/MyDrive/DS6011_Capstone_VisualNeuroscience/Seeded_CNMF/Extracted_Features/210815_0_allStacks_mc_mix1_syt_rawExtracts/1 Frame/210815_0_8_mc_mix1_syt_1frameWindow_rawExtract.csv',\n",
              " '/content/drive/MyDrive/DS6011_Capstone_VisualNeuroscience/Seeded_CNMF/Extracted_Features/210815_0_allStacks_mc_mix1_syt_rawExtracts/1 Frame/210815_0_9_mc_mix1_syt_1frameWindow_rawExtract.csv',\n",
              " '/content/drive/MyDrive/DS6011_Capstone_VisualNeuroscience/Seeded_CNMF/Extracted_Features/210815_0_allStacks_mc_mix1_syt_rawExtracts/1 Frame/210815_0_10_mc_mix1_syt_1frameWindow_rawExtract.csv',\n",
              " '/content/drive/MyDrive/DS6011_Capstone_VisualNeuroscience/Seeded_CNMF/Extracted_Features/210815_0_allStacks_mc_mix1_syt_rawExtracts/1 Frame/210815_0_11_mc_mix1_syt_1frameWindow_rawExtract.csv']"
            ]
          },
          "metadata": {},
          "execution_count": 4
        }
      ]
    },
    {
      "cell_type": "code",
      "source": [
        "#pull in the single framed features\n",
        "df = pd.concat(map(pd.read_csv, filepaths), ignore_index=True)\n",
        "\n",
        "#drop duplicates and sample just 5000 obs for speed, need more observations for actually training\n",
        "df = df.drop(columns = ['Unnamed: 0']).drop_duplicates()\n",
        "df.head()"
      ],
      "metadata": {
        "colab": {
          "base_uri": "https://localhost:8080/",
          "height": 206
        },
        "id": "liYdsX9KyZmh",
        "outputId": "c5f48f6e-6506-4081-ac34-82ece2bf349f"
      },
      "execution_count": 102,
      "outputs": [
        {
          "output_type": "execute_result",
          "data": {
            "text/html": [
              "\n",
              "  <div id=\"df-3373d4e7-fc71-4e9b-8d8e-1d7fc54d9231\">\n",
              "    <div class=\"colab-df-container\">\n",
              "      <div>\n",
              "<style scoped>\n",
              "    .dataframe tbody tr th:only-of-type {\n",
              "        vertical-align: middle;\n",
              "    }\n",
              "\n",
              "    .dataframe tbody tr th {\n",
              "        vertical-align: top;\n",
              "    }\n",
              "\n",
              "    .dataframe thead th {\n",
              "        text-align: right;\n",
              "    }\n",
              "</style>\n",
              "<table border=\"1\" class=\"dataframe\">\n",
              "  <thead>\n",
              "    <tr style=\"text-align: right;\">\n",
              "      <th></th>\n",
              "      <th>roi_ID</th>\n",
              "      <th>area</th>\n",
              "      <th>center_of_mass_row</th>\n",
              "      <th>center_of_mass_column</th>\n",
              "      <th>resp</th>\n",
              "      <th>stim1</th>\n",
              "      <th>label</th>\n",
              "      <th>frame_number</th>\n",
              "    </tr>\n",
              "  </thead>\n",
              "  <tbody>\n",
              "    <tr>\n",
              "      <th>0</th>\n",
              "      <td>210815_0_1_0_mc_mix1_syt_</td>\n",
              "      <td>98</td>\n",
              "      <td>33.969388</td>\n",
              "      <td>76.22449</td>\n",
              "      <td>0.244535</td>\n",
              "      <td>-0.700161</td>\n",
              "      <td>tm2</td>\n",
              "      <td>0</td>\n",
              "    </tr>\n",
              "    <tr>\n",
              "      <th>1</th>\n",
              "      <td>210815_0_1_0_mc_mix1_syt_</td>\n",
              "      <td>98</td>\n",
              "      <td>33.969388</td>\n",
              "      <td>76.22449</td>\n",
              "      <td>0.398458</td>\n",
              "      <td>-0.700161</td>\n",
              "      <td>tm2</td>\n",
              "      <td>1</td>\n",
              "    </tr>\n",
              "    <tr>\n",
              "      <th>2</th>\n",
              "      <td>210815_0_1_0_mc_mix1_syt_</td>\n",
              "      <td>98</td>\n",
              "      <td>33.969388</td>\n",
              "      <td>76.22449</td>\n",
              "      <td>0.619290</td>\n",
              "      <td>-0.405675</td>\n",
              "      <td>tm2</td>\n",
              "      <td>2</td>\n",
              "    </tr>\n",
              "    <tr>\n",
              "      <th>3</th>\n",
              "      <td>210815_0_1_0_mc_mix1_syt_</td>\n",
              "      <td>98</td>\n",
              "      <td>33.969388</td>\n",
              "      <td>76.22449</td>\n",
              "      <td>0.627615</td>\n",
              "      <td>0.772268</td>\n",
              "      <td>tm2</td>\n",
              "      <td>3</td>\n",
              "    </tr>\n",
              "    <tr>\n",
              "      <th>4</th>\n",
              "      <td>210815_0_1_0_mc_mix1_syt_</td>\n",
              "      <td>98</td>\n",
              "      <td>33.969388</td>\n",
              "      <td>76.22449</td>\n",
              "      <td>0.611509</td>\n",
              "      <td>0.772268</td>\n",
              "      <td>tm2</td>\n",
              "      <td>4</td>\n",
              "    </tr>\n",
              "  </tbody>\n",
              "</table>\n",
              "</div>\n",
              "      <button class=\"colab-df-convert\" onclick=\"convertToInteractive('df-3373d4e7-fc71-4e9b-8d8e-1d7fc54d9231')\"\n",
              "              title=\"Convert this dataframe to an interactive table.\"\n",
              "              style=\"display:none;\">\n",
              "        \n",
              "  <svg xmlns=\"http://www.w3.org/2000/svg\" height=\"24px\"viewBox=\"0 0 24 24\"\n",
              "       width=\"24px\">\n",
              "    <path d=\"M0 0h24v24H0V0z\" fill=\"none\"/>\n",
              "    <path d=\"M18.56 5.44l.94 2.06.94-2.06 2.06-.94-2.06-.94-.94-2.06-.94 2.06-2.06.94zm-11 1L8.5 8.5l.94-2.06 2.06-.94-2.06-.94L8.5 2.5l-.94 2.06-2.06.94zm10 10l.94 2.06.94-2.06 2.06-.94-2.06-.94-.94-2.06-.94 2.06-2.06.94z\"/><path d=\"M17.41 7.96l-1.37-1.37c-.4-.4-.92-.59-1.43-.59-.52 0-1.04.2-1.43.59L10.3 9.45l-7.72 7.72c-.78.78-.78 2.05 0 2.83L4 21.41c.39.39.9.59 1.41.59.51 0 1.02-.2 1.41-.59l7.78-7.78 2.81-2.81c.8-.78.8-2.07 0-2.86zM5.41 20L4 18.59l7.72-7.72 1.47 1.35L5.41 20z\"/>\n",
              "  </svg>\n",
              "      </button>\n",
              "      \n",
              "  <style>\n",
              "    .colab-df-container {\n",
              "      display:flex;\n",
              "      flex-wrap:wrap;\n",
              "      gap: 12px;\n",
              "    }\n",
              "\n",
              "    .colab-df-convert {\n",
              "      background-color: #E8F0FE;\n",
              "      border: none;\n",
              "      border-radius: 50%;\n",
              "      cursor: pointer;\n",
              "      display: none;\n",
              "      fill: #1967D2;\n",
              "      height: 32px;\n",
              "      padding: 0 0 0 0;\n",
              "      width: 32px;\n",
              "    }\n",
              "\n",
              "    .colab-df-convert:hover {\n",
              "      background-color: #E2EBFA;\n",
              "      box-shadow: 0px 1px 2px rgba(60, 64, 67, 0.3), 0px 1px 3px 1px rgba(60, 64, 67, 0.15);\n",
              "      fill: #174EA6;\n",
              "    }\n",
              "\n",
              "    [theme=dark] .colab-df-convert {\n",
              "      background-color: #3B4455;\n",
              "      fill: #D2E3FC;\n",
              "    }\n",
              "\n",
              "    [theme=dark] .colab-df-convert:hover {\n",
              "      background-color: #434B5C;\n",
              "      box-shadow: 0px 1px 3px 1px rgba(0, 0, 0, 0.15);\n",
              "      filter: drop-shadow(0px 1px 2px rgba(0, 0, 0, 0.3));\n",
              "      fill: #FFFFFF;\n",
              "    }\n",
              "  </style>\n",
              "\n",
              "      <script>\n",
              "        const buttonEl =\n",
              "          document.querySelector('#df-3373d4e7-fc71-4e9b-8d8e-1d7fc54d9231 button.colab-df-convert');\n",
              "        buttonEl.style.display =\n",
              "          google.colab.kernel.accessAllowed ? 'block' : 'none';\n",
              "\n",
              "        async function convertToInteractive(key) {\n",
              "          const element = document.querySelector('#df-3373d4e7-fc71-4e9b-8d8e-1d7fc54d9231');\n",
              "          const dataTable =\n",
              "            await google.colab.kernel.invokeFunction('convertToInteractive',\n",
              "                                                     [key], {});\n",
              "          if (!dataTable) return;\n",
              "\n",
              "          const docLinkHtml = 'Like what you see? Visit the ' +\n",
              "            '<a target=\"_blank\" href=https://colab.research.google.com/notebooks/data_table.ipynb>data table notebook</a>'\n",
              "            + ' to learn more about interactive tables.';\n",
              "          element.innerHTML = '';\n",
              "          dataTable['output_type'] = 'display_data';\n",
              "          await google.colab.output.renderOutput(dataTable, element);\n",
              "          const docLink = document.createElement('div');\n",
              "          docLink.innerHTML = docLinkHtml;\n",
              "          element.appendChild(docLink);\n",
              "        }\n",
              "      </script>\n",
              "    </div>\n",
              "  </div>\n",
              "  "
            ],
            "text/plain": [
              "                      roi_ID  area  ...  label  frame_number\n",
              "0  210815_0_1_0_mc_mix1_syt_    98  ...    tm2             0\n",
              "1  210815_0_1_0_mc_mix1_syt_    98  ...    tm2             1\n",
              "2  210815_0_1_0_mc_mix1_syt_    98  ...    tm2             2\n",
              "3  210815_0_1_0_mc_mix1_syt_    98  ...    tm2             3\n",
              "4  210815_0_1_0_mc_mix1_syt_    98  ...    tm2             4\n",
              "\n",
              "[5 rows x 8 columns]"
            ]
          },
          "metadata": {},
          "execution_count": 102
        }
      ]
    },
    {
      "cell_type": "code",
      "source": [
        "df['label'].value_counts()"
      ],
      "metadata": {
        "colab": {
          "base_uri": "https://localhost:8080/"
        },
        "id": "RF6LG1a0zAtG",
        "outputId": "b15d09d7-8d91-44b6-dc44-a50f0fa77b00"
      },
      "execution_count": 103,
      "outputs": [
        {
          "output_type": "execute_result",
          "data": {
            "text/plain": [
              "tm2    363853\n",
              "tm4    207916\n",
              "t5     103958\n",
              "tm9     51979\n",
              "tm1     51979\n",
              "Name: label, dtype: int64"
            ]
          },
          "metadata": {},
          "execution_count": 103
        }
      ]
    },
    {
      "cell_type": "code",
      "source": [
        "df['resp_scaled'] = df['resp'] /df['resp'].abs().max()\n",
        "df['sq_difference'] = (df['resp_scaled']-df['stim1'])**2\n",
        "#df = df.loc[df['sq_difference'] >.5]"
      ],
      "metadata": {
        "id": "Ad31PgK5zt-R"
      },
      "execution_count": 104,
      "outputs": []
    },
    {
      "cell_type": "code",
      "source": [
        "# from imblearn.over_sampling import SMOTE, ADASYN\n",
        "# X_resampled, y_resampled = SMOTE().fit_resample(X, y)"
      ],
      "metadata": {
        "id": "zR1MMD0rFo7V"
      },
      "execution_count": 105,
      "outputs": []
    },
    {
      "cell_type": "code",
      "source": [
        "#train test split by roi_ID so that no single roi is included in the training and testing data\n",
        "#Right now the split is random\n",
        "\n",
        "rois = df.drop_duplicates('roi_ID')[['roi_ID', 'label']]\n",
        "\n",
        "X = np.array(rois['roi_ID'])\n",
        "y = np.array(rois['label'])\n",
        "\n",
        "#train/test split based on the unique roi ID's, balancing by label\n",
        "# train_rois, test_rois = train_test_split(\n",
        "#     rois, test_size=0.3, random_state=101\n",
        "# )\n",
        "\n",
        "from sklearn.model_selection import StratifiedShuffleSplit\n",
        "sss = StratifiedShuffleSplit(n_splits=1, test_size=0.4, random_state=0)\n",
        "\n",
        "for train_index, test_index in sss.split(X, y):\n",
        "    print(\"TRAIN:\", train_index, \"TEST:\", test_index)\n",
        "\n",
        "X_train_rois, X_test_rois = X[train_index], X[test_index]\n",
        "y_train, y_test = y[train_index], y[test_index]\n"
      ],
      "metadata": {
        "colab": {
          "base_uri": "https://localhost:8080/"
        },
        "id": "QoI2DsY9VI2j",
        "outputId": "8cb4d28d-919c-42d7-bcc6-f1ef076e9c20"
      },
      "execution_count": 106,
      "outputs": [
        {
          "output_type": "stream",
          "name": "stdout",
          "text": [
            "TRAIN: [ 80 155  32 131  87 102 144 164 109 157  96 135  22  99 130 156   7  63\n",
            "  28 152   5   4  71 101  13 103 148 129  67  47 119 124 137   6  15 162\n",
            "  33 159  56 150 140   1 134   3  12 163 115  93  41  55  25 153 107 116\n",
            " 120  98  70 139  83  86  39 127 105  54 142 154 123 111  16  92  44  97\n",
            "  81  46  74  91 108 110 136  45  19  78  49  36  58  62  23  17 132  20\n",
            " 161  21 100 143  43  29  94  59  65] TEST: [138  53   9  95  90 128 113  61  52  57   8 106   0  66 145 149 104  68\n",
            "  35  60  75  88  51  89  79  48  40  11  27 160 122  76  50 114  14  69\n",
            " 126 112 146  10  77  82  85  64  24 133   2  84  72  73  37 125  30 118\n",
            " 121 158  34  42 117  31  38 147 151 141  26  18]\n"
          ]
        }
      ]
    },
    {
      "cell_type": "code",
      "source": [
        "#use the roi_id's at indexes to split train and test from our full df\n",
        "X_train = df.query('roi_ID in @X_train_rois')[['sq_difference', 'resp']]\n",
        "y_train = df.query('roi_ID in @X_train_rois')['label'] \n",
        "\n",
        "X_test = df.query('roi_ID in @X_test_rois')[['sq_difference','resp']]\n",
        "y_test = df.query('roi_ID in @X_test_rois')['label']     "
      ],
      "metadata": {
        "id": "DsFEcppmVtkv"
      },
      "execution_count": 107,
      "outputs": []
    },
    {
      "cell_type": "code",
      "source": [
        "# Code source: Gaël Varoquaux\n",
        "#              Andreas Müller\n",
        "# Modified for documentation by Jaques Grobler\n",
        "# License: BSD 3 clause\n",
        "\n",
        "\n",
        "\n",
        "names = [\n",
        "    \"Nearest Neighbors\",\n",
        "    \"Linear SVM\",\n",
        "    \"RBF SVM\",\n",
        "    \"Gaussian Process\",\n",
        "    \"Decision Tree\",\n",
        "    \"Random Forest\",\n",
        "    \"Neural Net\",\n",
        "    \"AdaBoost\",\n",
        "    \"Naive Bayes\",\n",
        "    \"QDA\",\n",
        "]\n",
        "\n",
        "classifiers = [\n",
        "    KNeighborsClassifier(3),\n",
        "    SVC(kernel=\"linear\", C=0.025),\n",
        "    SVC(gamma=2, C=1),\n",
        "    #GaussianProcessClassifier(1.0 * RBF(1.0)),\n",
        "    DecisionTreeClassifier(max_depth=3),\n",
        "    RandomForestClassifier(max_depth=3, n_estimators=10, max_features=1),\n",
        "    MLPClassifier(alpha=.01, max_iter=1000),\n",
        "    AdaBoostClassifier(),\n",
        "    GaussianNB(),\n",
        "    QuadraticDiscriminantAnalysis(),\n",
        "]\n",
        "\n",
        "\n",
        "# # preprocess dataset, split into training and test part\n",
        "# X_train, X_test, y_train, y_test = train_test_split(\n",
        "#     X_resampled, y_resampled, test_size=0.3, random_state=101\n",
        "# )\n",
        "\n",
        "#Scale based on X_train to avoid data leakage\n",
        "scaler = StandardScaler() \n",
        "scaler.fit(X_train)\n",
        "X_train = scaler.transform(X_train)  \n",
        "# apply same transformation to test data\n",
        "X_test = scaler.transform(X_test)\n",
        "\n",
        "\n",
        "# iterate over classifiers\n",
        "for name, clf in zip(names, classifiers):\n",
        "    clf.fit(X_train, y_train)\n",
        "    score = clf.score(X_test, y_test)\n",
        "    print(f'{name}: score: {score}')\n",
        "\n",
        "    preds = clf.predict(X_test)\n",
        "    ConfusionMatrixDisplay.from_predictions(y_test, preds)\n",
        "    plt.show()\n"
      ],
      "metadata": {
        "colab": {
          "base_uri": "https://localhost:8080/",
          "height": 296
        },
        "id": "hNqSyVKdyPqB",
        "outputId": "f110da9d-2803-4a15-bdf6-af9dacb0ced7"
      },
      "execution_count": null,
      "outputs": [
        {
          "output_type": "stream",
          "name": "stdout",
          "text": [
            "Nearest Neighbors: score: 0.34312574950140123\n"
          ]
        },
        {
          "output_type": "display_data",
          "data": {
            "image/png": "[encoded data removed]",
            "text/plain": [
              "<Figure size 432x288 with 2 Axes>"
            ]
          },
          "metadata": {
            "needs_background": "light"
          }
        }
      ]
    },
    {
      "cell_type": "code",
      "source": [
        "#useless when there's only 1 feature, but can be useful to see feature importance from RF model\n",
        "\n",
        "from sklearn.inspection import permutation_importance\n",
        "import time\n",
        "feature_names = [f\"feature {i}\" for i in X_df.columns]\n",
        "start_time = time.time()\n",
        "result = permutation_importance(\n",
        "    model, X_test, y_test, n_repeats=10, random_state=42, n_jobs=2\n",
        ")\n",
        "elapsed_time = time.time() - start_time\n",
        "print(f\"Elapsed time to compute the importances: {elapsed_time:.3f} seconds\")\n",
        "\n",
        "forest_importances = pd.Series(result.importances_mean, index=feature_names)\n",
        "\n",
        "fig, ax = plt.subplots()\n",
        "forest_importances.plot.bar(yerr=result.importances_std, ax=ax)\n",
        "ax.set_title(\"Feature importances using permutation on full model\")\n",
        "ax.set_ylabel(\"Mean accuracy decrease\")\n",
        "fig.tight_layout()\n",
        "plt.show()"
      ],
      "metadata": {
        "colab": {
          "base_uri": "https://localhost:8080/",
          "height": 314
        },
        "id": "f9aDb0gc9zgQ",
        "outputId": "e5276b9a-e9d9-4279-81e9-1f48cca4c143"
      },
      "execution_count": null,
      "outputs": [
        {
          "output_type": "stream",
          "name": "stdout",
          "text": [
            "Elapsed time to compute the importances: 0.817 seconds\n"
          ]
        },
        {
          "output_type": "display_data",
          "data": {
            "image/png": "[encoded data removed]",
            "text/plain": [
              "<Figure size 432x288 with 1 Axes>"
            ]
          },
          "metadata": {
            "needs_background": "light"
          }
        }
      ]
    },
    {
      "cell_type": "code",
      "source": [
        ""
      ],
      "metadata": {
        "id": "ya9QlaeDiyWP"
      },
      "execution_count": null,
      "outputs": []
    }
  ]
}