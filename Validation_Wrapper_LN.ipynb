{
  "nbformat": 4,
  "nbformat_minor": 0,
  "metadata": {
    "colab": {
      "name": "Validation Wrapper-LN.ipynb",
      "provenance": [],
      "collapsed_sections": [],
      "include_colab_link": true
    },
    "kernelspec": {
      "display_name": "Python 3",
      "name": "python3"
    },
    "language_info": {
      "name": "python"
    }
  },
  "cells": [
    {
      "cell_type": "markdown",
      "metadata": {
        "id": "view-in-github",
        "colab_type": "text"
      },
      "source": [
        "<a href=\"https://colab.research.google.com/github/laurenneal/capstone-visual-neuroscience/blob/Lauren/Validation_Wrapper_LN.ipynb\" target=\"_parent\"><img src=\"https://colab.research.google.com/assets/colab-badge.svg\" alt=\"Open In Colab\"/></a>"
      ]
    },
    {
      "cell_type": "markdown",
      "metadata": {
        "id": "DMQyPTVxwhVU"
      },
      "source": [
        "## Setup"
      ]
    },
    {
      "cell_type": "code",
      "metadata": {
        "colab": {
          "base_uri": "https://localhost:8080/"
        },
        "id": "BbIj2QeEAbTE",
        "outputId": "fe96e3f4-823c-4904-cde1-1343ee2ad3d3"
      },
      "source": [
        "from google.colab import drive\n",
        "drive.mount('/content/drive')"
      ],
      "execution_count": 2,
      "outputs": [
        {
          "output_type": "stream",
          "name": "stdout",
          "text": [
            "Drive already mounted at /content/drive; to attempt to forcibly remount, call drive.mount(\"/content/drive\", force_remount=True).\n"
          ]
        }
      ]
    },
    {
      "cell_type": "code",
      "metadata": {
        "colab": {
          "base_uri": "https://localhost:8080/"
        },
        "id": "VrE1xeswQNHM",
        "outputId": "0837c06f-9c56-4f7c-ad0d-a9f0c51b404f"
      },
      "source": [
        "# Install CaImAn - takes around 2 minutes\n",
        "\n",
        "!git clone https://github.com/flatironinstitute/CaImAn.git\n",
        "%cd '/content/CaImAn/'\n",
        "!pip install -e .\n",
        "\n",
        "# Install caiman dependencies (&> /dev/null will suppress the hundreds of printed lines in the output)\n",
        "!pip install -r requirements.txt &> /dev/null\n",
        "\n",
        "#import other dependencies\n",
        "import cv2\n",
        "import glob\n",
        "import numpy as np\n",
        "import os\n",
        "import matplotlib.pyplot as plt\n",
        "import imageio\n",
        "\n",
        "#IMPORTANT! Newer versions of h5py will cause errors when saving results\n",
        "!pip install h5py==2.10.0\n",
        "import h5py\n",
        "\n",
        "#Set up caiman\n",
        "!python setup.py build_ext -i\n",
        "\n",
        "#Other file setup\n",
        "!python caimanmanager.py install --inplace\n",
        "\n",
        "#Caiman imports\n",
        "import caiman as cm\n",
        "from caiman.motion_correction import MotionCorrect\n",
        "from caiman.source_extraction.cnmf import cnmf as cnmf\n",
        "from caiman.source_extraction.cnmf import params as params\n",
        "from caiman.utils.utils import download_demo\n",
        "from caiman.utils.visualization import plot_contours, nb_view_patches, nb_plot_contour\n",
        "from caiman.summary_images import local_correlations_movie_offline\n",
        "from scipy.ndimage import center_of_mass\n",
        "from IPython.display import display, clear_output"
      ],
      "execution_count": 3,
      "outputs": [
        {
          "output_type": "stream",
          "name": "stdout",
          "text": [
            "Cloning into 'CaImAn'...\n",
            "remote: Enumerating objects: 24933, done.\u001b[K\n",
            "remote: Counting objects: 100% (868/868), done.\u001b[K\n",
            "remote: Compressing objects: 100% (433/433), done.\u001b[K\n",
            "remote: Total 24933 (delta 481), reused 752 (delta 418), pack-reused 24065\u001b[K\n",
            "Receiving objects: 100% (24933/24933), 518.56 MiB | 28.35 MiB/s, done.\n",
            "Resolving deltas: 100% (16694/16694), done.\n",
            "Checking out files: 100% (317/317), done.\n",
            "/content/CaImAn\n",
            "Obtaining file:///content/CaImAn\n",
            "Installing collected packages: caiman\n",
            "  Running setup.py develop for caiman\n",
            "Successfully installed caiman-1.9.7\n",
            "Collecting h5py==2.10.0\n",
            "  Downloading h5py-2.10.0-cp37-cp37m-manylinux1_x86_64.whl (2.9 MB)\n",
            "\u001b[K     |████████████████████████████████| 2.9 MB 5.0 MB/s \n",
            "\u001b[?25hRequirement already satisfied: six in /usr/local/lib/python3.7/dist-packages (from h5py==2.10.0) (1.15.0)\n",
            "Requirement already satisfied: numpy>=1.7 in /usr/local/lib/python3.7/dist-packages (from h5py==2.10.0) (1.19.5)\n",
            "Installing collected packages: h5py\n",
            "  Attempting uninstall: h5py\n",
            "    Found existing installation: h5py 3.1.0\n",
            "    Uninstalling h5py-3.1.0:\n",
            "      Successfully uninstalled h5py-3.1.0\n",
            "Successfully installed h5py-2.10.0\n",
            "running build_ext\n",
            "Installed /root/caiman_data\n"
          ]
        }
      ]
    },
    {
      "cell_type": "markdown",
      "metadata": {
        "id": "fCRFFvODsO4i"
      },
      "source": [
        "## Get paths to movie files and labelled ROI masks"
      ]
    },
    {
      "cell_type": "code",
      "metadata": {
        "colab": {
          "base_uri": "https://localhost:8080/"
        },
        "id": "DfNJcFmeEq23",
        "outputId": "89174672-85ef-45c1-ba05-4d7af7655814"
      },
      "source": [
        "#get a list of our masks and a list of our stacks in the same order\n",
        "from os import listdir\n",
        "maskpath = '../drive/MyDrive/DS6011_Capstone_VisualNeuroscience/DATA/manualROIs'\n",
        "mask_filenames = [f for f in listdir(maskpath) if 'manualROIs' in f]\n",
        "mask_filenames = sorted(mask_filenames)\n",
        "mask_filenames"
      ],
      "execution_count": 4,
      "outputs": [
        {
          "output_type": "execute_result",
          "data": {
            "text/plain": [
              "['210728_0_1_manualROIs_tm2_tm9_syt.mat',\n",
              " '210731_0_1_manualROIs_mix2_syt.mat',\n",
              " '210815_0_1_manualROIs_mix1_syt.mat',\n",
              " '211023_0_1_manualROIs_tm2_tm4_syt.mat',\n",
              " '211106_0_1_manualROIs_tm1_t5_syt.mat',\n",
              " '211106_1_1_manualROIs_tm4_t5_syt.mat']"
            ]
          },
          "metadata": {},
          "execution_count": 4
        }
      ]
    },
    {
      "cell_type": "code",
      "metadata": {
        "colab": {
          "base_uri": "https://localhost:8080/"
        },
        "id": "KBBLhWJoFMXP",
        "outputId": "40ed8037-be47-4eae-e341-939eb5c5a0dd"
      },
      "source": [
        "stack_indices = [x[:10] for x in mask_filenames] #get the index portion of the masks\n",
        "stack_celltypes = [x[22:(len(x)-4)] for x in mask_filenames] #get the cell type descriptions\n",
        "\n",
        "#create filenames in mat and h5, well only keep what exists\n",
        "stack_filenames_h5 = ['CLEAN_' + stack_indices[x] + '_stackRaw_mc_' + stack_celltypes[x] \\\n",
        "                   + '_.h5' for x in range(len(mask_filenames))] #reconstruct filenames for the movies we have masks for\n",
        "stack_filenames_mat = ['CLEAN_' + stack_indices[x] + '_stackRaw_mc_' + stack_celltypes[x] \\\n",
        "                   + '_.mat' for x in range(len(mask_filenames))] #reconstruct filenames for the movies we have masks for\n",
        "stack_filenames = stack_filenames_h5 + stack_filenames_mat \n",
        "stack_filenames"
      ],
      "execution_count": 5,
      "outputs": [
        {
          "output_type": "execute_result",
          "data": {
            "text/plain": [
              "['CLEAN_210728_0_1_stackRaw_mc_tm2_tm9_syt_.h5',\n",
              " 'CLEAN_210731_0_1_stackRaw_mc_mix2_syt_.h5',\n",
              " 'CLEAN_210815_0_1_stackRaw_mc_mix1_syt_.h5',\n",
              " 'CLEAN_211023_0_1_stackRaw_mc_tm2_tm4_syt_.h5',\n",
              " 'CLEAN_211106_0_1_stackRaw_mc_tm1_t5_syt_.h5',\n",
              " 'CLEAN_211106_1_1_stackRaw_mc_tm4_t5_syt_.h5',\n",
              " 'CLEAN_210728_0_1_stackRaw_mc_tm2_tm9_syt_.mat',\n",
              " 'CLEAN_210731_0_1_stackRaw_mc_mix2_syt_.mat',\n",
              " 'CLEAN_210815_0_1_stackRaw_mc_mix1_syt_.mat',\n",
              " 'CLEAN_211023_0_1_stackRaw_mc_tm2_tm4_syt_.mat',\n",
              " 'CLEAN_211106_0_1_stackRaw_mc_tm1_t5_syt_.mat',\n",
              " 'CLEAN_211106_1_1_stackRaw_mc_tm4_t5_syt_.mat']"
            ]
          },
          "metadata": {},
          "execution_count": 5
        }
      ]
    },
    {
      "cell_type": "code",
      "metadata": {
        "colab": {
          "base_uri": "https://localhost:8080/"
        },
        "id": "7cRs3HHyG0nV",
        "outputId": "3a5c273e-d99f-43c5-d2b5-6ceedb30cd87"
      },
      "source": [
        "#checking that files exist in our cleaned file\n",
        "stackpath = '../drive/MyDrive/DS6011_Capstone_VisualNeuroscience/DATA/stackRaw/CLEANED'\n",
        "stackfiles = [f for f in listdir(stackpath) if f in stack_filenames]\n",
        "stackfiles = sorted(stackfiles)\n",
        "stackfiles"
      ],
      "execution_count": 6,
      "outputs": [
        {
          "output_type": "execute_result",
          "data": {
            "text/plain": [
              "['CLEAN_210728_0_1_stackRaw_mc_tm2_tm9_syt_.h5',\n",
              " 'CLEAN_210731_0_1_stackRaw_mc_mix2_syt_.h5',\n",
              " 'CLEAN_210815_0_1_stackRaw_mc_mix1_syt_.h5',\n",
              " 'CLEAN_211023_0_1_stackRaw_mc_tm2_tm4_syt_.h5',\n",
              " 'CLEAN_211106_0_1_stackRaw_mc_tm1_t5_syt_.h5',\n",
              " 'CLEAN_211106_1_1_stackRaw_mc_tm4_t5_syt_.h5']"
            ]
          },
          "metadata": {},
          "execution_count": 6
        }
      ]
    },
    {
      "cell_type": "code",
      "metadata": {
        "id": "BkrZMX_oLZ8J"
      },
      "source": [
        "#convert filenames back into paths\n",
        "maskpaths = [maskpath+'/'+f for f in mask_filenames]\n",
        "stackpaths = [stackpath+'/'+f for f in stackfiles]"
      ],
      "execution_count": 7,
      "outputs": []
    },
    {
      "cell_type": "code",
      "metadata": {
        "colab": {
          "base_uri": "https://localhost:8080/"
        },
        "id": "5O3Ta8XtKXFQ",
        "outputId": "adf753f2-cf0d-4053-98e0-c671de0143c4"
      },
      "source": [
        "#join the lists into pairs of tuples\n",
        "mask_stack_pairs = list(map(lambda x, y:[x,y], maskpaths, stackpaths))\n",
        "mask_stack_pairs"
      ],
      "execution_count": 8,
      "outputs": [
        {
          "output_type": "execute_result",
          "data": {
            "text/plain": [
              "[['../drive/MyDrive/DS6011_Capstone_VisualNeuroscience/DATA/manualROIs/210728_0_1_manualROIs_tm2_tm9_syt.mat',\n",
              "  '../drive/MyDrive/DS6011_Capstone_VisualNeuroscience/DATA/stackRaw/CLEANED/CLEAN_210728_0_1_stackRaw_mc_tm2_tm9_syt_.h5'],\n",
              " ['../drive/MyDrive/DS6011_Capstone_VisualNeuroscience/DATA/manualROIs/210731_0_1_manualROIs_mix2_syt.mat',\n",
              "  '../drive/MyDrive/DS6011_Capstone_VisualNeuroscience/DATA/stackRaw/CLEANED/CLEAN_210731_0_1_stackRaw_mc_mix2_syt_.h5'],\n",
              " ['../drive/MyDrive/DS6011_Capstone_VisualNeuroscience/DATA/manualROIs/210815_0_1_manualROIs_mix1_syt.mat',\n",
              "  '../drive/MyDrive/DS6011_Capstone_VisualNeuroscience/DATA/stackRaw/CLEANED/CLEAN_210815_0_1_stackRaw_mc_mix1_syt_.h5'],\n",
              " ['../drive/MyDrive/DS6011_Capstone_VisualNeuroscience/DATA/manualROIs/211023_0_1_manualROIs_tm2_tm4_syt.mat',\n",
              "  '../drive/MyDrive/DS6011_Capstone_VisualNeuroscience/DATA/stackRaw/CLEANED/CLEAN_211023_0_1_stackRaw_mc_tm2_tm4_syt_.h5'],\n",
              " ['../drive/MyDrive/DS6011_Capstone_VisualNeuroscience/DATA/manualROIs/211106_0_1_manualROIs_tm1_t5_syt.mat',\n",
              "  '../drive/MyDrive/DS6011_Capstone_VisualNeuroscience/DATA/stackRaw/CLEANED/CLEAN_211106_0_1_stackRaw_mc_tm1_t5_syt_.h5'],\n",
              " ['../drive/MyDrive/DS6011_Capstone_VisualNeuroscience/DATA/manualROIs/211106_1_1_manualROIs_tm4_t5_syt.mat',\n",
              "  '../drive/MyDrive/DS6011_Capstone_VisualNeuroscience/DATA/stackRaw/CLEANED/CLEAN_211106_1_1_stackRaw_mc_tm4_t5_syt_.h5']]"
            ]
          },
          "metadata": {},
          "execution_count": 8
        }
      ]
    },
    {
      "cell_type": "markdown",
      "metadata": {
        "id": "OzmBKC4DsV2y"
      },
      "source": [
        "## Initialize parameters object with starter values"
      ]
    },
    {
      "cell_type": "code",
      "metadata": {
        "id": "24iRFksugPTv"
      },
      "source": [
        "#create parameters object\n",
        "opts = params.CNMFParams()\n",
        "#fname will be assigned in the loop\n",
        "fnames = []\n",
        "subfolder = 'stackRaw_mc'"
      ],
      "execution_count": 9,
      "outputs": []
    },
    {
      "cell_type": "code",
      "metadata": {
        "id": "tLzfCy0wFb-g"
      },
      "source": [
        "# set initial values for extraction and evaluation\n",
        "# most of these are specific to our data and will not need to be changed during optimization\n",
        "\n",
        "# overall params about our data\n",
        "\n",
        "fr = 20                 # approximate frame rate of data - CONFIRMED FPS\n",
        "decay_time = .4         # length of transient - CONFIRMED APPROPRIATE FOR OUR INDICATOR GCaMP6f\n",
        "dims = [128, 256]       # dimensions of the FOV in pixels - CONFIRMED\n",
        "dxy = [.29, .29]        # resolution of 1 pixel in um - CONFIRMED BY CARL\n",
        "\n",
        "opts.set('data', {'fnames': fnames,\n",
        "                   'fr': fr,\n",
        "                   'decay_time': decay_time,\n",
        "                   'dims': dims,\n",
        "                   'dxy': dxy\n",
        "                  })\n",
        "\n",
        "\n",
        "# params related to the temporal traces\n",
        "\n",
        "p = 1                   # order of the autoregressive system - 0 from carl's code, probably should be 1\n",
        "fudge_factor = 1        # (default is 0.96; Carl's value = 1) -- bias correction factor for discrete time constants\n",
        "ITER = 5                # (default is 2; Carl's value=5) -- block coordinate descent iterations\n",
        "tnb = 2                  # temporal global background components - TUNE\n",
        "\n",
        "opts.set('temporal', {'p': p,\n",
        "                      'fudge_factor': fudge_factor,\n",
        "                      'ITER': ITER,\n",
        "                      'nb': tnb\n",
        "                 })\n",
        "\n",
        "# p is also set in the preprocessing step\n",
        "opts.set('preprocess', {'p': p\n",
        "                 })\n",
        "\n",
        "\n",
        "\n",
        "# params related to the FOV and patches for parallel processing\n",
        "\n",
        "is_patches = False      # flag for processing in patches or not - turn on or off\n",
        "\n",
        "if is_patches:          # PROCESS IN PATCHES AND THEN COMBINE \n",
        "    rf = 25             # half size of each patch -not tuned\n",
        "    stride = 5          # overlap between patches -not tuned\n",
        "    K = 3               # number of components in each patch - TUNE - gets set later in INIT params\n",
        "    p_patch = p\n",
        "\n",
        "else:                   # PROCESS THE WHOLE FOV AT ONCE\n",
        "    rf = None           # setting these parameters to None Not used\n",
        "    stride = None       # will run CNMF on the whole FOV not used\n",
        "    K = 20              # number of neurons expected (in the whole FOV) - not used\n",
        "\n",
        "n_processes = 2         # Number of processes to run in parallel, 2 for 2 cores available in Colab\n",
        "\n",
        "opts.set('patch', {'rf': rf,\n",
        "                   'stride': stride,\n",
        "                   'n_processes': n_processes,\n",
        "                   'p_patch': p\n",
        "                  })   \n",
        "\n",
        "\n",
        "\n",
        "# initialization params\n",
        "ssub = 2                # spatial downsampling\n",
        "tsub = 2                # temporal downsampling\n",
        "ssub_B = 3              # background spatial downsampling\n",
        "gSig = [4,4]            # radius (half-size) of average neurons (in pixels)\n",
        "nb = 2                  # number of background components\n",
        "\n",
        "opts.set('init', {'K': K,            # declared above in patch params    \n",
        "                   'gSig': gSig,      \n",
        "                   'tsub': tsub,\n",
        "                   'ssub': ssub,\n",
        "                   'ssub_B': ssub_B,\n",
        "                   'nb': nb\n",
        "                  })\n",
        "\n",
        "# parameters related to merging correlated ROIs\n",
        "merge_thr = 0.9     # merging threshold, max correlation allowed - TUNE\n",
        "\n",
        "opts.set('merging', {'merge_thr': merge_thr\n",
        "                            })\n",
        "\n",
        "\n",
        "#set some spatial params\n",
        "snb = 2                  # spatial global background components - TUNE\n",
        "\n",
        "opts.set('spatial', {'nb': snb\n",
        "                            })\n",
        "\n",
        "# %% COMPONENT EVALUATION\n",
        "# the components are evaluated in three ways:\n",
        "#   a) the shape of each component must be correlated with the data\n",
        "#   b) a minimum peak SNR is required over the length of a transient\n",
        "#   c) each shape passes a CNN based classifier (this will pick up only neurons\n",
        "#           and filter out active processes)\n",
        "\n",
        "\n",
        "#Not sure if these should be tuned or not\n",
        "\n",
        "min_SNR = 2.5      # peak SNR for accepted components (if above this, acept)\n",
        "SNR_lowest = 1         # minimum SNR for accepted components (if below this, reject)\n",
        "rval_thr = 0.9     # space correlation threshold (if above this, accept)\n",
        "\n",
        "use_cnn = False      # use the CNN classifier affects if 2 below params are used\n",
        "min_cnn_thr = 0.9  # if cnn classifier predicts below this value, reject\n",
        "cnn_lowest = 0.1   # neurons with cnn probability lower than this value are rejected\n",
        "\n",
        "opts.set('quality', {'min_SNR': min_SNR,\n",
        "                     'SNR_lowest': SNR_lowest,\n",
        "                     'rval_thr': rval_thr,\n",
        "                     'use_cnn': use_cnn,\n",
        "                     'min_cnn_thr': min_cnn_thr,\n",
        "                     'cnn_lowest': cnn_lowest})\n",
        "\n",
        "\n",
        "#Manually assign subfolder variable\n",
        "opts.motion['var_name_hdf5'] = subfolder\n",
        "opts.data['var_name_hdf5'] = subfolder"
      ],
      "execution_count": 10,
      "outputs": []
    },
    {
      "cell_type": "markdown",
      "metadata": {
        "id": "8T37S56psacn"
      },
      "source": [
        "## Define pipeline function to run Caiman"
      ]
    },
    {
      "cell_type": "code",
      "metadata": {
        "id": "1yT59EZk84XL"
      },
      "source": [
        "#Function to run cnmf, run seeded cnmf using masks, then return validation\n",
        "\n",
        "def score_params(path_to_stack, path_to_masks, opts):\n",
        "  import warnings\n",
        "  warnings.simplefilter(action='ignore', category=FutureWarning)\n",
        "\n",
        "  fnames = [path_to_stack]\n",
        "\n",
        "  try:\n",
        "\n",
        "    if 'dview' in locals():\n",
        "      cm.stop_server(dview=dview)\n",
        "    dview = cm.cluster.start_server(ncpus=2)\n",
        "\n",
        "    #Run CNMF on raw stack using passed params\n",
        "    #print('starting cnmf')\n",
        "    cnm = cnmf.CNMF(n_processes = 2, params=opts, dview=dview)\n",
        "    #print('cnm object initialized')\n",
        "    cnm = cnm.fit_file(motion_correct = False, include_eval=True)\n",
        "    #print('cnmf and component evaluation completed')\n",
        "\n",
        "\n",
        "    #Read in masks and reformat\n",
        "    g = h5py.File(path_to_masks, 'r')\n",
        "\n",
        "    #transpose the matrix and save to an array A\n",
        "    mask_A = g['bwMaskStack'][:].T\n",
        "\n",
        "    g.close()\n",
        "\n",
        "    #rearrange the dimensions and show the new shape\n",
        "    mask_A = mask_A.transpose(1,0,2)\n",
        "\n",
        "    #reshape to 2D, first dimension is 128*256 (32768), 2nd dimension is the # of ROI's\n",
        "    mask_A = mask_A.reshape((mask_A.shape[1]*mask_A.shape[0]), mask_A.shape[2])\n",
        "\n",
        "    #convert the values from 0/1 to boolean False/True\n",
        "    mask_A = np.array(mask_A, dtype=bool)\n",
        "    #print('mask read in and reformatted')\n",
        "\n",
        "    #Seeded CNMF only works when seeded using mmap\n",
        "    #import pathlib\n",
        "\n",
        "    #read data from the original cnmf's mmap location\n",
        "    Yr, dims, T = cm.load_memmap(cnm.mmap_file)\n",
        "\n",
        "    # load frames in python format (T x X x Y)\n",
        "    mov = np.reshape(Yr.T, [T] + list(dims), order='F')\n",
        "    #print('movie matrix loaded for seeded cnmf')\n",
        "\n",
        "\n",
        "    #For seeded CNMF, need to adjust some params\n",
        "    opts.patch['only_init'] = False\n",
        "    opts.data['use_cnn'] = False\n",
        "\n",
        "    #print('params adjusted for seeded cnmf')\n",
        "    \n",
        "    #Initialize a new cnmf object and pass in our masks as the \"Ain\" param\n",
        "    #\"Ain\" is A-in, meaning the A matrix holding the spatial footprints of the roi's\n",
        "    cnm_seeded = cnmf.CNMF(n_processes = 2, params=opts, dview=None, Ain=mask_A)\n",
        "    #print('seeded cnmf object initialized')\n",
        "    cnm_seeded.fit(mov)\n",
        "    #print('seeded cnmf completed')\n",
        "\n",
        "    #Try running register_ROIs and see what happens\n",
        "    matched_ROIs1, matched_ROIs2, non_matched1, non_matched2, performance, A2 = cm.base.rois.register_ROIs(cnm_seeded.estimates.A, cnm.estimates.A, dims=dims)\n",
        "    #print('validation and scoring completed')\n",
        "\n",
        "    #restore params for the next regular cnmf iteration\n",
        "    opts.patch['only_init'] = True\n",
        "    #opts.data['use_cnn'] = True\n",
        "\n",
        "    cm.stop_server(dview=dview)\n",
        "\n",
        "\n",
        "    #return performance metrics\n",
        "    return {'matched_ROIs1': matched_ROIs1,\n",
        "            'matched_ROIs2': matched_ROIs2,\n",
        "            'non_matched1': non_matched1,\n",
        "            'non_matched2': non_matched2, \n",
        "            'performance': performance,\n",
        "            'A2': A2,\n",
        "            'cnm_estimates': cnm.estimates,\n",
        "            'seeded_cnm_estimates': cnm_seeded.estimates}\n",
        "\n",
        "  except:\n",
        "    print('failed')\n",
        "    cm.stop_server(dview=dview)"
      ],
      "execution_count": 11,
      "outputs": []
    },
    {
      "cell_type": "markdown",
      "metadata": {
        "id": "2AT-5zoysj-B"
      },
      "source": [
        "## Function to score all our stacks and return the avg f1"
      ]
    },
    {
      "cell_type": "code",
      "metadata": {
        "id": "BJtcnIiCBWQb"
      },
      "source": [
        "#loop through the stack-mask pairs and print the accuracy results\n",
        "\n",
        "def score_all_stacks(all_params):\n",
        "\n",
        "  print(all_params)\n",
        "\n",
        "  K = all_params[0]\n",
        "  nb = all_params[1]\n",
        "  merge_thresh = all_params[2]\n",
        "  gSig = [all_params[3], all_params[4]] #param passes one value, recreate [x,y] structure\n",
        "  SNR_lowest = all_params[5]\n",
        "\n",
        "\n",
        "  from statistics import mean\n",
        "\n",
        "  #hard coded paths since these won't change for now, proceduralize later\n",
        "  mask_stack_pairs = [['../drive/MyDrive/DS6011_Capstone_VisualNeuroscience/DATA/manualROIs/210728_0_1_manualROIs_tm2_tm9_syt.mat',\n",
        "  '../drive/MyDrive/DS6011_Capstone_VisualNeuroscience/DATA/stackRaw/CLEANED/CLEAN_210728_0_1_stackRaw_mc_tm2_tm9_syt_.h5'],\n",
        " ['../drive/MyDrive/DS6011_Capstone_VisualNeuroscience/DATA/manualROIs/210731_0_1_manualROIs_mix2_syt.mat',\n",
        "  '../drive/MyDrive/DS6011_Capstone_VisualNeuroscience/DATA/stackRaw/CLEANED/CLEAN_210731_0_1_stackRaw_mc_mix2_syt_.h5'],\n",
        " ['../drive/MyDrive/DS6011_Capstone_VisualNeuroscience/DATA/manualROIs/210815_0_1_manualROIs_mix1_syt.mat',\n",
        "  '../drive/MyDrive/DS6011_Capstone_VisualNeuroscience/DATA/stackRaw/CLEANED/CLEAN_210815_0_1_stackRaw_mc_mix1_syt_.h5'],\n",
        " ['../drive/MyDrive/DS6011_Capstone_VisualNeuroscience/DATA/manualROIs/211023_0_1_manualROIs_tm2_tm4_syt.mat',\n",
        "  '../drive/MyDrive/DS6011_Capstone_VisualNeuroscience/DATA/stackRaw/CLEANED/CLEAN_211023_0_1_stackRaw_mc_tm2_tm4_syt_.h5'],\n",
        " ['../drive/MyDrive/DS6011_Capstone_VisualNeuroscience/DATA/manualROIs/211106_0_1_manualROIs_tm1_t5_syt.mat',\n",
        "  '../drive/MyDrive/DS6011_Capstone_VisualNeuroscience/DATA/stackRaw/CLEANED/CLEAN_211106_0_1_stackRaw_mc_tm1_t5_syt_.h5'],\n",
        " ['../drive/MyDrive/DS6011_Capstone_VisualNeuroscience/DATA/manualROIs/211106_1_1_manualROIs_tm4_t5_syt.mat',\n",
        "  '../drive/MyDrive/DS6011_Capstone_VisualNeuroscience/DATA/stackRaw/CLEANED/CLEAN_211106_1_1_stackRaw_mc_tm4_t5_syt_.h5']]\n",
        "\n",
        "\n",
        "\n",
        "  #Assign params passed in by the wrapper function\n",
        "  opts.init['K'] = K\n",
        "  opts.init['nb'] = nb #nb gets assigned in three different dicts\n",
        "  opts.spatial['nb'] = nb\n",
        "  opts.temporal['nb'] = nb\n",
        "  opts.merging['merge_thresh'] = merge_thresh\n",
        "  opts.init['gSig'] = gSig\n",
        "  opts.quality['SNR_lowest'] = SNR_lowest\n",
        "\n",
        "  #store precisions from each stack-mask pair for this iteration in a list, we'll return the average\n",
        "  f1s = []\n",
        "\n",
        "  #this loop will run all stacks through caiman using a given set of parameters to get the accuracy\n",
        "  for pair in mask_stack_pairs:\n",
        "    path_to_stack = pair[1]\n",
        "    path_to_masks = pair[0]\n",
        "\n",
        "    #set fnames before calling caiman function\n",
        "    opts.data['fnames'] = [path_to_stack]\n",
        "    print(opts.data['fnames'])\n",
        "\n",
        "    results = score_params(path_to_stack=path_to_stack, \\\n",
        "              path_to_masks=path_to_masks, \\\n",
        "              opts=opts)\n",
        "    \n",
        "    #store this stack-mask pair's precision\n",
        "    #later handle some kind of logging to keep a dict of info returned\n",
        "    f1s.append(results['performance']['f1_score'])\n",
        "\n",
        "    print(results['performance'])\n",
        "\n",
        "  #return the mean precision for all mask-stack pairs\n",
        "  #negative of the precision, so that the optimizer can minimize\n",
        "  print(f1s)\n",
        "  return -mean(f1s)\n",
        "\n"
      ],
      "execution_count": 12,
      "outputs": []
    },
    {
      "cell_type": "markdown",
      "metadata": {
        "id": "Mb433-9AHs1s"
      },
      "source": [
        "## Bayesian Model Optimization"
      ]
    },
    {
      "cell_type": "code",
      "metadata": {
        "colab": {
          "base_uri": "https://localhost:8080/"
        },
        "id": "eRTllB4wHZIZ",
        "outputId": "afee5385-a69d-4f4c-c110-d6956243dbc8"
      },
      "source": [
        "!pip install scikit-optimize\n",
        "import skopt\n",
        "from skopt.callbacks import CheckpointSaver\n",
        "from skopt.callbacks import DeltaYStopper\n",
        "from skopt.callbacks import DeadlineStopper\n",
        "from skopt import plots\n",
        "from skopt import load"
      ],
      "execution_count": 13,
      "outputs": [
        {
          "output_type": "stream",
          "name": "stdout",
          "text": [
            "Collecting scikit-optimize\n",
            "  Downloading scikit_optimize-0.9.0-py2.py3-none-any.whl (100 kB)\n",
            "\u001b[?25l\r\u001b[K     |███▎                            | 10 kB 21.9 MB/s eta 0:00:01\r\u001b[K     |██████▌                         | 20 kB 28.0 MB/s eta 0:00:01\r\u001b[K     |█████████▉                      | 30 kB 12.4 MB/s eta 0:00:01\r\u001b[K     |█████████████                   | 40 kB 9.4 MB/s eta 0:00:01\r\u001b[K     |████████████████▍               | 51 kB 5.4 MB/s eta 0:00:01\r\u001b[K     |███████████████████▋            | 61 kB 5.9 MB/s eta 0:00:01\r\u001b[K     |██████████████████████▉         | 71 kB 5.7 MB/s eta 0:00:01\r\u001b[K     |██████████████████████████▏     | 81 kB 6.3 MB/s eta 0:00:01\r\u001b[K     |█████████████████████████████▍  | 92 kB 4.8 MB/s eta 0:00:01\r\u001b[K     |████████████████████████████████| 100 kB 2.3 MB/s \n",
            "\u001b[?25hRequirement already satisfied: scipy>=0.19.1 in /usr/local/lib/python3.7/dist-packages (from scikit-optimize) (1.4.1)\n",
            "Collecting pyaml>=16.9\n",
            "  Downloading pyaml-21.10.1-py2.py3-none-any.whl (24 kB)\n",
            "Requirement already satisfied: joblib>=0.11 in /usr/local/lib/python3.7/dist-packages (from scikit-optimize) (1.1.0)\n",
            "Requirement already satisfied: scikit-learn>=0.20.0 in /usr/local/lib/python3.7/dist-packages (from scikit-optimize) (1.0.1)\n",
            "Requirement already satisfied: numpy>=1.13.3 in /usr/local/lib/python3.7/dist-packages (from scikit-optimize) (1.19.5)\n",
            "Requirement already satisfied: PyYAML in /usr/local/lib/python3.7/dist-packages (from pyaml>=16.9->scikit-optimize) (3.13)\n",
            "Requirement already satisfied: threadpoolctl>=2.0.0 in /usr/local/lib/python3.7/dist-packages (from scikit-learn>=0.20.0->scikit-optimize) (3.0.0)\n",
            "Installing collected packages: pyaml, scikit-optimize\n",
            "Successfully installed pyaml-21.10.1 scikit-optimize-0.9.0\n"
          ]
        }
      ]
    },
    {
      "cell_type": "code",
      "metadata": {
        "id": "C6tFYAUmBPr0"
      },
      "source": [
        "# #load old checkpoints if we need - change path\n",
        "# checkpoints = skopt.load('../drive/MyDrive/DS6011_Capstone_VisualNeuroscience/DATA/search_checkpoints2.pkl')"
      ],
      "execution_count": 14,
      "outputs": []
    },
    {
      "cell_type": "code",
      "metadata": {
        "id": "vEmfHQiMSh07"
      },
      "source": [
        "#define the parameter space - this is the entirety of the space I want to explore and will take a long time to run\n",
        "\n",
        "#change params if needed\n",
        "SPACE = [\n",
        "        skopt.space.Integer(10, 20, name='K'), #number of ROIs to expect in the FOV\n",
        "        skopt.space.Integer(1,3, name='nb'), #measure of how much background noise to remove, minimum 2 but higher could remove ROIs\n",
        "        skopt.space.Real(.90, .94999, name= 'merge_thresh'), #how correlated ROIs need to be before they get merged\n",
        "        skopt.space.Integer(2, 4, name = 'gSig_wid'), #half-width of neurons - Supposedly the most important\n",
        "        skopt.space.Integer(2, 4, name = 'gSig_hei'), #half-height of neurons - Supposedly the most important\n",
        "        skopt.space.Real(.5, 1.5, name = 'SNR_lowest')] #Minimum SNR accepted for ROIs, (if below this, reject)"
      ],
      "execution_count": 15,
      "outputs": []
    },
    {
      "cell_type": "code",
      "metadata": {
        "id": "UCAv43maVVNO"
      },
      "source": [
        "#saves a checkpoint every iteration to this filepath\n",
        "\n",
        "#CHANGE THIS PATH OR FILENAME BEFORE YOU RUN THIS - LEAVE THE EXTENSION AS .PKL\n",
        "checkpoint_saver = CheckpointSaver('../drive/MyDrive/DS6011_Capstone_VisualNeuroscience/DATA/search_checkpoints_ln_attempt_5.pkl')\n",
        "\n",
        "#stopping criteria - stop if the 5 best iterations are within 3% of each other- might want to make more strict\n",
        "stopping_criteria = skopt.callbacks.DeltaYStopper(.01, n_best=5)\n",
        "\n",
        "#second criteria, stop after 11.5 hours if it hasn't stopped yet - takes time in seconds as argument\n",
        "mins = 11.5 * 60\n",
        "seconds = mins * 60\n",
        "stopping_criteria_2 = DeadlineStopper(total_time= seconds)\n",
        "\n",
        "\n",
        "# surrogate function, directly pass in parameter list, returns precision result directly\n",
        "#this is the function that the optimizer minimizes\n",
        "#score_all_stacks returns the precision * -1 so that the optimizer can minimize it\n",
        "def objective(parameters):\n",
        "    return score_all_stacks(parameters)"
      ],
      "execution_count": 16,
      "outputs": []
    },
    {
      "cell_type": "code",
      "metadata": {
        "id": "AbtrBS6sbvZe"
      },
      "source": [
        "# #load old checkpoints if we need - change path\n",
        "## checkpoints = skopt.load('../drive/MyDrive/DS6011_Capstone_VisualNeuroscience/DATA/search_checkpoints_ln_attempt_2.pkl')\n",
        "## x0 = checkpoints.x_iters\n",
        "## y0 = checkpoints.func_vals"
      ],
      "execution_count": 17,
      "outputs": []
    },
    {
      "cell_type": "code",
      "metadata": {
        "colab": {
          "base_uri": "https://localhost:8080/"
        },
        "id": "hGFUFobpS_Z1",
        "outputId": "ea172e5e-8cf5-4bd6-845f-dd38ffd96f50"
      },
      "source": [
        "#optimizer using objective function, parameter space, checkpointer, stopping criteria\n",
        "\n",
        "#change minimizer function if needed\n",
        "results = skopt.gp_minimize(objective, \n",
        "                              SPACE,\n",
        "                              #x0=x0,     # already examined values for x from checkpoints\n",
        "                              #y0=y0,     # observed values for x0 from checkpoints \n",
        "                              callback=[checkpoint_saver, stopping_criteria, stopping_criteria_2], \n",
        "                              initial_point_generator = 'halton',\n",
        "                              n_jobs = 2,\n",
        "                              verbose=True)"
      ],
      "execution_count": 18,
      "outputs": [
        {
          "output_type": "stream",
          "name": "stdout",
          "text": [
            "Iteration No: 1 started. Evaluating function at random point.\n",
            "[10, 1, 0.9, 2, 2, 0.5]\n",
            "['../drive/MyDrive/DS6011_Capstone_VisualNeuroscience/DATA/stackRaw/CLEANED/CLEAN_210728_0_1_stackRaw_mc_tm2_tm9_syt_.h5']\n",
            "Waiting for connection file: ~/.ipython/profile_default/security/ipcontroller-client.json\n",
            "............spatial support for each components given by the user\n",
            "{'recall': 0.3333333333333333, 'precision': 0.4, 'accuracy': 0.2222222222222222, 'f1_score': 0.36363636363636365}\n",
            "['../drive/MyDrive/DS6011_Capstone_VisualNeuroscience/DATA/stackRaw/CLEANED/CLEAN_210731_0_1_stackRaw_mc_mix2_syt_.h5']\n",
            "Waiting for connection file: ~/.ipython/profile_default/security/ipcontroller-client.json\n",
            "............spatial support for each components given by the user\n",
            "{'recall': 0.0, 'precision': 0.0, 'accuracy': 0.0, 'f1_score': 0.0}\n",
            "['../drive/MyDrive/DS6011_Capstone_VisualNeuroscience/DATA/stackRaw/CLEANED/CLEAN_210815_0_1_stackRaw_mc_mix1_syt_.h5']\n",
            "Waiting for connection file: ~/.ipython/profile_default/security/ipcontroller-client.json\n",
            "............spatial support for each components given by the user\n",
            "{'recall': 0.06666666666666667, 'precision': 0.1, 'accuracy': 0.041666666666666664, 'f1_score': 0.08}\n",
            "['../drive/MyDrive/DS6011_Capstone_VisualNeuroscience/DATA/stackRaw/CLEANED/CLEAN_211023_0_1_stackRaw_mc_tm2_tm4_syt_.h5']\n",
            "Waiting for connection file: ~/.ipython/profile_default/security/ipcontroller-client.json\n",
            "............spatial support for each components given by the user\n",
            "{'recall': 0.09090909090909091, 'precision': 0.1, 'accuracy': 0.05, 'f1_score': 0.09523809523809523}\n",
            "['../drive/MyDrive/DS6011_Capstone_VisualNeuroscience/DATA/stackRaw/CLEANED/CLEAN_211106_0_1_stackRaw_mc_tm1_t5_syt_.h5']\n",
            "Waiting for connection file: ~/.ipython/profile_default/security/ipcontroller-client.json\n",
            "..............."
          ]
        },
        {
          "output_type": "stream",
          "name": "stderr",
          "text": [
            "/content/CaImAn/caiman/summary_images.py:217: RuntimeWarning: invalid value encountered in true_divide\n",
            "  w_mov = (Y - np.mean(Y, axis=0)) / np.std(Y, axis=0)\n"
          ]
        },
        {
          "output_type": "stream",
          "name": "stdout",
          "text": [
            "....spatial support for each components given by the user\n",
            "{'recall': 0.0, 'precision': 0.0, 'accuracy': 0.0, 'f1_score': 0.0}\n",
            "['../drive/MyDrive/DS6011_Capstone_VisualNeuroscience/DATA/stackRaw/CLEANED/CLEAN_211106_1_1_stackRaw_mc_tm4_t5_syt_.h5']\n",
            "Waiting for connection file: ~/.ipython/profile_default/security/ipcontroller-client.json\n",
            "..................spatial support for each components given by the user\n",
            "{'recall': 0.0, 'precision': 0.0, 'accuracy': 0.0, 'f1_score': 0.0}\n",
            "[0.36363636363636365, 0.0, 0.08, 0.09523809523809523, 0.0, 0.0]\n",
            "Iteration No: 1 ended. Evaluation done at random point.\n",
            "Time taken: 699.9790\n",
            "Function value obtained: -0.0898\n",
            "Current minimum: -0.0898\n",
            "Iteration No: 2 started. Evaluating function at random point.\n",
            "[15, 2, 0.909998, 2, 2, 0.5769230769230769]\n",
            "['../drive/MyDrive/DS6011_Capstone_VisualNeuroscience/DATA/stackRaw/CLEANED/CLEAN_210728_0_1_stackRaw_mc_tm2_tm9_syt_.h5']\n",
            "Waiting for connection file: ~/.ipython/profile_default/security/ipcontroller-client.json\n",
            ".............spatial support for each components given by the user\n",
            "{'recall': 0.25, 'precision': 0.2, 'accuracy': 0.125, 'f1_score': 0.2222222222222222}\n",
            "['../drive/MyDrive/DS6011_Capstone_VisualNeuroscience/DATA/stackRaw/CLEANED/CLEAN_210731_0_1_stackRaw_mc_mix2_syt_.h5']\n",
            "Waiting for connection file: ~/.ipython/profile_default/security/ipcontroller-client.json\n",
            "...................spatial support for each components given by the user\n",
            "{'recall': 0.0, 'precision': 0.0, 'accuracy': 0.0, 'f1_score': 0.0}\n",
            "['../drive/MyDrive/DS6011_Capstone_VisualNeuroscience/DATA/stackRaw/CLEANED/CLEAN_210815_0_1_stackRaw_mc_mix1_syt_.h5']\n",
            "Waiting for connection file: ~/.ipython/profile_default/security/ipcontroller-client.json\n",
            ".............spatial support for each components given by the user\n",
            "{'recall': 0.06666666666666667, 'precision': 0.06666666666666667, 'accuracy': 0.034482758620689655, 'f1_score': 0.06666666666666667}\n",
            "['../drive/MyDrive/DS6011_Capstone_VisualNeuroscience/DATA/stackRaw/CLEANED/CLEAN_211023_0_1_stackRaw_mc_tm2_tm4_syt_.h5']\n",
            "Waiting for connection file: ~/.ipython/profile_default/security/ipcontroller-client.json\n",
            ".............spatial support for each components given by the user\n",
            "{'recall': 0.0, 'precision': 0.0, 'accuracy': 0.0, 'f1_score': 0.0}\n",
            "['../drive/MyDrive/DS6011_Capstone_VisualNeuroscience/DATA/stackRaw/CLEANED/CLEAN_211106_0_1_stackRaw_mc_tm1_t5_syt_.h5']\n",
            "Waiting for connection file: ~/.ipython/profile_default/security/ipcontroller-client.json\n",
            ".............."
          ]
        },
        {
          "output_type": "stream",
          "name": "stderr",
          "text": [
            "/content/CaImAn/caiman/summary_images.py:217: RuntimeWarning: invalid value encountered in true_divide\n",
            "  w_mov = (Y - np.mean(Y, axis=0)) / np.std(Y, axis=0)\n"
          ]
        },
        {
          "output_type": "stream",
          "name": "stdout",
          "text": [
            "....spatial support for each components given by the user\n",
            "{'recall': 0.0, 'precision': 0.0, 'accuracy': 0.0, 'f1_score': 0.0}\n",
            "['../drive/MyDrive/DS6011_Capstone_VisualNeuroscience/DATA/stackRaw/CLEANED/CLEAN_211106_1_1_stackRaw_mc_tm4_t5_syt_.h5']\n",
            "Waiting for connection file: ~/.ipython/profile_default/security/ipcontroller-client.json\n",
            "..................spatial support for each components given by the user\n",
            "{'recall': 0.0, 'precision': 0.0, 'accuracy': 0.0, 'f1_score': 0.0}\n",
            "[0.2222222222222222, 0.0, 0.06666666666666667, 0.0, 0.0, 0.0]\n",
            "Iteration No: 2 ended. Evaluation done at random point.\n",
            "Time taken: 875.8971\n",
            "Function value obtained: -0.0481\n",
            "Current minimum: -0.0898\n",
            "Iteration No: 3 started. Evaluating function at random point.\n",
            "[12, 2, 0.919996, 3, 2, 0.6538461538461539]\n",
            "['../drive/MyDrive/DS6011_Capstone_VisualNeuroscience/DATA/stackRaw/CLEANED/CLEAN_210728_0_1_stackRaw_mc_tm2_tm9_syt_.h5']\n",
            "Waiting for connection file: ~/.ipython/profile_default/security/ipcontroller-client.json\n",
            "...................spatial support for each components given by the user\n",
            "{'recall': 0.25, 'precision': 0.25, 'accuracy': 0.14285714285714285, 'f1_score': 0.25}\n",
            "['../drive/MyDrive/DS6011_Capstone_VisualNeuroscience/DATA/stackRaw/CLEANED/CLEAN_210731_0_1_stackRaw_mc_mix2_syt_.h5']\n",
            "Waiting for connection file: ~/.ipython/profile_default/security/ipcontroller-client.json\n",
            "..................spatial support for each components given by the user\n",
            "{'recall': 0.0, 'precision': 0.0, 'accuracy': 0.0, 'f1_score': 0.0}\n",
            "['../drive/MyDrive/DS6011_Capstone_VisualNeuroscience/DATA/stackRaw/CLEANED/CLEAN_210815_0_1_stackRaw_mc_mix1_syt_.h5']\n",
            "Waiting for connection file: ~/.ipython/profile_default/security/ipcontroller-client.json\n",
            "..................spatial support for each components given by the user\n",
            "{'recall': 0.06666666666666667, 'precision': 0.08333333333333333, 'accuracy': 0.038461538461538464, 'f1_score': 0.07407407407407407}\n",
            "['../drive/MyDrive/DS6011_Capstone_VisualNeuroscience/DATA/stackRaw/CLEANED/CLEAN_211023_0_1_stackRaw_mc_tm2_tm4_syt_.h5']\n",
            "Waiting for connection file: ~/.ipython/profile_default/security/ipcontroller-client.json\n",
            "...................spatial support for each components given by the user\n",
            "{'recall': 0.0, 'precision': 0.0, 'accuracy': 0.0, 'f1_score': 0.0}\n",
            "['../drive/MyDrive/DS6011_Capstone_VisualNeuroscience/DATA/stackRaw/CLEANED/CLEAN_211106_0_1_stackRaw_mc_tm1_t5_syt_.h5']\n",
            "Waiting for connection file: ~/.ipython/profile_default/security/ipcontroller-client.json\n",
            "..............."
          ]
        },
        {
          "output_type": "stream",
          "name": "stderr",
          "text": [
            "/content/CaImAn/caiman/summary_images.py:217: RuntimeWarning: invalid value encountered in true_divide\n",
            "  w_mov = (Y - np.mean(Y, axis=0)) / np.std(Y, axis=0)\n"
          ]
        },
        {
          "output_type": "stream",
          "name": "stdout",
          "text": [
            "....spatial support for each components given by the user\n",
            "{'recall': 0.0, 'precision': 0.0, 'accuracy': 0.0, 'f1_score': 0.0}\n",
            "['../drive/MyDrive/DS6011_Capstone_VisualNeuroscience/DATA/stackRaw/CLEANED/CLEAN_211106_1_1_stackRaw_mc_tm4_t5_syt_.h5']\n",
            "Waiting for connection file: ~/.ipython/profile_default/security/ipcontroller-client.json\n",
            "...................spatial support for each components given by the user\n",
            "{'recall': 0.0, 'precision': 0.0, 'accuracy': 0.0, 'f1_score': 0.0}\n",
            "[0.25, 0.0, 0.07407407407407407, 0.0, 0.0, 0.0]\n",
            "Iteration No: 3 ended. Evaluation done at random point.\n",
            "Time taken: 868.4188\n",
            "Function value obtained: -0.0540\n",
            "Current minimum: -0.0898\n",
            "Iteration No: 4 started. Evaluating function at random point.\n",
            "[18, 1, 0.929994, 3, 3, 0.7307692307692308]\n",
            "['../drive/MyDrive/DS6011_Capstone_VisualNeuroscience/DATA/stackRaw/CLEANED/CLEAN_210728_0_1_stackRaw_mc_tm2_tm9_syt_.h5']\n",
            "Waiting for connection file: ~/.ipython/profile_default/security/ipcontroller-client.json\n",
            "...................spatial support for each components given by the user\n",
            "{'recall': 0.25, 'precision': 0.16666666666666666, 'accuracy': 0.1111111111111111, 'f1_score': 0.2}\n",
            "['../drive/MyDrive/DS6011_Capstone_VisualNeuroscience/DATA/stackRaw/CLEANED/CLEAN_210731_0_1_stackRaw_mc_mix2_syt_.h5']\n",
            "Waiting for connection file: ~/.ipython/profile_default/security/ipcontroller-client.json\n",
            "...................spatial support for each components given by the user\n",
            "{'recall': 0.0, 'precision': 0.0, 'accuracy': 0.0, 'f1_score': 0.0}\n",
            "['../drive/MyDrive/DS6011_Capstone_VisualNeuroscience/DATA/stackRaw/CLEANED/CLEAN_210815_0_1_stackRaw_mc_mix1_syt_.h5']\n",
            "Waiting for connection file: ~/.ipython/profile_default/security/ipcontroller-client.json\n",
            "...................spatial support for each components given by the user\n",
            "{'recall': 0.13333333333333333, 'precision': 0.1111111111111111, 'accuracy': 0.06451612903225806, 'f1_score': 0.12121212121212122}\n",
            "['../drive/MyDrive/DS6011_Capstone_VisualNeuroscience/DATA/stackRaw/CLEANED/CLEAN_211023_0_1_stackRaw_mc_tm2_tm4_syt_.h5']\n",
            "Waiting for connection file: ~/.ipython/profile_default/security/ipcontroller-client.json\n",
            "...................spatial support for each components given by the user\n",
            "{'recall': 0.09090909090909091, 'precision': 0.05555555555555555, 'accuracy': 0.03571428571428571, 'f1_score': 0.06896551724137931}\n",
            "['../drive/MyDrive/DS6011_Capstone_VisualNeuroscience/DATA/stackRaw/CLEANED/CLEAN_211106_0_1_stackRaw_mc_tm1_t5_syt_.h5']\n",
            "Waiting for connection file: ~/.ipython/profile_default/security/ipcontroller-client.json\n",
            "..............."
          ]
        },
        {
          "output_type": "stream",
          "name": "stderr",
          "text": [
            "/content/CaImAn/caiman/summary_images.py:217: RuntimeWarning: invalid value encountered in true_divide\n",
            "  w_mov = (Y - np.mean(Y, axis=0)) / np.std(Y, axis=0)\n"
          ]
        },
        {
          "output_type": "stream",
          "name": "stdout",
          "text": [
            "....spatial support for each components given by the user\n",
            "{'recall': 0.0, 'precision': 0.0, 'accuracy': 0.0, 'f1_score': 0.0}\n",
            "['../drive/MyDrive/DS6011_Capstone_VisualNeuroscience/DATA/stackRaw/CLEANED/CLEAN_211106_1_1_stackRaw_mc_tm4_t5_syt_.h5']\n",
            "Waiting for connection file: ~/.ipython/profile_default/security/ipcontroller-client.json\n",
            "...................spatial support for each components given by the user\n",
            "{'recall': 0.4, 'precision': 0.1111111111111111, 'accuracy': 0.09523809523809523, 'f1_score': 0.17391304347826086}\n",
            "[0.2, 0.0, 0.12121212121212122, 0.06896551724137931, 0.0, 0.17391304347826086]\n",
            "Iteration No: 4 ended. Evaluation done at random point.\n",
            "Time taken: 805.5787\n",
            "Function value obtained: -0.0940\n",
            "Current minimum: -0.0940\n",
            "Iteration No: 5 started. Evaluating function at random point.\n",
            "[11, 2, 0.939992, 3, 3, 0.8076923076923077]\n",
            "['../drive/MyDrive/DS6011_Capstone_VisualNeuroscience/DATA/stackRaw/CLEANED/CLEAN_210728_0_1_stackRaw_mc_tm2_tm9_syt_.h5']\n",
            "Waiting for connection file: ~/.ipython/profile_default/security/ipcontroller-client.json\n",
            "...................spatial support for each components given by the user\n",
            "{'recall': 0.25, 'precision': 0.2727272727272727, 'accuracy': 0.15, 'f1_score': 0.2608695652173913}\n",
            "['../drive/MyDrive/DS6011_Capstone_VisualNeuroscience/DATA/stackRaw/CLEANED/CLEAN_210731_0_1_stackRaw_mc_mix2_syt_.h5']\n",
            "Waiting for connection file: ~/.ipython/profile_default/security/ipcontroller-client.json\n",
            "...................spatial support for each components given by the user\n",
            "{'recall': 0.0, 'precision': 0.0, 'accuracy': 0.0, 'f1_score': 0.0}\n",
            "['../drive/MyDrive/DS6011_Capstone_VisualNeuroscience/DATA/stackRaw/CLEANED/CLEAN_210815_0_1_stackRaw_mc_mix1_syt_.h5']\n",
            "Waiting for connection file: ~/.ipython/profile_default/security/ipcontroller-client.json\n",
            "..................spatial support for each components given by the user\n",
            "{'recall': 0.06666666666666667, 'precision': 0.09090909090909091, 'accuracy': 0.04, 'f1_score': 0.07692307692307693}\n",
            "['../drive/MyDrive/DS6011_Capstone_VisualNeuroscience/DATA/stackRaw/CLEANED/CLEAN_211023_0_1_stackRaw_mc_tm2_tm4_syt_.h5']\n",
            "Waiting for connection file: ~/.ipython/profile_default/security/ipcontroller-client.json\n",
            "..................spatial support for each components given by the user\n",
            "{'recall': 0.0, 'precision': 0.0, 'accuracy': 0.0, 'f1_score': 0.0}\n",
            "['../drive/MyDrive/DS6011_Capstone_VisualNeuroscience/DATA/stackRaw/CLEANED/CLEAN_211106_0_1_stackRaw_mc_tm1_t5_syt_.h5']\n",
            "Waiting for connection file: ~/.ipython/profile_default/security/ipcontroller-client.json\n",
            "..."
          ]
        },
        {
          "output_type": "stream",
          "name": "stderr",
          "text": [
            "ERROR:tornado.general:Uncaught exception in ZMQStream callback\n",
            "Traceback (most recent call last):\n",
            "  File \"/usr/local/lib/python3.7/dist-packages/zmq/eventloop/zmqstream.py\", line 431, in _run_callback\n",
            "    callback(*args, **kwargs)\n",
            "  File \"/usr/local/lib/python3.7/dist-packages/tornado/stack_context.py\", line 300, in null_wrapper\n",
            "    return fn(*args, **kwargs)\n",
            "  File \"<decorator-gen-151>\", line 2, in _dispatch_iopub\n",
            "  File \"/usr/local/lib/python3.7/dist-packages/ipyparallel/client/client.py\", line 73, in unpack_message\n",
            "    idents, msg = self.session.feed_identities(msg_parts, copy=False)\n",
            "  File \"/usr/local/lib/python3.7/dist-packages/jupyter_client/session.py\", line 853, in feed_identities\n",
            "    raise ValueError(\"DELIM not in msg_list\")\n",
            "ValueError: DELIM not in msg_list\n",
            "ERROR:tornado.general:Uncaught exception in zmqstream callback\n",
            "Traceback (most recent call last):\n",
            "  File \"/usr/local/lib/python3.7/dist-packages/zmq/eventloop/zmqstream.py\", line 452, in _handle_events\n",
            "    self._handle_recv()\n",
            "  File \"/usr/local/lib/python3.7/dist-packages/zmq/eventloop/zmqstream.py\", line 481, in _handle_recv\n",
            "    self._run_callback(callback, msg)\n",
            "  File \"/usr/local/lib/python3.7/dist-packages/zmq/eventloop/zmqstream.py\", line 431, in _run_callback\n",
            "    callback(*args, **kwargs)\n",
            "  File \"/usr/local/lib/python3.7/dist-packages/tornado/stack_context.py\", line 300, in null_wrapper\n",
            "    return fn(*args, **kwargs)\n",
            "  File \"<decorator-gen-151>\", line 2, in _dispatch_iopub\n",
            "  File \"/usr/local/lib/python3.7/dist-packages/ipyparallel/client/client.py\", line 73, in unpack_message\n",
            "    idents, msg = self.session.feed_identities(msg_parts, copy=False)\n",
            "  File \"/usr/local/lib/python3.7/dist-packages/jupyter_client/session.py\", line 853, in feed_identities\n",
            "    raise ValueError(\"DELIM not in msg_list\")\n",
            "ValueError: DELIM not in msg_list\n",
            "ERROR:asyncio:Exception in callback BaseAsyncIOLoop._handle_events(582, 1)\n",
            "handle: <Handle BaseAsyncIOLoop._handle_events(582, 1)>\n",
            "Traceback (most recent call last):\n",
            "  File \"/usr/lib/python3.7/asyncio/events.py\", line 88, in _run\n",
            "    self._context.run(self._callback, *self._args)\n",
            "  File \"/usr/local/lib/python3.7/dist-packages/tornado/platform/asyncio.py\", line 122, in _handle_events\n",
            "    handler_func(fileobj, events)\n",
            "  File \"/usr/local/lib/python3.7/dist-packages/tornado/stack_context.py\", line 300, in null_wrapper\n",
            "    return fn(*args, **kwargs)\n",
            "  File \"/usr/local/lib/python3.7/dist-packages/zmq/eventloop/zmqstream.py\", line 452, in _handle_events\n",
            "    self._handle_recv()\n",
            "  File \"/usr/local/lib/python3.7/dist-packages/zmq/eventloop/zmqstream.py\", line 481, in _handle_recv\n",
            "    self._run_callback(callback, msg)\n",
            "  File \"/usr/local/lib/python3.7/dist-packages/zmq/eventloop/zmqstream.py\", line 431, in _run_callback\n",
            "    callback(*args, **kwargs)\n",
            "  File \"/usr/local/lib/python3.7/dist-packages/tornado/stack_context.py\", line 300, in null_wrapper\n",
            "    return fn(*args, **kwargs)\n",
            "  File \"<decorator-gen-151>\", line 2, in _dispatch_iopub\n",
            "  File \"/usr/local/lib/python3.7/dist-packages/ipyparallel/client/client.py\", line 73, in unpack_message\n",
            "    idents, msg = self.session.feed_identities(msg_parts, copy=False)\n",
            "  File \"/usr/local/lib/python3.7/dist-packages/jupyter_client/session.py\", line 853, in feed_identities\n",
            "    raise ValueError(\"DELIM not in msg_list\")\n",
            "ValueError: DELIM not in msg_list\n"
          ]
        },
        {
          "output_type": "stream",
          "name": "stdout",
          "text": [
            "............"
          ]
        },
        {
          "output_type": "stream",
          "name": "stderr",
          "text": [
            "/content/CaImAn/caiman/summary_images.py:217: RuntimeWarning: invalid value encountered in true_divide\n",
            "  w_mov = (Y - np.mean(Y, axis=0)) / np.std(Y, axis=0)\n"
          ]
        },
        {
          "output_type": "stream",
          "name": "stdout",
          "text": [
            "."
          ]
        },
        {
          "output_type": "stream",
          "name": "stderr",
          "text": [
            "ERROR:tornado.general:Uncaught exception in ZMQStream callback\n",
            "Traceback (most recent call last):\n",
            "  File \"/usr/local/lib/python3.7/dist-packages/zmq/eventloop/zmqstream.py\", line 431, in _run_callback\n",
            "    callback(*args, **kwargs)\n",
            "  File \"/usr/local/lib/python3.7/dist-packages/tornado/stack_context.py\", line 300, in null_wrapper\n",
            "    return fn(*args, **kwargs)\n",
            "  File \"<decorator-gen-151>\", line 2, in _dispatch_iopub\n",
            "  File \"/usr/local/lib/python3.7/dist-packages/ipyparallel/client/client.py\", line 73, in unpack_message\n",
            "    idents, msg = self.session.feed_identities(msg_parts, copy=False)\n",
            "  File \"/usr/local/lib/python3.7/dist-packages/jupyter_client/session.py\", line 853, in feed_identities\n",
            "    raise ValueError(\"DELIM not in msg_list\")\n",
            "ValueError: DELIM not in msg_list\n",
            "ERROR:tornado.general:Uncaught exception in zmqstream callback\n",
            "Traceback (most recent call last):\n",
            "  File \"/usr/local/lib/python3.7/dist-packages/zmq/eventloop/zmqstream.py\", line 452, in _handle_events\n",
            "    self._handle_recv()\n",
            "  File \"/usr/local/lib/python3.7/dist-packages/zmq/eventloop/zmqstream.py\", line 481, in _handle_recv\n",
            "    self._run_callback(callback, msg)\n",
            "  File \"/usr/local/lib/python3.7/dist-packages/zmq/eventloop/zmqstream.py\", line 431, in _run_callback\n",
            "    callback(*args, **kwargs)\n",
            "  File \"/usr/local/lib/python3.7/dist-packages/tornado/stack_context.py\", line 300, in null_wrapper\n",
            "    return fn(*args, **kwargs)\n",
            "  File \"<decorator-gen-151>\", line 2, in _dispatch_iopub\n",
            "  File \"/usr/local/lib/python3.7/dist-packages/ipyparallel/client/client.py\", line 73, in unpack_message\n",
            "    idents, msg = self.session.feed_identities(msg_parts, copy=False)\n",
            "  File \"/usr/local/lib/python3.7/dist-packages/jupyter_client/session.py\", line 853, in feed_identities\n",
            "    raise ValueError(\"DELIM not in msg_list\")\n",
            "ValueError: DELIM not in msg_list\n",
            "ERROR:asyncio:Exception in callback BaseAsyncIOLoop._handle_events(582, 1)\n",
            "handle: <Handle BaseAsyncIOLoop._handle_events(582, 1)>\n",
            "Traceback (most recent call last):\n",
            "  File \"/usr/lib/python3.7/asyncio/events.py\", line 88, in _run\n",
            "    self._context.run(self._callback, *self._args)\n",
            "  File \"/usr/local/lib/python3.7/dist-packages/tornado/platform/asyncio.py\", line 122, in _handle_events\n",
            "    handler_func(fileobj, events)\n",
            "  File \"/usr/local/lib/python3.7/dist-packages/tornado/stack_context.py\", line 300, in null_wrapper\n",
            "    return fn(*args, **kwargs)\n",
            "  File \"/usr/local/lib/python3.7/dist-packages/zmq/eventloop/zmqstream.py\", line 452, in _handle_events\n",
            "    self._handle_recv()\n",
            "  File \"/usr/local/lib/python3.7/dist-packages/zmq/eventloop/zmqstream.py\", line 481, in _handle_recv\n",
            "    self._run_callback(callback, msg)\n",
            "  File \"/usr/local/lib/python3.7/dist-packages/zmq/eventloop/zmqstream.py\", line 431, in _run_callback\n",
            "    callback(*args, **kwargs)\n",
            "  File \"/usr/local/lib/python3.7/dist-packages/tornado/stack_context.py\", line 300, in null_wrapper\n",
            "    return fn(*args, **kwargs)\n",
            "  File \"<decorator-gen-151>\", line 2, in _dispatch_iopub\n",
            "  File \"/usr/local/lib/python3.7/dist-packages/ipyparallel/client/client.py\", line 73, in unpack_message\n",
            "    idents, msg = self.session.feed_identities(msg_parts, copy=False)\n",
            "  File \"/usr/local/lib/python3.7/dist-packages/jupyter_client/session.py\", line 853, in feed_identities\n",
            "    raise ValueError(\"DELIM not in msg_list\")\n",
            "ValueError: DELIM not in msg_list\n"
          ]
        },
        {
          "output_type": "stream",
          "name": "stdout",
          "text": [
            "...spatial support for each components given by the user\n",
            "{'recall': 0.0, 'precision': 0.0, 'accuracy': 0.0, 'f1_score': 0.0}\n",
            "['../drive/MyDrive/DS6011_Capstone_VisualNeuroscience/DATA/stackRaw/CLEANED/CLEAN_211106_1_1_stackRaw_mc_tm4_t5_syt_.h5']\n",
            "Waiting for connection file: ~/.ipython/profile_default/security/ipcontroller-client.json\n",
            "...................spatial support for each components given by the user\n",
            "{'recall': 0.2, 'precision': 0.09090909090909091, 'accuracy': 0.06666666666666667, 'f1_score': 0.125}\n",
            "[0.2608695652173913, 0.0, 0.07692307692307693, 0.0, 0.0, 0.125]\n",
            "Iteration No: 5 ended. Evaluation done at random point.\n",
            "Time taken: 864.1732\n",
            "Function value obtained: -0.0771\n",
            "Current minimum: -0.0940\n",
            "Iteration No: 6 started. Evaluating function at random point.\n",
            "[16, 3, 0.9019996, 3, 3, 0.8846153846153846]\n",
            "['../drive/MyDrive/DS6011_Capstone_VisualNeuroscience/DATA/stackRaw/CLEANED/CLEAN_210728_0_1_stackRaw_mc_tm2_tm9_syt_.h5']\n",
            "Waiting for connection file: ~/.ipython/profile_default/security/ipcontroller-client.json\n",
            "...................spatial support for each components given by the user\n",
            "{'recall': 0.16666666666666666, 'precision': 0.125, 'accuracy': 0.07692307692307693, 'f1_score': 0.14285714285714285}\n",
            "['../drive/MyDrive/DS6011_Capstone_VisualNeuroscience/DATA/stackRaw/CLEANED/CLEAN_210731_0_1_stackRaw_mc_mix2_syt_.h5']\n",
            "Waiting for connection file: ~/.ipython/profile_default/security/ipcontroller-client.json\n",
            "...................spatial support for each components given by the user\n",
            "{'recall': 0.0, 'precision': 0.0, 'accuracy': 0.0, 'f1_score': 0.0}\n",
            "['../drive/MyDrive/DS6011_Capstone_VisualNeuroscience/DATA/stackRaw/CLEANED/CLEAN_210815_0_1_stackRaw_mc_mix1_syt_.h5']\n",
            "Waiting for connection file: ~/.ipython/profile_default/security/ipcontroller-client.json\n",
            "...................spatial support for each components given by the user\n",
            "{'recall': 0.06666666666666667, 'precision': 0.0625, 'accuracy': 0.03333333333333333, 'f1_score': 0.06451612903225806}\n",
            "['../drive/MyDrive/DS6011_Capstone_VisualNeuroscience/DATA/stackRaw/CLEANED/CLEAN_211023_0_1_stackRaw_mc_tm2_tm4_syt_.h5']\n",
            "Waiting for connection file: ~/.ipython/profile_default/security/ipcontroller-client.json\n",
            "...................spatial support for each components given by the user\n",
            "{'recall': 0.0, 'precision': 0.0, 'accuracy': 0.0, 'f1_score': 0.0}\n",
            "['../drive/MyDrive/DS6011_Capstone_VisualNeuroscience/DATA/stackRaw/CLEANED/CLEAN_211106_0_1_stackRaw_mc_tm1_t5_syt_.h5']\n",
            "Waiting for connection file: ~/.ipython/profile_default/security/ipcontroller-client.json\n",
            "..............."
          ]
        },
        {
          "output_type": "stream",
          "name": "stderr",
          "text": [
            "/content/CaImAn/caiman/summary_images.py:217: RuntimeWarning: invalid value encountered in true_divide\n",
            "  w_mov = (Y - np.mean(Y, axis=0)) / np.std(Y, axis=0)\n"
          ]
        },
        {
          "output_type": "stream",
          "name": "stdout",
          "text": [
            "....spatial support for each components given by the user\n",
            "{'recall': 0.0, 'precision': 0.0, 'accuracy': 0.0, 'f1_score': 0.0}\n",
            "['../drive/MyDrive/DS6011_Capstone_VisualNeuroscience/DATA/stackRaw/CLEANED/CLEAN_211106_1_1_stackRaw_mc_tm4_t5_syt_.h5']\n",
            "Waiting for connection file: ~/.ipython/profile_default/security/ipcontroller-client.json\n",
            "...................spatial support for each components given by the user\n",
            "{'recall': 0.0, 'precision': 0.0, 'accuracy': 0.0, 'f1_score': 0.0}\n",
            "[0.14285714285714285, 0.0, 0.06451612903225806, 0.0, 0.0, 0.0]\n",
            "Iteration No: 6 ended. Evaluation done at random point.\n",
            "Time taken: 1003.6404\n",
            "Function value obtained: -0.0346\n",
            "Current minimum: -0.0940\n",
            "Iteration No: 7 started. Evaluating function at random point.\n",
            "[14, 1, 0.9119976, 4, 3, 0.9615384615384616]\n",
            "['../drive/MyDrive/DS6011_Capstone_VisualNeuroscience/DATA/stackRaw/CLEANED/CLEAN_210728_0_1_stackRaw_mc_tm2_tm9_syt_.h5']\n",
            "Waiting for connection file: ~/.ipython/profile_default/security/ipcontroller-client.json\n",
            "...................spatial support for each components given by the user\n",
            "{'recall': 0.3333333333333333, 'precision': 0.2857142857142857, 'accuracy': 0.18181818181818182, 'f1_score': 0.3076923076923077}\n",
            "['../drive/MyDrive/DS6011_Capstone_VisualNeuroscience/DATA/stackRaw/CLEANED/CLEAN_210731_0_1_stackRaw_mc_mix2_syt_.h5']\n",
            "Waiting for connection file: ~/.ipython/profile_default/security/ipcontroller-client.json\n",
            "..................spatial support for each components given by the user\n",
            "{'recall': 0.0, 'precision': 0.0, 'accuracy': 0.0, 'f1_score': 0.0}\n",
            "['../drive/MyDrive/DS6011_Capstone_VisualNeuroscience/DATA/stackRaw/CLEANED/CLEAN_210815_0_1_stackRaw_mc_mix1_syt_.h5']\n",
            "Waiting for connection file: ~/.ipython/profile_default/security/ipcontroller-client.json\n",
            "...................spatial support for each components given by the user\n",
            "{'recall': 0.06666666666666667, 'precision': 0.07142857142857142, 'accuracy': 0.03571428571428571, 'f1_score': 0.06896551724137931}\n",
            "['../drive/MyDrive/DS6011_Capstone_VisualNeuroscience/DATA/stackRaw/CLEANED/CLEAN_211023_0_1_stackRaw_mc_tm2_tm4_syt_.h5']\n",
            "Waiting for connection file: ~/.ipython/profile_default/security/ipcontroller-client.json\n",
            "...................spatial support for each components given by the user\n",
            "{'recall': 0.09090909090909091, 'precision': 0.07142857142857142, 'accuracy': 0.041666666666666664, 'f1_score': 0.08}\n",
            "['../drive/MyDrive/DS6011_Capstone_VisualNeuroscience/DATA/stackRaw/CLEANED/CLEAN_211106_0_1_stackRaw_mc_tm1_t5_syt_.h5']\n",
            "Waiting for connection file: ~/.ipython/profile_default/security/ipcontroller-client.json\n",
            "..............."
          ]
        },
        {
          "output_type": "stream",
          "name": "stderr",
          "text": [
            "/content/CaImAn/caiman/summary_images.py:217: RuntimeWarning: invalid value encountered in true_divide\n",
            "  w_mov = (Y - np.mean(Y, axis=0)) / np.std(Y, axis=0)\n"
          ]
        },
        {
          "output_type": "stream",
          "name": "stdout",
          "text": [
            "....spatial support for each components given by the user\n",
            "{'recall': 0.0, 'precision': 0.0, 'accuracy': 0.0, 'f1_score': 0.0}\n",
            "['../drive/MyDrive/DS6011_Capstone_VisualNeuroscience/DATA/stackRaw/CLEANED/CLEAN_211106_1_1_stackRaw_mc_tm4_t5_syt_.h5']\n",
            "Waiting for connection file: ~/.ipython/profile_default/security/ipcontroller-client.json\n",
            "..................spatial support for each components given by the user\n",
            "{'recall': 0.2, 'precision': 0.07142857142857142, 'accuracy': 0.05555555555555555, 'f1_score': 0.10526315789473684}\n",
            "[0.3076923076923077, 0.0, 0.06896551724137931, 0.08, 0.0, 0.10526315789473684]\n",
            "Iteration No: 7 ended. Evaluation done at random point.\n",
            "Time taken: 757.4504\n",
            "Function value obtained: -0.0937\n",
            "Current minimum: -0.0940\n",
            "Iteration No: 8 started. Evaluating function at random point.\n",
            "[19, 2, 0.9219956, 2, 3, 1.0384615384615383]\n",
            "['../drive/MyDrive/DS6011_Capstone_VisualNeuroscience/DATA/stackRaw/CLEANED/CLEAN_210728_0_1_stackRaw_mc_tm2_tm9_syt_.h5']\n",
            "Waiting for connection file: ~/.ipython/profile_default/security/ipcontroller-client.json\n",
            "...................spatial support for each components given by the user\n",
            "{'recall': 0.3333333333333333, 'precision': 0.21052631578947367, 'accuracy': 0.14814814814814814, 'f1_score': 0.25806451612903225}\n",
            "['../drive/MyDrive/DS6011_Capstone_VisualNeuroscience/DATA/stackRaw/CLEANED/CLEAN_210731_0_1_stackRaw_mc_mix2_syt_.h5']\n",
            "Waiting for connection file: ~/.ipython/profile_default/security/ipcontroller-client.json\n",
            "...................spatial support for each components given by the user\n",
            "{'recall': 0.0, 'precision': 0.0, 'accuracy': 0.0, 'f1_score': 0.0}\n",
            "['../drive/MyDrive/DS6011_Capstone_VisualNeuroscience/DATA/stackRaw/CLEANED/CLEAN_210815_0_1_stackRaw_mc_mix1_syt_.h5']\n",
            "Waiting for connection file: ~/.ipython/profile_default/security/ipcontroller-client.json\n",
            "...................spatial support for each components given by the user\n",
            "{'recall': 0.06666666666666667, 'precision': 0.05263157894736842, 'accuracy': 0.030303030303030304, 'f1_score': 0.058823529411764705}\n",
            "['../drive/MyDrive/DS6011_Capstone_VisualNeuroscience/DATA/stackRaw/CLEANED/CLEAN_211023_0_1_stackRaw_mc_tm2_tm4_syt_.h5']\n",
            "Waiting for connection file: ~/.ipython/profile_default/security/ipcontroller-client.json\n",
            "...................spatial support for each components given by the user\n",
            "{'recall': 0.0, 'precision': 0.0, 'accuracy': 0.0, 'f1_score': 0.0}\n",
            "['../drive/MyDrive/DS6011_Capstone_VisualNeuroscience/DATA/stackRaw/CLEANED/CLEAN_211106_0_1_stackRaw_mc_tm1_t5_syt_.h5']\n",
            "Waiting for connection file: ~/.ipython/profile_default/security/ipcontroller-client.json\n",
            "..............."
          ]
        },
        {
          "output_type": "stream",
          "name": "stderr",
          "text": [
            "/content/CaImAn/caiman/summary_images.py:217: RuntimeWarning: invalid value encountered in true_divide\n",
            "  w_mov = (Y - np.mean(Y, axis=0)) / np.std(Y, axis=0)\n"
          ]
        },
        {
          "output_type": "stream",
          "name": "stdout",
          "text": [
            "....spatial support for each components given by the user\n",
            "{'recall': 0.0, 'precision': 0.0, 'accuracy': 0.0, 'f1_score': 0.0}\n",
            "['../drive/MyDrive/DS6011_Capstone_VisualNeuroscience/DATA/stackRaw/CLEANED/CLEAN_211106_1_1_stackRaw_mc_tm4_t5_syt_.h5']\n",
            "Waiting for connection file: ~/.ipython/profile_default/security/ipcontroller-client.json\n",
            "...................spatial support for each components given by the user\n",
            "{'recall': 0.2, 'precision': 0.05263157894736842, 'accuracy': 0.043478260869565216, 'f1_score': 0.08333333333333333}\n",
            "[0.25806451612903225, 0.0, 0.058823529411764705, 0.0, 0.0, 0.08333333333333333]\n",
            "Iteration No: 8 ended. Evaluation done at random point.\n",
            "Time taken: 981.4300\n",
            "Function value obtained: -0.0667\n",
            "Current minimum: -0.0940\n",
            "Iteration No: 9 started. Evaluating function at random point.\n"
          ]
        }
      ]
    },
    {
      "cell_type": "code",
      "metadata": {
        "colab": {
          "base_uri": "https://localhost:8080/"
        },
        "id": "o51vLguAbVcW",
        "outputId": "af3507bc-3405-4dc3-92fd-28aeeb7b39ea"
      },
      "source": [
        "results"
      ],
      "execution_count": 19,
      "outputs": [
        {
          "output_type": "execute_result",
          "data": {
            "text/plain": [
              "          fun: -0.09401511365529357\n",
              "    func_vals: array([-0.08981241, -0.04814815, -0.05401235, -0.09401511, -0.07713211,\n",
              "       -0.03456221, -0.0936535 , -0.06670356])\n",
              "       models: []\n",
              " random_state: RandomState(MT19937) at 0x7FA19940E050\n",
              "        space: Space([Integer(low=10, high=20, prior='uniform', transform='normalize'),\n",
              "       Integer(low=1, high=3, prior='uniform', transform='normalize'),\n",
              "       Real(low=0.9, high=0.94999, prior='uniform', transform='normalize'),\n",
              "       Integer(low=2, high=4, prior='uniform', transform='normalize'),\n",
              "       Integer(low=2, high=4, prior='uniform', transform='normalize'),\n",
              "       Real(low=0.5, high=1.5, prior='uniform', transform='normalize')])\n",
              "        specs: {'args': {'func': <function objective at 0x7fa0eea779e0>, 'dimensions': Space([Integer(low=10, high=20, prior='uniform', transform='normalize'),\n",
              "       Integer(low=1, high=3, prior='uniform', transform='normalize'),\n",
              "       Real(low=0.9, high=0.94999, prior='uniform', transform='normalize'),\n",
              "       Integer(low=2, high=4, prior='uniform', transform='normalize'),\n",
              "       Integer(low=2, high=4, prior='uniform', transform='normalize'),\n",
              "       Real(low=0.5, high=1.5, prior='uniform', transform='normalize')]), 'base_estimator': GaussianProcessRegressor(kernel=1**2 * Matern(length_scale=[1, 1, 1, 1, 1, 1], nu=2.5),\n",
              "                         n_restarts_optimizer=2, noise='gaussian',\n",
              "                         normalize_y=True, random_state=1116426915), 'n_calls': 100, 'n_random_starts': None, 'n_initial_points': 10, 'initial_point_generator': 'halton', 'acq_func': 'gp_hedge', 'acq_optimizer': 'auto', 'x0': None, 'y0': None, 'random_state': RandomState(MT19937) at 0x7FA19940E050, 'verbose': True, 'callback': [<skopt.callbacks.CheckpointSaver object at 0x7fa0eea6ef90>, <skopt.callbacks.DeltaYStopper object at 0x7fa0eea6ef50>, <skopt.callbacks.DeadlineStopper object at 0x7fa0eea6efd0>, <skopt.callbacks.VerboseCallback object at 0x7fa0f01de750>], 'n_points': 10000, 'n_restarts_optimizer': 5, 'xi': 0.01, 'kappa': 1.96, 'n_jobs': 2, 'model_queue_size': None}, 'function': 'base_minimize'}\n",
              "            x: [18, 1, 0.929994, 3, 3, 0.7307692307692308]\n",
              "      x_iters: [[10, 1, 0.9, 2, 2, 0.5], [15, 2, 0.909998, 2, 2, 0.5769230769230769], [12, 2, 0.919996, 3, 2, 0.6538461538461539], [18, 1, 0.929994, 3, 3, 0.7307692307692308], [11, 2, 0.939992, 3, 3, 0.8076923076923077], [16, 3, 0.9019996, 3, 3, 0.8846153846153846], [14, 1, 0.9119976, 4, 3, 0.9615384615384616], [19, 2, 0.9219956, 2, 3, 1.0384615384615383]]"
            ]
          },
          "metadata": {},
          "execution_count": 19
        }
      ]
    },
    {
      "cell_type": "code",
      "metadata": {
        "id": "NvhFGPKvLhiK",
        "colab": {
          "base_uri": "https://localhost:8080/",
          "height": 314
        },
        "outputId": "24196064-cf60-452f-a5fe-061e794aa818"
      },
      "source": [
        "skopt.plots.plot_convergence(results)"
      ],
      "execution_count": 20,
      "outputs": [
        {
          "output_type": "execute_result",
          "data": {
            "text/plain": [
              "<matplotlib.axes._subplots.AxesSubplot at 0x7fa0ec8e8310>"
            ]
          },
          "metadata": {},
          "execution_count": 20
        },
        {
          "output_type": "display_data",
          "data": {
            "image/png": "[encoded data removed]",
            "text/plain": [
              "<Figure size 432x288 with 1 Axes>"
            ]
          },
          "metadata": {
            "needs_background": "light"
          }
        }
      ]
    },
    {
      "cell_type": "code",
      "metadata": {
        "id": "_9QJR1mbLbiM",
        "colab": {
          "base_uri": "https://localhost:8080/",
          "height": 1000
        },
        "outputId": "fa75ed11-fa35-4c82-81ee-a082dd883f6f"
      },
      "source": [
        "skopt.plots.plot_objective(results)"
      ],
      "execution_count": 21,
      "outputs": [
        {
          "output_type": "error",
          "ename": "IndexError",
          "evalue": "ignored",
          "traceback": [
            "\u001b[0;31m---------------------------------------------------------------------------\u001b[0m",
            "\u001b[0;31mIndexError\u001b[0m                                Traceback (most recent call last)",
            "\u001b[0;32m<ipython-input-21-3da29497f714>\u001b[0m in \u001b[0;36m<module>\u001b[0;34m()\u001b[0m\n\u001b[0;32m----> 1\u001b[0;31m \u001b[0mskopt\u001b[0m\u001b[0;34m.\u001b[0m\u001b[0mplots\u001b[0m\u001b[0;34m.\u001b[0m\u001b[0mplot_objective\u001b[0m\u001b[0;34m(\u001b[0m\u001b[0mresults\u001b[0m\u001b[0;34m)\u001b[0m\u001b[0;34m\u001b[0m\u001b[0;34m\u001b[0m\u001b[0m\n\u001b[0m",
            "\u001b[0;32m/usr/local/lib/python3.7/dist-packages/skopt/plots.py\u001b[0m in \u001b[0;36mplot_objective\u001b[0;34m(result, levels, n_points, n_samples, size, zscale, dimensions, sample_source, minimum, n_minimum_search, plot_dims, show_points, cmap)\u001b[0m\n\u001b[1;32m    722\u001b[0m             \u001b[0;32mif\u001b[0m \u001b[0mi\u001b[0m \u001b[0;34m==\u001b[0m \u001b[0mj\u001b[0m\u001b[0;34m:\u001b[0m\u001b[0;34m\u001b[0m\u001b[0;34m\u001b[0m\u001b[0m\n\u001b[1;32m    723\u001b[0m                 \u001b[0mindex\u001b[0m\u001b[0;34m,\u001b[0m \u001b[0mdim\u001b[0m \u001b[0;34m=\u001b[0m \u001b[0mplot_dims\u001b[0m\u001b[0;34m[\u001b[0m\u001b[0mi\u001b[0m\u001b[0;34m]\u001b[0m\u001b[0;34m\u001b[0m\u001b[0;34m\u001b[0m\u001b[0m\n\u001b[0;32m--> 724\u001b[0;31m                 xi, yi = partial_dependence_1D(space, result.models[-1],\n\u001b[0m\u001b[1;32m    725\u001b[0m                                                \u001b[0mindex\u001b[0m\u001b[0;34m,\u001b[0m\u001b[0;34m\u001b[0m\u001b[0;34m\u001b[0m\u001b[0m\n\u001b[1;32m    726\u001b[0m                                                \u001b[0msamples\u001b[0m\u001b[0;34m=\u001b[0m\u001b[0msamples\u001b[0m\u001b[0;34m,\u001b[0m\u001b[0;34m\u001b[0m\u001b[0;34m\u001b[0m\u001b[0m\n",
            "\u001b[0;31mIndexError\u001b[0m: list index out of range"
          ]
        },
        {
          "output_type": "display_data",
          "data": {
            "image/png": "[encoded data removed]",
            "text/plain": [
              "<Figure size 864x864 with 36 Axes>"
            ]
          },
          "metadata": {
            "needs_background": "light"
          }
        }
      ]
    },
    {
      "cell_type": "markdown",
      "metadata": {
        "id": "dt9VjwbVsvI7"
      },
      "source": [
        "## Old working code"
      ]
    },
    {
      "cell_type": "code",
      "metadata": {
        "id": "PcRf62puVu1u"
      },
      "source": [
        "# #tests score_all_stacks directly\n",
        "# dummy_in = [13, 2, 0.9, 5, 10, .8]\n",
        "# score_all_stacks(dummy_in)"
      ],
      "execution_count": null,
      "outputs": []
    },
    {
      "cell_type": "code",
      "metadata": {
        "id": "nG6EVQNSdPr8"
      },
      "source": [
        "# #tests score_params directly\n",
        "# opts.data['fnames'] = ['../drive/MyDrive/DS6011_Capstone_VisualNeuroscience/DATA/stackRaw/CLEANED/CLEAN_210728_0_1_stackRaw_mc_tm2_tm9_syt_.mat']\n",
        "# score_params(path_to_masks='../drive/MyDrive/DS6011_Capstone_VisualNeuroscience/DATA/manualROIs/210728_0_1_manualROIs_tm2_tm9_syt.mat', \\\n",
        "#               path_to_stack='../drive/MyDrive/DS6011_Capstone_VisualNeuroscience/DATA/stackRaw/CLEANED/CLEAN_210728_0_1_stackRaw_mc_tm2_tm9_syt_.mat', \\\n",
        "#               opts=opts)"
      ],
      "execution_count": null,
      "outputs": []
    },
    {
      "cell_type": "code",
      "metadata": {
        "id": "ugOP9IDygmWK"
      },
      "source": [
        "# #tests cnm directly\n",
        "# opts.quality['use_cnn'] = True\n",
        "# opts.data['fnames'] = ['../drive/MyDrive/DS6011_Capstone_VisualNeuroscience/DATA/stackRaw/CLEANED/CLEAN_210728_0_1_stackRaw_mc_tm2_tm9_syt_.mat']\n",
        "\n",
        "# if 'dview' in locals():\n",
        "#     cm.stop_server(dview=dview)\n",
        "# dview = cm.cluster.start_server(ncpus=2)\n",
        "# cnm = cnmf.CNMF(n_processes=2, params=opts, dview=dview)\n",
        "# #print('cnm object initialized')\n",
        "# cnm = cnm.fit_file(motion_correct = False, include_eval=True)\n",
        "# cm.stop_server(dview=dview)\n",
        "\n",
        "# cnm.estimates.A"
      ],
      "execution_count": null,
      "outputs": []
    },
    {
      "cell_type": "code",
      "metadata": {
        "id": "sCBKNW4psfBn"
      },
      "source": [
        "# #tests masks and scoring directly \n",
        "# fnames = ['../drive/MyDrive/DS6011_Capstone_VisualNeuroscience/DATA/stackRaw/CLEANED/CLEAN_210728_0_1_stackRaw_mc_tm2_tm9_syt_.h5']\n",
        "# path_to_masks='../drive/MyDrive/DS6011_Capstone_VisualNeuroscience/DATA/manualROIs/210728_0_1_manualROIs_tm2_tm9_syt.mat'\n",
        "# #Read in masks and reformat\n",
        "# g = h5py.File(path_to_masks, 'r')\n",
        "\n",
        "# #transpose the matrix and save to an array A\n",
        "# mask_A = g['bwMaskStack'][:].T\n",
        "\n",
        "# g.close()\n",
        "\n",
        "# #rearrange the dimensions and show the new shape\n",
        "# mask_A = mask_A.transpose(1,0,2)\n",
        "\n",
        "# #reshape to 2D, first dimension is 128*256 (32768), 2nd dimension is the # of ROI's\n",
        "# mask_A = mask_A.reshape((mask_A.shape[1]*mask_A.shape[0]), mask_A.shape[2])\n",
        "\n",
        "# #convert the values from 0/1 to boolean False/True\n",
        "# mask_A = np.array(mask_A, dtype=bool)\n",
        "# #print('mask read in and reformatted')\n",
        "\n",
        "# if 'dview' in locals():\n",
        "#     cm.stop_server(dview=dview)\n",
        "# dview = cm.cluster.start_server(ncpus=2)\n",
        "\n",
        "# #Seeded CNMF only works when seeded using mmap\n",
        "# #import pathlib\n",
        "\n",
        "# #create memmory map location for the original movie\n",
        "# #fname_new = cm.save_memmap(fnames, base_name=pathlib.Path(fnames[0]).stem + \"_memmap_\", order='C')\n",
        "\n",
        "# #read data from mmap location\n",
        "# Yr, dims, T = cm.load_memmap(cnm.mmap_file)\n",
        "\n",
        "# # load frames in python format (T x X x Y)\n",
        "# mov = np.reshape(Yr.T, [T] + list(dims), order='F')\n",
        "# #print('movie matrix loaded for seeded cnmf')\n",
        "\n",
        "\n",
        "# #For seeded CNMF, need to adjust some params\n",
        "# opts.patch['only_init'] = False\n",
        "# opts.patch['rf'] = None\n",
        "# opts.data['use_cnn'] = False\n",
        "\n",
        "# #print('params adjusted for seeded cnmf')\n",
        "    \n",
        "# #Initialize a new cnmf object and pass in our masks as the \"Ain\" param\n",
        "# #\"Ain\" is A-in, meaning the A matrix holding the spatial footprints of the roi's\n",
        "# cnm_seeded = cnmf.CNMF(n_processes = 2, params=opts, dview=None, Ain=mask_A)\n",
        "# #print('seeded cnmf object initialized')\n",
        "# cnm_seeded.fit(mov)\n",
        "# #print('seeded cnmf completed')\n",
        "\n",
        "# #Try running register_ROIs and see what happens\n",
        "# matched_ROIs1, matched_ROIs2, non_matched1, non_matched2, performance, A2 = cm.base.rois.register_ROIs(cnm_seeded.estimates.A, cnm.estimates.A, dims=dims)\n",
        "# #print('validation and scoring completed')\n",
        "\n",
        "# performance"
      ],
      "execution_count": null,
      "outputs": []
    }
  ]
}