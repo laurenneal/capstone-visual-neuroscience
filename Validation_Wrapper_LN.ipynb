{
  "nbformat": 4,
  "nbformat_minor": 0,
  "metadata": {
    "colab": {
      "name": "Validation Wrapper-LN.ipynb",
      "provenance": [],
      "collapsed_sections": [],
      "include_colab_link": true
    },
    "kernelspec": {
      "display_name": "Python 3",
      "name": "python3"
    },
    "language_info": {
      "name": "python"
    }
  },
  "cells": [
    {
      "cell_type": "markdown",
      "metadata": {
        "id": "view-in-github",
        "colab_type": "text"
      },
      "source": [
        "<a href=\"https://colab.research.google.com/github/laurenneal/capstone-visual-neuroscience/blob/Lauren/Validation_Wrapper_LN.ipynb\" target=\"_parent\"><img src=\"https://colab.research.google.com/assets/colab-badge.svg\" alt=\"Open In Colab\"/></a>"
      ]
    },
    {
      "cell_type": "markdown",
      "metadata": {
        "id": "DMQyPTVxwhVU"
      },
      "source": [
        "## Setup"
      ]
    },
    {
      "cell_type": "code",
      "metadata": {
        "colab": {
          "base_uri": "https://localhost:8080/"
        },
        "id": "BbIj2QeEAbTE",
        "outputId": "5a79a445-5e75-478a-804b-dd31dd9a1777"
      },
      "source": [
        "from google.colab import drive\n",
        "drive.mount('/content/drive')"
      ],
      "execution_count": 1,
      "outputs": [
        {
          "output_type": "stream",
          "name": "stdout",
          "text": [
            "Mounted at /content/drive\n"
          ]
        }
      ]
    },
    {
      "cell_type": "code",
      "metadata": {
        "colab": {
          "base_uri": "https://localhost:8080/"
        },
        "id": "VrE1xeswQNHM",
        "outputId": "69324078-acf5-4f9c-9295-23d70fe904a2"
      },
      "source": [
        "# Install CaImAn - takes around 2 minutes\n",
        "\n",
        "!git clone https://github.com/flatironinstitute/CaImAn.git\n",
        "%cd '/content/CaImAn/'\n",
        "!pip install -e .\n",
        "\n",
        "# Install caiman dependencies (&> /dev/null will suppress the hundreds of printed lines in the output)\n",
        "!pip install -r requirements.txt &> /dev/null\n",
        "\n",
        "#import other dependencies\n",
        "import cv2\n",
        "import glob\n",
        "import numpy as np\n",
        "import os\n",
        "import matplotlib.pyplot as plt\n",
        "import imageio\n",
        "\n",
        "#IMPORTANT! Newer versions of h5py will cause errors when saving results\n",
        "!pip install h5py==2.10.0\n",
        "import h5py\n",
        "\n",
        "#Set up caiman\n",
        "!python setup.py build_ext -i\n",
        "\n",
        "#Other file setup\n",
        "!python caimanmanager.py install --inplace\n",
        "\n",
        "#Caiman imports\n",
        "import caiman as cm\n",
        "from caiman.motion_correction import MotionCorrect\n",
        "from caiman.source_extraction.cnmf import cnmf as cnmf\n",
        "from caiman.source_extraction.cnmf import params as params\n",
        "from caiman.utils.utils import download_demo\n",
        "from caiman.utils.visualization import plot_contours, nb_view_patches, nb_plot_contour\n",
        "from caiman.summary_images import local_correlations_movie_offline\n",
        "from scipy.ndimage import center_of_mass\n",
        "from IPython.display import display, clear_output"
      ],
      "execution_count": 2,
      "outputs": [
        {
          "output_type": "stream",
          "name": "stdout",
          "text": [
            "Cloning into 'CaImAn'...\n",
            "remote: Enumerating objects: 24933, done.\u001b[K\n",
            "remote: Counting objects: 100% (868/868), done.\u001b[K\n",
            "remote: Compressing objects: 100% (432/432), done.\u001b[K\n",
            "remote: Total 24933 (delta 481), reused 753 (delta 419), pack-reused 24065\u001b[K\n",
            "Receiving objects: 100% (24933/24933), 518.57 MiB | 13.67 MiB/s, done.\n",
            "Resolving deltas: 100% (16694/16694), done.\n",
            "Checking out files: 100% (317/317), done.\n",
            "/content/CaImAn\n",
            "Obtaining file:///content/CaImAn\n",
            "Installing collected packages: caiman\n",
            "  Running setup.py develop for caiman\n",
            "Successfully installed caiman-1.9.7\n",
            "Collecting h5py==2.10.0\n",
            "  Downloading h5py-2.10.0-cp37-cp37m-manylinux1_x86_64.whl (2.9 MB)\n",
            "\u001b[K     |████████████████████████████████| 2.9 MB 3.5 MB/s \n",
            "\u001b[?25hRequirement already satisfied: numpy>=1.7 in /usr/local/lib/python3.7/dist-packages (from h5py==2.10.0) (1.19.5)\n",
            "Requirement already satisfied: six in /usr/local/lib/python3.7/dist-packages (from h5py==2.10.0) (1.15.0)\n",
            "Installing collected packages: h5py\n",
            "  Attempting uninstall: h5py\n",
            "    Found existing installation: h5py 3.1.0\n",
            "    Uninstalling h5py-3.1.0:\n",
            "      Successfully uninstalled h5py-3.1.0\n",
            "Successfully installed h5py-2.10.0\n",
            "running build_ext\n",
            "Installed /root/caiman_data\n"
          ]
        }
      ]
    },
    {
      "cell_type": "markdown",
      "metadata": {
        "id": "fCRFFvODsO4i"
      },
      "source": [
        "## Get paths to movie files and labelled ROI masks"
      ]
    },
    {
      "cell_type": "code",
      "metadata": {
        "colab": {
          "base_uri": "https://localhost:8080/"
        },
        "id": "DfNJcFmeEq23",
        "outputId": "9641c64d-d674-4cf0-8002-00a575c405b7"
      },
      "source": [
        "#get a list of our masks and a list of our stacks in the same order\n",
        "from os import listdir\n",
        "maskpath = '../drive/MyDrive/DS6011_Capstone_VisualNeuroscience/DATA/manualROIs'\n",
        "mask_filenames = [f for f in listdir(maskpath) if 'manualROIs' in f]\n",
        "mask_filenames = sorted(mask_filenames)\n",
        "mask_filenames"
      ],
      "execution_count": 4,
      "outputs": [
        {
          "output_type": "execute_result",
          "data": {
            "text/plain": [
              "['210728_0_1_manualROIs_tm2_tm9_syt.mat',\n",
              " '210731_0_1_manualROIs_mix2_syt.mat',\n",
              " '210815_0_1_manualROIs_mix1_syt.mat',\n",
              " '211023_0_1_manualROIs_tm2_tm4_syt.mat',\n",
              " '211106_0_1_manualROIs_tm1_t5_syt.mat',\n",
              " '211106_1_1_manualROIs_tm4_t5_syt.mat']"
            ]
          },
          "metadata": {},
          "execution_count": 4
        }
      ]
    },
    {
      "cell_type": "code",
      "metadata": {
        "colab": {
          "base_uri": "https://localhost:8080/"
        },
        "id": "KBBLhWJoFMXP",
        "outputId": "04831ee6-0f81-454c-eb0e-bc12a19e59e0"
      },
      "source": [
        "stack_indices = [x[:10] for x in mask_filenames] #get the index portion of the masks\n",
        "stack_celltypes = [x[22:(len(x)-4)] for x in mask_filenames] #get the cell type descriptions\n",
        "\n",
        "#create filenames in mat and h5, well only keep what exists\n",
        "stack_filenames_h5 = ['CLEAN_' + stack_indices[x] + '_stackRaw_mc_' + stack_celltypes[x] \\\n",
        "                   + '_.h5' for x in range(len(mask_filenames))] #reconstruct filenames for the movies we have masks for\n",
        "stack_filenames_mat = ['CLEAN_' + stack_indices[x] + '_stackRaw_mc_' + stack_celltypes[x] \\\n",
        "                   + '_.mat' for x in range(len(mask_filenames))] #reconstruct filenames for the movies we have masks for\n",
        "stack_filenames = stack_filenames_h5 + stack_filenames_mat \n",
        "stack_filenames"
      ],
      "execution_count": 5,
      "outputs": [
        {
          "output_type": "execute_result",
          "data": {
            "text/plain": [
              "['CLEAN_210728_0_1_stackRaw_mc_tm2_tm9_syt_.h5',\n",
              " 'CLEAN_210731_0_1_stackRaw_mc_mix2_syt_.h5',\n",
              " 'CLEAN_210815_0_1_stackRaw_mc_mix1_syt_.h5',\n",
              " 'CLEAN_211023_0_1_stackRaw_mc_tm2_tm4_syt_.h5',\n",
              " 'CLEAN_211106_0_1_stackRaw_mc_tm1_t5_syt_.h5',\n",
              " 'CLEAN_211106_1_1_stackRaw_mc_tm4_t5_syt_.h5',\n",
              " 'CLEAN_210728_0_1_stackRaw_mc_tm2_tm9_syt_.mat',\n",
              " 'CLEAN_210731_0_1_stackRaw_mc_mix2_syt_.mat',\n",
              " 'CLEAN_210815_0_1_stackRaw_mc_mix1_syt_.mat',\n",
              " 'CLEAN_211023_0_1_stackRaw_mc_tm2_tm4_syt_.mat',\n",
              " 'CLEAN_211106_0_1_stackRaw_mc_tm1_t5_syt_.mat',\n",
              " 'CLEAN_211106_1_1_stackRaw_mc_tm4_t5_syt_.mat']"
            ]
          },
          "metadata": {},
          "execution_count": 5
        }
      ]
    },
    {
      "cell_type": "code",
      "metadata": {
        "colab": {
          "base_uri": "https://localhost:8080/"
        },
        "id": "7cRs3HHyG0nV",
        "outputId": "ecee9ff0-dcd3-4fec-951a-0fc31493660f"
      },
      "source": [
        "#checking that files exist in our cleaned file\n",
        "stackpath = '../drive/MyDrive/DS6011_Capstone_VisualNeuroscience/DATA/stackRaw/CLEANED'\n",
        "stackfiles = [f for f in listdir(stackpath) if f in stack_filenames]\n",
        "stackfiles = sorted(stackfiles)\n",
        "stackfiles"
      ],
      "execution_count": 6,
      "outputs": [
        {
          "output_type": "execute_result",
          "data": {
            "text/plain": [
              "['CLEAN_210728_0_1_stackRaw_mc_tm2_tm9_syt_.h5',\n",
              " 'CLEAN_210731_0_1_stackRaw_mc_mix2_syt_.h5',\n",
              " 'CLEAN_210815_0_1_stackRaw_mc_mix1_syt_.h5',\n",
              " 'CLEAN_211023_0_1_stackRaw_mc_tm2_tm4_syt_.h5',\n",
              " 'CLEAN_211106_0_1_stackRaw_mc_tm1_t5_syt_.h5',\n",
              " 'CLEAN_211106_1_1_stackRaw_mc_tm4_t5_syt_.h5']"
            ]
          },
          "metadata": {},
          "execution_count": 6
        }
      ]
    },
    {
      "cell_type": "code",
      "metadata": {
        "id": "BkrZMX_oLZ8J"
      },
      "source": [
        "#convert filenames back into paths\n",
        "maskpaths = [maskpath+'/'+f for f in mask_filenames]\n",
        "stackpaths = [stackpath+'/'+f for f in stackfiles]"
      ],
      "execution_count": 7,
      "outputs": []
    },
    {
      "cell_type": "code",
      "metadata": {
        "colab": {
          "base_uri": "https://localhost:8080/"
        },
        "id": "5O3Ta8XtKXFQ",
        "outputId": "2523d3d4-dbf7-4db5-da9f-34a59a16a8d3"
      },
      "source": [
        "#join the lists into pairs of tuples\n",
        "mask_stack_pairs = list(map(lambda x, y:[x,y], maskpaths, stackpaths))\n",
        "mask_stack_pairs"
      ],
      "execution_count": 8,
      "outputs": [
        {
          "output_type": "execute_result",
          "data": {
            "text/plain": [
              "[['../drive/MyDrive/DS6011_Capstone_VisualNeuroscience/DATA/manualROIs/210728_0_1_manualROIs_tm2_tm9_syt.mat',\n",
              "  '../drive/MyDrive/DS6011_Capstone_VisualNeuroscience/DATA/stackRaw/CLEANED/CLEAN_210728_0_1_stackRaw_mc_tm2_tm9_syt_.h5'],\n",
              " ['../drive/MyDrive/DS6011_Capstone_VisualNeuroscience/DATA/manualROIs/210731_0_1_manualROIs_mix2_syt.mat',\n",
              "  '../drive/MyDrive/DS6011_Capstone_VisualNeuroscience/DATA/stackRaw/CLEANED/CLEAN_210731_0_1_stackRaw_mc_mix2_syt_.h5'],\n",
              " ['../drive/MyDrive/DS6011_Capstone_VisualNeuroscience/DATA/manualROIs/210815_0_1_manualROIs_mix1_syt.mat',\n",
              "  '../drive/MyDrive/DS6011_Capstone_VisualNeuroscience/DATA/stackRaw/CLEANED/CLEAN_210815_0_1_stackRaw_mc_mix1_syt_.h5'],\n",
              " ['../drive/MyDrive/DS6011_Capstone_VisualNeuroscience/DATA/manualROIs/211023_0_1_manualROIs_tm2_tm4_syt.mat',\n",
              "  '../drive/MyDrive/DS6011_Capstone_VisualNeuroscience/DATA/stackRaw/CLEANED/CLEAN_211023_0_1_stackRaw_mc_tm2_tm4_syt_.h5'],\n",
              " ['../drive/MyDrive/DS6011_Capstone_VisualNeuroscience/DATA/manualROIs/211106_0_1_manualROIs_tm1_t5_syt.mat',\n",
              "  '../drive/MyDrive/DS6011_Capstone_VisualNeuroscience/DATA/stackRaw/CLEANED/CLEAN_211106_0_1_stackRaw_mc_tm1_t5_syt_.h5'],\n",
              " ['../drive/MyDrive/DS6011_Capstone_VisualNeuroscience/DATA/manualROIs/211106_1_1_manualROIs_tm4_t5_syt.mat',\n",
              "  '../drive/MyDrive/DS6011_Capstone_VisualNeuroscience/DATA/stackRaw/CLEANED/CLEAN_211106_1_1_stackRaw_mc_tm4_t5_syt_.h5']]"
            ]
          },
          "metadata": {},
          "execution_count": 8
        }
      ]
    },
    {
      "cell_type": "markdown",
      "metadata": {
        "id": "OzmBKC4DsV2y"
      },
      "source": [
        "## Initialize parameters object with starter values"
      ]
    },
    {
      "cell_type": "code",
      "metadata": {
        "id": "24iRFksugPTv"
      },
      "source": [
        "#create parameters object\n",
        "opts = params.CNMFParams()\n",
        "#fname will be assigned in the loop\n",
        "fnames = []\n",
        "subfolder = 'stackRaw_mc'"
      ],
      "execution_count": 9,
      "outputs": []
    },
    {
      "cell_type": "code",
      "metadata": {
        "id": "tLzfCy0wFb-g"
      },
      "source": [
        "# set initial values for extraction and evaluation\n",
        "# most of these are specific to our data and will not need to be changed during optimization\n",
        "\n",
        "# overall params about our data\n",
        "\n",
        "fr = 20                 # approximate frame rate of data - CONFIRMED FPS\n",
        "decay_time = .4         # length of transient - CONFIRMED APPROPRIATE FOR OUR INDICATOR GCaMP6f\n",
        "dims = [128, 256]       # dimensions of the FOV in pixels - CONFIRMED\n",
        "dxy = [.29, .29]        # resolution of 1 pixel in um - CONFIRMED BY CARL\n",
        "\n",
        "opts.set('data', {'fnames': fnames,\n",
        "                   'fr': fr,\n",
        "                   'decay_time': decay_time,\n",
        "                   'dims': dims,\n",
        "                   'dxy': dxy\n",
        "                  })\n",
        "\n",
        "\n",
        "# params related to the temporal traces\n",
        "\n",
        "p = 1                   # order of the autoregressive system - 0 from carl's code, probably should be 1\n",
        "fudge_factor = 1        # (default is 0.96; Carl's value = 1) -- bias correction factor for discrete time constants\n",
        "ITER = 5                # (default is 2; Carl's value=5) -- block coordinate descent iterations\n",
        "tnb = 2                  # temporal global background components - TUNE\n",
        "\n",
        "opts.set('temporal', {'p': p,\n",
        "                      'fudge_factor': fudge_factor,\n",
        "                      'ITER': ITER,\n",
        "                      'nb': tnb\n",
        "                 })\n",
        "\n",
        "# p is also set in the preprocessing step\n",
        "opts.set('preprocess', {'p': p\n",
        "                 })\n",
        "\n",
        "\n",
        "\n",
        "# params related to the FOV and patches for parallel processing\n",
        "\n",
        "is_patches = True      # flag for processing in patches or not - turn on or off\n",
        "\n",
        "if is_patches:          # PROCESS IN PATCHES AND THEN COMBINE \n",
        "    rf = 25             # half size of each patch -not tuned\n",
        "    stride = 5          # overlap between patches -not tuned\n",
        "    K = 3               # number of components in each patch - TUNE - gets set later in INIT params\n",
        "    p_patch = p\n",
        "\n",
        "else:                   # PROCESS THE WHOLE FOV AT ONCE\n",
        "    rf = None           # setting these parameters to None Not used\n",
        "    stride = None       # will run CNMF on the whole FOV not used\n",
        "    K = 20              # number of neurons expected (in the whole FOV) - not used\n",
        "\n",
        "n_processes = 2         # Number of processes to run in parallel, 2 for 2 cores available in Colab\n",
        "\n",
        "opts.set('patch', {'rf': rf,\n",
        "                   'stride': stride,\n",
        "                   'n_processes': n_processes,\n",
        "                   'p_patch': p\n",
        "                  })   \n",
        "\n",
        "\n",
        "\n",
        "# initialization params\n",
        "ssub = 2                # spatial downsampling\n",
        "tsub = 2                # temporal downsampling\n",
        "ssub_B = 3              # background spatial downsampling\n",
        "gSig = [4,4]            # radius (half-size) of average neurons (in pixels)\n",
        "nb = 2                  # number of background components\n",
        "\n",
        "opts.set('init', {'K': K,            # declared above in patch params    \n",
        "                   'gSig': gSig,      \n",
        "                   'tsub': tsub,\n",
        "                   'ssub': ssub,\n",
        "                   'ssub_B': ssub_B,\n",
        "                   'nb': nb\n",
        "                  })\n",
        "\n",
        "# parameters related to merging correlated ROIs\n",
        "merge_thr = 0.9     # merging threshold, max correlation allowed - TUNE\n",
        "\n",
        "opts.set('merging', {'merge_thr': merge_thr\n",
        "                            })\n",
        "\n",
        "\n",
        "#set some spatial params\n",
        "snb = 2                  # spatial global background components - TUNE\n",
        "\n",
        "opts.set('spatial', {'nb': snb\n",
        "                            })\n",
        "\n",
        "# %% COMPONENT EVALUATION\n",
        "# the components are evaluated in three ways:\n",
        "#   a) the shape of each component must be correlated with the data\n",
        "#   b) a minimum peak SNR is required over the length of a transient\n",
        "#   c) each shape passes a CNN based classifier (this will pick up only neurons\n",
        "#           and filter out active processes)\n",
        "\n",
        "\n",
        "#Not sure if these should be tuned or not\n",
        "\n",
        "min_SNR = 2.5      # peak SNR for accepted components (if above this, acept)\n",
        "SNR_lowest = 1         # minimum SNR for accepted components (if below this, reject)\n",
        "rval_thr = 0.9     # space correlation threshold (if above this, accept)\n",
        "\n",
        "use_cnn = False      # use the CNN classifier affects if 2 below params are used\n",
        "min_cnn_thr = 0.9  # if cnn classifier predicts below this value, reject\n",
        "cnn_lowest = 0.1   # neurons with cnn probability lower than this value are rejected\n",
        "\n",
        "opts.set('quality', {'min_SNR': min_SNR,\n",
        "                     'SNR_lowest': SNR_lowest,\n",
        "                     'rval_thr': rval_thr,\n",
        "                     'use_cnn': use_cnn,\n",
        "                     'min_cnn_thr': min_cnn_thr,\n",
        "                     'cnn_lowest': cnn_lowest})\n",
        "\n",
        "\n",
        "#Manually assign subfolder variable\n",
        "opts.motion['var_name_hdf5'] = subfolder\n",
        "opts.data['var_name_hdf5'] = subfolder"
      ],
      "execution_count": 10,
      "outputs": []
    },
    {
      "cell_type": "markdown",
      "metadata": {
        "id": "8T37S56psacn"
      },
      "source": [
        "## Define pipeline function to run Caiman"
      ]
    },
    {
      "cell_type": "code",
      "metadata": {
        "id": "1yT59EZk84XL"
      },
      "source": [
        "#Function to run cnmf, run seeded cnmf using masks, then return validation\n",
        "\n",
        "def score_params(path_to_stack, path_to_masks, opts):\n",
        "  import warnings\n",
        "  warnings.simplefilter(action='ignore', category=FutureWarning)\n",
        "\n",
        "  fnames = [path_to_stack]\n",
        "\n",
        "  try:\n",
        "\n",
        "    if 'dview' in locals():\n",
        "      cm.stop_server(dview=dview)\n",
        "    dview = cm.cluster.start_server(ncpus=2)\n",
        "\n",
        "    #Run CNMF on raw stack using passed params\n",
        "    #print('starting cnmf')\n",
        "    cnm = cnmf.CNMF(n_processes = 2, params=opts, dview=dview)\n",
        "    #print('cnm object initialized')\n",
        "    cnm = cnm.fit_file(motion_correct = False, include_eval=True)\n",
        "    #print('cnmf and component evaluation completed')\n",
        "\n",
        "\n",
        "    #Read in masks and reformat\n",
        "    g = h5py.File(path_to_masks, 'r')\n",
        "\n",
        "    #transpose the matrix and save to an array A\n",
        "    mask_A = g['bwMaskStack'][:].T\n",
        "\n",
        "    g.close()\n",
        "\n",
        "    #rearrange the dimensions and show the new shape\n",
        "    mask_A = mask_A.transpose(1,0,2)\n",
        "\n",
        "    #reshape to 2D, first dimension is 128*256 (32768), 2nd dimension is the # of ROI's\n",
        "    mask_A = mask_A.reshape((mask_A.shape[1]*mask_A.shape[0]), mask_A.shape[2])\n",
        "\n",
        "    #convert the values from 0/1 to boolean False/True\n",
        "    mask_A = np.array(mask_A, dtype=bool)\n",
        "    #print('mask read in and reformatted')\n",
        "\n",
        "    #Seeded CNMF only works when seeded using mmap\n",
        "    #import pathlib\n",
        "\n",
        "    #read data from the original cnmf's mmap location\n",
        "    Yr, dims, T = cm.load_memmap(cnm.mmap_file)\n",
        "\n",
        "    # load frames in python format (T x X x Y)\n",
        "    mov = np.reshape(Yr.T, [T] + list(dims), order='F')\n",
        "    #print('movie matrix loaded for seeded cnmf')\n",
        "\n",
        "\n",
        "    #For seeded CNMF, need to adjust some params\n",
        "    opts.patch['only_init'] = False\n",
        "    opts.data['use_cnn'] = False\n",
        "\n",
        "    #print('params adjusted for seeded cnmf')\n",
        "    \n",
        "    #Initialize a new cnmf object and pass in our masks as the \"Ain\" param\n",
        "    #\"Ain\" is A-in, meaning the A matrix holding the spatial footprints of the roi's\n",
        "    cnm_seeded = cnmf.CNMF(n_processes = 2, params=opts, dview=None, Ain=mask_A)\n",
        "    #print('seeded cnmf object initialized')\n",
        "    cnm_seeded.fit(mov)\n",
        "    #print('seeded cnmf completed')\n",
        "\n",
        "    #Try running register_ROIs and see what happens\n",
        "    matched_ROIs1, matched_ROIs2, non_matched1, non_matched2, performance, A2 = cm.base.rois.register_ROIs(cnm_seeded.estimates.A, cnm.estimates.A, dims=dims)\n",
        "    #print('validation and scoring completed')\n",
        "\n",
        "    #restore params for the next regular cnmf iteration\n",
        "    opts.patch['only_init'] = True\n",
        "    #opts.data['use_cnn'] = True\n",
        "\n",
        "    cm.stop_server(dview=dview)\n",
        "\n",
        "\n",
        "    #return performance metrics\n",
        "    return {'matched_ROIs1': matched_ROIs1,\n",
        "            'matched_ROIs2': matched_ROIs2,\n",
        "            'non_matched1': non_matched1,\n",
        "            'non_matched2': non_matched2, \n",
        "            'performance': performance,\n",
        "            'A2': A2,\n",
        "            'cnm_estimates': cnm.estimates,\n",
        "            'seeded_cnm_estimates': cnm_seeded.estimates}\n",
        "\n",
        "  except:\n",
        "    print('failed')\n",
        "    cm.stop_server(dview=dview)"
      ],
      "execution_count": 11,
      "outputs": []
    },
    {
      "cell_type": "markdown",
      "metadata": {
        "id": "2AT-5zoysj-B"
      },
      "source": [
        "## Function to score all our stacks and return the avg f1"
      ]
    },
    {
      "cell_type": "code",
      "metadata": {
        "id": "BJtcnIiCBWQb"
      },
      "source": [
        "#loop through the stack-mask pairs and print the accuracy results\n",
        "\n",
        "def score_all_stacks(all_params):\n",
        "\n",
        "  print(all_params)\n",
        "\n",
        "  K = all_params[0]\n",
        "  nb = all_params[1]\n",
        "  merge_thresh = all_params[2]\n",
        "  gSig = [all_params[3], all_params[4]] #param passes one value, recreate [x,y] structure\n",
        "  SNR_lowest = all_params[5]\n",
        "\n",
        "\n",
        "  from statistics import mean\n",
        "\n",
        "  #hard coded paths since these won't change for now, proceduralize later\n",
        "  mask_stack_pairs = [['../drive/MyDrive/DS6011_Capstone_VisualNeuroscience/DATA/manualROIs/210728_0_1_manualROIs_tm2_tm9_syt.mat',\n",
        "  '../drive/MyDrive/DS6011_Capstone_VisualNeuroscience/DATA/stackRaw/CLEANED/CLEAN_210728_0_1_stackRaw_mc_tm2_tm9_syt_.h5'],\n",
        " ['../drive/MyDrive/DS6011_Capstone_VisualNeuroscience/DATA/manualROIs/210731_0_1_manualROIs_mix2_syt.mat',\n",
        "  '../drive/MyDrive/DS6011_Capstone_VisualNeuroscience/DATA/stackRaw/CLEANED/CLEAN_210731_0_1_stackRaw_mc_mix2_syt_.h5'],\n",
        " ['../drive/MyDrive/DS6011_Capstone_VisualNeuroscience/DATA/manualROIs/210815_0_1_manualROIs_mix1_syt.mat',\n",
        "  '../drive/MyDrive/DS6011_Capstone_VisualNeuroscience/DATA/stackRaw/CLEANED/CLEAN_210815_0_1_stackRaw_mc_mix1_syt_.h5'],\n",
        " ['../drive/MyDrive/DS6011_Capstone_VisualNeuroscience/DATA/manualROIs/211023_0_1_manualROIs_tm2_tm4_syt.mat',\n",
        "  '../drive/MyDrive/DS6011_Capstone_VisualNeuroscience/DATA/stackRaw/CLEANED/CLEAN_211023_0_1_stackRaw_mc_tm2_tm4_syt_.h5'],\n",
        " ['../drive/MyDrive/DS6011_Capstone_VisualNeuroscience/DATA/manualROIs/211106_0_1_manualROIs_tm1_t5_syt.mat',\n",
        "  '../drive/MyDrive/DS6011_Capstone_VisualNeuroscience/DATA/stackRaw/CLEANED/CLEAN_211106_0_1_stackRaw_mc_tm1_t5_syt_.h5'],\n",
        " ['../drive/MyDrive/DS6011_Capstone_VisualNeuroscience/DATA/manualROIs/211106_1_1_manualROIs_tm4_t5_syt.mat',\n",
        "  '../drive/MyDrive/DS6011_Capstone_VisualNeuroscience/DATA/stackRaw/CLEANED/CLEAN_211106_1_1_stackRaw_mc_tm4_t5_syt_.h5']]\n",
        "\n",
        "\n",
        "\n",
        "  #Assign params passed in by the wrapper function\n",
        "  opts.init['K'] = K\n",
        "  opts.init['nb'] = nb #nb gets assigned in three different dicts\n",
        "  opts.spatial['nb'] = nb\n",
        "  opts.temporal['nb'] = nb\n",
        "  opts.merging['merge_thresh'] = merge_thresh\n",
        "  opts.init['gSig'] = gSig\n",
        "  opts.quality['SNR_lowest'] = SNR_lowest\n",
        "\n",
        "  #store precisions from each stack-mask pair for this iteration in a list, we'll return the average\n",
        "  f1s = []\n",
        "\n",
        "  #this loop will run all stacks through caiman using a given set of parameters to get the accuracy\n",
        "  for pair in mask_stack_pairs:\n",
        "    path_to_stack = pair[1]\n",
        "    path_to_masks = pair[0]\n",
        "\n",
        "    #set fnames before calling caiman function\n",
        "    opts.data['fnames'] = [path_to_stack]\n",
        "    print(opts.data['fnames'])\n",
        "\n",
        "    results = score_params(path_to_stack=path_to_stack, \\\n",
        "              path_to_masks=path_to_masks, \\\n",
        "              opts=opts)\n",
        "    \n",
        "    #store this stack-mask pair's precision\n",
        "    #later handle some kind of logging to keep a dict of info returned\n",
        "    f1s.append(results['performance']['f1_score'])\n",
        "\n",
        "    print(results['performance'])\n",
        "\n",
        "  #return the mean precision for all mask-stack pairs\n",
        "  #negative of the precision, so that the optimizer can minimize\n",
        "  print(f1s)\n",
        "  return -mean(f1s)\n",
        "\n"
      ],
      "execution_count": 12,
      "outputs": []
    },
    {
      "cell_type": "markdown",
      "metadata": {
        "id": "Mb433-9AHs1s"
      },
      "source": [
        "## Bayesian Model Optimization"
      ]
    },
    {
      "cell_type": "code",
      "metadata": {
        "colab": {
          "base_uri": "https://localhost:8080/"
        },
        "id": "eRTllB4wHZIZ",
        "outputId": "5c5fdb13-8177-403b-9ed6-9c916f47482c"
      },
      "source": [
        "!pip install scikit-optimize\n",
        "import skopt\n",
        "from skopt.callbacks import CheckpointSaver\n",
        "from skopt.callbacks import DeltaYStopper\n",
        "from skopt.callbacks import DeadlineStopper\n",
        "from skopt import plots\n",
        "from skopt import load"
      ],
      "execution_count": 13,
      "outputs": [
        {
          "output_type": "stream",
          "name": "stdout",
          "text": [
            "Collecting scikit-optimize\n",
            "  Downloading scikit_optimize-0.9.0-py2.py3-none-any.whl (100 kB)\n",
            "\u001b[?25l\r\u001b[K     |███▎                            | 10 kB 16.2 MB/s eta 0:00:01\r\u001b[K     |██████▌                         | 20 kB 12.0 MB/s eta 0:00:01\r\u001b[K     |█████████▉                      | 30 kB 9.0 MB/s eta 0:00:01\r\u001b[K     |█████████████                   | 40 kB 8.0 MB/s eta 0:00:01\r\u001b[K     |████████████████▍               | 51 kB 4.3 MB/s eta 0:00:01\r\u001b[K     |███████████████████▋            | 61 kB 4.5 MB/s eta 0:00:01\r\u001b[K     |██████████████████████▉         | 71 kB 4.4 MB/s eta 0:00:01\r\u001b[K     |██████████████████████████▏     | 81 kB 5.0 MB/s eta 0:00:01\r\u001b[K     |█████████████████████████████▍  | 92 kB 5.1 MB/s eta 0:00:01\r\u001b[K     |████████████████████████████████| 100 kB 1.4 MB/s \n",
            "\u001b[?25hRequirement already satisfied: joblib>=0.11 in /usr/local/lib/python3.7/dist-packages (from scikit-optimize) (1.1.0)\n",
            "Collecting pyaml>=16.9\n",
            "  Downloading pyaml-21.10.1-py2.py3-none-any.whl (24 kB)\n",
            "Requirement already satisfied: numpy>=1.13.3 in /usr/local/lib/python3.7/dist-packages (from scikit-optimize) (1.19.5)\n",
            "Requirement already satisfied: scipy>=0.19.1 in /usr/local/lib/python3.7/dist-packages (from scikit-optimize) (1.4.1)\n",
            "Requirement already satisfied: scikit-learn>=0.20.0 in /usr/local/lib/python3.7/dist-packages (from scikit-optimize) (1.0.1)\n",
            "Requirement already satisfied: PyYAML in /usr/local/lib/python3.7/dist-packages (from pyaml>=16.9->scikit-optimize) (3.13)\n",
            "Requirement already satisfied: threadpoolctl>=2.0.0 in /usr/local/lib/python3.7/dist-packages (from scikit-learn>=0.20.0->scikit-optimize) (3.0.0)\n",
            "Installing collected packages: pyaml, scikit-optimize\n",
            "Successfully installed pyaml-21.10.1 scikit-optimize-0.9.0\n"
          ]
        }
      ]
    },
    {
      "cell_type": "code",
      "metadata": {
        "id": "C6tFYAUmBPr0"
      },
      "source": [
        "# #load old checkpoints if we need - change path\n",
        "# checkpoints = skopt.load('../drive/MyDrive/DS6011_Capstone_VisualNeuroscience/DATA/search_checkpoints2.pkl')"
      ],
      "execution_count": 14,
      "outputs": []
    },
    {
      "cell_type": "code",
      "metadata": {
        "id": "vEmfHQiMSh07"
      },
      "source": [
        "#define the parameter space - this is the entirety of the space I want to explore and will take a long time to run\n",
        "\n",
        "#change params if needed\n",
        "SPACE = [\n",
        "        skopt.space.Integer(2, 25, name='K'), #number of ROIs to expect in the FOV\n",
        "        skopt.space.Integer(1,3, name='nb'), #measure of how much background noise to remove, minimum 2 but higher could remove ROIs\n",
        "        skopt.space.Real(.8, .9999, name= 'merge_thresh'), #how correlated ROIs need to be before they get merged\n",
        "        skopt.space.Integer(1, 10, name = 'gSig_wid'), #half-width of neurons - Supposedly the most important\n",
        "        skopt.space.Integer(1, 10, name = 'gSig_hei'), #half-height of neurons - Supposedly the most important\n",
        "        skopt.space.Real(.75, 2.25, name = 'SNR_lowest')] #Minimum SNR accepted for ROIs, (if below this, reject)"
      ],
      "execution_count": 15,
      "outputs": []
    },
    {
      "cell_type": "code",
      "metadata": {
        "id": "UCAv43maVVNO"
      },
      "source": [
        "#saves a checkpoint every iteration to this filepath\n",
        "\n",
        "#CHANGE THIS PATH OR FILENAME BEFORE YOU RUN THIS - LEAVE THE EXTENSION AS .PKL\n",
        "# 6 best / most complete thus far\n",
        "# -0.1449\n",
        "# (2, 25) K\n",
        "# (1,3) nb\n",
        "# (.8, .9999)\n",
        "# (1,10)\n",
        "# (1,10)\n",
        "# (0.75, 2.25)\n",
        "\n",
        "checkpoint_saver = CheckpointSaver('../drive/MyDrive/DS6011_Capstone_VisualNeuroscience/DATA/search_checkpoints_ln_attempt_7.pkl')\n",
        "\n",
        "#stopping criteria - stop if the 5 best iterations are within 3% of each other- might want to make more strict\n",
        "stopping_criteria = skopt.callbacks.DeltaYStopper(.01, n_best=5)\n",
        "\n",
        "#second criteria, stop after 11.5 hours if it hasn't stopped yet - takes time in seconds as argument\n",
        "mins = 11.5 * 60\n",
        "seconds = mins * 60\n",
        "stopping_criteria_2 = DeadlineStopper(total_time= seconds)\n",
        "\n",
        "\n",
        "# surrogate function, directly pass in parameter list, returns precision result directly\n",
        "#this is the function that the optimizer minimizes\n",
        "#score_all_stacks returns the precision * -1 so that the optimizer can minimize it\n",
        "def objective(parameters):\n",
        "    return score_all_stacks(parameters)"
      ],
      "execution_count": 16,
      "outputs": []
    },
    {
      "cell_type": "code",
      "metadata": {
        "id": "AbtrBS6sbvZe"
      },
      "source": [
        "# #load old checkpoints if we need - change path\n",
        "checkpoints = skopt.load('../drive/MyDrive/DS6011_Capstone_VisualNeuroscience/DATA/search_checkpoints_ln_attempt_6.pkl')\n",
        "x0 = checkpoints.x_iters\n",
        "y0 = checkpoints.func_vals"
      ],
      "execution_count": 17,
      "outputs": []
    },
    {
      "cell_type": "code",
      "metadata": {
        "colab": {
          "base_uri": "https://localhost:8080/"
        },
        "id": "hGFUFobpS_Z1",
        "outputId": "a37adf58-7b82-4d29-a2b2-c607d97b5c73"
      },
      "source": [
        "#optimizer using objective function, parameter space, checkpointer, stopping criteria\n",
        "\n",
        "#change minimizer function if needed\n",
        "results = skopt.gp_minimize(objective, \n",
        "                              SPACE,\n",
        "                              x0=x0,     # already examined values for x from checkpoints\n",
        "                              y0=y0,     # observed values for x0 from checkpoints \n",
        "                              callback=[checkpoint_saver, stopping_criteria, stopping_criteria_2], \n",
        "                              initial_point_generator = 'halton',\n",
        "                              n_jobs = 2,\n",
        "                              verbose=True)"
      ],
      "execution_count": 18,
      "outputs": [
        {
          "output_type": "stream",
          "name": "stdout",
          "text": [
            "Iteration No: 1 started. Evaluating function at random point.\n",
            "Iteration No: 1 ended. Evaluation done at random point.\n",
            "Time taken: 0.0165\n",
            "Function value obtained: -0.1501\n",
            "Current minimum: -0.1508\n",
            "Iteration No: 2 started. Evaluating function at random point.\n",
            "[11, 2, 0.9119440000000001, 3, 1, 1.797337278106509]\n",
            "['../drive/MyDrive/DS6011_Capstone_VisualNeuroscience/DATA/stackRaw/CLEANED/CLEAN_210728_0_1_stackRaw_mc_tm2_tm9_syt_.h5']\n",
            "Waiting for connection file: ~/.ipython/profile_default/security/ipcontroller-client.json\n",
            "............spatial support for each components given by the user\n",
            "{'recall': 0.5, 'precision': 0.0410958904109589, 'accuracy': 0.039473684210526314, 'f1_score': 0.0759493670886076}\n",
            "['../drive/MyDrive/DS6011_Capstone_VisualNeuroscience/DATA/stackRaw/CLEANED/CLEAN_210731_0_1_stackRaw_mc_mix2_syt_.h5']\n",
            "Waiting for connection file: ~/.ipython/profile_default/security/ipcontroller-client.json\n",
            "............spatial support for each components given by the user\n",
            "{'recall': 0.0, 'precision': 0.0, 'accuracy': 0.0, 'f1_score': 0.0}\n",
            "['../drive/MyDrive/DS6011_Capstone_VisualNeuroscience/DATA/stackRaw/CLEANED/CLEAN_210815_0_1_stackRaw_mc_mix1_syt_.h5']\n",
            "Waiting for connection file: ~/.ipython/profile_default/security/ipcontroller-client.json\n",
            "............spatial support for each components given by the user\n",
            "{'recall': 0.06666666666666667, 'precision': 0.09090909090909091, 'accuracy': 0.04, 'f1_score': 0.07692307692307693}\n",
            "['../drive/MyDrive/DS6011_Capstone_VisualNeuroscience/DATA/stackRaw/CLEANED/CLEAN_211023_0_1_stackRaw_mc_tm2_tm4_syt_.h5']\n",
            "Waiting for connection file: ~/.ipython/profile_default/security/ipcontroller-client.json\n",
            "............spatial support for each components given by the user\n",
            "{'recall': 0.0, 'precision': 0.0, 'accuracy': 0.0, 'f1_score': 0.0}\n",
            "['../drive/MyDrive/DS6011_Capstone_VisualNeuroscience/DATA/stackRaw/CLEANED/CLEAN_211106_0_1_stackRaw_mc_tm1_t5_syt_.h5']\n",
            "Waiting for connection file: ~/.ipython/profile_default/security/ipcontroller-client.json\n",
            "........"
          ]
        },
        {
          "output_type": "stream",
          "name": "stderr",
          "text": [
            "/content/CaImAn/caiman/summary_images.py:217: RuntimeWarning: invalid value encountered in true_divide\n",
            "  w_mov = (Y - np.mean(Y, axis=0)) / np.std(Y, axis=0)\n"
          ]
        },
        {
          "output_type": "stream",
          "name": "stdout",
          "text": [
            "....spatial support for each components given by the user\n",
            "{'recall': 0.0, 'precision': 0.0, 'accuracy': 0.0, 'f1_score': 0.0}\n",
            "['../drive/MyDrive/DS6011_Capstone_VisualNeuroscience/DATA/stackRaw/CLEANED/CLEAN_211106_1_1_stackRaw_mc_tm4_t5_syt_.h5']\n",
            "Waiting for connection file: ~/.ipython/profile_default/security/ipcontroller-client.json\n",
            "............spatial support for each components given by the user\n",
            "{'recall': 0.0, 'precision': 0.0, 'accuracy': 0.0, 'f1_score': 0.0}\n",
            "[0.0759493670886076, 0.0, 0.07692307692307693, 0.0, 0.0, 0.0]\n",
            "Iteration No: 2 ended. Evaluation done at random point.\n",
            "Time taken: 979.7665\n",
            "Function value obtained: -0.0255\n",
            "Current minimum: -0.1508\n",
            "Iteration No: 3 started. Evaluating function at random point.\n",
            "[23, 3, 0.951924, 4, 2, 1.9127218934911243]\n",
            "['../drive/MyDrive/DS6011_Capstone_VisualNeuroscience/DATA/stackRaw/CLEANED/CLEAN_210728_0_1_stackRaw_mc_tm2_tm9_syt_.h5']\n",
            "Waiting for connection file: ~/.ipython/profile_default/security/ipcontroller-client.json\n",
            ".............spatial support for each components given by the user\n",
            "{'recall': 0.25, 'precision': 0.13043478260869565, 'accuracy': 0.09375, 'f1_score': 0.17142857142857143}\n",
            "['../drive/MyDrive/DS6011_Capstone_VisualNeuroscience/DATA/stackRaw/CLEANED/CLEAN_210731_0_1_stackRaw_mc_mix2_syt_.h5']\n",
            "Waiting for connection file: ~/.ipython/profile_default/security/ipcontroller-client.json\n",
            "............spatial support for each components given by the user\n",
            "{'recall': 0.0, 'precision': 0.0, 'accuracy': 0.0, 'f1_score': 0.0}\n",
            "['../drive/MyDrive/DS6011_Capstone_VisualNeuroscience/DATA/stackRaw/CLEANED/CLEAN_210815_0_1_stackRaw_mc_mix1_syt_.h5']\n",
            "Waiting for connection file: ~/.ipython/profile_default/security/ipcontroller-client.json\n",
            "...................spatial support for each components given by the user\n",
            "{'recall': 0.13333333333333333, 'precision': 0.08695652173913043, 'accuracy': 0.05555555555555555, 'f1_score': 0.10526315789473684}\n",
            "['../drive/MyDrive/DS6011_Capstone_VisualNeuroscience/DATA/stackRaw/CLEANED/CLEAN_211023_0_1_stackRaw_mc_tm2_tm4_syt_.h5']\n",
            "Waiting for connection file: ~/.ipython/profile_default/security/ipcontroller-client.json\n",
            "...................spatial support for each components given by the user\n",
            "{'recall': 0.0, 'precision': 0.0, 'accuracy': 0.0, 'f1_score': 0.0}\n",
            "['../drive/MyDrive/DS6011_Capstone_VisualNeuroscience/DATA/stackRaw/CLEANED/CLEAN_211106_0_1_stackRaw_mc_tm1_t5_syt_.h5']\n",
            "Waiting for connection file: ~/.ipython/profile_default/security/ipcontroller-client.json\n",
            ".............."
          ]
        },
        {
          "output_type": "stream",
          "name": "stderr",
          "text": [
            "/content/CaImAn/caiman/summary_images.py:217: RuntimeWarning: invalid value encountered in true_divide\n",
            "  w_mov = (Y - np.mean(Y, axis=0)) / np.std(Y, axis=0)\n"
          ]
        },
        {
          "output_type": "stream",
          "name": "stdout",
          "text": [
            "....spatial support for each components given by the user\n",
            "{'recall': 0.0, 'precision': 0.0, 'accuracy': 0.0, 'f1_score': 0.0}\n",
            "['../drive/MyDrive/DS6011_Capstone_VisualNeuroscience/DATA/stackRaw/CLEANED/CLEAN_211106_1_1_stackRaw_mc_tm4_t5_syt_.h5']\n",
            "Waiting for connection file: ~/.ipython/profile_default/security/ipcontroller-client.json\n",
            "..................spatial support for each components given by the user\n",
            "{'recall': 0.6, 'precision': 0.13043478260869565, 'accuracy': 0.12, 'f1_score': 0.21428571428571427}\n",
            "[0.17142857142857143, 0.0, 0.10526315789473684, 0.0, 0.0, 0.21428571428571427]\n",
            "Iteration No: 3 ended. Evaluation done at random point.\n",
            "Time taken: 1051.7265\n",
            "Function value obtained: -0.0818\n",
            "Current minimum: -0.1508\n",
            "Iteration No: 4 started. Evaluating function at random point.\n",
            "[4, 2, 0.991904, 5, 3, 2.02810650887574]\n",
            "['../drive/MyDrive/DS6011_Capstone_VisualNeuroscience/DATA/stackRaw/CLEANED/CLEAN_210728_0_1_stackRaw_mc_tm2_tm9_syt_.h5']\n",
            "Waiting for connection file: ~/.ipython/profile_default/security/ipcontroller-client.json\n",
            "...................spatial support for each components given by the user\n",
            "{'recall': 0.08333333333333333, 'precision': 0.25, 'accuracy': 0.06666666666666667, 'f1_score': 0.125}\n",
            "['../drive/MyDrive/DS6011_Capstone_VisualNeuroscience/DATA/stackRaw/CLEANED/CLEAN_210731_0_1_stackRaw_mc_mix2_syt_.h5']\n",
            "Waiting for connection file: ~/.ipython/profile_default/security/ipcontroller-client.json\n",
            "..................spatial support for each components given by the user\n",
            "{'recall': 0.0, 'precision': 0.0, 'accuracy': 0.0, 'f1_score': 0.0}\n",
            "['../drive/MyDrive/DS6011_Capstone_VisualNeuroscience/DATA/stackRaw/CLEANED/CLEAN_210815_0_1_stackRaw_mc_mix1_syt_.h5']\n",
            "Waiting for connection file: ~/.ipython/profile_default/security/ipcontroller-client.json\n",
            "...................spatial support for each components given by the user\n",
            "{'recall': 0.06666666666666667, 'precision': 0.25, 'accuracy': 0.05555555555555555, 'f1_score': 0.10526315789473684}\n",
            "['../drive/MyDrive/DS6011_Capstone_VisualNeuroscience/DATA/stackRaw/CLEANED/CLEAN_211023_0_1_stackRaw_mc_tm2_tm4_syt_.h5']\n",
            "Waiting for connection file: ~/.ipython/profile_default/security/ipcontroller-client.json\n",
            "..................spatial support for each components given by the user\n",
            "{'recall': 0.0, 'precision': 0.0, 'accuracy': 0.0, 'f1_score': 0.0}\n",
            "['../drive/MyDrive/DS6011_Capstone_VisualNeuroscience/DATA/stackRaw/CLEANED/CLEAN_211106_0_1_stackRaw_mc_tm1_t5_syt_.h5']\n",
            "Waiting for connection file: ~/.ipython/profile_default/security/ipcontroller-client.json\n",
            "........."
          ]
        },
        {
          "output_type": "stream",
          "name": "stderr",
          "text": [
            "/content/CaImAn/caiman/summary_images.py:217: RuntimeWarning: invalid value encountered in true_divide\n",
            "  w_mov = (Y - np.mean(Y, axis=0)) / np.std(Y, axis=0)\n"
          ]
        },
        {
          "output_type": "stream",
          "name": "stdout",
          "text": [
            "....spatial support for each components given by the user\n",
            "{'recall': 0.0, 'precision': 0.0, 'accuracy': 0.0, 'f1_score': 0.0}\n",
            "['../drive/MyDrive/DS6011_Capstone_VisualNeuroscience/DATA/stackRaw/CLEANED/CLEAN_211106_1_1_stackRaw_mc_tm4_t5_syt_.h5']\n",
            "Waiting for connection file: ~/.ipython/profile_default/security/ipcontroller-client.json\n",
            "...................spatial support for each components given by the user\n",
            "{'recall': 0.0, 'precision': 0.0, 'accuracy': 0.0, 'f1_score': 0.0}\n",
            "[0.125, 0.0, 0.10526315789473684, 0.0, 0.0, 0.0]\n",
            "Iteration No: 4 ended. Evaluation done at random point.\n",
            "Time taken: 686.9448\n",
            "Function value obtained: -0.0384\n",
            "Current minimum: -0.1508\n",
            "Iteration No: 5 started. Evaluating function at random point.\n",
            "[16, 2, 0.8015992000000001, 7, 4, 2.143491124260355]\n",
            "['../drive/MyDrive/DS6011_Capstone_VisualNeuroscience/DATA/stackRaw/CLEANED/CLEAN_210728_0_1_stackRaw_mc_tm2_tm9_syt_.h5']\n",
            "Waiting for connection file: ~/.ipython/profile_default/security/ipcontroller-client.json\n",
            "..................spatial support for each components given by the user\n",
            "{'recall': 0.16666666666666666, 'precision': 0.125, 'accuracy': 0.07692307692307693, 'f1_score': 0.14285714285714285}\n",
            "['../drive/MyDrive/DS6011_Capstone_VisualNeuroscience/DATA/stackRaw/CLEANED/CLEAN_210731_0_1_stackRaw_mc_mix2_syt_.h5']\n",
            "Waiting for connection file: ~/.ipython/profile_default/security/ipcontroller-client.json\n",
            "...................spatial support for each components given by the user\n",
            "{'recall': 0.14285714285714285, 'precision': 0.0625, 'accuracy': 0.045454545454545456, 'f1_score': 0.08695652173913043}\n",
            "['../drive/MyDrive/DS6011_Capstone_VisualNeuroscience/DATA/stackRaw/CLEANED/CLEAN_210815_0_1_stackRaw_mc_mix1_syt_.h5']\n",
            "Waiting for connection file: ~/.ipython/profile_default/security/ipcontroller-client.json\n",
            "..................spatial support for each components given by the user\n",
            "{'recall': 0.13333333333333333, 'precision': 0.125, 'accuracy': 0.06896551724137931, 'f1_score': 0.12903225806451613}\n",
            "['../drive/MyDrive/DS6011_Capstone_VisualNeuroscience/DATA/stackRaw/CLEANED/CLEAN_211023_0_1_stackRaw_mc_tm2_tm4_syt_.h5']\n",
            "Waiting for connection file: ~/.ipython/profile_default/security/ipcontroller-client.json\n",
            "...................spatial support for each components given by the user\n",
            "{'recall': 0.09090909090909091, 'precision': 0.0625, 'accuracy': 0.038461538461538464, 'f1_score': 0.07407407407407407}\n",
            "['../drive/MyDrive/DS6011_Capstone_VisualNeuroscience/DATA/stackRaw/CLEANED/CLEAN_211106_0_1_stackRaw_mc_tm1_t5_syt_.h5']\n",
            "Waiting for connection file: ~/.ipython/profile_default/security/ipcontroller-client.json\n",
            "..............."
          ]
        },
        {
          "output_type": "stream",
          "name": "stderr",
          "text": [
            "/content/CaImAn/caiman/summary_images.py:217: RuntimeWarning: invalid value encountered in true_divide\n",
            "  w_mov = (Y - np.mean(Y, axis=0)) / np.std(Y, axis=0)\n"
          ]
        },
        {
          "output_type": "stream",
          "name": "stdout",
          "text": [
            "....spatial support for each components given by the user\n",
            "{'recall': 0.0, 'precision': 0.0, 'accuracy': 0.0, 'f1_score': 0.0}\n",
            "['../drive/MyDrive/DS6011_Capstone_VisualNeuroscience/DATA/stackRaw/CLEANED/CLEAN_211106_1_1_stackRaw_mc_tm4_t5_syt_.h5']\n",
            "Waiting for connection file: ~/.ipython/profile_default/security/ipcontroller-client.json\n",
            "..................spatial support for each components given by the user\n",
            "{'recall': 0.2, 'precision': 0.0625, 'accuracy': 0.05, 'f1_score': 0.09523809523809523}\n",
            "[0.14285714285714285, 0.08695652173913043, 0.12903225806451613, 0.07407407407407407, 0.0, 0.09523809523809523]\n",
            "Iteration No: 5 ended. Evaluation done at random point.\n",
            "Time taken: 850.1827\n",
            "Function value obtained: -0.0880\n",
            "Current minimum: -0.1508\n",
            "Iteration No: 6 started. Evaluating function at random point.\n",
            "[10, 3, 0.8415792000000001, 8, 4, 0.7677514792899408]\n",
            "['../drive/MyDrive/DS6011_Capstone_VisualNeuroscience/DATA/stackRaw/CLEANED/CLEAN_210728_0_1_stackRaw_mc_tm2_tm9_syt_.h5']\n",
            "Waiting for connection file: ~/.ipython/profile_default/security/ipcontroller-client.json\n",
            "...................spatial support for each components given by the user\n",
            "{'recall': 0.08333333333333333, 'precision': 0.1, 'accuracy': 0.047619047619047616, 'f1_score': 0.09090909090909091}\n",
            "['../drive/MyDrive/DS6011_Capstone_VisualNeuroscience/DATA/stackRaw/CLEANED/CLEAN_210731_0_1_stackRaw_mc_mix2_syt_.h5']\n",
            "Waiting for connection file: ~/.ipython/profile_default/security/ipcontroller-client.json\n",
            "............spatial support for each components given by the user\n",
            "{'recall': 0.0, 'precision': 0.0, 'accuracy': 0.0, 'f1_score': 0.0}\n",
            "['../drive/MyDrive/DS6011_Capstone_VisualNeuroscience/DATA/stackRaw/CLEANED/CLEAN_210815_0_1_stackRaw_mc_mix1_syt_.h5']\n",
            "Waiting for connection file: ~/.ipython/profile_default/security/ipcontroller-client.json\n",
            "..................spatial support for each components given by the user\n",
            "{'recall': 0.06666666666666667, 'precision': 0.1, 'accuracy': 0.041666666666666664, 'f1_score': 0.08}\n",
            "['../drive/MyDrive/DS6011_Capstone_VisualNeuroscience/DATA/stackRaw/CLEANED/CLEAN_211023_0_1_stackRaw_mc_tm2_tm4_syt_.h5']\n",
            "Waiting for connection file: ~/.ipython/profile_default/security/ipcontroller-client.json\n",
            "............spatial support for each components given by the user\n",
            "{'recall': 0.0, 'precision': 0.0, 'accuracy': 0.0, 'f1_score': 0.0}\n",
            "['../drive/MyDrive/DS6011_Capstone_VisualNeuroscience/DATA/stackRaw/CLEANED/CLEAN_211106_0_1_stackRaw_mc_tm1_t5_syt_.h5']\n",
            "Waiting for connection file: ~/.ipython/profile_default/security/ipcontroller-client.json\n",
            "........"
          ]
        },
        {
          "output_type": "stream",
          "name": "stderr",
          "text": [
            "/content/CaImAn/caiman/summary_images.py:217: RuntimeWarning: invalid value encountered in true_divide\n",
            "  w_mov = (Y - np.mean(Y, axis=0)) / np.std(Y, axis=0)\n"
          ]
        },
        {
          "output_type": "stream",
          "name": "stdout",
          "text": [
            "....spatial support for each components given by the user\n",
            "{'recall': 0.0, 'precision': 0.0, 'accuracy': 0.0, 'f1_score': 0.0}\n",
            "['../drive/MyDrive/DS6011_Capstone_VisualNeuroscience/DATA/stackRaw/CLEANED/CLEAN_211106_1_1_stackRaw_mc_tm4_t5_syt_.h5']\n",
            "Waiting for connection file: ~/.ipython/profile_default/security/ipcontroller-client.json\n",
            "..................spatial support for each components given by the user\n",
            "{'recall': 0.2, 'precision': 0.1, 'accuracy': 0.07142857142857142, 'f1_score': 0.13333333333333333}\n",
            "[0.09090909090909091, 0.0, 0.08, 0.0, 0.0, 0.13333333333333333]\n",
            "Iteration No: 6 ended. Evaluation done at random point.\n",
            "Time taken: 843.8066\n",
            "Function value obtained: -0.0507\n",
            "Current minimum: -0.1508\n",
            "Iteration No: 7 started. Evaluating function at random point.\n",
            "[21, 1, 0.8815592000000001, 9, 5, 0.8831360946745562]\n",
            "['../drive/MyDrive/DS6011_Capstone_VisualNeuroscience/DATA/stackRaw/CLEANED/CLEAN_210728_0_1_stackRaw_mc_tm2_tm9_syt_.h5']\n",
            "Waiting for connection file: ~/.ipython/profile_default/security/ipcontroller-client.json\n",
            "..................spatial support for each components given by the user\n",
            "{'recall': 0.25, 'precision': 0.14285714285714285, 'accuracy': 0.1, 'f1_score': 0.18181818181818182}\n",
            "['../drive/MyDrive/DS6011_Capstone_VisualNeuroscience/DATA/stackRaw/CLEANED/CLEAN_210731_0_1_stackRaw_mc_mix2_syt_.h5']\n",
            "Waiting for connection file: ~/.ipython/profile_default/security/ipcontroller-client.json\n",
            "..................spatial support for each components given by the user\n",
            "{'recall': 0.14285714285714285, 'precision': 0.047619047619047616, 'accuracy': 0.037037037037037035, 'f1_score': 0.07142857142857142}\n",
            "['../drive/MyDrive/DS6011_Capstone_VisualNeuroscience/DATA/stackRaw/CLEANED/CLEAN_210815_0_1_stackRaw_mc_mix1_syt_.h5']\n",
            "Waiting for connection file: ~/.ipython/profile_default/security/ipcontroller-client.json\n",
            "...................spatial support for each components given by the user\n",
            "{'recall': 0.13333333333333333, 'precision': 0.09523809523809523, 'accuracy': 0.058823529411764705, 'f1_score': 0.1111111111111111}\n",
            "['../drive/MyDrive/DS6011_Capstone_VisualNeuroscience/DATA/stackRaw/CLEANED/CLEAN_211023_0_1_stackRaw_mc_tm2_tm4_syt_.h5']\n",
            "Waiting for connection file: ~/.ipython/profile_default/security/ipcontroller-client.json\n",
            "...................spatial support for each components given by the user\n",
            "{'recall': 0.09090909090909091, 'precision': 0.047619047619047616, 'accuracy': 0.03225806451612903, 'f1_score': 0.0625}\n",
            "['../drive/MyDrive/DS6011_Capstone_VisualNeuroscience/DATA/stackRaw/CLEANED/CLEAN_211106_0_1_stackRaw_mc_tm1_t5_syt_.h5']\n",
            "Waiting for connection file: ~/.ipython/profile_default/security/ipcontroller-client.json\n",
            "........."
          ]
        },
        {
          "output_type": "stream",
          "name": "stderr",
          "text": [
            "/content/CaImAn/caiman/summary_images.py:217: RuntimeWarning: invalid value encountered in true_divide\n",
            "  w_mov = (Y - np.mean(Y, axis=0)) / np.std(Y, axis=0)\n"
          ]
        },
        {
          "output_type": "stream",
          "name": "stdout",
          "text": [
            "....spatial support for each components given by the user\n",
            "{'recall': 0.0, 'precision': 0.0, 'accuracy': 0.0, 'f1_score': 0.0}\n",
            "['../drive/MyDrive/DS6011_Capstone_VisualNeuroscience/DATA/stackRaw/CLEANED/CLEAN_211106_1_1_stackRaw_mc_tm4_t5_syt_.h5']\n",
            "Waiting for connection file: ~/.ipython/profile_default/security/ipcontroller-client.json\n",
            "...................spatial support for each components given by the user\n",
            "{'recall': 0.6, 'precision': 0.14285714285714285, 'accuracy': 0.13043478260869565, 'f1_score': 0.23076923076923078}\n",
            "[0.18181818181818182, 0.07142857142857142, 0.1111111111111111, 0.0625, 0.0, 0.23076923076923078]\n",
            "Iteration No: 7 ended. Evaluation done at random point.\n",
            "Time taken: 814.1920\n",
            "Function value obtained: -0.1096\n",
            "Current minimum: -0.1508\n",
            "Iteration No: 8 started. Evaluating function at random point.\n",
            "[7, 2, 0.9215392, 2, 6, 0.9985207100591716]\n",
            "['../drive/MyDrive/DS6011_Capstone_VisualNeuroscience/DATA/stackRaw/CLEANED/CLEAN_210728_0_1_stackRaw_mc_tm2_tm9_syt_.h5']\n",
            "Waiting for connection file: ~/.ipython/profile_default/security/ipcontroller-client.json\n",
            "..................spatial support for each components given by the user\n",
            "{'recall': 0.16666666666666666, 'precision': 0.2857142857142857, 'accuracy': 0.11764705882352941, 'f1_score': 0.21052631578947367}\n",
            "['../drive/MyDrive/DS6011_Capstone_VisualNeuroscience/DATA/stackRaw/CLEANED/CLEAN_210731_0_1_stackRaw_mc_mix2_syt_.h5']\n",
            "Waiting for connection file: ~/.ipython/profile_default/security/ipcontroller-client.json\n",
            "...................spatial support for each components given by the user\n",
            "{'recall': 0.0, 'precision': 0.0, 'accuracy': 0.0, 'f1_score': 0.0}\n",
            "['../drive/MyDrive/DS6011_Capstone_VisualNeuroscience/DATA/stackRaw/CLEANED/CLEAN_210815_0_1_stackRaw_mc_mix1_syt_.h5']\n",
            "Waiting for connection file: ~/.ipython/profile_default/security/ipcontroller-client.json\n",
            "..................spatial support for each components given by the user\n",
            "{'recall': 0.06666666666666667, 'precision': 0.14285714285714285, 'accuracy': 0.047619047619047616, 'f1_score': 0.09090909090909091}\n",
            "['../drive/MyDrive/DS6011_Capstone_VisualNeuroscience/DATA/stackRaw/CLEANED/CLEAN_211023_0_1_stackRaw_mc_tm2_tm4_syt_.h5']\n",
            "Waiting for connection file: ~/.ipython/profile_default/security/ipcontroller-client.json\n",
            "...................spatial support for each components given by the user\n",
            "{'recall': 0.0, 'precision': 0.0, 'accuracy': 0.0, 'f1_score': 0.0}\n",
            "['../drive/MyDrive/DS6011_Capstone_VisualNeuroscience/DATA/stackRaw/CLEANED/CLEAN_211106_0_1_stackRaw_mc_tm1_t5_syt_.h5']\n",
            "Waiting for connection file: ~/.ipython/profile_default/security/ipcontroller-client.json\n",
            ".............."
          ]
        },
        {
          "output_type": "stream",
          "name": "stderr",
          "text": [
            "/content/CaImAn/caiman/summary_images.py:217: RuntimeWarning: invalid value encountered in true_divide\n",
            "  w_mov = (Y - np.mean(Y, axis=0)) / np.std(Y, axis=0)\n"
          ]
        },
        {
          "output_type": "stream",
          "name": "stdout",
          "text": [
            "....spatial support for each components given by the user\n",
            "{'recall': 0.0, 'precision': 0.0, 'accuracy': 0.0, 'f1_score': 0.0}\n",
            "['../drive/MyDrive/DS6011_Capstone_VisualNeuroscience/DATA/stackRaw/CLEANED/CLEAN_211106_1_1_stackRaw_mc_tm4_t5_syt_.h5']\n",
            "Waiting for connection file: ~/.ipython/profile_default/security/ipcontroller-client.json\n",
            "..................spatial support for each components given by the user\n",
            "{'recall': 0.0, 'precision': 0.0, 'accuracy': 0.0, 'f1_score': 0.0}\n",
            "[0.21052631578947367, 0.0, 0.09090909090909091, 0.0, 0.0, 0.0]\n",
            "Iteration No: 8 ended. Evaluation done at random point.\n",
            "Time taken: 784.7114\n",
            "Function value obtained: -0.0502\n",
            "Current minimum: -0.1508\n",
            "Iteration No: 9 started. Evaluating function at random point.\n",
            "[19, 2, 0.9615192, 3, 7, 1.113905325443787]\n",
            "['../drive/MyDrive/DS6011_Capstone_VisualNeuroscience/DATA/stackRaw/CLEANED/CLEAN_210728_0_1_stackRaw_mc_tm2_tm9_syt_.h5']\n",
            "Waiting for connection file: ~/.ipython/profile_default/security/ipcontroller-client.json\n",
            "..................spatial support for each components given by the user\n",
            "{'recall': 0.16666666666666666, 'precision': 0.10526315789473684, 'accuracy': 0.06896551724137931, 'f1_score': 0.12903225806451613}\n",
            "['../drive/MyDrive/DS6011_Capstone_VisualNeuroscience/DATA/stackRaw/CLEANED/CLEAN_210731_0_1_stackRaw_mc_mix2_syt_.h5']\n",
            "Waiting for connection file: ~/.ipython/profile_default/security/ipcontroller-client.json\n",
            "..................spatial support for each components given by the user\n",
            "{'recall': 0.14285714285714285, 'precision': 0.05555555555555555, 'accuracy': 0.041666666666666664, 'f1_score': 0.08}\n",
            "['../drive/MyDrive/DS6011_Capstone_VisualNeuroscience/DATA/stackRaw/CLEANED/CLEAN_210815_0_1_stackRaw_mc_mix1_syt_.h5']\n",
            "Waiting for connection file: ~/.ipython/profile_default/security/ipcontroller-client.json\n",
            "..................spatial support for each components given by the user\n",
            "{'recall': 0.13333333333333333, 'precision': 0.10526315789473684, 'accuracy': 0.0625, 'f1_score': 0.11764705882352941}\n",
            "['../drive/MyDrive/DS6011_Capstone_VisualNeuroscience/DATA/stackRaw/CLEANED/CLEAN_211023_0_1_stackRaw_mc_tm2_tm4_syt_.h5']\n",
            "Waiting for connection file: ~/.ipython/profile_default/security/ipcontroller-client.json\n",
            "...................spatial support for each components given by the user\n",
            "{'recall': 0.09090909090909091, 'precision': 0.05263157894736842, 'accuracy': 0.034482758620689655, 'f1_score': 0.06666666666666667}\n",
            "['../drive/MyDrive/DS6011_Capstone_VisualNeuroscience/DATA/stackRaw/CLEANED/CLEAN_211106_0_1_stackRaw_mc_tm1_t5_syt_.h5']\n",
            "Waiting for connection file: ~/.ipython/profile_default/security/ipcontroller-client.json\n",
            "..............."
          ]
        },
        {
          "output_type": "stream",
          "name": "stderr",
          "text": [
            "/content/CaImAn/caiman/summary_images.py:217: RuntimeWarning: invalid value encountered in true_divide\n",
            "  w_mov = (Y - np.mean(Y, axis=0)) / np.std(Y, axis=0)\n"
          ]
        },
        {
          "output_type": "stream",
          "name": "stdout",
          "text": [
            "....spatial support for each components given by the user\n",
            "{'recall': 0.0, 'precision': 0.0, 'accuracy': 0.0, 'f1_score': 0.0}\n",
            "['../drive/MyDrive/DS6011_Capstone_VisualNeuroscience/DATA/stackRaw/CLEANED/CLEAN_211106_1_1_stackRaw_mc_tm4_t5_syt_.h5']\n",
            "Waiting for connection file: ~/.ipython/profile_default/security/ipcontroller-client.json\n",
            "...................spatial support for each components given by the user\n",
            "{'recall': 0.4, 'precision': 0.10526315789473684, 'accuracy': 0.09090909090909091, 'f1_score': 0.16666666666666666}\n",
            "[0.12903225806451613, 0.08, 0.11764705882352941, 0.06666666666666667, 0.0, 0.16666666666666666]\n",
            "Iteration No: 9 ended. Evaluation done at random point.\n",
            "Time taken: 910.4429\n",
            "Function value obtained: -0.0933\n",
            "Current minimum: -0.1508\n",
            "Iteration No: 10 started. Evaluating function at random point.\n",
            "[13, 1, 0.8095952000000001, 4, 8, 1.2292899408284024]\n",
            "['../drive/MyDrive/DS6011_Capstone_VisualNeuroscience/DATA/stackRaw/CLEANED/CLEAN_210728_0_1_stackRaw_mc_tm2_tm9_syt_.h5']\n",
            "Waiting for connection file: ~/.ipython/profile_default/security/ipcontroller-client.json\n",
            "...................spatial support for each components given by the user\n",
            "{'recall': 0.16666666666666666, 'precision': 0.15384615384615385, 'accuracy': 0.08695652173913043, 'f1_score': 0.16}\n",
            "['../drive/MyDrive/DS6011_Capstone_VisualNeuroscience/DATA/stackRaw/CLEANED/CLEAN_210731_0_1_stackRaw_mc_mix2_syt_.h5']\n",
            "Waiting for connection file: ~/.ipython/profile_default/security/ipcontroller-client.json\n",
            "...................spatial support for each components given by the user\n",
            "{'recall': 0.14285714285714285, 'precision': 0.07692307692307693, 'accuracy': 0.05263157894736842, 'f1_score': 0.1}\n",
            "['../drive/MyDrive/DS6011_Capstone_VisualNeuroscience/DATA/stackRaw/CLEANED/CLEAN_210815_0_1_stackRaw_mc_mix1_syt_.h5']\n",
            "Waiting for connection file: ~/.ipython/profile_default/security/ipcontroller-client.json\n",
            "...................spatial support for each components given by the user\n",
            "{'recall': 0.13333333333333333, 'precision': 0.16666666666666666, 'accuracy': 0.08, 'f1_score': 0.14814814814814814}\n",
            "['../drive/MyDrive/DS6011_Capstone_VisualNeuroscience/DATA/stackRaw/CLEANED/CLEAN_211023_0_1_stackRaw_mc_tm2_tm4_syt_.h5']\n",
            "Waiting for connection file: ~/.ipython/profile_default/security/ipcontroller-client.json\n",
            "...................spatial support for each components given by the user\n",
            "{'recall': 0.09090909090909091, 'precision': 0.07692307692307693, 'accuracy': 0.043478260869565216, 'f1_score': 0.08333333333333333}\n",
            "['../drive/MyDrive/DS6011_Capstone_VisualNeuroscience/DATA/stackRaw/CLEANED/CLEAN_211106_0_1_stackRaw_mc_tm1_t5_syt_.h5']\n",
            "Waiting for connection file: ~/.ipython/profile_default/security/ipcontroller-client.json\n",
            "..............."
          ]
        },
        {
          "output_type": "stream",
          "name": "stderr",
          "text": [
            "/content/CaImAn/caiman/summary_images.py:217: RuntimeWarning: invalid value encountered in true_divide\n",
            "  w_mov = (Y - np.mean(Y, axis=0)) / np.std(Y, axis=0)\n"
          ]
        },
        {
          "output_type": "stream",
          "name": "stdout",
          "text": [
            "....spatial support for each components given by the user\n",
            "{'recall': 0.0, 'precision': 0.0, 'accuracy': 0.0, 'f1_score': 0.0}\n",
            "['../drive/MyDrive/DS6011_Capstone_VisualNeuroscience/DATA/stackRaw/CLEANED/CLEAN_211106_1_1_stackRaw_mc_tm4_t5_syt_.h5']\n",
            "Waiting for connection file: ~/.ipython/profile_default/security/ipcontroller-client.json\n",
            "...................spatial support for each components given by the user\n",
            "{'recall': 0.2, 'precision': 0.07692307692307693, 'accuracy': 0.058823529411764705, 'f1_score': 0.1111111111111111}\n",
            "[0.16, 0.1, 0.14814814814814814, 0.08333333333333333, 0.0, 0.1111111111111111]\n",
            "Iteration No: 10 ended. Evaluation done at random point.\n",
            "Time taken: 750.1519\n",
            "Function value obtained: -0.1004\n",
            "Current minimum: -0.1508\n",
            "Iteration No: 11 started. Evaluating function at random point.\n",
            "[24, 2, 0.8495752000000001, 6, 9, 1.3446745562130178]\n",
            "['../drive/MyDrive/DS6011_Capstone_VisualNeuroscience/DATA/stackRaw/CLEANED/CLEAN_210728_0_1_stackRaw_mc_tm2_tm9_syt_.h5']\n",
            "Waiting for connection file: ~/.ipython/profile_default/security/ipcontroller-client.json\n",
            "...................spatial support for each components given by the user\n",
            "{'recall': 0.16666666666666666, 'precision': 0.08333333333333333, 'accuracy': 0.058823529411764705, 'f1_score': 0.1111111111111111}\n",
            "['../drive/MyDrive/DS6011_Capstone_VisualNeuroscience/DATA/stackRaw/CLEANED/CLEAN_210731_0_1_stackRaw_mc_mix2_syt_.h5']\n",
            "Waiting for connection file: ~/.ipython/profile_default/security/ipcontroller-client.json\n",
            "...................spatial support for each components given by the user\n",
            "{'recall': 0.14285714285714285, 'precision': 0.041666666666666664, 'accuracy': 0.03333333333333333, 'f1_score': 0.06451612903225806}\n",
            "['../drive/MyDrive/DS6011_Capstone_VisualNeuroscience/DATA/stackRaw/CLEANED/CLEAN_210815_0_1_stackRaw_mc_mix1_syt_.h5']\n",
            "Waiting for connection file: ~/.ipython/profile_default/security/ipcontroller-client.json\n",
            "...............................spatial support for each components given by the user\n",
            "{'recall': 0.13333333333333333, 'precision': 0.08695652173913043, 'accuracy': 0.05555555555555555, 'f1_score': 0.10526315789473684}\n",
            "['../drive/MyDrive/DS6011_Capstone_VisualNeuroscience/DATA/stackRaw/CLEANED/CLEAN_211023_0_1_stackRaw_mc_tm2_tm4_syt_.h5']\n",
            "Waiting for connection file: ~/.ipython/profile_default/security/ipcontroller-client.json\n",
            "...................spatial support for each components given by the user\n",
            "{'recall': 0.09090909090909091, 'precision': 0.041666666666666664, 'accuracy': 0.029411764705882353, 'f1_score': 0.05714285714285714}\n",
            "['../drive/MyDrive/DS6011_Capstone_VisualNeuroscience/DATA/stackRaw/CLEANED/CLEAN_211106_0_1_stackRaw_mc_tm1_t5_syt_.h5']\n",
            "Waiting for connection file: ~/.ipython/profile_default/security/ipcontroller-client.json\n",
            "..............."
          ]
        },
        {
          "output_type": "stream",
          "name": "stderr",
          "text": [
            "/content/CaImAn/caiman/summary_images.py:217: RuntimeWarning: invalid value encountered in true_divide\n",
            "  w_mov = (Y - np.mean(Y, axis=0)) / np.std(Y, axis=0)\n"
          ]
        },
        {
          "output_type": "stream",
          "name": "stdout",
          "text": [
            "....spatial support for each components given by the user\n",
            "{'recall': 0.0, 'precision': 0.0, 'accuracy': 0.0, 'f1_score': 0.0}\n",
            "['../drive/MyDrive/DS6011_Capstone_VisualNeuroscience/DATA/stackRaw/CLEANED/CLEAN_211106_1_1_stackRaw_mc_tm4_t5_syt_.h5']\n",
            "Waiting for connection file: ~/.ipython/profile_default/security/ipcontroller-client.json\n",
            "...................spatial support for each components given by the user\n",
            "{'recall': 0.6, 'precision': 0.125, 'accuracy': 0.11538461538461539, 'f1_score': 0.20689655172413793}\n",
            "[0.1111111111111111, 0.06451612903225806, 0.10526315789473684, 0.05714285714285714, 0.0, 0.20689655172413793]\n",
            "Iteration No: 11 ended. Evaluation done at random point.\n",
            "Time taken: 1065.3148\n",
            "Function value obtained: -0.0908\n",
            "Current minimum: -0.1508\n",
            "Iteration No: 12 started. Evaluating function at random point.\n",
            "[25, 1, 0.8, 10, 10, 0.75]\n",
            "['../drive/MyDrive/DS6011_Capstone_VisualNeuroscience/DATA/stackRaw/CLEANED/CLEAN_210728_0_1_stackRaw_mc_tm2_tm9_syt_.h5']\n",
            "Waiting for connection file: ~/.ipython/profile_default/security/ipcontroller-client.json\n",
            "...................spatial support for each components given by the user\n",
            "{'recall': 0.4166666666666667, 'precision': 0.2, 'accuracy': 0.15625, 'f1_score': 0.2702702702702703}\n",
            "['../drive/MyDrive/DS6011_Capstone_VisualNeuroscience/DATA/stackRaw/CLEANED/CLEAN_210731_0_1_stackRaw_mc_mix2_syt_.h5']\n",
            "Waiting for connection file: ~/.ipython/profile_default/security/ipcontroller-client.json\n",
            "...................spatial support for each components given by the user\n",
            "{'recall': 0.14285714285714285, 'precision': 0.04, 'accuracy': 0.03225806451612903, 'f1_score': 0.0625}\n",
            "['../drive/MyDrive/DS6011_Capstone_VisualNeuroscience/DATA/stackRaw/CLEANED/CLEAN_210815_0_1_stackRaw_mc_mix1_syt_.h5']\n",
            "Waiting for connection file: ~/.ipython/profile_default/security/ipcontroller-client.json\n",
            "...................spatial support for each components given by the user\n",
            "{'recall': 0.26666666666666666, 'precision': 0.16666666666666666, 'accuracy': 0.11428571428571428, 'f1_score': 0.20512820512820512}\n",
            "['../drive/MyDrive/DS6011_Capstone_VisualNeuroscience/DATA/stackRaw/CLEANED/CLEAN_211023_0_1_stackRaw_mc_tm2_tm4_syt_.h5']\n",
            "Waiting for connection file: ~/.ipython/profile_default/security/ipcontroller-client.json\n",
            "...................spatial support for each components given by the user\n",
            "{'recall': 0.2727272727272727, 'precision': 0.12, 'accuracy': 0.09090909090909091, 'f1_score': 0.16666666666666666}\n",
            "['../drive/MyDrive/DS6011_Capstone_VisualNeuroscience/DATA/stackRaw/CLEANED/CLEAN_211106_0_1_stackRaw_mc_tm1_t5_syt_.h5']\n",
            "Waiting for connection file: ~/.ipython/profile_default/security/ipcontroller-client.json\n",
            "..............."
          ]
        },
        {
          "output_type": "stream",
          "name": "stderr",
          "text": [
            "/content/CaImAn/caiman/summary_images.py:217: RuntimeWarning: invalid value encountered in true_divide\n",
            "  w_mov = (Y - np.mean(Y, axis=0)) / np.std(Y, axis=0)\n"
          ]
        },
        {
          "output_type": "stream",
          "name": "stdout",
          "text": [
            "....spatial support for each components given by the user\n",
            "{'recall': 0.0, 'precision': 0.0, 'accuracy': 0.0, 'f1_score': 0.0}\n",
            "['../drive/MyDrive/DS6011_Capstone_VisualNeuroscience/DATA/stackRaw/CLEANED/CLEAN_211106_1_1_stackRaw_mc_tm4_t5_syt_.h5']\n",
            "Waiting for connection file: ~/.ipython/profile_default/security/ipcontroller-client.json\n",
            "...................spatial support for each components given by the user\n",
            "{'recall': 0.6, 'precision': 0.12, 'accuracy': 0.1111111111111111, 'f1_score': 0.2}\n",
            "[0.2702702702702703, 0.0625, 0.20512820512820512, 0.16666666666666666, 0.0, 0.2]\n",
            "Iteration No: 12 ended. Evaluation done at random point.\n",
            "Time taken: 889.7151\n",
            "Function value obtained: -0.1508\n",
            "Current minimum: -0.1508\n",
            "Iteration No: 13 started. Evaluating function at random point.\n",
            "[25, 1, 0.9999, 10, 10, 0.75]\n",
            "['../drive/MyDrive/DS6011_Capstone_VisualNeuroscience/DATA/stackRaw/CLEANED/CLEAN_210728_0_1_stackRaw_mc_tm2_tm9_syt_.h5']\n",
            "Waiting for connection file: ~/.ipython/profile_default/security/ipcontroller-client.json\n",
            "...................spatial support for each components given by the user\n",
            "{'recall': 0.4166666666666667, 'precision': 0.2, 'accuracy': 0.15625, 'f1_score': 0.2702702702702703}\n",
            "['../drive/MyDrive/DS6011_Capstone_VisualNeuroscience/DATA/stackRaw/CLEANED/CLEAN_210731_0_1_stackRaw_mc_mix2_syt_.h5']\n",
            "Waiting for connection file: ~/.ipython/profile_default/security/ipcontroller-client.json\n",
            "...................spatial support for each components given by the user\n",
            "{'recall': 0.14285714285714285, 'precision': 0.04, 'accuracy': 0.03225806451612903, 'f1_score': 0.0625}\n",
            "['../drive/MyDrive/DS6011_Capstone_VisualNeuroscience/DATA/stackRaw/CLEANED/CLEAN_210815_0_1_stackRaw_mc_mix1_syt_.h5']\n",
            "Waiting for connection file: ~/.ipython/profile_default/security/ipcontroller-client.json\n",
            "...................spatial support for each components given by the user\n",
            "{'recall': 0.26666666666666666, 'precision': 0.16666666666666666, 'accuracy': 0.11428571428571428, 'f1_score': 0.20512820512820512}\n",
            "['../drive/MyDrive/DS6011_Capstone_VisualNeuroscience/DATA/stackRaw/CLEANED/CLEAN_211023_0_1_stackRaw_mc_tm2_tm4_syt_.h5']\n",
            "Waiting for connection file: ~/.ipython/profile_default/security/ipcontroller-client.json\n",
            "...................spatial support for each components given by the user\n",
            "{'recall': 0.2727272727272727, 'precision': 0.12, 'accuracy': 0.09090909090909091, 'f1_score': 0.16666666666666666}\n",
            "['../drive/MyDrive/DS6011_Capstone_VisualNeuroscience/DATA/stackRaw/CLEANED/CLEAN_211106_0_1_stackRaw_mc_tm1_t5_syt_.h5']\n",
            "Waiting for connection file: ~/.ipython/profile_default/security/ipcontroller-client.json\n",
            "..............."
          ]
        },
        {
          "output_type": "stream",
          "name": "stderr",
          "text": [
            "/content/CaImAn/caiman/summary_images.py:217: RuntimeWarning: invalid value encountered in true_divide\n",
            "  w_mov = (Y - np.mean(Y, axis=0)) / np.std(Y, axis=0)\n"
          ]
        },
        {
          "output_type": "stream",
          "name": "stdout",
          "text": [
            "....spatial support for each components given by the user\n",
            "{'recall': 0.0, 'precision': 0.0, 'accuracy': 0.0, 'f1_score': 0.0}\n",
            "['../drive/MyDrive/DS6011_Capstone_VisualNeuroscience/DATA/stackRaw/CLEANED/CLEAN_211106_1_1_stackRaw_mc_tm4_t5_syt_.h5']\n",
            "Waiting for connection file: ~/.ipython/profile_default/security/ipcontroller-client.json\n",
            "...................spatial support for each components given by the user\n",
            "{'recall': 0.6, 'precision': 0.12, 'accuracy': 0.1111111111111111, 'f1_score': 0.2}\n",
            "[0.2702702702702703, 0.0625, 0.20512820512820512, 0.16666666666666666, 0.0, 0.2]\n",
            "Iteration No: 13 ended. Evaluation done at random point.\n",
            "Time taken: 892.9376\n",
            "Function value obtained: -0.1508\n",
            "Current minimum: -0.1508\n",
            "Iteration No: 14 started. Evaluating function at random point.\n"
          ]
        }
      ]
    },
    {
      "cell_type": "code",
      "metadata": {
        "colab": {
          "base_uri": "https://localhost:8080/"
        },
        "id": "o51vLguAbVcW",
        "outputId": "c5828eb9-45f5-422c-de02-c8a9692289d7"
      },
      "source": [
        "results"
      ],
      "execution_count": 19,
      "outputs": [
        {
          "output_type": "execute_result",
          "data": {
            "text/plain": [
              "          fun: -0.150760857010857\n",
              "    func_vals: array([-0.01960784, -0.04995579, -0.05680045, -0.114328  , -0.08921569,\n",
              "       -0.08802635, -0.11247036, -0.09427074, -0.01851852, -0.10513907,\n",
              "       -0.12812322, -0.11839643, -0.04761905, -0.14492949, -0.11194319,\n",
              "       -0.07331434, -0.10297932, -0.11194319, -0.08802635, -0.10688501,\n",
              "       -0.15076086, -0.15008832, -0.02547874, -0.08182957, -0.03837719,\n",
              "       -0.08802635, -0.05070707, -0.10960452, -0.05023923, -0.09333544,\n",
              "       -0.1004321 , -0.09082163, -0.15076086, -0.15076086])\n",
              "       models: [GaussianProcessRegressor(kernel=1**2 * Matern(length_scale=[1, 1, 1, 1, 1, 1], nu=2.5) + WhiteKernel(noise_level=1),\n",
              "                         n_restarts_optimizer=2, noise='gaussian',\n",
              "                         normalize_y=True, random_state=211311463), GaussianProcessRegressor(kernel=1**2 * Matern(length_scale=[1, 1, 1, 1, 1, 1], nu=2.5) + WhiteKernel(noise_level=1),\n",
              "                         n_restarts_optimizer=2, noise='gaussian',\n",
              "                         normalize_y=True, random_state=211311463), GaussianProcessRegressor(kernel=1**2 * Matern(length_scale=[1, 1, 1, 1, 1, 1], nu=2.5) + WhiteKernel(noise_level=1),\n",
              "                         n_restarts_optimizer=2, noise='gaussian',\n",
              "                         normalize_y=True, random_state=211311463)]\n",
              " random_state: RandomState(MT19937) at 0x7FCBCC9CC050\n",
              "        space: Space([Integer(low=2, high=25, prior='uniform', transform='normalize'),\n",
              "       Integer(low=1, high=3, prior='uniform', transform='normalize'),\n",
              "       Real(low=0.8, high=0.9999, prior='uniform', transform='normalize'),\n",
              "       Integer(low=1, high=10, prior='uniform', transform='normalize'),\n",
              "       Integer(low=1, high=10, prior='uniform', transform='normalize'),\n",
              "       Real(low=0.75, high=2.25, prior='uniform', transform='normalize')])\n",
              "        specs: {'args': {'func': <function objective at 0x7fcb21fc9830>, 'dimensions': Space([Integer(low=2, high=25, prior='uniform', transform='normalize'),\n",
              "       Integer(low=1, high=3, prior='uniform', transform='normalize'),\n",
              "       Real(low=0.8, high=0.9999, prior='uniform', transform='normalize'),\n",
              "       Integer(low=1, high=10, prior='uniform', transform='normalize'),\n",
              "       Integer(low=1, high=10, prior='uniform', transform='normalize'),\n",
              "       Real(low=0.75, high=2.25, prior='uniform', transform='normalize')]), 'base_estimator': GaussianProcessRegressor(kernel=1**2 * Matern(length_scale=[1, 1, 1, 1, 1, 1], nu=2.5),\n",
              "                         n_restarts_optimizer=2, noise='gaussian',\n",
              "                         normalize_y=True, random_state=211311463), 'n_calls': 100, 'n_random_starts': None, 'n_initial_points': 10, 'initial_point_generator': 'halton', 'acq_func': 'gp_hedge', 'acq_optimizer': 'auto', 'x0': [[2, 1, 0.8, 1, 1, 0.75], [14, 2, 0.8399800000000001, 2, 2, 0.8653846153846154], [8, 2, 0.8799600000000001, 4, 3, 0.9807692307692308], [19, 1, 0.91994, 5, 3, 1.0961538461538463], [5, 2, 0.95992, 6, 4, 1.2115384615384617], [16, 3, 0.807996, 7, 5, 1.326923076923077], [11, 1, 0.8479760000000001, 9, 6, 1.4423076923076923], [22, 2, 0.8879560000000001, 1, 7, 1.5576923076923077], [3, 3, 0.9279360000000001, 2, 8, 1.6730769230769231], [15, 1, 0.967916, 4, 8, 1.7884615384615383], [24, 1, 0.9999, 5, 9, 1.9598039265528593], [18, 1, 0.9999, 10, 10, 2.25], [2, 1, 0.9999, 10, 10, 2.25], [20, 1, 0.9999, 7, 10, 2.25], [25, 1, 0.9999, 8, 1, 0.75], [15, 1, 0.8, 7, 2, 2.25], [20, 3, 0.9395283728111823, 7, 10, 0.75], [25, 1, 0.9999, 8, 1, 2.25], [16, 1, 0.9999, 7, 5, 1.273401102868033], [21, 1, 0.9993991588227802, 2, 10, 1.3413497049694325], [25, 1, 0.8, 10, 10, 2.25], [23, 1, 0.8, 8, 10, 2.25]], 'y0': array([-0.01960784, -0.04995579, -0.05680045, -0.114328  , -0.08921569,\n",
              "       -0.08802635, -0.11247036, -0.09427074, -0.01851852, -0.10513907,\n",
              "       -0.12812322, -0.11839643, -0.04761905, -0.14492949, -0.11194319,\n",
              "       -0.07331434, -0.10297932, -0.11194319, -0.08802635, -0.10688501,\n",
              "       -0.15076086, -0.15008832]), 'random_state': RandomState(MT19937) at 0x7FCBCC9CC050, 'verbose': True, 'callback': [<skopt.callbacks.CheckpointSaver object at 0x7fcb21fd87d0>, <skopt.callbacks.DeltaYStopper object at 0x7fcb21fd8790>, <skopt.callbacks.DeadlineStopper object at 0x7fcb21fd88d0>, <skopt.callbacks.VerboseCallback object at 0x7fcb21febe10>], 'n_points': 10000, 'n_restarts_optimizer': 5, 'xi': 0.01, 'kappa': 1.96, 'n_jobs': 2, 'model_queue_size': None}, 'function': 'base_minimize'}\n",
              "            x: [25, 1, 0.8, 10, 10, 2.25]\n",
              "      x_iters: [[2, 1, 0.8, 1, 1, 0.75], [14, 2, 0.8399800000000001, 2, 2, 0.8653846153846154], [8, 2, 0.8799600000000001, 4, 3, 0.9807692307692308], [19, 1, 0.91994, 5, 3, 1.0961538461538463], [5, 2, 0.95992, 6, 4, 1.2115384615384617], [16, 3, 0.807996, 7, 5, 1.326923076923077], [11, 1, 0.8479760000000001, 9, 6, 1.4423076923076923], [22, 2, 0.8879560000000001, 1, 7, 1.5576923076923077], [3, 3, 0.9279360000000001, 2, 8, 1.6730769230769231], [15, 1, 0.967916, 4, 8, 1.7884615384615383], [24, 1, 0.9999, 5, 9, 1.9598039265528593], [18, 1, 0.9999, 10, 10, 2.25], [2, 1, 0.9999, 10, 10, 2.25], [20, 1, 0.9999, 7, 10, 2.25], [25, 1, 0.9999, 8, 1, 0.75], [15, 1, 0.8, 7, 2, 2.25], [20, 3, 0.9395283728111823, 7, 10, 0.75], [25, 1, 0.9999, 8, 1, 2.25], [16, 1, 0.9999, 7, 5, 1.273401102868033], [21, 1, 0.9993991588227802, 2, 10, 1.3413497049694325], [25, 1, 0.8, 10, 10, 2.25], [23, 1, 0.8, 8, 10, 2.25], [11, 2, 0.9119440000000001, 3, 1, 1.797337278106509], [23, 3, 0.951924, 4, 2, 1.9127218934911243], [4, 2, 0.991904, 5, 3, 2.02810650887574], [16, 2, 0.8015992000000001, 7, 4, 2.143491124260355], [10, 3, 0.8415792000000001, 8, 4, 0.7677514792899408], [21, 1, 0.8815592000000001, 9, 5, 0.8831360946745562], [7, 2, 0.9215392, 2, 6, 0.9985207100591716], [19, 2, 0.9615192, 3, 7, 1.113905325443787], [13, 1, 0.8095952000000001, 4, 8, 1.2292899408284024], [24, 2, 0.8495752000000001, 6, 9, 1.3446745562130178], [25, 1, 0.8, 10, 10, 0.75], [25, 1, 0.9999, 10, 10, 0.75]]"
            ]
          },
          "metadata": {},
          "execution_count": 19
        }
      ]
    },
    {
      "cell_type": "code",
      "metadata": {
        "id": "NvhFGPKvLhiK",
        "colab": {
          "base_uri": "https://localhost:8080/",
          "height": 314
        },
        "outputId": "68ffc833-e3bb-4de3-a328-2ec6aa072e9a"
      },
      "source": [
        "skopt.plots.plot_convergence(results)"
      ],
      "execution_count": 20,
      "outputs": [
        {
          "output_type": "execute_result",
          "data": {
            "text/plain": [
              "<matplotlib.axes._subplots.AxesSubplot at 0x7fcaf57433d0>"
            ]
          },
          "metadata": {},
          "execution_count": 20
        },
        {
          "output_type": "display_data",
          "data": {
            "image/png": "[encoded data removed]",
            "text/plain": [
              "<Figure size 432x288 with 1 Axes>"
            ]
          },
          "metadata": {
            "needs_background": "light"
          }
        }
      ]
    },
    {
      "cell_type": "code",
      "metadata": {
        "id": "_9QJR1mbLbiM",
        "colab": {
          "base_uri": "https://localhost:8080/",
          "height": 1000
        },
        "outputId": "709fea8d-c7d1-4746-e04c-d47dc41bea6f"
      },
      "source": [
        "skopt.plots.plot_objective(results)"
      ],
      "execution_count": 21,
      "outputs": [
        {
          "output_type": "execute_result",
          "data": {
            "text/plain": [
              "array([[<matplotlib.axes._subplots.AxesSubplot object at 0x7fcaf62a39d0>,\n",
              "        <matplotlib.axes._subplots.AxesSubplot object at 0x7fcaf6b74210>,\n",
              "        <matplotlib.axes._subplots.AxesSubplot object at 0x7fcaf5b0f790>,\n",
              "        <matplotlib.axes._subplots.AxesSubplot object at 0x7fcaf5b03d50>,\n",
              "        <matplotlib.axes._subplots.AxesSubplot object at 0x7fcb0de5b350>,\n",
              "        <matplotlib.axes._subplots.AxesSubplot object at 0x7fcaf6cc7910>],\n",
              "       [<matplotlib.axes._subplots.AxesSubplot object at 0x7fcaf6cd0f10>,\n",
              "        <matplotlib.axes._subplots.AxesSubplot object at 0x7fcb0735d510>,\n",
              "        <matplotlib.axes._subplots.AxesSubplot object at 0x7fcb07d39bd0>,\n",
              "        <matplotlib.axes._subplots.AxesSubplot object at 0x7fcb07d44490>,\n",
              "        <matplotlib.axes._subplots.AxesSubplot object at 0x7fcaf5b91c50>,\n",
              "        <matplotlib.axes._subplots.AxesSubplot object at 0x7fcb07cafe50>],\n",
              "       [<matplotlib.axes._subplots.AxesSubplot object at 0x7fcb07cc5450>,\n",
              "        <matplotlib.axes._subplots.AxesSubplot object at 0x7fcb07346a10>,\n",
              "        <matplotlib.axes._subplots.AxesSubplot object at 0x7fcb07335fd0>,\n",
              "        <matplotlib.axes._subplots.AxesSubplot object at 0x7fcb10ed35d0>,\n",
              "        <matplotlib.axes._subplots.AxesSubplot object at 0x7fcb10ea4b50>,\n",
              "        <matplotlib.axes._subplots.AxesSubplot object at 0x7fcb0c577150>],\n",
              "       [<matplotlib.axes._subplots.AxesSubplot object at 0x7fcb05afd710>,\n",
              "        <matplotlib.axes._subplots.AxesSubplot object at 0x7fcb05afacd0>,\n",
              "        <matplotlib.axes._subplots.AxesSubplot object at 0x7fcb0027e2d0>,\n",
              "        <matplotlib.axes._subplots.AxesSubplot object at 0x7fcb0d63d890>,\n",
              "        <matplotlib.axes._subplots.AxesSubplot object at 0x7fcb07ceae50>,\n",
              "        <matplotlib.axes._subplots.AxesSubplot object at 0x7fcb022b8450>],\n",
              "       [<matplotlib.axes._subplots.AxesSubplot object at 0x7fcb073afa10>,\n",
              "        <matplotlib.axes._subplots.AxesSubplot object at 0x7fcb073c7fd0>,\n",
              "        <matplotlib.axes._subplots.AxesSubplot object at 0x7fcb0747f250>,\n",
              "        <matplotlib.axes._subplots.AxesSubplot object at 0x7fcb0745f750>,\n",
              "        <matplotlib.axes._subplots.AxesSubplot object at 0x7fcaf5813c50>,\n",
              "        <matplotlib.axes._subplots.AxesSubplot object at 0x7fcb073ea1d0>],\n",
              "       [<matplotlib.axes._subplots.AxesSubplot object at 0x7fcb074186d0>,\n",
              "        <matplotlib.axes._subplots.AxesSubplot object at 0x7fcaff211bd0>,\n",
              "        <matplotlib.axes._subplots.AxesSubplot object at 0x7fcafe9d0fd0>,\n",
              "        <matplotlib.axes._subplots.AxesSubplot object at 0x7fcafdd42610>,\n",
              "        <matplotlib.axes._subplots.AxesSubplot object at 0x7fcafdcf4b10>,\n",
              "        <matplotlib.axes._subplots.AxesSubplot object at 0x7fcafdd29f50>]],\n",
              "      dtype=object)"
            ]
          },
          "metadata": {},
          "execution_count": 21
        },
        {
          "output_type": "display_data",
          "data": {
            "image/png": "[encoded data removed]",
            "text/plain": [
              "<Figure size 864x864 with 36 Axes>"
            ]
          },
          "metadata": {
            "needs_background": "light"
          }
        }
      ]
    },
    {
      "cell_type": "markdown",
      "metadata": {
        "id": "dt9VjwbVsvI7"
      },
      "source": [
        "## Old working code"
      ]
    },
    {
      "cell_type": "code",
      "metadata": {
        "id": "PcRf62puVu1u"
      },
      "source": [
        "# #tests score_all_stacks directly\n",
        "# dummy_in = [13, 2, 0.9, 5, 10, .8]\n",
        "# score_all_stacks(dummy_in)"
      ],
      "execution_count": 22,
      "outputs": []
    },
    {
      "cell_type": "code",
      "metadata": {
        "id": "nG6EVQNSdPr8"
      },
      "source": [
        "# #tests score_params directly\n",
        "# opts.data['fnames'] = ['../drive/MyDrive/DS6011_Capstone_VisualNeuroscience/DATA/stackRaw/CLEANED/CLEAN_210728_0_1_stackRaw_mc_tm2_tm9_syt_.mat']\n",
        "# score_params(path_to_masks='../drive/MyDrive/DS6011_Capstone_VisualNeuroscience/DATA/manualROIs/210728_0_1_manualROIs_tm2_tm9_syt.mat', \\\n",
        "#               path_to_stack='../drive/MyDrive/DS6011_Capstone_VisualNeuroscience/DATA/stackRaw/CLEANED/CLEAN_210728_0_1_stackRaw_mc_tm2_tm9_syt_.mat', \\\n",
        "#               opts=opts)"
      ],
      "execution_count": 23,
      "outputs": []
    },
    {
      "cell_type": "code",
      "metadata": {
        "id": "ugOP9IDygmWK"
      },
      "source": [
        "# #tests cnm directly\n",
        "# opts.quality['use_cnn'] = True\n",
        "# opts.data['fnames'] = ['../drive/MyDrive/DS6011_Capstone_VisualNeuroscience/DATA/stackRaw/CLEANED/CLEAN_210728_0_1_stackRaw_mc_tm2_tm9_syt_.mat']\n",
        "\n",
        "# if 'dview' in locals():\n",
        "#     cm.stop_server(dview=dview)\n",
        "# dview = cm.cluster.start_server(ncpus=2)\n",
        "# cnm = cnmf.CNMF(n_processes=2, params=opts, dview=dview)\n",
        "# #print('cnm object initialized')\n",
        "# cnm = cnm.fit_file(motion_correct = False, include_eval=True)\n",
        "# cm.stop_server(dview=dview)\n",
        "\n",
        "# cnm.estimates.A"
      ],
      "execution_count": 24,
      "outputs": []
    },
    {
      "cell_type": "code",
      "metadata": {
        "id": "sCBKNW4psfBn"
      },
      "source": [
        "# #tests masks and scoring directly \n",
        "# fnames = ['../drive/MyDrive/DS6011_Capstone_VisualNeuroscience/DATA/stackRaw/CLEANED/CLEAN_210728_0_1_stackRaw_mc_tm2_tm9_syt_.h5']\n",
        "# path_to_masks='../drive/MyDrive/DS6011_Capstone_VisualNeuroscience/DATA/manualROIs/210728_0_1_manualROIs_tm2_tm9_syt.mat'\n",
        "# #Read in masks and reformat\n",
        "# g = h5py.File(path_to_masks, 'r')\n",
        "\n",
        "# #transpose the matrix and save to an array A\n",
        "# mask_A = g['bwMaskStack'][:].T\n",
        "\n",
        "# g.close()\n",
        "\n",
        "# #rearrange the dimensions and show the new shape\n",
        "# mask_A = mask_A.transpose(1,0,2)\n",
        "\n",
        "# #reshape to 2D, first dimension is 128*256 (32768), 2nd dimension is the # of ROI's\n",
        "# mask_A = mask_A.reshape((mask_A.shape[1]*mask_A.shape[0]), mask_A.shape[2])\n",
        "\n",
        "# #convert the values from 0/1 to boolean False/True\n",
        "# mask_A = np.array(mask_A, dtype=bool)\n",
        "# #print('mask read in and reformatted')\n",
        "\n",
        "# if 'dview' in locals():\n",
        "#     cm.stop_server(dview=dview)\n",
        "# dview = cm.cluster.start_server(ncpus=2)\n",
        "\n",
        "# #Seeded CNMF only works when seeded using mmap\n",
        "# #import pathlib\n",
        "\n",
        "# #create memmory map location for the original movie\n",
        "# #fname_new = cm.save_memmap(fnames, base_name=pathlib.Path(fnames[0]).stem + \"_memmap_\", order='C')\n",
        "\n",
        "# #read data from mmap location\n",
        "# Yr, dims, T = cm.load_memmap(cnm.mmap_file)\n",
        "\n",
        "# # load frames in python format (T x X x Y)\n",
        "# mov = np.reshape(Yr.T, [T] + list(dims), order='F')\n",
        "# #print('movie matrix loaded for seeded cnmf')\n",
        "\n",
        "\n",
        "# #For seeded CNMF, need to adjust some params\n",
        "# opts.patch['only_init'] = False\n",
        "# opts.patch['rf'] = None\n",
        "# opts.data['use_cnn'] = False\n",
        "\n",
        "# #print('params adjusted for seeded cnmf')\n",
        "    \n",
        "# #Initialize a new cnmf object and pass in our masks as the \"Ain\" param\n",
        "# #\"Ain\" is A-in, meaning the A matrix holding the spatial footprints of the roi's\n",
        "# cnm_seeded = cnmf.CNMF(n_processes = 2, params=opts, dview=None, Ain=mask_A)\n",
        "# #print('seeded cnmf object initialized')\n",
        "# cnm_seeded.fit(mov)\n",
        "# #print('seeded cnmf completed')\n",
        "\n",
        "# #Try running register_ROIs and see what happens\n",
        "# matched_ROIs1, matched_ROIs2, non_matched1, non_matched2, performance, A2 = cm.base.rois.register_ROIs(cnm_seeded.estimates.A, cnm.estimates.A, dims=dims)\n",
        "# #print('validation and scoring completed')\n",
        "\n",
        "# performance"
      ],
      "execution_count": 25,
      "outputs": []
    }
  ]
}