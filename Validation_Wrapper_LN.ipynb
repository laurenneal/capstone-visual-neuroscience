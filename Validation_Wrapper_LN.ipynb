{
  "nbformat": 4,
  "nbformat_minor": 0,
  "metadata": {
    "colab": {
      "name": "Validation Wrapper-LN.ipynb",
      "provenance": [],
      "collapsed_sections": [],
      "include_colab_link": true
    },
    "kernelspec": {
      "display_name": "Python 3",
      "name": "python3"
    },
    "language_info": {
      "name": "python"
    }
  },
  "cells": [
    {
      "cell_type": "markdown",
      "metadata": {
        "id": "view-in-github",
        "colab_type": "text"
      },
      "source": [
        "<a href=\"https://colab.research.google.com/github/laurenneal/capstone-visual-neuroscience/blob/Lauren/Validation_Wrapper_LN.ipynb\" target=\"_parent\"><img src=\"https://colab.research.google.com/assets/colab-badge.svg\" alt=\"Open In Colab\"/></a>"
      ]
    },
    {
      "cell_type": "markdown",
      "metadata": {
        "id": "DMQyPTVxwhVU"
      },
      "source": [
        "## Setup"
      ]
    },
    {
      "cell_type": "code",
      "metadata": {
        "colab": {
          "base_uri": "https://localhost:8080/"
        },
        "id": "BbIj2QeEAbTE",
        "outputId": "03ee8446-4db7-4dd2-d484-1ad95c0e5500"
      },
      "source": [
        "from google.colab import drive\n",
        "drive.mount('/content/drive')"
      ],
      "execution_count": null,
      "outputs": [
        {
          "name": "stdout",
          "output_type": "stream",
          "text": [
            "Drive already mounted at /content/drive; to attempt to forcibly remount, call drive.mount(\"/content/drive\", force_remount=True).\n"
          ]
        }
      ]
    },
    {
      "cell_type": "code",
      "metadata": {
        "colab": {
          "base_uri": "https://localhost:8080/"
        },
        "id": "VrE1xeswQNHM",
        "outputId": "508f5200-3d75-43c3-fe9f-51158d5ca7ad"
      },
      "source": [
        "# Install CaImAn - takes around 2 minutes\n",
        "\n",
        "!git clone https://github.com/flatironinstitute/CaImAn.git\n",
        "%cd '/content/CaImAn/'\n",
        "!pip install -e .\n",
        "\n",
        "# Install caiman dependencies (&> /dev/null will suppress the hundreds of printed lines in the output)\n",
        "!pip install -r requirements.txt &> /dev/null\n",
        "\n",
        "#import other dependencies\n",
        "import cv2\n",
        "import glob\n",
        "import numpy as np\n",
        "import os\n",
        "import matplotlib.pyplot as plt\n",
        "import imageio\n",
        "\n",
        "#IMPORTANT! Newer versions of h5py will cause errors when saving results\n",
        "!pip install h5py==2.10.0\n",
        "import h5py\n",
        "\n",
        "#Set up caiman\n",
        "!python setup.py build_ext -i\n",
        "\n",
        "#Other file setup\n",
        "!python caimanmanager.py install --inplace\n",
        "\n",
        "#Caiman imports\n",
        "import caiman as cm\n",
        "from caiman.motion_correction import MotionCorrect\n",
        "from caiman.source_extraction.cnmf import cnmf as cnmf\n",
        "from caiman.source_extraction.cnmf import params as params\n",
        "from caiman.utils.utils import download_demo\n",
        "from caiman.utils.visualization import plot_contours, nb_view_patches, nb_plot_contour\n",
        "from caiman.summary_images import local_correlations_movie_offline\n",
        "from scipy.ndimage import center_of_mass\n",
        "from IPython.display import display, clear_output"
      ],
      "execution_count": null,
      "outputs": [
        {
          "name": "stdout",
          "output_type": "stream",
          "text": [
            "Cloning into 'CaImAn'...\n",
            "remote: Enumerating objects: 24933, done.\u001b[K\n",
            "remote: Counting objects: 100% (868/868), done.\u001b[K\n",
            "remote: Compressing objects: 100% (433/433), done.\u001b[K\n",
            "remote: Total 24933 (delta 481), reused 752 (delta 418), pack-reused 24065\u001b[K\n",
            "Receiving objects: 100% (24933/24933), 518.56 MiB | 25.49 MiB/s, done.\n",
            "Resolving deltas: 100% (16694/16694), done.\n",
            "Checking out files: 100% (317/317), done.\n",
            "/content/CaImAn\n",
            "Obtaining file:///content/CaImAn\n",
            "Installing collected packages: caiman\n",
            "  Attempting uninstall: caiman\n",
            "    Found existing installation: caiman 1.9.7\n",
            "    Can't uninstall 'caiman'. No files were found to uninstall.\n",
            "  Running setup.py develop for caiman\n",
            "Successfully installed caiman-1.9.7\n",
            "Requirement already satisfied: h5py==2.10.0 in /usr/local/lib/python3.7/dist-packages (2.10.0)\n",
            "Requirement already satisfied: numpy>=1.7 in /usr/local/lib/python3.7/dist-packages (from h5py==2.10.0) (1.19.5)\n",
            "Requirement already satisfied: six in /usr/local/lib/python3.7/dist-packages (from h5py==2.10.0) (1.15.0)\n",
            "running build_ext\n",
            "Traceback (most recent call last):\n",
            "  File \"caimanmanager.py\", line 276, in <module>\n",
            "    main()\n",
            "  File \"caimanmanager.py\", line 234, in main\n",
            "    do_install_to(cfg.userdir, cfg.inplace, cfg.force)\n",
            "  File \"caimanmanager.py\", line 57, in do_install_to\n",
            "    raise Exception(targdir + \" already exists. You may move it out of the way, remove it, or use --force\")\n",
            "Exception: /root/caiman_data already exists. You may move it out of the way, remove it, or use --force\n"
          ]
        }
      ]
    },
    {
      "cell_type": "markdown",
      "metadata": {
        "id": "fCRFFvODsO4i"
      },
      "source": [
        "## Get paths to movie files and labelled ROI masks"
      ]
    },
    {
      "cell_type": "code",
      "metadata": {
        "colab": {
          "base_uri": "https://localhost:8080/"
        },
        "id": "DfNJcFmeEq23",
        "outputId": "1de8ee8e-11f4-454a-d9bc-ac46e70d83cf"
      },
      "source": [
        "#get a list of our masks and a list of our stacks in the same order\n",
        "from os import listdir\n",
        "maskpath = '../drive/MyDrive/DS6011_Capstone_VisualNeuroscience/DATA/manualROIs'\n",
        "mask_filenames = [f for f in listdir(maskpath) if 'manualROIs' in f]\n",
        "mask_filenames = sorted(mask_filenames)\n",
        "mask_filenames"
      ],
      "execution_count": null,
      "outputs": [
        {
          "data": {
            "text/plain": [
              "['210728_0_1_manualROIs_tm2_tm9_syt.mat',\n",
              " '210731_0_1_manualROIs_mix2_syt.mat',\n",
              " '210815_0_1_manualROIs_mix1_syt.mat',\n",
              " '211023_0_1_manualROIs_tm2_tm4_syt.mat',\n",
              " '211106_0_1_manualROIs_tm1_t5_syt.mat',\n",
              " '211106_1_1_manualROIs_tm4_t5_syt.mat']"
            ]
          },
          "execution_count": 24,
          "metadata": {},
          "output_type": "execute_result"
        }
      ]
    },
    {
      "cell_type": "code",
      "metadata": {
        "colab": {
          "base_uri": "https://localhost:8080/"
        },
        "id": "KBBLhWJoFMXP",
        "outputId": "04489bd9-a46a-47f8-9b12-cdb68b99766d"
      },
      "source": [
        "stack_indices = [x[:10] for x in mask_filenames] #get the index portion of the masks\n",
        "stack_celltypes = [x[22:(len(x)-4)] for x in mask_filenames] #get the cell type descriptions\n",
        "\n",
        "#create filenames in mat and h5, well only keep what exists\n",
        "stack_filenames_h5 = ['CLEAN_' + stack_indices[x] + '_stackRaw_mc_' + stack_celltypes[x] \\\n",
        "                   + '_.h5' for x in range(len(mask_filenames))] #reconstruct filenames for the movies we have masks for\n",
        "stack_filenames_mat = ['CLEAN_' + stack_indices[x] + '_stackRaw_mc_' + stack_celltypes[x] \\\n",
        "                   + '_.mat' for x in range(len(mask_filenames))] #reconstruct filenames for the movies we have masks for\n",
        "stack_filenames = stack_filenames_h5 + stack_filenames_mat \n",
        "stack_filenames"
      ],
      "execution_count": null,
      "outputs": [
        {
          "data": {
            "text/plain": [
              "['CLEAN_210728_0_1_stackRaw_mc_tm2_tm9_syt_.h5',\n",
              " 'CLEAN_210731_0_1_stackRaw_mc_mix2_syt_.h5',\n",
              " 'CLEAN_210815_0_1_stackRaw_mc_mix1_syt_.h5',\n",
              " 'CLEAN_211023_0_1_stackRaw_mc_tm2_tm4_syt_.h5',\n",
              " 'CLEAN_211106_0_1_stackRaw_mc_tm1_t5_syt_.h5',\n",
              " 'CLEAN_211106_1_1_stackRaw_mc_tm4_t5_syt_.h5',\n",
              " 'CLEAN_210728_0_1_stackRaw_mc_tm2_tm9_syt_.mat',\n",
              " 'CLEAN_210731_0_1_stackRaw_mc_mix2_syt_.mat',\n",
              " 'CLEAN_210815_0_1_stackRaw_mc_mix1_syt_.mat',\n",
              " 'CLEAN_211023_0_1_stackRaw_mc_tm2_tm4_syt_.mat',\n",
              " 'CLEAN_211106_0_1_stackRaw_mc_tm1_t5_syt_.mat',\n",
              " 'CLEAN_211106_1_1_stackRaw_mc_tm4_t5_syt_.mat']"
            ]
          },
          "execution_count": 25,
          "metadata": {},
          "output_type": "execute_result"
        }
      ]
    },
    {
      "cell_type": "code",
      "metadata": {
        "colab": {
          "base_uri": "https://localhost:8080/"
        },
        "id": "7cRs3HHyG0nV",
        "outputId": "99fae742-2573-4736-d814-fa4dba3e2747"
      },
      "source": [
        "#checking that files exist in our cleaned file\n",
        "stackpath = '../drive/MyDrive/DS6011_Capstone_VisualNeuroscience/DATA/stackRaw/CLEANED'\n",
        "stackfiles = [f for f in listdir(stackpath) if f in stack_filenames]\n",
        "stackfiles = sorted(stackfiles)\n",
        "stackfiles"
      ],
      "execution_count": null,
      "outputs": [
        {
          "data": {
            "text/plain": [
              "['CLEAN_210728_0_1_stackRaw_mc_tm2_tm9_syt_.h5',\n",
              " 'CLEAN_210731_0_1_stackRaw_mc_mix2_syt_.h5',\n",
              " 'CLEAN_210815_0_1_stackRaw_mc_mix1_syt_.h5',\n",
              " 'CLEAN_211023_0_1_stackRaw_mc_tm2_tm4_syt_.h5',\n",
              " 'CLEAN_211106_0_1_stackRaw_mc_tm1_t5_syt_.h5',\n",
              " 'CLEAN_211106_1_1_stackRaw_mc_tm4_t5_syt_.h5']"
            ]
          },
          "execution_count": 26,
          "metadata": {},
          "output_type": "execute_result"
        }
      ]
    },
    {
      "cell_type": "code",
      "metadata": {
        "id": "BkrZMX_oLZ8J"
      },
      "source": [
        "#convert filenames back into paths\n",
        "maskpaths = [maskpath+'/'+f for f in mask_filenames]\n",
        "stackpaths = [stackpath+'/'+f for f in stackfiles]"
      ],
      "execution_count": null,
      "outputs": []
    },
    {
      "cell_type": "code",
      "metadata": {
        "colab": {
          "base_uri": "https://localhost:8080/"
        },
        "id": "5O3Ta8XtKXFQ",
        "outputId": "2c4566f0-580e-429a-9f07-c25856c83215"
      },
      "source": [
        "#join the lists into pairs of tuples\n",
        "mask_stack_pairs = list(map(lambda x, y:[x,y], maskpaths, stackpaths))\n",
        "mask_stack_pairs"
      ],
      "execution_count": null,
      "outputs": [
        {
          "data": {
            "text/plain": [
              "[['../drive/MyDrive/DS6011_Capstone_VisualNeuroscience/DATA/manualROIs/210728_0_1_manualROIs_tm2_tm9_syt.mat',\n",
              "  '../drive/MyDrive/DS6011_Capstone_VisualNeuroscience/DATA/stackRaw/CLEANED/CLEAN_210728_0_1_stackRaw_mc_tm2_tm9_syt_.h5'],\n",
              " ['../drive/MyDrive/DS6011_Capstone_VisualNeuroscience/DATA/manualROIs/210731_0_1_manualROIs_mix2_syt.mat',\n",
              "  '../drive/MyDrive/DS6011_Capstone_VisualNeuroscience/DATA/stackRaw/CLEANED/CLEAN_210731_0_1_stackRaw_mc_mix2_syt_.h5'],\n",
              " ['../drive/MyDrive/DS6011_Capstone_VisualNeuroscience/DATA/manualROIs/210815_0_1_manualROIs_mix1_syt.mat',\n",
              "  '../drive/MyDrive/DS6011_Capstone_VisualNeuroscience/DATA/stackRaw/CLEANED/CLEAN_210815_0_1_stackRaw_mc_mix1_syt_.h5'],\n",
              " ['../drive/MyDrive/DS6011_Capstone_VisualNeuroscience/DATA/manualROIs/211023_0_1_manualROIs_tm2_tm4_syt.mat',\n",
              "  '../drive/MyDrive/DS6011_Capstone_VisualNeuroscience/DATA/stackRaw/CLEANED/CLEAN_211023_0_1_stackRaw_mc_tm2_tm4_syt_.h5'],\n",
              " ['../drive/MyDrive/DS6011_Capstone_VisualNeuroscience/DATA/manualROIs/211106_0_1_manualROIs_tm1_t5_syt.mat',\n",
              "  '../drive/MyDrive/DS6011_Capstone_VisualNeuroscience/DATA/stackRaw/CLEANED/CLEAN_211106_0_1_stackRaw_mc_tm1_t5_syt_.h5'],\n",
              " ['../drive/MyDrive/DS6011_Capstone_VisualNeuroscience/DATA/manualROIs/211106_1_1_manualROIs_tm4_t5_syt.mat',\n",
              "  '../drive/MyDrive/DS6011_Capstone_VisualNeuroscience/DATA/stackRaw/CLEANED/CLEAN_211106_1_1_stackRaw_mc_tm4_t5_syt_.h5']]"
            ]
          },
          "execution_count": 28,
          "metadata": {},
          "output_type": "execute_result"
        }
      ]
    },
    {
      "cell_type": "markdown",
      "metadata": {
        "id": "OzmBKC4DsV2y"
      },
      "source": [
        "## Initialize parameters object with starter values"
      ]
    },
    {
      "cell_type": "code",
      "metadata": {
        "id": "24iRFksugPTv"
      },
      "source": [
        "#create parameters object\n",
        "opts = params.CNMFParams()\n",
        "#fname will be assigned in the loop\n",
        "fnames = []\n",
        "subfolder = 'stackRaw_mc'"
      ],
      "execution_count": null,
      "outputs": []
    },
    {
      "cell_type": "code",
      "metadata": {
        "id": "tLzfCy0wFb-g"
      },
      "source": [
        "# set initial values for extraction and evaluation\n",
        "# most of these are specific to our data and will not need to be changed during optimization\n",
        "\n",
        "# overall params about our data\n",
        "\n",
        "fr = 20                 # approximate frame rate of data - CONFIRMED FPS\n",
        "decay_time = .4         # length of transient - CONFIRMED APPROPRIATE FOR OUR INDICATOR GCaMP6f\n",
        "dims = [128, 256]       # dimensions of the FOV in pixels - CONFIRMED\n",
        "dxy = [.29, .29]        # resolution of 1 pixel in um - CONFIRMED BY CARL\n",
        "\n",
        "opts.set('data', {'fnames': fnames,\n",
        "                   'fr': fr,\n",
        "                   'decay_time': decay_time,\n",
        "                   'dims': dims,\n",
        "                   'dxy': dxy\n",
        "                  })\n",
        "\n",
        "\n",
        "# params related to the temporal traces\n",
        "\n",
        "p = 1                   # order of the autoregressive system - 0 from carl's code, probably should be 1\n",
        "fudge_factor = 1        # (default is 0.96; Carl's value = 1) -- bias correction factor for discrete time constants\n",
        "ITER = 5                # (default is 2; Carl's value=5) -- block coordinate descent iterations\n",
        "tnb = 2                  # temporal global background components - TUNE\n",
        "\n",
        "opts.set('temporal', {'p': p,\n",
        "                      'fudge_factor': fudge_factor,\n",
        "                      'ITER': ITER,\n",
        "                      'nb': tnb\n",
        "                 })\n",
        "\n",
        "# p is also set in the preprocessing step\n",
        "opts.set('preprocess', {'p': p\n",
        "                 })\n",
        "\n",
        "\n",
        "\n",
        "# params related to the FOV and patches for parallel processing\n",
        "\n",
        "is_patches = False      # flag for processing in patches or not - turn on or off\n",
        "\n",
        "if is_patches:          # PROCESS IN PATCHES AND THEN COMBINE \n",
        "    rf = 25             # half size of each patch -not tuned\n",
        "    stride = 5          # overlap between patches -not tuned\n",
        "    K = 3               # number of components in each patch - TUNE - gets set later in INIT params\n",
        "    p_patch = p\n",
        "\n",
        "else:                   # PROCESS THE WHOLE FOV AT ONCE\n",
        "    rf = None           # setting these parameters to None Not used\n",
        "    stride = None       # will run CNMF on the whole FOV not used\n",
        "    K = 20              # number of neurons expected (in the whole FOV) - not used\n",
        "\n",
        "n_processes = 2         # Number of processes to run in parallel, 2 for 2 cores available in Colab\n",
        "\n",
        "opts.set('patch', {'rf': rf,\n",
        "                   'stride': stride,\n",
        "                   'n_processes': n_processes,\n",
        "                   'p_patch': p_patch\n",
        "                  })   \n",
        "\n",
        "\n",
        "\n",
        "# initialization params\n",
        "ssub = 2                # spatial downsampling\n",
        "tsub = 2                # temporal downsampling\n",
        "ssub_B = 3              # background spatial downsampling\n",
        "gSig = [4,4]            # radius (half-size) of average neurons (in pixels)\n",
        "nb = 2                  # number of background components\n",
        "\n",
        "opts.set('init', {'K': K,            # declared above in patch params    \n",
        "                   'gSig': gSig,      \n",
        "                   'tsub': tsub,\n",
        "                   'ssub': ssub,\n",
        "                   'ssub_B': ssub_B,\n",
        "                   'nb': nb\n",
        "                  })\n",
        "\n",
        "# parameters related to merging correlated ROIs\n",
        "merge_thr = 0.9     # merging threshold, max correlation allowed - TUNE\n",
        "\n",
        "opts.set('merging', {'merge_thr': merge_thr\n",
        "                            })\n",
        "\n",
        "\n",
        "#set some spatial params\n",
        "snb = 2                  # spatial global background components - TUNE\n",
        "\n",
        "opts.set('spatial', {'nb': snb\n",
        "                            })\n",
        "\n",
        "# %% COMPONENT EVALUATION\n",
        "# the components are evaluated in three ways:\n",
        "#   a) the shape of each component must be correlated with the data\n",
        "#   b) a minimum peak SNR is required over the length of a transient\n",
        "#   c) each shape passes a CNN based classifier (this will pick up only neurons\n",
        "#           and filter out active processes)\n",
        "\n",
        "\n",
        "#Not sure if these should be tuned or not\n",
        "\n",
        "min_SNR = 2.5      # peak SNR for accepted components (if above this, acept)\n",
        "SNR_lowest = 1         # minimum SNR for accepted components (if below this, reject)\n",
        "rval_thr = 0.9     # space correlation threshold (if above this, accept)\n",
        "\n",
        "use_cnn = False      # use the CNN classifier affects if 2 below params are used\n",
        "min_cnn_thr = 0.9  # if cnn classifier predicts below this value, reject\n",
        "cnn_lowest = 0.1   # neurons with cnn probability lower than this value are rejected\n",
        "\n",
        "opts.set('quality', {'min_SNR': min_SNR,\n",
        "                     'SNR_lowest': SNR_lowest,\n",
        "                     'rval_thr': rval_thr,\n",
        "                     'use_cnn': use_cnn,\n",
        "                     'min_cnn_thr': min_cnn_thr,\n",
        "                     'cnn_lowest': cnn_lowest})\n",
        "\n",
        "\n",
        "#Manually assign subfolder variable\n",
        "opts.motion['var_name_hdf5'] = subfolder\n",
        "opts.data['var_name_hdf5'] = subfolder"
      ],
      "execution_count": null,
      "outputs": []
    },
    {
      "cell_type": "markdown",
      "metadata": {
        "id": "8T37S56psacn"
      },
      "source": [
        "## Define pipeline function to run Caiman"
      ]
    },
    {
      "cell_type": "code",
      "metadata": {
        "id": "1yT59EZk84XL"
      },
      "source": [
        "#Function to run cnmf, run seeded cnmf using masks, then return validation\n",
        "\n",
        "def score_params(path_to_stack, path_to_masks, opts):\n",
        "  import warnings\n",
        "  warnings.simplefilter(action='ignore', category=FutureWarning)\n",
        "\n",
        "  fnames = [path_to_stack]\n",
        "\n",
        "  try:\n",
        "\n",
        "    if 'dview' in locals():\n",
        "      cm.stop_server(dview=dview)\n",
        "    dview = cm.cluster.start_server(ncpus=2)\n",
        "\n",
        "    #Run CNMF on raw stack using passed params\n",
        "    #print('starting cnmf')\n",
        "    cnm = cnmf.CNMF(n_processes = 2, params=opts, dview=dview)\n",
        "    #print('cnm object initialized')\n",
        "    cnm = cnm.fit_file(motion_correct = False, include_eval=True)\n",
        "    #print('cnmf and component evaluation completed')\n",
        "\n",
        "\n",
        "    #Read in masks and reformat\n",
        "    g = h5py.File(path_to_masks, 'r')\n",
        "\n",
        "    #transpose the matrix and save to an array A\n",
        "    mask_A = g['bwMaskStack'][:].T\n",
        "\n",
        "    g.close()\n",
        "\n",
        "    #rearrange the dimensions and show the new shape\n",
        "    mask_A = mask_A.transpose(1,0,2)\n",
        "\n",
        "    #reshape to 2D, first dimension is 128*256 (32768), 2nd dimension is the # of ROI's\n",
        "    mask_A = mask_A.reshape((mask_A.shape[1]*mask_A.shape[0]), mask_A.shape[2])\n",
        "\n",
        "    #convert the values from 0/1 to boolean False/True\n",
        "    mask_A = np.array(mask_A, dtype=bool)\n",
        "    #print('mask read in and reformatted')\n",
        "\n",
        "    #Seeded CNMF only works when seeded using mmap\n",
        "    #import pathlib\n",
        "\n",
        "    #read data from the original cnmf's mmap location\n",
        "    Yr, dims, T = cm.load_memmap(cnm.mmap_file)\n",
        "\n",
        "    # load frames in python format (T x X x Y)\n",
        "    mov = np.reshape(Yr.T, [T] + list(dims), order='F')\n",
        "    #print('movie matrix loaded for seeded cnmf')\n",
        "\n",
        "\n",
        "    #For seeded CNMF, need to adjust some params\n",
        "    opts.patch['only_init'] = False\n",
        "    opts.data['use_cnn'] = False\n",
        "\n",
        "    #print('params adjusted for seeded cnmf')\n",
        "    \n",
        "    #Initialize a new cnmf object and pass in our masks as the \"Ain\" param\n",
        "    #\"Ain\" is A-in, meaning the A matrix holding the spatial footprints of the roi's\n",
        "    cnm_seeded = cnmf.CNMF(n_processes = 2, params=opts, dview=None, Ain=mask_A)\n",
        "    #print('seeded cnmf object initialized')\n",
        "    cnm_seeded.fit(mov)\n",
        "    #print('seeded cnmf completed')\n",
        "\n",
        "    #Try running register_ROIs and see what happens\n",
        "    matched_ROIs1, matched_ROIs2, non_matched1, non_matched2, performance, A2 = cm.base.rois.register_ROIs(cnm_seeded.estimates.A, cnm.estimates.A, dims=dims)\n",
        "    #print('validation and scoring completed')\n",
        "\n",
        "    #restore params for the next regular cnmf iteration\n",
        "    opts.patch['only_init'] = True\n",
        "    #opts.data['use_cnn'] = True\n",
        "\n",
        "    cm.stop_server(dview=dview)\n",
        "\n",
        "\n",
        "    #return performance metrics\n",
        "    return {'matched_ROIs1': matched_ROIs1,\n",
        "            'matched_ROIs2': matched_ROIs2,\n",
        "            'non_matched1': non_matched1,\n",
        "            'non_matched2': non_matched2, \n",
        "            'performance': performance,\n",
        "            'A2': A2,\n",
        "            'cnm_estimates': cnm.estimates,\n",
        "            'seeded_cnm_estimates': cnm_seeded.estimates}\n",
        "\n",
        "  except:\n",
        "    print('failed')\n",
        "    cm.stop_server(dview=dview)"
      ],
      "execution_count": null,
      "outputs": []
    },
    {
      "cell_type": "markdown",
      "metadata": {
        "id": "2AT-5zoysj-B"
      },
      "source": [
        "## Function to score all our stacks and return the avg f1"
      ]
    },
    {
      "cell_type": "code",
      "metadata": {
        "id": "BJtcnIiCBWQb"
      },
      "source": [
        "#loop through the stack-mask pairs and print the accuracy results\n",
        "\n",
        "def score_all_stacks(all_params):\n",
        "\n",
        "  print(all_params)\n",
        "\n",
        "  K = all_params[0]\n",
        "  nb = all_params[1]\n",
        "  merge_thresh = all_params[2]\n",
        "  gSig = [all_params[3], all_params[4]] #param passes one value, recreate [x,y] structure\n",
        "  SNR_lowest = all_params[5]\n",
        "\n",
        "\n",
        "  from statistics import mean\n",
        "\n",
        "  #hard coded paths since these won't change for now, proceduralize later\n",
        "  mask_stack_pairs = [['../drive/MyDrive/DS6011_Capstone_VisualNeuroscience/DATA/manualROIs/210728_0_1_manualROIs_tm2_tm9_syt.mat',\n",
        "  '../drive/MyDrive/DS6011_Capstone_VisualNeuroscience/DATA/stackRaw/CLEANED/CLEAN_210728_0_1_stackRaw_mc_tm2_tm9_syt_.h5'],\n",
        " ['../drive/MyDrive/DS6011_Capstone_VisualNeuroscience/DATA/manualROIs/210731_0_1_manualROIs_mix2_syt.mat',\n",
        "  '../drive/MyDrive/DS6011_Capstone_VisualNeuroscience/DATA/stackRaw/CLEANED/CLEAN_210731_0_1_stackRaw_mc_mix2_syt_.h5'],\n",
        " ['../drive/MyDrive/DS6011_Capstone_VisualNeuroscience/DATA/manualROIs/210815_0_1_manualROIs_mix1_syt.mat',\n",
        "  '../drive/MyDrive/DS6011_Capstone_VisualNeuroscience/DATA/stackRaw/CLEANED/CLEAN_210815_0_1_stackRaw_mc_mix1_syt_.h5'],\n",
        " ['../drive/MyDrive/DS6011_Capstone_VisualNeuroscience/DATA/manualROIs/211023_0_1_manualROIs_tm2_tm4_syt.mat',\n",
        "  '../drive/MyDrive/DS6011_Capstone_VisualNeuroscience/DATA/stackRaw/CLEANED/CLEAN_211023_0_1_stackRaw_mc_tm2_tm4_syt_.h5'],\n",
        " ['../drive/MyDrive/DS6011_Capstone_VisualNeuroscience/DATA/manualROIs/211106_0_1_manualROIs_tm1_t5_syt.mat',\n",
        "  '../drive/MyDrive/DS6011_Capstone_VisualNeuroscience/DATA/stackRaw/CLEANED/CLEAN_211106_0_1_stackRaw_mc_tm1_t5_syt_.h5'],\n",
        " ['../drive/MyDrive/DS6011_Capstone_VisualNeuroscience/DATA/manualROIs/211106_1_1_manualROIs_tm4_t5_syt.mat',\n",
        "  '../drive/MyDrive/DS6011_Capstone_VisualNeuroscience/DATA/stackRaw/CLEANED/CLEAN_211106_1_1_stackRaw_mc_tm4_t5_syt_.h5']]\n",
        "\n",
        "\n",
        "\n",
        "  #Assign params passed in by the wrapper function\n",
        "  opts.init['K'] = K\n",
        "  opts.init['nb'] = nb #nb gets assigned in three different dicts\n",
        "  opts.spatial['nb'] = nb\n",
        "  opts.temporal['nb'] = nb\n",
        "  opts.merging['merge_thresh'] = merge_thresh\n",
        "  opts.init['gSig'] = gSig\n",
        "\n",
        "  #store precisions from each stack-mask pair for this iteration in a list, we'll return the average\n",
        "  f1s = []\n",
        "\n",
        "  #this loop will run all stacks through caiman using a given set of parameters to get the accuracy\n",
        "  for pair in mask_stack_pairs:\n",
        "    path_to_stack = pair[1]\n",
        "    path_to_masks = pair[0]\n",
        "\n",
        "    #set fnames before calling caiman function\n",
        "    opts.data['fnames'] = [path_to_stack]\n",
        "    print(opts.data['fnames'])\n",
        "\n",
        "    results = score_params(path_to_stack=path_to_stack, \\\n",
        "              path_to_masks=path_to_masks, \\\n",
        "              opts=opts)\n",
        "    \n",
        "    #store this stack-mask pair's precision\n",
        "    #later handle some kind of logging to keep a dict of info returned\n",
        "    f1s.append(results['performance']['f1_score'])\n",
        "\n",
        "    print(results['performance'])\n",
        "\n",
        "  #return the mean precision for all mask-stack pairs\n",
        "  #negative of the precision, so that the optimizer can minimize\n",
        "  print(f1s)\n",
        "  return -mean(f1s)\n",
        "\n"
      ],
      "execution_count": null,
      "outputs": []
    },
    {
      "cell_type": "markdown",
      "metadata": {
        "id": "Mb433-9AHs1s"
      },
      "source": [
        "## Bayesian Model Optimization"
      ]
    },
    {
      "cell_type": "code",
      "metadata": {
        "colab": {
          "base_uri": "https://localhost:8080/"
        },
        "id": "eRTllB4wHZIZ",
        "outputId": "e79f2f13-e88e-463f-8d82-9ee7d81aa21f"
      },
      "source": [
        "!pip install scikit-optimize\n",
        "import skopt\n",
        "from skopt.callbacks import CheckpointSaver\n",
        "from skopt.callbacks import DeltaYStopper\n",
        "from skopt.callbacks import DeadlineStopper\n",
        "from skopt import plots\n",
        "from skopt import load"
      ],
      "execution_count": null,
      "outputs": [
        {
          "name": "stdout",
          "output_type": "stream",
          "text": [
            "Requirement already satisfied: scikit-optimize in /usr/local/lib/python3.7/dist-packages (0.9.0)\n",
            "Requirement already satisfied: scikit-learn>=0.20.0 in /usr/local/lib/python3.7/dist-packages (from scikit-optimize) (1.0.1)\n",
            "Requirement already satisfied: pyaml>=16.9 in /usr/local/lib/python3.7/dist-packages (from scikit-optimize) (21.10.1)\n",
            "Requirement already satisfied: scipy>=0.19.1 in /usr/local/lib/python3.7/dist-packages (from scikit-optimize) (1.4.1)\n",
            "Requirement already satisfied: numpy>=1.13.3 in /usr/local/lib/python3.7/dist-packages (from scikit-optimize) (1.19.5)\n",
            "Requirement already satisfied: joblib>=0.11 in /usr/local/lib/python3.7/dist-packages (from scikit-optimize) (1.1.0)\n",
            "Requirement already satisfied: PyYAML in /usr/local/lib/python3.7/dist-packages (from pyaml>=16.9->scikit-optimize) (3.13)\n",
            "Requirement already satisfied: threadpoolctl>=2.0.0 in /usr/local/lib/python3.7/dist-packages (from scikit-learn>=0.20.0->scikit-optimize) (3.0.0)\n"
          ]
        }
      ]
    },
    {
      "cell_type": "code",
      "metadata": {
        "id": "C6tFYAUmBPr0"
      },
      "source": [
        "# #load old checkpoints if we need - change path\n",
        "# checkpoints = skopt.load('../drive/MyDrive/DS6011_Capstone_VisualNeuroscience/DATA/search_checkpoints2.pkl')"
      ],
      "execution_count": null,
      "outputs": []
    },
    {
      "cell_type": "code",
      "metadata": {
        "id": "vEmfHQiMSh07"
      },
      "source": [
        "#define the parameter space - this is the entirety of the space I want to explore and will take a long time to run\n",
        "\n",
        "#change params if needed\n",
        "SPACE = [\n",
        "        skopt.space.Integer(10, 20, name='K'), #number of ROIs to expect in the FOV\n",
        "        skopt.space.Integer(1,3, name='nb'), #measure of how much background noise to remove, minimum 2 but higher could remove ROIs\n",
        "        skopt.space.Real(.95, .999, name= 'merge_thresh'), #how correlated ROIs need to be before they get merged\n",
        "        skopt.space.Integer(1, 3, name = 'gSig_wid'), #half-width of neurons - Supposedly the most important\n",
        "        skopt.space.Integer(1, 3, name = 'gSig_hei'), #half-height of neurons - Supposedly the most important\n",
        "        skopt.space.Real(.5, 1.5, name = 'SNR_lowest')] #Minimum SNR accepted for ROIs, (if below this, reject)"
      ],
      "execution_count": null,
      "outputs": []
    },
    {
      "cell_type": "code",
      "metadata": {
        "id": "UCAv43maVVNO"
      },
      "source": [
        "#saves a checkpoint every iteration to this filepath\n",
        "\n",
        "#CHANGE THIS PATH OR FILENAME BEFORE YOU RUN THIS - LEAVE THE EXTENSION AS .PKL\n",
        "checkpoint_saver = CheckpointSaver('../drive/MyDrive/DS6011_Capstone_VisualNeuroscience/DATA/search_checkpoints_ln_attempt_2.pkl')\n",
        "\n",
        "#stopping criteria - stop if the 5 best iterations are within 3% of each other- might want to make more strict\n",
        "stopping_criteria = skopt.callbacks.DeltaYStopper(.03, n_best=5)\n",
        "\n",
        "#second criteria, stop after 11.5 hours if it hasn't stopped yet - takes time in seconds as argument\n",
        "mins = 11.5 * 60\n",
        "seconds = mins * 60\n",
        "stopping_criteria_2 = DeadlineStopper(total_time= seconds)\n",
        "\n",
        "\n",
        "# surrogate function, directly pass in parameter list, returns precision result directly\n",
        "#this is the function that the optimizer minimizes\n",
        "#score_all_stacks returns the precision * -1 so that the optimizer can minimize it\n",
        "def objective(parameters):\n",
        "    return score_all_stacks(parameters)"
      ],
      "execution_count": null,
      "outputs": []
    },
    {
      "cell_type": "code",
      "metadata": {
        "colab": {
          "background_save": true,
          "base_uri": "https://localhost:8080/"
        },
        "id": "hGFUFobpS_Z1",
        "outputId": "747b6b96-a93b-4b7d-cd65-71250fa6d8d9"
      },
      "source": [
        "#optimizer using objective function, parameter space, checkpointer, stopping criteria\n",
        "\n",
        "#change minimizer function if needed\n",
        "results = skopt.gp_minimize(objective, \n",
        "                              SPACE, \n",
        "                              callback=[checkpoint_saver, stopping_criteria, stopping_criteria_2], \n",
        "                              initial_point_generator = 'halton',\n",
        "                              n_jobs = 2,\n",
        "                              verbose=True)"
      ],
      "execution_count": null,
      "outputs": [
        {
          "name": "stdout",
          "output_type": "stream",
          "text": [
            "Iteration No: 1 started. Evaluating function at random point.\n",
            "[10, 1, 0.95, 1, 1, 0.5]\n",
            "['../drive/MyDrive/DS6011_Capstone_VisualNeuroscience/DATA/stackRaw/CLEANED/CLEAN_210728_0_1_stackRaw_mc_tm2_tm9_syt_.h5']\n",
            "Waiting for connection file: ~/.ipython/profile_default/security/ipcontroller-client.json\n",
            "...................spatial support for each components given by the user\n",
            "{'recall': 0.16666666666666666, 'precision': 0.2, 'accuracy': 0.1, 'f1_score': 0.18181818181818182}\n",
            "['../drive/MyDrive/DS6011_Capstone_VisualNeuroscience/DATA/stackRaw/CLEANED/CLEAN_210731_0_1_stackRaw_mc_mix2_syt_.h5']\n",
            "Waiting for connection file: ~/.ipython/profile_default/security/ipcontroller-client.json\n",
            "...................spatial support for each components given by the user\n",
            "{'recall': 0.0, 'precision': 0.0, 'accuracy': 0.0, 'f1_score': 0.0}\n",
            "['../drive/MyDrive/DS6011_Capstone_VisualNeuroscience/DATA/stackRaw/CLEANED/CLEAN_210815_0_1_stackRaw_mc_mix1_syt_.h5']\n",
            "Waiting for connection file: ~/.ipython/profile_default/security/ipcontroller-client.json\n",
            "...................spatial support for each components given by the user\n",
            "{'recall': 0.06666666666666667, 'precision': 0.1, 'accuracy': 0.041666666666666664, 'f1_score': 0.08}\n",
            "['../drive/MyDrive/DS6011_Capstone_VisualNeuroscience/DATA/stackRaw/CLEANED/CLEAN_211023_0_1_stackRaw_mc_tm2_tm4_syt_.h5']\n",
            "Waiting for connection file: ~/.ipython/profile_default/security/ipcontroller-client.json\n",
            "...................spatial support for each components given by the user\n",
            "{'recall': 0.0, 'precision': 0.0, 'accuracy': 0.0, 'f1_score': 0.0}\n",
            "['../drive/MyDrive/DS6011_Capstone_VisualNeuroscience/DATA/stackRaw/CLEANED/CLEAN_211106_0_1_stackRaw_mc_tm1_t5_syt_.h5']\n",
            "Waiting for connection file: ~/.ipython/profile_default/security/ipcontroller-client.json\n",
            "..............."
          ]
        },
        {
          "name": "stderr",
          "output_type": "stream",
          "text": [
            "/content/CaImAn/caiman/summary_images.py:217: RuntimeWarning: invalid value encountered in true_divide\n",
            "  w_mov = (Y - np.mean(Y, axis=0)) / np.std(Y, axis=0)\n"
          ]
        },
        {
          "name": "stdout",
          "output_type": "stream",
          "text": [
            "....spatial support for each components given by the user\n",
            "{'recall': 0.0, 'precision': 0.0, 'accuracy': 0.0, 'f1_score': 0.0}\n",
            "['../drive/MyDrive/DS6011_Capstone_VisualNeuroscience/DATA/stackRaw/CLEANED/CLEAN_211106_1_1_stackRaw_mc_tm4_t5_syt_.h5']\n",
            "Waiting for connection file: ~/.ipython/profile_default/security/ipcontroller-client.json\n",
            "...................spatial support for each components given by the user\n",
            "{'recall': 0.0, 'precision': 0.0, 'accuracy': 0.0, 'f1_score': 0.0}\n",
            "[0.18181818181818182, 0.0, 0.08, 0.0, 0.0, 0.0]\n",
            "Iteration No: 1 ended. Evaluation done at random point.\n",
            "Time taken: 694.8327\n",
            "Function value obtained: -0.0436\n",
            "Current minimum: -0.0436\n",
            "Iteration No: 2 started. Evaluating function at random point.\n",
            "[15, 2, 0.9598, 1, 1, 0.5769230769230769]\n",
            "['../drive/MyDrive/DS6011_Capstone_VisualNeuroscience/DATA/stackRaw/CLEANED/CLEAN_210728_0_1_stackRaw_mc_tm2_tm9_syt_.h5']\n",
            "Waiting for connection file: ~/.ipython/profile_default/security/ipcontroller-client.json\n",
            "...................spatial support for each components given by the user\n",
            "{'recall': 0.25, 'precision': 0.2, 'accuracy': 0.125, 'f1_score': 0.2222222222222222}\n",
            "['../drive/MyDrive/DS6011_Capstone_VisualNeuroscience/DATA/stackRaw/CLEANED/CLEAN_210731_0_1_stackRaw_mc_mix2_syt_.h5']\n",
            "Waiting for connection file: ~/.ipython/profile_default/security/ipcontroller-client.json\n",
            "...................spatial support for each components given by the user\n",
            "{'recall': 0.0, 'precision': 0.0, 'accuracy': 0.0, 'f1_score': 0.0}\n",
            "['../drive/MyDrive/DS6011_Capstone_VisualNeuroscience/DATA/stackRaw/CLEANED/CLEAN_210815_0_1_stackRaw_mc_mix1_syt_.h5']\n",
            "Waiting for connection file: ~/.ipython/profile_default/security/ipcontroller-client.json\n",
            "...................spatial support for each components given by the user\n",
            "{'recall': 0.06666666666666667, 'precision': 0.06666666666666667, 'accuracy': 0.034482758620689655, 'f1_score': 0.06666666666666667}\n",
            "['../drive/MyDrive/DS6011_Capstone_VisualNeuroscience/DATA/stackRaw/CLEANED/CLEAN_211023_0_1_stackRaw_mc_tm2_tm4_syt_.h5']\n",
            "Waiting for connection file: ~/.ipython/profile_default/security/ipcontroller-client.json\n",
            "...................spatial support for each components given by the user\n",
            "{'recall': 0.0, 'precision': 0.0, 'accuracy': 0.0, 'f1_score': 0.0}\n",
            "['../drive/MyDrive/DS6011_Capstone_VisualNeuroscience/DATA/stackRaw/CLEANED/CLEAN_211106_0_1_stackRaw_mc_tm1_t5_syt_.h5']\n",
            "Waiting for connection file: ~/.ipython/profile_default/security/ipcontroller-client.json\n",
            "..............."
          ]
        },
        {
          "name": "stderr",
          "output_type": "stream",
          "text": [
            "/content/CaImAn/caiman/summary_images.py:217: RuntimeWarning: invalid value encountered in true_divide\n",
            "  w_mov = (Y - np.mean(Y, axis=0)) / np.std(Y, axis=0)\n"
          ]
        },
        {
          "name": "stdout",
          "output_type": "stream",
          "text": [
            "....spatial support for each components given by the user\n",
            "{'recall': 0.0, 'precision': 0.0, 'accuracy': 0.0, 'f1_score': 0.0}\n",
            "['../drive/MyDrive/DS6011_Capstone_VisualNeuroscience/DATA/stackRaw/CLEANED/CLEAN_211106_1_1_stackRaw_mc_tm4_t5_syt_.h5']\n",
            "Waiting for connection file: ~/.ipython/profile_default/security/ipcontroller-client.json\n",
            "...................spatial support for each components given by the user\n",
            "{'recall': 0.0, 'precision': 0.0, 'accuracy': 0.0, 'f1_score': 0.0}\n",
            "[0.2222222222222222, 0.0, 0.06666666666666667, 0.0, 0.0, 0.0]\n",
            "Iteration No: 2 ended. Evaluation done at random point.\n",
            "Time taken: 884.2522\n",
            "Function value obtained: -0.0481\n",
            "Current minimum: -0.0481\n",
            "Iteration No: 3 started. Evaluating function at random point.\n",
            "[12, 2, 0.9696, 2, 1, 0.6538461538461539]\n",
            "['../drive/MyDrive/DS6011_Capstone_VisualNeuroscience/DATA/stackRaw/CLEANED/CLEAN_210728_0_1_stackRaw_mc_tm2_tm9_syt_.h5']\n",
            "Waiting for connection file: ~/.ipython/profile_default/security/ipcontroller-client.json\n",
            "...................spatial support for each components given by the user\n",
            "{'recall': 0.16666666666666666, 'precision': 0.16666666666666666, 'accuracy': 0.09090909090909091, 'f1_score': 0.16666666666666666}\n",
            "['../drive/MyDrive/DS6011_Capstone_VisualNeuroscience/DATA/stackRaw/CLEANED/CLEAN_210731_0_1_stackRaw_mc_mix2_syt_.h5']\n",
            "Waiting for connection file: ~/.ipython/profile_default/security/ipcontroller-client.json\n",
            "...................spatial support for each components given by the user\n",
            "{'recall': 0.0, 'precision': 0.0, 'accuracy': 0.0, 'f1_score': 0.0}\n",
            "['../drive/MyDrive/DS6011_Capstone_VisualNeuroscience/DATA/stackRaw/CLEANED/CLEAN_210815_0_1_stackRaw_mc_mix1_syt_.h5']\n",
            "Waiting for connection file: ~/.ipython/profile_default/security/ipcontroller-client.json\n",
            "...................spatial support for each components given by the user\n",
            "{'recall': 0.06666666666666667, 'precision': 0.08333333333333333, 'accuracy': 0.038461538461538464, 'f1_score': 0.07407407407407407}\n",
            "['../drive/MyDrive/DS6011_Capstone_VisualNeuroscience/DATA/stackRaw/CLEANED/CLEAN_211023_0_1_stackRaw_mc_tm2_tm4_syt_.h5']\n",
            "Waiting for connection file: ~/.ipython/profile_default/security/ipcontroller-client.json\n",
            "...................spatial support for each components given by the user\n",
            "{'recall': 0.0, 'precision': 0.0, 'accuracy': 0.0, 'f1_score': 0.0}\n",
            "['../drive/MyDrive/DS6011_Capstone_VisualNeuroscience/DATA/stackRaw/CLEANED/CLEAN_211106_0_1_stackRaw_mc_tm1_t5_syt_.h5']\n",
            "Waiting for connection file: ~/.ipython/profile_default/security/ipcontroller-client.json\n",
            "..............."
          ]
        },
        {
          "name": "stderr",
          "output_type": "stream",
          "text": [
            "/content/CaImAn/caiman/summary_images.py:217: RuntimeWarning: invalid value encountered in true_divide\n",
            "  w_mov = (Y - np.mean(Y, axis=0)) / np.std(Y, axis=0)\n"
          ]
        },
        {
          "name": "stdout",
          "output_type": "stream",
          "text": [
            "....spatial support for each components given by the user\n",
            "{'recall': 0.0, 'precision': 0.0, 'accuracy': 0.0, 'f1_score': 0.0}\n",
            "['../drive/MyDrive/DS6011_Capstone_VisualNeuroscience/DATA/stackRaw/CLEANED/CLEAN_211106_1_1_stackRaw_mc_tm4_t5_syt_.h5']\n",
            "Waiting for connection file: ~/.ipython/profile_default/security/ipcontroller-client.json\n",
            "...................spatial support for each components given by the user\n",
            "{'recall': 0.0, 'precision': 0.0, 'accuracy': 0.0, 'f1_score': 0.0}\n",
            "[0.16666666666666666, 0.0, 0.07407407407407407, 0.0, 0.0, 0.0]\n",
            "Iteration No: 3 ended. Evaluation done at random point.\n",
            "Time taken: 870.2471\n",
            "Function value obtained: -0.0401\n",
            "Current minimum: -0.0481\n",
            "Iteration No: 4 started. Evaluating function at random point.\n",
            "[18, 1, 0.9793999999999999, 2, 2, 0.7307692307692308]\n",
            "['../drive/MyDrive/DS6011_Capstone_VisualNeuroscience/DATA/stackRaw/CLEANED/CLEAN_210728_0_1_stackRaw_mc_tm2_tm9_syt_.h5']\n",
            "Waiting for connection file: ~/.ipython/profile_default/security/ipcontroller-client.json\n",
            "...................spatial support for each components given by the user\n",
            "{'recall': 0.4166666666666667, 'precision': 0.2777777777777778, 'accuracy': 0.2, 'f1_score': 0.3333333333333333}\n",
            "['../drive/MyDrive/DS6011_Capstone_VisualNeuroscience/DATA/stackRaw/CLEANED/CLEAN_210731_0_1_stackRaw_mc_mix2_syt_.h5']\n",
            "Waiting for connection file: ~/.ipython/profile_default/security/ipcontroller-client.json\n",
            "..."
          ]
        },
        {
          "name": "stderr",
          "output_type": "stream",
          "text": [
            "ERROR:tornado.general:Uncaught exception in ZMQStream callback\n",
            "Traceback (most recent call last):\n",
            "  File \"/usr/local/lib/python3.7/dist-packages/zmq/eventloop/zmqstream.py\", line 431, in _run_callback\n",
            "    callback(*args, **kwargs)\n",
            "  File \"/usr/local/lib/python3.7/dist-packages/tornado/stack_context.py\", line 300, in null_wrapper\n",
            "    return fn(*args, **kwargs)\n",
            "  File \"<decorator-gen-151>\", line 2, in _dispatch_iopub\n",
            "  File \"/usr/local/lib/python3.7/dist-packages/ipyparallel/client/client.py\", line 73, in unpack_message\n",
            "    idents, msg = self.session.feed_identities(msg_parts, copy=False)\n",
            "  File \"/usr/local/lib/python3.7/dist-packages/jupyter_client/session.py\", line 853, in feed_identities\n",
            "    raise ValueError(\"DELIM not in msg_list\")\n",
            "ValueError: DELIM not in msg_list\n",
            "ERROR:tornado.general:Uncaught exception in zmqstream callback\n",
            "Traceback (most recent call last):\n",
            "  File \"/usr/local/lib/python3.7/dist-packages/zmq/eventloop/zmqstream.py\", line 452, in _handle_events\n",
            "    self._handle_recv()\n",
            "  File \"/usr/local/lib/python3.7/dist-packages/zmq/eventloop/zmqstream.py\", line 481, in _handle_recv\n",
            "    self._run_callback(callback, msg)\n",
            "  File \"/usr/local/lib/python3.7/dist-packages/zmq/eventloop/zmqstream.py\", line 431, in _run_callback\n",
            "    callback(*args, **kwargs)\n",
            "  File \"/usr/local/lib/python3.7/dist-packages/tornado/stack_context.py\", line 300, in null_wrapper\n",
            "    return fn(*args, **kwargs)\n",
            "  File \"<decorator-gen-151>\", line 2, in _dispatch_iopub\n",
            "  File \"/usr/local/lib/python3.7/dist-packages/ipyparallel/client/client.py\", line 73, in unpack_message\n",
            "    idents, msg = self.session.feed_identities(msg_parts, copy=False)\n",
            "  File \"/usr/local/lib/python3.7/dist-packages/jupyter_client/session.py\", line 853, in feed_identities\n",
            "    raise ValueError(\"DELIM not in msg_list\")\n",
            "ValueError: DELIM not in msg_list\n",
            "ERROR:asyncio:Exception in callback BaseAsyncIOLoop._handle_events(1087, 1)\n",
            "handle: <Handle BaseAsyncIOLoop._handle_events(1087, 1)>\n",
            "Traceback (most recent call last):\n",
            "  File \"/usr/lib/python3.7/asyncio/events.py\", line 88, in _run\n",
            "    self._context.run(self._callback, *self._args)\n",
            "  File \"/usr/local/lib/python3.7/dist-packages/tornado/platform/asyncio.py\", line 122, in _handle_events\n",
            "    handler_func(fileobj, events)\n",
            "  File \"/usr/local/lib/python3.7/dist-packages/tornado/stack_context.py\", line 300, in null_wrapper\n",
            "    return fn(*args, **kwargs)\n",
            "  File \"/usr/local/lib/python3.7/dist-packages/zmq/eventloop/zmqstream.py\", line 452, in _handle_events\n",
            "    self._handle_recv()\n",
            "  File \"/usr/local/lib/python3.7/dist-packages/zmq/eventloop/zmqstream.py\", line 481, in _handle_recv\n",
            "    self._run_callback(callback, msg)\n",
            "  File \"/usr/local/lib/python3.7/dist-packages/zmq/eventloop/zmqstream.py\", line 431, in _run_callback\n",
            "    callback(*args, **kwargs)\n",
            "  File \"/usr/local/lib/python3.7/dist-packages/tornado/stack_context.py\", line 300, in null_wrapper\n",
            "    return fn(*args, **kwargs)\n",
            "  File \"<decorator-gen-151>\", line 2, in _dispatch_iopub\n",
            "  File \"/usr/local/lib/python3.7/dist-packages/ipyparallel/client/client.py\", line 73, in unpack_message\n",
            "    idents, msg = self.session.feed_identities(msg_parts, copy=False)\n",
            "  File \"/usr/local/lib/python3.7/dist-packages/jupyter_client/session.py\", line 853, in feed_identities\n",
            "    raise ValueError(\"DELIM not in msg_list\")\n",
            "ValueError: DELIM not in msg_list\n"
          ]
        },
        {
          "name": "stdout",
          "output_type": "stream",
          "text": [
            "............."
          ]
        },
        {
          "name": "stderr",
          "output_type": "stream",
          "text": [
            "ERROR:tornado.general:Uncaught exception in ZMQStream callback\n",
            "Traceback (most recent call last):\n",
            "  File \"/usr/local/lib/python3.7/dist-packages/zmq/eventloop/zmqstream.py\", line 431, in _run_callback\n",
            "    callback(*args, **kwargs)\n",
            "  File \"/usr/local/lib/python3.7/dist-packages/tornado/stack_context.py\", line 300, in null_wrapper\n",
            "    return fn(*args, **kwargs)\n",
            "  File \"<decorator-gen-151>\", line 2, in _dispatch_iopub\n",
            "  File \"/usr/local/lib/python3.7/dist-packages/ipyparallel/client/client.py\", line 73, in unpack_message\n",
            "    idents, msg = self.session.feed_identities(msg_parts, copy=False)\n",
            "  File \"/usr/local/lib/python3.7/dist-packages/jupyter_client/session.py\", line 853, in feed_identities\n",
            "    raise ValueError(\"DELIM not in msg_list\")\n",
            "ValueError: DELIM not in msg_list\n",
            "ERROR:tornado.general:Uncaught exception in zmqstream callback\n",
            "Traceback (most recent call last):\n",
            "  File \"/usr/local/lib/python3.7/dist-packages/zmq/eventloop/zmqstream.py\", line 452, in _handle_events\n",
            "    self._handle_recv()\n",
            "  File \"/usr/local/lib/python3.7/dist-packages/zmq/eventloop/zmqstream.py\", line 481, in _handle_recv\n",
            "    self._run_callback(callback, msg)\n",
            "  File \"/usr/local/lib/python3.7/dist-packages/zmq/eventloop/zmqstream.py\", line 431, in _run_callback\n",
            "    callback(*args, **kwargs)\n",
            "  File \"/usr/local/lib/python3.7/dist-packages/tornado/stack_context.py\", line 300, in null_wrapper\n",
            "    return fn(*args, **kwargs)\n",
            "  File \"<decorator-gen-151>\", line 2, in _dispatch_iopub\n",
            "  File \"/usr/local/lib/python3.7/dist-packages/ipyparallel/client/client.py\", line 73, in unpack_message\n",
            "    idents, msg = self.session.feed_identities(msg_parts, copy=False)\n",
            "  File \"/usr/local/lib/python3.7/dist-packages/jupyter_client/session.py\", line 853, in feed_identities\n",
            "    raise ValueError(\"DELIM not in msg_list\")\n",
            "ValueError: DELIM not in msg_list\n",
            "ERROR:asyncio:Exception in callback BaseAsyncIOLoop._handle_events(1087, 1)\n",
            "handle: <Handle BaseAsyncIOLoop._handle_events(1087, 1)>\n",
            "Traceback (most recent call last):\n",
            "  File \"/usr/lib/python3.7/asyncio/events.py\", line 88, in _run\n",
            "    self._context.run(self._callback, *self._args)\n",
            "  File \"/usr/local/lib/python3.7/dist-packages/tornado/platform/asyncio.py\", line 122, in _handle_events\n",
            "    handler_func(fileobj, events)\n",
            "  File \"/usr/local/lib/python3.7/dist-packages/tornado/stack_context.py\", line 300, in null_wrapper\n",
            "    return fn(*args, **kwargs)\n",
            "  File \"/usr/local/lib/python3.7/dist-packages/zmq/eventloop/zmqstream.py\", line 452, in _handle_events\n",
            "    self._handle_recv()\n",
            "  File \"/usr/local/lib/python3.7/dist-packages/zmq/eventloop/zmqstream.py\", line 481, in _handle_recv\n",
            "    self._run_callback(callback, msg)\n",
            "  File \"/usr/local/lib/python3.7/dist-packages/zmq/eventloop/zmqstream.py\", line 431, in _run_callback\n",
            "    callback(*args, **kwargs)\n",
            "  File \"/usr/local/lib/python3.7/dist-packages/tornado/stack_context.py\", line 300, in null_wrapper\n",
            "    return fn(*args, **kwargs)\n",
            "  File \"<decorator-gen-151>\", line 2, in _dispatch_iopub\n",
            "  File \"/usr/local/lib/python3.7/dist-packages/ipyparallel/client/client.py\", line 73, in unpack_message\n",
            "    idents, msg = self.session.feed_identities(msg_parts, copy=False)\n",
            "  File \"/usr/local/lib/python3.7/dist-packages/jupyter_client/session.py\", line 853, in feed_identities\n",
            "    raise ValueError(\"DELIM not in msg_list\")\n",
            "ValueError: DELIM not in msg_list\n"
          ]
        },
        {
          "name": "stdout",
          "output_type": "stream",
          "text": [
            "...spatial support for each components given by the user\n",
            "{'recall': 0.0, 'precision': 0.0, 'accuracy': 0.0, 'f1_score': 0.0}\n",
            "['../drive/MyDrive/DS6011_Capstone_VisualNeuroscience/DATA/stackRaw/CLEANED/CLEAN_210815_0_1_stackRaw_mc_mix1_syt_.h5']\n",
            "Waiting for connection file: ~/.ipython/profile_default/security/ipcontroller-client.json\n",
            "..."
          ]
        },
        {
          "name": "stderr",
          "output_type": "stream",
          "text": [
            "ERROR:tornado.general:Uncaught exception in ZMQStream callback\n",
            "Traceback (most recent call last):\n",
            "  File \"/usr/local/lib/python3.7/dist-packages/zmq/eventloop/zmqstream.py\", line 431, in _run_callback\n",
            "    callback(*args, **kwargs)\n",
            "  File \"/usr/local/lib/python3.7/dist-packages/tornado/stack_context.py\", line 300, in null_wrapper\n",
            "    return fn(*args, **kwargs)\n",
            "  File \"<decorator-gen-151>\", line 2, in _dispatch_iopub\n",
            "  File \"/usr/local/lib/python3.7/dist-packages/ipyparallel/client/client.py\", line 73, in unpack_message\n",
            "    idents, msg = self.session.feed_identities(msg_parts, copy=False)\n",
            "  File \"/usr/local/lib/python3.7/dist-packages/jupyter_client/session.py\", line 853, in feed_identities\n",
            "    raise ValueError(\"DELIM not in msg_list\")\n",
            "ValueError: DELIM not in msg_list\n",
            "ERROR:tornado.general:Uncaught exception in zmqstream callback\n",
            "Traceback (most recent call last):\n",
            "  File \"/usr/local/lib/python3.7/dist-packages/zmq/eventloop/zmqstream.py\", line 452, in _handle_events\n",
            "    self._handle_recv()\n",
            "  File \"/usr/local/lib/python3.7/dist-packages/zmq/eventloop/zmqstream.py\", line 481, in _handle_recv\n",
            "    self._run_callback(callback, msg)\n",
            "  File \"/usr/local/lib/python3.7/dist-packages/zmq/eventloop/zmqstream.py\", line 431, in _run_callback\n",
            "    callback(*args, **kwargs)\n",
            "  File \"/usr/local/lib/python3.7/dist-packages/tornado/stack_context.py\", line 300, in null_wrapper\n",
            "    return fn(*args, **kwargs)\n",
            "  File \"<decorator-gen-151>\", line 2, in _dispatch_iopub\n",
            "  File \"/usr/local/lib/python3.7/dist-packages/ipyparallel/client/client.py\", line 73, in unpack_message\n",
            "    idents, msg = self.session.feed_identities(msg_parts, copy=False)\n",
            "  File \"/usr/local/lib/python3.7/dist-packages/jupyter_client/session.py\", line 853, in feed_identities\n",
            "    raise ValueError(\"DELIM not in msg_list\")\n",
            "ValueError: DELIM not in msg_list\n",
            "ERROR:asyncio:Exception in callback BaseAsyncIOLoop._handle_events(242, 1)\n",
            "handle: <Handle BaseAsyncIOLoop._handle_events(242, 1)>\n",
            "Traceback (most recent call last):\n",
            "  File \"/usr/lib/python3.7/asyncio/events.py\", line 88, in _run\n",
            "    self._context.run(self._callback, *self._args)\n",
            "  File \"/usr/local/lib/python3.7/dist-packages/tornado/platform/asyncio.py\", line 122, in _handle_events\n",
            "    handler_func(fileobj, events)\n",
            "  File \"/usr/local/lib/python3.7/dist-packages/tornado/stack_context.py\", line 300, in null_wrapper\n",
            "    return fn(*args, **kwargs)\n",
            "  File \"/usr/local/lib/python3.7/dist-packages/zmq/eventloop/zmqstream.py\", line 452, in _handle_events\n",
            "    self._handle_recv()\n",
            "  File \"/usr/local/lib/python3.7/dist-packages/zmq/eventloop/zmqstream.py\", line 481, in _handle_recv\n",
            "    self._run_callback(callback, msg)\n",
            "  File \"/usr/local/lib/python3.7/dist-packages/zmq/eventloop/zmqstream.py\", line 431, in _run_callback\n",
            "    callback(*args, **kwargs)\n",
            "  File \"/usr/local/lib/python3.7/dist-packages/tornado/stack_context.py\", line 300, in null_wrapper\n",
            "    return fn(*args, **kwargs)\n",
            "  File \"<decorator-gen-151>\", line 2, in _dispatch_iopub\n",
            "  File \"/usr/local/lib/python3.7/dist-packages/ipyparallel/client/client.py\", line 73, in unpack_message\n",
            "    idents, msg = self.session.feed_identities(msg_parts, copy=False)\n",
            "  File \"/usr/local/lib/python3.7/dist-packages/jupyter_client/session.py\", line 853, in feed_identities\n",
            "    raise ValueError(\"DELIM not in msg_list\")\n",
            "ValueError: DELIM not in msg_list\n"
          ]
        },
        {
          "name": "stdout",
          "output_type": "stream",
          "text": [
            "............."
          ]
        },
        {
          "name": "stderr",
          "output_type": "stream",
          "text": [
            "ERROR:tornado.general:Uncaught exception in ZMQStream callback\n",
            "Traceback (most recent call last):\n",
            "  File \"/usr/local/lib/python3.7/dist-packages/zmq/eventloop/zmqstream.py\", line 431, in _run_callback\n",
            "    callback(*args, **kwargs)\n",
            "  File \"/usr/local/lib/python3.7/dist-packages/tornado/stack_context.py\", line 300, in null_wrapper\n",
            "    return fn(*args, **kwargs)\n",
            "  File \"<decorator-gen-151>\", line 2, in _dispatch_iopub\n",
            "  File \"/usr/local/lib/python3.7/dist-packages/ipyparallel/client/client.py\", line 73, in unpack_message\n",
            "    idents, msg = self.session.feed_identities(msg_parts, copy=False)\n",
            "  File \"/usr/local/lib/python3.7/dist-packages/jupyter_client/session.py\", line 853, in feed_identities\n",
            "    raise ValueError(\"DELIM not in msg_list\")\n",
            "ValueError: DELIM not in msg_list\n",
            "ERROR:tornado.general:Uncaught exception in zmqstream callback\n",
            "Traceback (most recent call last):\n",
            "  File \"/usr/local/lib/python3.7/dist-packages/zmq/eventloop/zmqstream.py\", line 452, in _handle_events\n",
            "    self._handle_recv()\n",
            "  File \"/usr/local/lib/python3.7/dist-packages/zmq/eventloop/zmqstream.py\", line 481, in _handle_recv\n",
            "    self._run_callback(callback, msg)\n",
            "  File \"/usr/local/lib/python3.7/dist-packages/zmq/eventloop/zmqstream.py\", line 431, in _run_callback\n",
            "    callback(*args, **kwargs)\n",
            "  File \"/usr/local/lib/python3.7/dist-packages/tornado/stack_context.py\", line 300, in null_wrapper\n",
            "    return fn(*args, **kwargs)\n",
            "  File \"<decorator-gen-151>\", line 2, in _dispatch_iopub\n",
            "  File \"/usr/local/lib/python3.7/dist-packages/ipyparallel/client/client.py\", line 73, in unpack_message\n",
            "    idents, msg = self.session.feed_identities(msg_parts, copy=False)\n",
            "  File \"/usr/local/lib/python3.7/dist-packages/jupyter_client/session.py\", line 853, in feed_identities\n",
            "    raise ValueError(\"DELIM not in msg_list\")\n",
            "ValueError: DELIM not in msg_list\n",
            "ERROR:asyncio:Exception in callback BaseAsyncIOLoop._handle_events(242, 1)\n",
            "handle: <Handle BaseAsyncIOLoop._handle_events(242, 1)>\n",
            "Traceback (most recent call last):\n",
            "  File \"/usr/lib/python3.7/asyncio/events.py\", line 88, in _run\n",
            "    self._context.run(self._callback, *self._args)\n",
            "  File \"/usr/local/lib/python3.7/dist-packages/tornado/platform/asyncio.py\", line 122, in _handle_events\n",
            "    handler_func(fileobj, events)\n",
            "  File \"/usr/local/lib/python3.7/dist-packages/tornado/stack_context.py\", line 300, in null_wrapper\n",
            "    return fn(*args, **kwargs)\n",
            "  File \"/usr/local/lib/python3.7/dist-packages/zmq/eventloop/zmqstream.py\", line 452, in _handle_events\n",
            "    self._handle_recv()\n",
            "  File \"/usr/local/lib/python3.7/dist-packages/zmq/eventloop/zmqstream.py\", line 481, in _handle_recv\n",
            "    self._run_callback(callback, msg)\n",
            "  File \"/usr/local/lib/python3.7/dist-packages/zmq/eventloop/zmqstream.py\", line 431, in _run_callback\n",
            "    callback(*args, **kwargs)\n",
            "  File \"/usr/local/lib/python3.7/dist-packages/tornado/stack_context.py\", line 300, in null_wrapper\n",
            "    return fn(*args, **kwargs)\n",
            "  File \"<decorator-gen-151>\", line 2, in _dispatch_iopub\n",
            "  File \"/usr/local/lib/python3.7/dist-packages/ipyparallel/client/client.py\", line 73, in unpack_message\n",
            "    idents, msg = self.session.feed_identities(msg_parts, copy=False)\n",
            "  File \"/usr/local/lib/python3.7/dist-packages/jupyter_client/session.py\", line 853, in feed_identities\n",
            "    raise ValueError(\"DELIM not in msg_list\")\n",
            "ValueError: DELIM not in msg_list\n"
          ]
        },
        {
          "name": "stdout",
          "output_type": "stream",
          "text": [
            "...spatial support for each components given by the user\n",
            "{'recall': 0.06666666666666667, 'precision': 0.05555555555555555, 'accuracy': 0.03125, 'f1_score': 0.06060606060606061}\n",
            "['../drive/MyDrive/DS6011_Capstone_VisualNeuroscience/DATA/stackRaw/CLEANED/CLEAN_211023_0_1_stackRaw_mc_tm2_tm4_syt_.h5']\n",
            "Waiting for connection file: ~/.ipython/profile_default/security/ipcontroller-client.json\n",
            "...................spatial support for each components given by the user\n",
            "{'recall': 0.09090909090909091, 'precision': 0.05555555555555555, 'accuracy': 0.03571428571428571, 'f1_score': 0.06896551724137931}\n",
            "['../drive/MyDrive/DS6011_Capstone_VisualNeuroscience/DATA/stackRaw/CLEANED/CLEAN_211106_0_1_stackRaw_mc_tm1_t5_syt_.h5']\n",
            "Waiting for connection file: ~/.ipython/profile_default/security/ipcontroller-client.json\n",
            "..............."
          ]
        },
        {
          "name": "stderr",
          "output_type": "stream",
          "text": [
            "/content/CaImAn/caiman/summary_images.py:217: RuntimeWarning: invalid value encountered in true_divide\n",
            "  w_mov = (Y - np.mean(Y, axis=0)) / np.std(Y, axis=0)\n"
          ]
        },
        {
          "name": "stdout",
          "output_type": "stream",
          "text": [
            "....spatial support for each components given by the user\n",
            "{'recall': 0.0, 'precision': 0.0, 'accuracy': 0.0, 'f1_score': 0.0}\n",
            "['../drive/MyDrive/DS6011_Capstone_VisualNeuroscience/DATA/stackRaw/CLEANED/CLEAN_211106_1_1_stackRaw_mc_tm4_t5_syt_.h5']\n",
            "Waiting for connection file: ~/.ipython/profile_default/security/ipcontroller-client.json\n",
            "...................spatial support for each components given by the user\n",
            "{'recall': 0.2, 'precision': 0.05555555555555555, 'accuracy': 0.045454545454545456, 'f1_score': 0.08695652173913043}\n",
            "[0.3333333333333333, 0.0, 0.06060606060606061, 0.06896551724137931, 0.0, 0.08695652173913043]\n",
            "Iteration No: 4 ended. Evaluation done at random point.\n",
            "Time taken: 811.8711\n",
            "Function value obtained: -0.0916\n",
            "Current minimum: -0.0916\n",
            "Iteration No: 5 started. Evaluating function at random point.\n",
            "[11, 2, 0.9892, 2, 2, 0.8076923076923077]\n",
            "['../drive/MyDrive/DS6011_Capstone_VisualNeuroscience/DATA/stackRaw/CLEANED/CLEAN_210728_0_1_stackRaw_mc_tm2_tm9_syt_.h5']\n",
            "Waiting for connection file: ~/.ipython/profile_default/security/ipcontroller-client.json\n",
            "...................spatial support for each components given by the user\n",
            "{'recall': 0.25, 'precision': 0.2727272727272727, 'accuracy': 0.15, 'f1_score': 0.2608695652173913}\n",
            "['../drive/MyDrive/DS6011_Capstone_VisualNeuroscience/DATA/stackRaw/CLEANED/CLEAN_210731_0_1_stackRaw_mc_mix2_syt_.h5']\n",
            "Waiting for connection file: ~/.ipython/profile_default/security/ipcontroller-client.json\n",
            "...................spatial support for each components given by the user\n",
            "{'recall': 0.0, 'precision': 0.0, 'accuracy': 0.0, 'f1_score': 0.0}\n",
            "['../drive/MyDrive/DS6011_Capstone_VisualNeuroscience/DATA/stackRaw/CLEANED/CLEAN_210815_0_1_stackRaw_mc_mix1_syt_.h5']\n",
            "Waiting for connection file: ~/.ipython/profile_default/security/ipcontroller-client.json\n",
            "...................spatial support for each components given by the user\n",
            "{'recall': 0.06666666666666667, 'precision': 0.09090909090909091, 'accuracy': 0.04, 'f1_score': 0.07692307692307693}\n",
            "['../drive/MyDrive/DS6011_Capstone_VisualNeuroscience/DATA/stackRaw/CLEANED/CLEAN_211023_0_1_stackRaw_mc_tm2_tm4_syt_.h5']\n",
            "Waiting for connection file: ~/.ipython/profile_default/security/ipcontroller-client.json\n",
            "...................spatial support for each components given by the user\n",
            "{'recall': 0.0, 'precision': 0.0, 'accuracy': 0.0, 'f1_score': 0.0}\n",
            "['../drive/MyDrive/DS6011_Capstone_VisualNeuroscience/DATA/stackRaw/CLEANED/CLEAN_211106_0_1_stackRaw_mc_tm1_t5_syt_.h5']\n",
            "Waiting for connection file: ~/.ipython/profile_default/security/ipcontroller-client.json\n",
            "..............."
          ]
        },
        {
          "name": "stderr",
          "output_type": "stream",
          "text": [
            "/content/CaImAn/caiman/summary_images.py:217: RuntimeWarning: invalid value encountered in true_divide\n",
            "  w_mov = (Y - np.mean(Y, axis=0)) / np.std(Y, axis=0)\n"
          ]
        },
        {
          "name": "stdout",
          "output_type": "stream",
          "text": [
            "....spatial support for each components given by the user\n",
            "{'recall': 0.0, 'precision': 0.0, 'accuracy': 0.0, 'f1_score': 0.0}\n",
            "['../drive/MyDrive/DS6011_Capstone_VisualNeuroscience/DATA/stackRaw/CLEANED/CLEAN_211106_1_1_stackRaw_mc_tm4_t5_syt_.h5']\n",
            "Waiting for connection file: ~/.ipython/profile_default/security/ipcontroller-client.json\n",
            "...................spatial support for each components given by the user\n",
            "{'recall': 0.0, 'precision': 0.0, 'accuracy': 0.0, 'f1_score': 0.0}\n",
            "[0.2608695652173913, 0.0, 0.07692307692307693, 0.0, 0.0, 0.0]\n",
            "Iteration No: 5 ended. Evaluation done at random point.\n",
            "Time taken: 887.8472\n",
            "Function value obtained: -0.0563\n",
            "Current minimum: -0.0916\n",
            "Iteration No: 6 started. Evaluating function at random point.\n",
            "[16, 3, 0.9519599999999999, 2, 2, 0.8846153846153846]\n",
            "['../drive/MyDrive/DS6011_Capstone_VisualNeuroscience/DATA/stackRaw/CLEANED/CLEAN_210728_0_1_stackRaw_mc_tm2_tm9_syt_.h5']\n",
            "Waiting for connection file: ~/.ipython/profile_default/security/ipcontroller-client.json\n",
            "...................spatial support for each components given by the user\n",
            "{'recall': 0.16666666666666666, 'precision': 0.125, 'accuracy': 0.07692307692307693, 'f1_score': 0.14285714285714285}\n",
            "['../drive/MyDrive/DS6011_Capstone_VisualNeuroscience/DATA/stackRaw/CLEANED/CLEAN_210731_0_1_stackRaw_mc_mix2_syt_.h5']\n",
            "Waiting for connection file: ~/.ipython/profile_default/security/ipcontroller-client.json\n",
            "...................spatial support for each components given by the user\n",
            "{'recall': 0.0, 'precision': 0.0, 'accuracy': 0.0, 'f1_score': 0.0}\n",
            "['../drive/MyDrive/DS6011_Capstone_VisualNeuroscience/DATA/stackRaw/CLEANED/CLEAN_210815_0_1_stackRaw_mc_mix1_syt_.h5']\n",
            "Waiting for connection file: ~/.ipython/profile_default/security/ipcontroller-client.json\n",
            "...................spatial support for each components given by the user\n",
            "{'recall': 0.06666666666666667, 'precision': 0.0625, 'accuracy': 0.03333333333333333, 'f1_score': 0.06451612903225806}\n",
            "['../drive/MyDrive/DS6011_Capstone_VisualNeuroscience/DATA/stackRaw/CLEANED/CLEAN_211023_0_1_stackRaw_mc_tm2_tm4_syt_.h5']\n",
            "Waiting for connection file: ~/.ipython/profile_default/security/ipcontroller-client.json\n",
            "...................spatial support for each components given by the user\n",
            "{'recall': 0.0, 'precision': 0.0, 'accuracy': 0.0, 'f1_score': 0.0}\n",
            "['../drive/MyDrive/DS6011_Capstone_VisualNeuroscience/DATA/stackRaw/CLEANED/CLEAN_211106_0_1_stackRaw_mc_tm1_t5_syt_.h5']\n",
            "Waiting for connection file: ~/.ipython/profile_default/security/ipcontroller-client.json\n",
            "..............."
          ]
        },
        {
          "name": "stderr",
          "output_type": "stream",
          "text": [
            "/content/CaImAn/caiman/summary_images.py:217: RuntimeWarning: invalid value encountered in true_divide\n",
            "  w_mov = (Y - np.mean(Y, axis=0)) / np.std(Y, axis=0)\n"
          ]
        },
        {
          "name": "stdout",
          "output_type": "stream",
          "text": [
            "....spatial support for each components given by the user\n",
            "{'recall': 0.0, 'precision': 0.0, 'accuracy': 0.0, 'f1_score': 0.0}\n",
            "['../drive/MyDrive/DS6011_Capstone_VisualNeuroscience/DATA/stackRaw/CLEANED/CLEAN_211106_1_1_stackRaw_mc_tm4_t5_syt_.h5']\n",
            "Waiting for connection file: ~/.ipython/profile_default/security/ipcontroller-client.json\n",
            "...................spatial support for each components given by the user\n",
            "{'recall': 0.2, 'precision': 0.0625, 'accuracy': 0.05, 'f1_score': 0.09523809523809523}\n",
            "[0.14285714285714285, 0.0, 0.06451612903225806, 0.0, 0.0, 0.09523809523809523]\n",
            "Iteration No: 6 ended. Evaluation done at random point.\n",
            "Time taken: 987.8351\n",
            "Function value obtained: -0.0504\n",
            "Current minimum: -0.0916\n",
            "Iteration No: 7 started. Evaluating function at random point.\n",
            "[14, 1, 0.96176, 3, 2, 0.9615384615384616]\n",
            "['../drive/MyDrive/DS6011_Capstone_VisualNeuroscience/DATA/stackRaw/CLEANED/CLEAN_210728_0_1_stackRaw_mc_tm2_tm9_syt_.h5']\n",
            "Waiting for connection file: ~/.ipython/profile_default/security/ipcontroller-client.json\n",
            "...................spatial support for each components given by the user\n",
            "{'recall': 0.3333333333333333, 'precision': 0.2857142857142857, 'accuracy': 0.18181818181818182, 'f1_score': 0.3076923076923077}\n",
            "['../drive/MyDrive/DS6011_Capstone_VisualNeuroscience/DATA/stackRaw/CLEANED/CLEAN_210731_0_1_stackRaw_mc_mix2_syt_.h5']\n",
            "Waiting for connection file: ~/.ipython/profile_default/security/ipcontroller-client.json\n",
            "...................spatial support for each components given by the user\n",
            "{'recall': 0.0, 'precision': 0.0, 'accuracy': 0.0, 'f1_score': 0.0}\n",
            "['../drive/MyDrive/DS6011_Capstone_VisualNeuroscience/DATA/stackRaw/CLEANED/CLEAN_210815_0_1_stackRaw_mc_mix1_syt_.h5']\n",
            "Waiting for connection file: ~/.ipython/profile_default/security/ipcontroller-client.json\n",
            "...................spatial support for each components given by the user\n",
            "{'recall': 0.06666666666666667, 'precision': 0.07142857142857142, 'accuracy': 0.03571428571428571, 'f1_score': 0.06896551724137931}\n",
            "['../drive/MyDrive/DS6011_Capstone_VisualNeuroscience/DATA/stackRaw/CLEANED/CLEAN_211023_0_1_stackRaw_mc_tm2_tm4_syt_.h5']\n",
            "Waiting for connection file: ~/.ipython/profile_default/security/ipcontroller-client.json\n",
            "...................spatial support for each components given by the user\n",
            "{'recall': 0.09090909090909091, 'precision': 0.07142857142857142, 'accuracy': 0.041666666666666664, 'f1_score': 0.08}\n",
            "['../drive/MyDrive/DS6011_Capstone_VisualNeuroscience/DATA/stackRaw/CLEANED/CLEAN_211106_0_1_stackRaw_mc_tm1_t5_syt_.h5']\n",
            "Waiting for connection file: ~/.ipython/profile_default/security/ipcontroller-client.json\n",
            "..............."
          ]
        },
        {
          "name": "stderr",
          "output_type": "stream",
          "text": [
            "/content/CaImAn/caiman/summary_images.py:217: RuntimeWarning: invalid value encountered in true_divide\n",
            "  w_mov = (Y - np.mean(Y, axis=0)) / np.std(Y, axis=0)\n"
          ]
        },
        {
          "name": "stdout",
          "output_type": "stream",
          "text": [
            "....spatial support for each components given by the user\n",
            "{'recall': 0.0, 'precision': 0.0, 'accuracy': 0.0, 'f1_score': 0.0}\n",
            "['../drive/MyDrive/DS6011_Capstone_VisualNeuroscience/DATA/stackRaw/CLEANED/CLEAN_211106_1_1_stackRaw_mc_tm4_t5_syt_.h5']\n",
            "Waiting for connection file: ~/.ipython/profile_default/security/ipcontroller-client.json\n",
            "...................spatial support for each components given by the user\n",
            "{'recall': 0.0, 'precision': 0.0, 'accuracy': 0.0, 'f1_score': 0.0}\n",
            "[0.3076923076923077, 0.0, 0.06896551724137931, 0.08, 0.0, 0.0]\n",
            "Iteration No: 7 ended. Evaluation done at random point.\n",
            "Time taken: 753.7068\n",
            "Function value obtained: -0.0761\n",
            "Current minimum: -0.0916\n",
            "Iteration No: 8 started. Evaluating function at random point.\n",
            "[19, 2, 0.97156, 1, 2, 1.0384615384615383]\n",
            "['../drive/MyDrive/DS6011_Capstone_VisualNeuroscience/DATA/stackRaw/CLEANED/CLEAN_210728_0_1_stackRaw_mc_tm2_tm9_syt_.h5']\n",
            "Waiting for connection file: ~/.ipython/profile_default/security/ipcontroller-client.json\n",
            "...................spatial support for each components given by the user\n",
            "{'recall': 0.16666666666666666, 'precision': 0.10526315789473684, 'accuracy': 0.06896551724137931, 'f1_score': 0.12903225806451613}\n",
            "['../drive/MyDrive/DS6011_Capstone_VisualNeuroscience/DATA/stackRaw/CLEANED/CLEAN_210731_0_1_stackRaw_mc_mix2_syt_.h5']\n",
            "Waiting for connection file: ~/.ipython/profile_default/security/ipcontroller-client.json\n",
            "...................spatial support for each components given by the user\n",
            "{'recall': 0.0, 'precision': 0.0, 'accuracy': 0.0, 'f1_score': 0.0}\n",
            "['../drive/MyDrive/DS6011_Capstone_VisualNeuroscience/DATA/stackRaw/CLEANED/CLEAN_210815_0_1_stackRaw_mc_mix1_syt_.h5']\n",
            "Waiting for connection file: ~/.ipython/profile_default/security/ipcontroller-client.json\n",
            "..............."
          ]
        },
        {
          "name": "stderr",
          "output_type": "stream",
          "text": [
            "WARNING:root:Component 16 is only active jointly with neighboring components. Space correlation calculation might be unreliable.\n"
          ]
        },
        {
          "name": "stdout",
          "output_type": "stream",
          "text": [
            "....spatial support for each components given by the user\n",
            "{'recall': 0.0, 'precision': 0.0, 'accuracy': 0.0, 'f1_score': 0.0}\n",
            "['../drive/MyDrive/DS6011_Capstone_VisualNeuroscience/DATA/stackRaw/CLEANED/CLEAN_211023_0_1_stackRaw_mc_tm2_tm4_syt_.h5']\n",
            "Waiting for connection file: ~/.ipython/profile_default/security/ipcontroller-client.json\n",
            "...................spatial support for each components given by the user\n",
            "{'recall': 0.0, 'precision': 0.0, 'accuracy': 0.0, 'f1_score': 0.0}\n",
            "['../drive/MyDrive/DS6011_Capstone_VisualNeuroscience/DATA/stackRaw/CLEANED/CLEAN_211106_0_1_stackRaw_mc_tm1_t5_syt_.h5']\n",
            "Waiting for connection file: ~/.ipython/profile_default/security/ipcontroller-client.json\n",
            "..............."
          ]
        },
        {
          "name": "stderr",
          "output_type": "stream",
          "text": [
            "/content/CaImAn/caiman/summary_images.py:217: RuntimeWarning: invalid value encountered in true_divide\n",
            "  w_mov = (Y - np.mean(Y, axis=0)) / np.std(Y, axis=0)\n"
          ]
        },
        {
          "name": "stdout",
          "output_type": "stream",
          "text": [
            "....spatial support for each components given by the user\n",
            "{'recall': 0.0, 'precision': 0.0, 'accuracy': 0.0, 'f1_score': 0.0}\n",
            "['../drive/MyDrive/DS6011_Capstone_VisualNeuroscience/DATA/stackRaw/CLEANED/CLEAN_211106_1_1_stackRaw_mc_tm4_t5_syt_.h5']\n",
            "Waiting for connection file: ~/.ipython/profile_default/security/ipcontroller-client.json\n",
            "...................spatial support for each components given by the user\n",
            "{'recall': 0.0, 'precision': 0.0, 'accuracy': 0.0, 'f1_score': 0.0}\n",
            "[0.12903225806451613, 0.0, 0.0, 0.0, 0.0, 0.0]\n",
            "Iteration No: 8 ended. Evaluation done at random point.\n",
            "Time taken: 949.9728\n",
            "Function value obtained: -0.0215\n",
            "Current minimum: -0.0916\n",
            "Iteration No: 9 started. Evaluating function at random point.\n",
            "[11, 3, 0.98136, 1, 2, 1.1153846153846154]\n",
            "['../drive/MyDrive/DS6011_Capstone_VisualNeuroscience/DATA/stackRaw/CLEANED/CLEAN_210728_0_1_stackRaw_mc_tm2_tm9_syt_.h5']\n",
            "Waiting for connection file: ~/.ipython/profile_default/security/ipcontroller-client.json\n",
            "...................spatial support for each components given by the user\n",
            "{'recall': 0.16666666666666666, 'precision': 0.18181818181818182, 'accuracy': 0.09523809523809523, 'f1_score': 0.17391304347826086}\n",
            "['../drive/MyDrive/DS6011_Capstone_VisualNeuroscience/DATA/stackRaw/CLEANED/CLEAN_210731_0_1_stackRaw_mc_mix2_syt_.h5']\n",
            "Waiting for connection file: ~/.ipython/profile_default/security/ipcontroller-client.json\n",
            "...................spatial support for each components given by the user\n",
            "{'recall': 0.0, 'precision': 0.0, 'accuracy': 0.0, 'f1_score': 0.0}\n",
            "['../drive/MyDrive/DS6011_Capstone_VisualNeuroscience/DATA/stackRaw/CLEANED/CLEAN_210815_0_1_stackRaw_mc_mix1_syt_.h5']\n",
            "Waiting for connection file: ~/.ipython/profile_default/security/ipcontroller-client.json\n",
            "...................spatial support for each components given by the user\n",
            "{'recall': 0.06666666666666667, 'precision': 0.09090909090909091, 'accuracy': 0.04, 'f1_score': 0.07692307692307693}\n",
            "['../drive/MyDrive/DS6011_Capstone_VisualNeuroscience/DATA/stackRaw/CLEANED/CLEAN_211023_0_1_stackRaw_mc_tm2_tm4_syt_.h5']\n",
            "Waiting for connection file: ~/.ipython/profile_default/security/ipcontroller-client.json\n",
            "...................spatial support for each components given by the user\n",
            "{'recall': 0.09090909090909091, 'precision': 0.09090909090909091, 'accuracy': 0.047619047619047616, 'f1_score': 0.09090909090909091}\n",
            "['../drive/MyDrive/DS6011_Capstone_VisualNeuroscience/DATA/stackRaw/CLEANED/CLEAN_211106_0_1_stackRaw_mc_tm1_t5_syt_.h5']\n",
            "Waiting for connection file: ~/.ipython/profile_default/security/ipcontroller-client.json\n",
            "..............."
          ]
        },
        {
          "name": "stderr",
          "output_type": "stream",
          "text": [
            "/content/CaImAn/caiman/summary_images.py:217: RuntimeWarning: invalid value encountered in true_divide\n",
            "  w_mov = (Y - np.mean(Y, axis=0)) / np.std(Y, axis=0)\n"
          ]
        },
        {
          "name": "stdout",
          "output_type": "stream",
          "text": [
            "....spatial support for each components given by the user\n",
            "{'recall': 0.0, 'precision': 0.0, 'accuracy': 0.0, 'f1_score': 0.0}\n",
            "['../drive/MyDrive/DS6011_Capstone_VisualNeuroscience/DATA/stackRaw/CLEANED/CLEAN_211106_1_1_stackRaw_mc_tm4_t5_syt_.h5']\n",
            "Waiting for connection file: ~/.ipython/profile_default/security/ipcontroller-client.json\n",
            "...................spatial support for each components given by the user\n",
            "{'recall': 0.0, 'precision': 0.0, 'accuracy': 0.0, 'f1_score': 0.0}\n",
            "[0.17391304347826086, 0.0, 0.07692307692307693, 0.09090909090909091, 0.0, 0.0]\n",
            "Iteration No: 9 ended. Evaluation done at random point.\n",
            "Time taken: 887.0070\n",
            "Function value obtained: -0.0570\n",
            "Current minimum: -0.0916\n",
            "Iteration No: 10 started. Evaluating function at random point.\n",
            "[16, 1, 0.99116, 2, 3, 1.1923076923076923]\n",
            "['../drive/MyDrive/DS6011_Capstone_VisualNeuroscience/DATA/stackRaw/CLEANED/CLEAN_210728_0_1_stackRaw_mc_tm2_tm9_syt_.h5']\n",
            "Waiting for connection file: ~/.ipython/profile_default/security/ipcontroller-client.json\n",
            "...................spatial support for each components given by the user\n",
            "{'recall': 0.3333333333333333, 'precision': 0.25, 'accuracy': 0.16666666666666666, 'f1_score': 0.2857142857142857}\n",
            "['../drive/MyDrive/DS6011_Capstone_VisualNeuroscience/DATA/stackRaw/CLEANED/CLEAN_210731_0_1_stackRaw_mc_mix2_syt_.h5']\n",
            "Waiting for connection file: ~/.ipython/profile_default/security/ipcontroller-client.json\n",
            "...................spatial support for each components given by the user\n",
            "{'recall': 0.0, 'precision': 0.0, 'accuracy': 0.0, 'f1_score': 0.0}\n",
            "['../drive/MyDrive/DS6011_Capstone_VisualNeuroscience/DATA/stackRaw/CLEANED/CLEAN_210815_0_1_stackRaw_mc_mix1_syt_.h5']\n",
            "Waiting for connection file: ~/.ipython/profile_default/security/ipcontroller-client.json\n",
            "...................spatial support for each components given by the user\n",
            "{'recall': 0.06666666666666667, 'precision': 0.0625, 'accuracy': 0.03333333333333333, 'f1_score': 0.06451612903225806}\n",
            "['../drive/MyDrive/DS6011_Capstone_VisualNeuroscience/DATA/stackRaw/CLEANED/CLEAN_211023_0_1_stackRaw_mc_tm2_tm4_syt_.h5']\n",
            "Waiting for connection file: ~/.ipython/profile_default/security/ipcontroller-client.json\n",
            "...................spatial support for each components given by the user\n",
            "{'recall': 0.09090909090909091, 'precision': 0.0625, 'accuracy': 0.038461538461538464, 'f1_score': 0.07407407407407407}\n",
            "['../drive/MyDrive/DS6011_Capstone_VisualNeuroscience/DATA/stackRaw/CLEANED/CLEAN_211106_0_1_stackRaw_mc_tm1_t5_syt_.h5']\n",
            "Waiting for connection file: ~/.ipython/profile_default/security/ipcontroller-client.json\n",
            "..............."
          ]
        },
        {
          "name": "stderr",
          "output_type": "stream",
          "text": [
            "/content/CaImAn/caiman/summary_images.py:217: RuntimeWarning: invalid value encountered in true_divide\n",
            "  w_mov = (Y - np.mean(Y, axis=0)) / np.std(Y, axis=0)\n"
          ]
        },
        {
          "name": "stdout",
          "output_type": "stream",
          "text": [
            "....spatial support for each components given by the user\n",
            "{'recall': 0.0, 'precision': 0.0, 'accuracy': 0.0, 'f1_score': 0.0}\n",
            "['../drive/MyDrive/DS6011_Capstone_VisualNeuroscience/DATA/stackRaw/CLEANED/CLEAN_211106_1_1_stackRaw_mc_tm4_t5_syt_.h5']\n",
            "Waiting for connection file: ~/.ipython/profile_default/security/ipcontroller-client.json\n",
            "...................spatial support for each components given by the user\n",
            "{'recall': 0.4, 'precision': 0.125, 'accuracy': 0.10526315789473684, 'f1_score': 0.19047619047619047}\n",
            "[0.2857142857142857, 0.0, 0.06451612903225806, 0.07407407407407407, 0.0, 0.19047619047619047]\n",
            "Iteration No: 10 ended. Evaluation done at random point.\n",
            "Time taken: 801.6670\n",
            "Function value obtained: -0.1025\n",
            "Current minimum: -0.1025\n",
            "Iteration No: 11 started. Searching for the next optimal point.\n",
            "[20, 1, 0.9810147170454301, 3, 1, 1.3344287168493179]\n",
            "['../drive/MyDrive/DS6011_Capstone_VisualNeuroscience/DATA/stackRaw/CLEANED/CLEAN_210728_0_1_stackRaw_mc_tm2_tm9_syt_.h5']\n",
            "Waiting for connection file: ~/.ipython/profile_default/security/ipcontroller-client.json\n",
            "...................spatial support for each components given by the user\n",
            "{'recall': 0.3333333333333333, 'precision': 0.2, 'accuracy': 0.14285714285714285, 'f1_score': 0.25}\n",
            "['../drive/MyDrive/DS6011_Capstone_VisualNeuroscience/DATA/stackRaw/CLEANED/CLEAN_210731_0_1_stackRaw_mc_mix2_syt_.h5']\n",
            "Waiting for connection file: ~/.ipython/profile_default/security/ipcontroller-client.json\n",
            "...................spatial support for each components given by the user\n",
            "{'recall': 0.0, 'precision': 0.0, 'accuracy': 0.0, 'f1_score': 0.0}\n",
            "['../drive/MyDrive/DS6011_Capstone_VisualNeuroscience/DATA/stackRaw/CLEANED/CLEAN_210815_0_1_stackRaw_mc_mix1_syt_.h5']\n",
            "Waiting for connection file: ~/.ipython/profile_default/security/ipcontroller-client.json\n",
            "...................spatial support for each components given by the user\n",
            "{'recall': 0.06666666666666667, 'precision': 0.05, 'accuracy': 0.029411764705882353, 'f1_score': 0.05714285714285714}\n",
            "['../drive/MyDrive/DS6011_Capstone_VisualNeuroscience/DATA/stackRaw/CLEANED/CLEAN_211023_0_1_stackRaw_mc_tm2_tm4_syt_.h5']\n",
            "Waiting for connection file: ~/.ipython/profile_default/security/ipcontroller-client.json\n",
            "...................spatial support for each components given by the user\n",
            "{'recall': 0.09090909090909091, 'precision': 0.05, 'accuracy': 0.03333333333333333, 'f1_score': 0.06451612903225806}\n",
            "['../drive/MyDrive/DS6011_Capstone_VisualNeuroscience/DATA/stackRaw/CLEANED/CLEAN_211106_0_1_stackRaw_mc_tm1_t5_syt_.h5']\n",
            "Waiting for connection file: ~/.ipython/profile_default/security/ipcontroller-client.json\n",
            "................................"
          ]
        },
        {
          "name": "stderr",
          "output_type": "stream",
          "text": [
            "/content/CaImAn/caiman/summary_images.py:217: RuntimeWarning: invalid value encountered in true_divide\n",
            "  w_mov = (Y - np.mean(Y, axis=0)) / np.std(Y, axis=0)\n",
            "WARNING:root:Component 12 is only active jointly with neighboring components. Space correlation calculation might be unreliable.\n"
          ]
        },
        {
          "name": "stdout",
          "output_type": "stream",
          "text": [
            "....spatial support for each components given by the user\n",
            "{'recall': 0.0, 'precision': 0.0, 'accuracy': 0.0, 'f1_score': 0.0}\n",
            "['../drive/MyDrive/DS6011_Capstone_VisualNeuroscience/DATA/stackRaw/CLEANED/CLEAN_211106_1_1_stackRaw_mc_tm4_t5_syt_.h5']\n",
            "Waiting for connection file: ~/.ipython/profile_default/security/ipcontroller-client.json\n",
            "...................spatial support for each components given by the user\n",
            "{'recall': 0.0, 'precision': 0.0, 'accuracy': 0.0, 'f1_score': 0.0}\n",
            "[0.25, 0.0, 0.05714285714285714, 0.06451612903225806, 0.0, 0.0]\n",
            "Iteration No: 11 ended. Search finished for the next optimal point.\n",
            "Time taken: 810.0923\n",
            "Function value obtained: -0.0619\n",
            "Current minimum: -0.1025\n",
            "Iteration No: 12 started. Searching for the next optimal point.\n",
            "[17, 1, 0.9796795513934378, 3, 3, 0.9310778819123806]\n",
            "['../drive/MyDrive/DS6011_Capstone_VisualNeuroscience/DATA/stackRaw/CLEANED/CLEAN_210728_0_1_stackRaw_mc_tm2_tm9_syt_.h5']\n",
            "Waiting for connection file: ~/.ipython/profile_default/security/ipcontroller-client.json\n",
            "...................spatial support for each components given by the user\n",
            "{'recall': 0.25, 'precision': 0.17647058823529413, 'accuracy': 0.11538461538461539, 'f1_score': 0.20689655172413793}\n",
            "['../drive/MyDrive/DS6011_Capstone_VisualNeuroscience/DATA/stackRaw/CLEANED/CLEAN_210731_0_1_stackRaw_mc_mix2_syt_.h5']\n",
            "Waiting for connection file: ~/.ipython/profile_default/security/ipcontroller-client.json\n",
            "...................spatial support for each components given by the user\n",
            "{'recall': 0.0, 'precision': 0.0, 'accuracy': 0.0, 'f1_score': 0.0}\n",
            "['../drive/MyDrive/DS6011_Capstone_VisualNeuroscience/DATA/stackRaw/CLEANED/CLEAN_210815_0_1_stackRaw_mc_mix1_syt_.h5']\n",
            "Waiting for connection file: ~/.ipython/profile_default/security/ipcontroller-client.json\n",
            "...................spatial support for each components given by the user\n",
            "{'recall': 0.06666666666666667, 'precision': 0.058823529411764705, 'accuracy': 0.03225806451612903, 'f1_score': 0.0625}\n",
            "['../drive/MyDrive/DS6011_Capstone_VisualNeuroscience/DATA/stackRaw/CLEANED/CLEAN_211023_0_1_stackRaw_mc_tm2_tm4_syt_.h5']\n",
            "Waiting for connection file: ~/.ipython/profile_default/security/ipcontroller-client.json\n",
            "...................spatial support for each components given by the user\n",
            "{'recall': 0.09090909090909091, 'precision': 0.058823529411764705, 'accuracy': 0.037037037037037035, 'f1_score': 0.07142857142857142}\n",
            "['../drive/MyDrive/DS6011_Capstone_VisualNeuroscience/DATA/stackRaw/CLEANED/CLEAN_211106_0_1_stackRaw_mc_tm1_t5_syt_.h5']\n",
            "Waiting for connection file: ~/.ipython/profile_default/security/ipcontroller-client.json\n",
            "..............."
          ]
        },
        {
          "name": "stderr",
          "output_type": "stream",
          "text": [
            "/content/CaImAn/caiman/summary_images.py:217: RuntimeWarning: invalid value encountered in true_divide\n",
            "  w_mov = (Y - np.mean(Y, axis=0)) / np.std(Y, axis=0)\n"
          ]
        },
        {
          "name": "stdout",
          "output_type": "stream",
          "text": [
            "....spatial support for each components given by the user\n",
            "{'recall': 0.0, 'precision': 0.0, 'accuracy': 0.0, 'f1_score': 0.0}\n",
            "['../drive/MyDrive/DS6011_Capstone_VisualNeuroscience/DATA/stackRaw/CLEANED/CLEAN_211106_1_1_stackRaw_mc_tm4_t5_syt_.h5']\n",
            "Waiting for connection file: ~/.ipython/profile_default/security/ipcontroller-client.json\n",
            "...................spatial support for each components given by the user\n",
            "{'recall': 0.0, 'precision': 0.0, 'accuracy': 0.0, 'f1_score': 0.0}\n",
            "[0.20689655172413793, 0.0, 0.0625, 0.07142857142857142, 0.0, 0.0]\n",
            "Iteration No: 12 ended. Search finished for the next optimal point.\n",
            "Time taken: 830.2433\n",
            "Function value obtained: -0.0568\n",
            "Current minimum: -0.1025\n",
            "Iteration No: 13 started. Searching for the next optimal point.\n",
            "[18, 1, 0.999, 2, 1, 0.5]\n",
            "['../drive/MyDrive/DS6011_Capstone_VisualNeuroscience/DATA/stackRaw/CLEANED/CLEAN_210728_0_1_stackRaw_mc_tm2_tm9_syt_.h5']\n",
            "Waiting for connection file: ~/.ipython/profile_default/security/ipcontroller-client.json\n",
            "...................spatial support for each components given by the user\n",
            "{'recall': 0.3333333333333333, 'precision': 0.2222222222222222, 'accuracy': 0.15384615384615385, 'f1_score': 0.26666666666666666}\n",
            "['../drive/MyDrive/DS6011_Capstone_VisualNeuroscience/DATA/stackRaw/CLEANED/CLEAN_210731_0_1_stackRaw_mc_mix2_syt_.h5']\n",
            "Waiting for connection file: ~/.ipython/profile_default/security/ipcontroller-client.json\n",
            "..."
          ]
        },
        {
          "name": "stderr",
          "output_type": "stream",
          "text": [
            "ERROR:tornado.general:Uncaught exception in ZMQStream callback\n",
            "Traceback (most recent call last):\n",
            "  File \"/usr/local/lib/python3.7/dist-packages/zmq/eventloop/zmqstream.py\", line 431, in _run_callback\n",
            "    callback(*args, **kwargs)\n",
            "  File \"/usr/local/lib/python3.7/dist-packages/tornado/stack_context.py\", line 300, in null_wrapper\n",
            "    return fn(*args, **kwargs)\n",
            "  File \"<decorator-gen-149>\", line 2, in _dispatch_notification\n",
            "  File \"/usr/local/lib/python3.7/dist-packages/ipyparallel/client/client.py\", line 73, in unpack_message\n",
            "    idents, msg = self.session.feed_identities(msg_parts, copy=False)\n",
            "  File \"/usr/local/lib/python3.7/dist-packages/jupyter_client/session.py\", line 853, in feed_identities\n",
            "    raise ValueError(\"DELIM not in msg_list\")\n",
            "ValueError: DELIM not in msg_list\n",
            "ERROR:tornado.general:Uncaught exception in zmqstream callback\n",
            "Traceback (most recent call last):\n",
            "  File \"/usr/local/lib/python3.7/dist-packages/zmq/eventloop/zmqstream.py\", line 452, in _handle_events\n",
            "    self._handle_recv()\n",
            "  File \"/usr/local/lib/python3.7/dist-packages/zmq/eventloop/zmqstream.py\", line 481, in _handle_recv\n",
            "    self._run_callback(callback, msg)\n",
            "  File \"/usr/local/lib/python3.7/dist-packages/zmq/eventloop/zmqstream.py\", line 431, in _run_callback\n",
            "    callback(*args, **kwargs)\n",
            "  File \"/usr/local/lib/python3.7/dist-packages/tornado/stack_context.py\", line 300, in null_wrapper\n",
            "    return fn(*args, **kwargs)\n",
            "  File \"<decorator-gen-149>\", line 2, in _dispatch_notification\n",
            "  File \"/usr/local/lib/python3.7/dist-packages/ipyparallel/client/client.py\", line 73, in unpack_message\n",
            "    idents, msg = self.session.feed_identities(msg_parts, copy=False)\n",
            "  File \"/usr/local/lib/python3.7/dist-packages/jupyter_client/session.py\", line 853, in feed_identities\n",
            "    raise ValueError(\"DELIM not in msg_list\")\n",
            "ValueError: DELIM not in msg_list\n",
            "ERROR:asyncio:Exception in callback BaseAsyncIOLoop._handle_events(2220, 1)\n",
            "handle: <Handle BaseAsyncIOLoop._handle_events(2220, 1)>\n",
            "Traceback (most recent call last):\n",
            "  File \"/usr/lib/python3.7/asyncio/events.py\", line 88, in _run\n",
            "    self._context.run(self._callback, *self._args)\n",
            "  File \"/usr/local/lib/python3.7/dist-packages/tornado/platform/asyncio.py\", line 122, in _handle_events\n",
            "    handler_func(fileobj, events)\n",
            "  File \"/usr/local/lib/python3.7/dist-packages/tornado/stack_context.py\", line 300, in null_wrapper\n",
            "    return fn(*args, **kwargs)\n",
            "  File \"/usr/local/lib/python3.7/dist-packages/zmq/eventloop/zmqstream.py\", line 452, in _handle_events\n",
            "    self._handle_recv()\n",
            "  File \"/usr/local/lib/python3.7/dist-packages/zmq/eventloop/zmqstream.py\", line 481, in _handle_recv\n",
            "    self._run_callback(callback, msg)\n",
            "  File \"/usr/local/lib/python3.7/dist-packages/zmq/eventloop/zmqstream.py\", line 431, in _run_callback\n",
            "    callback(*args, **kwargs)\n",
            "  File \"/usr/local/lib/python3.7/dist-packages/tornado/stack_context.py\", line 300, in null_wrapper\n",
            "    return fn(*args, **kwargs)\n",
            "  File \"<decorator-gen-149>\", line 2, in _dispatch_notification\n",
            "  File \"/usr/local/lib/python3.7/dist-packages/ipyparallel/client/client.py\", line 73, in unpack_message\n",
            "    idents, msg = self.session.feed_identities(msg_parts, copy=False)\n",
            "  File \"/usr/local/lib/python3.7/dist-packages/jupyter_client/session.py\", line 853, in feed_identities\n",
            "    raise ValueError(\"DELIM not in msg_list\")\n",
            "ValueError: DELIM not in msg_list\n"
          ]
        },
        {
          "name": "stdout",
          "output_type": "stream",
          "text": [
            "............."
          ]
        },
        {
          "name": "stderr",
          "output_type": "stream",
          "text": [
            "ERROR:tornado.general:Uncaught exception in ZMQStream callback\n",
            "Traceback (most recent call last):\n",
            "  File \"/usr/local/lib/python3.7/dist-packages/zmq/eventloop/zmqstream.py\", line 431, in _run_callback\n",
            "    callback(*args, **kwargs)\n",
            "  File \"/usr/local/lib/python3.7/dist-packages/tornado/stack_context.py\", line 300, in null_wrapper\n",
            "    return fn(*args, **kwargs)\n",
            "  File \"<decorator-gen-149>\", line 2, in _dispatch_notification\n",
            "  File \"/usr/local/lib/python3.7/dist-packages/ipyparallel/client/client.py\", line 73, in unpack_message\n",
            "    idents, msg = self.session.feed_identities(msg_parts, copy=False)\n",
            "  File \"/usr/local/lib/python3.7/dist-packages/jupyter_client/session.py\", line 853, in feed_identities\n",
            "    raise ValueError(\"DELIM not in msg_list\")\n",
            "ValueError: DELIM not in msg_list\n",
            "ERROR:tornado.general:Uncaught exception in zmqstream callback\n",
            "Traceback (most recent call last):\n",
            "  File \"/usr/local/lib/python3.7/dist-packages/zmq/eventloop/zmqstream.py\", line 452, in _handle_events\n",
            "    self._handle_recv()\n",
            "  File \"/usr/local/lib/python3.7/dist-packages/zmq/eventloop/zmqstream.py\", line 481, in _handle_recv\n",
            "    self._run_callback(callback, msg)\n",
            "  File \"/usr/local/lib/python3.7/dist-packages/zmq/eventloop/zmqstream.py\", line 431, in _run_callback\n",
            "    callback(*args, **kwargs)\n",
            "  File \"/usr/local/lib/python3.7/dist-packages/tornado/stack_context.py\", line 300, in null_wrapper\n",
            "    return fn(*args, **kwargs)\n",
            "  File \"<decorator-gen-149>\", line 2, in _dispatch_notification\n",
            "  File \"/usr/local/lib/python3.7/dist-packages/ipyparallel/client/client.py\", line 73, in unpack_message\n",
            "    idents, msg = self.session.feed_identities(msg_parts, copy=False)\n",
            "  File \"/usr/local/lib/python3.7/dist-packages/jupyter_client/session.py\", line 853, in feed_identities\n",
            "    raise ValueError(\"DELIM not in msg_list\")\n",
            "ValueError: DELIM not in msg_list\n",
            "ERROR:asyncio:Exception in callback BaseAsyncIOLoop._handle_events(2220, 1)\n",
            "handle: <Handle BaseAsyncIOLoop._handle_events(2220, 1)>\n",
            "Traceback (most recent call last):\n",
            "  File \"/usr/lib/python3.7/asyncio/events.py\", line 88, in _run\n",
            "    self._context.run(self._callback, *self._args)\n",
            "  File \"/usr/local/lib/python3.7/dist-packages/tornado/platform/asyncio.py\", line 122, in _handle_events\n",
            "    handler_func(fileobj, events)\n",
            "  File \"/usr/local/lib/python3.7/dist-packages/tornado/stack_context.py\", line 300, in null_wrapper\n",
            "    return fn(*args, **kwargs)\n",
            "  File \"/usr/local/lib/python3.7/dist-packages/zmq/eventloop/zmqstream.py\", line 452, in _handle_events\n",
            "    self._handle_recv()\n",
            "  File \"/usr/local/lib/python3.7/dist-packages/zmq/eventloop/zmqstream.py\", line 481, in _handle_recv\n",
            "    self._run_callback(callback, msg)\n",
            "  File \"/usr/local/lib/python3.7/dist-packages/zmq/eventloop/zmqstream.py\", line 431, in _run_callback\n",
            "    callback(*args, **kwargs)\n",
            "  File \"/usr/local/lib/python3.7/dist-packages/tornado/stack_context.py\", line 300, in null_wrapper\n",
            "    return fn(*args, **kwargs)\n",
            "  File \"<decorator-gen-149>\", line 2, in _dispatch_notification\n",
            "  File \"/usr/local/lib/python3.7/dist-packages/ipyparallel/client/client.py\", line 73, in unpack_message\n",
            "    idents, msg = self.session.feed_identities(msg_parts, copy=False)\n",
            "  File \"/usr/local/lib/python3.7/dist-packages/jupyter_client/session.py\", line 853, in feed_identities\n",
            "    raise ValueError(\"DELIM not in msg_list\")\n",
            "ValueError: DELIM not in msg_list\n"
          ]
        },
        {
          "name": "stdout",
          "output_type": "stream",
          "text": [
            "...spatial support for each components given by the user\n",
            "{'recall': 0.0, 'precision': 0.0, 'accuracy': 0.0, 'f1_score': 0.0}\n",
            "['../drive/MyDrive/DS6011_Capstone_VisualNeuroscience/DATA/stackRaw/CLEANED/CLEAN_210815_0_1_stackRaw_mc_mix1_syt_.h5']\n",
            "Waiting for connection file: ~/.ipython/profile_default/security/ipcontroller-client.json\n",
            "...................spatial support for each components given by the user\n",
            "{'recall': 0.06666666666666667, 'precision': 0.05555555555555555, 'accuracy': 0.03125, 'f1_score': 0.06060606060606061}\n",
            "['../drive/MyDrive/DS6011_Capstone_VisualNeuroscience/DATA/stackRaw/CLEANED/CLEAN_211023_0_1_stackRaw_mc_tm2_tm4_syt_.h5']\n",
            "Waiting for connection file: ~/.ipython/profile_default/security/ipcontroller-client.json\n",
            "...................spatial support for each components given by the user\n",
            "{'recall': 0.18181818181818182, 'precision': 0.1111111111111111, 'accuracy': 0.07407407407407407, 'f1_score': 0.13793103448275862}\n",
            "['../drive/MyDrive/DS6011_Capstone_VisualNeuroscience/DATA/stackRaw/CLEANED/CLEAN_211106_0_1_stackRaw_mc_tm1_t5_syt_.h5']\n",
            "Waiting for connection file: ~/.ipython/profile_default/security/ipcontroller-client.json\n",
            "..............."
          ]
        },
        {
          "name": "stderr",
          "output_type": "stream",
          "text": [
            "/content/CaImAn/caiman/summary_images.py:217: RuntimeWarning: invalid value encountered in true_divide\n",
            "  w_mov = (Y - np.mean(Y, axis=0)) / np.std(Y, axis=0)\n"
          ]
        },
        {
          "name": "stdout",
          "output_type": "stream",
          "text": [
            "....spatial support for each components given by the user\n",
            "{'recall': 0.0, 'precision': 0.0, 'accuracy': 0.0, 'f1_score': 0.0}\n",
            "['../drive/MyDrive/DS6011_Capstone_VisualNeuroscience/DATA/stackRaw/CLEANED/CLEAN_211106_1_1_stackRaw_mc_tm4_t5_syt_.h5']\n",
            "Waiting for connection file: ~/.ipython/profile_default/security/ipcontroller-client.json\n",
            "..............."
          ]
        },
        {
          "name": "stderr",
          "output_type": "stream",
          "text": [
            "ERROR:tornado.general:Uncaught exception in ZMQStream callback\n",
            "Traceback (most recent call last):\n",
            "  File \"/usr/local/lib/python3.7/dist-packages/ipyparallel/client/client.py\", line 75, in unpack_message\n",
            "    msg = self.session.deserialize(msg, content=True, copy=False)\n",
            "  File \"/usr/local/lib/python3.7/dist-packages/jupyter_client/session.py\", line 923, in deserialize\n",
            "    raise ValueError(\"Invalid Signature: %r\" % signature)\n",
            "ValueError: Invalid Signature: b'988730ad7db911c906a0af88cf6711574e9ee98362488807f64e51affa55174f'\n",
            "\n",
            "During handling of the above exception, another exception occurred:\n",
            "\n",
            "Traceback (most recent call last):\n",
            "  File \"/usr/local/lib/python3.7/dist-packages/zmq/eventloop/zmqstream.py\", line 431, in _run_callback\n",
            "    callback(*args, **kwargs)\n",
            "  File \"/usr/local/lib/python3.7/dist-packages/tornado/stack_context.py\", line 300, in null_wrapper\n",
            "    return fn(*args, **kwargs)\n",
            "  File \"<decorator-gen-149>\", line 2, in _dispatch_notification\n",
            "  File \"/usr/local/lib/python3.7/dist-packages/ipyparallel/client/client.py\", line 77, in unpack_message\n",
            "    self.log.error(\"Invalid Message\", exc_info=True)\n",
            "AttributeError: 'Client' object has no attribute 'log'\n",
            "ERROR:tornado.general:Uncaught exception in zmqstream callback\n",
            "Traceback (most recent call last):\n",
            "  File \"/usr/local/lib/python3.7/dist-packages/ipyparallel/client/client.py\", line 75, in unpack_message\n",
            "    msg = self.session.deserialize(msg, content=True, copy=False)\n",
            "  File \"/usr/local/lib/python3.7/dist-packages/jupyter_client/session.py\", line 923, in deserialize\n",
            "    raise ValueError(\"Invalid Signature: %r\" % signature)\n",
            "ValueError: Invalid Signature: b'988730ad7db911c906a0af88cf6711574e9ee98362488807f64e51affa55174f'\n",
            "\n",
            "During handling of the above exception, another exception occurred:\n",
            "\n",
            "Traceback (most recent call last):\n",
            "  File \"/usr/local/lib/python3.7/dist-packages/zmq/eventloop/zmqstream.py\", line 452, in _handle_events\n",
            "    self._handle_recv()\n",
            "  File \"/usr/local/lib/python3.7/dist-packages/zmq/eventloop/zmqstream.py\", line 481, in _handle_recv\n",
            "    self._run_callback(callback, msg)\n",
            "  File \"/usr/local/lib/python3.7/dist-packages/zmq/eventloop/zmqstream.py\", line 431, in _run_callback\n",
            "    callback(*args, **kwargs)\n",
            "  File \"/usr/local/lib/python3.7/dist-packages/tornado/stack_context.py\", line 300, in null_wrapper\n",
            "    return fn(*args, **kwargs)\n",
            "  File \"<decorator-gen-149>\", line 2, in _dispatch_notification\n",
            "  File \"/usr/local/lib/python3.7/dist-packages/ipyparallel/client/client.py\", line 77, in unpack_message\n",
            "    self.log.error(\"Invalid Message\", exc_info=True)\n",
            "AttributeError: 'Client' object has no attribute 'log'\n",
            "ERROR:asyncio:Exception in callback BaseAsyncIOLoop._handle_events(437, 1)\n",
            "handle: <Handle BaseAsyncIOLoop._handle_events(437, 1)>\n",
            "Traceback (most recent call last):\n",
            "  File \"/usr/local/lib/python3.7/dist-packages/ipyparallel/client/client.py\", line 75, in unpack_message\n",
            "    msg = self.session.deserialize(msg, content=True, copy=False)\n",
            "  File \"/usr/local/lib/python3.7/dist-packages/jupyter_client/session.py\", line 923, in deserialize\n",
            "    raise ValueError(\"Invalid Signature: %r\" % signature)\n",
            "ValueError: Invalid Signature: b'988730ad7db911c906a0af88cf6711574e9ee98362488807f64e51affa55174f'\n",
            "\n",
            "During handling of the above exception, another exception occurred:\n",
            "\n",
            "Traceback (most recent call last):\n",
            "  File \"/usr/lib/python3.7/asyncio/events.py\", line 88, in _run\n",
            "    self._context.run(self._callback, *self._args)\n",
            "  File \"/usr/local/lib/python3.7/dist-packages/tornado/platform/asyncio.py\", line 122, in _handle_events\n",
            "    handler_func(fileobj, events)\n",
            "  File \"/usr/local/lib/python3.7/dist-packages/tornado/stack_context.py\", line 300, in null_wrapper\n",
            "    return fn(*args, **kwargs)\n",
            "  File \"/usr/local/lib/python3.7/dist-packages/zmq/eventloop/zmqstream.py\", line 452, in _handle_events\n",
            "    self._handle_recv()\n",
            "  File \"/usr/local/lib/python3.7/dist-packages/zmq/eventloop/zmqstream.py\", line 481, in _handle_recv\n",
            "    self._run_callback(callback, msg)\n",
            "  File \"/usr/local/lib/python3.7/dist-packages/zmq/eventloop/zmqstream.py\", line 431, in _run_callback\n",
            "    callback(*args, **kwargs)\n",
            "  File \"/usr/local/lib/python3.7/dist-packages/tornado/stack_context.py\", line 300, in null_wrapper\n",
            "    return fn(*args, **kwargs)\n",
            "  File \"<decorator-gen-149>\", line 2, in _dispatch_notification\n",
            "  File \"/usr/local/lib/python3.7/dist-packages/ipyparallel/client/client.py\", line 77, in unpack_message\n",
            "    self.log.error(\"Invalid Message\", exc_info=True)\n",
            "AttributeError: 'Client' object has no attribute 'log'\n"
          ]
        },
        {
          "name": "stdout",
          "output_type": "stream",
          "text": [
            "."
          ]
        },
        {
          "name": "stderr",
          "output_type": "stream",
          "text": [
            "ERROR:tornado.general:Uncaught exception in ZMQStream callback\n",
            "Traceback (most recent call last):\n",
            "  File \"/usr/local/lib/python3.7/dist-packages/ipyparallel/client/client.py\", line 75, in unpack_message\n",
            "    msg = self.session.deserialize(msg, content=True, copy=False)\n",
            "  File \"/usr/local/lib/python3.7/dist-packages/jupyter_client/session.py\", line 923, in deserialize\n",
            "    raise ValueError(\"Invalid Signature: %r\" % signature)\n",
            "ValueError: Invalid Signature: b'd9f6b5a297322e4f60427afd4ad8de4daf824ba52d92b051ee117d9d2fcc90ab'\n",
            "\n",
            "During handling of the above exception, another exception occurred:\n",
            "\n",
            "Traceback (most recent call last):\n",
            "  File \"/usr/local/lib/python3.7/dist-packages/zmq/eventloop/zmqstream.py\", line 431, in _run_callback\n",
            "    callback(*args, **kwargs)\n",
            "  File \"/usr/local/lib/python3.7/dist-packages/tornado/stack_context.py\", line 300, in null_wrapper\n",
            "    return fn(*args, **kwargs)\n",
            "  File \"<decorator-gen-149>\", line 2, in _dispatch_notification\n",
            "  File \"/usr/local/lib/python3.7/dist-packages/ipyparallel/client/client.py\", line 77, in unpack_message\n",
            "    self.log.error(\"Invalid Message\", exc_info=True)\n",
            "AttributeError: 'Client' object has no attribute 'log'\n",
            "ERROR:tornado.general:Uncaught exception in zmqstream callback\n",
            "Traceback (most recent call last):\n",
            "  File \"/usr/local/lib/python3.7/dist-packages/ipyparallel/client/client.py\", line 75, in unpack_message\n",
            "    msg = self.session.deserialize(msg, content=True, copy=False)\n",
            "  File \"/usr/local/lib/python3.7/dist-packages/jupyter_client/session.py\", line 923, in deserialize\n",
            "    raise ValueError(\"Invalid Signature: %r\" % signature)\n",
            "ValueError: Invalid Signature: b'd9f6b5a297322e4f60427afd4ad8de4daf824ba52d92b051ee117d9d2fcc90ab'\n",
            "\n",
            "During handling of the above exception, another exception occurred:\n",
            "\n",
            "Traceback (most recent call last):\n",
            "  File \"/usr/local/lib/python3.7/dist-packages/zmq/eventloop/zmqstream.py\", line 452, in _handle_events\n",
            "    self._handle_recv()\n",
            "  File \"/usr/local/lib/python3.7/dist-packages/zmq/eventloop/zmqstream.py\", line 481, in _handle_recv\n",
            "    self._run_callback(callback, msg)\n",
            "  File \"/usr/local/lib/python3.7/dist-packages/zmq/eventloop/zmqstream.py\", line 431, in _run_callback\n",
            "    callback(*args, **kwargs)\n",
            "  File \"/usr/local/lib/python3.7/dist-packages/tornado/stack_context.py\", line 300, in null_wrapper\n",
            "    return fn(*args, **kwargs)\n",
            "  File \"<decorator-gen-149>\", line 2, in _dispatch_notification\n",
            "  File \"/usr/local/lib/python3.7/dist-packages/ipyparallel/client/client.py\", line 77, in unpack_message\n",
            "    self.log.error(\"Invalid Message\", exc_info=True)\n",
            "AttributeError: 'Client' object has no attribute 'log'\n",
            "ERROR:asyncio:Exception in callback BaseAsyncIOLoop._handle_events(437, 1)\n",
            "handle: <Handle BaseAsyncIOLoop._handle_events(437, 1)>\n",
            "Traceback (most recent call last):\n",
            "  File \"/usr/local/lib/python3.7/dist-packages/ipyparallel/client/client.py\", line 75, in unpack_message\n",
            "    msg = self.session.deserialize(msg, content=True, copy=False)\n",
            "  File \"/usr/local/lib/python3.7/dist-packages/jupyter_client/session.py\", line 923, in deserialize\n",
            "    raise ValueError(\"Invalid Signature: %r\" % signature)\n",
            "ValueError: Invalid Signature: b'd9f6b5a297322e4f60427afd4ad8de4daf824ba52d92b051ee117d9d2fcc90ab'\n",
            "\n",
            "During handling of the above exception, another exception occurred:\n",
            "\n",
            "Traceback (most recent call last):\n",
            "  File \"/usr/lib/python3.7/asyncio/events.py\", line 88, in _run\n",
            "    self._context.run(self._callback, *self._args)\n",
            "  File \"/usr/local/lib/python3.7/dist-packages/tornado/platform/asyncio.py\", line 122, in _handle_events\n",
            "    handler_func(fileobj, events)\n",
            "  File \"/usr/local/lib/python3.7/dist-packages/tornado/stack_context.py\", line 300, in null_wrapper\n",
            "    return fn(*args, **kwargs)\n",
            "  File \"/usr/local/lib/python3.7/dist-packages/zmq/eventloop/zmqstream.py\", line 452, in _handle_events\n",
            "    self._handle_recv()\n",
            "  File \"/usr/local/lib/python3.7/dist-packages/zmq/eventloop/zmqstream.py\", line 481, in _handle_recv\n",
            "    self._run_callback(callback, msg)\n",
            "  File \"/usr/local/lib/python3.7/dist-packages/zmq/eventloop/zmqstream.py\", line 431, in _run_callback\n",
            "    callback(*args, **kwargs)\n",
            "  File \"/usr/local/lib/python3.7/dist-packages/tornado/stack_context.py\", line 300, in null_wrapper\n",
            "    return fn(*args, **kwargs)\n",
            "  File \"<decorator-gen-149>\", line 2, in _dispatch_notification\n",
            "  File \"/usr/local/lib/python3.7/dist-packages/ipyparallel/client/client.py\", line 77, in unpack_message\n",
            "    self.log.error(\"Invalid Message\", exc_info=True)\n",
            "AttributeError: 'Client' object has no attribute 'log'\n"
          ]
        },
        {
          "name": "stdout",
          "output_type": "stream",
          "text": [
            "...spatial support for each components given by the user\n",
            "{'recall': 0.0, 'precision': 0.0, 'accuracy': 0.0, 'f1_score': 0.0}\n",
            "[0.26666666666666666, 0.0, 0.06060606060606061, 0.13793103448275862, 0.0, 0.0]\n",
            "Iteration No: 13 ended. Search finished for the next optimal point.\n",
            "Time taken: 835.6288\n",
            "Function value obtained: -0.0775\n",
            "Current minimum: -0.1025\n",
            "Iteration No: 14 started. Searching for the next optimal point.\n",
            "[18, 1, 0.9870995312470516, 2, 1, 1.0694543071703093]\n",
            "['../drive/MyDrive/DS6011_Capstone_VisualNeuroscience/DATA/stackRaw/CLEANED/CLEAN_210728_0_1_stackRaw_mc_tm2_tm9_syt_.h5']\n",
            "Waiting for connection file: ~/.ipython/profile_default/security/ipcontroller-client.json\n",
            "...................spatial support for each components given by the user\n",
            "{'recall': 0.3333333333333333, 'precision': 0.2222222222222222, 'accuracy': 0.15384615384615385, 'f1_score': 0.26666666666666666}\n",
            "['../drive/MyDrive/DS6011_Capstone_VisualNeuroscience/DATA/stackRaw/CLEANED/CLEAN_210731_0_1_stackRaw_mc_mix2_syt_.h5']\n",
            "Waiting for connection file: ~/.ipython/profile_default/security/ipcontroller-client.json\n",
            "...................spatial support for each components given by the user\n",
            "{'recall': 0.0, 'precision': 0.0, 'accuracy': 0.0, 'f1_score': 0.0}\n",
            "['../drive/MyDrive/DS6011_Capstone_VisualNeuroscience/DATA/stackRaw/CLEANED/CLEAN_210815_0_1_stackRaw_mc_mix1_syt_.h5']\n",
            "Waiting for connection file: ~/.ipython/profile_default/security/ipcontroller-client.json\n",
            "...................spatial support for each components given by the user\n",
            "{'recall': 0.06666666666666667, 'precision': 0.05555555555555555, 'accuracy': 0.03125, 'f1_score': 0.06060606060606061}\n",
            "['../drive/MyDrive/DS6011_Capstone_VisualNeuroscience/DATA/stackRaw/CLEANED/CLEAN_211023_0_1_stackRaw_mc_tm2_tm4_syt_.h5']\n",
            "Waiting for connection file: ~/.ipython/profile_default/security/ipcontroller-client.json\n",
            "failed\n"
          ]
        },
        {
          "ename": "UnboundLocalError",
          "evalue": "ignored",
          "output_type": "error",
          "traceback": [
            "\u001b[0;31m---------------------------------------------------------------------------\u001b[0m",
            "\u001b[0;31mZMQError\u001b[0m                                  Traceback (most recent call last)",
            "\u001b[0;32m<ipython-input-31-7c579fff588b>\u001b[0m in \u001b[0;36mscore_params\u001b[0;34m(path_to_stack, path_to_masks, opts)\u001b[0m\n\u001b[1;32m     12\u001b[0m       \u001b[0mcm\u001b[0m\u001b[0;34m.\u001b[0m\u001b[0mstop_server\u001b[0m\u001b[0;34m(\u001b[0m\u001b[0mdview\u001b[0m\u001b[0;34m=\u001b[0m\u001b[0mdview\u001b[0m\u001b[0;34m)\u001b[0m\u001b[0;34m\u001b[0m\u001b[0;34m\u001b[0m\u001b[0m\n\u001b[0;32m---> 13\u001b[0;31m     \u001b[0mdview\u001b[0m \u001b[0;34m=\u001b[0m \u001b[0mcm\u001b[0m\u001b[0;34m.\u001b[0m\u001b[0mcluster\u001b[0m\u001b[0;34m.\u001b[0m\u001b[0mstart_server\u001b[0m\u001b[0;34m(\u001b[0m\u001b[0mncpus\u001b[0m\u001b[0;34m=\u001b[0m\u001b[0;36m2\u001b[0m\u001b[0;34m)\u001b[0m\u001b[0;34m\u001b[0m\u001b[0;34m\u001b[0m\u001b[0m\n\u001b[0m\u001b[1;32m     14\u001b[0m \u001b[0;34m\u001b[0m\u001b[0m\n",
            "\u001b[0;32m/content/CaImAn/caiman/cluster.py\u001b[0m in \u001b[0;36mstart_server\u001b[0;34m(slurm_script, ipcluster, ncpus)\u001b[0m\n\u001b[1;32m    232\u001b[0m         \u001b[0;31m# Check that all processes have started\u001b[0m\u001b[0;34m\u001b[0m\u001b[0;34m\u001b[0m\u001b[0;34m\u001b[0m\u001b[0m\n\u001b[0;32m--> 233\u001b[0;31m         \u001b[0mclient\u001b[0m \u001b[0;34m=\u001b[0m \u001b[0mipyparallel\u001b[0m\u001b[0;34m.\u001b[0m\u001b[0mClient\u001b[0m\u001b[0;34m(\u001b[0m\u001b[0;34m)\u001b[0m\u001b[0;34m\u001b[0m\u001b[0;34m\u001b[0m\u001b[0m\n\u001b[0m\u001b[1;32m    234\u001b[0m         \u001b[0mtime\u001b[0m\u001b[0;34m.\u001b[0m\u001b[0msleep\u001b[0m\u001b[0;34m(\u001b[0m\u001b[0;36m1.5\u001b[0m\u001b[0;34m)\u001b[0m\u001b[0;34m\u001b[0m\u001b[0;34m\u001b[0m\u001b[0m\n",
            "\u001b[0;32m/usr/local/lib/python3.7/dist-packages/ipyparallel/client/client.py\u001b[0m in \u001b[0;36m__init__\u001b[0;34m(self, connection_info, url_file, profile, profile_dir, ipython_dir, context, debug, sshserver, sshkey, password, paramiko, timeout, cluster_id, cluster, **extra_args)\u001b[0m\n\u001b[1;32m    614\u001b[0m         \u001b[0;32mtry\u001b[0m\u001b[0;34m:\u001b[0m\u001b[0;34m\u001b[0m\u001b[0;34m\u001b[0m\u001b[0m\n\u001b[0;32m--> 615\u001b[0;31m             \u001b[0mself\u001b[0m\u001b[0;34m.\u001b[0m\u001b[0m_connect\u001b[0m\u001b[0;34m(\u001b[0m\u001b[0msshserver\u001b[0m\u001b[0;34m,\u001b[0m \u001b[0mssh_kwargs\u001b[0m\u001b[0;34m,\u001b[0m \u001b[0mtimeout\u001b[0m\u001b[0;34m)\u001b[0m\u001b[0;34m\u001b[0m\u001b[0;34m\u001b[0m\u001b[0m\n\u001b[0m\u001b[1;32m    616\u001b[0m         \u001b[0;32mexcept\u001b[0m\u001b[0;34m:\u001b[0m\u001b[0;34m\u001b[0m\u001b[0;34m\u001b[0m\u001b[0m\n",
            "\u001b[0;32m/usr/local/lib/python3.7/dist-packages/ipyparallel/client/client.py\u001b[0m in \u001b[0;36m_connect\u001b[0;34m(self, sshserver, ssh_kwargs, timeout)\u001b[0m\n\u001b[1;32m    779\u001b[0m \u001b[0;34m\u001b[0m\u001b[0m\n\u001b[0;32m--> 780\u001b[0;31m             \u001b[0mself\u001b[0m\u001b[0;34m.\u001b[0m\u001b[0m_broadcast_socket\u001b[0m \u001b[0;34m=\u001b[0m \u001b[0mself\u001b[0m\u001b[0;34m.\u001b[0m\u001b[0m_context\u001b[0m\u001b[0;34m.\u001b[0m\u001b[0msocket\u001b[0m\u001b[0;34m(\u001b[0m\u001b[0mzmq\u001b[0m\u001b[0;34m.\u001b[0m\u001b[0mDEALER\u001b[0m\u001b[0;34m)\u001b[0m\u001b[0;34m\u001b[0m\u001b[0;34m\u001b[0m\u001b[0m\n\u001b[0m\u001b[1;32m    781\u001b[0m             \u001b[0mconnect_socket\u001b[0m\u001b[0;34m(\u001b[0m\u001b[0mself\u001b[0m\u001b[0;34m.\u001b[0m\u001b[0m_broadcast_socket\u001b[0m\u001b[0;34m,\u001b[0m \u001b[0mcfg\u001b[0m\u001b[0;34m[\u001b[0m\u001b[0;34m'broadcast'\u001b[0m\u001b[0;34m]\u001b[0m\u001b[0;34m)\u001b[0m\u001b[0;34m\u001b[0m\u001b[0;34m\u001b[0m\u001b[0m\n",
            "\u001b[0;32m/usr/local/lib/python3.7/dist-packages/zmq/sugar/context.py\u001b[0m in \u001b[0;36msocket\u001b[0;34m(self, socket_type, **kwargs)\u001b[0m\n\u001b[1;32m    263\u001b[0m         s = self._socket_class(  # set PYTHONTRACEMALLOC=2 to get the calling frame\n\u001b[0;32m--> 264\u001b[0;31m             \u001b[0mself\u001b[0m\u001b[0;34m,\u001b[0m \u001b[0msocket_type\u001b[0m\u001b[0;34m,\u001b[0m \u001b[0;34m**\u001b[0m\u001b[0mkwargs\u001b[0m\u001b[0;34m\u001b[0m\u001b[0;34m\u001b[0m\u001b[0m\n\u001b[0m\u001b[1;32m    265\u001b[0m         )\n",
            "\u001b[0;32m/usr/local/lib/python3.7/dist-packages/zmq/sugar/socket.py\u001b[0m in \u001b[0;36m__init__\u001b[0;34m(self, *a, **kw)\u001b[0m\n\u001b[1;32m     82\u001b[0m     \u001b[0;32mdef\u001b[0m \u001b[0m__init__\u001b[0m\u001b[0;34m(\u001b[0m\u001b[0mself\u001b[0m\u001b[0;34m,\u001b[0m \u001b[0;34m*\u001b[0m\u001b[0ma\u001b[0m\u001b[0;34m,\u001b[0m \u001b[0;34m**\u001b[0m\u001b[0mkw\u001b[0m\u001b[0;34m)\u001b[0m\u001b[0;34m:\u001b[0m\u001b[0;34m\u001b[0m\u001b[0;34m\u001b[0m\u001b[0m\n\u001b[0;32m---> 83\u001b[0;31m         \u001b[0msuper\u001b[0m\u001b[0;34m(\u001b[0m\u001b[0;34m)\u001b[0m\u001b[0;34m.\u001b[0m\u001b[0m__init__\u001b[0m\u001b[0;34m(\u001b[0m\u001b[0;34m*\u001b[0m\u001b[0ma\u001b[0m\u001b[0;34m,\u001b[0m \u001b[0;34m**\u001b[0m\u001b[0mkw\u001b[0m\u001b[0;34m)\u001b[0m\u001b[0;34m\u001b[0m\u001b[0;34m\u001b[0m\u001b[0m\n\u001b[0m\u001b[1;32m     84\u001b[0m         \u001b[0;32mif\u001b[0m \u001b[0;34m'shadow'\u001b[0m \u001b[0;32min\u001b[0m \u001b[0mkw\u001b[0m\u001b[0;34m:\u001b[0m\u001b[0;34m\u001b[0m\u001b[0;34m\u001b[0m\u001b[0m\n",
            "\u001b[0;32mzmq/backend/cython/socket.pyx\u001b[0m in \u001b[0;36mzmq.backend.cython.socket.Socket.__init__\u001b[0;34m()\u001b[0m\n",
            "\u001b[0;31mZMQError\u001b[0m: Too many open files",
            "\nDuring handling of the above exception, another exception occurred:\n",
            "\u001b[0;31mUnboundLocalError\u001b[0m                         Traceback (most recent call last)",
            "\u001b[0;32m<ipython-input-36-929771b0b4ca>\u001b[0m in \u001b[0;36m<module>\u001b[0;34m()\u001b[0m\n\u001b[1;32m      7\u001b[0m                               \u001b[0minitial_point_generator\u001b[0m \u001b[0;34m=\u001b[0m \u001b[0;34m'halton'\u001b[0m\u001b[0;34m,\u001b[0m\u001b[0;34m\u001b[0m\u001b[0;34m\u001b[0m\u001b[0m\n\u001b[1;32m      8\u001b[0m                               \u001b[0mn_jobs\u001b[0m \u001b[0;34m=\u001b[0m \u001b[0;36m2\u001b[0m\u001b[0;34m,\u001b[0m\u001b[0;34m\u001b[0m\u001b[0;34m\u001b[0m\u001b[0m\n\u001b[0;32m----> 9\u001b[0;31m                               verbose=True)\n\u001b[0m",
            "\u001b[0;32m/usr/local/lib/python3.7/dist-packages/skopt/optimizer/gp.py\u001b[0m in \u001b[0;36mgp_minimize\u001b[0;34m(func, dimensions, base_estimator, n_calls, n_random_starts, n_initial_points, initial_point_generator, acq_func, acq_optimizer, x0, y0, random_state, verbose, callback, n_points, n_restarts_optimizer, xi, kappa, noise, n_jobs, model_queue_size)\u001b[0m\n\u001b[1;32m    266\u001b[0m         \u001b[0mn_restarts_optimizer\u001b[0m\u001b[0;34m=\u001b[0m\u001b[0mn_restarts_optimizer\u001b[0m\u001b[0;34m,\u001b[0m\u001b[0;34m\u001b[0m\u001b[0;34m\u001b[0m\u001b[0m\n\u001b[1;32m    267\u001b[0m         \u001b[0mx0\u001b[0m\u001b[0;34m=\u001b[0m\u001b[0mx0\u001b[0m\u001b[0;34m,\u001b[0m \u001b[0my0\u001b[0m\u001b[0;34m=\u001b[0m\u001b[0my0\u001b[0m\u001b[0;34m,\u001b[0m \u001b[0mrandom_state\u001b[0m\u001b[0;34m=\u001b[0m\u001b[0mrng\u001b[0m\u001b[0;34m,\u001b[0m \u001b[0mverbose\u001b[0m\u001b[0;34m=\u001b[0m\u001b[0mverbose\u001b[0m\u001b[0;34m,\u001b[0m\u001b[0;34m\u001b[0m\u001b[0;34m\u001b[0m\u001b[0m\n\u001b[0;32m--> 268\u001b[0;31m         callback=callback, n_jobs=n_jobs, model_queue_size=model_queue_size)\n\u001b[0m",
            "\u001b[0;32m/usr/local/lib/python3.7/dist-packages/skopt/optimizer/base.py\u001b[0m in \u001b[0;36mbase_minimize\u001b[0;34m(func, dimensions, base_estimator, n_calls, n_random_starts, n_initial_points, initial_point_generator, acq_func, acq_optimizer, x0, y0, random_state, verbose, callback, n_points, n_restarts_optimizer, xi, kappa, n_jobs, model_queue_size)\u001b[0m\n\u001b[1;32m    297\u001b[0m     \u001b[0;32mfor\u001b[0m \u001b[0mn\u001b[0m \u001b[0;32min\u001b[0m \u001b[0mrange\u001b[0m\u001b[0;34m(\u001b[0m\u001b[0mn_calls\u001b[0m\u001b[0;34m)\u001b[0m\u001b[0;34m:\u001b[0m\u001b[0;34m\u001b[0m\u001b[0;34m\u001b[0m\u001b[0m\n\u001b[1;32m    298\u001b[0m         \u001b[0mnext_x\u001b[0m \u001b[0;34m=\u001b[0m \u001b[0moptimizer\u001b[0m\u001b[0;34m.\u001b[0m\u001b[0mask\u001b[0m\u001b[0;34m(\u001b[0m\u001b[0;34m)\u001b[0m\u001b[0;34m\u001b[0m\u001b[0;34m\u001b[0m\u001b[0m\n\u001b[0;32m--> 299\u001b[0;31m         \u001b[0mnext_y\u001b[0m \u001b[0;34m=\u001b[0m \u001b[0mfunc\u001b[0m\u001b[0;34m(\u001b[0m\u001b[0mnext_x\u001b[0m\u001b[0;34m)\u001b[0m\u001b[0;34m\u001b[0m\u001b[0;34m\u001b[0m\u001b[0m\n\u001b[0m\u001b[1;32m    300\u001b[0m         \u001b[0mresult\u001b[0m \u001b[0;34m=\u001b[0m \u001b[0moptimizer\u001b[0m\u001b[0;34m.\u001b[0m\u001b[0mtell\u001b[0m\u001b[0;34m(\u001b[0m\u001b[0mnext_x\u001b[0m\u001b[0;34m,\u001b[0m \u001b[0mnext_y\u001b[0m\u001b[0;34m)\u001b[0m\u001b[0;34m\u001b[0m\u001b[0;34m\u001b[0m\u001b[0m\n\u001b[1;32m    301\u001b[0m         \u001b[0mresult\u001b[0m\u001b[0;34m.\u001b[0m\u001b[0mspecs\u001b[0m \u001b[0;34m=\u001b[0m \u001b[0mspecs\u001b[0m\u001b[0;34m\u001b[0m\u001b[0;34m\u001b[0m\u001b[0m\n",
            "\u001b[0;32m<ipython-input-35-b57860e06875>\u001b[0m in \u001b[0;36mobjective\u001b[0;34m(parameters)\u001b[0m\n\u001b[1;32m     17\u001b[0m \u001b[0;31m#score_all_stacks returns the precision * -1 so that the optimizer can minimize it\u001b[0m\u001b[0;34m\u001b[0m\u001b[0;34m\u001b[0m\u001b[0;34m\u001b[0m\u001b[0m\n\u001b[1;32m     18\u001b[0m \u001b[0;32mdef\u001b[0m \u001b[0mobjective\u001b[0m\u001b[0;34m(\u001b[0m\u001b[0mparameters\u001b[0m\u001b[0;34m)\u001b[0m\u001b[0;34m:\u001b[0m\u001b[0;34m\u001b[0m\u001b[0;34m\u001b[0m\u001b[0m\n\u001b[0;32m---> 19\u001b[0;31m     \u001b[0;32mreturn\u001b[0m \u001b[0mscore_all_stacks\u001b[0m\u001b[0;34m(\u001b[0m\u001b[0mparameters\u001b[0m\u001b[0;34m)\u001b[0m\u001b[0;34m\u001b[0m\u001b[0;34m\u001b[0m\u001b[0m\n\u001b[0m",
            "\u001b[0;32m<ipython-input-32-0abc27ed8c98>\u001b[0m in \u001b[0;36mscore_all_stacks\u001b[0;34m(all_params)\u001b[0m\n\u001b[1;32m     50\u001b[0m     \u001b[0mprint\u001b[0m\u001b[0;34m(\u001b[0m\u001b[0mopts\u001b[0m\u001b[0;34m.\u001b[0m\u001b[0mdata\u001b[0m\u001b[0;34m[\u001b[0m\u001b[0;34m'fnames'\u001b[0m\u001b[0;34m]\u001b[0m\u001b[0;34m)\u001b[0m\u001b[0;34m\u001b[0m\u001b[0;34m\u001b[0m\u001b[0m\n\u001b[1;32m     51\u001b[0m \u001b[0;34m\u001b[0m\u001b[0m\n\u001b[0;32m---> 52\u001b[0;31m     \u001b[0mresults\u001b[0m \u001b[0;34m=\u001b[0m \u001b[0mscore_params\u001b[0m\u001b[0;34m(\u001b[0m\u001b[0mpath_to_stack\u001b[0m\u001b[0;34m=\u001b[0m\u001b[0mpath_to_stack\u001b[0m\u001b[0;34m,\u001b[0m               \u001b[0mpath_to_masks\u001b[0m\u001b[0;34m=\u001b[0m\u001b[0mpath_to_masks\u001b[0m\u001b[0;34m,\u001b[0m               \u001b[0mopts\u001b[0m\u001b[0;34m=\u001b[0m\u001b[0mopts\u001b[0m\u001b[0;34m)\u001b[0m\u001b[0;34m\u001b[0m\u001b[0;34m\u001b[0m\u001b[0m\n\u001b[0m\u001b[1;32m     53\u001b[0m \u001b[0;34m\u001b[0m\u001b[0m\n\u001b[1;32m     54\u001b[0m     \u001b[0;31m#store this stack-mask pair's precision\u001b[0m\u001b[0;34m\u001b[0m\u001b[0;34m\u001b[0m\u001b[0;34m\u001b[0m\u001b[0m\n",
            "\u001b[0;32m<ipython-input-31-7c579fff588b>\u001b[0m in \u001b[0;36mscore_params\u001b[0;34m(path_to_stack, path_to_masks, opts)\u001b[0m\n\u001b[1;32m     86\u001b[0m   \u001b[0;32mexcept\u001b[0m\u001b[0;34m:\u001b[0m\u001b[0;34m\u001b[0m\u001b[0;34m\u001b[0m\u001b[0m\n\u001b[1;32m     87\u001b[0m     \u001b[0mprint\u001b[0m\u001b[0;34m(\u001b[0m\u001b[0;34m'failed'\u001b[0m\u001b[0;34m)\u001b[0m\u001b[0;34m\u001b[0m\u001b[0;34m\u001b[0m\u001b[0m\n\u001b[0;32m---> 88\u001b[0;31m     \u001b[0mcm\u001b[0m\u001b[0;34m.\u001b[0m\u001b[0mstop_server\u001b[0m\u001b[0;34m(\u001b[0m\u001b[0mdview\u001b[0m\u001b[0;34m=\u001b[0m\u001b[0mdview\u001b[0m\u001b[0;34m)\u001b[0m\u001b[0;34m\u001b[0m\u001b[0;34m\u001b[0m\u001b[0m\n\u001b[0m",
            "\u001b[0;31mUnboundLocalError\u001b[0m: local variable 'dview' referenced before assignment"
          ]
        }
      ]
    },
    {
      "cell_type": "code",
      "metadata": {
        "colab": {
          "base_uri": "https://localhost:8080/",
          "height": 165
        },
        "id": "o51vLguAbVcW",
        "outputId": "718b7852-003e-4194-aac3-8830c1060d43"
      },
      "source": [
        "results"
      ],
      "execution_count": 1,
      "outputs": [
        {
          "output_type": "error",
          "ename": "NameError",
          "evalue": "ignored",
          "traceback": [
            "\u001b[0;31m---------------------------------------------------------------------------\u001b[0m",
            "\u001b[0;31mNameError\u001b[0m                                 Traceback (most recent call last)",
            "\u001b[0;32m<ipython-input-1-100f62972f2f>\u001b[0m in \u001b[0;36m<module>\u001b[0;34m()\u001b[0m\n\u001b[0;32m----> 1\u001b[0;31m \u001b[0mresults\u001b[0m\u001b[0;34m\u001b[0m\u001b[0;34m\u001b[0m\u001b[0m\n\u001b[0m",
            "\u001b[0;31mNameError\u001b[0m: name 'results' is not defined"
          ]
        }
      ]
    },
    {
      "cell_type": "code",
      "metadata": {
        "id": "NvhFGPKvLhiK"
      },
      "source": [
        "skopt.plots.plot_convergence(results)"
      ],
      "execution_count": null,
      "outputs": []
    },
    {
      "cell_type": "code",
      "metadata": {
        "id": "_9QJR1mbLbiM"
      },
      "source": [
        "skopt.plots.plot_objective(results)"
      ],
      "execution_count": null,
      "outputs": []
    },
    {
      "cell_type": "markdown",
      "metadata": {
        "id": "dt9VjwbVsvI7"
      },
      "source": [
        "## Old working code"
      ]
    },
    {
      "cell_type": "code",
      "metadata": {
        "colab": {
          "base_uri": "https://localhost:8080/"
        },
        "id": "PcRf62puVu1u",
        "outputId": "9f2e4058-cfdf-48c6-bc6e-4910bcf1eb3d"
      },
      "source": [
        "# #tests score_all_stacks directly\n",
        "# dummy_in = [13, 2, 0.9, 5, 10, .8]\n",
        "# score_all_stacks(dummy_in)"
      ],
      "execution_count": null,
      "outputs": [
        {
          "name": "stdout",
          "output_type": "stream",
          "text": [
            "[13, 2, 0.9, 5, 10, 0.8]\n",
            "['../drive/MyDrive/DS6011_Capstone_VisualNeuroscience/DATA/stackRaw/CLEANED/CLEAN_210728_0_1_stackRaw_mc_tm2_tm9_syt_.h5']\n",
            "Waiting for connection file: ~/.ipython/profile_default/security/ipcontroller-client.json\n",
            "............spatial support for each components given by the user\n",
            "{'recall': 0.4166666666666667, 'precision': 0.026041666666666668, 'accuracy': 0.02512562814070352, 'f1_score': 0.049019607843137254}\n",
            "['../drive/MyDrive/DS6011_Capstone_VisualNeuroscience/DATA/stackRaw/CLEANED/CLEAN_210731_0_1_stackRaw_mc_mix2_syt_.h5']\n",
            "Waiting for connection file: ~/.ipython/profile_default/security/ipcontroller-client.json\n",
            ".............spatial support for each components given by the user\n",
            "{'recall': 0.14285714285714285, 'precision': 0.07692307692307693, 'accuracy': 0.05263157894736842, 'f1_score': 0.1}\n",
            "['../drive/MyDrive/DS6011_Capstone_VisualNeuroscience/DATA/stackRaw/CLEANED/CLEAN_210815_0_1_stackRaw_mc_mix1_syt_.h5']\n",
            "Waiting for connection file: ~/.ipython/profile_default/security/ipcontroller-client.json\n",
            "..................spatial support for each components given by the user\n",
            "{'recall': 0.13333333333333333, 'precision': 0.16666666666666666, 'accuracy': 0.08, 'f1_score': 0.14814814814814814}\n",
            "['../drive/MyDrive/DS6011_Capstone_VisualNeuroscience/DATA/stackRaw/CLEANED/CLEAN_211023_0_1_stackRaw_mc_tm2_tm4_syt_.h5']\n",
            "Waiting for connection file: ~/.ipython/profile_default/security/ipcontroller-client.json\n",
            ".............spatial support for each components given by the user\n",
            "{'recall': 0.0, 'precision': 0.0, 'accuracy': 0.0, 'f1_score': 0.0}\n",
            "['../drive/MyDrive/DS6011_Capstone_VisualNeuroscience/DATA/stackRaw/CLEANED/CLEAN_211106_0_1_stackRaw_mc_tm1_t5_syt_.h5']\n",
            "Waiting for connection file: ~/.ipython/profile_default/security/ipcontroller-client.json\n",
            "........"
          ]
        },
        {
          "name": "stderr",
          "output_type": "stream",
          "text": [
            "/content/CaImAn/caiman/summary_images.py:217: RuntimeWarning: invalid value encountered in true_divide\n",
            "  w_mov = (Y - np.mean(Y, axis=0)) / np.std(Y, axis=0)\n"
          ]
        },
        {
          "name": "stdout",
          "output_type": "stream",
          "text": [
            "....spatial support for each components given by the user\n",
            "{'recall': 0.0, 'precision': 0.0, 'accuracy': 0.0, 'f1_score': 0.0}\n",
            "['../drive/MyDrive/DS6011_Capstone_VisualNeuroscience/DATA/stackRaw/CLEANED/CLEAN_211106_1_1_stackRaw_mc_tm4_t5_syt_.h5']\n",
            "Waiting for connection file: ~/.ipython/profile_default/security/ipcontroller-client.json\n",
            "............spatial support for each components given by the user\n",
            "{'recall': 0.2, 'precision': 0.07692307692307693, 'accuracy': 0.058823529411764705, 'f1_score': 0.1111111111111111}\n",
            "[0.049019607843137254, 0.1, 0.14814814814814814, 0.0, 0.0, 0.1111111111111111]\n"
          ]
        },
        {
          "data": {
            "text/plain": [
              "-0.06804647785039941"
            ]
          },
          "execution_count": 14,
          "metadata": {},
          "output_type": "execute_result"
        }
      ]
    },
    {
      "cell_type": "code",
      "metadata": {
        "colab": {
          "base_uri": "https://localhost:8080/"
        },
        "id": "nG6EVQNSdPr8",
        "outputId": "300a393c-027d-4ca6-afb1-76d04735a9ba"
      },
      "source": [
        "# #tests score_params directly\n",
        "# opts.data['fnames'] = ['../drive/MyDrive/DS6011_Capstone_VisualNeuroscience/DATA/stackRaw/CLEANED/CLEAN_210728_0_1_stackRaw_mc_tm2_tm9_syt_.mat']\n",
        "# score_params(path_to_masks='../drive/MyDrive/DS6011_Capstone_VisualNeuroscience/DATA/manualROIs/210728_0_1_manualROIs_tm2_tm9_syt.mat', \\\n",
        "#               path_to_stack='../drive/MyDrive/DS6011_Capstone_VisualNeuroscience/DATA/stackRaw/CLEANED/CLEAN_210728_0_1_stackRaw_mc_tm2_tm9_syt_.mat', \\\n",
        "#               opts=opts)"
      ],
      "execution_count": null,
      "outputs": [
        {
          "name": "stdout",
          "output_type": "stream",
          "text": [
            "Waiting for connection file: ~/.ipython/profile_default/security/ipcontroller-client.json\n",
            "........."
          ]
        },
        {
          "name": "stderr",
          "output_type": "stream",
          "text": [
            "WARNING:root:Loading a *.mat file. x- and y- dimensions might have been swapped.\n"
          ]
        },
        {
          "name": "stdout",
          "output_type": "stream",
          "text": [
            "failed\n",
            "...."
          ]
        }
      ]
    },
    {
      "cell_type": "code",
      "metadata": {
        "colab": {
          "base_uri": "https://localhost:8080/",
          "height": 414
        },
        "id": "ugOP9IDygmWK",
        "outputId": "4c2c7190-38e4-4d8d-8101-c516b38c366d"
      },
      "source": [
        "# #tests cnm directly\n",
        "# opts.quality['use_cnn'] = True\n",
        "# opts.data['fnames'] = ['../drive/MyDrive/DS6011_Capstone_VisualNeuroscience/DATA/stackRaw/CLEANED/CLEAN_210728_0_1_stackRaw_mc_tm2_tm9_syt_.mat']\n",
        "\n",
        "# if 'dview' in locals():\n",
        "#     cm.stop_server(dview=dview)\n",
        "# dview = cm.cluster.start_server(ncpus=2)\n",
        "# cnm = cnmf.CNMF(n_processes=2, params=opts, dview=dview)\n",
        "# #print('cnm object initialized')\n",
        "# cnm = cnm.fit_file(motion_correct = False, include_eval=True)\n",
        "# cm.stop_server(dview=dview)\n",
        "\n",
        "# cnm.estimates.A"
      ],
      "execution_count": null,
      "outputs": [
        {
          "name": "stdout",
          "output_type": "stream",
          "text": [
            "Waiting for connection file: ~/.ipython/profile_default/security/ipcontroller-client.json\n",
            "........"
          ]
        },
        {
          "name": "stderr",
          "output_type": "stream",
          "text": [
            "WARNING:root:Loading a *.mat file. x- and y- dimensions might have been swapped.\n"
          ]
        },
        {
          "ename": "ValueError",
          "evalue": "ignored",
          "output_type": "error",
          "traceback": [
            "\u001b[0;31m---------------------------------------------------------------------------\u001b[0m",
            "\u001b[0;31mValueError\u001b[0m                                Traceback (most recent call last)",
            "\u001b[0;32m<ipython-input-27-335f09c13e43>\u001b[0m in \u001b[0;36m<module>\u001b[0;34m()\u001b[0m\n\u001b[1;32m      8\u001b[0m \u001b[0mcnm\u001b[0m \u001b[0;34m=\u001b[0m \u001b[0mcnmf\u001b[0m\u001b[0;34m.\u001b[0m\u001b[0mCNMF\u001b[0m\u001b[0;34m(\u001b[0m\u001b[0mn_processes\u001b[0m\u001b[0;34m=\u001b[0m\u001b[0;36m2\u001b[0m\u001b[0;34m,\u001b[0m \u001b[0mparams\u001b[0m\u001b[0;34m=\u001b[0m\u001b[0mopts\u001b[0m\u001b[0;34m,\u001b[0m \u001b[0mdview\u001b[0m\u001b[0;34m=\u001b[0m\u001b[0mdview\u001b[0m\u001b[0;34m)\u001b[0m\u001b[0;34m\u001b[0m\u001b[0;34m\u001b[0m\u001b[0m\n\u001b[1;32m      9\u001b[0m \u001b[0;31m#print('cnm object initialized')\u001b[0m\u001b[0;34m\u001b[0m\u001b[0;34m\u001b[0m\u001b[0;34m\u001b[0m\u001b[0m\n\u001b[0;32m---> 10\u001b[0;31m \u001b[0mcnm\u001b[0m \u001b[0;34m=\u001b[0m \u001b[0mcnm\u001b[0m\u001b[0;34m.\u001b[0m\u001b[0mfit_file\u001b[0m\u001b[0;34m(\u001b[0m\u001b[0mmotion_correct\u001b[0m \u001b[0;34m=\u001b[0m \u001b[0;32mFalse\u001b[0m\u001b[0;34m,\u001b[0m \u001b[0minclude_eval\u001b[0m\u001b[0;34m=\u001b[0m\u001b[0;32mTrue\u001b[0m\u001b[0;34m)\u001b[0m\u001b[0;34m\u001b[0m\u001b[0;34m\u001b[0m\u001b[0m\n\u001b[0m\u001b[1;32m     11\u001b[0m \u001b[0mcm\u001b[0m\u001b[0;34m.\u001b[0m\u001b[0mstop_server\u001b[0m\u001b[0;34m(\u001b[0m\u001b[0mdview\u001b[0m\u001b[0;34m=\u001b[0m\u001b[0mdview\u001b[0m\u001b[0;34m)\u001b[0m\u001b[0;34m\u001b[0m\u001b[0;34m\u001b[0m\u001b[0m\n\u001b[1;32m     12\u001b[0m \u001b[0;34m\u001b[0m\u001b[0m\n",
            "\u001b[0;32m/content/CaImAn/caiman/source_extraction/cnmf/cnmf.py\u001b[0m in \u001b[0;36mfit_file\u001b[0;34m(self, motion_correct, indices, include_eval)\u001b[0m\n\u001b[1;32m    365\u001b[0m                                                  border_to_0=b0)\n\u001b[1;32m    366\u001b[0m             \u001b[0;32melse\u001b[0m\u001b[0;34m:\u001b[0m\u001b[0;34m\u001b[0m\u001b[0;34m\u001b[0m\u001b[0m\n\u001b[0;32m--> 367\u001b[0;31m                 \u001b[0mfname_new\u001b[0m \u001b[0;34m=\u001b[0m \u001b[0mmmapping\u001b[0m\u001b[0;34m.\u001b[0m\u001b[0msave_memmap\u001b[0m\u001b[0;34m(\u001b[0m\u001b[0mfnames\u001b[0m\u001b[0;34m,\u001b[0m \u001b[0mbase_name\u001b[0m\u001b[0;34m=\u001b[0m\u001b[0mbase_name\u001b[0m\u001b[0;34m,\u001b[0m \u001b[0morder\u001b[0m\u001b[0;34m=\u001b[0m\u001b[0;34m'C'\u001b[0m\u001b[0;34m)\u001b[0m\u001b[0;34m\u001b[0m\u001b[0;34m\u001b[0m\u001b[0m\n\u001b[0m\u001b[1;32m    368\u001b[0m             \u001b[0mYr\u001b[0m\u001b[0;34m,\u001b[0m \u001b[0mdims\u001b[0m\u001b[0;34m,\u001b[0m \u001b[0mT\u001b[0m \u001b[0;34m=\u001b[0m \u001b[0mmmapping\u001b[0m\u001b[0;34m.\u001b[0m\u001b[0mload_memmap\u001b[0m\u001b[0;34m(\u001b[0m\u001b[0mfname_new\u001b[0m\u001b[0;34m)\u001b[0m\u001b[0;34m\u001b[0m\u001b[0;34m\u001b[0m\u001b[0m\n\u001b[1;32m    369\u001b[0m \u001b[0;34m\u001b[0m\u001b[0m\n",
            "\u001b[0;32m/content/CaImAn/caiman/mmapping.py\u001b[0m in \u001b[0;36msave_memmap\u001b[0;34m(filenames, base_name, resize_fact, remove_init, idx_xy, order, var_name_hdf5, xy_shifts, is_3D, add_to_movie, border_to_0, dview, n_chunks, slices)\u001b[0m\n\u001b[1;32m    455\u001b[0m             \u001b[0;32melse\u001b[0m\u001b[0;34m:\u001b[0m\u001b[0;34m\u001b[0m\u001b[0;34m\u001b[0m\u001b[0m\n\u001b[1;32m    456\u001b[0m                 \u001b[0;32mif\u001b[0m \u001b[0misinstance\u001b[0m\u001b[0;34m(\u001b[0m\u001b[0mf\u001b[0m\u001b[0;34m,\u001b[0m \u001b[0;34m(\u001b[0m\u001b[0mbasestring\u001b[0m\u001b[0;34m,\u001b[0m \u001b[0mlist\u001b[0m\u001b[0;34m)\u001b[0m\u001b[0;34m)\u001b[0m\u001b[0;34m:\u001b[0m\u001b[0;34m\u001b[0m\u001b[0;34m\u001b[0m\u001b[0m\n\u001b[0;32m--> 457\u001b[0;31m                     \u001b[0mYr\u001b[0m \u001b[0;34m=\u001b[0m \u001b[0mcm\u001b[0m\u001b[0;34m.\u001b[0m\u001b[0mload\u001b[0m\u001b[0;34m(\u001b[0m\u001b[0mcaiman\u001b[0m\u001b[0;34m.\u001b[0m\u001b[0mpaths\u001b[0m\u001b[0;34m.\u001b[0m\u001b[0mfn_relocated\u001b[0m\u001b[0;34m(\u001b[0m\u001b[0mf\u001b[0m\u001b[0;34m)\u001b[0m\u001b[0;34m,\u001b[0m \u001b[0mfr\u001b[0m\u001b[0;34m=\u001b[0m\u001b[0;36m1\u001b[0m\u001b[0;34m,\u001b[0m \u001b[0min_memory\u001b[0m\u001b[0;34m=\u001b[0m\u001b[0;32mTrue\u001b[0m\u001b[0;34m,\u001b[0m \u001b[0mvar_name_hdf5\u001b[0m\u001b[0;34m=\u001b[0m\u001b[0mvar_name_hdf5\u001b[0m\u001b[0;34m)\u001b[0m\u001b[0;34m\u001b[0m\u001b[0;34m\u001b[0m\u001b[0m\n\u001b[0m\u001b[1;32m    458\u001b[0m                 \u001b[0;32melse\u001b[0m\u001b[0;34m:\u001b[0m\u001b[0;34m\u001b[0m\u001b[0;34m\u001b[0m\u001b[0m\n\u001b[1;32m    459\u001b[0m                     \u001b[0mYr\u001b[0m \u001b[0;34m=\u001b[0m \u001b[0mcm\u001b[0m\u001b[0;34m.\u001b[0m\u001b[0mmovie\u001b[0m\u001b[0;34m(\u001b[0m\u001b[0mf\u001b[0m\u001b[0;34m)\u001b[0m\u001b[0;34m\u001b[0m\u001b[0;34m\u001b[0m\u001b[0m\n",
            "\u001b[0;32m/content/CaImAn/caiman/base/movies.py\u001b[0m in \u001b[0;36mload\u001b[0;34m(file_name, fr, start_time, meta_data, subindices, shape, var_name_hdf5, in_memory, is_behavior, bottom, top, left, right, channel, outtype, is3D)\u001b[0m\n\u001b[1;32m   1507\u001b[0m                             'might have been swapped.')\n\u001b[1;32m   1508\u001b[0m             \u001b[0mbyte_stream\u001b[0m\u001b[0;34m,\u001b[0m \u001b[0mfile_opened\u001b[0m \u001b[0;34m=\u001b[0m \u001b[0mscipy\u001b[0m\u001b[0;34m.\u001b[0m\u001b[0mio\u001b[0m\u001b[0;34m.\u001b[0m\u001b[0mmatlab\u001b[0m\u001b[0;34m.\u001b[0m\u001b[0mmio\u001b[0m\u001b[0;34m.\u001b[0m\u001b[0m_open_file\u001b[0m\u001b[0;34m(\u001b[0m\u001b[0mfile_name\u001b[0m\u001b[0;34m,\u001b[0m \u001b[0mappendmat\u001b[0m\u001b[0;34m=\u001b[0m\u001b[0;32mFalse\u001b[0m\u001b[0;34m)\u001b[0m\u001b[0;34m\u001b[0m\u001b[0;34m\u001b[0m\u001b[0m\n\u001b[0;32m-> 1509\u001b[0;31m             \u001b[0mmjv\u001b[0m\u001b[0;34m,\u001b[0m \u001b[0mmnv\u001b[0m \u001b[0;34m=\u001b[0m \u001b[0mscipy\u001b[0m\u001b[0;34m.\u001b[0m\u001b[0mio\u001b[0m\u001b[0;34m.\u001b[0m\u001b[0mmatlab\u001b[0m\u001b[0;34m.\u001b[0m\u001b[0mmio\u001b[0m\u001b[0;34m.\u001b[0m\u001b[0mget_matfile_version\u001b[0m\u001b[0;34m(\u001b[0m\u001b[0mbyte_stream\u001b[0m\u001b[0;34m)\u001b[0m\u001b[0;34m\u001b[0m\u001b[0;34m\u001b[0m\u001b[0m\n\u001b[0m\u001b[1;32m   1510\u001b[0m             \u001b[0;32mif\u001b[0m \u001b[0mmjv\u001b[0m \u001b[0;34m==\u001b[0m \u001b[0;36m2\u001b[0m\u001b[0;34m:\u001b[0m\u001b[0;34m\u001b[0m\u001b[0;34m\u001b[0m\u001b[0m\n\u001b[1;32m   1511\u001b[0m                 \u001b[0mextension\u001b[0m \u001b[0;34m=\u001b[0m \u001b[0;34m'.h5'\u001b[0m\u001b[0;34m\u001b[0m\u001b[0;34m\u001b[0m\u001b[0m\n",
            "\u001b[0;32m/usr/local/lib/python3.7/dist-packages/scipy/io/matlab/miobase.py\u001b[0m in \u001b[0;36mget_matfile_version\u001b[0;34m(fileobj)\u001b[0m\n\u001b[1;32m    239\u001b[0m     \u001b[0;32mif\u001b[0m \u001b[0mmaj_val\u001b[0m \u001b[0;32min\u001b[0m \u001b[0;34m(\u001b[0m\u001b[0;36m1\u001b[0m\u001b[0;34m,\u001b[0m \u001b[0;36m2\u001b[0m\u001b[0;34m)\u001b[0m\u001b[0;34m:\u001b[0m\u001b[0;34m\u001b[0m\u001b[0;34m\u001b[0m\u001b[0m\n\u001b[1;32m    240\u001b[0m         \u001b[0;32mreturn\u001b[0m \u001b[0mret\u001b[0m\u001b[0;34m\u001b[0m\u001b[0;34m\u001b[0m\u001b[0m\n\u001b[0;32m--> 241\u001b[0;31m     \u001b[0;32mraise\u001b[0m \u001b[0mValueError\u001b[0m\u001b[0;34m(\u001b[0m\u001b[0;34m'Unknown mat file type, version %s, %s'\u001b[0m \u001b[0;34m%\u001b[0m \u001b[0mret\u001b[0m\u001b[0;34m)\u001b[0m\u001b[0;34m\u001b[0m\u001b[0;34m\u001b[0m\u001b[0m\n\u001b[0m\u001b[1;32m    242\u001b[0m \u001b[0;34m\u001b[0m\u001b[0m\n\u001b[1;32m    243\u001b[0m \u001b[0;34m\u001b[0m\u001b[0m\n",
            "\u001b[0;31mValueError\u001b[0m: Unknown mat file type, version 0, 0"
          ]
        }
      ]
    },
    {
      "cell_type": "code",
      "metadata": {
        "colab": {
          "base_uri": "https://localhost:8080/"
        },
        "id": "sCBKNW4psfBn",
        "outputId": "fa2b8d4c-b8dc-418d-8b1c-c0843ec8a15d"
      },
      "source": [
        "# #tests masks and scoring directly \n",
        "# fnames = ['../drive/MyDrive/DS6011_Capstone_VisualNeuroscience/DATA/stackRaw/CLEANED/CLEAN_210728_0_1_stackRaw_mc_tm2_tm9_syt_.h5']\n",
        "# path_to_masks='../drive/MyDrive/DS6011_Capstone_VisualNeuroscience/DATA/manualROIs/210728_0_1_manualROIs_tm2_tm9_syt.mat'\n",
        "# #Read in masks and reformat\n",
        "# g = h5py.File(path_to_masks, 'r')\n",
        "\n",
        "# #transpose the matrix and save to an array A\n",
        "# mask_A = g['bwMaskStack'][:].T\n",
        "\n",
        "# g.close()\n",
        "\n",
        "# #rearrange the dimensions and show the new shape\n",
        "# mask_A = mask_A.transpose(1,0,2)\n",
        "\n",
        "# #reshape to 2D, first dimension is 128*256 (32768), 2nd dimension is the # of ROI's\n",
        "# mask_A = mask_A.reshape((mask_A.shape[1]*mask_A.shape[0]), mask_A.shape[2])\n",
        "\n",
        "# #convert the values from 0/1 to boolean False/True\n",
        "# mask_A = np.array(mask_A, dtype=bool)\n",
        "# #print('mask read in and reformatted')\n",
        "\n",
        "# if 'dview' in locals():\n",
        "#     cm.stop_server(dview=dview)\n",
        "# dview = cm.cluster.start_server(ncpus=2)\n",
        "\n",
        "# #Seeded CNMF only works when seeded using mmap\n",
        "# #import pathlib\n",
        "\n",
        "# #create memmory map location for the original movie\n",
        "# #fname_new = cm.save_memmap(fnames, base_name=pathlib.Path(fnames[0]).stem + \"_memmap_\", order='C')\n",
        "\n",
        "# #read data from mmap location\n",
        "# Yr, dims, T = cm.load_memmap(cnm.mmap_file)\n",
        "\n",
        "# # load frames in python format (T x X x Y)\n",
        "# mov = np.reshape(Yr.T, [T] + list(dims), order='F')\n",
        "# #print('movie matrix loaded for seeded cnmf')\n",
        "\n",
        "\n",
        "# #For seeded CNMF, need to adjust some params\n",
        "# opts.patch['only_init'] = False\n",
        "# opts.patch['rf'] = None\n",
        "# opts.data['use_cnn'] = False\n",
        "\n",
        "# #print('params adjusted for seeded cnmf')\n",
        "    \n",
        "# #Initialize a new cnmf object and pass in our masks as the \"Ain\" param\n",
        "# #\"Ain\" is A-in, meaning the A matrix holding the spatial footprints of the roi's\n",
        "# cnm_seeded = cnmf.CNMF(n_processes = 2, params=opts, dview=None, Ain=mask_A)\n",
        "# #print('seeded cnmf object initialized')\n",
        "# cnm_seeded.fit(mov)\n",
        "# #print('seeded cnmf completed')\n",
        "\n",
        "# #Try running register_ROIs and see what happens\n",
        "# matched_ROIs1, matched_ROIs2, non_matched1, non_matched2, performance, A2 = cm.base.rois.register_ROIs(cnm_seeded.estimates.A, cnm.estimates.A, dims=dims)\n",
        "# #print('validation and scoring completed')\n",
        "\n",
        "# performance"
      ],
      "execution_count": null,
      "outputs": [
        {
          "name": "stdout",
          "output_type": "stream",
          "text": [
            "Waiting for connection file: ~/.ipython/profile_default/security/ipcontroller-client.json\n",
            "........spatial support for each components given by the user\n"
          ]
        },
        {
          "data": {
            "text/plain": [
              "{'accuracy': 0.06666666666666667,\n",
              " 'f1_score': 0.125,\n",
              " 'precision': 0.1,\n",
              " 'recall': 0.16666666666666666}"
            ]
          },
          "execution_count": 57,
          "metadata": {},
          "output_type": "execute_result"
        }
      ]
    }
  ]
}