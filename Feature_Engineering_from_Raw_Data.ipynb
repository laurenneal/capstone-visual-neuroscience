{
  "nbformat": 4,
  "nbformat_minor": 0,
  "metadata": {
    "colab": {
      "name": "Feature Engineering from Raw Data.ipynb",
      "provenance": [],
      "collapsed_sections": [
        "cLK3FEAmKovv",
        "RzyBYX0KLCpI"
      ],
      "include_colab_link": true
    },
    "kernelspec": {
      "name": "python3",
      "display_name": "Python 3"
    },
    "language_info": {
      "name": "python"
    }
  },
  "cells": [
    {
      "cell_type": "markdown",
      "metadata": {
        "id": "view-in-github",
        "colab_type": "text"
      },
      "source": [
        "<a href=\"https://colab.research.google.com/github/laurenneal/capstone-visual-neuroscience/blob/main/Feature_Engineering_from_Raw_Data.ipynb\" target=\"_parent\"><img src=\"https://colab.research.google.com/assets/colab-badge.svg\" alt=\"Open In Colab\"/></a>"
      ]
    },
    {
      "cell_type": "code",
      "execution_count": 1,
      "metadata": {
        "colab": {
          "base_uri": "https://localhost:8080/"
        },
        "id": "CDZJTIMTOPPT",
        "outputId": "6a2d24c1-3faf-4efe-c171-2d439e752fa4"
      },
      "outputs": [
        {
          "output_type": "stream",
          "name": "stdout",
          "text": [
            "Drive already mounted at /content/drive; to attempt to forcibly remount, call drive.mount(\"/content/drive\", force_remount=True).\n"
          ]
        }
      ],
      "source": [
        "import pandas as pd\n",
        "import numpy as np\n",
        "import sys\n",
        "from numpy.ma.core import ceil, floor\n",
        "from more_itertools import sliced\n",
        "\n",
        "from google.colab import drive\n",
        "drive.mount('/content/drive')"
      ]
    },
    {
      "cell_type": "markdown",
      "source": [
        "# FUNCTIONS (Just for setting up functions, not running code)\n",
        "This section contains functions that can be used on datasets for feature engineering"
      ],
      "metadata": {
        "id": "b1kIi8a_KUi-"
      }
    },
    {
      "cell_type": "markdown",
      "source": [
        "## Train Test Split on Stacks"
      ],
      "metadata": {
        "id": "cLK3FEAmKovv"
      }
    },
    {
      "cell_type": "code",
      "source": [
        "# def trainTestSplit(df, splt = [.7,.2,.1]):\n",
        "#   # splits on roi, rois accross stacks will have the same group (important if stacks are from the same video)\n",
        "#   # split is the train test valuidation split (proportions given in that order)\n",
        "#   if sum(splt) < 0.9999 or sum(splt) > 1.0001:\n",
        "#     sys.exit('Splt must add to 1')\n",
        "  \n",
        "#   num_rois = len(df.index.unique(level='roi'))\n",
        "\n",
        "#   tr_ind = int(ceil(num_rois*splt[0]))\n",
        "#   ts_ind = int(ceil(num_rois*splt[1])) + tr_ind\n",
        "\n",
        "#   ar = np.arange(num_rois)\n",
        "#   np.random.shuffle(ar)\n",
        "#   ar = ar+1 # roi id's start from 1\n",
        "\n",
        "#   train = ar[:tr_ind]\n",
        "#   test = ar[tr_ind:ts_ind]\n",
        "#   val = ar[ts_ind:]\n",
        "\n",
        "#   for i in train:\n",
        "#     df.loc[pd.IndexSlice[:, :, i],'training'] = 'train'\n",
        "\n",
        "#   for i in test:\n",
        "#     df.loc[pd.IndexSlice[:, :, i],'training'] = 'test'\n",
        "\n",
        "#   for i in val:\n",
        "#     df.loc[pd.IndexSlice[:, :, i],'training'] = 'validate'\n",
        "\n",
        "#   return(df)"
      ],
      "metadata": {
        "id": "foYVriIPRYli"
      },
      "execution_count": 2,
      "outputs": []
    },
    {
      "cell_type": "markdown",
      "source": [
        "## Combine Frames into Temporal Chunks - NOT Working"
      ],
      "metadata": {
        "id": "RzyBYX0KLCpI"
      }
    },
    {
      "cell_type": "code",
      "source": [
        "# # select frame size\n",
        "# temporal_period_length = 200"
      ],
      "metadata": {
        "id": "4dMJP8dmLDEj"
      },
      "execution_count": 3,
      "outputs": []
    },
    {
      "cell_type": "code",
      "source": [
        "\n",
        "# def groupFrames(df, period):\n",
        "#   # inputs are data frame and temporal period length\n",
        "#   # df needs to be sorted correctly, the indexing should take care of that\n",
        "\n",
        "#   # check that all rois are the same size\n",
        "#   # if this is a problem we can write a more computationally heavy workthrough\n",
        "#   if (raw_df.groupby(['stack','roi']).count()['filename'].max() != raw_df.groupby(['stack','roi']).count()['filename'].min()):\n",
        "#     sys.exit('ROIs need to be the same length')\n",
        "\n",
        "#   num_stacks = len(df.index.unique(level='stack'))\n",
        "#   num_roi = len(df.index.unique(level='roi'))\n",
        "\n",
        "#   # get first label\n",
        "#   lbl_1 = raw_df.head(1).index.values[0][1]\n",
        "#   # use it to find the number of frames in a roi\n",
        "#   num_frames = raw_df.loc[(1,lbl_1,1),'filename'].count()\n",
        "#   # how many groups will ther be in each roi?\n",
        "#   num_pds = int(floor(num_frames/period))\n",
        "#   # how many left over\n",
        "#   remainder_pds = num_frames%period\n",
        "\n",
        "#   # iterate a column for one roi\n",
        "#   lst = [[li + 1] * period for li in range(0,num_pds)]\n",
        "#   lst = [li for sublist in lst for li in sublist] # https://stackoverflow.com/questions/952914/how-to-make-a-flat-list-out-of-a-list-of-lists\n",
        "#   lst = lst + [lst[-1] + 1] * remainder_pds\n",
        "#   lst\n",
        "\n",
        "#   new_col = np.array(lst * num_stacks * num_roi)\n",
        "  \n",
        "#   df['frame_group'] = new_col\n",
        "\n",
        "#   return(df)"
      ],
      "metadata": {
        "id": "7BN3_vTzmOON"
      },
      "execution_count": 4,
      "outputs": []
    },
    {
      "cell_type": "markdown",
      "source": [
        "## Stim 1 feature engineering"
      ],
      "metadata": {
        "id": "32ydyYzQSY4r"
      }
    },
    {
      "cell_type": "code",
      "source": [
        "from operator import setitem\n",
        "def stimResponse(df, stim, response, zero_point = 0):\n",
        "  \"\"\"\n",
        "  Takes a df, the name of the col holding the stimulus, the name of the col holding the response, and the value to use as the zero point\n",
        "\n",
        "  Returns the df with the relationship type and the relation value added\n",
        "\n",
        "  A different function will calculate the relationship between time periods\n",
        "  \"\"\"\n",
        "\n",
        "\n",
        "  # takes a stim column and response column and returns two new feature column\n",
        "  # PR is Positive Response\n",
        "  # NR is Negative Response\n",
        "  # PS is Positive Stimulus\n",
        "  # NS is Negative Stimulus\n",
        "  df_in = df.copy()\n",
        "  #\n",
        "  PR = df_in[response] > zero_point\n",
        "  NR = df_in[response] <= zero_point\n",
        "  PS = df_in[stim] > zero_point\n",
        "  NS = df_in[stim] <= zero_point\n",
        "\n",
        "  PR = PR.rename('PR')\n",
        "  NR = NR.rename('NR')\n",
        "  PS = PS.rename('PS')\n",
        "  NS = NS.rename('NS')\n",
        "\n",
        "  # combine into df\n",
        "  df = pd.concat([df_in[stim], df_in[response], PR,NR,PS,NS], axis=1)\n",
        "  #set the data types back to boolean\n",
        "  df = df.astype({'PR': bool,\n",
        "                'PS': bool,\n",
        "                'NR': bool,\n",
        "                'PR': bool})\n",
        "\n",
        "  # get min and max values for normalizing\n",
        "  S_min = df[stim].min()\n",
        "  S_max = df[stim].max()\n",
        "  R_min = df[response].min()\n",
        "  R_max = df[response].max()\n",
        "\n",
        "  #add a column normalizing the stim and response\n",
        "  df['stim_norm'] = df[stim].apply(lambda x: x/S_max if x>0 else x/S_min)\n",
        "  df['resp_norm'] = df[response].apply(lambda x: x/R_max if x>0 else x/R_min)\n",
        "\n",
        "\n",
        "  # multiply stim and resp\n",
        "  df['relation'] = df['stim_norm'] * df['resp_norm']\n",
        "\n",
        "  #Set a new column with the category each row's relationship falls under\n",
        "  df.loc[(df['PR'] & df['PS']),'relation_type'] = 'PRPS'\n",
        "  df.loc[(df['NR'] & df['NS']),'relation_type'] = 'NRNS'\n",
        "  df.loc[(df['PR'] & df['NS']),'relation_type'] = 'PRNS'\n",
        "  df.loc[(df['NR'] & df['PS']),'relation_type'] = 'NRPS'\n",
        "\n",
        "  #UNCOMMENT this to create the len-4 matrix for the current time period directly\n",
        "\n",
        "  # #one-hot encode the four categories\n",
        "  # df = pd.get_dummies(df, columns=['relation_type'], prefix = stim)\n",
        "\n",
        "  # #get a list of the columns created\n",
        "  # dummy_cols = [col for col in df.columns if 'relation_type_' in col]\n",
        "\n",
        "  # #multiply the dummy columns by the relation value to distribute the value to the appropriate column\n",
        "  # for col in dummy_cols:\n",
        "  #   df[col] = df[col] * df['relation']\n",
        "  \n",
        "  df_in['relation_type_' + stim] = df['relation_type']\n",
        "  df_in['relation_' + stim] = df['relation']\n",
        "  return(df_in)"
      ],
      "metadata": {
        "id": "G04RabveFWZE"
      },
      "execution_count": 5,
      "outputs": []
    },
    {
      "cell_type": "code",
      "source": [
        "def get_future_stim_and_relationship(df_in, stim, time_window): \n",
        "  \"\"\"\n",
        "  takes a df, the stimulus name we're comparing, and the time window we're looking to in the future (in frames)\n",
        "\n",
        "  returns a new df with two extra columns containing the relationship type and the value at the future time period\n",
        "  \"\"\"\n",
        "\n",
        "  #make copy of the df to avoid editing the one in memory\n",
        "  df = df_in.copy()\n",
        "\n",
        "  #procedurally generate the column names we need to reference\n",
        "  current_relation_colname = 'relation_'+stim\n",
        "  current_relation_type_colname = 'relation_type_'+stim\n",
        "\n",
        "  #and the column names we're creating\n",
        "  future_relation_colname = 'relation_'+stim+'_+'+str(time_window)\n",
        "  future_relation_type_colname = 'relation_type_'+stim+'_+'+str(time_window)\n",
        "\n",
        "  #reset the index so that we can join the new columns later\n",
        "  df = df.reset_index()\n",
        "\n",
        "\n",
        "  # for each of the new columns, do four steps\n",
        "\n",
        "  #get the existing array of relation values or relation types\n",
        "\n",
        "  #cut off the first x values, where x is the time window we want to look in the future (done by indexing [time_window:])\n",
        "        #this will drop the time x values in the future to line up with the current time\n",
        "\n",
        "  #pad the end of the array with zeros by the same number of values so that the lengths still match (done by concatenating with np.zeros(time_window))\n",
        "\n",
        "  #set the new array as the new 'future' column\n",
        "  df[future_relation_colname] = pd.concat([df[current_relation_colname] \\\n",
        "                                           .reset_index(drop=True)[time_window:], \\\n",
        "                                           pd.Series((np.zeros(time_window)))], ignore_index = True)\n",
        "  \n",
        "  #repeat for the relation type\n",
        "  df[future_relation_type_colname] = pd.concat([df[current_relation_type_colname] \\\n",
        "                                           .reset_index(drop=True)[time_window:], \\\n",
        "                                           pd.Series((np.zeros(time_window)))], ignore_index = True)\n",
        "\n",
        "  #need to stop the end of one stack from referencing the beginning of another\n",
        "\n",
        "  #get the index of any row where the frame # is high enough that x-frames in the future would run into another stack\n",
        "  #by checking that the frame number is greater than the max frame number - (time window-1) (corrects for index number)\n",
        "  end_of_stack_index = df.loc[df['frame'] >= max(df['frame'])-(time_window-1)].index\n",
        "\n",
        "  #use .loc to set the two new columns to None for those rows\n",
        "  df.loc[end_of_stack_index, future_relation_colname] = None\n",
        "  df.loc[end_of_stack_index, future_relation_type_colname] = None\n",
        "\n",
        "  #set the index back to the way it was\n",
        "  df = df.set_index(['stack','label','roi','frame'])\n",
        "\n",
        "  return df"
      ],
      "metadata": {
        "id": "ZtetR5-T0Dh6"
      },
      "execution_count": 6,
      "outputs": []
    },
    {
      "cell_type": "code",
      "source": [
        "def current_future_relationship(df, stim, time_window):\n",
        "  \"\"\"\n",
        "  Takes df with a column for stim and a column for stim + a given time window. Returns the relationship.\n",
        "  \"\"\"\n",
        "  # column names for current row\n",
        "  current_relation_colname = 'relation_'+stim\n",
        "  current_relation_type_colname = 'relation_type_'+stim\n",
        "\n",
        "  # column names for rows in the future\n",
        "  future_relation_colname = 'relation_'+stim+'_+'+str(time_window)\n",
        "  future_relation_type_colname = 'relation_type_'+stim+'_+'+str(time_window)\n",
        "\n",
        "  #with this approach, we need to drop the last x frames from each stack, so dropna\n",
        "  df = df.dropna()\n",
        "\n",
        "  #make a new column with the combo of current relation type and future relation type\n",
        "  df['full_relation_type'] = df[current_relation_type_colname] + '-' + df[future_relation_type_colname]\n",
        "\n",
        "  #one-hot encode the overall relationship, then multiply the new columns by the product of the relation values\n",
        "  df = pd.get_dummies(df, columns=['full_relation_type'], prefix = current_relation_colname)\n",
        "\n",
        "  #get a list of the columns created\n",
        "  dummy_cols = [col for col in df.columns if current_relation_colname in col]\n",
        "\n",
        "  #multiply the dummy columns by the relation value to distribute the value to the appropriate column\n",
        "  for col in dummy_cols:\n",
        "    df[col] = df[col] * (df[current_relation_colname]*df[future_relation_colname])\n",
        "\n",
        "  return df"
      ],
      "metadata": {
        "id": "ol0nFdsgPSzd"
      },
      "execution_count": 7,
      "outputs": []
    },
    {
      "cell_type": "code",
      "source": [
        "def directionalResponse(df, stim, response):\n",
        "  \"\"\"\n",
        "  Takes a df, the name of the col holding the direction of motion stimulus, the name of the col holding the response\n",
        "  Returns the df with the stim broken out into four cols based on direction of motion\n",
        "\n",
        "  A different function will calculate the relationship between response and direction\n",
        "  \"\"\"\n",
        "\n",
        "\n",
        "  # add a column that categorizes the direction into four quadrants (segments can be changed)\n",
        "  df_in = df.copy()\n",
        "\n",
        "  #set conditions checking the direction of the stimulus - there has to be a better way but this is it for now\n",
        "  conditions = [\n",
        "    ((-45 <= df_in[stim]) & (df_in[stim] < 0)), #northwest\n",
        "    ((0 < df_in[stim]) & (df_in[stim] < 45)), #northeast\n",
        "    ((45 <= df_in[stim]) & (df_in[stim] < 135)), #east\n",
        "    ((135 <= df_in[stim]) & (df_in[stim] <= 180)),#southeast\n",
        "    ((-180 <= df_in[stim]) & (df_in[stim] < -135)), #southwest\n",
        "    ((-135 <= df_in[stim]) & (df_in[stim] < -45)), #west\n",
        "    (df_in[stim] == 0) #no movement\n",
        "    ]\n",
        "\n",
        "  #set the names we assign to those conditions\n",
        "  values = ['up', 'up', 'right', 'down', 'down', 'left', 'no_motion']\n",
        "\n",
        "  #add a column to the df holding the direction category\n",
        "  df['direction'] = np.select(conditions, values)\n",
        "\n",
        "  #one-hot encode the quadrants\n",
        "  df = pd.get_dummies(df, columns=['direction'], prefix = 'direction')\n",
        "\n",
        "  #get the names of the 4 direction columns we just added\n",
        "  direction_cols = [col for col in df.columns if 'direction' in col]\n",
        "\n",
        "  #TODO - TEST SOME OPTIONS AND SEE HOW WE WANT TO REPRESENT THE RESPONSE TO THESE\n",
        "  #STOPPING HERE FOR NOW WITH JUST THE DIRECTION ENCODED\n",
        "\n",
        "  return(df)"
      ],
      "metadata": {
        "id": "IRU6zRfFMZbL"
      },
      "execution_count": 8,
      "outputs": []
    },
    {
      "cell_type": "code",
      "source": [
        "# # #make a new column with the combo of current relation type and future relation type\n",
        "# df['full_relation_type'] = df['relation_type_stim1'] + '-' + df['relation_type_stim1_+10']\n",
        "# df.head()"
      ],
      "metadata": {
        "id": "UBwHv-hfPUzy"
      },
      "execution_count": 9,
      "outputs": []
    },
    {
      "cell_type": "code",
      "source": [
        "# #one-hot encode the overall relationship, then multiply the new columns by the product of the relation values\n",
        "\n",
        "# df = pd.get_dummies(df, columns=['full_relation_type'], prefix = 'relation_stim1')\n",
        "\n",
        "# #get a list of the columns created\n",
        "# dummy_cols = [col for col in df.columns if 'relation_stim1' in col]\n",
        "\n",
        "# #multiply the dummy columns by the relation value to distribute the value to the appropriate column\n",
        "# for col in dummy_cols:\n",
        "#   df[col] = df[col] * (df['relation_stim1']*df['relation_stim1_+10'])\n",
        "\n",
        "# df.head(10) "
      ],
      "metadata": {
        "id": "9la040LxPXWk"
      },
      "execution_count": 10,
      "outputs": []
    },
    {
      "cell_type": "code",
      "source": [
        "# df.to_csv('drive/MyDrive/DS6011_Capstone_VisualNeuroscience/Seeded_CNMF/Extracted_Features/210815_0_20220213T070259_sparse_stim1_draft.csv')"
      ],
      "metadata": {
        "id": "01Q5Zhs4PbRs"
      },
      "execution_count": 11,
      "outputs": []
    },
    {
      "cell_type": "code",
      "source": [
        "# df_temp_5 = current_future_relationship(df_temp_4, 'stim1', 10)\n",
        "# df_temp_5.head()"
      ],
      "metadata": {
        "id": "LHcf5s8yPp23"
      },
      "execution_count": 12,
      "outputs": []
    },
    {
      "cell_type": "code",
      "source": [
        ""
      ],
      "metadata": {
        "id": "On638MPBRU1u"
      },
      "execution_count": 12,
      "outputs": []
    },
    {
      "cell_type": "code",
      "source": [
        "! ls drive/MyDrive/DS6011_Capstone_VisualNeuroscience/Seeded_CNMF/Extracted_Features/"
      ],
      "metadata": {
        "id": "_PaUOTAwQ567",
        "colab": {
          "base_uri": "https://localhost:8080/"
        },
        "outputId": "12c18ea9-a4e9-4e88-fcab-1cdbf68aee5d"
      },
      "execution_count": 13,
      "outputs": [
        {
          "output_type": "stream",
          "name": "stdout",
          "text": [
            " 5_frames_stim1  'pre-feature extract'\n"
          ]
        }
      ]
    },
    {
      "cell_type": "markdown",
      "source": [
        "# RUN FUNCTIONS ON DATA"
      ],
      "metadata": {
        "id": "MwzX6MpHRWC6"
      }
    },
    {
      "cell_type": "code",
      "source": [
        "# raw_df = pd.read_csv('drive/MyDrive/DS6011_Capstone_VisualNeuroscience/Seeded_CNMF/Extracted_Features/210815_0__20220213T070259RAW_stimulus_data.csv', index_col=['stack','label','roi','frame']).drop(columns='Unnamed: 0')\n",
        "# raw_df"
      ],
      "metadata": {
        "id": "M0zBwsPCOg3M"
      },
      "execution_count": 14,
      "outputs": []
    },
    {
      "cell_type": "code",
      "source": [
        "# get all raw DF's\n",
        "from os import listdir\n",
        "root = 'drive/MyDrive/DS6011_Capstone_VisualNeuroscience/Seeded_CNMF/Extracted_Features/'\n",
        "raw_fnames = listdir(root + 'pre-feature extract/')\n",
        "raw_fnames = [x for x in raw_fnames if 'RAW_extracted_data' in x]\n",
        "raw_fnames"
      ],
      "metadata": {
        "colab": {
          "base_uri": "https://localhost:8080/"
        },
        "id": "S840FeKCd2xT",
        "outputId": "cb2dba07-0b0c-4f68-d423-599b620d3f92"
      },
      "execution_count": 15,
      "outputs": [
        {
          "output_type": "execute_result",
          "data": {
            "text/plain": [
              "['210809_2_RAW_extracted_data.csv',\n",
              " '210728_0_RAW_extracted_data.csv',\n",
              " '210802_0_RAW_extracted_data.csv',\n",
              " '210808_0_RAW_extracted_data.csv',\n",
              " '210731_0_RAW_extracted_data.csv',\n",
              " '210815_1_RAW_extracted_data.csv',\n",
              " '210816_0_RAW_extracted_data.csv',\n",
              " '210815_0_RAW_extracted_data.csv',\n",
              " '210816_1_RAW_extracted_data.csv']"
            ]
          },
          "metadata": {},
          "execution_count": 15
        }
      ]
    },
    {
      "cell_type": "code",
      "source": [
        "# Dictionary of df's. One for each video. You can call each df my name\n",
        "raw_dfs = {}\n",
        "for p in raw_fnames:\n",
        "  df = pd.read_csv(root + 'pre-feature extract/' + p, index_col=['stack','label','roi','frame']).drop(columns='Unnamed: 0')\n",
        "  raw_dfs[p] = df\n",
        "raw_dfs[raw_fnames[-1]]"
      ],
      "metadata": {
        "colab": {
          "base_uri": "https://localhost:8080/",
          "height": 455
        },
        "id": "j8RW20zugbMJ",
        "outputId": "80b6075e-01d4-4f1f-a2b7-ea7f06c3215c"
      },
      "execution_count": 16,
      "outputs": [
        {
          "output_type": "execute_result",
          "data": {
            "text/plain": [
              "                       movie_ID      resp     stim1     stim2     stim3  \\\n",
              "stack label roi frame                                                     \n",
              "1     tm4   1   0      210816_1  0.153797 -2.195615 -1.954008  0.382234   \n",
              "                1      210816_1  0.280574 -2.195615  0.777023 -0.001856   \n",
              "                2      210816_1  0.493612 -2.195615  0.777023 -0.001856   \n",
              "                3      210816_1  0.667897 -1.966966 -0.498707  1.864190   \n",
              "                4      210816_1  0.497233 -1.738318 -1.713994  1.108878   \n",
              "...                         ...       ...       ...       ...       ...   \n",
              "9     tm1   10  5508   210816_1  0.336650  1.353177  0.772721  0.007225   \n",
              "                5509   210816_1  0.297701  1.411397 -0.710081 -1.866442   \n",
              "                5510   210816_1  0.438173  1.423041 -0.597663 -1.871432   \n",
              "                5511   210816_1  0.337997  1.423041  0.772721  0.007225   \n",
              "                5512   210816_1  0.188373  1.423041  0.772721  0.007225   \n",
              "\n",
              "                        stim4  stim5     stim6     stim7     stim8  \n",
              "stack label roi frame                                               \n",
              "1     tm4   1   0      0.0000    0.0  0.000699  0.000000  0.000000  \n",
              "                1      0.0000    0.0 -0.077014  0.000000  0.000000  \n",
              "                2      0.0000    0.0 -0.340523  0.000000  0.000000  \n",
              "                3      0.0000    0.0 -0.878509  0.000000  0.000000  \n",
              "                4      0.0000    0.0 -1.669368  0.000000  0.000000  \n",
              "...                       ...    ...       ...       ...       ...  \n",
              "9     tm1   10  5508   0.0000    NaN  0.451827 -0.353452  0.084494  \n",
              "                5509  -3.0862    NaN  1.437190 -0.353452  0.084494  \n",
              "                5510   0.0000    NaN  1.767656 -0.353452  0.321161  \n",
              "                5511   0.0000    NaN  1.726848 -0.353452  0.321161  \n",
              "                5512   0.0000    NaN  1.701943 -0.353452  0.321161  \n",
              "\n",
              "[496170 rows x 10 columns]"
            ],
            "text/html": [
              "\n",
              "  <div id=\"df-f2ee8fb2-837c-41dc-b21f-c8640107ddaa\">\n",
              "    <div class=\"colab-df-container\">\n",
              "      <div>\n",
              "<style scoped>\n",
              "    .dataframe tbody tr th:only-of-type {\n",
              "        vertical-align: middle;\n",
              "    }\n",
              "\n",
              "    .dataframe tbody tr th {\n",
              "        vertical-align: top;\n",
              "    }\n",
              "\n",
              "    .dataframe thead th {\n",
              "        text-align: right;\n",
              "    }\n",
              "</style>\n",
              "<table border=\"1\" class=\"dataframe\">\n",
              "  <thead>\n",
              "    <tr style=\"text-align: right;\">\n",
              "      <th></th>\n",
              "      <th></th>\n",
              "      <th></th>\n",
              "      <th></th>\n",
              "      <th>movie_ID</th>\n",
              "      <th>resp</th>\n",
              "      <th>stim1</th>\n",
              "      <th>stim2</th>\n",
              "      <th>stim3</th>\n",
              "      <th>stim4</th>\n",
              "      <th>stim5</th>\n",
              "      <th>stim6</th>\n",
              "      <th>stim7</th>\n",
              "      <th>stim8</th>\n",
              "    </tr>\n",
              "    <tr>\n",
              "      <th>stack</th>\n",
              "      <th>label</th>\n",
              "      <th>roi</th>\n",
              "      <th>frame</th>\n",
              "      <th></th>\n",
              "      <th></th>\n",
              "      <th></th>\n",
              "      <th></th>\n",
              "      <th></th>\n",
              "      <th></th>\n",
              "      <th></th>\n",
              "      <th></th>\n",
              "      <th></th>\n",
              "      <th></th>\n",
              "    </tr>\n",
              "  </thead>\n",
              "  <tbody>\n",
              "    <tr>\n",
              "      <th rowspan=\"5\" valign=\"top\">1</th>\n",
              "      <th rowspan=\"5\" valign=\"top\">tm4</th>\n",
              "      <th rowspan=\"5\" valign=\"top\">1</th>\n",
              "      <th>0</th>\n",
              "      <td>210816_1</td>\n",
              "      <td>0.153797</td>\n",
              "      <td>-2.195615</td>\n",
              "      <td>-1.954008</td>\n",
              "      <td>0.382234</td>\n",
              "      <td>0.0000</td>\n",
              "      <td>0.0</td>\n",
              "      <td>0.000699</td>\n",
              "      <td>0.000000</td>\n",
              "      <td>0.000000</td>\n",
              "    </tr>\n",
              "    <tr>\n",
              "      <th>1</th>\n",
              "      <td>210816_1</td>\n",
              "      <td>0.280574</td>\n",
              "      <td>-2.195615</td>\n",
              "      <td>0.777023</td>\n",
              "      <td>-0.001856</td>\n",
              "      <td>0.0000</td>\n",
              "      <td>0.0</td>\n",
              "      <td>-0.077014</td>\n",
              "      <td>0.000000</td>\n",
              "      <td>0.000000</td>\n",
              "    </tr>\n",
              "    <tr>\n",
              "      <th>2</th>\n",
              "      <td>210816_1</td>\n",
              "      <td>0.493612</td>\n",
              "      <td>-2.195615</td>\n",
              "      <td>0.777023</td>\n",
              "      <td>-0.001856</td>\n",
              "      <td>0.0000</td>\n",
              "      <td>0.0</td>\n",
              "      <td>-0.340523</td>\n",
              "      <td>0.000000</td>\n",
              "      <td>0.000000</td>\n",
              "    </tr>\n",
              "    <tr>\n",
              "      <th>3</th>\n",
              "      <td>210816_1</td>\n",
              "      <td>0.667897</td>\n",
              "      <td>-1.966966</td>\n",
              "      <td>-0.498707</td>\n",
              "      <td>1.864190</td>\n",
              "      <td>0.0000</td>\n",
              "      <td>0.0</td>\n",
              "      <td>-0.878509</td>\n",
              "      <td>0.000000</td>\n",
              "      <td>0.000000</td>\n",
              "    </tr>\n",
              "    <tr>\n",
              "      <th>4</th>\n",
              "      <td>210816_1</td>\n",
              "      <td>0.497233</td>\n",
              "      <td>-1.738318</td>\n",
              "      <td>-1.713994</td>\n",
              "      <td>1.108878</td>\n",
              "      <td>0.0000</td>\n",
              "      <td>0.0</td>\n",
              "      <td>-1.669368</td>\n",
              "      <td>0.000000</td>\n",
              "      <td>0.000000</td>\n",
              "    </tr>\n",
              "    <tr>\n",
              "      <th>...</th>\n",
              "      <th>...</th>\n",
              "      <th>...</th>\n",
              "      <th>...</th>\n",
              "      <td>...</td>\n",
              "      <td>...</td>\n",
              "      <td>...</td>\n",
              "      <td>...</td>\n",
              "      <td>...</td>\n",
              "      <td>...</td>\n",
              "      <td>...</td>\n",
              "      <td>...</td>\n",
              "      <td>...</td>\n",
              "      <td>...</td>\n",
              "    </tr>\n",
              "    <tr>\n",
              "      <th rowspan=\"5\" valign=\"top\">9</th>\n",
              "      <th rowspan=\"5\" valign=\"top\">tm1</th>\n",
              "      <th rowspan=\"5\" valign=\"top\">10</th>\n",
              "      <th>5508</th>\n",
              "      <td>210816_1</td>\n",
              "      <td>0.336650</td>\n",
              "      <td>1.353177</td>\n",
              "      <td>0.772721</td>\n",
              "      <td>0.007225</td>\n",
              "      <td>0.0000</td>\n",
              "      <td>NaN</td>\n",
              "      <td>0.451827</td>\n",
              "      <td>-0.353452</td>\n",
              "      <td>0.084494</td>\n",
              "    </tr>\n",
              "    <tr>\n",
              "      <th>5509</th>\n",
              "      <td>210816_1</td>\n",
              "      <td>0.297701</td>\n",
              "      <td>1.411397</td>\n",
              "      <td>-0.710081</td>\n",
              "      <td>-1.866442</td>\n",
              "      <td>-3.0862</td>\n",
              "      <td>NaN</td>\n",
              "      <td>1.437190</td>\n",
              "      <td>-0.353452</td>\n",
              "      <td>0.084494</td>\n",
              "    </tr>\n",
              "    <tr>\n",
              "      <th>5510</th>\n",
              "      <td>210816_1</td>\n",
              "      <td>0.438173</td>\n",
              "      <td>1.423041</td>\n",
              "      <td>-0.597663</td>\n",
              "      <td>-1.871432</td>\n",
              "      <td>0.0000</td>\n",
              "      <td>NaN</td>\n",
              "      <td>1.767656</td>\n",
              "      <td>-0.353452</td>\n",
              "      <td>0.321161</td>\n",
              "    </tr>\n",
              "    <tr>\n",
              "      <th>5511</th>\n",
              "      <td>210816_1</td>\n",
              "      <td>0.337997</td>\n",
              "      <td>1.423041</td>\n",
              "      <td>0.772721</td>\n",
              "      <td>0.007225</td>\n",
              "      <td>0.0000</td>\n",
              "      <td>NaN</td>\n",
              "      <td>1.726848</td>\n",
              "      <td>-0.353452</td>\n",
              "      <td>0.321161</td>\n",
              "    </tr>\n",
              "    <tr>\n",
              "      <th>5512</th>\n",
              "      <td>210816_1</td>\n",
              "      <td>0.188373</td>\n",
              "      <td>1.423041</td>\n",
              "      <td>0.772721</td>\n",
              "      <td>0.007225</td>\n",
              "      <td>0.0000</td>\n",
              "      <td>NaN</td>\n",
              "      <td>1.701943</td>\n",
              "      <td>-0.353452</td>\n",
              "      <td>0.321161</td>\n",
              "    </tr>\n",
              "  </tbody>\n",
              "</table>\n",
              "<p>496170 rows × 10 columns</p>\n",
              "</div>\n",
              "      <button class=\"colab-df-convert\" onclick=\"convertToInteractive('df-f2ee8fb2-837c-41dc-b21f-c8640107ddaa')\"\n",
              "              title=\"Convert this dataframe to an interactive table.\"\n",
              "              style=\"display:none;\">\n",
              "        \n",
              "  <svg xmlns=\"http://www.w3.org/2000/svg\" height=\"24px\"viewBox=\"0 0 24 24\"\n",
              "       width=\"24px\">\n",
              "    <path d=\"M0 0h24v24H0V0z\" fill=\"none\"/>\n",
              "    <path d=\"M18.56 5.44l.94 2.06.94-2.06 2.06-.94-2.06-.94-.94-2.06-.94 2.06-2.06.94zm-11 1L8.5 8.5l.94-2.06 2.06-.94-2.06-.94L8.5 2.5l-.94 2.06-2.06.94zm10 10l.94 2.06.94-2.06 2.06-.94-2.06-.94-.94-2.06-.94 2.06-2.06.94z\"/><path d=\"M17.41 7.96l-1.37-1.37c-.4-.4-.92-.59-1.43-.59-.52 0-1.04.2-1.43.59L10.3 9.45l-7.72 7.72c-.78.78-.78 2.05 0 2.83L4 21.41c.39.39.9.59 1.41.59.51 0 1.02-.2 1.41-.59l7.78-7.78 2.81-2.81c.8-.78.8-2.07 0-2.86zM5.41 20L4 18.59l7.72-7.72 1.47 1.35L5.41 20z\"/>\n",
              "  </svg>\n",
              "      </button>\n",
              "      \n",
              "  <style>\n",
              "    .colab-df-container {\n",
              "      display:flex;\n",
              "      flex-wrap:wrap;\n",
              "      gap: 12px;\n",
              "    }\n",
              "\n",
              "    .colab-df-convert {\n",
              "      background-color: #E8F0FE;\n",
              "      border: none;\n",
              "      border-radius: 50%;\n",
              "      cursor: pointer;\n",
              "      display: none;\n",
              "      fill: #1967D2;\n",
              "      height: 32px;\n",
              "      padding: 0 0 0 0;\n",
              "      width: 32px;\n",
              "    }\n",
              "\n",
              "    .colab-df-convert:hover {\n",
              "      background-color: #E2EBFA;\n",
              "      box-shadow: 0px 1px 2px rgba(60, 64, 67, 0.3), 0px 1px 3px 1px rgba(60, 64, 67, 0.15);\n",
              "      fill: #174EA6;\n",
              "    }\n",
              "\n",
              "    [theme=dark] .colab-df-convert {\n",
              "      background-color: #3B4455;\n",
              "      fill: #D2E3FC;\n",
              "    }\n",
              "\n",
              "    [theme=dark] .colab-df-convert:hover {\n",
              "      background-color: #434B5C;\n",
              "      box-shadow: 0px 1px 3px 1px rgba(0, 0, 0, 0.15);\n",
              "      filter: drop-shadow(0px 1px 2px rgba(0, 0, 0, 0.3));\n",
              "      fill: #FFFFFF;\n",
              "    }\n",
              "  </style>\n",
              "\n",
              "      <script>\n",
              "        const buttonEl =\n",
              "          document.querySelector('#df-f2ee8fb2-837c-41dc-b21f-c8640107ddaa button.colab-df-convert');\n",
              "        buttonEl.style.display =\n",
              "          google.colab.kernel.accessAllowed ? 'block' : 'none';\n",
              "\n",
              "        async function convertToInteractive(key) {\n",
              "          const element = document.querySelector('#df-f2ee8fb2-837c-41dc-b21f-c8640107ddaa');\n",
              "          const dataTable =\n",
              "            await google.colab.kernel.invokeFunction('convertToInteractive',\n",
              "                                                     [key], {});\n",
              "          if (!dataTable) return;\n",
              "\n",
              "          const docLinkHtml = 'Like what you see? Visit the ' +\n",
              "            '<a target=\"_blank\" href=https://colab.research.google.com/notebooks/data_table.ipynb>data table notebook</a>'\n",
              "            + ' to learn more about interactive tables.';\n",
              "          element.innerHTML = '';\n",
              "          dataTable['output_type'] = 'display_data';\n",
              "          await google.colab.output.renderOutput(dataTable, element);\n",
              "          const docLink = document.createElement('div');\n",
              "          docLink.innerHTML = docLinkHtml;\n",
              "          element.appendChild(docLink);\n",
              "        }\n",
              "      </script>\n",
              "    </div>\n",
              "  </div>\n",
              "  "
            ]
          },
          "metadata": {},
          "execution_count": 16
        }
      ]
    },
    {
      "cell_type": "code",
      "source": [
        "raw_dfs.keys()"
      ],
      "metadata": {
        "colab": {
          "base_uri": "https://localhost:8080/"
        },
        "id": "tTp7IHuRhqJ1",
        "outputId": "0d018838-16ca-4fe6-8d87-41c6370f6733"
      },
      "execution_count": 17,
      "outputs": [
        {
          "output_type": "execute_result",
          "data": {
            "text/plain": [
              "dict_keys(['210809_2_RAW_extracted_data.csv', '210728_0_RAW_extracted_data.csv', '210802_0_RAW_extracted_data.csv', '210808_0_RAW_extracted_data.csv', '210731_0_RAW_extracted_data.csv', '210815_1_RAW_extracted_data.csv', '210816_0_RAW_extracted_data.csv', '210815_0_RAW_extracted_data.csv', '210816_1_RAW_extracted_data.csv'])"
            ]
          },
          "metadata": {},
          "execution_count": 17
        }
      ]
    },
    {
      "cell_type": "markdown",
      "source": [
        "## For each df, run through pipeline"
      ],
      "metadata": {
        "id": "UTWI7mX-iQoW"
      }
    },
    {
      "cell_type": "code",
      "source": [
        "stim = 'stim1'\n",
        "response = 'resp'\n",
        "time_window = 5\n",
        "for p in raw_fnames:\n",
        "  df = raw_dfs[p]\n",
        "  # df = directionalResponse(df, 'stim2', response)\n",
        "\n",
        "  #commented direction out until it's updated to handle new directional features\n",
        "  # #one movie has no zero values in the direction, which means it's missing that column after breaking it up\n",
        "  # #add the column in if it doesn't exist and fill it with zeros\n",
        "  # if 'direction_no_motion' not in df.columns:\n",
        "  #   df['direction_no_motion'] = 0\n",
        "  # df.insert(9, 'direction_no_motion', df.pop('direction_no_motion'))\n",
        "  \n",
        "  df = stimResponse(df, stim, response, zero_point = 0)\n",
        "  df = get_future_stim_and_relationship(df, stim, time_window)\n",
        "  df = df.dropna(subset = ['relation_'+stim+'_+'+str(time_window)])\n",
        "  df = current_future_relationship(df, stim, time_window)\n",
        "  raw_dfs[p] = df"
      ],
      "metadata": {
        "id": "rklpErfgiO57",
        "colab": {
          "base_uri": "https://localhost:8080/"
        },
        "outputId": "a17902ce-16c2-434a-8bb8-b4312be6e97c"
      },
      "execution_count": 18,
      "outputs": [
        {
          "output_type": "stream",
          "name": "stderr",
          "text": [
            "/usr/local/lib/python3.7/dist-packages/ipykernel_launcher.py:17: SettingWithCopyWarning: \n",
            "A value is trying to be set on a copy of a slice from a DataFrame.\n",
            "Try using .loc[row_indexer,col_indexer] = value instead\n",
            "\n",
            "See the caveats in the documentation: https://pandas.pydata.org/pandas-docs/stable/user_guide/indexing.html#returning-a-view-versus-a-copy\n"
          ]
        }
      ]
    },
    {
      "cell_type": "code",
      "source": [
        ""
      ],
      "metadata": {
        "id": "vhHFUIsins5Q"
      },
      "execution_count": 18,
      "outputs": []
    },
    {
      "cell_type": "code",
      "source": [
        "# train test split on movie (when saving out csv file)"
      ],
      "metadata": {
        "id": "3GL3OrFciPf-"
      },
      "execution_count": 19,
      "outputs": []
    },
    {
      "cell_type": "markdown",
      "source": [
        "## Remove outlier from 210815_0__20220213T070259RAW_stimulus_data.csv"
      ],
      "metadata": {
        "id": "zerwqS6wOhVQ"
      }
    },
    {
      "cell_type": "code",
      "source": [
        "# #access the 11th roi in the first stack and drop all frames for that roi\n",
        "# raw_dfs['210815_0_20220308T134319RAW_stimulus_data.csv'] = raw_dfs['210815_0_20220308T134319RAW_stimulus_data.csv'].drop(raw_dfs['210815_0_20220308T134319RAW_stimulus_data.csv'].loc[1,:,11].index)\n",
        "# raw_dfs['210815_0_20220308T134319RAW_stimulus_data.csv']"
      ],
      "metadata": {
        "id": "bk_T3qmHOdIy"
      },
      "execution_count": 20,
      "outputs": []
    },
    {
      "cell_type": "markdown",
      "source": [
        "## Save out DF's with train/test labels"
      ],
      "metadata": {
        "id": "qqoIbB-IB9R5"
      }
    },
    {
      "cell_type": "code",
      "source": [
        "# # SET THESE VALUES EACH TIME\n",
        "\n",
        "# folder_name = '5_frames_stim1' # create a new folder name for saving out these files (make sure this folder already exists)\n",
        "# num_train = 3\n",
        "# num_test = 2\n",
        "# num_val = 0"
      ],
      "metadata": {
        "id": "2EaBPZK_OdWx"
      },
      "execution_count": 21,
      "outputs": []
    },
    {
      "cell_type": "code",
      "source": [
        "# arr = np.array(['train'] * num_train + ['test'] * num_test + ['val'] * num_val)\n",
        "# np.random.shuffle(arr)\n",
        "\n",
        "# # save out each DF with a label indicating train, test or validation\n",
        "# for i, p in enumerate(raw_fnames):\n",
        "#   p_split = p.split('.')[-2] # chop off csv\n",
        "  \n",
        "#   raw_dfs[p].to_csv(root + folder_name + '/' + p_split + '_' + arr[i] + '.csv') #saves to new folder"
      ],
      "metadata": {
        "id": "gVBnXpj_CEVd"
      },
      "execution_count": 22,
      "outputs": []
    },
    {
      "cell_type": "code",
      "source": [
        "#skipped train/test because it was giving me trouble\n",
        "\n",
        "folder_name = '5_frames_stim1'\n",
        "\n",
        "for i, p in enumerate(raw_fnames):\n",
        "  p_split = p.split('.')[-2] # chop off csv\n",
        "  \n",
        "  raw_dfs[p].to_csv(root + folder_name + '/' + p_split + '_features.csv') #saves to new folder"
      ],
      "metadata": {
        "id": "_-vpKVhxlavR"
      },
      "execution_count": 23,
      "outputs": []
    },
    {
      "cell_type": "code",
      "source": [
        "listdir(root + folder_name)"
      ],
      "metadata": {
        "colab": {
          "base_uri": "https://localhost:8080/"
        },
        "id": "pMan_BoNCTwe",
        "outputId": "ee211b95-91f7-4786-f697-6ae8ed6acaa3"
      },
      "execution_count": 24,
      "outputs": [
        {
          "output_type": "execute_result",
          "data": {
            "text/plain": [
              "['210809_2_RAW_extracted_data_features.csv',\n",
              " '210728_0_RAW_extracted_data_features.csv',\n",
              " '210802_0_RAW_extracted_data_features.csv',\n",
              " '210808_0_RAW_extracted_data_features.csv',\n",
              " '210731_0_RAW_extracted_data_features.csv',\n",
              " '210815_1_RAW_extracted_data_features.csv',\n",
              " '210816_0_RAW_extracted_data_features.csv',\n",
              " '210815_0_RAW_extracted_data_features.csv',\n",
              " '210816_1_RAW_extracted_data_features.csv']"
            ]
          },
          "metadata": {},
          "execution_count": 24
        }
      ]
    },
    {
      "cell_type": "code",
      "source": [
        ""
      ],
      "metadata": {
        "id": "rMgXB8G8wzkW"
      },
      "execution_count": 24,
      "outputs": []
    }
  ]
}