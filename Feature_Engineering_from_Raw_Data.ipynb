{
  "nbformat": 4,
  "nbformat_minor": 0,
  "metadata": {
    "colab": {
      "name": "Feature Engineering from Raw Data 3-30.ipynb",
      "provenance": [],
      "collapsed_sections": [
        "cLK3FEAmKovv",
        "qqoIbB-IB9R5"
      ],
      "include_colab_link": true
    },
    "kernelspec": {
      "name": "python3",
      "display_name": "Python 3"
    },
    "language_info": {
      "name": "python"
    }
  },
  "cells": [
    {
      "cell_type": "markdown",
      "metadata": {
        "id": "view-in-github",
        "colab_type": "text"
      },
      "source": [
        "<a href=\"https://colab.research.google.com/github/laurenneal/capstone-visual-neuroscience/blob/main/Feature_Engineering_from_Raw_Data.ipynb\" target=\"_parent\"><img src=\"https://colab.research.google.com/assets/colab-badge.svg\" alt=\"Open In Colab\"/></a>"
      ]
    },
    {
      "cell_type": "code",
      "execution_count": 1,
      "metadata": {
        "colab": {
          "base_uri": "https://localhost:8080/"
        },
        "id": "CDZJTIMTOPPT",
        "outputId": "211c01d3-4272-42a8-860b-f15d00f0bbc7"
      },
      "outputs": [
        {
          "output_type": "stream",
          "name": "stdout",
          "text": [
            "Mounted at /content/drive\n"
          ]
        }
      ],
      "source": [
        "import pandas as pd\n",
        "import numpy as np\n",
        "import sys\n",
        "from numpy.ma.core import ceil, floor\n",
        "from more_itertools import sliced\n",
        "\n",
        "from google.colab import drive\n",
        "drive.mount('/content/drive')"
      ]
    },
    {
      "cell_type": "markdown",
      "source": [
        "# FUNCTIONS (Just for setting up functions, not running code)\n",
        "This section contains functions that can be used on datasets for feature engineering"
      ],
      "metadata": {
        "id": "b1kIi8a_KUi-"
      }
    },
    {
      "cell_type": "markdown",
      "source": [
        "## Train Test Split on Stacks"
      ],
      "metadata": {
        "id": "cLK3FEAmKovv"
      }
    },
    {
      "cell_type": "code",
      "source": [
        "# def trainTestSplit(df, splt = [.7,.2,.1]):\n",
        "#   # splits on roi, rois accross stacks will have the same group (important if stacks are from the same video)\n",
        "#   # split is the train test valuidation split (proportions given in that order)\n",
        "#   if sum(splt) < 0.9999 or sum(splt) > 1.0001:\n",
        "#     sys.exit('Splt must add to 1')\n",
        "  \n",
        "#   num_rois = len(df.index.unique(level='roi'))\n",
        "\n",
        "#   tr_ind = int(ceil(num_rois*splt[0]))\n",
        "#   ts_ind = int(ceil(num_rois*splt[1])) + tr_ind\n",
        "\n",
        "#   ar = np.arange(num_rois)\n",
        "#   np.random.shuffle(ar)\n",
        "#   ar = ar+1 # roi id's start from 1\n",
        "\n",
        "#   train = ar[:tr_ind]\n",
        "#   test = ar[tr_ind:ts_ind]\n",
        "#   val = ar[ts_ind:]\n",
        "\n",
        "#   for i in train:\n",
        "#     df.loc[pd.IndexSlice[:, :, i],'training'] = 'train'\n",
        "\n",
        "#   for i in test:\n",
        "#     df.loc[pd.IndexSlice[:, :, i],'training'] = 'test'\n",
        "\n",
        "#   for i in val:\n",
        "#     df.loc[pd.IndexSlice[:, :, i],'training'] = 'validate'\n",
        "\n",
        "#   return(df)"
      ],
      "metadata": {
        "id": "foYVriIPRYli"
      },
      "execution_count": 2,
      "outputs": []
    },
    {
      "cell_type": "markdown",
      "source": [
        "## Combine Frames into Temporal Chunks - NOT Working"
      ],
      "metadata": {
        "id": "RzyBYX0KLCpI"
      }
    },
    {
      "cell_type": "code",
      "source": [
        "# # select frame size\n",
        "# temporal_period_length = 200"
      ],
      "metadata": {
        "id": "4dMJP8dmLDEj"
      },
      "execution_count": 3,
      "outputs": []
    },
    {
      "cell_type": "code",
      "source": [
        "\n",
        "# def groupFrames(df, period):\n",
        "#   # inputs are data frame and temporal period length\n",
        "#   # df needs to be sorted correctly, the indexing should take care of that\n",
        "\n",
        "#   # check that all rois are the same size\n",
        "#   # if this is a problem we can write a more computationally heavy workthrough\n",
        "#   if (raw_df.groupby(['stack','roi']).count()['filename'].max() != raw_df.groupby(['stack','roi']).count()['filename'].min()):\n",
        "#     sys.exit('ROIs need to be the same length')\n",
        "\n",
        "#   num_stacks = len(df.index.unique(level='stack'))\n",
        "#   num_roi = len(df.index.unique(level='roi'))\n",
        "\n",
        "#   # get first label\n",
        "#   lbl_1 = raw_df.head(1).index.values[0][1]\n",
        "#   # use it to find the number of frames in a roi\n",
        "#   num_frames = raw_df.loc[(1,lbl_1,1),'filename'].count()\n",
        "#   # how many groups will ther be in each roi?\n",
        "#   num_pds = int(floor(num_frames/period))\n",
        "#   # how many left over\n",
        "#   remainder_pds = num_frames%period\n",
        "\n",
        "#   # iterate a column for one roi\n",
        "#   lst = [[li + 1] * period for li in range(0,num_pds)]\n",
        "#   lst = [li for sublist in lst for li in sublist] # https://stackoverflow.com/questions/952914/how-to-make-a-flat-list-out-of-a-list-of-lists\n",
        "#   lst = lst + [lst[-1] + 1] * remainder_pds\n",
        "#   lst\n",
        "\n",
        "#   new_col = np.array(lst * num_stacks * num_roi)\n",
        "  \n",
        "#   df['frame_group'] = new_col\n",
        "\n",
        "#   return(df)"
      ],
      "metadata": {
        "id": "7BN3_vTzmOON"
      },
      "execution_count": 4,
      "outputs": []
    },
    {
      "cell_type": "code",
      "source": [
        "def groupFrames(df_in, period):\n",
        "  \n",
        "  # inputs are data frame and number of periods per stack\n",
        "  df = df_in.copy()\n",
        "\n",
        "  df = df.reset_index()\n",
        "  # set a unique id for each roi stack combo\n",
        "  df['long_id'] = df['movie_ID'] + '+' + df['stack'].astype('str') + '+' + df['roi'].astype('str')\n",
        "  df = df.set_index('long_id')\n",
        "  long_ids = df.index.unique()\n",
        "\n",
        "  # for each unique roi we calculate a grouping index\n",
        "  new_col = []\n",
        "  for id in long_ids:\n",
        "    # number of rows for each unique id\n",
        "    num_rows = df.loc[id].shape[0]\n",
        "    \n",
        "    # how many frames per division to split the roi into number of periods\n",
        "    frm_pd = int(floor(num_rows/period))\n",
        "\n",
        "    # iterate a column for one roi\n",
        "    lst = [[li + 1] * frm_pd for li in range(0,period)]\n",
        "    lst = [li for sublist in lst for li in sublist] # https://stackoverflow.com/questions/952914/how-to-make-a-flat-list-out-of-a-list-of-lists\n",
        "\n",
        "    if len(lst) > num_rows:\n",
        "      lst = lst[:num_rows] # remove some on the back if needed\n",
        "    elif len(lst) < num_rows:\n",
        "      lst = lst + [lst[-1]] * (num_rows - len(lst)) # add a few extra on the end if needed\n",
        "\n",
        "    # checks to make sure the list has the correct number of rows\n",
        "    if len(lst) != num_rows:\n",
        "      sys.exit('Error 1: Somethings wrong with this code')\n",
        "\n",
        "    new_col += lst\n",
        "\n",
        "  # new col length should match the column length\n",
        "  if len(new_col) != df.shape[0]:\n",
        "    sys.exit('Error 2: Somethings wrong with this code')\n",
        "\n",
        "  df['frame_group'] = new_col\n",
        "\n",
        "  df = df.reset_index().drop(columns = 'long_id')\n",
        "\n",
        "  return(df)"
      ],
      "metadata": {
        "id": "ocoJJkmMu7Ub"
      },
      "execution_count": 5,
      "outputs": []
    },
    {
      "cell_type": "markdown",
      "source": [
        "## Stim 1 feature engineering"
      ],
      "metadata": {
        "id": "32ydyYzQSY4r"
      }
    },
    {
      "cell_type": "markdown",
      "source": [
        "For 16-len vector"
      ],
      "metadata": {
        "id": "X6pRZEmd5QhA"
      }
    },
    {
      "cell_type": "code",
      "source": [
        "from operator import setitem\n",
        "def stimResponse(df, stim, response, zero_point = 0):\n",
        "  \"\"\"\n",
        "  Takes a df, the name of the col holding the stimulus, the name of the col holding the response, and the value to use as the zero point\n",
        "\n",
        "  Returns the df with the relationship type and the relation value added\n",
        "\n",
        "  A different function will calculate the relationship between time periods\n",
        "  \"\"\"\n",
        "\n",
        "\n",
        "  # takes a stim column and response column and returns two new feature column\n",
        "  # PR is Positive Response\n",
        "  # NR is Negative Response\n",
        "  # PS is Positive Stimulus\n",
        "  # NS is Negative Stimulus\n",
        "  df_in = df.copy()\n",
        "  #\n",
        "  PR = df_in[response] > zero_point\n",
        "  NR = df_in[response] <= zero_point\n",
        "  PS = df_in[stim] > zero_point\n",
        "  NS = df_in[stim] <= zero_point\n",
        "\n",
        "  PR = PR.rename('PR')\n",
        "  NR = NR.rename('NR')\n",
        "  PS = PS.rename('PS')\n",
        "  NS = NS.rename('NS')\n",
        "\n",
        "  # combine into df\n",
        "  df = pd.concat([df_in[stim], df_in[response], PR,NR,PS,NS], axis=1)\n",
        "  #set the data types back to boolean\n",
        "  df = df.astype({'PR': bool,\n",
        "                'PS': bool,\n",
        "                'NR': bool,\n",
        "                'PR': bool})\n",
        "\n",
        "  # get min and max values for normalizing\n",
        "  S_min = df[stim].min()\n",
        "  S_max = df[stim].max()\n",
        "  R_min = df[response].min()\n",
        "  R_max = df[response].max()\n",
        "\n",
        "  #add a column normalizing the stim and response\n",
        "  df['stim_norm'] = df[stim].apply(lambda x: x/S_max if x>0 else x/S_min)\n",
        "  df['resp_norm'] = df[response].apply(lambda x: x/R_max if x>0 else x/R_min)\n",
        "\n",
        "\n",
        "  # multiply stim and resp\n",
        "  df['relation'] = df['stim_norm'] * df['resp_norm']\n",
        "\n",
        "  #Set a new column with the category each row's relationship falls under\n",
        "  df.loc[(df['PR'] & df['PS']),'relation_type'] = 'PRPS'\n",
        "  df.loc[(df['NR'] & df['NS']),'relation_type'] = 'NRNS'\n",
        "  df.loc[(df['PR'] & df['NS']),'relation_type'] = 'PRNS'\n",
        "  df.loc[(df['NR'] & df['PS']),'relation_type'] = 'NRPS'\n",
        "  \n",
        "  df_in['relation_type_' + stim] = df['relation_type']\n",
        "  df_in['relation_' + stim] = df['relation']\n",
        "  return(df_in)"
      ],
      "metadata": {
        "id": "G04RabveFWZE"
      },
      "execution_count": 6,
      "outputs": []
    },
    {
      "cell_type": "code",
      "source": [
        "def get_future_stim_and_relationship(df_in, stim, time_window): \n",
        "  \"\"\"\n",
        "  takes a df, the stimulus name we're comparing, and the time window we're looking to in the future (in frames)\n",
        "\n",
        "  returns a new df with two extra columns containing the relationship type and the value at the future time period\n",
        "  \"\"\"\n",
        "\n",
        "  #make copy of the df to avoid editing the one in memory\n",
        "  df = df_in.copy()\n",
        "\n",
        "  #procedurally generate the column names we need to reference\n",
        "  current_relation_colname = 'relation_'+stim\n",
        "  current_relation_type_colname = 'relation_type_'+stim\n",
        "\n",
        "  #and the column names we're creating\n",
        "  future_relation_colname = 'relation_'+stim+'_+'+str(time_window)\n",
        "  future_relation_type_colname = 'relation_type_'+stim+'_+'+str(time_window)\n",
        "\n",
        "  #reset the index so that we can join the new columns later\n",
        "  df = df.reset_index()\n",
        "\n",
        "\n",
        "  # for each of the new columns, do four steps\n",
        "\n",
        "  #get the existing array of relation values or relation types\n",
        "\n",
        "  #cut off the first x values, where x is the time window we want to look in the future (done by indexing [time_window:])\n",
        "        #this will drop the time x values in the future to line up with the current time\n",
        "\n",
        "  #pad the end of the array with zeros by the same number of values so that the lengths still match (done by concatenating with np.zeros(time_window))\n",
        "\n",
        "  #set the new array as the new 'future' column\n",
        "  df[future_relation_colname] = pd.concat([df[current_relation_colname] \\\n",
        "                                           .reset_index(drop=True)[time_window:], \\\n",
        "                                           pd.Series((np.zeros(time_window)))], ignore_index = True)\n",
        "  \n",
        "  #repeat for the relation type\n",
        "  df[future_relation_type_colname] = pd.concat([df[current_relation_type_colname] \\\n",
        "                                           .reset_index(drop=True)[time_window:], \\\n",
        "                                           pd.Series((np.zeros(time_window)))], ignore_index = True)\n",
        "\n",
        "  #need to stop the end of one stack from referencing the beginning of another\n",
        "\n",
        "  #get the index of any row where the frame # is high enough that x-frames in the future would run into another stack\n",
        "  #by checking that the frame number is greater than the max frame number - (time window-1) (corrects for index number)\n",
        "  end_of_stack_index = df.loc[df['frame'] >= max(df['frame'])-(time_window)].index\n",
        "\n",
        "  #use .loc to set the two new columns to None for those rows\n",
        "  df.loc[end_of_stack_index, future_relation_colname] = None\n",
        "  df.loc[end_of_stack_index, future_relation_type_colname] = None\n",
        "\n",
        "  #set the index back to the way it was\n",
        "  df = df.set_index(['stack','label','roi','frame'])\n",
        "\n",
        "  return df"
      ],
      "metadata": {
        "id": "ZtetR5-T0Dh6"
      },
      "execution_count": 7,
      "outputs": []
    },
    {
      "cell_type": "code",
      "source": [
        "def current_future_relationship(df, stim, time_window):\n",
        "  \"\"\"\n",
        "  Takes df with a column for stim and a column for stim + a given time window. Returns the relationship.\n",
        "  \"\"\"\n",
        "  # column names for current row\n",
        "  current_relation_colname = 'relation_'+stim\n",
        "  current_relation_type_colname = 'relation_type_'+stim\n",
        "\n",
        "  # column names for rows in the future\n",
        "  future_relation_colname = 'relation_'+stim+'_+'+str(time_window)\n",
        "  future_relation_type_colname = 'relation_type_'+stim+'_+'+str(time_window)\n",
        "\n",
        "  #with this approach, we need to drop the last x frames from each stack, so dropna\n",
        "  df = df.dropna()\n",
        "\n",
        "  #make a new column with the combo of current relation type and future relation type\n",
        "  df['full_relation_type'] = df[current_relation_type_colname] + '-' + df[future_relation_type_colname]\n",
        "\n",
        "  #one-hot encode the overall relationship, then multiply the new columns by the product of the relation values\n",
        "  df = pd.get_dummies(df, columns=['full_relation_type'], prefix = current_relation_colname)\n",
        "\n",
        "  #get a list of the columns created\n",
        "  dummy_cols = [col for col in df.columns if current_relation_colname in col]\n",
        "\n",
        "  #multiply the dummy columns by the relation value to distribute the value to the appropriate column\n",
        "  for col in dummy_cols:\n",
        "    df[col] = df[col] * (df[current_relation_colname]*df[future_relation_colname])\n",
        "\n",
        "  return df"
      ],
      "metadata": {
        "id": "ol0nFdsgPSzd"
      },
      "execution_count": 8,
      "outputs": []
    },
    {
      "cell_type": "code",
      "source": [
        "#for ease of use, package all four functions along with the dropna into one function for use later\n",
        "\n",
        "def contrast_16_len_representation(df_in, stim, response, time_window, zero_point = 0):\n",
        "  \"\"\"\n",
        "  helper function to run all of the stim1 functions that create the 16-length representation\n",
        "\n",
        "  takes the df, stim name, response column name, time period to look in the future, and the zero point to compare positive and negative\n",
        "  \"\"\"\n",
        "\n",
        "  df = df_in.copy()\n",
        "\n",
        "  #get the current stim and response relationship\n",
        "  df = stimResponse(df, stim, response, zero_point)\n",
        "  #get the future stim and response relationship\n",
        "  df = get_future_stim_and_relationship(df, stim, time_window)\n",
        "  #get the relationship b/w the current and future stim/response columns\n",
        "  df = current_future_relationship(df, stim, time_window)\n",
        "\n",
        "  return df"
      ],
      "metadata": {
        "id": "Eztnd-HV5Tee"
      },
      "execution_count": 9,
      "outputs": []
    },
    {
      "cell_type": "markdown",
      "source": [
        "4-len representation (assumes we will drop all negative response"
      ],
      "metadata": {
        "id": "4Yfp_8QP7Mky"
      }
    },
    {
      "cell_type": "code",
      "source": [
        "from operator import setitem\n",
        "def contrast_4_len_representation(df, stim, response, time_window, zero_point = 0):\n",
        "  \"\"\"\n",
        "  Takes a df, the name of the col holding the stimulus, the name of the col holding the response, and the value to use as the zero point\n",
        "\n",
        "  Returns the df with four extra columns holding the normalized response * stim1 for the four possible relationships\n",
        "\n",
        "  the sign of the response is ignored because all frames with negative response will be dropped\n",
        "  \"\"\"\n",
        "\n",
        "\n",
        "  # takes a stim column and returns two new feature column\n",
        "  # PS is Positive Stimulus\n",
        "  # NS is Negative Stimulus\n",
        "  df_in = df.copy()\n",
        "\n",
        "  #\n",
        "  PS = df_in[stim] > zero_point\n",
        "  NS = df_in[stim] <= zero_point\n",
        "\n",
        "  PS = PS.rename('PS')\n",
        "  NS = NS.rename('NS')\n",
        "\n",
        "  # combine into df\n",
        "  df = pd.concat([df_in[stim], df_in[response], PS,NS], axis=1)\n",
        "  #set the data types back to boolean\n",
        "  df = df.astype({'NS': bool,\n",
        "                  'PS': bool})\n",
        "\n",
        "  # get min and max values for normalizing\n",
        "  S_min = df[stim].min()\n",
        "  S_max = df[stim].max()\n",
        "  R_min = df[response].min()\n",
        "  R_max = df[response].max()\n",
        "\n",
        "  #add a column normalizing the stim and response\n",
        "  df['stim_norm'] = df[stim].apply(lambda x: x/S_max if x>0 else x/S_min)\n",
        "  df['resp_norm'] = df[response].apply(lambda x: x/R_max if x>0 else x/R_min)\n",
        "\n",
        "\n",
        "  # multiply stim and resp\n",
        "  df['relation'] = df['stim_norm'] * df['resp_norm']\n",
        "\n",
        "  #Set a new column with the category each row's relationship falls under\n",
        "  df.loc[(df['PS']),'relation_type'] = 'PS'\n",
        "  df.loc[(df['NS']),'relation_type'] = 'NS'\n",
        "  \n",
        "  df_in['relation_type_' + stim] = df['relation_type']\n",
        "  df_in['relation_' + stim] = df['relation']\n",
        "\n",
        "  df_in = get_future_stim_and_relationship(df_in, stim, time_window)\n",
        "  df_in = df_in.dropna()\n",
        "\n",
        "  df_in = current_future_relationship(df_in, stim, time_window)\n",
        "\n",
        "  return(df_in)"
      ],
      "metadata": {
        "id": "H7hrm-_B7SJy"
      },
      "execution_count": 10,
      "outputs": []
    },
    {
      "cell_type": "markdown",
      "source": [
        "# Stim 2, 3, and 5 feature engineering"
      ],
      "metadata": {
        "id": "JRp2nadstgVF"
      }
    },
    {
      "cell_type": "code",
      "source": [
        "# def directional_stim_categories(df, stim, response):\n",
        "#   \"\"\"\n",
        "#   DEPRECATED - this was for when the direction was a single attribute of the degree of motion\n",
        "\n",
        "\n",
        "#   Takes a df, the name of the col holding the direction of motion stimululi, the name of the col holding the response\n",
        "#   Returns the df with the stim broken out into five cols based on direction of motion\n",
        "\n",
        "#   A different function will calculate the relationship between response and direction\n",
        "#   \"\"\"\n",
        "\n",
        "\n",
        "#   # add a column that categorizes the direction into four quadrants (segments can be changed)\n",
        "#   df_in = df.copy()\n",
        "\n",
        "#   #set conditions checking the direction of the stimulus - there has to be a better way but this is it for now\n",
        "#   conditions = [\n",
        "#     ((-45 <= df_in[stim]) & (df_in[stim] < 0)), #northwest\n",
        "#     ((0 < df_in[stim]) & (df_in[stim] < 45)), #northeast\n",
        "#     ((45 <= df_in[stim]) & (df_in[stim] < 135)), #east\n",
        "#     ((135 <= df_in[stim]) & (df_in[stim] <= 180)),#southeast\n",
        "#     ((-180 <= df_in[stim]) & (df_in[stim] < -135)), #southwest\n",
        "#     ((-135 <= df_in[stim]) & (df_in[stim] < -45)), #west\n",
        "#     (df_in[stim] == 0) #no movement\n",
        "#     ]\n",
        "\n",
        "#   #set the names we assign to those conditions\n",
        "#   values = ['up', 'up', 'right', 'down', 'down', 'left', 'no_motion']\n",
        "\n",
        "#   #add a column to the df holding the direction category\n",
        "#   df['direction'] = np.select(conditions, values)\n",
        "\n",
        "#   #one-hot encode the quadrants\n",
        "#   df = pd.get_dummies(df, columns=['direction'], prefix = 'direction')\n",
        "\n",
        "#   #get the names of the 4 direction columns we just added\n",
        "#   direction_cols = [col for col in df.columns if 'direction' in col]\n",
        "\n",
        "\n",
        "#   return(df)"
      ],
      "metadata": {
        "id": "IRU6zRfFMZbL"
      },
      "execution_count": 11,
      "outputs": []
    },
    {
      "cell_type": "code",
      "source": [
        "def direction_orientation_stim_features(df, stim_x, stim_y, stim_orientation, response):\n",
        "  \"\"\"\n",
        "  DEPRECATED - this was for when the direction was a single attribute of the degree of motion\n",
        "\n",
        "\n",
        "  Takes a df, the name of the col holding the direction of motion stimululi (x and y), the name of the col holding the response\n",
        "  Returns the df with two three extra columns holding the resp*stim for each feature\n",
        "\n",
        "  \"\"\"\n",
        "\n",
        "\n",
        "  df_in = df.copy()\n",
        "\n",
        "\n",
        "  #multiply the response by the three directional features\n",
        "  df['stim2_feature'] = df[response] * df[stim_x]\n",
        "\n",
        "  df['stim3_feature'] = df[response] * df[stim_y]\n",
        "\n",
        "  df['stim5_feature'] = df[response] * df[stim_orientation]\n",
        "\n",
        "\n",
        "  return(df)"
      ],
      "metadata": {
        "id": "LQzuaMgI-7Gh"
      },
      "execution_count": 12,
      "outputs": []
    },
    {
      "cell_type": "markdown",
      "source": [
        "# Stim 4, 7, and 8 feature engineering"
      ],
      "metadata": {
        "id": "yCPciP839ikI"
      }
    },
    {
      "cell_type": "code",
      "source": [
        "def speed_freq_Response(df, stim_speed, stim_spatial, stim_temp, response):\n",
        "  \"\"\"\n",
        "  Takes a df, the name of the col holding speed stimulus values, the name of the col containing spatial frequency,\n",
        "              the name of the col holding temporal frequency, & the name of the col holding the response\n",
        "\n",
        "  Returns the df with three extra columns holding the resp*stim for each feature\n",
        "\n",
        "  \"\"\"\n",
        "\n",
        "\n",
        "  df_in = df.copy()\n",
        "\n",
        "\n",
        "  #multiply the response by the three directional features\n",
        "  df['stim4_feature'] = df[response] * df[stim_speed]\n",
        "\n",
        "  df['stim7_feature'] = df[response] * df[stim_spatial]\n",
        "\n",
        "  df['stim8_feature'] = df[response] * df[stim_temp]\n",
        "\n",
        "  return(df)"
      ],
      "metadata": {
        "id": "ptKKRotR4Wdn"
      },
      "execution_count": 13,
      "outputs": []
    },
    {
      "cell_type": "code",
      "source": [
        ""
      ],
      "metadata": {
        "id": "2rIxY87X3pMA"
      },
      "execution_count": null,
      "outputs": []
    },
    {
      "cell_type": "code",
      "source": [
        "## direction_orientation_stim_features(raw_dfs[raw_fnames[0]], 'stim2', 'stim3', 'stim5', 'resp')"
      ],
      "metadata": {
        "id": "VNdPIrz0_QwZ"
      },
      "execution_count": null,
      "outputs": []
    },
    {
      "cell_type": "markdown",
      "source": [
        "# RUN FUNCTIONS ON DATA"
      ],
      "metadata": {
        "id": "MwzX6MpHRWC6"
      }
    },
    {
      "cell_type": "code",
      "source": [
        "# get all raw DF's\n",
        "from os import listdir\n",
        "root = 'drive/MyDrive/DS6011_Capstone_VisualNeuroscience/Seeded_CNMF/Extracted_Features/'\n",
        "raw_fnames = listdir(root + 'pre-feature extract/')\n",
        "raw_fnames = [x for x in raw_fnames if 'RAW_extracted_data' in x]\n",
        "raw_fnames"
      ],
      "metadata": {
        "id": "S840FeKCd2xT"
      },
      "execution_count": null,
      "outputs": []
    },
    {
      "cell_type": "code",
      "source": [
        "# Dictionary of df's. One for each video. You can call each df my name\n",
        "raw_dfs = {}\n",
        "for p in raw_fnames:\n",
        "  df = pd.read_csv(root + 'pre-feature extract/' + p, index_col=['stack','label','roi','frame'])\n",
        "  if 'Unnamed: 0' in df.columns:\n",
        "    df = df.drop(columns='Unnamed: 0')\n",
        "  raw_dfs[p] = df\n",
        "raw_dfs[raw_fnames[0]]"
      ],
      "metadata": {
        "id": "j8RW20zugbMJ"
      },
      "execution_count": null,
      "outputs": []
    },
    {
      "cell_type": "code",
      "source": [
        "raw_dfs[raw_fnames[1]]"
      ],
      "metadata": {
        "id": "W3IjLrOwQiim"
      },
      "execution_count": null,
      "outputs": []
    },
    {
      "cell_type": "code",
      "source": [
        "raw_dfs.keys()"
      ],
      "metadata": {
        "id": "tTp7IHuRhqJ1"
      },
      "execution_count": null,
      "outputs": []
    },
    {
      "cell_type": "markdown",
      "source": [
        "## For each df, run through pipeline"
      ],
      "metadata": {
        "id": "UTWI7mX-iQoW"
      }
    },
    {
      "cell_type": "code",
      "source": [
        "#Set parameters here\n",
        "\n",
        "response = 'resp'\n",
        "time_window = 5\n",
        "\n",
        "#declare if we're chunking the stacks into smaller segments\n",
        "chunk_stacks = True\n",
        "#if we are, declare how many chunks we're breaking each stack into\n",
        "periods_per_stack = 10\n",
        "\n",
        "#declare if we're only keeping positive response values or if we're using all\n",
        "#if we're removing them, we get the 4-length stim1 feature, otherwise it's the 16-length stim1\n",
        "only_keep_positive_resp = True\n",
        "\n",
        "\n",
        "\n",
        "#loop through the different movies' df's and run the feature extraction functions on each\n",
        "for p in raw_fnames:\n",
        "  df = raw_dfs[p]\n",
        "\n",
        "  #extract directional and orientation features\n",
        "  df = direction_orientation_stim_features(df, stim_x = 'stim2', stim_y = 'stim3', stim_orientation = 'stim5', response = response)\n",
        "\n",
        "\n",
        "\n",
        "  #ADD OTHER FEATURE EXTRACTION FUNCTIONS HERE before the contrast ones remove some rows and potentially throw things off\n",
        "\n",
        "  #extract speed and frequency features\n",
        "  df = speed_freq_Response(df, stim_speed = 'stim4', stim_spatial = 'stim7', stim_temp = 'stim8', response = response)\n",
        "\n",
        "\n",
        "\n",
        "  #check if we're keeping negative response, then process the two contrast stimuli with whatever the choice is\n",
        "  #each of these approaches will remove the final x frames from each stack, where x is the time_window declared above\n",
        "  if only_keep_positive_resp == True:\n",
        "    df = contrast_4_len_representation(df, 'stim1', response, time_window, zero_point = 0)\n",
        "    df = contrast_4_len_representation(df, 'stim6', response, time_window, zero_point = 0)\n",
        "    #remove the last frames in each stack that didn't have a future frame to look into\n",
        "    df = df.dropna()\n",
        "  else:\n",
        "    df = contrast_16_len_representation(df, 'stim1', response, time_window, zero_point = 0)\n",
        "    df = contrast_16_len_representation(df, 'stim6', response, time_window, zero_point = 0)\n",
        "    #remove the last frames in each stack that didn't have a future frame to look into\n",
        "    df = df.dropna()\n",
        "\n",
        "  #if we're removing negative response frames, remove them here\n",
        "  if only_keep_positive_resp == True:\n",
        "    df = df.loc[df['resp'] > 0]\n",
        "\n",
        "\n",
        "  #if we're chunking stacks into smaller segments, run groupFrames to assign frames to a group\n",
        "  if chunk_stacks == True:\n",
        "    df = groupFrames(df, periods_per_stack)\n",
        "\n",
        "  \n",
        "  raw_dfs[p] = df"
      ],
      "metadata": {
        "id": "rklpErfgiO57"
      },
      "execution_count": null,
      "outputs": []
    },
    {
      "cell_type": "code",
      "source": [
        "#look at one of the df's to see if all the columns are there\n",
        "print(raw_dfs[raw_fnames[0]].columns)\n",
        "raw_dfs[raw_fnames[0]]"
      ],
      "metadata": {
        "id": "vhHFUIsins5Q"
      },
      "execution_count": null,
      "outputs": []
    },
    {
      "cell_type": "markdown",
      "source": [
        "## assign DF's with train/test labels"
      ],
      "metadata": {
        "id": "qqoIbB-IB9R5"
      }
    },
    {
      "cell_type": "code",
      "source": [
        "# # SET THESE VALUES EACH TIME\n",
        "\n",
        "# folder_name = '5_frames_stim1' # create a new folder name for saving out these files (make sure this folder already exists)\n",
        "# num_train = 3\n",
        "# num_test = 2\n",
        "# num_val = 0"
      ],
      "metadata": {
        "id": "2EaBPZK_OdWx"
      },
      "execution_count": null,
      "outputs": []
    },
    {
      "cell_type": "code",
      "source": [
        "# arr = np.array(['train'] * num_train + ['test'] * num_test + ['val'] * num_val)\n",
        "# np.random.shuffle(arr)\n",
        "\n",
        "# # save out each DF with a label indicating train, test or validation\n",
        "# for i, p in enumerate(raw_fnames):\n",
        "#   p_split = p.split('.')[-2] # chop off csv\n",
        "  \n",
        "#   raw_dfs[p].to_csv(root + folder_name + '/' + p_split + '_' + arr[i] + '.csv') #saves to new folder"
      ],
      "metadata": {
        "id": "gVBnXpj_CEVd"
      },
      "execution_count": null,
      "outputs": []
    },
    {
      "cell_type": "markdown",
      "source": [
        "## Save data - assign the folder manually, probably label the csv's based on the settings we used"
      ],
      "metadata": {
        "id": "yaqk40qWBsEw"
      }
    },
    {
      "cell_type": "code",
      "source": [
        "#skipped train/test because it was giving me trouble\n",
        "\n",
        "folder_name = '5_frames_stim1'\n",
        "\n",
        "for i, p in enumerate(raw_fnames):\n",
        "  p_split = p.split('.')[-2] # chop off csv\n",
        "  \n",
        "  raw_dfs[p].to_csv(root + folder_name + '/' + p_split + '_features.csv') #saves to new folder"
      ],
      "metadata": {
        "id": "_-vpKVhxlavR"
      },
      "execution_count": null,
      "outputs": []
    },
    {
      "cell_type": "code",
      "source": [
        "listdir(root + folder_name)"
      ],
      "metadata": {
        "id": "pMan_BoNCTwe"
      },
      "execution_count": null,
      "outputs": []
    }
  ]
}