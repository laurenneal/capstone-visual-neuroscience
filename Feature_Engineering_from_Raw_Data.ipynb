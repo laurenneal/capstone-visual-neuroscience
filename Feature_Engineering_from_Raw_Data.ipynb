{
  "nbformat": 4,
  "nbformat_minor": 0,
  "metadata": {
    "colab": {
      "name": "Feature Engineering from Raw Data 3-6.ipynb",
      "provenance": [],
      "collapsed_sections": [],
      "include_colab_link": true
    },
    "kernelspec": {
      "name": "python3",
      "display_name": "Python 3"
    },
    "language_info": {
      "name": "python"
    }
  },
  "cells": [
    {
      "cell_type": "markdown",
      "metadata": {
        "id": "view-in-github",
        "colab_type": "text"
      },
      "source": [
        "<a href=\"https://colab.research.google.com/github/laurenneal/capstone-visual-neuroscience/blob/main/Feature_Engineering_from_Raw_Data.ipynb\" target=\"_parent\"><img src=\"https://colab.research.google.com/assets/colab-badge.svg\" alt=\"Open In Colab\"/></a>"
      ]
    },
    {
      "cell_type": "code",
      "execution_count": 21,
      "metadata": {
        "colab": {
          "base_uri": "https://localhost:8080/"
        },
        "id": "CDZJTIMTOPPT",
        "outputId": "2fa1bc34-2f1a-4282-8941-4b1e2d097fbd"
      },
      "outputs": [
        {
          "output_type": "stream",
          "name": "stdout",
          "text": [
            "Drive already mounted at /content/drive; to attempt to forcibly remount, call drive.mount(\"/content/drive\", force_remount=True).\n"
          ]
        }
      ],
      "source": [
        "import pandas as pd\n",
        "import numpy as np\n",
        "import sys\n",
        "from numpy.ma.core import ceil, floor\n",
        "from more_itertools import sliced\n",
        "\n",
        "from google.colab import drive\n",
        "drive.mount('/content/drive')"
      ]
    },
    {
      "cell_type": "markdown",
      "source": [
        "# FUNCTIONS (Just for setting up functions, not running code)\n",
        "This section contains functions that can be used on datasets for feature engineering"
      ],
      "metadata": {
        "id": "b1kIi8a_KUi-"
      }
    },
    {
      "cell_type": "markdown",
      "source": [
        "## Train Test Split on Stacks"
      ],
      "metadata": {
        "id": "cLK3FEAmKovv"
      }
    },
    {
      "cell_type": "code",
      "source": [
        "def trainTestSplit(df, splt = [.7,.2,.1]):\n",
        "  # splits on roi, rois accross stacks will have the same group (important if stacks are from the same video)\n",
        "  # split is the train test valuidation split (proportions given in that order)\n",
        "  if sum(splt) < 0.9999 or sum(splt) > 1.0001:\n",
        "    sys.exit('Splt must add to 1')\n",
        "  \n",
        "  num_rois = len(df.index.unique(level='roi'))\n",
        "\n",
        "  tr_ind = int(ceil(num_rois*splt[0]))\n",
        "  ts_ind = int(ceil(num_rois*splt[1])) + tr_ind\n",
        "\n",
        "  ar = np.arange(num_rois)\n",
        "  np.random.shuffle(ar)\n",
        "  ar = ar+1 # roi id's start from 1\n",
        "\n",
        "  train = ar[:tr_ind]\n",
        "  test = ar[tr_ind:ts_ind]\n",
        "  val = ar[ts_ind:]\n",
        "\n",
        "  for i in train:\n",
        "    df.loc[pd.IndexSlice[:, :, i],'training'] = 'train'\n",
        "\n",
        "  for i in test:\n",
        "    df.loc[pd.IndexSlice[:, :, i],'training'] = 'test'\n",
        "\n",
        "  for i in val:\n",
        "    df.loc[pd.IndexSlice[:, :, i],'training'] = 'validate'\n",
        "\n",
        "  return(df)"
      ],
      "metadata": {
        "id": "foYVriIPRYli"
      },
      "execution_count": 22,
      "outputs": []
    },
    {
      "cell_type": "code",
      "source": [
        "# # df_temp = trainTestSplit(raw_df,splt=[.5,.3,.3]) # should give error\n",
        "# df_temp = trainTestSplit(raw_df,splt=[.5,.3,.2]) # need to pull in sample data\n",
        "# df_temp.sample(15)"
      ],
      "metadata": {
        "id": "JBllNDq8UVEv"
      },
      "execution_count": 23,
      "outputs": []
    },
    {
      "cell_type": "markdown",
      "source": [
        "## Combine Frames into Temporal Chunks - NOT Working"
      ],
      "metadata": {
        "id": "RzyBYX0KLCpI"
      }
    },
    {
      "cell_type": "code",
      "source": [
        "# select frame size\n",
        "temporal_period_length = 200"
      ],
      "metadata": {
        "id": "4dMJP8dmLDEj"
      },
      "execution_count": 24,
      "outputs": []
    },
    {
      "cell_type": "code",
      "source": [
        "\n",
        "def groupFrames(df, period):\n",
        "  # inputs are data frame and temporal period length\n",
        "  # df needs to be sorted correctly, the indexing should take care of that\n",
        "\n",
        "  # check that all rois are the same size\n",
        "  # if this is a problem we can write a more computationally heavy workthrough\n",
        "  if (raw_df.groupby(['stack','roi']).count()['filename'].max() != raw_df.groupby(['stack','roi']).count()['filename'].min()):\n",
        "    sys.exit('ROIs need to be the same length')\n",
        "\n",
        "  num_stacks = len(df.index.unique(level='stack'))\n",
        "  num_roi = len(df.index.unique(level='roi'))\n",
        "\n",
        "  # get first label\n",
        "  lbl_1 = raw_df.head(1).index.values[0][1]\n",
        "  # use it to find the number of frames in a roi\n",
        "  num_frames = raw_df.loc[(1,lbl_1,1),'filename'].count()\n",
        "  # how many groups will ther be in each roi?\n",
        "  num_pds = int(floor(num_frames/period))\n",
        "  # how many left over\n",
        "  remainder_pds = num_frames%period\n",
        "\n",
        "  # iterate a column for one roi\n",
        "  lst = [[li + 1] * period for li in range(0,num_pds)]\n",
        "  lst = [li for sublist in lst for li in sublist] # https://stackoverflow.com/questions/952914/how-to-make-a-flat-list-out-of-a-list-of-lists\n",
        "  lst = lst + [lst[-1] + 1] * remainder_pds\n",
        "  lst\n",
        "\n",
        "  new_col = np.array(lst * num_stacks * num_roi)\n",
        "  \n",
        "  df['frame_group'] = new_col\n",
        "\n",
        "  return(df)"
      ],
      "metadata": {
        "id": "7BN3_vTzmOON"
      },
      "execution_count": 25,
      "outputs": []
    },
    {
      "cell_type": "code",
      "source": [
        "# df_temp2 = groupFrames(raw_df,temporal_period_length)\n",
        "# df_temp2"
      ],
      "metadata": {
        "id": "EUdoxxHRK1qW"
      },
      "execution_count": 26,
      "outputs": []
    },
    {
      "cell_type": "code",
      "source": [
        ""
      ],
      "metadata": {
        "id": "q7HD2kymSWkE"
      },
      "execution_count": 26,
      "outputs": []
    },
    {
      "cell_type": "markdown",
      "source": [
        "## Stim 1 feature engineering"
      ],
      "metadata": {
        "id": "32ydyYzQSY4r"
      }
    },
    {
      "cell_type": "code",
      "source": [
        "from operator import setitem\n",
        "def stimResponse(df, stim, response, zero_point = 0):\n",
        "  \"\"\"\n",
        "  Takes a df, the name of the col holding the stimulus, the name of the col holding the response, and the value to use as the zero point\n",
        "\n",
        "  Returns the df with the relationship type and the relation value added\n",
        "\n",
        "  A different function will calculate the relationship between time periods\n",
        "  \"\"\"\n",
        "\n",
        "\n",
        "  # takes a stim column and response column and returns two new feature column\n",
        "  # PR is Positive Response\n",
        "  # NR is Negative Response\n",
        "  # PS is Positive Stimulus\n",
        "  # NS is Negative Stimulus\n",
        "  df_in = df.copy()\n",
        "  #\n",
        "  PR = df_in[response] > zero_point\n",
        "  NR = df_in[response] <= zero_point\n",
        "  PS = df_in[stim] > zero_point\n",
        "  NS = df_in[stim] <= zero_point\n",
        "\n",
        "  PR = PR.rename('PR')\n",
        "  NR = NR.rename('NR')\n",
        "  PS = PS.rename('PS')\n",
        "  NS = NS.rename('NS')\n",
        "\n",
        "  # combine into df\n",
        "  df = pd.concat([df_in[stim], df_in[response], PR,NR,PS,NS], axis=1)\n",
        "  #set the data types back to boolean\n",
        "  df = df.astype({'PR': bool,\n",
        "                'PS': bool,\n",
        "                'NR': bool,\n",
        "                'PR': bool})\n",
        "\n",
        "  # get min and max values for normalizing\n",
        "  S_min = df[stim].min()\n",
        "  S_max = df[stim].max()\n",
        "  R_min = df[response].min()\n",
        "  R_max = df[response].max()\n",
        "\n",
        "  #add a column normalizing the stim and response\n",
        "  df['stim_norm'] = df[stim].apply(lambda x: x/S_max if x>0 else x/S_min)\n",
        "  df['resp_norm'] = df[response].apply(lambda x: x/R_max if x>0 else x/R_min)\n",
        "\n",
        "\n",
        "  # multiply stim and resp\n",
        "  df['relation'] = df['stim_norm'] * df['resp_norm']\n",
        "\n",
        "  #Set a new column with the category each row's relationship falls under\n",
        "  df.loc[(df['PR'] & df['PS']),'relation_type'] = 'PRPS'\n",
        "  df.loc[(df['NR'] & df['NS']),'relation_type'] = 'NRNS'\n",
        "  df.loc[(df['PR'] & df['NS']),'relation_type'] = 'PRNS'\n",
        "  df.loc[(df['NR'] & df['PS']),'relation_type'] = 'NRPS'\n",
        "\n",
        "  #UNCOMMENT this to create the len-4 matrix for the current time period directly\n",
        "\n",
        "  # #one-hot encode the four categories\n",
        "  # df = pd.get_dummies(df, columns=['relation_type'], prefix = stim)\n",
        "\n",
        "  # #get a list of the columns created\n",
        "  # dummy_cols = [col for col in df.columns if 'relation_type_' in col]\n",
        "\n",
        "  # #multiply the dummy columns by the relation value to distribute the value to the appropriate column\n",
        "  # for col in dummy_cols:\n",
        "  #   df[col] = df[col] * df['relation']\n",
        "  \n",
        "  df_in['relation_type_' + stim] = df['relation_type']\n",
        "  df_in['relation_' + stim] = df['relation']\n",
        "  return(df_in)"
      ],
      "metadata": {
        "id": "G04RabveFWZE"
      },
      "execution_count": 27,
      "outputs": []
    },
    {
      "cell_type": "code",
      "source": [
        "# #pass in the raw df, the name of the stimulus we want to use, the response column, and the zero-value (in this case zero)\n",
        "# df_temp_3 = stimResponse(raw_df, 'stim1', 'resp', 0)"
      ],
      "metadata": {
        "id": "wjmZk2iBTU5W"
      },
      "execution_count": 28,
      "outputs": []
    },
    {
      "cell_type": "code",
      "source": [
        "# df_temp_3.head()"
      ],
      "metadata": {
        "id": "EU2OmAvLPAkf"
      },
      "execution_count": 29,
      "outputs": []
    },
    {
      "cell_type": "code",
      "source": [
        "def get_future_stim_and_relationship(df_in, stim, time_window): \n",
        "  \"\"\"\n",
        "  takes a df, the stimulus name we're comparing, and the time window we're looking to in the future (in frames)\n",
        "\n",
        "  returns a new df with two extra columns containing the relationship type and the value at the future time period\n",
        "  \"\"\"\n",
        "\n",
        "  #make copy of the df to avoid editing the one in memory\n",
        "  df = df_in.copy()\n",
        "\n",
        "  #procedurally generate the column names we need to reference\n",
        "  current_relation_colname = 'relation_'+stim\n",
        "  current_relation_type_colname = 'relation_type_'+stim\n",
        "\n",
        "  #and the column names we're creating\n",
        "  future_relation_colname = 'relation_'+stim+'_+'+str(time_window)\n",
        "  future_relation_type_colname = 'relation_type_'+stim+'_+'+str(time_window)\n",
        "\n",
        "  #reset the index so that we can join the new columns later\n",
        "  df = df.reset_index()\n",
        "\n",
        "\n",
        "  # for each of the new columns, do four steps\n",
        "\n",
        "  #get the existing array of relation values or relation types\n",
        "\n",
        "  #cut off the first x values, where x is the time window we want to look in the future (done by indexing [time_window:])\n",
        "        #this will drop the time x values in the future to line up with the current time\n",
        "\n",
        "  #pad the end of the array with zeros by the same number of values so that the lengths still match (done by concatenating with np.zeros(time_window))\n",
        "\n",
        "  #set the new array as the new 'future' column\n",
        "  df[future_relation_colname] = pd.concat([df[current_relation_colname] \\\n",
        "                                           .reset_index(drop=True)[time_window:], \\\n",
        "                                           pd.Series((np.zeros(time_window)))], ignore_index = True)\n",
        "  \n",
        "  #repeat for the relation type\n",
        "  df[future_relation_type_colname] = pd.concat([df[current_relation_type_colname] \\\n",
        "                                           .reset_index(drop=True)[time_window:], \\\n",
        "                                           pd.Series((np.zeros(time_window)))], ignore_index = True)\n",
        "\n",
        "  #need to stop the end of one stack from referencing the beginning of another\n",
        "\n",
        "  #get the index of any row where the frame # is high enough that x-frames in the future would run into another stack\n",
        "  #by checking that the frame number is greater than the max frame number - (time window-1) (corrects for index number)\n",
        "  end_of_stack_index = df.loc[df['frame'] >= max(df['frame'])-(time_window-1)].index\n",
        "\n",
        "  #use .loc to set the two new columns to None for those rows\n",
        "  df.loc[end_of_stack_index, future_relation_colname] = None\n",
        "  df.loc[end_of_stack_index, future_relation_type_colname] = None\n",
        "\n",
        "  #set the index back to the way it was\n",
        "  df = df.set_index(['stack','label','roi','frame'])\n",
        "\n",
        "  return df"
      ],
      "metadata": {
        "id": "ZtetR5-T0Dh6"
      },
      "execution_count": 30,
      "outputs": []
    },
    {
      "cell_type": "code",
      "source": [
        "# #check that the values match the records 10 in the future and that the last 10 rows in each stack are null for future values\n",
        "# df_temp_4 = get_future_stim_and_relationship(df_temp_3, 'stim1', 10)\n",
        "# df_temp_4.tail(30)"
      ],
      "metadata": {
        "id": "1SVfdcbYPQiH"
      },
      "execution_count": 31,
      "outputs": []
    },
    {
      "cell_type": "code",
      "source": [
        "def current_future_relationship(df, stim, time_window):\n",
        "  \"\"\"\n",
        "  Takes df with a column for stim and a column for stim + a given time window. Returns the relationship.\n",
        "  \"\"\"\n",
        "  # column names for current row\n",
        "  current_relation_colname = 'relation_'+stim\n",
        "  current_relation_type_colname = 'relation_type_'+stim\n",
        "\n",
        "  # column names for rows in the future\n",
        "  future_relation_colname = 'relation_'+stim+'_+'+str(time_window)\n",
        "  future_relation_type_colname = 'relation_type_'+stim+'_+'+str(time_window)\n",
        "\n",
        "  #with this approach, we need to drop the last x frames from each stack, so dropna\n",
        "  df = df.dropna()\n",
        "\n",
        "  #make a new column with the combo of current relation type and future relation type\n",
        "  df['full_relation_type'] = df[current_relation_type_colname] + '-' + df[future_relation_type_colname]\n",
        "\n",
        "  #one-hot encode the overall relationship, then multiply the new columns by the product of the relation values\n",
        "  df = pd.get_dummies(df, columns=['full_relation_type'], prefix = current_relation_colname)\n",
        "\n",
        "  #get a list of the columns created\n",
        "  dummy_cols = [col for col in df.columns if current_relation_colname in col]\n",
        "\n",
        "  #multiply the dummy columns by the relation value to distribute the value to the appropriate column\n",
        "  for col in dummy_cols:\n",
        "    df[col] = df[col] * (df[current_relation_colname]*df[future_relation_colname])\n",
        "\n",
        "  return df"
      ],
      "metadata": {
        "id": "ol0nFdsgPSzd"
      },
      "execution_count": 32,
      "outputs": []
    },
    {
      "cell_type": "code",
      "source": [
        "def directionalResponse(df, stim, response):\n",
        "  \"\"\"\n",
        "  Takes a df, the name of the col holding the direction of motion stimulus, the name of the col holding the response\n",
        "  Returns the df with the stim broken out into four cols based on direction of motion\n",
        "\n",
        "  A different function will calculate the relationship between response and direction\n",
        "  \"\"\"\n",
        "\n",
        "\n",
        "  # add a column that categorizes the direction into four quadrants (segments can be changed)\n",
        "  df_in = df.copy()\n",
        "\n",
        "  #set conditions checking the direction of the stimulus - there has to be a better way but this is it for now\n",
        "  conditions = [\n",
        "    ((-45 <= df_in[stim]) & (df_in[stim] < 0)), #northwest\n",
        "    (df_in[stim] == 0), #no movement\n",
        "    ((0 < df_in[stim]) & (df_in[stim] < 45)), #northeast\n",
        "    ((45 <= df_in[stim]) & (df_in[stim] < 135)), #east\n",
        "    ((135 <= df_in[stim]) & (df_in[stim] <= 180)),#southeast\n",
        "    ((-180 <= df_in[stim]) & (df_in[stim] < -135)), #southwest\n",
        "    ((-135 <= df_in[stim]) & (df_in[stim] < -45)) #west\n",
        "    ]\n",
        "\n",
        "  #set the names we assign to those conditions\n",
        "  values = ['up', 'no_motion', 'up', 'right', 'down', 'down', 'left']\n",
        "\n",
        "  #add a column to the df holding the direction category\n",
        "  df['direction'] = np.select(conditions, values)\n",
        "\n",
        "  #one-hot encode the quadrants\n",
        "  df = pd.get_dummies(df, columns=['direction'], prefix = 'direction')\n",
        "\n",
        "  #get the names of the 4 direction columns we just added\n",
        "  direction_cols = [col for col in df.columns if 'direction' in col]\n",
        "\n",
        "  #TODO - TEST SOME OPTIONS AND SEE HOW WE WANT TO REPRESENT THE RESPONSE TO THESE\n",
        "  #STOPPING HERE FOR NOW WITH JUST THE DIRECTION ENCODED\n",
        "\n",
        "  return(df)"
      ],
      "metadata": {
        "id": "IRU6zRfFMZbL"
      },
      "execution_count": 50,
      "outputs": []
    },
    {
      "cell_type": "code",
      "source": [
        "# df = df_temp_4"
      ],
      "metadata": {
        "id": "iZ8nB8j6oY3j"
      },
      "execution_count": 34,
      "outputs": []
    },
    {
      "cell_type": "code",
      "source": [
        "# # #make a new column with the combo of current relation type and future relation type\n",
        "# df['full_relation_type'] = df['relation_type_stim1'] + '-' + df['relation_type_stim1_+10']\n",
        "# df.head()"
      ],
      "metadata": {
        "id": "UBwHv-hfPUzy"
      },
      "execution_count": null,
      "outputs": []
    },
    {
      "cell_type": "code",
      "source": [
        "# #one-hot encode the overall relationship, then multiply the new columns by the product of the relation values\n",
        "\n",
        "# df = pd.get_dummies(df, columns=['full_relation_type'], prefix = 'relation_stim1')\n",
        "\n",
        "# #get a list of the columns created\n",
        "# dummy_cols = [col for col in df.columns if 'relation_stim1' in col]\n",
        "\n",
        "# #multiply the dummy columns by the relation value to distribute the value to the appropriate column\n",
        "# for col in dummy_cols:\n",
        "#   df[col] = df[col] * (df['relation_stim1']*df['relation_stim1_+10'])\n",
        "\n",
        "# df.head(10) "
      ],
      "metadata": {
        "id": "9la040LxPXWk"
      },
      "execution_count": null,
      "outputs": []
    },
    {
      "cell_type": "code",
      "source": [
        "# df.to_csv('drive/MyDrive/DS6011_Capstone_VisualNeuroscience/Seeded_CNMF/Extracted_Features/210815_0_20220213T070259_sparse_stim1_draft.csv')"
      ],
      "metadata": {
        "id": "01Q5Zhs4PbRs"
      },
      "execution_count": null,
      "outputs": []
    },
    {
      "cell_type": "code",
      "source": [
        "# df_temp_5 = current_future_relationship(df_temp_4, 'stim1', 10)\n",
        "# df_temp_5.head()"
      ],
      "metadata": {
        "id": "LHcf5s8yPp23"
      },
      "execution_count": null,
      "outputs": []
    },
    {
      "cell_type": "code",
      "source": [
        ""
      ],
      "metadata": {
        "id": "On638MPBRU1u"
      },
      "execution_count": null,
      "outputs": []
    },
    {
      "cell_type": "code",
      "source": [
        "! ls drive/MyDrive/DS6011_Capstone_VisualNeuroscience/Seeded_CNMF/Extracted_Features/"
      ],
      "metadata": {
        "id": "_PaUOTAwQ567",
        "colab": {
          "base_uri": "https://localhost:8080/"
        },
        "outputId": "0644e6b3-f275-4db9-ca1e-c0a553fec5d2"
      },
      "execution_count": 35,
      "outputs": [
        {
          "output_type": "stream",
          "name": "stdout",
          "text": [
            "10_frames_stim1\n",
            "210728_0_20220309T002951RAW_stimulus_data.csv\n",
            "210728_0_allStacks_20220309T002951_rawExtracts\n",
            "210731_0_20220308T120131RAW_stimulus_data.csv\n",
            "210731_0_allStacks_20220308T120131_rawExtracts\n",
            "210802_0_20220308T122044RAW_stimulus_data.csv\n",
            "210802_0_allStacks_20220308T122044_rawExtracts\n",
            "210808_0_20220309T012702RAW_stimulus_data.csv\n",
            "210808_0_allStacks_20220309T012702_rawExtracts\n",
            "210809_2_20220308T131617RAW_stimulus_data.csv\n",
            "210809_2_allStacks_20220308T131617_rawExtracts\n",
            "210815_0_20220308T134319RAW_stimulus_data.csv\n",
            "210815_0_allStacks_20220308T134319_rawExtracts\n",
            "210815_0_allStacks_mc_mix1_syt_rawExtracts\n",
            "210815_1_20220308T140826RAW_stimulus_data.csv\n",
            "210815_1_allStacks_20220308T140826_rawExtracts\n",
            "210816_0_20220308T143121RAW_stimulus_data.csv\n",
            "210816_0_allStacks_20220308T14312120_rawExtracts\n",
            "210816_1_20220308T150735RAW_stimulus_data.csv\n",
            "210816_1_allStacks_20220308T150735_rawExtracts\n"
          ]
        }
      ]
    },
    {
      "cell_type": "markdown",
      "source": [
        "# RUN FUNCTIONS ON DATA"
      ],
      "metadata": {
        "id": "MwzX6MpHRWC6"
      }
    },
    {
      "cell_type": "code",
      "source": [
        "# raw_df = pd.read_csv('drive/MyDrive/DS6011_Capstone_VisualNeuroscience/Seeded_CNMF/Extracted_Features/210815_0__20220213T070259RAW_stimulus_data.csv', index_col=['stack','label','roi','frame']).drop(columns='Unnamed: 0')\n",
        "# raw_df"
      ],
      "metadata": {
        "id": "M0zBwsPCOg3M"
      },
      "execution_count": 36,
      "outputs": []
    },
    {
      "cell_type": "code",
      "source": [
        "# get all raw DF's\n",
        "from os import listdir\n",
        "root = 'drive/MyDrive/DS6011_Capstone_VisualNeuroscience/Seeded_CNMF/Extracted_Features/'\n",
        "raw_fnames = listdir(root)\n",
        "raw_fnames = [x for x in raw_fnames if 'RAW_stimulus' in x]\n",
        "raw_fnames"
      ],
      "metadata": {
        "colab": {
          "base_uri": "https://localhost:8080/"
        },
        "id": "S840FeKCd2xT",
        "outputId": "15c496d4-c52e-4230-de54-7b7bf14566bc"
      },
      "execution_count": 37,
      "outputs": [
        {
          "output_type": "execute_result",
          "data": {
            "text/plain": [
              "['210815_1_20220308T140826RAW_stimulus_data.csv',\n",
              " '210816_1_20220308T150735RAW_stimulus_data.csv',\n",
              " '210816_0_20220308T143121RAW_stimulus_data.csv',\n",
              " '210809_2_20220308T131617RAW_stimulus_data.csv',\n",
              " '210815_0_20220308T134319RAW_stimulus_data.csv',\n",
              " '210808_0_20220309T012702RAW_stimulus_data.csv',\n",
              " '210731_0_20220308T120131RAW_stimulus_data.csv',\n",
              " '210728_0_20220309T002951RAW_stimulus_data.csv',\n",
              " '210802_0_20220308T122044RAW_stimulus_data.csv']"
            ]
          },
          "metadata": {},
          "execution_count": 37
        }
      ]
    },
    {
      "cell_type": "code",
      "source": [
        "# Dictionary of df's. One for each video. You can call each df my name\n",
        "raw_dfs = {}\n",
        "for p in raw_fnames:\n",
        "  df = pd.read_csv(root + p, index_col=['stack','label','roi','frame']).drop(columns='Unnamed: 0')\n",
        "  raw_dfs[p] = df\n",
        "raw_dfs[raw_fnames[-1]]"
      ],
      "metadata": {
        "colab": {
          "base_uri": "https://localhost:8080/",
          "height": 455
        },
        "id": "j8RW20zugbMJ",
        "outputId": "8d62b43e-4017-46be-a9c0-6bdda2bff3fa"
      },
      "execution_count": 38,
      "outputs": [
        {
          "output_type": "execute_result",
          "data": {
            "text/plain": [
              "                                                                filename  \\\n",
              "stack label roi frame                                                      \n",
              "1     tm9   1   0       210802_0_1_stackRaw_mc_result_20220308T122044.h5   \n",
              "                1       210802_0_1_stackRaw_mc_result_20220308T122044.h5   \n",
              "                2       210802_0_1_stackRaw_mc_result_20220308T122044.h5   \n",
              "                3       210802_0_1_stackRaw_mc_result_20220308T122044.h5   \n",
              "                4       210802_0_1_stackRaw_mc_result_20220308T122044.h5   \n",
              "...                                                                  ...   \n",
              "11    t5    14  5508   210802_0_11_stackRaw_mc_result_20220308T122044.h5   \n",
              "                5509   210802_0_11_stackRaw_mc_result_20220308T122044.h5   \n",
              "                5510   210802_0_11_stackRaw_mc_result_20220308T122044.h5   \n",
              "                5511   210802_0_11_stackRaw_mc_result_20220308T122044.h5   \n",
              "                5512   210802_0_11_stackRaw_mc_result_20220308T122044.h5   \n",
              "\n",
              "                           resp     stim1       stim2     stim3  \n",
              "stack label roi frame                                            \n",
              "1     tm9   1   0      0.296236  0.203364 -103.861223  0.097277  \n",
              "                1      0.265434  0.203364    0.000000  0.000000  \n",
              "                2      0.229053  0.203364    0.000000  0.000000  \n",
              "                3      0.184726 -0.248205 -103.453969  0.044159  \n",
              "                4      0.259741 -0.473989 -104.693881  0.040879  \n",
              "...                         ...       ...         ...       ...  \n",
              "11    t5    14  5508   0.019915  0.186905   68.869163  0.011823  \n",
              "                5509   0.043048  0.045419  110.558529  0.021267  \n",
              "                5510   0.019737 -0.041530  124.799748  0.014075  \n",
              "                5511  -0.038230 -0.041530   45.087250  0.002800  \n",
              "                5512   0.109348 -0.041530   53.485788  0.001350  \n",
              "\n",
              "[849002 rows x 5 columns]"
            ],
            "text/html": [
              "\n",
              "  <div id=\"df-6ae488af-835e-4f75-adae-4becba4fe949\">\n",
              "    <div class=\"colab-df-container\">\n",
              "      <div>\n",
              "<style scoped>\n",
              "    .dataframe tbody tr th:only-of-type {\n",
              "        vertical-align: middle;\n",
              "    }\n",
              "\n",
              "    .dataframe tbody tr th {\n",
              "        vertical-align: top;\n",
              "    }\n",
              "\n",
              "    .dataframe thead th {\n",
              "        text-align: right;\n",
              "    }\n",
              "</style>\n",
              "<table border=\"1\" class=\"dataframe\">\n",
              "  <thead>\n",
              "    <tr style=\"text-align: right;\">\n",
              "      <th></th>\n",
              "      <th></th>\n",
              "      <th></th>\n",
              "      <th></th>\n",
              "      <th>filename</th>\n",
              "      <th>resp</th>\n",
              "      <th>stim1</th>\n",
              "      <th>stim2</th>\n",
              "      <th>stim3</th>\n",
              "    </tr>\n",
              "    <tr>\n",
              "      <th>stack</th>\n",
              "      <th>label</th>\n",
              "      <th>roi</th>\n",
              "      <th>frame</th>\n",
              "      <th></th>\n",
              "      <th></th>\n",
              "      <th></th>\n",
              "      <th></th>\n",
              "      <th></th>\n",
              "    </tr>\n",
              "  </thead>\n",
              "  <tbody>\n",
              "    <tr>\n",
              "      <th rowspan=\"5\" valign=\"top\">1</th>\n",
              "      <th rowspan=\"5\" valign=\"top\">tm9</th>\n",
              "      <th rowspan=\"5\" valign=\"top\">1</th>\n",
              "      <th>0</th>\n",
              "      <td>210802_0_1_stackRaw_mc_result_20220308T122044.h5</td>\n",
              "      <td>0.296236</td>\n",
              "      <td>0.203364</td>\n",
              "      <td>-103.861223</td>\n",
              "      <td>0.097277</td>\n",
              "    </tr>\n",
              "    <tr>\n",
              "      <th>1</th>\n",
              "      <td>210802_0_1_stackRaw_mc_result_20220308T122044.h5</td>\n",
              "      <td>0.265434</td>\n",
              "      <td>0.203364</td>\n",
              "      <td>0.000000</td>\n",
              "      <td>0.000000</td>\n",
              "    </tr>\n",
              "    <tr>\n",
              "      <th>2</th>\n",
              "      <td>210802_0_1_stackRaw_mc_result_20220308T122044.h5</td>\n",
              "      <td>0.229053</td>\n",
              "      <td>0.203364</td>\n",
              "      <td>0.000000</td>\n",
              "      <td>0.000000</td>\n",
              "    </tr>\n",
              "    <tr>\n",
              "      <th>3</th>\n",
              "      <td>210802_0_1_stackRaw_mc_result_20220308T122044.h5</td>\n",
              "      <td>0.184726</td>\n",
              "      <td>-0.248205</td>\n",
              "      <td>-103.453969</td>\n",
              "      <td>0.044159</td>\n",
              "    </tr>\n",
              "    <tr>\n",
              "      <th>4</th>\n",
              "      <td>210802_0_1_stackRaw_mc_result_20220308T122044.h5</td>\n",
              "      <td>0.259741</td>\n",
              "      <td>-0.473989</td>\n",
              "      <td>-104.693881</td>\n",
              "      <td>0.040879</td>\n",
              "    </tr>\n",
              "    <tr>\n",
              "      <th>...</th>\n",
              "      <th>...</th>\n",
              "      <th>...</th>\n",
              "      <th>...</th>\n",
              "      <td>...</td>\n",
              "      <td>...</td>\n",
              "      <td>...</td>\n",
              "      <td>...</td>\n",
              "      <td>...</td>\n",
              "    </tr>\n",
              "    <tr>\n",
              "      <th rowspan=\"5\" valign=\"top\">11</th>\n",
              "      <th rowspan=\"5\" valign=\"top\">t5</th>\n",
              "      <th rowspan=\"5\" valign=\"top\">14</th>\n",
              "      <th>5508</th>\n",
              "      <td>210802_0_11_stackRaw_mc_result_20220308T122044.h5</td>\n",
              "      <td>0.019915</td>\n",
              "      <td>0.186905</td>\n",
              "      <td>68.869163</td>\n",
              "      <td>0.011823</td>\n",
              "    </tr>\n",
              "    <tr>\n",
              "      <th>5509</th>\n",
              "      <td>210802_0_11_stackRaw_mc_result_20220308T122044.h5</td>\n",
              "      <td>0.043048</td>\n",
              "      <td>0.045419</td>\n",
              "      <td>110.558529</td>\n",
              "      <td>0.021267</td>\n",
              "    </tr>\n",
              "    <tr>\n",
              "      <th>5510</th>\n",
              "      <td>210802_0_11_stackRaw_mc_result_20220308T122044.h5</td>\n",
              "      <td>0.019737</td>\n",
              "      <td>-0.041530</td>\n",
              "      <td>124.799748</td>\n",
              "      <td>0.014075</td>\n",
              "    </tr>\n",
              "    <tr>\n",
              "      <th>5511</th>\n",
              "      <td>210802_0_11_stackRaw_mc_result_20220308T122044.h5</td>\n",
              "      <td>-0.038230</td>\n",
              "      <td>-0.041530</td>\n",
              "      <td>45.087250</td>\n",
              "      <td>0.002800</td>\n",
              "    </tr>\n",
              "    <tr>\n",
              "      <th>5512</th>\n",
              "      <td>210802_0_11_stackRaw_mc_result_20220308T122044.h5</td>\n",
              "      <td>0.109348</td>\n",
              "      <td>-0.041530</td>\n",
              "      <td>53.485788</td>\n",
              "      <td>0.001350</td>\n",
              "    </tr>\n",
              "  </tbody>\n",
              "</table>\n",
              "<p>849002 rows × 5 columns</p>\n",
              "</div>\n",
              "      <button class=\"colab-df-convert\" onclick=\"convertToInteractive('df-6ae488af-835e-4f75-adae-4becba4fe949')\"\n",
              "              title=\"Convert this dataframe to an interactive table.\"\n",
              "              style=\"display:none;\">\n",
              "        \n",
              "  <svg xmlns=\"http://www.w3.org/2000/svg\" height=\"24px\"viewBox=\"0 0 24 24\"\n",
              "       width=\"24px\">\n",
              "    <path d=\"M0 0h24v24H0V0z\" fill=\"none\"/>\n",
              "    <path d=\"M18.56 5.44l.94 2.06.94-2.06 2.06-.94-2.06-.94-.94-2.06-.94 2.06-2.06.94zm-11 1L8.5 8.5l.94-2.06 2.06-.94-2.06-.94L8.5 2.5l-.94 2.06-2.06.94zm10 10l.94 2.06.94-2.06 2.06-.94-2.06-.94-.94-2.06-.94 2.06-2.06.94z\"/><path d=\"M17.41 7.96l-1.37-1.37c-.4-.4-.92-.59-1.43-.59-.52 0-1.04.2-1.43.59L10.3 9.45l-7.72 7.72c-.78.78-.78 2.05 0 2.83L4 21.41c.39.39.9.59 1.41.59.51 0 1.02-.2 1.41-.59l7.78-7.78 2.81-2.81c.8-.78.8-2.07 0-2.86zM5.41 20L4 18.59l7.72-7.72 1.47 1.35L5.41 20z\"/>\n",
              "  </svg>\n",
              "      </button>\n",
              "      \n",
              "  <style>\n",
              "    .colab-df-container {\n",
              "      display:flex;\n",
              "      flex-wrap:wrap;\n",
              "      gap: 12px;\n",
              "    }\n",
              "\n",
              "    .colab-df-convert {\n",
              "      background-color: #E8F0FE;\n",
              "      border: none;\n",
              "      border-radius: 50%;\n",
              "      cursor: pointer;\n",
              "      display: none;\n",
              "      fill: #1967D2;\n",
              "      height: 32px;\n",
              "      padding: 0 0 0 0;\n",
              "      width: 32px;\n",
              "    }\n",
              "\n",
              "    .colab-df-convert:hover {\n",
              "      background-color: #E2EBFA;\n",
              "      box-shadow: 0px 1px 2px rgba(60, 64, 67, 0.3), 0px 1px 3px 1px rgba(60, 64, 67, 0.15);\n",
              "      fill: #174EA6;\n",
              "    }\n",
              "\n",
              "    [theme=dark] .colab-df-convert {\n",
              "      background-color: #3B4455;\n",
              "      fill: #D2E3FC;\n",
              "    }\n",
              "\n",
              "    [theme=dark] .colab-df-convert:hover {\n",
              "      background-color: #434B5C;\n",
              "      box-shadow: 0px 1px 3px 1px rgba(0, 0, 0, 0.15);\n",
              "      filter: drop-shadow(0px 1px 2px rgba(0, 0, 0, 0.3));\n",
              "      fill: #FFFFFF;\n",
              "    }\n",
              "  </style>\n",
              "\n",
              "      <script>\n",
              "        const buttonEl =\n",
              "          document.querySelector('#df-6ae488af-835e-4f75-adae-4becba4fe949 button.colab-df-convert');\n",
              "        buttonEl.style.display =\n",
              "          google.colab.kernel.accessAllowed ? 'block' : 'none';\n",
              "\n",
              "        async function convertToInteractive(key) {\n",
              "          const element = document.querySelector('#df-6ae488af-835e-4f75-adae-4becba4fe949');\n",
              "          const dataTable =\n",
              "            await google.colab.kernel.invokeFunction('convertToInteractive',\n",
              "                                                     [key], {});\n",
              "          if (!dataTable) return;\n",
              "\n",
              "          const docLinkHtml = 'Like what you see? Visit the ' +\n",
              "            '<a target=\"_blank\" href=https://colab.research.google.com/notebooks/data_table.ipynb>data table notebook</a>'\n",
              "            + ' to learn more about interactive tables.';\n",
              "          element.innerHTML = '';\n",
              "          dataTable['output_type'] = 'display_data';\n",
              "          await google.colab.output.renderOutput(dataTable, element);\n",
              "          const docLink = document.createElement('div');\n",
              "          docLink.innerHTML = docLinkHtml;\n",
              "          element.appendChild(docLink);\n",
              "        }\n",
              "      </script>\n",
              "    </div>\n",
              "  </div>\n",
              "  "
            ]
          },
          "metadata": {},
          "execution_count": 38
        }
      ]
    },
    {
      "cell_type": "code",
      "source": [
        "raw_dfs.keys()"
      ],
      "metadata": {
        "colab": {
          "base_uri": "https://localhost:8080/"
        },
        "id": "tTp7IHuRhqJ1",
        "outputId": "fe55b589-d182-4a27-f6eb-529e99bd4c96"
      },
      "execution_count": 39,
      "outputs": [
        {
          "output_type": "execute_result",
          "data": {
            "text/plain": [
              "dict_keys(['210815_1_20220308T140826RAW_stimulus_data.csv', '210816_1_20220308T150735RAW_stimulus_data.csv', '210816_0_20220308T143121RAW_stimulus_data.csv', '210809_2_20220308T131617RAW_stimulus_data.csv', '210815_0_20220308T134319RAW_stimulus_data.csv', '210808_0_20220309T012702RAW_stimulus_data.csv', '210731_0_20220308T120131RAW_stimulus_data.csv', '210728_0_20220309T002951RAW_stimulus_data.csv', '210802_0_20220308T122044RAW_stimulus_data.csv'])"
            ]
          },
          "metadata": {},
          "execution_count": 39
        }
      ]
    },
    {
      "cell_type": "markdown",
      "source": [
        "## For each df, run through pipeline"
      ],
      "metadata": {
        "id": "UTWI7mX-iQoW"
      }
    },
    {
      "cell_type": "code",
      "source": [
        "stim = 'stim1'\n",
        "response = 'resp'\n",
        "time_window = 5\n",
        "for p in raw_fnames:\n",
        "  df = raw_dfs[p]\n",
        "  df = directionalResponse(df, 'stim2', response)\n",
        "  df = stimResponse(df, stim, response, zero_point = 0)\n",
        "  df = get_future_stim_and_relationship(df, stim, time_window)\n",
        "  df = current_future_relationship(df, stim, time_window)\n",
        "  raw_dfs[p] = df"
      ],
      "metadata": {
        "colab": {
          "base_uri": "https://localhost:8080/"
        },
        "id": "rklpErfgiO57",
        "outputId": "f54cc133-6ad5-4810-bfe7-d63dd571ce1d"
      },
      "execution_count": 51,
      "outputs": [
        {
          "output_type": "stream",
          "name": "stderr",
          "text": [
            "/usr/local/lib/python3.7/dist-packages/ipykernel_launcher.py:17: SettingWithCopyWarning: \n",
            "A value is trying to be set on a copy of a slice from a DataFrame.\n",
            "Try using .loc[row_indexer,col_indexer] = value instead\n",
            "\n",
            "See the caveats in the documentation: https://pandas.pydata.org/pandas-docs/stable/user_guide/indexing.html#returning-a-view-versus-a-copy\n"
          ]
        }
      ]
    },
    {
      "cell_type": "code",
      "source": [
        "raw_dfs[raw_fnames[1]]"
      ],
      "metadata": {
        "colab": {
          "base_uri": "https://localhost:8080/",
          "height": 536
        },
        "id": "jMZPRgE_iPSa",
        "outputId": "3249c502-6fe4-4676-f76d-a01588121995"
      },
      "execution_count": 52,
      "outputs": [
        {
          "output_type": "execute_result",
          "data": {
            "text/plain": [
              "                                                                filename  \\\n",
              "stack label roi frame                                                      \n",
              "1     tm4   1   0       210816_1_1_stackRaw_mc_result_20220308T150735.h5   \n",
              "                1       210816_1_1_stackRaw_mc_result_20220308T150735.h5   \n",
              "                2       210816_1_1_stackRaw_mc_result_20220308T150735.h5   \n",
              "                3       210816_1_1_stackRaw_mc_result_20220308T150735.h5   \n",
              "                4       210816_1_1_stackRaw_mc_result_20220308T150735.h5   \n",
              "...                                                                  ...   \n",
              "10    tm1   10  5503   210816_1_10_stackRaw_mc_result_20220308T150735.h5   \n",
              "                5504   210816_1_10_stackRaw_mc_result_20220308T150735.h5   \n",
              "                5505   210816_1_10_stackRaw_mc_result_20220308T150735.h5   \n",
              "                5506   210816_1_10_stackRaw_mc_result_20220308T150735.h5   \n",
              "                5507   210816_1_10_stackRaw_mc_result_20220308T150735.h5   \n",
              "\n",
              "                           resp     stim1       stim2     stim3  \\\n",
              "stack label roi frame                                             \n",
              "1     tm4   1   0      0.153797 -0.426309   -3.620520  0.123511   \n",
              "                1      0.280574 -0.426309    0.000000  0.000000   \n",
              "                2      0.493612 -0.426309    0.000000  0.000000   \n",
              "                3      0.667897 -0.520911 -176.994026  0.013512   \n",
              "                4      0.497233 -0.615513 -145.677535  0.009002   \n",
              "...                         ...       ...         ...       ...   \n",
              "10    tm1   10  5503   0.077264 -0.325382    0.000000  0.000000   \n",
              "                5504   0.235186 -0.325382    0.000000  0.000000   \n",
              "                5505  -0.201205  0.210543 -137.807470  0.027125   \n",
              "                5506   0.062201  0.478506 -101.804298  0.044868   \n",
              "                5507   0.187330  0.478506    0.000000  0.000000   \n",
              "\n",
              "                       direction_down  direction_left  direction_no_motion  \\\n",
              "stack label roi frame                                                        \n",
              "1     tm4   1   0                   0               0                    0   \n",
              "                1                   0               0                    1   \n",
              "                2                   0               0                    1   \n",
              "                3                   1               0                    0   \n",
              "                4                   1               0                    0   \n",
              "...                               ...             ...                  ...   \n",
              "10    tm1   10  5503                0               0                    1   \n",
              "                5504                0               0                    1   \n",
              "                5505                1               0                    0   \n",
              "                5506                0               1                    0   \n",
              "                5507                0               0                    1   \n",
              "\n",
              "                       direction_right  direction_up  ...  \\\n",
              "stack label roi frame                                 ...   \n",
              "1     tm4   1   0                    0             1  ...   \n",
              "                1                    0             0  ...   \n",
              "                2                    0             0  ...   \n",
              "                3                    0             0  ...   \n",
              "                4                    0             0  ...   \n",
              "...                                ...           ...  ...   \n",
              "10    tm1   10  5503                 0             0  ...   \n",
              "                5504                 0             0  ...   \n",
              "                5505                 0             0  ...   \n",
              "                5506                 0             0  ...   \n",
              "                5507                 0             0  ...   \n",
              "\n",
              "                      relation_stim1_NRPS-PRNS  relation_stim1_NRPS-PRPS  \\\n",
              "stack label roi frame                                                      \n",
              "1     tm4   1   0                          0.0              0.000000e+00   \n",
              "                1                          0.0              0.000000e+00   \n",
              "                2                          0.0              0.000000e+00   \n",
              "                3                          0.0              0.000000e+00   \n",
              "                4                          0.0              0.000000e+00   \n",
              "...                                        ...                       ...   \n",
              "10    tm1   10  5503                       0.0              0.000000e+00   \n",
              "                5504                       0.0              0.000000e+00   \n",
              "                5505                       0.0              1.718149e-10   \n",
              "                5506                       0.0              0.000000e+00   \n",
              "                5507                       0.0              0.000000e+00   \n",
              "\n",
              "                       relation_stim1_PRNS-NRNS relation_stim1_PRNS-NRPS  \\\n",
              "stack label roi frame                                                      \n",
              "1     tm4   1   0                           0.0                      0.0   \n",
              "                1                           0.0                      0.0   \n",
              "                2                           0.0                      0.0   \n",
              "                3                           0.0                      0.0   \n",
              "                4                           0.0                      0.0   \n",
              "...                                         ...                      ...   \n",
              "10    tm1   10  5503                        0.0                      0.0   \n",
              "                5504                        0.0                      0.0   \n",
              "                5505                        0.0                      0.0   \n",
              "                5506                        0.0                      0.0   \n",
              "                5507                        0.0                      0.0   \n",
              "\n",
              "                       relation_stim1_PRNS-PRNS  relation_stim1_PRNS-PRPS  \\\n",
              "stack label roi frame                                                       \n",
              "1     tm4   1   0                  1.227192e-10              0.000000e+00   \n",
              "                1                  3.289960e-10              0.000000e+00   \n",
              "                2                  2.345242e-10              0.000000e+00   \n",
              "                3                  1.537879e-08              0.000000e+00   \n",
              "                4                  2.869498e-08              0.000000e+00   \n",
              "...                                         ...                       ...   \n",
              "10    tm1   10  5503               0.000000e+00              1.723740e-13   \n",
              "                5504               0.000000e+00              1.122748e-11   \n",
              "                5505               0.000000e+00              0.000000e+00   \n",
              "                5506               0.000000e+00              0.000000e+00   \n",
              "                5507               0.000000e+00              0.000000e+00   \n",
              "\n",
              "                       relation_stim1_PRPS-NRNS  relation_stim1_PRPS-NRPS  \\\n",
              "stack label roi frame                                                       \n",
              "1     tm4   1   0                           0.0                       0.0   \n",
              "                1                           0.0                       0.0   \n",
              "                2                           0.0                       0.0   \n",
              "                3                           0.0                       0.0   \n",
              "                4                           0.0                       0.0   \n",
              "...                                         ...                       ...   \n",
              "10    tm1   10  5503                        0.0                       0.0   \n",
              "                5504                        0.0                       0.0   \n",
              "                5505                        0.0                       0.0   \n",
              "                5506                        0.0                       0.0   \n",
              "                5507                        0.0                       0.0   \n",
              "\n",
              "                       relation_stim1_PRPS-PRNS  relation_stim1_PRPS-PRPS  \n",
              "stack label roi frame                                                      \n",
              "1     tm4   1   0                           0.0              0.000000e+00  \n",
              "                1                           0.0              0.000000e+00  \n",
              "                2                           0.0              0.000000e+00  \n",
              "                3                           0.0              0.000000e+00  \n",
              "                4                           0.0              0.000000e+00  \n",
              "...                                         ...                       ...  \n",
              "10    tm1   10  5503                        0.0              0.000000e+00  \n",
              "                5504                        0.0              0.000000e+00  \n",
              "                5505                        0.0              0.000000e+00  \n",
              "                5506                        0.0              4.350690e-13  \n",
              "                5507                        0.0              3.453209e-12  \n",
              "\n",
              "[550800 rows x 30 columns]"
            ],
            "text/html": [
              "\n",
              "  <div id=\"df-680da784-e838-4981-848d-66bc00154fa7\">\n",
              "    <div class=\"colab-df-container\">\n",
              "      <div>\n",
              "<style scoped>\n",
              "    .dataframe tbody tr th:only-of-type {\n",
              "        vertical-align: middle;\n",
              "    }\n",
              "\n",
              "    .dataframe tbody tr th {\n",
              "        vertical-align: top;\n",
              "    }\n",
              "\n",
              "    .dataframe thead th {\n",
              "        text-align: right;\n",
              "    }\n",
              "</style>\n",
              "<table border=\"1\" class=\"dataframe\">\n",
              "  <thead>\n",
              "    <tr style=\"text-align: right;\">\n",
              "      <th></th>\n",
              "      <th></th>\n",
              "      <th></th>\n",
              "      <th></th>\n",
              "      <th>filename</th>\n",
              "      <th>resp</th>\n",
              "      <th>stim1</th>\n",
              "      <th>stim2</th>\n",
              "      <th>stim3</th>\n",
              "      <th>direction_down</th>\n",
              "      <th>direction_left</th>\n",
              "      <th>direction_no_motion</th>\n",
              "      <th>direction_right</th>\n",
              "      <th>direction_up</th>\n",
              "      <th>...</th>\n",
              "      <th>relation_stim1_NRPS-PRNS</th>\n",
              "      <th>relation_stim1_NRPS-PRPS</th>\n",
              "      <th>relation_stim1_PRNS-NRNS</th>\n",
              "      <th>relation_stim1_PRNS-NRPS</th>\n",
              "      <th>relation_stim1_PRNS-PRNS</th>\n",
              "      <th>relation_stim1_PRNS-PRPS</th>\n",
              "      <th>relation_stim1_PRPS-NRNS</th>\n",
              "      <th>relation_stim1_PRPS-NRPS</th>\n",
              "      <th>relation_stim1_PRPS-PRNS</th>\n",
              "      <th>relation_stim1_PRPS-PRPS</th>\n",
              "    </tr>\n",
              "    <tr>\n",
              "      <th>stack</th>\n",
              "      <th>label</th>\n",
              "      <th>roi</th>\n",
              "      <th>frame</th>\n",
              "      <th></th>\n",
              "      <th></th>\n",
              "      <th></th>\n",
              "      <th></th>\n",
              "      <th></th>\n",
              "      <th></th>\n",
              "      <th></th>\n",
              "      <th></th>\n",
              "      <th></th>\n",
              "      <th></th>\n",
              "      <th></th>\n",
              "      <th></th>\n",
              "      <th></th>\n",
              "      <th></th>\n",
              "      <th></th>\n",
              "      <th></th>\n",
              "      <th></th>\n",
              "      <th></th>\n",
              "      <th></th>\n",
              "      <th></th>\n",
              "      <th></th>\n",
              "    </tr>\n",
              "  </thead>\n",
              "  <tbody>\n",
              "    <tr>\n",
              "      <th rowspan=\"5\" valign=\"top\">1</th>\n",
              "      <th rowspan=\"5\" valign=\"top\">tm4</th>\n",
              "      <th rowspan=\"5\" valign=\"top\">1</th>\n",
              "      <th>0</th>\n",
              "      <td>210816_1_1_stackRaw_mc_result_20220308T150735.h5</td>\n",
              "      <td>0.153797</td>\n",
              "      <td>-0.426309</td>\n",
              "      <td>-3.620520</td>\n",
              "      <td>0.123511</td>\n",
              "      <td>0</td>\n",
              "      <td>0</td>\n",
              "      <td>0</td>\n",
              "      <td>0</td>\n",
              "      <td>1</td>\n",
              "      <td>...</td>\n",
              "      <td>0.0</td>\n",
              "      <td>0.000000e+00</td>\n",
              "      <td>0.0</td>\n",
              "      <td>0.0</td>\n",
              "      <td>1.227192e-10</td>\n",
              "      <td>0.000000e+00</td>\n",
              "      <td>0.0</td>\n",
              "      <td>0.0</td>\n",
              "      <td>0.0</td>\n",
              "      <td>0.000000e+00</td>\n",
              "    </tr>\n",
              "    <tr>\n",
              "      <th>1</th>\n",
              "      <td>210816_1_1_stackRaw_mc_result_20220308T150735.h5</td>\n",
              "      <td>0.280574</td>\n",
              "      <td>-0.426309</td>\n",
              "      <td>0.000000</td>\n",
              "      <td>0.000000</td>\n",
              "      <td>0</td>\n",
              "      <td>0</td>\n",
              "      <td>1</td>\n",
              "      <td>0</td>\n",
              "      <td>0</td>\n",
              "      <td>...</td>\n",
              "      <td>0.0</td>\n",
              "      <td>0.000000e+00</td>\n",
              "      <td>0.0</td>\n",
              "      <td>0.0</td>\n",
              "      <td>3.289960e-10</td>\n",
              "      <td>0.000000e+00</td>\n",
              "      <td>0.0</td>\n",
              "      <td>0.0</td>\n",
              "      <td>0.0</td>\n",
              "      <td>0.000000e+00</td>\n",
              "    </tr>\n",
              "    <tr>\n",
              "      <th>2</th>\n",
              "      <td>210816_1_1_stackRaw_mc_result_20220308T150735.h5</td>\n",
              "      <td>0.493612</td>\n",
              "      <td>-0.426309</td>\n",
              "      <td>0.000000</td>\n",
              "      <td>0.000000</td>\n",
              "      <td>0</td>\n",
              "      <td>0</td>\n",
              "      <td>1</td>\n",
              "      <td>0</td>\n",
              "      <td>0</td>\n",
              "      <td>...</td>\n",
              "      <td>0.0</td>\n",
              "      <td>0.000000e+00</td>\n",
              "      <td>0.0</td>\n",
              "      <td>0.0</td>\n",
              "      <td>2.345242e-10</td>\n",
              "      <td>0.000000e+00</td>\n",
              "      <td>0.0</td>\n",
              "      <td>0.0</td>\n",
              "      <td>0.0</td>\n",
              "      <td>0.000000e+00</td>\n",
              "    </tr>\n",
              "    <tr>\n",
              "      <th>3</th>\n",
              "      <td>210816_1_1_stackRaw_mc_result_20220308T150735.h5</td>\n",
              "      <td>0.667897</td>\n",
              "      <td>-0.520911</td>\n",
              "      <td>-176.994026</td>\n",
              "      <td>0.013512</td>\n",
              "      <td>1</td>\n",
              "      <td>0</td>\n",
              "      <td>0</td>\n",
              "      <td>0</td>\n",
              "      <td>0</td>\n",
              "      <td>...</td>\n",
              "      <td>0.0</td>\n",
              "      <td>0.000000e+00</td>\n",
              "      <td>0.0</td>\n",
              "      <td>0.0</td>\n",
              "      <td>1.537879e-08</td>\n",
              "      <td>0.000000e+00</td>\n",
              "      <td>0.0</td>\n",
              "      <td>0.0</td>\n",
              "      <td>0.0</td>\n",
              "      <td>0.000000e+00</td>\n",
              "    </tr>\n",
              "    <tr>\n",
              "      <th>4</th>\n",
              "      <td>210816_1_1_stackRaw_mc_result_20220308T150735.h5</td>\n",
              "      <td>0.497233</td>\n",
              "      <td>-0.615513</td>\n",
              "      <td>-145.677535</td>\n",
              "      <td>0.009002</td>\n",
              "      <td>1</td>\n",
              "      <td>0</td>\n",
              "      <td>0</td>\n",
              "      <td>0</td>\n",
              "      <td>0</td>\n",
              "      <td>...</td>\n",
              "      <td>0.0</td>\n",
              "      <td>0.000000e+00</td>\n",
              "      <td>0.0</td>\n",
              "      <td>0.0</td>\n",
              "      <td>2.869498e-08</td>\n",
              "      <td>0.000000e+00</td>\n",
              "      <td>0.0</td>\n",
              "      <td>0.0</td>\n",
              "      <td>0.0</td>\n",
              "      <td>0.000000e+00</td>\n",
              "    </tr>\n",
              "    <tr>\n",
              "      <th>...</th>\n",
              "      <th>...</th>\n",
              "      <th>...</th>\n",
              "      <th>...</th>\n",
              "      <td>...</td>\n",
              "      <td>...</td>\n",
              "      <td>...</td>\n",
              "      <td>...</td>\n",
              "      <td>...</td>\n",
              "      <td>...</td>\n",
              "      <td>...</td>\n",
              "      <td>...</td>\n",
              "      <td>...</td>\n",
              "      <td>...</td>\n",
              "      <td>...</td>\n",
              "      <td>...</td>\n",
              "      <td>...</td>\n",
              "      <td>...</td>\n",
              "      <td>...</td>\n",
              "      <td>...</td>\n",
              "      <td>...</td>\n",
              "      <td>...</td>\n",
              "      <td>...</td>\n",
              "      <td>...</td>\n",
              "      <td>...</td>\n",
              "    </tr>\n",
              "    <tr>\n",
              "      <th rowspan=\"5\" valign=\"top\">10</th>\n",
              "      <th rowspan=\"5\" valign=\"top\">tm1</th>\n",
              "      <th rowspan=\"5\" valign=\"top\">10</th>\n",
              "      <th>5503</th>\n",
              "      <td>210816_1_10_stackRaw_mc_result_20220308T150735.h5</td>\n",
              "      <td>0.077264</td>\n",
              "      <td>-0.325382</td>\n",
              "      <td>0.000000</td>\n",
              "      <td>0.000000</td>\n",
              "      <td>0</td>\n",
              "      <td>0</td>\n",
              "      <td>1</td>\n",
              "      <td>0</td>\n",
              "      <td>0</td>\n",
              "      <td>...</td>\n",
              "      <td>0.0</td>\n",
              "      <td>0.000000e+00</td>\n",
              "      <td>0.0</td>\n",
              "      <td>0.0</td>\n",
              "      <td>0.000000e+00</td>\n",
              "      <td>1.723740e-13</td>\n",
              "      <td>0.0</td>\n",
              "      <td>0.0</td>\n",
              "      <td>0.0</td>\n",
              "      <td>0.000000e+00</td>\n",
              "    </tr>\n",
              "    <tr>\n",
              "      <th>5504</th>\n",
              "      <td>210816_1_10_stackRaw_mc_result_20220308T150735.h5</td>\n",
              "      <td>0.235186</td>\n",
              "      <td>-0.325382</td>\n",
              "      <td>0.000000</td>\n",
              "      <td>0.000000</td>\n",
              "      <td>0</td>\n",
              "      <td>0</td>\n",
              "      <td>1</td>\n",
              "      <td>0</td>\n",
              "      <td>0</td>\n",
              "      <td>...</td>\n",
              "      <td>0.0</td>\n",
              "      <td>0.000000e+00</td>\n",
              "      <td>0.0</td>\n",
              "      <td>0.0</td>\n",
              "      <td>0.000000e+00</td>\n",
              "      <td>1.122748e-11</td>\n",
              "      <td>0.0</td>\n",
              "      <td>0.0</td>\n",
              "      <td>0.0</td>\n",
              "      <td>0.000000e+00</td>\n",
              "    </tr>\n",
              "    <tr>\n",
              "      <th>5505</th>\n",
              "      <td>210816_1_10_stackRaw_mc_result_20220308T150735.h5</td>\n",
              "      <td>-0.201205</td>\n",
              "      <td>0.210543</td>\n",
              "      <td>-137.807470</td>\n",
              "      <td>0.027125</td>\n",
              "      <td>1</td>\n",
              "      <td>0</td>\n",
              "      <td>0</td>\n",
              "      <td>0</td>\n",
              "      <td>0</td>\n",
              "      <td>...</td>\n",
              "      <td>0.0</td>\n",
              "      <td>1.718149e-10</td>\n",
              "      <td>0.0</td>\n",
              "      <td>0.0</td>\n",
              "      <td>0.000000e+00</td>\n",
              "      <td>0.000000e+00</td>\n",
              "      <td>0.0</td>\n",
              "      <td>0.0</td>\n",
              "      <td>0.0</td>\n",
              "      <td>0.000000e+00</td>\n",
              "    </tr>\n",
              "    <tr>\n",
              "      <th>5506</th>\n",
              "      <td>210816_1_10_stackRaw_mc_result_20220308T150735.h5</td>\n",
              "      <td>0.062201</td>\n",
              "      <td>0.478506</td>\n",
              "      <td>-101.804298</td>\n",
              "      <td>0.044868</td>\n",
              "      <td>0</td>\n",
              "      <td>1</td>\n",
              "      <td>0</td>\n",
              "      <td>0</td>\n",
              "      <td>0</td>\n",
              "      <td>...</td>\n",
              "      <td>0.0</td>\n",
              "      <td>0.000000e+00</td>\n",
              "      <td>0.0</td>\n",
              "      <td>0.0</td>\n",
              "      <td>0.000000e+00</td>\n",
              "      <td>0.000000e+00</td>\n",
              "      <td>0.0</td>\n",
              "      <td>0.0</td>\n",
              "      <td>0.0</td>\n",
              "      <td>4.350690e-13</td>\n",
              "    </tr>\n",
              "    <tr>\n",
              "      <th>5507</th>\n",
              "      <td>210816_1_10_stackRaw_mc_result_20220308T150735.h5</td>\n",
              "      <td>0.187330</td>\n",
              "      <td>0.478506</td>\n",
              "      <td>0.000000</td>\n",
              "      <td>0.000000</td>\n",
              "      <td>0</td>\n",
              "      <td>0</td>\n",
              "      <td>1</td>\n",
              "      <td>0</td>\n",
              "      <td>0</td>\n",
              "      <td>...</td>\n",
              "      <td>0.0</td>\n",
              "      <td>0.000000e+00</td>\n",
              "      <td>0.0</td>\n",
              "      <td>0.0</td>\n",
              "      <td>0.000000e+00</td>\n",
              "      <td>0.000000e+00</td>\n",
              "      <td>0.0</td>\n",
              "      <td>0.0</td>\n",
              "      <td>0.0</td>\n",
              "      <td>3.453209e-12</td>\n",
              "    </tr>\n",
              "  </tbody>\n",
              "</table>\n",
              "<p>550800 rows × 30 columns</p>\n",
              "</div>\n",
              "      <button class=\"colab-df-convert\" onclick=\"convertToInteractive('df-680da784-e838-4981-848d-66bc00154fa7')\"\n",
              "              title=\"Convert this dataframe to an interactive table.\"\n",
              "              style=\"display:none;\">\n",
              "        \n",
              "  <svg xmlns=\"http://www.w3.org/2000/svg\" height=\"24px\"viewBox=\"0 0 24 24\"\n",
              "       width=\"24px\">\n",
              "    <path d=\"M0 0h24v24H0V0z\" fill=\"none\"/>\n",
              "    <path d=\"M18.56 5.44l.94 2.06.94-2.06 2.06-.94-2.06-.94-.94-2.06-.94 2.06-2.06.94zm-11 1L8.5 8.5l.94-2.06 2.06-.94-2.06-.94L8.5 2.5l-.94 2.06-2.06.94zm10 10l.94 2.06.94-2.06 2.06-.94-2.06-.94-.94-2.06-.94 2.06-2.06.94z\"/><path d=\"M17.41 7.96l-1.37-1.37c-.4-.4-.92-.59-1.43-.59-.52 0-1.04.2-1.43.59L10.3 9.45l-7.72 7.72c-.78.78-.78 2.05 0 2.83L4 21.41c.39.39.9.59 1.41.59.51 0 1.02-.2 1.41-.59l7.78-7.78 2.81-2.81c.8-.78.8-2.07 0-2.86zM5.41 20L4 18.59l7.72-7.72 1.47 1.35L5.41 20z\"/>\n",
              "  </svg>\n",
              "      </button>\n",
              "      \n",
              "  <style>\n",
              "    .colab-df-container {\n",
              "      display:flex;\n",
              "      flex-wrap:wrap;\n",
              "      gap: 12px;\n",
              "    }\n",
              "\n",
              "    .colab-df-convert {\n",
              "      background-color: #E8F0FE;\n",
              "      border: none;\n",
              "      border-radius: 50%;\n",
              "      cursor: pointer;\n",
              "      display: none;\n",
              "      fill: #1967D2;\n",
              "      height: 32px;\n",
              "      padding: 0 0 0 0;\n",
              "      width: 32px;\n",
              "    }\n",
              "\n",
              "    .colab-df-convert:hover {\n",
              "      background-color: #E2EBFA;\n",
              "      box-shadow: 0px 1px 2px rgba(60, 64, 67, 0.3), 0px 1px 3px 1px rgba(60, 64, 67, 0.15);\n",
              "      fill: #174EA6;\n",
              "    }\n",
              "\n",
              "    [theme=dark] .colab-df-convert {\n",
              "      background-color: #3B4455;\n",
              "      fill: #D2E3FC;\n",
              "    }\n",
              "\n",
              "    [theme=dark] .colab-df-convert:hover {\n",
              "      background-color: #434B5C;\n",
              "      box-shadow: 0px 1px 3px 1px rgba(0, 0, 0, 0.15);\n",
              "      filter: drop-shadow(0px 1px 2px rgba(0, 0, 0, 0.3));\n",
              "      fill: #FFFFFF;\n",
              "    }\n",
              "  </style>\n",
              "\n",
              "      <script>\n",
              "        const buttonEl =\n",
              "          document.querySelector('#df-680da784-e838-4981-848d-66bc00154fa7 button.colab-df-convert');\n",
              "        buttonEl.style.display =\n",
              "          google.colab.kernel.accessAllowed ? 'block' : 'none';\n",
              "\n",
              "        async function convertToInteractive(key) {\n",
              "          const element = document.querySelector('#df-680da784-e838-4981-848d-66bc00154fa7');\n",
              "          const dataTable =\n",
              "            await google.colab.kernel.invokeFunction('convertToInteractive',\n",
              "                                                     [key], {});\n",
              "          if (!dataTable) return;\n",
              "\n",
              "          const docLinkHtml = 'Like what you see? Visit the ' +\n",
              "            '<a target=\"_blank\" href=https://colab.research.google.com/notebooks/data_table.ipynb>data table notebook</a>'\n",
              "            + ' to learn more about interactive tables.';\n",
              "          element.innerHTML = '';\n",
              "          dataTable['output_type'] = 'display_data';\n",
              "          await google.colab.output.renderOutput(dataTable, element);\n",
              "          const docLink = document.createElement('div');\n",
              "          docLink.innerHTML = docLinkHtml;\n",
              "          element.appendChild(docLink);\n",
              "        }\n",
              "      </script>\n",
              "    </div>\n",
              "  </div>\n",
              "  "
            ]
          },
          "metadata": {},
          "execution_count": 52
        }
      ]
    },
    {
      "cell_type": "code",
      "source": [
        "raw_dfs[raw_fnames[2]]"
      ],
      "metadata": {
        "id": "Xn24vnU4iPVi"
      },
      "execution_count": null,
      "outputs": []
    },
    {
      "cell_type": "code",
      "source": [
        "raw_dfs[raw_fnames[3]]"
      ],
      "metadata": {
        "id": "xOf0d0uhiPaP"
      },
      "execution_count": null,
      "outputs": []
    },
    {
      "cell_type": "code",
      "source": [
        "raw_dfs[raw_fnames[4]]"
      ],
      "metadata": {
        "id": "06nqYPmtiPdW"
      },
      "execution_count": null,
      "outputs": []
    },
    {
      "cell_type": "code",
      "source": [
        "# train test split on movie (when saving out csv file)"
      ],
      "metadata": {
        "id": "3GL3OrFciPf-"
      },
      "execution_count": null,
      "outputs": []
    },
    {
      "cell_type": "markdown",
      "source": [
        "## Remove outlier from 210815_0__20220213T070259RAW_stimulus_data.csv"
      ],
      "metadata": {
        "id": "zerwqS6wOhVQ"
      }
    },
    {
      "cell_type": "code",
      "source": [
        "#access the 11th roi in the first stack and drop all frames for that roi\n",
        "raw_dfs['210815_0__20220213T070259RAW_stimulus_data.csv'] = raw_dfs['210815_0__20220213T070259RAW_stimulus_data.csv'].drop(raw_dfs['210815_0__20220213T070259RAW_stimulus_data.csv'].loc[1,:,11].index)\n",
        "raw_dfs['210815_0__20220213T070259RAW_stimulus_data.csv']"
      ],
      "metadata": {
        "id": "bk_T3qmHOdIy",
        "colab": {
          "base_uri": "https://localhost:8080/",
          "height": 217
        },
        "outputId": "274095a7-94e1-493c-c3de-d6432629ee15"
      },
      "execution_count": 53,
      "outputs": [
        {
          "output_type": "error",
          "ename": "KeyError",
          "evalue": "ignored",
          "traceback": [
            "\u001b[0;31m---------------------------------------------------------------------------\u001b[0m",
            "\u001b[0;31mKeyError\u001b[0m                                  Traceback (most recent call last)",
            "\u001b[0;32m<ipython-input-53-075e528f3142>\u001b[0m in \u001b[0;36m<module>\u001b[0;34m()\u001b[0m\n\u001b[1;32m      1\u001b[0m \u001b[0;31m#access the 11th roi in the first stack and drop all frames for that roi\u001b[0m\u001b[0;34m\u001b[0m\u001b[0;34m\u001b[0m\u001b[0;34m\u001b[0m\u001b[0m\n\u001b[0;32m----> 2\u001b[0;31m \u001b[0mraw_dfs\u001b[0m\u001b[0;34m[\u001b[0m\u001b[0;34m'210815_0__20220213T070259RAW_stimulus_data.csv'\u001b[0m\u001b[0;34m]\u001b[0m \u001b[0;34m=\u001b[0m \u001b[0mraw_dfs\u001b[0m\u001b[0;34m[\u001b[0m\u001b[0;34m'210815_0__20220213T070259RAW_stimulus_data.csv'\u001b[0m\u001b[0;34m]\u001b[0m\u001b[0;34m.\u001b[0m\u001b[0mdrop\u001b[0m\u001b[0;34m(\u001b[0m\u001b[0mraw_dfs\u001b[0m\u001b[0;34m[\u001b[0m\u001b[0;34m'210815_0__20220213T070259RAW_stimulus_data.csv'\u001b[0m\u001b[0;34m]\u001b[0m\u001b[0;34m.\u001b[0m\u001b[0mloc\u001b[0m\u001b[0;34m[\u001b[0m\u001b[0;36m1\u001b[0m\u001b[0;34m,\u001b[0m\u001b[0;34m:\u001b[0m\u001b[0;34m,\u001b[0m\u001b[0;36m11\u001b[0m\u001b[0;34m]\u001b[0m\u001b[0;34m.\u001b[0m\u001b[0mindex\u001b[0m\u001b[0;34m)\u001b[0m\u001b[0;34m\u001b[0m\u001b[0;34m\u001b[0m\u001b[0m\n\u001b[0m\u001b[1;32m      3\u001b[0m \u001b[0mraw_dfs\u001b[0m\u001b[0;34m[\u001b[0m\u001b[0;34m'210815_0__20220213T070259RAW_stimulus_data.csv'\u001b[0m\u001b[0;34m]\u001b[0m\u001b[0;34m\u001b[0m\u001b[0;34m\u001b[0m\u001b[0m\n",
            "\u001b[0;31mKeyError\u001b[0m: '210815_0__20220213T070259RAW_stimulus_data.csv'"
          ]
        }
      ]
    },
    {
      "cell_type": "markdown",
      "source": [
        "## Save out DF's with train/test labels"
      ],
      "metadata": {
        "id": "qqoIbB-IB9R5"
      }
    },
    {
      "cell_type": "code",
      "source": [
        "# # SET THESE VALUES EACH TIME\n",
        "\n",
        "# folder_name = '5_frames_stim1' # create a new folder name for saving out these files (make sure this folder already exists)\n",
        "# num_train = 3\n",
        "# num_test = 2\n",
        "# num_val = 0"
      ],
      "metadata": {
        "id": "2EaBPZK_OdWx"
      },
      "execution_count": 54,
      "outputs": []
    },
    {
      "cell_type": "code",
      "source": [
        "# arr = np.array(['train'] * num_train + ['test'] * num_test + ['val'] * num_val)\n",
        "# np.random.shuffle(arr)\n",
        "\n",
        "# # save out each DF with a label indicating train, test or validation\n",
        "# for i, p in enumerate(raw_fnames):\n",
        "#   p_split = p.split('.')[-2] # chop off csv\n",
        "  \n",
        "#   raw_dfs[p].to_csv(root + folder_name + '/' + p_split + '_' + arr[i] + '.csv') #saves to new folder"
      ],
      "metadata": {
        "id": "gVBnXpj_CEVd"
      },
      "execution_count": null,
      "outputs": []
    },
    {
      "cell_type": "code",
      "source": [
        "raw_fnames"
      ],
      "metadata": {
        "colab": {
          "base_uri": "https://localhost:8080/"
        },
        "id": "Hz-F1Edzmf_N",
        "outputId": "3671ccc4-59e9-43a8-8e6b-ef693bf8aa57"
      },
      "execution_count": 58,
      "outputs": [
        {
          "output_type": "execute_result",
          "data": {
            "text/plain": [
              "['210815_1_20220308T140826RAW_stimulus_data.csv',\n",
              " '210816_1_20220308T150735RAW_stimulus_data.csv',\n",
              " '210816_0_20220308T143121RAW_stimulus_data.csv',\n",
              " '210809_2_20220308T131617RAW_stimulus_data.csv',\n",
              " '210815_0_20220308T134319RAW_stimulus_data.csv',\n",
              " '210808_0_20220309T012702RAW_stimulus_data.csv',\n",
              " '210731_0_20220308T120131RAW_stimulus_data.csv',\n",
              " '210728_0_20220309T002951RAW_stimulus_data.csv',\n",
              " '210802_0_20220308T122044RAW_stimulus_data.csv']"
            ]
          },
          "metadata": {},
          "execution_count": 58
        }
      ]
    },
    {
      "cell_type": "code",
      "source": [
        "#skipped train/test because it was giving me trouble\n",
        "\n",
        "folder_name = '5_frames_stim1'\n",
        "\n",
        "for i, p in enumerate(raw_fnames):\n",
        "  p_split = p.split('.')[-2] # chop off csv\n",
        "  \n",
        "  raw_dfs[p].to_csv(root + folder_name + '/' + p_split + '_features.csv') #saves to new folder"
      ],
      "metadata": {
        "id": "_-vpKVhxlavR"
      },
      "execution_count": 59,
      "outputs": []
    },
    {
      "cell_type": "code",
      "source": [
        "listdir(root + folder_name)"
      ],
      "metadata": {
        "colab": {
          "base_uri": "https://localhost:8080/"
        },
        "id": "pMan_BoNCTwe",
        "outputId": "fbfb143b-33d3-43ad-826c-aa1f1d702282"
      },
      "execution_count": 60,
      "outputs": [
        {
          "output_type": "execute_result",
          "data": {
            "text/plain": [
              "['210815_1_20220308T140826RAW_stimulus_data_features.csv',\n",
              " '210816_1_20220308T150735RAW_stimulus_data_features.csv',\n",
              " '210816_0_20220308T143121RAW_stimulus_data_features.csv',\n",
              " '210809_2_20220308T131617RAW_stimulus_data_features.csv',\n",
              " '210815_0_20220308T134319RAW_stimulus_data_features.csv',\n",
              " '210808_0_20220309T012702RAW_stimulus_data_features.csv',\n",
              " '210731_0_20220308T120131RAW_stimulus_data_features.csv',\n",
              " '210728_0_20220309T002951RAW_stimulus_data_features.csv',\n",
              " '210802_0_20220308T122044RAW_stimulus_data_features.csv']"
            ]
          },
          "metadata": {},
          "execution_count": 60
        }
      ]
    },
    {
      "cell_type": "code",
      "source": [
        ""
      ],
      "metadata": {
        "id": "atCMifalFeRg"
      },
      "execution_count": null,
      "outputs": []
    }
  ]
}