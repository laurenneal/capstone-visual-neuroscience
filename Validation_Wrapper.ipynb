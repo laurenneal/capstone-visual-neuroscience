{
  "nbformat": 4,
  "nbformat_minor": 0,
  "metadata": {
    "accelerator": "GPU",
    "colab": {
      "name": "Validation Wrapper.ipynb",
      "provenance": [],
      "collapsed_sections": [],
      "mount_file_id": "1W26M03hlr-YynanV8XRmWtv9bXxgIRw0",
      "authorship_tag": "ABX9TyNdpjjn4PeVK9zUFfJW/blt",
      "include_colab_link": true
    },
    "kernelspec": {
      "display_name": "Python 3",
      "name": "python3"
    },
    "language_info": {
      "name": "python"
    }
  },
  "cells": [
    {
      "cell_type": "markdown",
      "metadata": {
        "id": "view-in-github",
        "colab_type": "text"
      },
      "source": [
        "<a href=\"https://colab.research.google.com/github/laurenneal/capstone-visual-neuroscience/blob/Dylan/Validation_Wrapper.ipynb\" target=\"_parent\"><img src=\"https://colab.research.google.com/assets/colab-badge.svg\" alt=\"Open In Colab\"/></a>"
      ]
    },
    {
      "cell_type": "markdown",
      "metadata": {
        "id": "DMQyPTVxwhVU"
      },
      "source": [
        "## Setup"
      ]
    },
    {
      "cell_type": "code",
      "metadata": {
        "colab": {
          "base_uri": "https://localhost:8080/"
        },
        "id": "BbIj2QeEAbTE",
        "outputId": "54d17601-e954-487b-cd01-475d8e5b3397"
      },
      "source": [
        "from google.colab import drive\n",
        "drive.mount('/content/drive')"
      ],
      "execution_count": null,
      "outputs": [
        {
          "output_type": "stream",
          "name": "stdout",
          "text": [
            "Drive already mounted at /content/drive; to attempt to forcibly remount, call drive.mount(\"/content/drive\", force_remount=True).\n"
          ]
        }
      ]
    },
    {
      "cell_type": "code",
      "metadata": {
        "colab": {
          "base_uri": "https://localhost:8080/"
        },
        "id": "VrE1xeswQNHM",
        "outputId": "8b55dafc-f0aa-4491-d5bd-fa36f23aceba"
      },
      "source": [
        "# Install CaImAn - takes around 2 minutes\n",
        "\n",
        "!git clone https://github.com/flatironinstitute/CaImAn.git\n",
        "%cd '/content/CaImAn/'\n",
        "!pip install -e .\n",
        "\n",
        "# Install caiman dependencies (&> /dev/null will suppress the hundreds of printed lines in the output)\n",
        "!pip install -r requirements.txt &> /dev/null\n",
        "\n",
        "#import other dependencies\n",
        "import cv2\n",
        "import glob\n",
        "import numpy as np\n",
        "import os\n",
        "import matplotlib.pyplot as plt\n",
        "import imageio\n",
        "\n",
        "#IMPORTANT! Newer versions of h5py will cause errors when saving results\n",
        "!pip install h5py==2.10.0\n",
        "import h5py\n",
        "\n",
        "#Set up caiman\n",
        "!python setup.py build_ext -i\n",
        "\n",
        "#Other file setup\n",
        "!python caimanmanager.py install --inplace\n",
        "\n",
        "#Caiman imports\n",
        "import caiman as cm\n",
        "from caiman.motion_correction import MotionCorrect\n",
        "from caiman.source_extraction.cnmf import cnmf as cnmf\n",
        "from caiman.source_extraction.cnmf import params as params\n",
        "from caiman.utils.utils import download_demo\n",
        "from caiman.utils.visualization import plot_contours, nb_view_patches, nb_plot_contour\n",
        "from caiman.summary_images import local_correlations_movie_offline\n",
        "from scipy.ndimage import center_of_mass\n",
        "from IPython.display import display, clear_output"
      ],
      "execution_count": null,
      "outputs": [
        {
          "output_type": "stream",
          "name": "stdout",
          "text": [
            "Cloning into 'CaImAn'...\n",
            "remote: Enumerating objects: 24954, done.\u001b[K\n",
            "remote: Counting objects: 100% (889/889), done.\u001b[K\n",
            "remote: Compressing objects: 100% (427/427), done.\u001b[K\n",
            "remote: Total 24954 (delta 501), reused 796 (delta 444), pack-reused 24065\u001b[K\n",
            "Receiving objects: 100% (24954/24954), 518.53 MiB | 25.93 MiB/s, done.\n",
            "Resolving deltas: 100% (16714/16714), done.\n",
            "Checking out files: 100% (317/317), done.\n",
            "/content/CaImAn\n",
            "Obtaining file:///content/CaImAn\n",
            "Installing collected packages: caiman\n",
            "  Running setup.py develop for caiman\n",
            "Successfully installed caiman-1.9.7\n",
            "Collecting h5py==2.10.0\n",
            "  Downloading h5py-2.10.0-cp37-cp37m-manylinux1_x86_64.whl (2.9 MB)\n",
            "\u001b[K     |████████████████████████████████| 2.9 MB 12.6 MB/s \n",
            "\u001b[?25hRequirement already satisfied: numpy>=1.7 in /usr/local/lib/python3.7/dist-packages (from h5py==2.10.0) (1.19.5)\n",
            "Requirement already satisfied: six in /usr/local/lib/python3.7/dist-packages (from h5py==2.10.0) (1.15.0)\n",
            "Installing collected packages: h5py\n",
            "  Attempting uninstall: h5py\n",
            "    Found existing installation: h5py 3.1.0\n",
            "    Uninstalling h5py-3.1.0:\n",
            "      Successfully uninstalled h5py-3.1.0\n",
            "Successfully installed h5py-2.10.0\n",
            "running build_ext\n",
            "Installed /root/caiman_data\n"
          ]
        }
      ]
    },
    {
      "cell_type": "markdown",
      "metadata": {
        "id": "fCRFFvODsO4i"
      },
      "source": [
        "## Get paths to movie files and labelled ROI masks"
      ]
    },
    {
      "cell_type": "code",
      "metadata": {
        "colab": {
          "base_uri": "https://localhost:8080/"
        },
        "id": "DfNJcFmeEq23",
        "outputId": "14c64bbe-cdc1-47e9-8118-6be3c29754a3"
      },
      "source": [
        "#get a list of our masks and a list of our stacks in the same order\n",
        "from os import listdir\n",
        "maskpath = '../drive/MyDrive/DS6011_Capstone_VisualNeuroscience/DATA/manualROIs'\n",
        "mask_filenames = [f for f in listdir(maskpath) if 'manualROIs' in f]\n",
        "mask_filenames = sorted(mask_filenames)\n",
        "mask_filenames"
      ],
      "execution_count": null,
      "outputs": [
        {
          "output_type": "execute_result",
          "data": {
            "text/plain": [
              "['210728_0_1_manualROIs_tm2_tm9_syt.mat',\n",
              " '210731_0_1_manualROIs_mix2_syt.mat',\n",
              " '210815_0_1_manualROIs_mix1_syt.mat',\n",
              " '211023_0_1_manualROIs_tm2_tm4_syt.mat',\n",
              " '211106_0_1_manualROIs_tm1_t5_syt.mat',\n",
              " '211106_1_1_manualROIs_tm4_t5_syt.mat']"
            ]
          },
          "metadata": {},
          "execution_count": 2
        }
      ]
    },
    {
      "cell_type": "code",
      "metadata": {
        "colab": {
          "base_uri": "https://localhost:8080/"
        },
        "id": "KBBLhWJoFMXP",
        "outputId": "97a64b52-9f69-4ea1-e0bd-c0859511cac0"
      },
      "source": [
        "stack_indices = [x[:10] for x in mask_filenames] #get the index portion of the masks\n",
        "stack_celltypes = [x[22:(len(x)-4)] for x in mask_filenames] #get the cell type descriptions\n",
        "\n",
        "#create filenames in mat and h5, well only keep what exists\n",
        "stack_filenames_h5 = ['CLEAN_' + stack_indices[x] + '_stackRaw_mc_' + stack_celltypes[x] \\\n",
        "                   + '_.h5' for x in range(len(mask_filenames))] #reconstruct filenames for the movies we have masks for\n",
        "stack_filenames_mat = ['CLEAN_' + stack_indices[x] + '_stackRaw_mc_' + stack_celltypes[x] \\\n",
        "                   + '_.mat' for x in range(len(mask_filenames))] #reconstruct filenames for the movies we have masks for\n",
        "stack_filenames = stack_filenames_h5 + stack_filenames_mat \n",
        "stack_filenames"
      ],
      "execution_count": null,
      "outputs": [
        {
          "output_type": "execute_result",
          "data": {
            "text/plain": [
              "['CLEAN_210728_0_1_stackRaw_mc_tm2_tm9_syt_.h5',\n",
              " 'CLEAN_210731_0_1_stackRaw_mc_mix2_syt_.h5',\n",
              " 'CLEAN_210815_0_1_stackRaw_mc_mix1_syt_.h5',\n",
              " 'CLEAN_211023_0_1_stackRaw_mc_tm2_tm4_syt_.h5',\n",
              " 'CLEAN_211106_0_1_stackRaw_mc_tm1_t5_syt_.h5',\n",
              " 'CLEAN_211106_1_1_stackRaw_mc_tm4_t5_syt_.h5',\n",
              " 'CLEAN_210728_0_1_stackRaw_mc_tm2_tm9_syt_.mat',\n",
              " 'CLEAN_210731_0_1_stackRaw_mc_mix2_syt_.mat',\n",
              " 'CLEAN_210815_0_1_stackRaw_mc_mix1_syt_.mat',\n",
              " 'CLEAN_211023_0_1_stackRaw_mc_tm2_tm4_syt_.mat',\n",
              " 'CLEAN_211106_0_1_stackRaw_mc_tm1_t5_syt_.mat',\n",
              " 'CLEAN_211106_1_1_stackRaw_mc_tm4_t5_syt_.mat']"
            ]
          },
          "metadata": {},
          "execution_count": 3
        }
      ]
    },
    {
      "cell_type": "code",
      "metadata": {
        "colab": {
          "base_uri": "https://localhost:8080/"
        },
        "id": "7cRs3HHyG0nV",
        "outputId": "9ac5aa30-d589-41d7-e8ed-03efef866e4e"
      },
      "source": [
        "#checking that files exist in our cleaned file\n",
        "stackpath = '../drive/MyDrive/DS6011_Capstone_VisualNeuroscience/DATA/stackRaw/CLEANED'\n",
        "stackfiles = [f for f in listdir(stackpath) if f in stack_filenames]\n",
        "stackfiles = sorted(stackfiles)\n",
        "stackfiles"
      ],
      "execution_count": null,
      "outputs": [
        {
          "output_type": "execute_result",
          "data": {
            "text/plain": [
              "['CLEAN_210728_0_1_stackRaw_mc_tm2_tm9_syt_.h5',\n",
              " 'CLEAN_210731_0_1_stackRaw_mc_mix2_syt_.h5',\n",
              " 'CLEAN_210815_0_1_stackRaw_mc_mix1_syt_.h5',\n",
              " 'CLEAN_211023_0_1_stackRaw_mc_tm2_tm4_syt_.h5',\n",
              " 'CLEAN_211106_0_1_stackRaw_mc_tm1_t5_syt_.h5',\n",
              " 'CLEAN_211106_1_1_stackRaw_mc_tm4_t5_syt_.h5']"
            ]
          },
          "metadata": {},
          "execution_count": 4
        }
      ]
    },
    {
      "cell_type": "code",
      "metadata": {
        "id": "BkrZMX_oLZ8J"
      },
      "source": [
        "#convert filenames back into paths\n",
        "maskpaths = [maskpath+'/'+f for f in mask_filenames]\n",
        "stackpaths = [stackpath+'/'+f for f in stackfiles]"
      ],
      "execution_count": null,
      "outputs": []
    },
    {
      "cell_type": "code",
      "metadata": {
        "colab": {
          "base_uri": "https://localhost:8080/"
        },
        "id": "5O3Ta8XtKXFQ",
        "outputId": "078fa381-5a1d-4d12-e16b-50e4bc7b6592"
      },
      "source": [
        "#join the lists into pairs of tuples\n",
        "mask_stack_pairs = list(map(lambda x, y:[x,y], maskpaths, stackpaths))\n",
        "mask_stack_pairs"
      ],
      "execution_count": null,
      "outputs": [
        {
          "output_type": "execute_result",
          "data": {
            "text/plain": [
              "[['../drive/MyDrive/DS6011_Capstone_VisualNeuroscience/DATA/manualROIs/210728_0_1_manualROIs_tm2_tm9_syt.mat',\n",
              "  '../drive/MyDrive/DS6011_Capstone_VisualNeuroscience/DATA/stackRaw/CLEANED/CLEAN_210728_0_1_stackRaw_mc_tm2_tm9_syt_.h5'],\n",
              " ['../drive/MyDrive/DS6011_Capstone_VisualNeuroscience/DATA/manualROIs/210731_0_1_manualROIs_mix2_syt.mat',\n",
              "  '../drive/MyDrive/DS6011_Capstone_VisualNeuroscience/DATA/stackRaw/CLEANED/CLEAN_210731_0_1_stackRaw_mc_mix2_syt_.h5'],\n",
              " ['../drive/MyDrive/DS6011_Capstone_VisualNeuroscience/DATA/manualROIs/210815_0_1_manualROIs_mix1_syt.mat',\n",
              "  '../drive/MyDrive/DS6011_Capstone_VisualNeuroscience/DATA/stackRaw/CLEANED/CLEAN_210815_0_1_stackRaw_mc_mix1_syt_.h5'],\n",
              " ['../drive/MyDrive/DS6011_Capstone_VisualNeuroscience/DATA/manualROIs/211023_0_1_manualROIs_tm2_tm4_syt.mat',\n",
              "  '../drive/MyDrive/DS6011_Capstone_VisualNeuroscience/DATA/stackRaw/CLEANED/CLEAN_211023_0_1_stackRaw_mc_tm2_tm4_syt_.h5'],\n",
              " ['../drive/MyDrive/DS6011_Capstone_VisualNeuroscience/DATA/manualROIs/211106_0_1_manualROIs_tm1_t5_syt.mat',\n",
              "  '../drive/MyDrive/DS6011_Capstone_VisualNeuroscience/DATA/stackRaw/CLEANED/CLEAN_211106_0_1_stackRaw_mc_tm1_t5_syt_.h5'],\n",
              " ['../drive/MyDrive/DS6011_Capstone_VisualNeuroscience/DATA/manualROIs/211106_1_1_manualROIs_tm4_t5_syt.mat',\n",
              "  '../drive/MyDrive/DS6011_Capstone_VisualNeuroscience/DATA/stackRaw/CLEANED/CLEAN_211106_1_1_stackRaw_mc_tm4_t5_syt_.h5']]"
            ]
          },
          "metadata": {},
          "execution_count": 6
        }
      ]
    },
    {
      "cell_type": "markdown",
      "metadata": {
        "id": "OzmBKC4DsV2y"
      },
      "source": [
        "## Initialize parameters object with starter values"
      ]
    },
    {
      "cell_type": "code",
      "metadata": {
        "id": "24iRFksugPTv"
      },
      "source": [
        "#create parameters object\n",
        "opts = params.CNMFParams()\n",
        "#fname will be assigned in the loop\n",
        "fnames = []\n",
        "subfolder = 'stackRaw_mc'\n",
        "opts.motion['var_name_hdf5'] = subfolder\n",
        "opts.data['var_name_hdf5'] = subfolder"
      ],
      "execution_count": null,
      "outputs": []
    },
    {
      "cell_type": "code",
      "metadata": {
        "id": "tLzfCy0wFb-g"
      },
      "source": [
        "# set initial values for extraction and evaluation\n",
        "# most of these are specific to our data and will not need to be changed during optimization\n",
        "\n",
        "# overall params about our data\n",
        "\n",
        "fr = 20                 # approximate frame rate of data - CONFIRMED FPS\n",
        "decay_time = .4         # length of transient - CONFIRMED APPROPRIATE FOR OUR INDICATOR GCaMP6f\n",
        "dims = [128, 256]       # dimensions of the FOV in pixels - CONFIRMED\n",
        "dxy = [.29, .29]        # resolution of 1 pixel in um - CONFIRMED BY CARL\n",
        "\n",
        "opts.set('data', {'fnames': fnames,\n",
        "                   'fr': fr,\n",
        "                   'decay_time': decay_time,\n",
        "                   'dims': dims,\n",
        "                   'dxy': dxy\n",
        "                  })\n",
        "\n",
        "\n",
        "# params related to the temporal traces\n",
        "\n",
        "p = 0                   # order of the autoregressive system - 0 from carl's code\n",
        "fudge_factor = 1        # (default is 0.96; Carl's value = 1) -- bias correction factor for discrete time constants\n",
        "ITER = 5                # (default is 2; Carl's value=5) -- block coordinate descent iterations\n",
        "tnb = 1                  # temporal global background components - TUNE\n",
        "\n",
        "opts.set('temporal', {'p': p,\n",
        "                      'fudge_factor': fudge_factor,\n",
        "                      'ITER': ITER,\n",
        "                      'nb': tnb\n",
        "                 })\n",
        "\n",
        "# p is also set in the preprocessing step\n",
        "opts.set('preprocess', {'p': p\n",
        "                 })\n",
        "\n",
        "\n",
        "\n",
        "# params related to the FOV and patches for parallel processing\n",
        "\n",
        "is_patches = True      # flag for processing in patches or not - turn on or off\n",
        "\n",
        "if is_patches:          # PROCESS IN PATCHES AND THEN COMBINE \n",
        "    rf = 25             # half size of each patch -not tuned\n",
        "    stride = 5          # overlap between patches -not tuned\n",
        "    K = 3               # number of components in each patch - TUNE - gets set later in INIT params\n",
        "    p_patch = p\n",
        "\n",
        "else:                   # PROCESS THE WHOLE FOV AT ONCE\n",
        "    rf = None           # setting these parameters to None Not used\n",
        "    stride = None       # will run CNMF on the whole FOV not used\n",
        "    K = 10              # number of neurons expected (in the whole FOV) - not used\n",
        "\n",
        "n_processes = 2         # Number of processes to run in parallel, 2 for 2 cores available in Colab\n",
        "\n",
        "opts.set('patch', {'rf': rf,\n",
        "                   'stride': stride,\n",
        "                   'n_processes': n_processes\n",
        "                  })   \n",
        "\n",
        "\n",
        "\n",
        "# initialization params\n",
        "ssub = 2                # spatial downsampling\n",
        "tsub = 2                # temporal downsampling\n",
        "ssub_B = 3              # background spatial downsampling\n",
        "gSig = [0,0]            # radius (half-size) of average neurons (in pixels)\n",
        "nb = 1                  # number of background components\n",
        "method_init = 'sparse_nmf' #Caiman defaults to greedy_roi, carl's code uses sparse_nmf, but this runs MUCH slower\n",
        "\n",
        "opts.set('init', {'K': K,            # declared above in patch params    \n",
        "                   'gSig': gSig,      \n",
        "                   'tsub': tsub,\n",
        "                   'ssub': ssub,\n",
        "                   'ssub_B': ssub_B,\n",
        "                   'nb': nb,\n",
        "                   'method_init': method_init\n",
        "                  })\n",
        "\n",
        "# parameters related to merging correlated ROIs\n",
        "merge_thr = 0.96     # merging threshold, max correlation allowed - FOUND VIA TUNING\n",
        "\n",
        "opts.set('merging', {'merge_thr': merge_thr\n",
        "                            })\n",
        "\n",
        "\n",
        "#set some spatial params\n",
        "snb = 2                  # spatial global background components - TUNE\n",
        "\n",
        "opts.set('spatial', {'nb': snb\n",
        "                            })\n",
        "\n",
        "# %% COMPONENT EVALUATION\n",
        "# the components are evaluated in three ways:\n",
        "#   a) the shape of each component must be correlated with the data\n",
        "#   b) a minimum peak SNR is required over the length of a transient\n",
        "#   c) each shape passes a CNN based classifier (this will pick up only neurons\n",
        "#           and filter out active processes)\n",
        "\n",
        "\n",
        "#Not sure if these should be tuned or not\n",
        "\n",
        "min_SNR = 2.5      # peak SNR for accepted components (if above this, acept)\n",
        "SNR_lowest = 1         # minimum SNR for accepted components (if below this, reject)\n",
        "rval_thr = 0.9     # space correlation threshold (if above this, accept)\n",
        "\n",
        "use_cnn = True      # use the CNN classifier affects if 2 below params are used\n",
        "min_cnn_thr = 0.9  # if cnn classifier predicts below this value, reject\n",
        "cnn_lowest = 0.1   # neurons with cnn probability lower than this value are rejected\n",
        "\n",
        "opts.set('quality', {'min_SNR': min_SNR,\n",
        "                     'SNR_lowest': SNR_lowest,\n",
        "                     'rval_thr': rval_thr,\n",
        "                     'use_cnn': use_cnn,\n",
        "                     'min_cnn_thr': min_cnn_thr,\n",
        "                     'cnn_lowest': cnn_lowest})\n",
        "\n",
        "\n",
        "#Manually assign subfolder variable\n",
        "opts.motion['var_name_hdf5'] = subfolder\n",
        "opts.data['var_name_hdf5'] = subfolder\n",
        "\n",
        "\n",
        "\n",
        "#motion correction not used for our parameter tuning. Leaving these params here in case they get used in the future.\n",
        "\n",
        "#%% First setup some parameters for data and motion correction\n",
        "# dataset dependent parameters\n",
        "\n",
        "# ADJUSTED FROM DEFAULTS TO CARL'S PARAMS ON 11/13 (not completely)\n",
        "\n",
        "fr = 20             # imaging rate in frames per second\n",
        "decay_time = 0.4    # length of a typical transient in seconds\n",
        "dxy = (.29, .29)      # spatial resolution in x and y in (um per pixel)\n",
        "# note the lower than usual spatial resolution here\n",
        "max_shift_um = (12., 12.)       # maximum shift in um\n",
        "patch_motion_um = (100., 100.)  # patch size for non-rigid correction in um\n",
        "\n",
        "# motion correction parameters\n",
        "pw_rigid = False       # flag to select rigid vs pw_rigid motion correction\n",
        "# maximum allowed rigid shift in pixels\n",
        "max_shifts = [int(a/b) for a, b in zip(max_shift_um, dxy)]\n",
        "# start a new patch for pw-rigid motion correction every x pixels\n",
        "strides = tuple([int(a/b) for a, b in zip(patch_motion_um, dxy)])\n",
        "# overlap between pathes (size of patch in pixels: strides+overlaps)\n",
        "overlaps = (24, 24)\n",
        "# maximum deviation allowed for patch with respect to rigid shifts\n",
        "max_deviation_rigid = 3\n",
        "\n",
        "opts.set('motion', {\n",
        "    'fnames': fnames,\n",
        "    'fr': fr,\n",
        "    'decay_time': decay_time,\n",
        "    'dxy': dxy,\n",
        "    'pw_rigid': pw_rigid,\n",
        "    'max_shifts': max_shifts,\n",
        "    'strides': strides,\n",
        "    'overlaps': overlaps,\n",
        "    'max_deviation_rigid': max_deviation_rigid,\n",
        "    'border_nan': 'copy'\n",
        "})"
      ],
      "execution_count": null,
      "outputs": []
    },
    {
      "cell_type": "markdown",
      "metadata": {
        "id": "8T37S56psacn"
      },
      "source": [
        "## Define pipeline function to run Caiman"
      ]
    },
    {
      "cell_type": "code",
      "metadata": {
        "id": "1yT59EZk84XL"
      },
      "source": [
        "#Function to run cnmf, run seeded cnmf using masks, then return validation\n",
        "\n",
        "def score_params(path_to_stack, path_to_masks, opts):\n",
        "  import warnings\n",
        "  warnings.simplefilter(action='ignore', category=FutureWarning)\n",
        "\n",
        "  fnames = [path_to_stack]\n",
        "\n",
        "  try:\n",
        "\n",
        "    if 'dview' in locals():\n",
        "      cm.stop_server(dview=dview)\n",
        "    dview = cm.cluster.start_server(ncpus=2)\n",
        "\n",
        "    #Run CNMF on raw stack using passed params\n",
        "    print('starting cnmf')\n",
        "    cnm = cnmf.CNMF(n_processes = 2, params=opts, dview=dview)\n",
        "    print('cnm object initialized')\n",
        "    cnm = cnm.fit_file(motion_correct = False, include_eval=True)\n",
        "    print('cnmf and component evaluation completed')\n",
        "\n",
        "\n",
        "    #Read in masks and reformat\n",
        "    g = h5py.File(path_to_masks, 'r')\n",
        "\n",
        "    #transpose the matrix and save to an array A\n",
        "    mask_A = g['bwMaskStack'][:].T\n",
        "\n",
        "    g.close()\n",
        "\n",
        "    #rearrange the dimensions and show the new shape\n",
        "    mask_A = mask_A.transpose(1,0,2)\n",
        "\n",
        "    #reshape to 2D, first dimension is 128*256 (32768), 2nd dimension is the # of ROI's\n",
        "    mask_A = mask_A.reshape((mask_A.shape[1]*mask_A.shape[0]), mask_A.shape[2])\n",
        "\n",
        "    #convert the values from 0/1 to boolean False/True\n",
        "    mask_A = np.array(mask_A, dtype=bool)\n",
        "    print('mask read in and reformatted')\n",
        "\n",
        "    #Seeded CNMF only works when seeded using mmap\n",
        "    #import pathlib\n",
        "\n",
        "    #read data from the original cnmf's mmap location\n",
        "    Yr, dims, T = cm.load_memmap(cnm.mmap_file)\n",
        "\n",
        "    # load frames in python format (T x X x Y)\n",
        "    mov = np.reshape(Yr.T, [T] + list(dims), order='F')\n",
        "    print('movie matrix loaded for seeded cnmf')\n",
        "\n",
        "\n",
        "    #For seeded CNMF, need to adjust some params\n",
        "    opts.patch['only_init'] = False\n",
        "    opts.data['use_cnn'] = False\n",
        "\n",
        "    print('params adjusted for seeded cnmf')\n",
        "    \n",
        "    #Initialize a new cnmf object and pass in our masks as the \"Ain\" param\n",
        "    #\"Ain\" is A-in, meaning the A matrix holding the spatial footprints of the roi's\n",
        "    cnm_seeded = cnmf.CNMF(n_processes = 2, params=opts, dview=dview, Ain=mask_A)\n",
        "    print('seeded cnmf object initialized')\n",
        "    cnm_seeded.fit(mov)\n",
        "    print('seeded cnmf completed')\n",
        "\n",
        "    #Try running register_ROIs and see what happens\n",
        "    matched_ROIs1, matched_ROIs2, non_matched1, non_matched2, performance, A2 = cm.base.rois.register_ROIs(cnm_seeded.estimates.A, cnm.estimates.A, dims=dims)\n",
        "    print('validation and scoring completed')\n",
        "\n",
        "    #restore params for the next regular cnmf iteration\n",
        "    opts.patch['only_init'] = True\n",
        "    #opts.data['use_cnn'] = True\n",
        "\n",
        "    cm.stop_server(dview=dview)\n",
        "\n",
        "\n",
        "    #return performance metrics\n",
        "    return {'matched_ROIs1': matched_ROIs1,\n",
        "            'matched_ROIs2': matched_ROIs2,\n",
        "            'non_matched1': non_matched1,\n",
        "            'non_matched2': non_matched2, \n",
        "            'performance': performance,\n",
        "            'A2': A2,\n",
        "            'cnm_estimates': cnm.estimates,\n",
        "            'seeded_cnm_estimates': cnm_seeded.estimates,\n",
        "            'ROI_mask': mask_A,\n",
        "            'Correlation_img': cnm.estimates.Cn}\n",
        "\n",
        "  except:\n",
        "    print('failed')\n",
        "    cm.stop_server(dview=dview)"
      ],
      "execution_count": null,
      "outputs": []
    },
    {
      "cell_type": "markdown",
      "metadata": {
        "id": "2AT-5zoysj-B"
      },
      "source": [
        "## Function to score all our stacks and return the avg f1"
      ]
    },
    {
      "cell_type": "code",
      "metadata": {
        "id": "BJtcnIiCBWQb"
      },
      "source": [
        "#loop through the stack-mask pairs and print the accuracy results\n",
        "\n",
        "def score_all_stacks(all_params):\n",
        "\n",
        "  #print(all_params)\n",
        "\n",
        "  K = all_params[0]\n",
        "  gSig = [all_params[1], all_params[2]] #param passes one value, recreate [x,y] structure\n",
        "  SNR_lowest = all_params[3]\n",
        "\n",
        "\n",
        "  from statistics import mean\n",
        "\n",
        "  #hard coded paths since these won't change for now, proceduralize later\n",
        "  mask_stack_pairs = [['../drive/MyDrive/DS6011_Capstone_VisualNeuroscience/DATA/manualROIs/210728_0_1_manualROIs_tm2_tm9_syt.mat',\n",
        "  '../drive/MyDrive/DS6011_Capstone_VisualNeuroscience/DATA/stackRaw/CLEANED/CLEAN_210728_0_1_stackRaw_mc_tm2_tm9_syt_.h5'],\n",
        " ['../drive/MyDrive/DS6011_Capstone_VisualNeuroscience/DATA/manualROIs/210731_0_1_manualROIs_mix2_syt.mat',\n",
        "  '../drive/MyDrive/DS6011_Capstone_VisualNeuroscience/DATA/stackRaw/CLEANED/CLEAN_210731_0_1_stackRaw_mc_mix2_syt_.h5'],\n",
        " ['../drive/MyDrive/DS6011_Capstone_VisualNeuroscience/DATA/manualROIs/210815_0_1_manualROIs_mix1_syt.mat',\n",
        "  '../drive/MyDrive/DS6011_Capstone_VisualNeuroscience/DATA/stackRaw/CLEANED/CLEAN_210815_0_1_stackRaw_mc_mix1_syt_.h5'],\n",
        " ['../drive/MyDrive/DS6011_Capstone_VisualNeuroscience/DATA/manualROIs/211023_0_1_manualROIs_tm2_tm4_syt.mat',\n",
        "  '../drive/MyDrive/DS6011_Capstone_VisualNeuroscience/DATA/stackRaw/CLEANED/CLEAN_211023_0_1_stackRaw_mc_tm2_tm4_syt_.h5'],\n",
        " ['../drive/MyDrive/DS6011_Capstone_VisualNeuroscience/DATA/manualROIs/211106_0_1_manualROIs_tm1_t5_syt.mat',\n",
        "  '../drive/MyDrive/DS6011_Capstone_VisualNeuroscience/DATA/stackRaw/CLEANED/CLEAN_211106_0_1_stackRaw_mc_tm1_t5_syt_.h5'],\n",
        " ['../drive/MyDrive/DS6011_Capstone_VisualNeuroscience/DATA/manualROIs/211106_1_1_manualROIs_tm4_t5_syt.mat',\n",
        "  '../drive/MyDrive/DS6011_Capstone_VisualNeuroscience/DATA/stackRaw/CLEANED/CLEAN_211106_1_1_stackRaw_mc_tm4_t5_syt_.h5']]\n",
        "\n",
        "\n",
        "  #Assign params passed in by the wrapper function\n",
        "  #opts.init['K'] = K\n",
        "  #opts.init['gSig'] = gSig\n",
        "  #opts.quality['SNR_lowest'] = SNR_lowest\n",
        "  #opts.set('temporal', {'p': 0})\n",
        "\n",
        "  #store precisions from each stack-mask pair for this iteration in a list, we'll return the average\n",
        "  f1s = []\n",
        "\n",
        "  results_dict = {}\n",
        "\n",
        "  #this loop will run all stacks through caiman using a given set of parameters to get the accuracy\n",
        "  for pair in mask_stack_pairs:\n",
        "    path_to_stack = pair[1]\n",
        "    path_to_masks = pair[0]\n",
        "\n",
        "    #set fnames before calling caiman function\n",
        "    opts.data['fnames'] = [path_to_stack]\n",
        "    print(opts.data['fnames'])\n",
        "\n",
        "    results = score_params(path_to_stack=path_to_stack, \\\n",
        "              path_to_masks=path_to_masks, \\\n",
        "              opts=opts)\n",
        "\n",
        "\n",
        "    #store this stack-mask pair's precision\n",
        "    #later handle some kind of logging to keep a dict of info returned\n",
        "    f1s.append(results['performance']['precision'])\n",
        "\n",
        "    results_dict[path_to_masks.split('/')[6][0:-4]] = results\n",
        "\n",
        "    print(results['performance'])\n",
        "\n",
        "  #return the mean precision for all mask-stack pairs\n",
        "  #negative of the precision, so that the optimizer can minimize\n",
        "  print(f1s)\n",
        "  return results_dict\n",
        "\n"
      ],
      "execution_count": null,
      "outputs": []
    },
    {
      "cell_type": "code",
      "metadata": {
        "id": "8MQCOuSImYRO"
      },
      "source": [
        "# #loop through the stack-mask pairs and print the accuracy results\n",
        "\n",
        "# #JORDAN'S\n",
        "# def score_all_stacks(all_params):\n",
        "\n",
        "#   print(all_params)\n",
        "\n",
        "#   K = all_params[0]\n",
        "#   nb = all_params[1]\n",
        "#   merge_thresh = all_params[2]\n",
        "#   gSig = [all_params[3], all_params[4]] #param passes one value, recreate [x,y] structure\n",
        "#   SNR_lowest = all_params[5]\n",
        "\n",
        "\n",
        "#   from statistics import mean\n",
        "\n",
        "#   #hard coded paths since these won't change for now, proceduralize later\n",
        "#   mask_stack_pairs = [['../drive/MyDrive/DS6011_Capstone_VisualNeuroscience/DATA/manualROIs/210728_0_1_manualROIs_tm2_tm9_syt.mat',\n",
        "#   '../drive/MyDrive/DS6011_Capstone_VisualNeuroscience/DATA/stackRaw/CLEANED/CLEAN_210728_0_1_stackRaw_mc_tm2_tm9_syt_.h5'],\n",
        "#  ['../drive/MyDrive/DS6011_Capstone_VisualNeuroscience/DATA/manualROIs/210731_0_1_manualROIs_mix2_syt.mat',\n",
        "#   '../drive/MyDrive/DS6011_Capstone_VisualNeuroscience/DATA/stackRaw/CLEANED/CLEAN_210731_0_1_stackRaw_mc_mix2_syt_.h5'],\n",
        "#  ['../drive/MyDrive/DS6011_Capstone_VisualNeuroscience/DATA/manualROIs/210815_0_1_manualROIs_mix1_syt.mat',\n",
        "#   '../drive/MyDrive/DS6011_Capstone_VisualNeuroscience/DATA/stackRaw/CLEANED/CLEAN_210815_0_1_stackRaw_mc_mix1_syt_.h5'],\n",
        "#  ['../drive/MyDrive/DS6011_Capstone_VisualNeuroscience/DATA/manualROIs/211023_0_1_manualROIs_tm2_tm4_syt.mat',\n",
        "#   '../drive/MyDrive/DS6011_Capstone_VisualNeuroscience/DATA/stackRaw/CLEANED/CLEAN_211023_0_1_stackRaw_mc_tm2_tm4_syt_.h5'],\n",
        "#  ['../drive/MyDrive/DS6011_Capstone_VisualNeuroscience/DATA/manualROIs/211106_0_1_manualROIs_tm1_t5_syt.mat',\n",
        "#   '../drive/MyDrive/DS6011_Capstone_VisualNeuroscience/DATA/stackRaw/CLEANED/CLEAN_211106_0_1_stackRaw_mc_tm1_t5_syt_.h5'],\n",
        "#  ['../drive/MyDrive/DS6011_Capstone_VisualNeuroscience/DATA/manualROIs/211106_1_1_manualROIs_tm4_t5_syt.mat',\n",
        "#   '../drive/MyDrive/DS6011_Capstone_VisualNeuroscience/DATA/stackRaw/CLEANED/CLEAN_211106_1_1_stackRaw_mc_tm4_t5_syt_.h5']]\n",
        "\n",
        "\n",
        "#   #Assign params passed in by the wrapper function\n",
        "#   opts.init['K'] = K\n",
        "#   opts.init['nb'] = nb #nb gets assigned in three different dicts\n",
        "#   opts.spatial['nb'] = nb\n",
        "#   opts.temporal['nb'] = nb\n",
        "#   opts.merging['merge_thresh'] = merge_thresh\n",
        "#   opts.init['gSig'] = gSig\n",
        "#   opts.quality['SNR_lowest'] = SNR_lowest #added after latest run\n",
        "\n",
        "#   #store precisions from each stack-mask pair for this iteration in a list, we'll return the average\n",
        "#   f1s = []\n",
        "\n",
        "#   results_dict = {}\n",
        "\n",
        "#   #this loop will run all stacks through caiman using a given set of parameters to get the accuracy\n",
        "#   for pair in mask_stack_pairs:\n",
        "#     path_to_stack = pair[1]\n",
        "#     path_to_masks = pair[0]\n",
        "\n",
        "#     #set fnames before calling caiman function\n",
        "#     opts.data['fnames'] = [path_to_stack]\n",
        "#     print(opts.data['fnames'])\n",
        "\n",
        "#     results = score_params(path_to_stack=path_to_stack, \\\n",
        "#               path_to_masks=path_to_masks, \\\n",
        "#               opts=opts)\n",
        "\n",
        "\n",
        "#     #store this stack-mask pair's precision\n",
        "#     #later handle some kind of logging to keep a dict of info returned\n",
        "#     f1s.append(results['performance']['f1_score'])\n",
        "\n",
        "#     results_dict[path_to_masks.split('/')[6][0:-4]] = results\n",
        "\n",
        "#     print(results['performance'])\n",
        "\n",
        "#   #return the mean precision for all mask-stack pairs\n",
        "#   #negative of the precision, so that the optimizer can minimize\n",
        "#   print(f1s)\n",
        "#   return results_dict\n",
        "\n"
      ],
      "execution_count": null,
      "outputs": []
    },
    {
      "cell_type": "code",
      "metadata": {
        "id": "AMvloKasuatX"
      },
      "source": [
        "# #loop through the stack-mask pairs and print the accuracy results\n",
        "\n",
        "# #LAURENS\n",
        "# def score_all_stacks(all_params):\n",
        "\n",
        "#   print(all_params)\n",
        "\n",
        "#   K = all_params[0]\n",
        "#   nb = all_params[1]\n",
        "#   merge_thresh = all_params[2]\n",
        "#   gSig = [all_params[3], all_params[4]] #param passes one value, recreate [x,y] structure\n",
        "#   SNR_lowest = all_params[5]\n",
        "\n",
        "\n",
        "#   from statistics import mean\n",
        "\n",
        "#   #hard coded paths since these won't change for now, proceduralize later\n",
        "#   mask_stack_pairs = [['../drive/MyDrive/DS6011_Capstone_VisualNeuroscience/DATA/manualROIs/210728_0_1_manualROIs_tm2_tm9_syt.mat',\n",
        "#   '../drive/MyDrive/DS6011_Capstone_VisualNeuroscience/DATA/stackRaw/210728_0/210728_0_1_stackRaw_pmc_tm2_tm9_syt_.mat']]\n",
        "\n",
        "\n",
        "#   #Assign params passed in by the wrapper function\n",
        "#   opts.init['K'] = K\n",
        "#   opts.init['nb'] = nb #nb gets assigned in three different dicts\n",
        "#   opts.spatial['nb'] = nb\n",
        "#   opts.temporal['nb'] = nb\n",
        "#   opts.merging['merge_thresh'] = merge_thresh\n",
        "#   opts.init['gSig'] = gSig\n",
        "#   opts.quality['SNR_lowest'] = SNR_lowest\n",
        "\n",
        "#   #store precisions from each stack-mask pair for this iteration in a list, we'll return the average\n",
        "#   f1s = []\n",
        "\n",
        "#   results_dict = {}\n",
        "\n",
        "#   #this loop will run all stacks through caiman using a given set of parameters to get the accuracy\n",
        "#   for pair in mask_stack_pairs:\n",
        "#     path_to_stack = pair[1]\n",
        "#     path_to_masks = pair[0]\n",
        "\n",
        "#     #set fnames before calling caiman function\n",
        "#     opts.data['fnames'] = [path_to_stack]\n",
        "#     print(opts.data['fnames'])\n",
        "\n",
        "#     results = score_params(path_to_stack=path_to_stack, \\\n",
        "#               path_to_masks=path_to_masks, \\\n",
        "#               opts=opts)\n",
        "\n",
        "\n",
        "#     #store this stack-mask pair's precision\n",
        "#     #later handle some kind of logging to keep a dict of info returned\n",
        "#     f1s.append(results['performance']['f1_score'])\n",
        "\n",
        "#     results_dict[path_to_masks.split('/')[6][0:-4]] = results\n",
        "\n",
        "#     print(results['performance'])\n",
        "\n",
        "#   #return the mean precision for all mask-stack pairs\n",
        "#   #negative of the precision, so that the optimizer can minimize\n",
        "#   print(f1s)\n",
        "#   return results_dict\n",
        "\n"
      ],
      "execution_count": null,
      "outputs": []
    },
    {
      "cell_type": "markdown",
      "metadata": {
        "id": "Mb433-9AHs1s"
      },
      "source": [
        "## Bayesian Model Optimization"
      ]
    },
    {
      "cell_type": "code",
      "metadata": {
        "id": "eRTllB4wHZIZ"
      },
      "source": [
        "# !pip install scikit-optimize\n",
        "# import skopt\n",
        "# from skopt.callbacks import CheckpointSaver\n",
        "# from skopt.callbacks import DeltaYStopper\n",
        "# from skopt.callbacks import DeadlineStopper\n",
        "# from skopt import plots\n",
        "# from skopt import load"
      ],
      "execution_count": null,
      "outputs": []
    },
    {
      "cell_type": "code",
      "metadata": {
        "id": "MAtrFX1KSBZt"
      },
      "source": [
        ""
      ],
      "execution_count": null,
      "outputs": []
    },
    {
      "cell_type": "code",
      "metadata": {
        "id": "vEmfHQiMSh07"
      },
      "source": [
        "# #define the parameter space - this is the entirety of the space I want to explore and will take a long time to run\n",
        "\n",
        "# #change params if needed\n",
        "\n",
        "# #first round ran 2-8 K, found 8 so increase\n",
        "# #ran 1-3 nb, found 1 \n",
        "# #ran 85-90 merge thr, found 96 so setting as default\n",
        "# #ran 5-15 gSig_wid, found 14 so increase\n",
        "# #ran 2-10 gSig_hei, found 8 so increase window\n",
        "# # failed to assign SNR_lowest during first good iteration\n",
        "\n",
        "# SPACE = [\n",
        "#         skopt.space.Integer(8, 20, name='K'), #number of ROIs to expect in the FOV\n",
        "#         #skopt.space.Integer(0, 1, name='nb'), #measure of how much background noise to remove, minimum 2 but higher could remove ROIs\n",
        "#         skopt.space.Integer(12, 25, name = 'gSig_wid'), #half-width of neurons - Supposedly the most important\n",
        "#         skopt.space.Integer(4, 14, name = 'gSig_hei'), #half-height of neurons - Supposedly the most important\n",
        "#         skopt.space.Real(.1, 2, name = 'SNR_lowest')] #Minimum SNR accepted for ROIs, (if below this, reject)"
      ],
      "execution_count": null,
      "outputs": []
    },
    {
      "cell_type": "code",
      "metadata": {
        "id": "UCAv43maVVNO"
      },
      "source": [
        "# #saves a checkpoint every iteration to this filepath\n",
        "\n",
        "# #CHANGE THIS PATH OR FILENAME BEFORE YOU RUN THIS - LEAVE THE EXTENSION AS .PKL\n",
        "# checkpoint_saver = CheckpointSaver('../drive/MyDrive/DS6011_Capstone_VisualNeuroscience/DATA/search_checkpoints_dh_attempt_5.pkl')\n",
        "\n",
        "# #stopping criteria - stop if the 5 best iterations are within 1% of each other\n",
        "# stopping_criteria = skopt.callbacks.DeltaYStopper(.01, n_best=10)\n",
        "\n",
        "# #second criteria, stop after 11.5 hours if it hasn't stopped yet - takes time in seconds as argument\n",
        "# mins = 11.5 * 60\n",
        "# seconds = mins * 60\n",
        "# stopping_criteria_2 = DeadlineStopper(total_time= seconds)\n",
        "\n",
        "\n",
        "# # surrogate function, directly pass in parameter list, returns precision result directly\n",
        "# #this is the function that the optimizer minimizes\n",
        "# #score_all_stacks returns the precision * -1 so that the optimizer can minimize it\n",
        "# def objective(parameters):\n",
        "#     return score_all_stacks(parameters)"
      ],
      "execution_count": null,
      "outputs": []
    },
    {
      "cell_type": "code",
      "metadata": {
        "id": "C6tFYAUmBPr0"
      },
      "source": [
        "# #load old checkpoints if we need - change path\n",
        "# checkpoints = skopt.load('../drive/MyDrive/DS6011_Capstone_VisualNeuroscience/DATA/search_checkpoints_dh_attempt_5.pkl')\n",
        "# x0 = checkpoints.x_iters\n",
        "# y0 = checkpoints.func_vals"
      ],
      "execution_count": null,
      "outputs": []
    },
    {
      "cell_type": "code",
      "metadata": {
        "id": "hGFUFobpS_Z1"
      },
      "source": [
        "# #optimizer using objective function, parameter space, checkpointer, stopping criteria\n",
        "\n",
        "# #change minimizer function if needed\n",
        "# results = skopt.gbrt_minimize(objective, \n",
        "#                               SPACE, \n",
        "#                               x0=x0,     # already examined values for x from checkpoints\n",
        "#                               y0=y0,     # observed values for x0 from checkpoints\n",
        "#                               callback=[checkpoint_saver, stopping_criteria, stopping_criteria_2], \n",
        "#                               initial_point_generator = 'halton',\n",
        "#                               n_random_starts=1,\n",
        "#                               n_jobs = 2,\n",
        "#                               verbose=True)"
      ],
      "execution_count": null,
      "outputs": []
    },
    {
      "cell_type": "code",
      "metadata": {
        "id": "o51vLguAbVcW"
      },
      "source": [
        "# results"
      ],
      "execution_count": null,
      "outputs": []
    },
    {
      "cell_type": "code",
      "metadata": {
        "id": "NvhFGPKvLhiK"
      },
      "source": [
        "# skopt.plots.plot_convergence(results)"
      ],
      "execution_count": null,
      "outputs": []
    },
    {
      "cell_type": "code",
      "metadata": {
        "id": "_9QJR1mbLbiM"
      },
      "source": [
        "# skopt.plots.plot_objective(results)"
      ],
      "execution_count": null,
      "outputs": []
    },
    {
      "cell_type": "markdown",
      "metadata": {
        "id": "dt9VjwbVsvI7"
      },
      "source": [
        "## Old working code"
      ]
    },
    {
      "cell_type": "code",
      "metadata": {
        "id": "PcRf62puVu1u",
        "colab": {
          "base_uri": "https://localhost:8080/",
          "height": 1000
        },
        "outputId": "e3f17914-3019-4c0d-cf76-d1b5c53709b4"
      },
      "source": [
        "#tests score_all_stacks directly\n",
        "dummy_in = [11, 5, 3, 1.5446345957880787]\n",
        "results = score_all_stacks(dummy_in)"
      ],
      "execution_count": null,
      "outputs": [
        {
          "output_type": "stream",
          "name": "stdout",
          "text": [
            "['../drive/MyDrive/DS6011_Capstone_VisualNeuroscience/DATA/stackRaw/CLEANED/CLEAN_210728_0_1_stackRaw_mc_tm2_tm9_syt_.h5']\n",
            "Waiting for connection file: ~/.ipython/profile_default/security/ipcontroller-client.json\n",
            "...............starting cnmf\n",
            "cnm object initialized\n",
            "USING MODEL:/root/caiman_data/model/cnn_model.json\n",
            "1/1 [==============================] - 0s 124ms/step\n",
            "....cnmf and component evaluation completed\n",
            "mask read in and reformatted\n",
            "movie matrix loaded for seeded cnmf\n",
            "params adjusted for seeded cnmf\n",
            "seeded cnmf object initialized\n",
            "spatial support for each components given by the user\n",
            "seeded cnmf completed\n",
            "validation and scoring completed\n",
            "{'recall': 0.0, 'precision': 0.0, 'accuracy': 0.0, 'f1_score': 0.0}\n",
            "['../drive/MyDrive/DS6011_Capstone_VisualNeuroscience/DATA/stackRaw/CLEANED/CLEAN_210731_0_1_stackRaw_mc_mix2_syt_.h5']\n",
            "Waiting for connection file: ~/.ipython/profile_default/security/ipcontroller-client.json\n",
            "..............starting cnmf\n",
            "cnm object initialized\n",
            "USING MODEL:/root/caiman_data/model/cnn_model.json\n",
            "1/1 [==============================] - 0s 146ms/step\n",
            "....cnmf and component evaluation completed\n",
            "mask read in and reformatted\n",
            "movie matrix loaded for seeded cnmf\n",
            "params adjusted for seeded cnmf\n",
            "seeded cnmf object initialized\n",
            "spatial support for each components given by the user\n",
            "seeded cnmf completed\n",
            "validation and scoring completed\n",
            "{'recall': 0.0, 'precision': 0.0, 'accuracy': 0.0, 'f1_score': 0.0}\n",
            "['../drive/MyDrive/DS6011_Capstone_VisualNeuroscience/DATA/stackRaw/CLEANED/CLEAN_210815_0_1_stackRaw_mc_mix1_syt_.h5']\n",
            "Waiting for connection file: ~/.ipython/profile_default/security/ipcontroller-client.json\n",
            "..............starting cnmf\n",
            "cnm object initialized\n",
            "USING MODEL:/root/caiman_data/model/cnn_model.json\n",
            "1/1 [==============================] - 0s 118ms/step\n",
            "....cnmf and component evaluation completed\n",
            "mask read in and reformatted\n",
            "movie matrix loaded for seeded cnmf\n",
            "params adjusted for seeded cnmf\n",
            "seeded cnmf object initialized\n",
            "spatial support for each components given by the user\n",
            "seeded cnmf completed\n",
            "validation and scoring completed\n",
            "{'recall': 0.0, 'precision': 0.0, 'accuracy': 0.0, 'f1_score': 0.0}\n",
            "['../drive/MyDrive/DS6011_Capstone_VisualNeuroscience/DATA/stackRaw/CLEANED/CLEAN_211023_0_1_stackRaw_mc_tm2_tm4_syt_.h5']\n",
            "Waiting for connection file: ~/.ipython/profile_default/security/ipcontroller-client.json\n",
            "........failed\n"
          ]
        },
        {
          "output_type": "error",
          "ename": "UnboundLocalError",
          "evalue": "ignored",
          "traceback": [
            "\u001b[0;31m---------------------------------------------------------------------------\u001b[0m",
            "\u001b[0;31mKeyboardInterrupt\u001b[0m                         Traceback (most recent call last)",
            "\u001b[0;32m<ipython-input-9-3faf84266236>\u001b[0m in \u001b[0;36mscore_params\u001b[0;34m(path_to_stack, path_to_masks, opts)\u001b[0m\n\u001b[1;32m     12\u001b[0m       \u001b[0mcm\u001b[0m\u001b[0;34m.\u001b[0m\u001b[0mstop_server\u001b[0m\u001b[0;34m(\u001b[0m\u001b[0mdview\u001b[0m\u001b[0;34m=\u001b[0m\u001b[0mdview\u001b[0m\u001b[0;34m)\u001b[0m\u001b[0;34m\u001b[0m\u001b[0;34m\u001b[0m\u001b[0m\n\u001b[0;32m---> 13\u001b[0;31m     \u001b[0mdview\u001b[0m \u001b[0;34m=\u001b[0m \u001b[0mcm\u001b[0m\u001b[0;34m.\u001b[0m\u001b[0mcluster\u001b[0m\u001b[0;34m.\u001b[0m\u001b[0mstart_server\u001b[0m\u001b[0;34m(\u001b[0m\u001b[0mncpus\u001b[0m\u001b[0;34m=\u001b[0m\u001b[0;36m2\u001b[0m\u001b[0;34m)\u001b[0m\u001b[0;34m\u001b[0m\u001b[0;34m\u001b[0m\u001b[0m\n\u001b[0m\u001b[1;32m     14\u001b[0m \u001b[0;34m\u001b[0m\u001b[0m\n",
            "\u001b[0;32m/content/CaImAn/caiman/cluster.py\u001b[0m in \u001b[0;36mstart_server\u001b[0;34m(slurm_script, ipcluster, ncpus)\u001b[0m\n\u001b[1;32m    237\u001b[0m             \u001b[0msys\u001b[0m\u001b[0;34m.\u001b[0m\u001b[0mstdout\u001b[0m\u001b[0;34m.\u001b[0m\u001b[0mflush\u001b[0m\u001b[0;34m(\u001b[0m\u001b[0;34m)\u001b[0m                                 \u001b[0;31m# (de-buffered)\u001b[0m\u001b[0;34m\u001b[0m\u001b[0;34m\u001b[0m\u001b[0m\n\u001b[0;32m--> 238\u001b[0;31m             \u001b[0mtime\u001b[0m\u001b[0;34m.\u001b[0m\u001b[0msleep\u001b[0m\u001b[0;34m(\u001b[0m\u001b[0;36m0.5\u001b[0m\u001b[0;34m)\u001b[0m\u001b[0;34m\u001b[0m\u001b[0;34m\u001b[0m\u001b[0m\n\u001b[0m\u001b[1;32m    239\u001b[0m         \u001b[0mlogger\u001b[0m\u001b[0;34m.\u001b[0m\u001b[0mdebug\u001b[0m\u001b[0;34m(\u001b[0m\u001b[0;34m'Making sure everything is up and running'\u001b[0m\u001b[0;34m)\u001b[0m\u001b[0;34m\u001b[0m\u001b[0;34m\u001b[0m\u001b[0m\n",
            "\u001b[0;31mKeyboardInterrupt\u001b[0m: ",
            "\nDuring handling of the above exception, another exception occurred:\n",
            "\u001b[0;31mUnboundLocalError\u001b[0m                         Traceback (most recent call last)",
            "\u001b[0;32m<ipython-input-12-40a10ddd3cc9>\u001b[0m in \u001b[0;36m<module>\u001b[0;34m()\u001b[0m\n\u001b[1;32m      1\u001b[0m \u001b[0;31m#tests score_all_stacks directly\u001b[0m\u001b[0;34m\u001b[0m\u001b[0;34m\u001b[0m\u001b[0;34m\u001b[0m\u001b[0m\n\u001b[1;32m      2\u001b[0m \u001b[0mdummy_in\u001b[0m \u001b[0;34m=\u001b[0m \u001b[0;34m[\u001b[0m\u001b[0;36m11\u001b[0m\u001b[0;34m,\u001b[0m \u001b[0;36m5\u001b[0m\u001b[0;34m,\u001b[0m \u001b[0;36m3\u001b[0m\u001b[0;34m,\u001b[0m \u001b[0;36m1.5446345957880787\u001b[0m\u001b[0;34m]\u001b[0m\u001b[0;34m\u001b[0m\u001b[0;34m\u001b[0m\u001b[0m\n\u001b[0;32m----> 3\u001b[0;31m \u001b[0mresults\u001b[0m \u001b[0;34m=\u001b[0m \u001b[0mscore_all_stacks\u001b[0m\u001b[0;34m(\u001b[0m\u001b[0mdummy_in\u001b[0m\u001b[0;34m)\u001b[0m\u001b[0;34m\u001b[0m\u001b[0;34m\u001b[0m\u001b[0m\n\u001b[0m",
            "\u001b[0;32m<ipython-input-10-1f38bcc5edc8>\u001b[0m in \u001b[0;36mscore_all_stacks\u001b[0;34m(all_params)\u001b[0m\n\u001b[1;32m     47\u001b[0m     \u001b[0mprint\u001b[0m\u001b[0;34m(\u001b[0m\u001b[0mopts\u001b[0m\u001b[0;34m.\u001b[0m\u001b[0mdata\u001b[0m\u001b[0;34m[\u001b[0m\u001b[0;34m'fnames'\u001b[0m\u001b[0;34m]\u001b[0m\u001b[0;34m)\u001b[0m\u001b[0;34m\u001b[0m\u001b[0;34m\u001b[0m\u001b[0m\n\u001b[1;32m     48\u001b[0m \u001b[0;34m\u001b[0m\u001b[0m\n\u001b[0;32m---> 49\u001b[0;31m     \u001b[0mresults\u001b[0m \u001b[0;34m=\u001b[0m \u001b[0mscore_params\u001b[0m\u001b[0;34m(\u001b[0m\u001b[0mpath_to_stack\u001b[0m\u001b[0;34m=\u001b[0m\u001b[0mpath_to_stack\u001b[0m\u001b[0;34m,\u001b[0m               \u001b[0mpath_to_masks\u001b[0m\u001b[0;34m=\u001b[0m\u001b[0mpath_to_masks\u001b[0m\u001b[0;34m,\u001b[0m               \u001b[0mopts\u001b[0m\u001b[0;34m=\u001b[0m\u001b[0mopts\u001b[0m\u001b[0;34m)\u001b[0m\u001b[0;34m\u001b[0m\u001b[0;34m\u001b[0m\u001b[0m\n\u001b[0m\u001b[1;32m     50\u001b[0m \u001b[0;34m\u001b[0m\u001b[0m\n\u001b[1;32m     51\u001b[0m \u001b[0;34m\u001b[0m\u001b[0m\n",
            "\u001b[0;32m<ipython-input-9-3faf84266236>\u001b[0m in \u001b[0;36mscore_params\u001b[0;34m(path_to_stack, path_to_masks, opts)\u001b[0m\n\u001b[1;32m     88\u001b[0m   \u001b[0;32mexcept\u001b[0m\u001b[0;34m:\u001b[0m\u001b[0;34m\u001b[0m\u001b[0;34m\u001b[0m\u001b[0m\n\u001b[1;32m     89\u001b[0m     \u001b[0mprint\u001b[0m\u001b[0;34m(\u001b[0m\u001b[0;34m'failed'\u001b[0m\u001b[0;34m)\u001b[0m\u001b[0;34m\u001b[0m\u001b[0;34m\u001b[0m\u001b[0m\n\u001b[0;32m---> 90\u001b[0;31m     \u001b[0mcm\u001b[0m\u001b[0;34m.\u001b[0m\u001b[0mstop_server\u001b[0m\u001b[0;34m(\u001b[0m\u001b[0mdview\u001b[0m\u001b[0;34m=\u001b[0m\u001b[0mdview\u001b[0m\u001b[0;34m)\u001b[0m\u001b[0;34m\u001b[0m\u001b[0;34m\u001b[0m\u001b[0m\n\u001b[0m",
            "\u001b[0;31mUnboundLocalError\u001b[0m: local variable 'dview' referenced before assignment"
          ]
        }
      ]
    },
    {
      "cell_type": "code",
      "metadata": {
        "id": "VWzd6MAZYD30"
      },
      "source": [
        "keys = [x[0].split('/')[6][0:-4] for x in mask_stack_pairs]\n",
        "#keys.remove('211106_0_1_manualROIs_tm1_t5_syt')\n",
        "keys"
      ],
      "execution_count": null,
      "outputs": []
    },
    {
      "cell_type": "code",
      "metadata": {
        "id": "elm6tcnrTKy0"
      },
      "source": [
        "#visualize our results\n",
        "import scipy.sparse as sparse\n",
        "dims = [128,256]\n",
        "for x in keys:  \n",
        "\n",
        "  f, (ax1, ax2, ax3, ax4, ax5) = plt.subplots(1, 5, figsize=(18, 3), constrained_layout=True) \n",
        "\n",
        "  ax1.set_title('Original Correlation Image')\n",
        "  ax1.imshow(np.reshape(results[x]['Correlation_img'], dims, order=\"F\"), aspect='auto')\n",
        "\n",
        "  roiimg = np.zeros((32768,1))\n",
        "  for i in range(results[x]['cnm_estimates'].A.shape[1]):\n",
        "    roiimg = roiimg+results[x]['cnm_estimates'].A[:,i]\n",
        "  ax2.set_title('ROIs Extracted')\n",
        "  ax2.imshow(np.reshape(roiimg, dims, order=\"F\"), aspect='auto')\n",
        "\n",
        "  M = results[x]['cnm_estimates'].A > 0\n",
        "  img = np.zeros((32768,1))\n",
        "  for i in range(M.shape[1]):\n",
        "    img = img+M[:,i]\n",
        "\n",
        "  ax3.set_title(f'Masks Extracted')\n",
        "  ax3.imshow(np.reshape(img, dims, order=\"F\"), aspect='auto')\n",
        "\n",
        "  A_sparse = sparse.csc_matrix(results[x]['ROI_mask'])\n",
        "  maskimg = np.zeros((32768,1))\n",
        "\n",
        "  for i in range(A_sparse.shape[1]):\n",
        "    maskimg = maskimg+A_sparse[:,i]\n",
        "\n",
        "  ax4.set_title('ROI Truth Masks')\n",
        "  ax4.imshow(np.reshape(maskimg, dims, order=\"F\"), aspect='auto')\n",
        "\n",
        "  overlay = roiimg+maskimg\n",
        "  ax5.set_title('Overlay')\n",
        "  ax5.imshow(np.reshape(overlay, dims, order=\"F\"), aspect='auto')\n",
        "\n",
        "  f.suptitle(f'Results for {x}: {results[x][\"performance\"]}')\n",
        "\n",
        "\n"
      ],
      "execution_count": null,
      "outputs": []
    },
    {
      "cell_type": "code",
      "metadata": {
        "id": "gAyEkR_iTK4g"
      },
      "source": [
        ""
      ],
      "execution_count": null,
      "outputs": []
    },
    {
      "cell_type": "code",
      "metadata": {
        "colab": {
          "base_uri": "https://localhost:8080/"
        },
        "id": "nG6EVQNSdPr8",
        "outputId": "97a68785-1c4d-49ef-b0cc-fd9264c98919"
      },
      "source": [
        "#tests score_params directly\n",
        "opts.data['fnames'] = ['../drive/MyDrive/DS6011_Capstone_VisualNeuroscience/DATA/stackRaw/CLEANED/CLEAN_210728_0_1_stackRaw_mc_tm2_tm9_syt_.h5']\n",
        "score_params(path_to_masks='../drive/MyDrive/DS6011_Capstone_VisualNeuroscience/DATA/manualROIs/210728_0_1_manualROIs_tm2_tm9_syt.mat', \\\n",
        "              path_to_stack='../drive/MyDrive/DS6011_Capstone_VisualNeuroscience/DATA/stackRaw/CLEANED/CLEAN_210728_0_1_stackRaw_mc_tm2_tm9_syt_.h5', \\\n",
        "              opts=opts)"
      ],
      "execution_count": null,
      "outputs": [
        {
          "output_type": "stream",
          "name": "stdout",
          "text": [
            "Waiting for connection file: ~/.ipython/profile_default/security/ipcontroller-client.json\n",
            "...............starting cnmf\n",
            "cnm object initialized\n",
            "USING MODEL:/root/caiman_data/model/cnn_model.json\n",
            "1/1 [==============================] - 0s 426ms/step\n",
            "....cnmf and component evaluation completed\n",
            "mask read in and reformatted\n",
            "movie matrix loaded for seeded cnmf\n",
            "params adjusted for seeded cnmf\n",
            "seeded cnmf object initialized\n",
            "spatial support for each components given by the user\n",
            "seeded cnmf completed\n",
            "validation and scoring completed\n"
          ]
        },
        {
          "output_type": "execute_result",
          "data": {
            "text/plain": [
              "{'A2': <32768x10 sparse matrix of type '<class 'numpy.float64'>'\n",
              " \twith 82393 stored elements in Compressed Sparse Column format>,\n",
              " 'Correlation_img': array([[1.        , 1.        , 1.        , ..., 0.18953318, 0.2105732 ,\n",
              "         0.20350972],\n",
              "        [1.        , 1.        , 1.        , ..., 0.1620576 , 0.18993129,\n",
              "         0.16884429],\n",
              "        [1.        , 1.        , 1.        , ..., 0.19369724, 0.20731979,\n",
              "         0.2121731 ],\n",
              "        ...,\n",
              "        [1.        , 1.        , 1.        , ..., 0.1797879 , 0.20600663,\n",
              "         0.21988389],\n",
              "        [1.        , 1.        , 1.        , ..., 0.15689481, 0.18545234,\n",
              "         0.163464  ],\n",
              "        [1.        , 1.        , 1.        , ..., 0.39999999, 0.4       ,\n",
              "         0.33333333]]),\n",
              " 'ROI_mask': array([[False, False, False, ..., False, False, False],\n",
              "        [False, False, False, ..., False, False, False],\n",
              "        [False, False, False, ..., False, False, False],\n",
              "        ...,\n",
              "        [False, False, False, ..., False, False, False],\n",
              "        [False, False, False, ..., False, False, False],\n",
              "        [False, False, False, ..., False, False, False]]),\n",
              " 'cnm_estimates': <caiman.source_extraction.cnmf.estimates.Estimates at 0x7f50bcbbf6d0>,\n",
              " 'matched_ROIs1': [],\n",
              " 'matched_ROIs2': [],\n",
              " 'non_matched1': [0, 1, 2, 3, 4, 5, 6, 7, 8, 9, 10, 11],\n",
              " 'non_matched2': [0, 1, 2, 3, 4, 5, 6, 7, 8, 9],\n",
              " 'performance': {'accuracy': 0.0,\n",
              "  'f1_score': 0.0,\n",
              "  'precision': 0.0,\n",
              "  'recall': 0.0},\n",
              " 'seeded_cnm_estimates': <caiman.source_extraction.cnmf.estimates.Estimates at 0x7f50bcc428d0>}"
            ]
          },
          "metadata": {},
          "execution_count": 11
        }
      ]
    },
    {
      "cell_type": "code",
      "metadata": {
        "colab": {
          "base_uri": "https://localhost:8080/"
        },
        "id": "ugOP9IDygmWK",
        "outputId": "1007fe1b-b972-4615-9b1d-24c3319775f0"
      },
      "source": [
        "#tests cnm directly\n",
        "opts.quality['use_cnn'] = False\n",
        "opts.data['fnames'] = ['../drive/MyDrive/DS6011_Capstone_VisualNeuroscience/DATA/stackRaw/CLEANED/CLEAN_210728_0_1_stackRaw_mc_tm2_tm9_syt_.h5']\n",
        "\n",
        "if 'dview' in locals():\n",
        "    cm.stop_server(dview=dview)\n",
        "dview = cm.cluster.start_server(ncpus=2)\n",
        "cnm = cnmf.CNMF(n_processes=2, params=opts, dview=dview)\n",
        "cnm = cnm.fit_file(motion_correct = False, include_eval=True)\n",
        "cm.stop_server(dview=dview)\n",
        "\n",
        "cnm.estimates.A"
      ],
      "execution_count": null,
      "outputs": [
        {
          "output_type": "stream",
          "name": "stdout",
          "text": [
            "....Waiting for connection file: ~/.ipython/profile_default/security/ipcontroller-client.json\n",
            ".............."
          ]
        },
        {
          "output_type": "stream",
          "name": "stderr",
          "text": [
            "/content/CaImAn/caiman/base/rois.py:87: RuntimeWarning: invalid value encountered in true_divide\n",
            "  cm = (Coor * A / A.sum(axis=0)).T\n",
            "/usr/local/lib/python3.7/dist-packages/scipy/ndimage/measurements.py:1359: RuntimeWarning: invalid value encountered in double_scalars\n",
            "  for dir in range(input.ndim)]\n"
          ]
        },
        {
          "output_type": "stream",
          "name": "stdout",
          "text": [
            "...."
          ]
        },
        {
          "output_type": "execute_result",
          "data": {
            "text/plain": [
              "<32768x49 sparse matrix of type '<class 'numpy.float64'>'\n",
              "\twith 48693 stored elements in Compressed Sparse Column format>"
            ]
          },
          "metadata": {},
          "execution_count": 19
        }
      ]
    },
    {
      "cell_type": "code",
      "metadata": {
        "id": "sCBKNW4psfBn",
        "colab": {
          "base_uri": "https://localhost:8080/"
        },
        "outputId": "a2adcb36-bdcb-4182-9d19-130ebae83d85"
      },
      "source": [
        "#tests masks and scoring directly \n",
        "fnames = ['../drive/MyDrive/DS6011_Capstone_VisualNeuroscience/DATA/stackRaw/CLEANED/CLEAN_210728_0_1_stackRaw_mc_tm2_tm9_syt_.h5']\n",
        "path_to_masks='../drive/MyDrive/DS6011_Capstone_VisualNeuroscience/DATA/manualROIs/210728_0_1_manualROIs_tm2_tm9_syt.mat'\n",
        "#Read in masks and reformat\n",
        "g = h5py.File(path_to_masks, 'r')\n",
        "\n",
        "#transpose the matrix and save to an array A\n",
        "mask_A = g['bwMaskStack'][:].T\n",
        "\n",
        "g.close()\n",
        "\n",
        "#rearrange the dimensions and show the new shape\n",
        "mask_A = mask_A.transpose(1,0,2)\n",
        "\n",
        "#reshape to 2D, first dimension is 128*256 (32768), 2nd dimension is the # of ROI's\n",
        "mask_A = mask_A.reshape((mask_A.shape[1]*mask_A.shape[0]), mask_A.shape[2])\n",
        "\n",
        "#convert the values from 0/1 to boolean False/True\n",
        "mask_A = np.array(mask_A, dtype=bool)\n",
        "#print('mask read in and reformatted')\n",
        "\n",
        "if 'dview' in locals():\n",
        "    cm.stop_server(dview=dview)\n",
        "dview = cm.cluster.start_server(ncpus=2)\n",
        "\n",
        "#Seeded CNMF only works when seeded using mmap\n",
        "#import pathlib\n",
        "\n",
        "#create memmory map location for the original movie\n",
        "#fname_new = cm.save_memmap(fnames, base_name=pathlib.Path(fnames[0]).stem + \"_memmap_\", order='C')\n",
        "\n",
        "#read data from mmap location\n",
        "Yr, dims, T = cm.load_memmap(cnm.mmap_file)\n",
        "\n",
        "# load frames in python format (T x X x Y)\n",
        "mov = np.reshape(Yr.T, [T] + list(dims), order='F')\n",
        "#print('movie matrix loaded for seeded cnmf')\n",
        "\n",
        "\n",
        "#For seeded CNMF, need to adjust some params\n",
        "opts.patch['only_init'] = False\n",
        "opts.patch['rf'] = None\n",
        "opts.data['use_cnn'] = False\n",
        "\n",
        "#print('params adjusted for seeded cnmf')\n",
        "    \n",
        "#Initialize a new cnmf object and pass in our masks as the \"Ain\" param\n",
        "#\"Ain\" is A-in, meaning the A matrix holding the spatial footprints of the roi's\n",
        "cnm_seeded = cnmf.CNMF(n_processes = 2, params=opts, dview=dview, Ain=mask_A)\n",
        "#print('seeded cnmf object initialized')\n",
        "cnm_seeded.fit(mov)\n",
        "#print('seeded cnmf completed')\n",
        "\n",
        "#Try running register_ROIs and see what happens\n",
        "matched_ROIs1, matched_ROIs2, non_matched1, non_matched2, performance, A2 = cm.base.rois.register_ROIs(cnm_seeded.estimates.A, cnm.estimates.A, dims=dims)\n",
        "#print('validation and scoring completed')\n",
        "\n",
        "results = {'matched_ROIs1': matched_ROIs1,\n",
        "            'matched_ROIs2': matched_ROIs2,\n",
        "            'non_matched1': non_matched1,\n",
        "            'non_matched2': non_matched2, \n",
        "            'performance': performance,\n",
        "            'A2': A2,\n",
        "            'cnm_estimates': cnm.estimates,\n",
        "            'seeded_cnm_estimates': cnm_seeded.estimates,\n",
        "            'ROI_mask': mask_A,\n",
        "            'Correlation_img': cnm.estimates.Cn}"
      ],
      "execution_count": null,
      "outputs": [
        {
          "output_type": "stream",
          "name": "stdout",
          "text": [
            "Waiting for connection file: ~/.ipython/profile_default/security/ipcontroller-client.json\n",
            "..............spatial support for each components given by the user\n"
          ]
        }
      ]
    },
    {
      "cell_type": "code",
      "source": [
        "import scipy.sparse as sparse\n",
        "dims = [128,256]\n",
        "\n",
        "f, (ax1, ax2, ax3, ax4, ax5) = plt.subplots(1, 5, figsize=(18, 3), constrained_layout=True) \n",
        "\n",
        "ax1.set_title('Original Correlation Image')\n",
        "ax1.imshow(np.reshape(results['Correlation_img'], dims, order=\"F\"), aspect='auto')\n",
        "\n",
        "roiimg = np.zeros((32768,1))\n",
        "for i in range(results['cnm_estimates'].A.shape[1]):\n",
        "  roiimg = roiimg+results['cnm_estimates'].A[:,i]\n",
        "ax2.set_title('ROIs Extracted')\n",
        "ax2.imshow(np.reshape(roiimg, dims, order=\"F\"), aspect='auto')\n",
        "\n",
        "M = results['cnm_estimates'].A > 0\n",
        "img = np.zeros((32768,1))\n",
        "for i in range(M.shape[1]):\n",
        "  img = img+M[:,i]\n",
        "\n",
        "ax3.set_title(f'Masks Extracted')\n",
        "ax3.imshow(np.reshape(img, dims, order=\"F\"), aspect='auto')\n",
        "\n",
        "A_sparse = sparse.csc_matrix(results['ROI_mask'])\n",
        "maskimg = np.zeros((32768,1))\n",
        "\n",
        "for i in range(A_sparse.shape[1]):\n",
        "  maskimg = maskimg+A_sparse[:,i]\n",
        "\n",
        "ax4.set_title('ROI Truth Masks')\n",
        "ax4.imshow(np.reshape(maskimg, dims, order=\"F\"), aspect='auto')\n",
        "\n",
        "overlay = roiimg+maskimg\n",
        "ax5.set_title('Overlay')\n",
        "ax5.imshow(np.reshape(overlay, dims, order=\"F\"), aspect='auto')\n",
        "\n",
        "f.suptitle(f'Results for 210728_0_1_stackRaw_mc_tm2_tm9_syt: {results[\"performance\"]}')"
      ],
      "metadata": {
        "colab": {
          "base_uri": "https://localhost:8080/",
          "height": 246
        },
        "id": "dUozN9NNP0mP",
        "outputId": "c48857c9-6962-4bde-f9ce-8cde629837f6"
      },
      "execution_count": null,
      "outputs": [
        {
          "output_type": "execute_result",
          "data": {
            "text/plain": [
              "Text(0.5, 0.98, \"Results for 210728_0_1_stackRaw_mc_tm2_tm9_syt: {'recall': 0.16666666666666666, 'precision': 0.04081632653061224, 'accuracy': 0.03389830508474576, 'f1_score': 0.06557377049180328}\")"
            ]
          },
          "metadata": {},
          "execution_count": 21
        },
        {
          "output_type": "display_data",
          "data": {
            "image/png": "[encoded data removed]",
            "text/plain": [
              "<Figure size 1296x216 with 5 Axes>"
            ]
          },
          "metadata": {
            "needs_background": "light"
          }
        }
      ]
    },
    {
      "cell_type": "code",
      "source": [
        ""
      ],
      "metadata": {
        "id": "atTpc3F2rtrj"
      },
      "execution_count": null,
      "outputs": []
    }
  ]
}