{
  "nbformat": 4,
  "nbformat_minor": 0,
  "metadata": {
    "colab": {
      "name": "Validation Wrapper.ipynb",
      "provenance": [],
      "collapsed_sections": [],
      "mount_file_id": "1W26M03hlr-YynanV8XRmWtv9bXxgIRw0",
      "authorship_tag": "ABX9TyPTXjrJE7ApIN/JukGvKfTS",
      "include_colab_link": true
    },
    "kernelspec": {
      "name": "python3",
      "display_name": "Python 3"
    },
    "language_info": {
      "name": "python"
    },
    "accelerator": "GPU"
  },
  "cells": [
    {
      "cell_type": "markdown",
      "metadata": {
        "id": "view-in-github",
        "colab_type": "text"
      },
      "source": [
        "<a href=\"https://colab.research.google.com/github/laurenneal/capstone-visual-neuroscience/blob/Dylan/Validation_Wrapper.ipynb\" target=\"_parent\"><img src=\"https://colab.research.google.com/assets/colab-badge.svg\" alt=\"Open In Colab\"/></a>"
      ]
    },
    {
      "cell_type": "markdown",
      "metadata": {
        "id": "DMQyPTVxwhVU"
      },
      "source": [
        "## Setup"
      ]
    },
    {
      "cell_type": "code",
      "metadata": {
        "colab": {
          "base_uri": "https://localhost:8080/"
        },
        "id": "BbIj2QeEAbTE",
        "outputId": "3017cac4-c81e-423d-fcd3-33874c8f7867"
      },
      "source": [
        "from google.colab import drive\n",
        "drive.mount('/content/drive')"
      ],
      "execution_count": 42,
      "outputs": [
        {
          "output_type": "stream",
          "name": "stdout",
          "text": [
            "Drive already mounted at /content/drive; to attempt to forcibly remount, call drive.mount(\"/content/drive\", force_remount=True).\n"
          ]
        }
      ]
    },
    {
      "cell_type": "code",
      "metadata": {
        "colab": {
          "base_uri": "https://localhost:8080/"
        },
        "id": "VrE1xeswQNHM",
        "outputId": "d59dc7d5-8e26-4e35-bedb-352eff1c4a8a"
      },
      "source": [
        "# Install CaImAn - takes around 2 minutes\n",
        "\n",
        "!git clone https://github.com/flatironinstitute/CaImAn.git\n",
        "%cd '/content/CaImAn/'\n",
        "!pip install -e .\n",
        "\n",
        "# Install caiman dependencies (&> /dev/null will suppress the hundreds of printed lines in the output)\n",
        "!pip install -r requirements.txt &> /dev/null\n",
        "\n",
        "#import other dependencies\n",
        "import cv2\n",
        "import glob\n",
        "import numpy as np\n",
        "import os\n",
        "import matplotlib.pyplot as plt\n",
        "import imageio\n",
        "\n",
        "#IMPORTANT! Newer versions of h5py will cause errors when saving results\n",
        "!pip install h5py==2.10.0\n",
        "import h5py\n",
        "\n",
        "#Set up caiman\n",
        "!python setup.py build_ext -i\n",
        "\n",
        "#Other file setup\n",
        "!python caimanmanager.py install --inplace\n",
        "\n",
        "#Caiman imports\n",
        "import caiman as cm\n",
        "from caiman.motion_correction import MotionCorrect\n",
        "from caiman.source_extraction.cnmf import cnmf as cnmf\n",
        "from caiman.source_extraction.cnmf import params as params\n",
        "from caiman.utils.utils import download_demo\n",
        "from caiman.utils.visualization import plot_contours, nb_view_patches, nb_plot_contour\n",
        "from caiman.summary_images import local_correlations_movie_offline\n",
        "from scipy.ndimage import center_of_mass\n",
        "from IPython.display import display, clear_output"
      ],
      "execution_count": 1,
      "outputs": [
        {
          "output_type": "stream",
          "name": "stdout",
          "text": [
            "Cloning into 'CaImAn'...\n",
            "remote: Enumerating objects: 24933, done.\u001b[K\n",
            "remote: Counting objects: 100% (868/868), done.\u001b[K\n",
            "remote: Compressing objects: 100% (432/432), done.\u001b[K\n",
            "remote: Total 24933 (delta 481), reused 753 (delta 419), pack-reused 24065\u001b[K\n",
            "Receiving objects: 100% (24933/24933), 518.57 MiB | 14.23 MiB/s, done.\n",
            "Resolving deltas: 100% (16694/16694), done.\n",
            "Checking out files: 100% (317/317), done.\n",
            "/content/CaImAn\n",
            "Obtaining file:///content/CaImAn\n",
            "Installing collected packages: caiman\n",
            "  Running setup.py develop for caiman\n",
            "Successfully installed caiman-1.9.7\n",
            "Collecting h5py==2.10.0\n",
            "  Downloading h5py-2.10.0-cp37-cp37m-manylinux1_x86_64.whl (2.9 MB)\n",
            "\u001b[K     |████████████████████████████████| 2.9 MB 4.2 MB/s \n",
            "\u001b[?25hRequirement already satisfied: six in /usr/local/lib/python3.7/dist-packages (from h5py==2.10.0) (1.15.0)\n",
            "Requirement already satisfied: numpy>=1.7 in /usr/local/lib/python3.7/dist-packages (from h5py==2.10.0) (1.19.5)\n",
            "Installing collected packages: h5py\n",
            "  Attempting uninstall: h5py\n",
            "    Found existing installation: h5py 3.1.0\n",
            "    Uninstalling h5py-3.1.0:\n",
            "      Successfully uninstalled h5py-3.1.0\n",
            "Successfully installed h5py-2.10.0\n",
            "running build_ext\n",
            "Installed /root/caiman_data\n"
          ]
        }
      ]
    },
    {
      "cell_type": "markdown",
      "metadata": {
        "id": "fCRFFvODsO4i"
      },
      "source": [
        "## Get paths to movie files and labelled ROI masks"
      ]
    },
    {
      "cell_type": "code",
      "metadata": {
        "colab": {
          "base_uri": "https://localhost:8080/"
        },
        "id": "DfNJcFmeEq23",
        "outputId": "1f8d2940-077b-477c-8053-41ef72745f00"
      },
      "source": [
        "#get a list of our masks and a list of our stacks in the same order\n",
        "from os import listdir\n",
        "maskpath = '../drive/MyDrive/DS6011_Capstone_VisualNeuroscience/DATA/manualROIs'\n",
        "mask_filenames = [f for f in listdir(maskpath) if 'CLEAN' not in f and '.ipynb' not in f]\n",
        "mask_filenames"
      ],
      "execution_count": 2,
      "outputs": [
        {
          "output_type": "execute_result",
          "data": {
            "text/plain": [
              "['210815_0_1_manualROIs_mix1_syt.mat',\n",
              " '211106_1_1_manualROIs_tm4_syt.mat',\n",
              " '211023_0_1_manualROIs_tm2_tm4_syt.mat',\n",
              " '210731_0_1_manualROIs_t5_syt.mat',\n",
              " '210728_0_1_manualROIs_tm2_tm9_syt.mat',\n",
              " '211106_0_1_manualROIs_tm1_syt.mat']"
            ]
          },
          "metadata": {},
          "execution_count": 2
        }
      ]
    },
    {
      "cell_type": "code",
      "metadata": {
        "colab": {
          "base_uri": "https://localhost:8080/"
        },
        "id": "KBBLhWJoFMXP",
        "outputId": "d63677cc-4d96-4637-c33f-3b05234fed1d"
      },
      "source": [
        "stack_indices = [x[:10] for x in mask_filenames] #get the index portion of the masks\n",
        "stack_celltypes = [x[22:(len(x)-4)] for x in mask_filenames] #get the cell type descriptions\n",
        "stack_filenames = ['CLEAN_' + stack_indices[x] + '_stackRaw_mc_' + stack_celltypes[x] \\\n",
        "                   + '_.h5' for x in range(len(mask_filenames))] #reconstruct filenames for the movies we have masks for\n",
        "stack_filenames"
      ],
      "execution_count": 3,
      "outputs": [
        {
          "output_type": "execute_result",
          "data": {
            "text/plain": [
              "['CLEAN_210815_0_1_stackRaw_mc_mix1_syt_.h5',\n",
              " 'CLEAN_211106_1_1_stackRaw_mc_tm4_syt_.h5',\n",
              " 'CLEAN_211023_0_1_stackRaw_mc_tm2_tm4_syt_.h5',\n",
              " 'CLEAN_210731_0_1_stackRaw_mc_t5_syt_.h5',\n",
              " 'CLEAN_210728_0_1_stackRaw_mc_tm2_tm9_syt_.h5',\n",
              " 'CLEAN_211106_0_1_stackRaw_mc_tm1_syt_.h5']"
            ]
          },
          "metadata": {},
          "execution_count": 3
        }
      ]
    },
    {
      "cell_type": "code",
      "metadata": {
        "colab": {
          "base_uri": "https://localhost:8080/"
        },
        "id": "7cRs3HHyG0nV",
        "outputId": "4ccc230f-99ca-4ff7-98d5-8ba9cc275609"
      },
      "source": [
        "#checking that files exist in our cleaned file - only 2 do\n",
        "stackpath = '../drive/MyDrive/DS6011_Capstone_VisualNeuroscience/DATA/stackRaw/CLEANED'\n",
        "stackfiles = [f for f in listdir(stackpath) if f in stack_filenames]\n",
        "stackfiles"
      ],
      "execution_count": 4,
      "outputs": [
        {
          "output_type": "execute_result",
          "data": {
            "text/plain": [
              "['CLEAN_211106_1_1_stackRaw_mc_tm4_syt_.h5',\n",
              " 'CLEAN_210728_0_1_stackRaw_mc_tm2_tm9_syt_.h5',\n",
              " 'CLEAN_210815_0_1_stackRaw_mc_mix1_syt_.h5']"
            ]
          },
          "metadata": {},
          "execution_count": 4
        }
      ]
    },
    {
      "cell_type": "code",
      "metadata": {
        "id": "BkrZMX_oLZ8J"
      },
      "source": [
        "#convert filenames back into paths\n",
        "maskpaths = [maskpath+'/'+f for f in mask_filenames]\n",
        "stackpaths = [stackpath+'/'+f for f in stackfiles]"
      ],
      "execution_count": 5,
      "outputs": []
    },
    {
      "cell_type": "code",
      "metadata": {
        "colab": {
          "base_uri": "https://localhost:8080/"
        },
        "id": "so4_7eTmIaAr",
        "outputId": "0e7c59e9-27ba-4c17-b4c1-fa3e2f2b358f"
      },
      "source": [
        "#for now only keep the masks we cleaned have movies for - also in the correct order to match up\n",
        "maskpaths = [maskpaths[x] for x in [1, 0, 4]]\n",
        "maskpaths"
      ],
      "execution_count": 6,
      "outputs": [
        {
          "output_type": "execute_result",
          "data": {
            "text/plain": [
              "['../drive/MyDrive/DS6011_Capstone_VisualNeuroscience/DATA/manualROIs/211106_1_1_manualROIs_tm4_syt.mat',\n",
              " '../drive/MyDrive/DS6011_Capstone_VisualNeuroscience/DATA/manualROIs/210815_0_1_manualROIs_mix1_syt.mat',\n",
              " '../drive/MyDrive/DS6011_Capstone_VisualNeuroscience/DATA/manualROIs/210728_0_1_manualROIs_tm2_tm9_syt.mat']"
            ]
          },
          "metadata": {},
          "execution_count": 6
        }
      ]
    },
    {
      "cell_type": "code",
      "metadata": {
        "colab": {
          "base_uri": "https://localhost:8080/"
        },
        "id": "5O3Ta8XtKXFQ",
        "outputId": "b97ede1c-11bc-4eea-b5f3-861208fc102d"
      },
      "source": [
        "#join the lists into pairs of tuples\n",
        "mask_stack_pairs = list(map(lambda x, y:[x,y], maskpaths, stackpaths))\n",
        "mask_stack_pairs"
      ],
      "execution_count": 7,
      "outputs": [
        {
          "output_type": "execute_result",
          "data": {
            "text/plain": [
              "[['../drive/MyDrive/DS6011_Capstone_VisualNeuroscience/DATA/manualROIs/211106_1_1_manualROIs_tm4_syt.mat',\n",
              "  '../drive/MyDrive/DS6011_Capstone_VisualNeuroscience/DATA/stackRaw/CLEANED/CLEAN_211106_1_1_stackRaw_mc_tm4_syt_.h5'],\n",
              " ['../drive/MyDrive/DS6011_Capstone_VisualNeuroscience/DATA/manualROIs/210815_0_1_manualROIs_mix1_syt.mat',\n",
              "  '../drive/MyDrive/DS6011_Capstone_VisualNeuroscience/DATA/stackRaw/CLEANED/CLEAN_210728_0_1_stackRaw_mc_tm2_tm9_syt_.h5'],\n",
              " ['../drive/MyDrive/DS6011_Capstone_VisualNeuroscience/DATA/manualROIs/210728_0_1_manualROIs_tm2_tm9_syt.mat',\n",
              "  '../drive/MyDrive/DS6011_Capstone_VisualNeuroscience/DATA/stackRaw/CLEANED/CLEAN_210815_0_1_stackRaw_mc_mix1_syt_.h5']]"
            ]
          },
          "metadata": {},
          "execution_count": 7
        }
      ]
    },
    {
      "cell_type": "markdown",
      "metadata": {
        "id": "OzmBKC4DsV2y"
      },
      "source": [
        "## Initialize parameters object with starter values"
      ]
    },
    {
      "cell_type": "code",
      "metadata": {
        "id": "24iRFksugPTv"
      },
      "source": [
        "#create parameters object\n",
        "opts = params.CNMFParams()\n",
        "#fname will be assigned in the loop\n",
        "fnames = []\n",
        "subfolder = 'stackRaw_mc'"
      ],
      "execution_count": 18,
      "outputs": []
    },
    {
      "cell_type": "code",
      "metadata": {
        "id": "tLzfCy0wFb-g"
      },
      "source": [
        "# set up some parameters for extraction\n",
        "#fnames = path to video file, set above\n",
        "                        # file(s) to be analyzed\n",
        "is_patches = False       # flag for processing in patches or not - CONFIRMED FROM CARL\n",
        "fr = 20                 # approximate frame rate of data - CONFIRMED FPS\n",
        "decay_time = .4        # length of transient - CONFIRMED APPROPRIATE FOR OUR INDICATOR GCaMP6f\n",
        "dims = [128, 256]\n",
        "\n",
        "if is_patches:          # PROCESS IN PATCHES AND THEN COMBINE \n",
        "    rf = 50             # half size of each patch -not tuned\n",
        "    stride = 10          # overlap between patches -not tuned\n",
        "    K = 3               # number of components in each patch - TUNE\n",
        "else:                   # PROCESS THE WHOLE FOV AT ONCE\n",
        "    rf = None           # setting these parameters to None Not used\n",
        "    stride = None       # will run CNMF on the whole FOV not used\n",
        "    K = 20              # number of neurons expected (in the whole FOV) - not used\n",
        "\n",
        "gSig = [4, 4]           # expected half size of neurons - TUNE\n",
        "merge_thresh = 0.9     # merging threshold, max correlation allowed - TUNE\n",
        "p = 1                   # order of the autoregressive system - 0 from carl's code, probably should be 1\n",
        "gnb = 2                 # global background order - TUNE\n",
        "\n",
        "opts.set('data', {'fnames': fnames,\n",
        "                   'fr': fr,\n",
        "                   'decay_time': decay_time,\n",
        "                   'dims': dims,\n",
        "                   'rf': rf,\n",
        "                   'stride': stride,\n",
        "                   'K': K,\n",
        "                   'gSig': gSig,\n",
        "                   'merge_thr': merge_thresh,\n",
        "                   'p': p,\n",
        "                   'nb': gnb\n",
        "                  })\n",
        "\n",
        "\n",
        "# %% COMPONENT EVALUATION\n",
        "# the components are evaluated in three ways:\n",
        "#   a) the shape of each component must be correlated with the data\n",
        "#   b) a minimum peak SNR is required over the length of a transient\n",
        "#   c) each shape passes a CNN based classifier (this will pick up only neurons\n",
        "#           and filter out active processes)\n",
        "\n",
        "\n",
        "#Not sure if these should be tuned or not\n",
        "\n",
        "min_SNR = 2.5      # peak SNR for accepted components (if above this, acept)\n",
        "rval_thr = 0.9     # space correlation threshold (if above this, accept)\n",
        "use_cnn = True      # use the CNN classifier\n",
        "min_cnn_thr = 0.9  # if cnn classifier predicts below this value, reject\n",
        "cnn_lowest = 0.1 # neurons with cnn probability lower than this value are rejected\n",
        "\n",
        "opts.set('quality', {'min_SNR': min_SNR,\n",
        "                                'rval_thr': rval_thr,\n",
        "                                'use_cnn': use_cnn,\n",
        "                                'min_cnn_thr': min_cnn_thr,\n",
        "                                'cnn_lowest': cnn_lowest})\n",
        "\n",
        "#set some temporal params\n",
        "#fudge = 1               ## Lauren adding temporal param fudge_factor (default is 0.96; Carl's value = 1) -- bias correction factor for discrete time constants\n",
        "#temp_iter = 5           ## Lauren adding temporal param ITER (default is 2; Carl's value=5) -- block coordinate descent iterations\n",
        "\n",
        "#opts.set('temporal', {'fudge_factor': fudge,\n",
        "#                   'ITER': temp_iter\n",
        "#                  })\n",
        "\n",
        "#set some spatial params\n",
        "#srch_meth = 'dilate' ## Lauren adding spatial param search_method (Carl's set to 'dilate')\n",
        "#thr_meth = 'nrg'        ## Lauren adding spatial param thr_method\n",
        "\n",
        "#opts.set('spatial', {'thr_method': thr_meth,\n",
        "#                   'method': srch_meth\n",
        "#                             })\n",
        "\n",
        "#Manually assign subfolder variable\n",
        "opts.motion['var_name_hdf5'] = subfolder\n",
        "opts.data['var_name_hdf5'] = subfolder\n",
        "\n",
        "#for development purposes heavily downsample to save time\n",
        "opts.init['ssub'] = 2\n",
        "opts.init['tsub'] = 2"
      ],
      "execution_count": 19,
      "outputs": []
    },
    {
      "cell_type": "markdown",
      "metadata": {
        "id": "8T37S56psacn"
      },
      "source": [
        "## Define pipeline function to run Caiman"
      ]
    },
    {
      "cell_type": "code",
      "metadata": {
        "id": "1yT59EZk84XL"
      },
      "source": [
        "#Function to run cnmf, run seeded cnmf using masks, then return validation\n",
        "\n",
        "def score_params(path_to_stack, path_to_masks, opts):\n",
        "  import warnings\n",
        "  warnings.simplefilter(action='ignore', category=FutureWarning)\n",
        "\n",
        "  fnames = [path_to_stack]\n",
        "\n",
        "  try:\n",
        "    \n",
        "    c, dview, n_processes = cm.cluster.setup_cluster(\n",
        "        backend='local', n_processes=None, single_thread=False)\n",
        "    \n",
        "    #Run CNMF on raw stack using passed params\n",
        "    cnm = cnmf.CNMF(n_processes, params=opts, dview=dview)\n",
        "    #print('cnm object initialized')\n",
        "    cnm = cnm.fit_file(motion_correct = False, include_eval=True)\n",
        "    #print('cnmf and component evaluation completed')\n",
        "\n",
        "\n",
        "    #Read in masks and reformat\n",
        "    g = h5py.File(path_to_masks, 'r')\n",
        "\n",
        "    #transpose the matrix and save to an array A\n",
        "    mask_A = g['bwMaskStack'][:].T\n",
        "\n",
        "    g.close()\n",
        "\n",
        "    #rearrange the dimensions and show the new shape\n",
        "    mask_A = mask_A.transpose(1,0,2)\n",
        "\n",
        "    #reshape to 2D, first dimension is 128*256 (32768), 2nd dimension is the # of ROI's\n",
        "    mask_A = mask_A.reshape((mask_A.shape[1]*mask_A.shape[0]), mask_A.shape[2])\n",
        "\n",
        "    #convert the values from 0/1 to boolean False/True\n",
        "    mask_A = np.array(mask_A, dtype=bool)\n",
        "    #print('mask read in and reformatted')\n",
        "\n",
        "    dview.terminate()\n",
        "\n",
        "    c, dview, n_processes = cm.cluster.setup_cluster(\n",
        "        backend='local', n_processes=None, single_thread=False)\n",
        "\n",
        "    #Seeded CNMF only works when seeded using mmap\n",
        "    import pathlib\n",
        "\n",
        "    #create memmory map location for the original movie\n",
        "    fname_new = cm.save_memmap(fnames, base_name=pathlib.Path(fnames[0]).stem + \"_memmap_\", order='C')\n",
        "\n",
        "    #read data from mmap location\n",
        "    Yr, dims, T = cm.load_memmap(fname_new)\n",
        "\n",
        "    # load frames in python format (T x X x Y)\n",
        "    mov = np.reshape(Yr.T, [T] + list(dims), order='F')\n",
        "    #print('movie matrix loaded for seeded cnmf')\n",
        "\n",
        "\n",
        "    #For seeded CNMF, need to adjust some params\n",
        "    opts.patch['only_init'] = False\n",
        "    #opts.patch['rf'] = None\n",
        "    opts.data['use_cnn'] = False\n",
        "\n",
        "    #print('params adjusted for seeded cnmf')\n",
        "    \n",
        "    #Initialize a new cnmf object and pass in our masks as the \"Ain\" param\n",
        "    #\"Ain\" is A-in, meaning the A matrix holding the spatial footprints of the roi's\n",
        "    cnm_seeded = cnmf.CNMF(n_processes, params=opts, dview=dview, Ain=mask_A)\n",
        "    #print('seeded cnmf object initialized')\n",
        "    cnm_seeded.fit(mov)\n",
        "    #print('seeded cnmf completed')\n",
        "\n",
        "    #Try running register_ROIs and see what happens\n",
        "    matched_ROIs1, matched_ROIs2, non_matched1, non_matched2, performance, A2 = cm.base.rois.register_ROIs(cnm_seeded.estimates.A, cnm.estimates.A, dims=dims)\n",
        "    #print('validation and scoring completed')\n",
        "\n",
        "    #terminate cluster\n",
        "    dview.terminate()\n",
        "\n",
        "    #restore params for the next regular cnmf iteration\n",
        "    opts.patch['only_init'] = True\n",
        "    opts.patch['rf'] = 50\n",
        "    opts.data['use_cnn'] = False\n",
        "\n",
        "    #return performance metrics\n",
        "    return {'matched_ROIs1': matched_ROIs1,\n",
        "            'matched_ROIs2': matched_ROIs2,\n",
        "            'non_matched1': non_matched1,\n",
        "            'non_matched2': non_matched2, \n",
        "            'performance': performance,\n",
        "            'A2': A2,\n",
        "            'cnm_estimates': cnm.estimates.A,\n",
        "            'seeded_cnm_estimates': cnm_seeded.estimates.A}\n",
        "\n",
        "  except:\n",
        "    print('failed')\n",
        "    dview.terminate()"
      ],
      "execution_count": 20,
      "outputs": []
    },
    {
      "cell_type": "markdown",
      "metadata": {
        "id": "2AT-5zoysj-B"
      },
      "source": [
        "## Function to score all our stacks and return the avg f1"
      ]
    },
    {
      "cell_type": "code",
      "metadata": {
        "id": "BJtcnIiCBWQb"
      },
      "source": [
        "#loop through the stack-mask pairs and print the accuracy results\n",
        "\n",
        "def score_all_stacks(all_params):\n",
        "\n",
        "  print(all_params)\n",
        "\n",
        "  K = all_params[0]\n",
        "  gnb = all_params[1]\n",
        "  merge_thresh = all_params[2]\n",
        "  gSig = [all_params[3], all_params[4]] #param passes one value, recreate [x,y] structure\n",
        "\n",
        "\n",
        "  from statistics import mean\n",
        "\n",
        "  #hard coded paths since these won't change for now, proceduralize later - 1 just to test\n",
        "  mask_stack_pairs = [['../drive/MyDrive/DS6011_Capstone_VisualNeuroscience/DATA/manualROIs/211106_1_1_manualROIs_tm4_syt.mat',\n",
        "  '../drive/MyDrive/DS6011_Capstone_VisualNeuroscience/DATA/stackRaw/CLEANED/CLEAN_211106_1_1_stackRaw_mc_tm4_syt_.h5'],\n",
        " ['../drive/MyDrive/DS6011_Capstone_VisualNeuroscience/DATA/manualROIs/210815_0_1_manualROIs_mix1_syt.mat',\n",
        "  '../drive/MyDrive/DS6011_Capstone_VisualNeuroscience/DATA/stackRaw/CLEANED/CLEAN_210815_0_1_stackRaw_mc_mix1_syt_.h5'],\n",
        " ['../drive/MyDrive/DS6011_Capstone_VisualNeuroscience/DATA/manualROIs/210728_0_1_manualROIs_tm2_tm9_syt.mat',\n",
        "  '../drive/MyDrive/DS6011_Capstone_VisualNeuroscience/DATA/stackRaw/CLEANED/CLEAN_210728_0_1_stackRaw_mc_tm2_tm9_syt_.h5']]\n",
        "\n",
        "\n",
        "  # k, merge_thresh, p, gnb to tune\n",
        "\n",
        "  #Assign params passed in by the wrapper function\n",
        "  opts.data['K'] = K\n",
        "  opts.data['nb'] = gnb\n",
        "  opts.data['merge_thresh'] = merge_thresh\n",
        "  opts.data['gSig'] = gSig\n",
        "\n",
        "  #store precisions from each stack-mask pair for this iteration in a list, we'll return the average\n",
        "  f1s = []\n",
        "\n",
        "  #this loop will run all stacks through caiman using a given set of parameters to get the accuracy\n",
        "  for pair in mask_stack_pairs:\n",
        "    path_to_stack = pair[1]\n",
        "    path_to_masks = pair[0]\n",
        "\n",
        "    #set fnames before calling caiman function\n",
        "    opts.data['fnames'] = [path_to_stack]\n",
        "    print(opts.data['fnames'])\n",
        "\n",
        "    results = score_params(path_to_stack=path_to_stack, \\\n",
        "              path_to_masks=path_to_masks, \\\n",
        "              opts=opts)\n",
        "    \n",
        "    #store this stack-mask pair's precision\n",
        "    #later handle some kind of logging to keep a dict of info returned\n",
        "    f1s.append(results['performance']['f1_score'])\n",
        "\n",
        "  #return the mean precision for all mask-stack pairs\n",
        "  #negative of the precision, so that the optimizer can minimize\n",
        "  print(f1s)\n",
        "  return -mean(f1s)\n",
        "\n"
      ],
      "execution_count": 21,
      "outputs": []
    },
    {
      "cell_type": "markdown",
      "metadata": {
        "id": "Mb433-9AHs1s"
      },
      "source": [
        "## Bayesian Model Optimization"
      ]
    },
    {
      "cell_type": "code",
      "metadata": {
        "colab": {
          "base_uri": "https://localhost:8080/"
        },
        "id": "eRTllB4wHZIZ",
        "outputId": "b0abcf8a-f424-440e-b915-a61f86c7637a"
      },
      "source": [
        "!pip install scikit-optimize\n",
        "import skopt\n",
        "from skopt.callbacks import CheckpointSaver\n",
        "from skopt.callbacks import DeltaYStopper\n",
        "from skopt import plots"
      ],
      "execution_count": 22,
      "outputs": [
        {
          "output_type": "stream",
          "name": "stdout",
          "text": [
            "Requirement already satisfied: scikit-optimize in /usr/local/lib/python3.7/dist-packages (0.9.0)\n",
            "Requirement already satisfied: scipy>=0.19.1 in /usr/local/lib/python3.7/dist-packages (from scikit-optimize) (1.4.1)\n",
            "Requirement already satisfied: pyaml>=16.9 in /usr/local/lib/python3.7/dist-packages (from scikit-optimize) (21.10.1)\n",
            "Requirement already satisfied: numpy>=1.13.3 in /usr/local/lib/python3.7/dist-packages (from scikit-optimize) (1.19.5)\n",
            "Requirement already satisfied: joblib>=0.11 in /usr/local/lib/python3.7/dist-packages (from scikit-optimize) (1.1.0)\n",
            "Requirement already satisfied: scikit-learn>=0.20.0 in /usr/local/lib/python3.7/dist-packages (from scikit-optimize) (1.0.1)\n",
            "Requirement already satisfied: PyYAML in /usr/local/lib/python3.7/dist-packages (from pyaml>=16.9->scikit-optimize) (3.13)\n",
            "Requirement already satisfied: threadpoolctl>=2.0.0 in /usr/local/lib/python3.7/dist-packages (from scikit-learn>=0.20.0->scikit-optimize) (3.0.0)\n"
          ]
        }
      ]
    },
    {
      "cell_type": "code",
      "metadata": {
        "id": "vEmfHQiMSh07"
      },
      "source": [
        "#define the parameter space - this is the entirety of the space I want to explore and will take a long time to run\n",
        "SPACE = [\n",
        "        skopt.space.Integer(5, 25, name='K'), #number of ROIs to expect in the FOV\n",
        "        skopt.space.Integer(1,3, name='gnb'), #measure of how much background noise to remove, minimum 2 but higher could remove ROIs\n",
        "        skopt.space.Real(.85, .99, name='merge_thresh'), #how correlated ROIs need to be before they get merged\n",
        "        skopt.space.Integer(5, 15, name = 'gSig_wid'),#half-width of neurons - Supposedly the most important\n",
        "        skopt.space.Integer(2, 10, name = 'gSig_hei')] #half-height of neurons - Supposedly the most important"
      ],
      "execution_count": 23,
      "outputs": []
    },
    {
      "cell_type": "code",
      "metadata": {
        "id": "UCAv43maVVNO"
      },
      "source": [
        "#saves a checkpoint every iteration to this filepath\n",
        "\n",
        "#CHANGE THIS PATH OR FILENAME BEFORE YOU RUN THIS - LEAVE THE EXTENSION AS .PKL\n",
        "checkpoint_saver = CheckpointSaver('../drive/MyDrive/DS6011_Capstone_VisualNeuroscience/DATA/search_checkpoints2.pkl')\n",
        "\n",
        "#stopping criteria - stop if the 5 best iterations are within 3% of each other- might want to make more strict\n",
        "stopping_criteria = skopt.callbacks.DeltaYStopper(.03, n_best=5)\n",
        "\n",
        "\n",
        "# surrogate function, directly pass in parameter list, returns precision result directly\n",
        "#this is the function that the optimizer minimizes\n",
        "#score_all_stacks returns the precision * -1 so that the optimizer can minimize it\n",
        "def objective(parameters):\n",
        "    all_params = parameters\n",
        "    return score_all_stacks(all_params)"
      ],
      "execution_count": 24,
      "outputs": []
    },
    {
      "cell_type": "code",
      "metadata": {
        "colab": {
          "base_uri": "https://localhost:8080/"
        },
        "id": "hGFUFobpS_Z1",
        "outputId": "a51e371b-8ece-4c7e-ad3f-4113d742b5be"
      },
      "source": [
        "#optimizer using objective function, parameter space, checkpointer, stopping criteria\n",
        "results = skopt.forest_minimize(objective, SPACE, callback=[checkpoint_saver, stopping_criteria], verbose=True, )"
      ],
      "execution_count": null,
      "outputs": [
        {
          "output_type": "stream",
          "name": "stdout",
          "text": [
            "Iteration No: 1 started. Evaluating function at random point.\n",
            "[11, 2, 0.8940542086579915, 11, 3]\n",
            "['../drive/MyDrive/DS6011_Capstone_VisualNeuroscience/DATA/stackRaw/CLEANED/CLEAN_211106_1_1_stackRaw_mc_tm4_syt_.h5']\n",
            "USING MODEL:/root/caiman_data/model/cnn_model.json\n",
            "1/1 [==============================] - 0s 171ms/step\n",
            "spatial support for each components given by the user\n",
            "['../drive/MyDrive/DS6011_Capstone_VisualNeuroscience/DATA/stackRaw/CLEANED/CLEAN_210815_0_1_stackRaw_mc_mix1_syt_.h5']\n",
            "USING MODEL:/root/caiman_data/model/cnn_model.json\n",
            "3/3 [==============================] - 0s 77ms/step\n",
            "spatial support for each components given by the user\n"
          ]
        }
      ]
    },
    {
      "cell_type": "code",
      "metadata": {
        "id": "o51vLguAbVcW"
      },
      "source": [
        "results"
      ],
      "execution_count": null,
      "outputs": []
    },
    {
      "cell_type": "code",
      "metadata": {
        "id": "NvhFGPKvLhiK"
      },
      "source": [
        "skopt.plots.plot_convergence(results)"
      ],
      "execution_count": null,
      "outputs": []
    },
    {
      "cell_type": "code",
      "metadata": {
        "id": "_9QJR1mbLbiM"
      },
      "source": [
        "skopt.plots.plot_objective(results)"
      ],
      "execution_count": null,
      "outputs": []
    },
    {
      "cell_type": "markdown",
      "metadata": {
        "id": "dt9VjwbVsvI7"
      },
      "source": [
        "## Old working code"
      ]
    },
    {
      "cell_type": "code",
      "metadata": {
        "id": "4IpXfCGmIo5Y"
      },
      "source": [
        "# # cnm = cnmf.CNMF(n_processes, params=opts, dview=dview)\n",
        "# cnm = cnm.fit_file(motion_correct = False, include_eval=True)"
      ],
      "execution_count": 57,
      "outputs": []
    },
    {
      "cell_type": "code",
      "metadata": {
        "id": "NMfPlzw8X0PQ"
      },
      "source": [
        "# #Read in masks and reformat\n",
        "# path_to_masks = '../drive/MyDrive/DS6011_Capstone_VisualNeuroscience/DATA/manualROIs/210728_0_1_manualROIs_tm2_tm9_syt.mat'\n",
        "# g = h5py.File(path_to_masks, 'r')\n",
        "\n",
        "# #transpose the matrix and save to an array A\n",
        "# mask_A = g['bwMaskStack'][:].T\n",
        "\n",
        "# g.close()\n",
        "\n",
        "# #rearrange the dimensions and show the new shape\n",
        "# mask_A = mask_A.transpose(1,0,2)\n",
        "\n",
        "# #reshape to 2D, first dimension is 128*256 (32768), 2nd dimension is the # of ROI's\n",
        "# mask_A = mask_A.reshape((mask_A.shape[1]*mask_A.shape[0]), mask_A.shape[2])\n",
        "\n",
        "# #convert the values from 0/1 to boolean False/True\n",
        "# mask_A = np.array(mask_A, dtype=bool)\n",
        "# print('mask read in and reformatted')"
      ],
      "execution_count": 58,
      "outputs": []
    },
    {
      "cell_type": "code",
      "metadata": {
        "id": "FJ6G0vf2Xna1"
      },
      "source": [
        "# import warnings\n",
        "# warnings.simplefilter(action='ignore', category=FutureWarning)\n",
        "\n",
        "# #Seeded CNMF only works when seeded using mmap\n",
        "# import pathlib\n",
        "\n",
        "# #create memmory map location for the original movie\n",
        "# fname_new = cm.save_memmap(fnames, base_name=pathlib.Path(fnames[0]).stem + \"_memmap_\", order='C')\n",
        "#  #read data from mmap location\n",
        "# Yr, dims, T = cm.load_memmap(fname_new)\n",
        "\n",
        "# # load frames in python format (T x X x Y)\n",
        "# mov = np.reshape(Yr.T, [T] + list(dims), order='F')\n",
        "# print('movie matrix loaded for seeded cnmf')\n",
        "\n",
        "# dview.terminate()\n",
        "\n",
        "# c, dview, n_processes = cm.cluster.setup_cluster(\n",
        "#     backend='local', n_processes=None, single_thread=False)\n",
        "\n",
        "# #For seeded CNMF, need to adjust some params\n",
        "# rf = None\n",
        "# only_init = False\n",
        "\n",
        "# opts.patch['only_init'] = only_init\n",
        "# opts.patch['rf'] = rf\n",
        "\n",
        "# print('params adjusted for seeded cnmf')\n",
        "  \n",
        "# #Initialize a new cnmf object and pass in our masks as the \"Ain\" param\n",
        "# #\"Ain\" is A-in, meaning the A matrix holding the spatial footprints of the roi's\n",
        "# cnm_seeded = cnmf.CNMF(n_processes, params=opts, dview=dview, Ain=mask_A)\n",
        "# print('seeded cnmf object initialized')\n",
        "# cnm_seeded.fit(mov)\n",
        "# print('seeded cnmf completed')"
      ],
      "execution_count": 59,
      "outputs": []
    },
    {
      "cell_type": "code",
      "metadata": {
        "id": "F3N_kLqjZN22"
      },
      "source": [
        "# matched_ROIs1, matched_ROIs2, non_matched1, non_matched2, performance, A2 = cm.base.rois.register_ROIs(cnm_seeded.estimates.A, cnm.estimates.A, dims=dims)\n",
        "# performance"
      ],
      "execution_count": 60,
      "outputs": []
    },
    {
      "cell_type": "code",
      "metadata": {
        "id": "wq9jP22tkerZ"
      },
      "source": [
        "# dview.terminate()"
      ],
      "execution_count": 61,
      "outputs": []
    },
    {
      "cell_type": "code",
      "metadata": {
        "id": "rbF05-Gf880B"
      },
      "source": [
        "# results = score_params(path_to_stack=fnames[0], \\\n",
        "#              path_to_masks='../drive/MyDrive/DS6011_Capstone_VisualNeuroscience/DATA/manualROIs/210728_0_1_manualROIs_tm2_tm9_syt.mat', \\\n",
        "#              opts=opts)\n",
        "# results['performance']"
      ],
      "execution_count": 62,
      "outputs": []
    },
    {
      "cell_type": "code",
      "metadata": {
        "id": "NqDS85Nh91TG"
      },
      "source": [
        "# dview.terminate()"
      ],
      "execution_count": 63,
      "outputs": []
    },
    {
      "cell_type": "code",
      "metadata": {
        "id": "P3ESP19w93KD"
      },
      "source": [
        ""
      ],
      "execution_count": 63,
      "outputs": []
    }
  ]
}