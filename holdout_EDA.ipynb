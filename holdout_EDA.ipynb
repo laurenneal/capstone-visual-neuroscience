{
  "nbformat": 4,
  "nbformat_minor": 0,
  "metadata": {
    "colab": {
      "name": "holdout_EDA.ipynb",
      "provenance": [],
      "authorship_tag": "ABX9TyPNWTp8LYUdt1Y3l64NUVmb",
      "include_colab_link": true
    },
    "kernelspec": {
      "name": "python3",
      "display_name": "Python 3"
    },
    "language_info": {
      "name": "python"
    }
  },
  "cells": [
    {
      "cell_type": "markdown",
      "metadata": {
        "id": "view-in-github",
        "colab_type": "text"
      },
      "source": [
        "<a href=\"https://colab.research.google.com/github/laurenneal/capstone-visual-neuroscience/blob/main/holdout_EDA.ipynb\" target=\"_parent\"><img src=\"https://colab.research.google.com/assets/colab-badge.svg\" alt=\"Open In Colab\"/></a>"
      ]
    },
    {
      "cell_type": "code",
      "execution_count": 1,
      "metadata": {
        "id": "rowUVvTkje68"
      },
      "outputs": [],
      "source": [
        "import pandas as pd\n",
        "import numpy as np\n",
        "import sys\n",
        "from more_itertools import sliced\n",
        "import os\n",
        "import matplotlib.pyplot as plt\n",
        "\n",
        "from google.colab import drive"
      ]
    },
    {
      "cell_type": "code",
      "source": [
        "drive.mount('/content/drive')"
      ],
      "metadata": {
        "colab": {
          "base_uri": "https://localhost:8080/"
        },
        "id": "S3I2XhPfkfUO",
        "outputId": "886aaa76-20ce-481a-a807-db40e9882f29"
      },
      "execution_count": 2,
      "outputs": [
        {
          "output_type": "stream",
          "name": "stdout",
          "text": [
            "Mounted at /content/drive\n"
          ]
        }
      ]
    },
    {
      "cell_type": "code",
      "source": [
        "! ls drive/MyDrive/DS6011_Capstone_VisualNeuroscience/Seeded_CNMF/Extracted_Features/pre-feature\\ extract"
      ],
      "metadata": {
        "colab": {
          "base_uri": "https://localhost:8080/"
        },
        "id": "8VLHa9thkfmj",
        "outputId": "d1aaa87f-8675-416e-b4f3-7210bbf870e7"
      },
      "execution_count": 3,
      "outputs": [
        {
          "output_type": "stream",
          "name": "stdout",
          "text": [
            "HOLDOUT_RAW_extracted_data.csv\tOLD-Other\n",
            "OLD-3-24\t\t\tTrainTest_RAW_extracted_data.csv\n"
          ]
        }
      ]
    },
    {
      "cell_type": "code",
      "source": [
        "df = pd.read_csv('drive/MyDrive/DS6011_Capstone_VisualNeuroscience/Seeded_CNMF/Extracted_Features/pre-feature extract/TrainTest_RAW_extracted_data.csv')\n",
        "df"
      ],
      "metadata": {
        "colab": {
          "base_uri": "https://localhost:8080/",
          "height": 423
        },
        "id": "aKImBGFrkzUq",
        "outputId": "cb02aa98-2efc-4dcb-d94c-3fb2c253d742"
      },
      "execution_count": 4,
      "outputs": [
        {
          "output_type": "execute_result",
          "data": {
            "text/plain": [
              "         movie_ID  roi  stack label  frame      resp     stim1     stim2  \\\n",
              "0        210728_0    1      1   tm9      0  0.119422  1.827970 -0.668979   \n",
              "1        210728_0    1      1   tm9      1  0.065380  0.676591  1.133205   \n",
              "2        210728_0    1      1   tm9      2  0.036917 -1.276472 -0.881429   \n",
              "3        210728_0    1      1   tm9      3  0.156975 -1.676237  0.505447   \n",
              "4        210728_0    1      1   tm9      4  0.195883 -1.351235 -0.832430   \n",
              "...           ...  ...    ...   ...    ...       ...       ...       ...   \n",
              "5142715  210816_1   10      9   tm1   5508  0.336650  1.353177  0.772721   \n",
              "5142716  210816_1   10      9   tm1   5509  0.297701  1.411397 -0.710081   \n",
              "5142717  210816_1   10      9   tm1   5510  0.438173  1.423041 -0.597663   \n",
              "5142718  210816_1   10      9   tm1   5511  0.337997  1.423041  0.772721   \n",
              "5142719  210816_1   10      9   tm1   5512  0.188373  1.423041  0.772721   \n",
              "\n",
              "            stim3     stim4     stim5     stim6     stim7     stim8  \n",
              "0       -1.323903  1.969955  0.000000  0.000488  0.000000  0.000000  \n",
              "1        0.209498 -0.011115  0.000000  0.083134  0.000000  0.000000  \n",
              "2        1.220991  0.512083  0.000000  0.308143  0.000000  0.000000  \n",
              "3        1.208871 -0.439756  0.000000  0.574456  0.000000  0.000000  \n",
              "4        1.249990  0.074422  0.000000  0.656676  0.000000  0.000000  \n",
              "...           ...       ...       ...       ...       ...       ...  \n",
              "5142715  0.007225 -0.536081 -1.417802  0.451827 -0.353452  0.084494  \n",
              "5142716 -1.866442 -0.351771 -1.562954  1.437190 -0.353452  0.084494  \n",
              "5142717 -1.871432 -0.497068 -1.569130  1.767656 -0.353452  0.321161  \n",
              "5142718  0.007225 -0.536081 -1.546306  1.726848 -0.353452  0.321161  \n",
              "5142719  0.007225 -0.536081 -1.414225  1.701943 -0.353452  0.321161  \n",
              "\n",
              "[5142720 rows x 14 columns]"
            ],
            "text/html": [
              "\n",
              "  <div id=\"df-ef63c2ad-13b1-420a-a6e9-d67471497878\">\n",
              "    <div class=\"colab-df-container\">\n",
              "      <div>\n",
              "<style scoped>\n",
              "    .dataframe tbody tr th:only-of-type {\n",
              "        vertical-align: middle;\n",
              "    }\n",
              "\n",
              "    .dataframe tbody tr th {\n",
              "        vertical-align: top;\n",
              "    }\n",
              "\n",
              "    .dataframe thead th {\n",
              "        text-align: right;\n",
              "    }\n",
              "</style>\n",
              "<table border=\"1\" class=\"dataframe\">\n",
              "  <thead>\n",
              "    <tr style=\"text-align: right;\">\n",
              "      <th></th>\n",
              "      <th>movie_ID</th>\n",
              "      <th>roi</th>\n",
              "      <th>stack</th>\n",
              "      <th>label</th>\n",
              "      <th>frame</th>\n",
              "      <th>resp</th>\n",
              "      <th>stim1</th>\n",
              "      <th>stim2</th>\n",
              "      <th>stim3</th>\n",
              "      <th>stim4</th>\n",
              "      <th>stim5</th>\n",
              "      <th>stim6</th>\n",
              "      <th>stim7</th>\n",
              "      <th>stim8</th>\n",
              "    </tr>\n",
              "  </thead>\n",
              "  <tbody>\n",
              "    <tr>\n",
              "      <th>0</th>\n",
              "      <td>210728_0</td>\n",
              "      <td>1</td>\n",
              "      <td>1</td>\n",
              "      <td>tm9</td>\n",
              "      <td>0</td>\n",
              "      <td>0.119422</td>\n",
              "      <td>1.827970</td>\n",
              "      <td>-0.668979</td>\n",
              "      <td>-1.323903</td>\n",
              "      <td>1.969955</td>\n",
              "      <td>0.000000</td>\n",
              "      <td>0.000488</td>\n",
              "      <td>0.000000</td>\n",
              "      <td>0.000000</td>\n",
              "    </tr>\n",
              "    <tr>\n",
              "      <th>1</th>\n",
              "      <td>210728_0</td>\n",
              "      <td>1</td>\n",
              "      <td>1</td>\n",
              "      <td>tm9</td>\n",
              "      <td>1</td>\n",
              "      <td>0.065380</td>\n",
              "      <td>0.676591</td>\n",
              "      <td>1.133205</td>\n",
              "      <td>0.209498</td>\n",
              "      <td>-0.011115</td>\n",
              "      <td>0.000000</td>\n",
              "      <td>0.083134</td>\n",
              "      <td>0.000000</td>\n",
              "      <td>0.000000</td>\n",
              "    </tr>\n",
              "    <tr>\n",
              "      <th>2</th>\n",
              "      <td>210728_0</td>\n",
              "      <td>1</td>\n",
              "      <td>1</td>\n",
              "      <td>tm9</td>\n",
              "      <td>2</td>\n",
              "      <td>0.036917</td>\n",
              "      <td>-1.276472</td>\n",
              "      <td>-0.881429</td>\n",
              "      <td>1.220991</td>\n",
              "      <td>0.512083</td>\n",
              "      <td>0.000000</td>\n",
              "      <td>0.308143</td>\n",
              "      <td>0.000000</td>\n",
              "      <td>0.000000</td>\n",
              "    </tr>\n",
              "    <tr>\n",
              "      <th>3</th>\n",
              "      <td>210728_0</td>\n",
              "      <td>1</td>\n",
              "      <td>1</td>\n",
              "      <td>tm9</td>\n",
              "      <td>3</td>\n",
              "      <td>0.156975</td>\n",
              "      <td>-1.676237</td>\n",
              "      <td>0.505447</td>\n",
              "      <td>1.208871</td>\n",
              "      <td>-0.439756</td>\n",
              "      <td>0.000000</td>\n",
              "      <td>0.574456</td>\n",
              "      <td>0.000000</td>\n",
              "      <td>0.000000</td>\n",
              "    </tr>\n",
              "    <tr>\n",
              "      <th>4</th>\n",
              "      <td>210728_0</td>\n",
              "      <td>1</td>\n",
              "      <td>1</td>\n",
              "      <td>tm9</td>\n",
              "      <td>4</td>\n",
              "      <td>0.195883</td>\n",
              "      <td>-1.351235</td>\n",
              "      <td>-0.832430</td>\n",
              "      <td>1.249990</td>\n",
              "      <td>0.074422</td>\n",
              "      <td>0.000000</td>\n",
              "      <td>0.656676</td>\n",
              "      <td>0.000000</td>\n",
              "      <td>0.000000</td>\n",
              "    </tr>\n",
              "    <tr>\n",
              "      <th>...</th>\n",
              "      <td>...</td>\n",
              "      <td>...</td>\n",
              "      <td>...</td>\n",
              "      <td>...</td>\n",
              "      <td>...</td>\n",
              "      <td>...</td>\n",
              "      <td>...</td>\n",
              "      <td>...</td>\n",
              "      <td>...</td>\n",
              "      <td>...</td>\n",
              "      <td>...</td>\n",
              "      <td>...</td>\n",
              "      <td>...</td>\n",
              "      <td>...</td>\n",
              "    </tr>\n",
              "    <tr>\n",
              "      <th>5142715</th>\n",
              "      <td>210816_1</td>\n",
              "      <td>10</td>\n",
              "      <td>9</td>\n",
              "      <td>tm1</td>\n",
              "      <td>5508</td>\n",
              "      <td>0.336650</td>\n",
              "      <td>1.353177</td>\n",
              "      <td>0.772721</td>\n",
              "      <td>0.007225</td>\n",
              "      <td>-0.536081</td>\n",
              "      <td>-1.417802</td>\n",
              "      <td>0.451827</td>\n",
              "      <td>-0.353452</td>\n",
              "      <td>0.084494</td>\n",
              "    </tr>\n",
              "    <tr>\n",
              "      <th>5142716</th>\n",
              "      <td>210816_1</td>\n",
              "      <td>10</td>\n",
              "      <td>9</td>\n",
              "      <td>tm1</td>\n",
              "      <td>5509</td>\n",
              "      <td>0.297701</td>\n",
              "      <td>1.411397</td>\n",
              "      <td>-0.710081</td>\n",
              "      <td>-1.866442</td>\n",
              "      <td>-0.351771</td>\n",
              "      <td>-1.562954</td>\n",
              "      <td>1.437190</td>\n",
              "      <td>-0.353452</td>\n",
              "      <td>0.084494</td>\n",
              "    </tr>\n",
              "    <tr>\n",
              "      <th>5142717</th>\n",
              "      <td>210816_1</td>\n",
              "      <td>10</td>\n",
              "      <td>9</td>\n",
              "      <td>tm1</td>\n",
              "      <td>5510</td>\n",
              "      <td>0.438173</td>\n",
              "      <td>1.423041</td>\n",
              "      <td>-0.597663</td>\n",
              "      <td>-1.871432</td>\n",
              "      <td>-0.497068</td>\n",
              "      <td>-1.569130</td>\n",
              "      <td>1.767656</td>\n",
              "      <td>-0.353452</td>\n",
              "      <td>0.321161</td>\n",
              "    </tr>\n",
              "    <tr>\n",
              "      <th>5142718</th>\n",
              "      <td>210816_1</td>\n",
              "      <td>10</td>\n",
              "      <td>9</td>\n",
              "      <td>tm1</td>\n",
              "      <td>5511</td>\n",
              "      <td>0.337997</td>\n",
              "      <td>1.423041</td>\n",
              "      <td>0.772721</td>\n",
              "      <td>0.007225</td>\n",
              "      <td>-0.536081</td>\n",
              "      <td>-1.546306</td>\n",
              "      <td>1.726848</td>\n",
              "      <td>-0.353452</td>\n",
              "      <td>0.321161</td>\n",
              "    </tr>\n",
              "    <tr>\n",
              "      <th>5142719</th>\n",
              "      <td>210816_1</td>\n",
              "      <td>10</td>\n",
              "      <td>9</td>\n",
              "      <td>tm1</td>\n",
              "      <td>5512</td>\n",
              "      <td>0.188373</td>\n",
              "      <td>1.423041</td>\n",
              "      <td>0.772721</td>\n",
              "      <td>0.007225</td>\n",
              "      <td>-0.536081</td>\n",
              "      <td>-1.414225</td>\n",
              "      <td>1.701943</td>\n",
              "      <td>-0.353452</td>\n",
              "      <td>0.321161</td>\n",
              "    </tr>\n",
              "  </tbody>\n",
              "</table>\n",
              "<p>5142720 rows × 14 columns</p>\n",
              "</div>\n",
              "      <button class=\"colab-df-convert\" onclick=\"convertToInteractive('df-ef63c2ad-13b1-420a-a6e9-d67471497878')\"\n",
              "              title=\"Convert this dataframe to an interactive table.\"\n",
              "              style=\"display:none;\">\n",
              "        \n",
              "  <svg xmlns=\"http://www.w3.org/2000/svg\" height=\"24px\"viewBox=\"0 0 24 24\"\n",
              "       width=\"24px\">\n",
              "    <path d=\"M0 0h24v24H0V0z\" fill=\"none\"/>\n",
              "    <path d=\"M18.56 5.44l.94 2.06.94-2.06 2.06-.94-2.06-.94-.94-2.06-.94 2.06-2.06.94zm-11 1L8.5 8.5l.94-2.06 2.06-.94-2.06-.94L8.5 2.5l-.94 2.06-2.06.94zm10 10l.94 2.06.94-2.06 2.06-.94-2.06-.94-.94-2.06-.94 2.06-2.06.94z\"/><path d=\"M17.41 7.96l-1.37-1.37c-.4-.4-.92-.59-1.43-.59-.52 0-1.04.2-1.43.59L10.3 9.45l-7.72 7.72c-.78.78-.78 2.05 0 2.83L4 21.41c.39.39.9.59 1.41.59.51 0 1.02-.2 1.41-.59l7.78-7.78 2.81-2.81c.8-.78.8-2.07 0-2.86zM5.41 20L4 18.59l7.72-7.72 1.47 1.35L5.41 20z\"/>\n",
              "  </svg>\n",
              "      </button>\n",
              "      \n",
              "  <style>\n",
              "    .colab-df-container {\n",
              "      display:flex;\n",
              "      flex-wrap:wrap;\n",
              "      gap: 12px;\n",
              "    }\n",
              "\n",
              "    .colab-df-convert {\n",
              "      background-color: #E8F0FE;\n",
              "      border: none;\n",
              "      border-radius: 50%;\n",
              "      cursor: pointer;\n",
              "      display: none;\n",
              "      fill: #1967D2;\n",
              "      height: 32px;\n",
              "      padding: 0 0 0 0;\n",
              "      width: 32px;\n",
              "    }\n",
              "\n",
              "    .colab-df-convert:hover {\n",
              "      background-color: #E2EBFA;\n",
              "      box-shadow: 0px 1px 2px rgba(60, 64, 67, 0.3), 0px 1px 3px 1px rgba(60, 64, 67, 0.15);\n",
              "      fill: #174EA6;\n",
              "    }\n",
              "\n",
              "    [theme=dark] .colab-df-convert {\n",
              "      background-color: #3B4455;\n",
              "      fill: #D2E3FC;\n",
              "    }\n",
              "\n",
              "    [theme=dark] .colab-df-convert:hover {\n",
              "      background-color: #434B5C;\n",
              "      box-shadow: 0px 1px 3px 1px rgba(0, 0, 0, 0.15);\n",
              "      filter: drop-shadow(0px 1px 2px rgba(0, 0, 0, 0.3));\n",
              "      fill: #FFFFFF;\n",
              "    }\n",
              "  </style>\n",
              "\n",
              "      <script>\n",
              "        const buttonEl =\n",
              "          document.querySelector('#df-ef63c2ad-13b1-420a-a6e9-d67471497878 button.colab-df-convert');\n",
              "        buttonEl.style.display =\n",
              "          google.colab.kernel.accessAllowed ? 'block' : 'none';\n",
              "\n",
              "        async function convertToInteractive(key) {\n",
              "          const element = document.querySelector('#df-ef63c2ad-13b1-420a-a6e9-d67471497878');\n",
              "          const dataTable =\n",
              "            await google.colab.kernel.invokeFunction('convertToInteractive',\n",
              "                                                     [key], {});\n",
              "          if (!dataTable) return;\n",
              "\n",
              "          const docLinkHtml = 'Like what you see? Visit the ' +\n",
              "            '<a target=\"_blank\" href=https://colab.research.google.com/notebooks/data_table.ipynb>data table notebook</a>'\n",
              "            + ' to learn more about interactive tables.';\n",
              "          element.innerHTML = '';\n",
              "          dataTable['output_type'] = 'display_data';\n",
              "          await google.colab.output.renderOutput(dataTable, element);\n",
              "          const docLink = document.createElement('div');\n",
              "          docLink.innerHTML = docLinkHtml;\n",
              "          element.appendChild(docLink);\n",
              "        }\n",
              "      </script>\n",
              "    </div>\n",
              "  </div>\n",
              "  "
            ]
          },
          "metadata": {},
          "execution_count": 4
        }
      ]
    },
    {
      "cell_type": "code",
      "source": [
        "df_HOLD = pd.read_csv('drive/MyDrive/DS6011_Capstone_VisualNeuroscience/Seeded_CNMF/Extracted_Features/pre-feature extract/HOLDOUT_RAW_extracted_data.csv')\n",
        "df_HOLD"
      ],
      "metadata": {
        "colab": {
          "base_uri": "https://localhost:8080/",
          "height": 423
        },
        "id": "iTNFTUo5lUTA",
        "outputId": "248dd902-0f3a-4dd3-f87f-a1cac97abd7f"
      },
      "execution_count": 5,
      "outputs": [
        {
          "output_type": "execute_result",
          "data": {
            "text/plain": [
              "        Unnamed: 0  movie_ID  roi  stack label  frame      resp     stim1  \\\n",
              "0                0  210809_2    8      1    t5      0  0.311773  0.276790   \n",
              "1                1  210809_2    8      1    t5      1  0.217502  0.276790   \n",
              "2                2  210809_2    8      1    t5      2  0.416828  0.276790   \n",
              "3                3  210809_2    8      1    t5      3  0.354376 -0.551717   \n",
              "4                4  210809_2    8      1    t5      4  0.502063 -1.104055   \n",
              "...            ...       ...  ...    ...   ...    ...       ...       ...   \n",
              "964790      964790  210816_0    1     10   tm9   5508  0.368222  2.385210   \n",
              "964791      964791  210816_0    1     10   tm9   5509  0.213183  0.639368   \n",
              "964792      964792  210816_0    1     10   tm9   5510  0.323078 -0.233554   \n",
              "964793      964793  210816_0    1     10   tm9   5511  0.246077 -0.233554   \n",
              "964794      964794  210816_0    1     10   tm9   5512  0.108494 -0.233554   \n",
              "\n",
              "           stim2     stim3     stim4     stim5     stim6     stim7     stim8  \n",
              "0      -1.487326  1.437072 -0.320136       NaN  0.000714  0.094354  1.996823  \n",
              "1       0.776442 -0.001301 -0.539988  0.819636  0.013958  3.460806  1.996823  \n",
              "2       0.776442 -0.001301 -0.539988  0.914302  0.055593  3.460806 -2.067430  \n",
              "3      -1.050625 -1.773261  0.593812  1.172597  0.138586  3.460806 -2.067430  \n",
              "4      -1.343779 -1.581956  0.543339  1.169519  0.220605  3.460806 -2.067430  \n",
              "...          ...       ...       ...       ...       ...       ...       ...  \n",
              "964790  0.772401  0.007249 -0.535819  0.000000  1.158005  0.000000  0.000000  \n",
              "964791 -1.391268 -1.542028  2.030993  0.000000  2.176785  0.000000  0.000000  \n",
              "964792 -1.780042 -0.990575  0.881512  0.000000  2.379543  0.000000  0.000000  \n",
              "964793  0.772401  0.007249 -0.535819  0.000000  1.924771  0.000000  0.000000  \n",
              "964794  0.772401  0.007249 -0.535819  0.000000  1.095894  0.000000  0.000000  \n",
              "\n",
              "[964795 rows x 15 columns]"
            ],
            "text/html": [
              "\n",
              "  <div id=\"df-fb50a775-5a8d-413d-806e-3cc6c0b2f89b\">\n",
              "    <div class=\"colab-df-container\">\n",
              "      <div>\n",
              "<style scoped>\n",
              "    .dataframe tbody tr th:only-of-type {\n",
              "        vertical-align: middle;\n",
              "    }\n",
              "\n",
              "    .dataframe tbody tr th {\n",
              "        vertical-align: top;\n",
              "    }\n",
              "\n",
              "    .dataframe thead th {\n",
              "        text-align: right;\n",
              "    }\n",
              "</style>\n",
              "<table border=\"1\" class=\"dataframe\">\n",
              "  <thead>\n",
              "    <tr style=\"text-align: right;\">\n",
              "      <th></th>\n",
              "      <th>Unnamed: 0</th>\n",
              "      <th>movie_ID</th>\n",
              "      <th>roi</th>\n",
              "      <th>stack</th>\n",
              "      <th>label</th>\n",
              "      <th>frame</th>\n",
              "      <th>resp</th>\n",
              "      <th>stim1</th>\n",
              "      <th>stim2</th>\n",
              "      <th>stim3</th>\n",
              "      <th>stim4</th>\n",
              "      <th>stim5</th>\n",
              "      <th>stim6</th>\n",
              "      <th>stim7</th>\n",
              "      <th>stim8</th>\n",
              "    </tr>\n",
              "  </thead>\n",
              "  <tbody>\n",
              "    <tr>\n",
              "      <th>0</th>\n",
              "      <td>0</td>\n",
              "      <td>210809_2</td>\n",
              "      <td>8</td>\n",
              "      <td>1</td>\n",
              "      <td>t5</td>\n",
              "      <td>0</td>\n",
              "      <td>0.311773</td>\n",
              "      <td>0.276790</td>\n",
              "      <td>-1.487326</td>\n",
              "      <td>1.437072</td>\n",
              "      <td>-0.320136</td>\n",
              "      <td>NaN</td>\n",
              "      <td>0.000714</td>\n",
              "      <td>0.094354</td>\n",
              "      <td>1.996823</td>\n",
              "    </tr>\n",
              "    <tr>\n",
              "      <th>1</th>\n",
              "      <td>1</td>\n",
              "      <td>210809_2</td>\n",
              "      <td>8</td>\n",
              "      <td>1</td>\n",
              "      <td>t5</td>\n",
              "      <td>1</td>\n",
              "      <td>0.217502</td>\n",
              "      <td>0.276790</td>\n",
              "      <td>0.776442</td>\n",
              "      <td>-0.001301</td>\n",
              "      <td>-0.539988</td>\n",
              "      <td>0.819636</td>\n",
              "      <td>0.013958</td>\n",
              "      <td>3.460806</td>\n",
              "      <td>1.996823</td>\n",
              "    </tr>\n",
              "    <tr>\n",
              "      <th>2</th>\n",
              "      <td>2</td>\n",
              "      <td>210809_2</td>\n",
              "      <td>8</td>\n",
              "      <td>1</td>\n",
              "      <td>t5</td>\n",
              "      <td>2</td>\n",
              "      <td>0.416828</td>\n",
              "      <td>0.276790</td>\n",
              "      <td>0.776442</td>\n",
              "      <td>-0.001301</td>\n",
              "      <td>-0.539988</td>\n",
              "      <td>0.914302</td>\n",
              "      <td>0.055593</td>\n",
              "      <td>3.460806</td>\n",
              "      <td>-2.067430</td>\n",
              "    </tr>\n",
              "    <tr>\n",
              "      <th>3</th>\n",
              "      <td>3</td>\n",
              "      <td>210809_2</td>\n",
              "      <td>8</td>\n",
              "      <td>1</td>\n",
              "      <td>t5</td>\n",
              "      <td>3</td>\n",
              "      <td>0.354376</td>\n",
              "      <td>-0.551717</td>\n",
              "      <td>-1.050625</td>\n",
              "      <td>-1.773261</td>\n",
              "      <td>0.593812</td>\n",
              "      <td>1.172597</td>\n",
              "      <td>0.138586</td>\n",
              "      <td>3.460806</td>\n",
              "      <td>-2.067430</td>\n",
              "    </tr>\n",
              "    <tr>\n",
              "      <th>4</th>\n",
              "      <td>4</td>\n",
              "      <td>210809_2</td>\n",
              "      <td>8</td>\n",
              "      <td>1</td>\n",
              "      <td>t5</td>\n",
              "      <td>4</td>\n",
              "      <td>0.502063</td>\n",
              "      <td>-1.104055</td>\n",
              "      <td>-1.343779</td>\n",
              "      <td>-1.581956</td>\n",
              "      <td>0.543339</td>\n",
              "      <td>1.169519</td>\n",
              "      <td>0.220605</td>\n",
              "      <td>3.460806</td>\n",
              "      <td>-2.067430</td>\n",
              "    </tr>\n",
              "    <tr>\n",
              "      <th>...</th>\n",
              "      <td>...</td>\n",
              "      <td>...</td>\n",
              "      <td>...</td>\n",
              "      <td>...</td>\n",
              "      <td>...</td>\n",
              "      <td>...</td>\n",
              "      <td>...</td>\n",
              "      <td>...</td>\n",
              "      <td>...</td>\n",
              "      <td>...</td>\n",
              "      <td>...</td>\n",
              "      <td>...</td>\n",
              "      <td>...</td>\n",
              "      <td>...</td>\n",
              "      <td>...</td>\n",
              "    </tr>\n",
              "    <tr>\n",
              "      <th>964790</th>\n",
              "      <td>964790</td>\n",
              "      <td>210816_0</td>\n",
              "      <td>1</td>\n",
              "      <td>10</td>\n",
              "      <td>tm9</td>\n",
              "      <td>5508</td>\n",
              "      <td>0.368222</td>\n",
              "      <td>2.385210</td>\n",
              "      <td>0.772401</td>\n",
              "      <td>0.007249</td>\n",
              "      <td>-0.535819</td>\n",
              "      <td>0.000000</td>\n",
              "      <td>1.158005</td>\n",
              "      <td>0.000000</td>\n",
              "      <td>0.000000</td>\n",
              "    </tr>\n",
              "    <tr>\n",
              "      <th>964791</th>\n",
              "      <td>964791</td>\n",
              "      <td>210816_0</td>\n",
              "      <td>1</td>\n",
              "      <td>10</td>\n",
              "      <td>tm9</td>\n",
              "      <td>5509</td>\n",
              "      <td>0.213183</td>\n",
              "      <td>0.639368</td>\n",
              "      <td>-1.391268</td>\n",
              "      <td>-1.542028</td>\n",
              "      <td>2.030993</td>\n",
              "      <td>0.000000</td>\n",
              "      <td>2.176785</td>\n",
              "      <td>0.000000</td>\n",
              "      <td>0.000000</td>\n",
              "    </tr>\n",
              "    <tr>\n",
              "      <th>964792</th>\n",
              "      <td>964792</td>\n",
              "      <td>210816_0</td>\n",
              "      <td>1</td>\n",
              "      <td>10</td>\n",
              "      <td>tm9</td>\n",
              "      <td>5510</td>\n",
              "      <td>0.323078</td>\n",
              "      <td>-0.233554</td>\n",
              "      <td>-1.780042</td>\n",
              "      <td>-0.990575</td>\n",
              "      <td>0.881512</td>\n",
              "      <td>0.000000</td>\n",
              "      <td>2.379543</td>\n",
              "      <td>0.000000</td>\n",
              "      <td>0.000000</td>\n",
              "    </tr>\n",
              "    <tr>\n",
              "      <th>964793</th>\n",
              "      <td>964793</td>\n",
              "      <td>210816_0</td>\n",
              "      <td>1</td>\n",
              "      <td>10</td>\n",
              "      <td>tm9</td>\n",
              "      <td>5511</td>\n",
              "      <td>0.246077</td>\n",
              "      <td>-0.233554</td>\n",
              "      <td>0.772401</td>\n",
              "      <td>0.007249</td>\n",
              "      <td>-0.535819</td>\n",
              "      <td>0.000000</td>\n",
              "      <td>1.924771</td>\n",
              "      <td>0.000000</td>\n",
              "      <td>0.000000</td>\n",
              "    </tr>\n",
              "    <tr>\n",
              "      <th>964794</th>\n",
              "      <td>964794</td>\n",
              "      <td>210816_0</td>\n",
              "      <td>1</td>\n",
              "      <td>10</td>\n",
              "      <td>tm9</td>\n",
              "      <td>5512</td>\n",
              "      <td>0.108494</td>\n",
              "      <td>-0.233554</td>\n",
              "      <td>0.772401</td>\n",
              "      <td>0.007249</td>\n",
              "      <td>-0.535819</td>\n",
              "      <td>0.000000</td>\n",
              "      <td>1.095894</td>\n",
              "      <td>0.000000</td>\n",
              "      <td>0.000000</td>\n",
              "    </tr>\n",
              "  </tbody>\n",
              "</table>\n",
              "<p>964795 rows × 15 columns</p>\n",
              "</div>\n",
              "      <button class=\"colab-df-convert\" onclick=\"convertToInteractive('df-fb50a775-5a8d-413d-806e-3cc6c0b2f89b')\"\n",
              "              title=\"Convert this dataframe to an interactive table.\"\n",
              "              style=\"display:none;\">\n",
              "        \n",
              "  <svg xmlns=\"http://www.w3.org/2000/svg\" height=\"24px\"viewBox=\"0 0 24 24\"\n",
              "       width=\"24px\">\n",
              "    <path d=\"M0 0h24v24H0V0z\" fill=\"none\"/>\n",
              "    <path d=\"M18.56 5.44l.94 2.06.94-2.06 2.06-.94-2.06-.94-.94-2.06-.94 2.06-2.06.94zm-11 1L8.5 8.5l.94-2.06 2.06-.94-2.06-.94L8.5 2.5l-.94 2.06-2.06.94zm10 10l.94 2.06.94-2.06 2.06-.94-2.06-.94-.94-2.06-.94 2.06-2.06.94z\"/><path d=\"M17.41 7.96l-1.37-1.37c-.4-.4-.92-.59-1.43-.59-.52 0-1.04.2-1.43.59L10.3 9.45l-7.72 7.72c-.78.78-.78 2.05 0 2.83L4 21.41c.39.39.9.59 1.41.59.51 0 1.02-.2 1.41-.59l7.78-7.78 2.81-2.81c.8-.78.8-2.07 0-2.86zM5.41 20L4 18.59l7.72-7.72 1.47 1.35L5.41 20z\"/>\n",
              "  </svg>\n",
              "      </button>\n",
              "      \n",
              "  <style>\n",
              "    .colab-df-container {\n",
              "      display:flex;\n",
              "      flex-wrap:wrap;\n",
              "      gap: 12px;\n",
              "    }\n",
              "\n",
              "    .colab-df-convert {\n",
              "      background-color: #E8F0FE;\n",
              "      border: none;\n",
              "      border-radius: 50%;\n",
              "      cursor: pointer;\n",
              "      display: none;\n",
              "      fill: #1967D2;\n",
              "      height: 32px;\n",
              "      padding: 0 0 0 0;\n",
              "      width: 32px;\n",
              "    }\n",
              "\n",
              "    .colab-df-convert:hover {\n",
              "      background-color: #E2EBFA;\n",
              "      box-shadow: 0px 1px 2px rgba(60, 64, 67, 0.3), 0px 1px 3px 1px rgba(60, 64, 67, 0.15);\n",
              "      fill: #174EA6;\n",
              "    }\n",
              "\n",
              "    [theme=dark] .colab-df-convert {\n",
              "      background-color: #3B4455;\n",
              "      fill: #D2E3FC;\n",
              "    }\n",
              "\n",
              "    [theme=dark] .colab-df-convert:hover {\n",
              "      background-color: #434B5C;\n",
              "      box-shadow: 0px 1px 3px 1px rgba(0, 0, 0, 0.15);\n",
              "      filter: drop-shadow(0px 1px 2px rgba(0, 0, 0, 0.3));\n",
              "      fill: #FFFFFF;\n",
              "    }\n",
              "  </style>\n",
              "\n",
              "      <script>\n",
              "        const buttonEl =\n",
              "          document.querySelector('#df-fb50a775-5a8d-413d-806e-3cc6c0b2f89b button.colab-df-convert');\n",
              "        buttonEl.style.display =\n",
              "          google.colab.kernel.accessAllowed ? 'block' : 'none';\n",
              "\n",
              "        async function convertToInteractive(key) {\n",
              "          const element = document.querySelector('#df-fb50a775-5a8d-413d-806e-3cc6c0b2f89b');\n",
              "          const dataTable =\n",
              "            await google.colab.kernel.invokeFunction('convertToInteractive',\n",
              "                                                     [key], {});\n",
              "          if (!dataTable) return;\n",
              "\n",
              "          const docLinkHtml = 'Like what you see? Visit the ' +\n",
              "            '<a target=\"_blank\" href=https://colab.research.google.com/notebooks/data_table.ipynb>data table notebook</a>'\n",
              "            + ' to learn more about interactive tables.';\n",
              "          element.innerHTML = '';\n",
              "          dataTable['output_type'] = 'display_data';\n",
              "          await google.colab.output.renderOutput(dataTable, element);\n",
              "          const docLink = document.createElement('div');\n",
              "          docLink.innerHTML = docLinkHtml;\n",
              "          element.appendChild(docLink);\n",
              "        }\n",
              "      </script>\n",
              "    </div>\n",
              "  </div>\n",
              "  "
            ]
          },
          "metadata": {},
          "execution_count": 5
        }
      ]
    },
    {
      "cell_type": "code",
      "source": [
        "for s in [s for s in df.columns if 'stim' in s]:\n",
        "  fig, ax = plt.subplots()\n",
        "  plt.title(s)\n",
        "  ax.boxplot([df[s].dropna(),df_HOLD[s].dropna()])\n",
        "  ax.set_xticklabels(['traintest', \"hold\"])"
      ],
      "metadata": {
        "colab": {
          "base_uri": "https://localhost:8080/",
          "height": 1000
        },
        "id": "GuegpmnglYAi",
        "outputId": "0f2ab8f1-d6dd-41e8-b652-a5749869ac06"
      },
      "execution_count": 6,
      "outputs": [
        {
          "output_type": "stream",
          "name": "stderr",
          "text": [
            "/usr/local/lib/python3.7/dist-packages/matplotlib/cbook/__init__.py:1376: VisibleDeprecationWarning: Creating an ndarray from ragged nested sequences (which is a list-or-tuple of lists-or-tuples-or ndarrays with different lengths or shapes) is deprecated. If you meant to do this, you must specify 'dtype=object' when creating the ndarray.\n",
            "  X = np.atleast_1d(X.T if isinstance(X, np.ndarray) else np.asarray(X))\n",
            "/usr/local/lib/python3.7/dist-packages/matplotlib/cbook/__init__.py:1376: VisibleDeprecationWarning: Creating an ndarray from ragged nested sequences (which is a list-or-tuple of lists-or-tuples-or ndarrays with different lengths or shapes) is deprecated. If you meant to do this, you must specify 'dtype=object' when creating the ndarray.\n",
            "  X = np.atleast_1d(X.T if isinstance(X, np.ndarray) else np.asarray(X))\n",
            "/usr/local/lib/python3.7/dist-packages/matplotlib/cbook/__init__.py:1376: VisibleDeprecationWarning: Creating an ndarray from ragged nested sequences (which is a list-or-tuple of lists-or-tuples-or ndarrays with different lengths or shapes) is deprecated. If you meant to do this, you must specify 'dtype=object' when creating the ndarray.\n",
            "  X = np.atleast_1d(X.T if isinstance(X, np.ndarray) else np.asarray(X))\n",
            "/usr/local/lib/python3.7/dist-packages/matplotlib/cbook/__init__.py:1376: VisibleDeprecationWarning: Creating an ndarray from ragged nested sequences (which is a list-or-tuple of lists-or-tuples-or ndarrays with different lengths or shapes) is deprecated. If you meant to do this, you must specify 'dtype=object' when creating the ndarray.\n",
            "  X = np.atleast_1d(X.T if isinstance(X, np.ndarray) else np.asarray(X))\n",
            "/usr/local/lib/python3.7/dist-packages/matplotlib/cbook/__init__.py:1376: VisibleDeprecationWarning: Creating an ndarray from ragged nested sequences (which is a list-or-tuple of lists-or-tuples-or ndarrays with different lengths or shapes) is deprecated. If you meant to do this, you must specify 'dtype=object' when creating the ndarray.\n",
            "  X = np.atleast_1d(X.T if isinstance(X, np.ndarray) else np.asarray(X))\n",
            "/usr/local/lib/python3.7/dist-packages/matplotlib/cbook/__init__.py:1376: VisibleDeprecationWarning: Creating an ndarray from ragged nested sequences (which is a list-or-tuple of lists-or-tuples-or ndarrays with different lengths or shapes) is deprecated. If you meant to do this, you must specify 'dtype=object' when creating the ndarray.\n",
            "  X = np.atleast_1d(X.T if isinstance(X, np.ndarray) else np.asarray(X))\n",
            "/usr/local/lib/python3.7/dist-packages/matplotlib/cbook/__init__.py:1376: VisibleDeprecationWarning: Creating an ndarray from ragged nested sequences (which is a list-or-tuple of lists-or-tuples-or ndarrays with different lengths or shapes) is deprecated. If you meant to do this, you must specify 'dtype=object' when creating the ndarray.\n",
            "  X = np.atleast_1d(X.T if isinstance(X, np.ndarray) else np.asarray(X))\n",
            "/usr/local/lib/python3.7/dist-packages/matplotlib/cbook/__init__.py:1376: VisibleDeprecationWarning: Creating an ndarray from ragged nested sequences (which is a list-or-tuple of lists-or-tuples-or ndarrays with different lengths or shapes) is deprecated. If you meant to do this, you must specify 'dtype=object' when creating the ndarray.\n",
            "  X = np.atleast_1d(X.T if isinstance(X, np.ndarray) else np.asarray(X))\n"
          ]
        },
        {
          "output_type": "display_data",
          "data": {
            "text/plain": [
              "<Figure size 432x288 with 1 Axes>"
            ],
            "image/png": "[encoded data removed]"
          },
          "metadata": {
            "needs_background": "light"
          }
        },
        {
          "output_type": "display_data",
          "data": {
            "text/plain": [
              "<Figure size 432x288 with 1 Axes>"
            ],
            "image/png": "[encoded data removed]"
          },
          "metadata": {
            "needs_background": "light"
          }
        },
        {
          "output_type": "display_data",
          "data": {
            "text/plain": [
              "<Figure size 432x288 with 1 Axes>"
            ],
            "image/png": "[encoded data removed]"
          },
          "metadata": {
            "needs_background": "light"
          }
        },
        {
          "output_type": "display_data",
          "data": {
            "text/plain": [
              "<Figure size 432x288 with 1 Axes>"
            ],
            "image/png": "[encoded data removed]"
          },
          "metadata": {
            "needs_background": "light"
          }
        },
        {
          "output_type": "display_data",
          "data": {
            "text/plain": [
              "<Figure size 432x288 with 1 Axes>"
            ],
            "image/png": "[encoded data removed]"
          },
          "metadata": {
            "needs_background": "light"
          }
        },
        {
          "output_type": "display_data",
          "data": {
            "text/plain": [
              "<Figure size 432x288 with 1 Axes>"
            ],
            "image/png": "[encoded data removed]"
          },
          "metadata": {
            "needs_background": "light"
          }
        },
        {
          "output_type": "display_data",
          "data": {
            "text/plain": [
              "<Figure size 432x288 with 1 Axes>"
            ],
            "image/png": "[encoded data removed]"
          },
          "metadata": {
            "needs_background": "light"
          }
        },
        {
          "output_type": "display_data",
          "data": {
            "text/plain": [
              "<Figure size 432x288 with 1 Axes>"
            ],
            "image/png": "[encoded data removed]"
          },
          "metadata": {
            "needs_background": "light"
          }
        }
      ]
    },
    {
      "cell_type": "code",
      "source": [
        "!ls drive/MyDrive/DS6011_Capstone_VisualNeuroscience/Seeded_CNMF/Extracted_Features/5_frames_stim1"
      ],
      "metadata": {
        "colab": {
          "base_uri": "https://localhost:8080/"
        },
        "id": "UhG-KpeAnDTC",
        "outputId": "2dfe381d-323b-471f-86bb-d81f9af6c093"
      },
      "execution_count": 7,
      "outputs": [
        {
          "output_type": "stream",
          "name": "stdout",
          "text": [
            "HOLDOUT_RAW_extracted_data_features.csv\n",
            "TrainTest_RAW_extracted_data_features.csv\n"
          ]
        }
      ]
    },
    {
      "cell_type": "code",
      "source": [
        "# By type\n",
        "# training\n",
        "for s in [s for s in df.columns if 'stim' in s]:\n",
        "  plt.title(s)\n",
        "  df.boxplot(column=s,by='label')"
      ],
      "metadata": {
        "colab": {
          "base_uri": "https://localhost:8080/",
          "height": 1000
        },
        "id": "c919n4bXHzWr",
        "outputId": "181d5e0d-4bbc-4bb8-eb10-e5c8abc2c59e"
      },
      "execution_count": 13,
      "outputs": [
        {
          "output_type": "stream",
          "name": "stderr",
          "text": [
            "/usr/local/lib/python3.7/dist-packages/matplotlib/cbook/__init__.py:1376: VisibleDeprecationWarning: Creating an ndarray from ragged nested sequences (which is a list-or-tuple of lists-or-tuples-or ndarrays with different lengths or shapes) is deprecated. If you meant to do this, you must specify 'dtype=object' when creating the ndarray.\n",
            "  X = np.atleast_1d(X.T if isinstance(X, np.ndarray) else np.asarray(X))\n",
            "/usr/local/lib/python3.7/dist-packages/matplotlib/cbook/__init__.py:1376: VisibleDeprecationWarning: Creating an ndarray from ragged nested sequences (which is a list-or-tuple of lists-or-tuples-or ndarrays with different lengths or shapes) is deprecated. If you meant to do this, you must specify 'dtype=object' when creating the ndarray.\n",
            "  X = np.atleast_1d(X.T if isinstance(X, np.ndarray) else np.asarray(X))\n",
            "/usr/local/lib/python3.7/dist-packages/matplotlib/cbook/__init__.py:1376: VisibleDeprecationWarning: Creating an ndarray from ragged nested sequences (which is a list-or-tuple of lists-or-tuples-or ndarrays with different lengths or shapes) is deprecated. If you meant to do this, you must specify 'dtype=object' when creating the ndarray.\n",
            "  X = np.atleast_1d(X.T if isinstance(X, np.ndarray) else np.asarray(X))\n",
            "/usr/local/lib/python3.7/dist-packages/matplotlib/cbook/__init__.py:1376: VisibleDeprecationWarning: Creating an ndarray from ragged nested sequences (which is a list-or-tuple of lists-or-tuples-or ndarrays with different lengths or shapes) is deprecated. If you meant to do this, you must specify 'dtype=object' when creating the ndarray.\n",
            "  X = np.atleast_1d(X.T if isinstance(X, np.ndarray) else np.asarray(X))\n",
            "/usr/local/lib/python3.7/dist-packages/matplotlib/cbook/__init__.py:1376: VisibleDeprecationWarning: Creating an ndarray from ragged nested sequences (which is a list-or-tuple of lists-or-tuples-or ndarrays with different lengths or shapes) is deprecated. If you meant to do this, you must specify 'dtype=object' when creating the ndarray.\n",
            "  X = np.atleast_1d(X.T if isinstance(X, np.ndarray) else np.asarray(X))\n",
            "/usr/local/lib/python3.7/dist-packages/matplotlib/cbook/__init__.py:1376: VisibleDeprecationWarning: Creating an ndarray from ragged nested sequences (which is a list-or-tuple of lists-or-tuples-or ndarrays with different lengths or shapes) is deprecated. If you meant to do this, you must specify 'dtype=object' when creating the ndarray.\n",
            "  X = np.atleast_1d(X.T if isinstance(X, np.ndarray) else np.asarray(X))\n",
            "/usr/local/lib/python3.7/dist-packages/matplotlib/cbook/__init__.py:1376: VisibleDeprecationWarning: Creating an ndarray from ragged nested sequences (which is a list-or-tuple of lists-or-tuples-or ndarrays with different lengths or shapes) is deprecated. If you meant to do this, you must specify 'dtype=object' when creating the ndarray.\n",
            "  X = np.atleast_1d(X.T if isinstance(X, np.ndarray) else np.asarray(X))\n",
            "/usr/local/lib/python3.7/dist-packages/matplotlib/cbook/__init__.py:1376: VisibleDeprecationWarning: Creating an ndarray from ragged nested sequences (which is a list-or-tuple of lists-or-tuples-or ndarrays with different lengths or shapes) is deprecated. If you meant to do this, you must specify 'dtype=object' when creating the ndarray.\n",
            "  X = np.atleast_1d(X.T if isinstance(X, np.ndarray) else np.asarray(X))\n"
          ]
        },
        {
          "output_type": "display_data",
          "data": {
            "text/plain": [
              "<Figure size 432x288 with 1 Axes>"
            ],
            "image/png": "[encoded data removed]"
          },
          "metadata": {
            "needs_background": "light"
          }
        },
        {
          "output_type": "display_data",
          "data": {
            "text/plain": [
              "<Figure size 432x288 with 1 Axes>"
            ],
            "image/png": "[encoded data removed]"
          },
          "metadata": {
            "needs_background": "light"
          }
        },
        {
          "output_type": "display_data",
          "data": {
            "text/plain": [
              "<Figure size 432x288 with 1 Axes>"
            ],
            "image/png": "[encoded data removed]"
          },
          "metadata": {
            "needs_background": "light"
          }
        },
        {
          "output_type": "display_data",
          "data": {
            "text/plain": [
              "<Figure size 432x288 with 1 Axes>"
            ],
            "image/png": "[encoded data removed]"
          },
          "metadata": {
            "needs_background": "light"
          }
        },
        {
          "output_type": "display_data",
          "data": {
            "text/plain": [
              "<Figure size 432x288 with 1 Axes>"
            ],
            "image/png": "[encoded data removed]"
          },
          "metadata": {
            "needs_background": "light"
          }
        },
        {
          "output_type": "display_data",
          "data": {
            "text/plain": [
              "<Figure size 432x288 with 1 Axes>"
            ],
            "image/png": "[encoded data removed]"
          },
          "metadata": {
            "needs_background": "light"
          }
        },
        {
          "output_type": "display_data",
          "data": {
            "text/plain": [
              "<Figure size 432x288 with 1 Axes>"
            ],
            "image/png": "[encoded data removed]"
          },
          "metadata": {
            "needs_background": "light"
          }
        },
        {
          "output_type": "display_data",
          "data": {
            "text/plain": [
              "<Figure size 432x288 with 1 Axes>"
            ],
            "image/png": "[encoded data removed]"
          },
          "metadata": {
            "needs_background": "light"
          }
        },
        {
          "output_type": "display_data",
          "data": {
            "text/plain": [
              "<Figure size 432x288 with 1 Axes>"
            ],
            "image/png": "[encoded data removed]"
          },
          "metadata": {
            "needs_background": "light"
          }
        }
      ]
    },
    {
      "cell_type": "code",
      "source": [
        ""
      ],
      "metadata": {
        "id": "MaEm1rHbHzfZ"
      },
      "execution_count": null,
      "outputs": []
    },
    {
      "cell_type": "markdown",
      "source": [
        "# Extracted Features"
      ],
      "metadata": {
        "id": "fbWlyuHlLG1p"
      }
    },
    {
      "cell_type": "code",
      "source": [
        "df_HOLD_ext = pd.read_csv('drive/MyDrive/DS6011_Capstone_VisualNeuroscience/Seeded_CNMF/Extracted_Features/5_frames_stim1/HOLDOUT_RAW_extracted_data_features.csv')\n",
        "df_HOLD_ext"
      ],
      "metadata": {
        "colab": {
          "base_uri": "https://localhost:8080/",
          "height": 485
        },
        "id": "MgN1Wj_InuYP",
        "outputId": "abf0d99d-ea61-4b4d-fb92-326f6b4fd230"
      },
      "execution_count": 7,
      "outputs": [
        {
          "output_type": "execute_result",
          "data": {
            "text/plain": [
              "        Unnamed: 0  stack label  roi  frame  movie_ID      resp     stim1  \\\n",
              "0                0      1    t5    8      1  210809_2  0.217502  0.276790   \n",
              "1                1      1    t5    8      2  210809_2  0.416828  0.276790   \n",
              "2                2      1    t5    8      3  210809_2  0.354376 -0.551717   \n",
              "3                3      1    t5    8      4  210809_2  0.502063 -1.104055   \n",
              "4                4      1    t5    8      5  210809_2  0.332470 -1.104055   \n",
              "...            ...    ...   ...  ...    ...       ...       ...       ...   \n",
              "691492      691492     10   tm9    1   5497  210816_0  0.012834  0.723927   \n",
              "691493      691493     10   tm9    1   5498  210816_0  0.017510  0.660119   \n",
              "691494      691494     10   tm9    1   5499  210816_0  0.071367  0.660119   \n",
              "691495      691495     10   tm9    1   5500  210816_0  0.046596  0.660119   \n",
              "691496      691496     10   tm9    1   5501  210816_0  0.097013  0.137968   \n",
              "\n",
              "           stim2     stim3  ...  relation_stim1_PS-PS  relation_type_stim6  \\\n",
              "0       0.776442 -0.001301  ...          0.000000e+00                   PS   \n",
              "1       0.776442 -0.001301  ...          0.000000e+00                   PS   \n",
              "2      -1.050625 -1.773261  ...          0.000000e+00                   PS   \n",
              "3      -1.343779 -1.581956  ...          0.000000e+00                   PS   \n",
              "4       0.776442 -0.001301  ...          0.000000e+00                   PS   \n",
              "...          ...       ...  ...                   ...                  ...   \n",
              "691492 -1.568715 -1.344984  ...          0.000000e+00                   PS   \n",
              "691493  0.410886 -1.260188  ...          0.000000e+00                   PS   \n",
              "691494  0.772401  0.007249  ...          0.000000e+00                   PS   \n",
              "691495  0.772401  0.007249  ...          2.757963e-17                   PS   \n",
              "691496 -1.353346  1.590705  ...          4.868336e-19                   PS   \n",
              "\n",
              "        relation_stim6  relation_stim6_+5  relation_type_stim6_+5  \\\n",
              "0         7.216378e-11       2.790717e-16                      NS   \n",
              "1         1.653759e-08       9.894077e-13                      NS   \n",
              "2         1.354199e-07       2.692603e-11                      NS   \n",
              "3         8.086540e-07       2.216457e-10                      NS   \n",
              "4         5.285532e-09       6.543285e-14                      NS   \n",
              "...                ...                ...                     ...   \n",
              "691492    2.906709e-09       8.282521e-14                      PS   \n",
              "691493    1.235647e-08       6.317373e-13                      PS   \n",
              "691494    1.903339e-07       8.094906e-12                      PS   \n",
              "691495    6.542141e-08       1.857758e-12                      PS   \n",
              "691496    1.130157e-07       5.590954e-13                      PS   \n",
              "\n",
              "        relation_stim6_NS-NS  relation_stim6_NS-PS  relation_stim6_PS-NS  \\\n",
              "0                        0.0                   0.0          2.013887e-26   \n",
              "1                        0.0                   0.0          1.636242e-20   \n",
              "2                        0.0                   0.0          3.646319e-18   \n",
              "3                        0.0                   0.0          1.792346e-16   \n",
              "4                        0.0                   0.0          3.458474e-22   \n",
              "...                      ...                   ...                   ...   \n",
              "691492                   0.0                   0.0          0.000000e+00   \n",
              "691493                   0.0                   0.0          0.000000e+00   \n",
              "691494                   0.0                   0.0          0.000000e+00   \n",
              "691495                   0.0                   0.0          0.000000e+00   \n",
              "691496                   0.0                   0.0          0.000000e+00   \n",
              "\n",
              "        relation_stim6_PS-PS  frame_group  \n",
              "0               0.000000e+00            1  \n",
              "1               0.000000e+00            1  \n",
              "2               0.000000e+00            1  \n",
              "3               0.000000e+00            1  \n",
              "4               0.000000e+00            1  \n",
              "...                      ...          ...  \n",
              "691492          2.407488e-22           10  \n",
              "691493          7.806041e-21           10  \n",
              "691494          1.540735e-18           10  \n",
              "691495          1.215371e-19           10  \n",
              "691496          6.318654e-20           10  \n",
              "\n",
              "[691497 rows x 38 columns]"
            ],
            "text/html": [
              "\n",
              "  <div id=\"df-2fced540-8778-4027-83d5-2d990b5742c3\">\n",
              "    <div class=\"colab-df-container\">\n",
              "      <div>\n",
              "<style scoped>\n",
              "    .dataframe tbody tr th:only-of-type {\n",
              "        vertical-align: middle;\n",
              "    }\n",
              "\n",
              "    .dataframe tbody tr th {\n",
              "        vertical-align: top;\n",
              "    }\n",
              "\n",
              "    .dataframe thead th {\n",
              "        text-align: right;\n",
              "    }\n",
              "</style>\n",
              "<table border=\"1\" class=\"dataframe\">\n",
              "  <thead>\n",
              "    <tr style=\"text-align: right;\">\n",
              "      <th></th>\n",
              "      <th>Unnamed: 0</th>\n",
              "      <th>stack</th>\n",
              "      <th>label</th>\n",
              "      <th>roi</th>\n",
              "      <th>frame</th>\n",
              "      <th>movie_ID</th>\n",
              "      <th>resp</th>\n",
              "      <th>stim1</th>\n",
              "      <th>stim2</th>\n",
              "      <th>stim3</th>\n",
              "      <th>...</th>\n",
              "      <th>relation_stim1_PS-PS</th>\n",
              "      <th>relation_type_stim6</th>\n",
              "      <th>relation_stim6</th>\n",
              "      <th>relation_stim6_+5</th>\n",
              "      <th>relation_type_stim6_+5</th>\n",
              "      <th>relation_stim6_NS-NS</th>\n",
              "      <th>relation_stim6_NS-PS</th>\n",
              "      <th>relation_stim6_PS-NS</th>\n",
              "      <th>relation_stim6_PS-PS</th>\n",
              "      <th>frame_group</th>\n",
              "    </tr>\n",
              "  </thead>\n",
              "  <tbody>\n",
              "    <tr>\n",
              "      <th>0</th>\n",
              "      <td>0</td>\n",
              "      <td>1</td>\n",
              "      <td>t5</td>\n",
              "      <td>8</td>\n",
              "      <td>1</td>\n",
              "      <td>210809_2</td>\n",
              "      <td>0.217502</td>\n",
              "      <td>0.276790</td>\n",
              "      <td>0.776442</td>\n",
              "      <td>-0.001301</td>\n",
              "      <td>...</td>\n",
              "      <td>0.000000e+00</td>\n",
              "      <td>PS</td>\n",
              "      <td>7.216378e-11</td>\n",
              "      <td>2.790717e-16</td>\n",
              "      <td>NS</td>\n",
              "      <td>0.0</td>\n",
              "      <td>0.0</td>\n",
              "      <td>2.013887e-26</td>\n",
              "      <td>0.000000e+00</td>\n",
              "      <td>1</td>\n",
              "    </tr>\n",
              "    <tr>\n",
              "      <th>1</th>\n",
              "      <td>1</td>\n",
              "      <td>1</td>\n",
              "      <td>t5</td>\n",
              "      <td>8</td>\n",
              "      <td>2</td>\n",
              "      <td>210809_2</td>\n",
              "      <td>0.416828</td>\n",
              "      <td>0.276790</td>\n",
              "      <td>0.776442</td>\n",
              "      <td>-0.001301</td>\n",
              "      <td>...</td>\n",
              "      <td>0.000000e+00</td>\n",
              "      <td>PS</td>\n",
              "      <td>1.653759e-08</td>\n",
              "      <td>9.894077e-13</td>\n",
              "      <td>NS</td>\n",
              "      <td>0.0</td>\n",
              "      <td>0.0</td>\n",
              "      <td>1.636242e-20</td>\n",
              "      <td>0.000000e+00</td>\n",
              "      <td>1</td>\n",
              "    </tr>\n",
              "    <tr>\n",
              "      <th>2</th>\n",
              "      <td>2</td>\n",
              "      <td>1</td>\n",
              "      <td>t5</td>\n",
              "      <td>8</td>\n",
              "      <td>3</td>\n",
              "      <td>210809_2</td>\n",
              "      <td>0.354376</td>\n",
              "      <td>-0.551717</td>\n",
              "      <td>-1.050625</td>\n",
              "      <td>-1.773261</td>\n",
              "      <td>...</td>\n",
              "      <td>0.000000e+00</td>\n",
              "      <td>PS</td>\n",
              "      <td>1.354199e-07</td>\n",
              "      <td>2.692603e-11</td>\n",
              "      <td>NS</td>\n",
              "      <td>0.0</td>\n",
              "      <td>0.0</td>\n",
              "      <td>3.646319e-18</td>\n",
              "      <td>0.000000e+00</td>\n",
              "      <td>1</td>\n",
              "    </tr>\n",
              "    <tr>\n",
              "      <th>3</th>\n",
              "      <td>3</td>\n",
              "      <td>1</td>\n",
              "      <td>t5</td>\n",
              "      <td>8</td>\n",
              "      <td>4</td>\n",
              "      <td>210809_2</td>\n",
              "      <td>0.502063</td>\n",
              "      <td>-1.104055</td>\n",
              "      <td>-1.343779</td>\n",
              "      <td>-1.581956</td>\n",
              "      <td>...</td>\n",
              "      <td>0.000000e+00</td>\n",
              "      <td>PS</td>\n",
              "      <td>8.086540e-07</td>\n",
              "      <td>2.216457e-10</td>\n",
              "      <td>NS</td>\n",
              "      <td>0.0</td>\n",
              "      <td>0.0</td>\n",
              "      <td>1.792346e-16</td>\n",
              "      <td>0.000000e+00</td>\n",
              "      <td>1</td>\n",
              "    </tr>\n",
              "    <tr>\n",
              "      <th>4</th>\n",
              "      <td>4</td>\n",
              "      <td>1</td>\n",
              "      <td>t5</td>\n",
              "      <td>8</td>\n",
              "      <td>5</td>\n",
              "      <td>210809_2</td>\n",
              "      <td>0.332470</td>\n",
              "      <td>-1.104055</td>\n",
              "      <td>0.776442</td>\n",
              "      <td>-0.001301</td>\n",
              "      <td>...</td>\n",
              "      <td>0.000000e+00</td>\n",
              "      <td>PS</td>\n",
              "      <td>5.285532e-09</td>\n",
              "      <td>6.543285e-14</td>\n",
              "      <td>NS</td>\n",
              "      <td>0.0</td>\n",
              "      <td>0.0</td>\n",
              "      <td>3.458474e-22</td>\n",
              "      <td>0.000000e+00</td>\n",
              "      <td>1</td>\n",
              "    </tr>\n",
              "    <tr>\n",
              "      <th>...</th>\n",
              "      <td>...</td>\n",
              "      <td>...</td>\n",
              "      <td>...</td>\n",
              "      <td>...</td>\n",
              "      <td>...</td>\n",
              "      <td>...</td>\n",
              "      <td>...</td>\n",
              "      <td>...</td>\n",
              "      <td>...</td>\n",
              "      <td>...</td>\n",
              "      <td>...</td>\n",
              "      <td>...</td>\n",
              "      <td>...</td>\n",
              "      <td>...</td>\n",
              "      <td>...</td>\n",
              "      <td>...</td>\n",
              "      <td>...</td>\n",
              "      <td>...</td>\n",
              "      <td>...</td>\n",
              "      <td>...</td>\n",
              "      <td>...</td>\n",
              "    </tr>\n",
              "    <tr>\n",
              "      <th>691492</th>\n",
              "      <td>691492</td>\n",
              "      <td>10</td>\n",
              "      <td>tm9</td>\n",
              "      <td>1</td>\n",
              "      <td>5497</td>\n",
              "      <td>210816_0</td>\n",
              "      <td>0.012834</td>\n",
              "      <td>0.723927</td>\n",
              "      <td>-1.568715</td>\n",
              "      <td>-1.344984</td>\n",
              "      <td>...</td>\n",
              "      <td>0.000000e+00</td>\n",
              "      <td>PS</td>\n",
              "      <td>2.906709e-09</td>\n",
              "      <td>8.282521e-14</td>\n",
              "      <td>PS</td>\n",
              "      <td>0.0</td>\n",
              "      <td>0.0</td>\n",
              "      <td>0.000000e+00</td>\n",
              "      <td>2.407488e-22</td>\n",
              "      <td>10</td>\n",
              "    </tr>\n",
              "    <tr>\n",
              "      <th>691493</th>\n",
              "      <td>691493</td>\n",
              "      <td>10</td>\n",
              "      <td>tm9</td>\n",
              "      <td>1</td>\n",
              "      <td>5498</td>\n",
              "      <td>210816_0</td>\n",
              "      <td>0.017510</td>\n",
              "      <td>0.660119</td>\n",
              "      <td>0.410886</td>\n",
              "      <td>-1.260188</td>\n",
              "      <td>...</td>\n",
              "      <td>0.000000e+00</td>\n",
              "      <td>PS</td>\n",
              "      <td>1.235647e-08</td>\n",
              "      <td>6.317373e-13</td>\n",
              "      <td>PS</td>\n",
              "      <td>0.0</td>\n",
              "      <td>0.0</td>\n",
              "      <td>0.000000e+00</td>\n",
              "      <td>7.806041e-21</td>\n",
              "      <td>10</td>\n",
              "    </tr>\n",
              "    <tr>\n",
              "      <th>691494</th>\n",
              "      <td>691494</td>\n",
              "      <td>10</td>\n",
              "      <td>tm9</td>\n",
              "      <td>1</td>\n",
              "      <td>5499</td>\n",
              "      <td>210816_0</td>\n",
              "      <td>0.071367</td>\n",
              "      <td>0.660119</td>\n",
              "      <td>0.772401</td>\n",
              "      <td>0.007249</td>\n",
              "      <td>...</td>\n",
              "      <td>0.000000e+00</td>\n",
              "      <td>PS</td>\n",
              "      <td>1.903339e-07</td>\n",
              "      <td>8.094906e-12</td>\n",
              "      <td>PS</td>\n",
              "      <td>0.0</td>\n",
              "      <td>0.0</td>\n",
              "      <td>0.000000e+00</td>\n",
              "      <td>1.540735e-18</td>\n",
              "      <td>10</td>\n",
              "    </tr>\n",
              "    <tr>\n",
              "      <th>691495</th>\n",
              "      <td>691495</td>\n",
              "      <td>10</td>\n",
              "      <td>tm9</td>\n",
              "      <td>1</td>\n",
              "      <td>5500</td>\n",
              "      <td>210816_0</td>\n",
              "      <td>0.046596</td>\n",
              "      <td>0.660119</td>\n",
              "      <td>0.772401</td>\n",
              "      <td>0.007249</td>\n",
              "      <td>...</td>\n",
              "      <td>2.757963e-17</td>\n",
              "      <td>PS</td>\n",
              "      <td>6.542141e-08</td>\n",
              "      <td>1.857758e-12</td>\n",
              "      <td>PS</td>\n",
              "      <td>0.0</td>\n",
              "      <td>0.0</td>\n",
              "      <td>0.000000e+00</td>\n",
              "      <td>1.215371e-19</td>\n",
              "      <td>10</td>\n",
              "    </tr>\n",
              "    <tr>\n",
              "      <th>691496</th>\n",
              "      <td>691496</td>\n",
              "      <td>10</td>\n",
              "      <td>tm9</td>\n",
              "      <td>1</td>\n",
              "      <td>5501</td>\n",
              "      <td>210816_0</td>\n",
              "      <td>0.097013</td>\n",
              "      <td>0.137968</td>\n",
              "      <td>-1.353346</td>\n",
              "      <td>1.590705</td>\n",
              "      <td>...</td>\n",
              "      <td>4.868336e-19</td>\n",
              "      <td>PS</td>\n",
              "      <td>1.130157e-07</td>\n",
              "      <td>5.590954e-13</td>\n",
              "      <td>PS</td>\n",
              "      <td>0.0</td>\n",
              "      <td>0.0</td>\n",
              "      <td>0.000000e+00</td>\n",
              "      <td>6.318654e-20</td>\n",
              "      <td>10</td>\n",
              "    </tr>\n",
              "  </tbody>\n",
              "</table>\n",
              "<p>691497 rows × 38 columns</p>\n",
              "</div>\n",
              "      <button class=\"colab-df-convert\" onclick=\"convertToInteractive('df-2fced540-8778-4027-83d5-2d990b5742c3')\"\n",
              "              title=\"Convert this dataframe to an interactive table.\"\n",
              "              style=\"display:none;\">\n",
              "        \n",
              "  <svg xmlns=\"http://www.w3.org/2000/svg\" height=\"24px\"viewBox=\"0 0 24 24\"\n",
              "       width=\"24px\">\n",
              "    <path d=\"M0 0h24v24H0V0z\" fill=\"none\"/>\n",
              "    <path d=\"M18.56 5.44l.94 2.06.94-2.06 2.06-.94-2.06-.94-.94-2.06-.94 2.06-2.06.94zm-11 1L8.5 8.5l.94-2.06 2.06-.94-2.06-.94L8.5 2.5l-.94 2.06-2.06.94zm10 10l.94 2.06.94-2.06 2.06-.94-2.06-.94-.94-2.06-.94 2.06-2.06.94z\"/><path d=\"M17.41 7.96l-1.37-1.37c-.4-.4-.92-.59-1.43-.59-.52 0-1.04.2-1.43.59L10.3 9.45l-7.72 7.72c-.78.78-.78 2.05 0 2.83L4 21.41c.39.39.9.59 1.41.59.51 0 1.02-.2 1.41-.59l7.78-7.78 2.81-2.81c.8-.78.8-2.07 0-2.86zM5.41 20L4 18.59l7.72-7.72 1.47 1.35L5.41 20z\"/>\n",
              "  </svg>\n",
              "      </button>\n",
              "      \n",
              "  <style>\n",
              "    .colab-df-container {\n",
              "      display:flex;\n",
              "      flex-wrap:wrap;\n",
              "      gap: 12px;\n",
              "    }\n",
              "\n",
              "    .colab-df-convert {\n",
              "      background-color: #E8F0FE;\n",
              "      border: none;\n",
              "      border-radius: 50%;\n",
              "      cursor: pointer;\n",
              "      display: none;\n",
              "      fill: #1967D2;\n",
              "      height: 32px;\n",
              "      padding: 0 0 0 0;\n",
              "      width: 32px;\n",
              "    }\n",
              "\n",
              "    .colab-df-convert:hover {\n",
              "      background-color: #E2EBFA;\n",
              "      box-shadow: 0px 1px 2px rgba(60, 64, 67, 0.3), 0px 1px 3px 1px rgba(60, 64, 67, 0.15);\n",
              "      fill: #174EA6;\n",
              "    }\n",
              "\n",
              "    [theme=dark] .colab-df-convert {\n",
              "      background-color: #3B4455;\n",
              "      fill: #D2E3FC;\n",
              "    }\n",
              "\n",
              "    [theme=dark] .colab-df-convert:hover {\n",
              "      background-color: #434B5C;\n",
              "      box-shadow: 0px 1px 3px 1px rgba(0, 0, 0, 0.15);\n",
              "      filter: drop-shadow(0px 1px 2px rgba(0, 0, 0, 0.3));\n",
              "      fill: #FFFFFF;\n",
              "    }\n",
              "  </style>\n",
              "\n",
              "      <script>\n",
              "        const buttonEl =\n",
              "          document.querySelector('#df-2fced540-8778-4027-83d5-2d990b5742c3 button.colab-df-convert');\n",
              "        buttonEl.style.display =\n",
              "          google.colab.kernel.accessAllowed ? 'block' : 'none';\n",
              "\n",
              "        async function convertToInteractive(key) {\n",
              "          const element = document.querySelector('#df-2fced540-8778-4027-83d5-2d990b5742c3');\n",
              "          const dataTable =\n",
              "            await google.colab.kernel.invokeFunction('convertToInteractive',\n",
              "                                                     [key], {});\n",
              "          if (!dataTable) return;\n",
              "\n",
              "          const docLinkHtml = 'Like what you see? Visit the ' +\n",
              "            '<a target=\"_blank\" href=https://colab.research.google.com/notebooks/data_table.ipynb>data table notebook</a>'\n",
              "            + ' to learn more about interactive tables.';\n",
              "          element.innerHTML = '';\n",
              "          dataTable['output_type'] = 'display_data';\n",
              "          await google.colab.output.renderOutput(dataTable, element);\n",
              "          const docLink = document.createElement('div');\n",
              "          docLink.innerHTML = docLinkHtml;\n",
              "          element.appendChild(docLink);\n",
              "        }\n",
              "      </script>\n",
              "    </div>\n",
              "  </div>\n",
              "  "
            ]
          },
          "metadata": {},
          "execution_count": 7
        }
      ]
    },
    {
      "cell_type": "code",
      "source": [
        "df_ext = pd.read_csv('drive/MyDrive/DS6011_Capstone_VisualNeuroscience/Seeded_CNMF/Extracted_Features/5_frames_stim1/TrainTest_RAW_extracted_data_features.csv')\n",
        "df_ext"
      ],
      "metadata": {
        "colab": {
          "base_uri": "https://localhost:8080/",
          "height": 485
        },
        "id": "PyZbnijVwohB",
        "outputId": "2e0a9392-4580-4715-e84d-8b79a712e60a"
      },
      "execution_count": 8,
      "outputs": [
        {
          "output_type": "execute_result",
          "data": {
            "text/plain": [
              "         Unnamed: 0  stack label  roi  frame  movie_ID      resp     stim1  \\\n",
              "0                 0      1   tm9    1      0  210728_0  0.119422  1.827970   \n",
              "1                 1      1   tm9    1      1  210728_0  0.065380  0.676591   \n",
              "2                 2      1   tm9    1      2  210728_0  0.036917 -1.276472   \n",
              "3                 3      1   tm9    1      3  210728_0  0.156975 -1.676237   \n",
              "4                 4      1   tm9    1      4  210728_0  0.195883 -1.351235   \n",
              "...             ...    ...   ...  ...    ...       ...       ...       ...   \n",
              "3688505     3688505      9   tm1   10   5490  210816_1  0.074290  0.570051   \n",
              "3688506     3688506      9   tm1   10   5491  210816_1  0.086649  0.570051   \n",
              "3688507     3688507      9   tm1   10   5492  210816_1  0.034598  0.570051   \n",
              "3688508     3688508      9   tm1   10   5497  210816_1  0.229270 -1.064034   \n",
              "3688509     3688509      9   tm1   10   5500  210816_1  0.009124 -1.332469   \n",
              "\n",
              "            stim2     stim3  ...  relation_stim1_PS-PS  relation_type_stim6  \\\n",
              "0       -0.668979 -1.323903  ...                   0.0                   PS   \n",
              "1        1.133205  0.209498  ...                   0.0                   PS   \n",
              "2       -0.881429  1.220991  ...                   0.0                   PS   \n",
              "3        0.505447  1.208871  ...                   0.0                   PS   \n",
              "4       -0.832430  1.249990  ...                   0.0                   PS   \n",
              "...           ...       ...  ...                   ...                  ...   \n",
              "3688505  0.754433  0.311900  ...                   0.0                   PS   \n",
              "3688506  0.772721  0.007225  ...                   0.0                   PS   \n",
              "3688507  0.772721  0.007225  ...                   0.0                   PS   \n",
              "3688508 -1.657355  1.230574  ...                   0.0                   NS   \n",
              "3688509  0.772721  0.007225  ...                   0.0                   NS   \n",
              "\n",
              "         relation_stim6  relation_stim6_+5  relation_type_stim6_+5  \\\n",
              "0          6.131515e-15       1.709783e-19                      NS   \n",
              "1          1.404623e-10       2.707063e-14                      NS   \n",
              "2          7.426788e-10       2.085457e-13                      NS   \n",
              "3          1.971844e-08       9.885126e-13                      NS   \n",
              "4          3.232196e-08       1.051521e-12                      NS   \n",
              "...                 ...                ...                     ...   \n",
              "3688505    3.263303e-09       2.459124e-13                      PS   \n",
              "3688506    3.979294e-09       2.972849e-13                      PS   \n",
              "3688507    6.265856e-11       2.466365e-17                      NS   \n",
              "3688508    1.621214e-09       2.750217e-14                      NS   \n",
              "3688509    1.307972e-10       7.916236e-15                      NS   \n",
              "\n",
              "         relation_stim6_NS-NS  relation_stim6_NS-PS  relation_stim6_PS-NS  \\\n",
              "0                0.000000e+00                   0.0          1.048356e-33   \n",
              "1                0.000000e+00                   0.0          3.802402e-24   \n",
              "2                0.000000e+00                   0.0          1.548825e-22   \n",
              "3                0.000000e+00                   0.0          1.949192e-20   \n",
              "4                0.000000e+00                   0.0          3.398724e-20   \n",
              "...                       ...                   ...                   ...   \n",
              "3688505          0.000000e+00                   0.0          0.000000e+00   \n",
              "3688506          0.000000e+00                   0.0          0.000000e+00   \n",
              "3688507          0.000000e+00                   0.0          1.545389e-27   \n",
              "3688508          4.458690e-23                   0.0          0.000000e+00   \n",
              "3688509          1.035421e-24                   0.0          0.000000e+00   \n",
              "\n",
              "         relation_stim6_PS-PS  frame_group  \n",
              "0                0.000000e+00            1  \n",
              "1                0.000000e+00            1  \n",
              "2                0.000000e+00            1  \n",
              "3                0.000000e+00            1  \n",
              "4                0.000000e+00            1  \n",
              "...                       ...          ...  \n",
              "3688505          8.024868e-22           10  \n",
              "3688506          1.182984e-21           10  \n",
              "3688507          0.000000e+00           10  \n",
              "3688508          0.000000e+00           10  \n",
              "3688509          0.000000e+00           10  \n",
              "\n",
              "[3688510 rows x 38 columns]"
            ],
            "text/html": [
              "\n",
              "  <div id=\"df-cfb0151e-d3c7-43c3-a346-45abbe700333\">\n",
              "    <div class=\"colab-df-container\">\n",
              "      <div>\n",
              "<style scoped>\n",
              "    .dataframe tbody tr th:only-of-type {\n",
              "        vertical-align: middle;\n",
              "    }\n",
              "\n",
              "    .dataframe tbody tr th {\n",
              "        vertical-align: top;\n",
              "    }\n",
              "\n",
              "    .dataframe thead th {\n",
              "        text-align: right;\n",
              "    }\n",
              "</style>\n",
              "<table border=\"1\" class=\"dataframe\">\n",
              "  <thead>\n",
              "    <tr style=\"text-align: right;\">\n",
              "      <th></th>\n",
              "      <th>Unnamed: 0</th>\n",
              "      <th>stack</th>\n",
              "      <th>label</th>\n",
              "      <th>roi</th>\n",
              "      <th>frame</th>\n",
              "      <th>movie_ID</th>\n",
              "      <th>resp</th>\n",
              "      <th>stim1</th>\n",
              "      <th>stim2</th>\n",
              "      <th>stim3</th>\n",
              "      <th>...</th>\n",
              "      <th>relation_stim1_PS-PS</th>\n",
              "      <th>relation_type_stim6</th>\n",
              "      <th>relation_stim6</th>\n",
              "      <th>relation_stim6_+5</th>\n",
              "      <th>relation_type_stim6_+5</th>\n",
              "      <th>relation_stim6_NS-NS</th>\n",
              "      <th>relation_stim6_NS-PS</th>\n",
              "      <th>relation_stim6_PS-NS</th>\n",
              "      <th>relation_stim6_PS-PS</th>\n",
              "      <th>frame_group</th>\n",
              "    </tr>\n",
              "  </thead>\n",
              "  <tbody>\n",
              "    <tr>\n",
              "      <th>0</th>\n",
              "      <td>0</td>\n",
              "      <td>1</td>\n",
              "      <td>tm9</td>\n",
              "      <td>1</td>\n",
              "      <td>0</td>\n",
              "      <td>210728_0</td>\n",
              "      <td>0.119422</td>\n",
              "      <td>1.827970</td>\n",
              "      <td>-0.668979</td>\n",
              "      <td>-1.323903</td>\n",
              "      <td>...</td>\n",
              "      <td>0.0</td>\n",
              "      <td>PS</td>\n",
              "      <td>6.131515e-15</td>\n",
              "      <td>1.709783e-19</td>\n",
              "      <td>NS</td>\n",
              "      <td>0.000000e+00</td>\n",
              "      <td>0.0</td>\n",
              "      <td>1.048356e-33</td>\n",
              "      <td>0.000000e+00</td>\n",
              "      <td>1</td>\n",
              "    </tr>\n",
              "    <tr>\n",
              "      <th>1</th>\n",
              "      <td>1</td>\n",
              "      <td>1</td>\n",
              "      <td>tm9</td>\n",
              "      <td>1</td>\n",
              "      <td>1</td>\n",
              "      <td>210728_0</td>\n",
              "      <td>0.065380</td>\n",
              "      <td>0.676591</td>\n",
              "      <td>1.133205</td>\n",
              "      <td>0.209498</td>\n",
              "      <td>...</td>\n",
              "      <td>0.0</td>\n",
              "      <td>PS</td>\n",
              "      <td>1.404623e-10</td>\n",
              "      <td>2.707063e-14</td>\n",
              "      <td>NS</td>\n",
              "      <td>0.000000e+00</td>\n",
              "      <td>0.0</td>\n",
              "      <td>3.802402e-24</td>\n",
              "      <td>0.000000e+00</td>\n",
              "      <td>1</td>\n",
              "    </tr>\n",
              "    <tr>\n",
              "      <th>2</th>\n",
              "      <td>2</td>\n",
              "      <td>1</td>\n",
              "      <td>tm9</td>\n",
              "      <td>1</td>\n",
              "      <td>2</td>\n",
              "      <td>210728_0</td>\n",
              "      <td>0.036917</td>\n",
              "      <td>-1.276472</td>\n",
              "      <td>-0.881429</td>\n",
              "      <td>1.220991</td>\n",
              "      <td>...</td>\n",
              "      <td>0.0</td>\n",
              "      <td>PS</td>\n",
              "      <td>7.426788e-10</td>\n",
              "      <td>2.085457e-13</td>\n",
              "      <td>NS</td>\n",
              "      <td>0.000000e+00</td>\n",
              "      <td>0.0</td>\n",
              "      <td>1.548825e-22</td>\n",
              "      <td>0.000000e+00</td>\n",
              "      <td>1</td>\n",
              "    </tr>\n",
              "    <tr>\n",
              "      <th>3</th>\n",
              "      <td>3</td>\n",
              "      <td>1</td>\n",
              "      <td>tm9</td>\n",
              "      <td>1</td>\n",
              "      <td>3</td>\n",
              "      <td>210728_0</td>\n",
              "      <td>0.156975</td>\n",
              "      <td>-1.676237</td>\n",
              "      <td>0.505447</td>\n",
              "      <td>1.208871</td>\n",
              "      <td>...</td>\n",
              "      <td>0.0</td>\n",
              "      <td>PS</td>\n",
              "      <td>1.971844e-08</td>\n",
              "      <td>9.885126e-13</td>\n",
              "      <td>NS</td>\n",
              "      <td>0.000000e+00</td>\n",
              "      <td>0.0</td>\n",
              "      <td>1.949192e-20</td>\n",
              "      <td>0.000000e+00</td>\n",
              "      <td>1</td>\n",
              "    </tr>\n",
              "    <tr>\n",
              "      <th>4</th>\n",
              "      <td>4</td>\n",
              "      <td>1</td>\n",
              "      <td>tm9</td>\n",
              "      <td>1</td>\n",
              "      <td>4</td>\n",
              "      <td>210728_0</td>\n",
              "      <td>0.195883</td>\n",
              "      <td>-1.351235</td>\n",
              "      <td>-0.832430</td>\n",
              "      <td>1.249990</td>\n",
              "      <td>...</td>\n",
              "      <td>0.0</td>\n",
              "      <td>PS</td>\n",
              "      <td>3.232196e-08</td>\n",
              "      <td>1.051521e-12</td>\n",
              "      <td>NS</td>\n",
              "      <td>0.000000e+00</td>\n",
              "      <td>0.0</td>\n",
              "      <td>3.398724e-20</td>\n",
              "      <td>0.000000e+00</td>\n",
              "      <td>1</td>\n",
              "    </tr>\n",
              "    <tr>\n",
              "      <th>...</th>\n",
              "      <td>...</td>\n",
              "      <td>...</td>\n",
              "      <td>...</td>\n",
              "      <td>...</td>\n",
              "      <td>...</td>\n",
              "      <td>...</td>\n",
              "      <td>...</td>\n",
              "      <td>...</td>\n",
              "      <td>...</td>\n",
              "      <td>...</td>\n",
              "      <td>...</td>\n",
              "      <td>...</td>\n",
              "      <td>...</td>\n",
              "      <td>...</td>\n",
              "      <td>...</td>\n",
              "      <td>...</td>\n",
              "      <td>...</td>\n",
              "      <td>...</td>\n",
              "      <td>...</td>\n",
              "      <td>...</td>\n",
              "      <td>...</td>\n",
              "    </tr>\n",
              "    <tr>\n",
              "      <th>3688505</th>\n",
              "      <td>3688505</td>\n",
              "      <td>9</td>\n",
              "      <td>tm1</td>\n",
              "      <td>10</td>\n",
              "      <td>5490</td>\n",
              "      <td>210816_1</td>\n",
              "      <td>0.074290</td>\n",
              "      <td>0.570051</td>\n",
              "      <td>0.754433</td>\n",
              "      <td>0.311900</td>\n",
              "      <td>...</td>\n",
              "      <td>0.0</td>\n",
              "      <td>PS</td>\n",
              "      <td>3.263303e-09</td>\n",
              "      <td>2.459124e-13</td>\n",
              "      <td>PS</td>\n",
              "      <td>0.000000e+00</td>\n",
              "      <td>0.0</td>\n",
              "      <td>0.000000e+00</td>\n",
              "      <td>8.024868e-22</td>\n",
              "      <td>10</td>\n",
              "    </tr>\n",
              "    <tr>\n",
              "      <th>3688506</th>\n",
              "      <td>3688506</td>\n",
              "      <td>9</td>\n",
              "      <td>tm1</td>\n",
              "      <td>10</td>\n",
              "      <td>5491</td>\n",
              "      <td>210816_1</td>\n",
              "      <td>0.086649</td>\n",
              "      <td>0.570051</td>\n",
              "      <td>0.772721</td>\n",
              "      <td>0.007225</td>\n",
              "      <td>...</td>\n",
              "      <td>0.0</td>\n",
              "      <td>PS</td>\n",
              "      <td>3.979294e-09</td>\n",
              "      <td>2.972849e-13</td>\n",
              "      <td>PS</td>\n",
              "      <td>0.000000e+00</td>\n",
              "      <td>0.0</td>\n",
              "      <td>0.000000e+00</td>\n",
              "      <td>1.182984e-21</td>\n",
              "      <td>10</td>\n",
              "    </tr>\n",
              "    <tr>\n",
              "      <th>3688507</th>\n",
              "      <td>3688507</td>\n",
              "      <td>9</td>\n",
              "      <td>tm1</td>\n",
              "      <td>10</td>\n",
              "      <td>5492</td>\n",
              "      <td>210816_1</td>\n",
              "      <td>0.034598</td>\n",
              "      <td>0.570051</td>\n",
              "      <td>0.772721</td>\n",
              "      <td>0.007225</td>\n",
              "      <td>...</td>\n",
              "      <td>0.0</td>\n",
              "      <td>PS</td>\n",
              "      <td>6.265856e-11</td>\n",
              "      <td>2.466365e-17</td>\n",
              "      <td>NS</td>\n",
              "      <td>0.000000e+00</td>\n",
              "      <td>0.0</td>\n",
              "      <td>1.545389e-27</td>\n",
              "      <td>0.000000e+00</td>\n",
              "      <td>10</td>\n",
              "    </tr>\n",
              "    <tr>\n",
              "      <th>3688508</th>\n",
              "      <td>3688508</td>\n",
              "      <td>9</td>\n",
              "      <td>tm1</td>\n",
              "      <td>10</td>\n",
              "      <td>5497</td>\n",
              "      <td>210816_1</td>\n",
              "      <td>0.229270</td>\n",
              "      <td>-1.064034</td>\n",
              "      <td>-1.657355</td>\n",
              "      <td>1.230574</td>\n",
              "      <td>...</td>\n",
              "      <td>0.0</td>\n",
              "      <td>NS</td>\n",
              "      <td>1.621214e-09</td>\n",
              "      <td>2.750217e-14</td>\n",
              "      <td>NS</td>\n",
              "      <td>4.458690e-23</td>\n",
              "      <td>0.0</td>\n",
              "      <td>0.000000e+00</td>\n",
              "      <td>0.000000e+00</td>\n",
              "      <td>10</td>\n",
              "    </tr>\n",
              "    <tr>\n",
              "      <th>3688509</th>\n",
              "      <td>3688509</td>\n",
              "      <td>9</td>\n",
              "      <td>tm1</td>\n",
              "      <td>10</td>\n",
              "      <td>5500</td>\n",
              "      <td>210816_1</td>\n",
              "      <td>0.009124</td>\n",
              "      <td>-1.332469</td>\n",
              "      <td>0.772721</td>\n",
              "      <td>0.007225</td>\n",
              "      <td>...</td>\n",
              "      <td>0.0</td>\n",
              "      <td>NS</td>\n",
              "      <td>1.307972e-10</td>\n",
              "      <td>7.916236e-15</td>\n",
              "      <td>NS</td>\n",
              "      <td>1.035421e-24</td>\n",
              "      <td>0.0</td>\n",
              "      <td>0.000000e+00</td>\n",
              "      <td>0.000000e+00</td>\n",
              "      <td>10</td>\n",
              "    </tr>\n",
              "  </tbody>\n",
              "</table>\n",
              "<p>3688510 rows × 38 columns</p>\n",
              "</div>\n",
              "      <button class=\"colab-df-convert\" onclick=\"convertToInteractive('df-cfb0151e-d3c7-43c3-a346-45abbe700333')\"\n",
              "              title=\"Convert this dataframe to an interactive table.\"\n",
              "              style=\"display:none;\">\n",
              "        \n",
              "  <svg xmlns=\"http://www.w3.org/2000/svg\" height=\"24px\"viewBox=\"0 0 24 24\"\n",
              "       width=\"24px\">\n",
              "    <path d=\"M0 0h24v24H0V0z\" fill=\"none\"/>\n",
              "    <path d=\"M18.56 5.44l.94 2.06.94-2.06 2.06-.94-2.06-.94-.94-2.06-.94 2.06-2.06.94zm-11 1L8.5 8.5l.94-2.06 2.06-.94-2.06-.94L8.5 2.5l-.94 2.06-2.06.94zm10 10l.94 2.06.94-2.06 2.06-.94-2.06-.94-.94-2.06-.94 2.06-2.06.94z\"/><path d=\"M17.41 7.96l-1.37-1.37c-.4-.4-.92-.59-1.43-.59-.52 0-1.04.2-1.43.59L10.3 9.45l-7.72 7.72c-.78.78-.78 2.05 0 2.83L4 21.41c.39.39.9.59 1.41.59.51 0 1.02-.2 1.41-.59l7.78-7.78 2.81-2.81c.8-.78.8-2.07 0-2.86zM5.41 20L4 18.59l7.72-7.72 1.47 1.35L5.41 20z\"/>\n",
              "  </svg>\n",
              "      </button>\n",
              "      \n",
              "  <style>\n",
              "    .colab-df-container {\n",
              "      display:flex;\n",
              "      flex-wrap:wrap;\n",
              "      gap: 12px;\n",
              "    }\n",
              "\n",
              "    .colab-df-convert {\n",
              "      background-color: #E8F0FE;\n",
              "      border: none;\n",
              "      border-radius: 50%;\n",
              "      cursor: pointer;\n",
              "      display: none;\n",
              "      fill: #1967D2;\n",
              "      height: 32px;\n",
              "      padding: 0 0 0 0;\n",
              "      width: 32px;\n",
              "    }\n",
              "\n",
              "    .colab-df-convert:hover {\n",
              "      background-color: #E2EBFA;\n",
              "      box-shadow: 0px 1px 2px rgba(60, 64, 67, 0.3), 0px 1px 3px 1px rgba(60, 64, 67, 0.15);\n",
              "      fill: #174EA6;\n",
              "    }\n",
              "\n",
              "    [theme=dark] .colab-df-convert {\n",
              "      background-color: #3B4455;\n",
              "      fill: #D2E3FC;\n",
              "    }\n",
              "\n",
              "    [theme=dark] .colab-df-convert:hover {\n",
              "      background-color: #434B5C;\n",
              "      box-shadow: 0px 1px 3px 1px rgba(0, 0, 0, 0.15);\n",
              "      filter: drop-shadow(0px 1px 2px rgba(0, 0, 0, 0.3));\n",
              "      fill: #FFFFFF;\n",
              "    }\n",
              "  </style>\n",
              "\n",
              "      <script>\n",
              "        const buttonEl =\n",
              "          document.querySelector('#df-cfb0151e-d3c7-43c3-a346-45abbe700333 button.colab-df-convert');\n",
              "        buttonEl.style.display =\n",
              "          google.colab.kernel.accessAllowed ? 'block' : 'none';\n",
              "\n",
              "        async function convertToInteractive(key) {\n",
              "          const element = document.querySelector('#df-cfb0151e-d3c7-43c3-a346-45abbe700333');\n",
              "          const dataTable =\n",
              "            await google.colab.kernel.invokeFunction('convertToInteractive',\n",
              "                                                     [key], {});\n",
              "          if (!dataTable) return;\n",
              "\n",
              "          const docLinkHtml = 'Like what you see? Visit the ' +\n",
              "            '<a target=\"_blank\" href=https://colab.research.google.com/notebooks/data_table.ipynb>data table notebook</a>'\n",
              "            + ' to learn more about interactive tables.';\n",
              "          element.innerHTML = '';\n",
              "          dataTable['output_type'] = 'display_data';\n",
              "          await google.colab.output.renderOutput(dataTable, element);\n",
              "          const docLink = document.createElement('div');\n",
              "          docLink.innerHTML = docLinkHtml;\n",
              "          element.appendChild(docLink);\n",
              "        }\n",
              "      </script>\n",
              "    </div>\n",
              "  </div>\n",
              "  "
            ]
          },
          "metadata": {},
          "execution_count": 8
        }
      ]
    },
    {
      "cell_type": "code",
      "source": [
        "sv_path = 'drive/MyDrive/DS6011_Capstone_VisualNeuroscience/images/'"
      ],
      "metadata": {
        "id": "sJ3MGyw4Mw6y"
      },
      "execution_count": 9,
      "outputs": []
    },
    {
      "cell_type": "code",
      "source": [
        "! ls drive/MyDrive/DS6011_Capstone_VisualNeuroscience/images/"
      ],
      "metadata": {
        "colab": {
          "base_uri": "https://localhost:8080/"
        },
        "id": "jaDkRAFUPXT5",
        "outputId": "130f1d80-0531-4f18-f548-ff4d09f35b1c"
      },
      "execution_count": 9,
      "outputs": [
        {
          "output_type": "stream",
          "name": "stdout",
          "text": [
            "stim8_feature.png\n"
          ]
        }
      ]
    },
    {
      "cell_type": "code",
      "source": [
        "files = os.listdir(sv_path)\n",
        "col_not = [f.split('-_-')[0] for f in files]\n",
        "col_not"
      ],
      "metadata": {
        "colab": {
          "base_uri": "https://localhost:8080/"
        },
        "id": "isJgx2VhOuNx",
        "outputId": "c8909c3e-28d8-4c68-a4b6-8f5628cc6f60"
      },
      "execution_count": 43,
      "outputs": [
        {
          "output_type": "execute_result",
          "data": {
            "text/plain": [
              "['stim2_feature',\n",
              " 'stim2_feature',\n",
              " 'stim3_feature',\n",
              " 'stim3_feature',\n",
              " 'stim5_feature',\n",
              " 'stim5_feature',\n",
              " 'stim4_feature',\n",
              " 'stim4_feature',\n",
              " 'stim7_feature',\n",
              " 'stim7_feature',\n",
              " 'stim8_feature',\n",
              " 'stim8_feature',\n",
              " 'relation_stim1',\n",
              " 'relation_stim1',\n",
              " 'relation_stim1_+5',\n",
              " 'relation_stim1_+5',\n",
              " 'relation_stim1_NS-NS',\n",
              " 'relation_stim1_NS-NS',\n",
              " 'relation_stim1_NS-PS',\n",
              " 'relation_stim1_NS-PS',\n",
              " 'relation_stim1_PS-NS',\n",
              " 'relation_stim1_PS-NS',\n",
              " 'relation_stim1_PS-PS',\n",
              " 'relation_stim1_PS-PS']"
            ]
          },
          "metadata": {},
          "execution_count": 43
        }
      ]
    },
    {
      "cell_type": "code",
      "source": [
        "columns = df_ext.columns\n",
        "col_not = col_not + ['Unnamed: 0', 'stack', 'label', 'roi', 'frame', 'movie_ID', 'resp',\n",
        "       'stim1', 'stim2', 'stim3', 'stim4', 'stim5', 'stim6', 'stim7', 'stim8','frame_group','relation_type_stim1','relation_type_stim1_+5','relation_type_stim6_+5','relation_type_stim6']\n",
        "columns = [c for c in columns if c not in col_not]\n",
        "columns"
      ],
      "metadata": {
        "colab": {
          "base_uri": "https://localhost:8080/"
        },
        "id": "mpIF_LWnw3dX",
        "outputId": "01d1eb62-d877-46c6-a261-2c89de2653b1"
      },
      "execution_count": 44,
      "outputs": [
        {
          "output_type": "execute_result",
          "data": {
            "text/plain": [
              "['relation_stim6',\n",
              " 'relation_stim6_+5',\n",
              " 'relation_stim6_NS-NS',\n",
              " 'relation_stim6_NS-PS',\n",
              " 'relation_stim6_PS-NS',\n",
              " 'relation_stim6_PS-PS']"
            ]
          },
          "metadata": {},
          "execution_count": 44
        }
      ]
    },
    {
      "cell_type": "code",
      "source": [
        "for s in columns:\n",
        "  # holdout plots\n",
        "  df_HOLD_ext.boxplot(column=s,by='label')\n",
        "  plt.title('Holdout Data: ' + s)\n",
        "  plt.suptitle('')\n",
        "  plt.savefig(sv_path + '{}-_-HOLD.png'.format(s))\n",
        "\n",
        "  # train test plots\n",
        "  df_ext.boxplot(column=s,by='label')\n",
        "  plt.title('Train/Test Data: ' + s)\n",
        "  plt.suptitle('')\n",
        "  plt.savefig(sv_path + '{}-_-TrainTest.png'.format(s))"
      ],
      "metadata": {
        "colab": {
          "base_uri": "https://localhost:8080/",
          "height": 1000
        },
        "id": "tS6PS_e9wwMM",
        "outputId": "ecf880e8-c4e0-47bc-f4b2-c58c7ae02039"
      },
      "execution_count": 45,
      "outputs": [
        {
          "output_type": "stream",
          "name": "stderr",
          "text": [
            "/usr/local/lib/python3.7/dist-packages/matplotlib/cbook/__init__.py:1376: VisibleDeprecationWarning: Creating an ndarray from ragged nested sequences (which is a list-or-tuple of lists-or-tuples-or ndarrays with different lengths or shapes) is deprecated. If you meant to do this, you must specify 'dtype=object' when creating the ndarray.\n",
            "  X = np.atleast_1d(X.T if isinstance(X, np.ndarray) else np.asarray(X))\n",
            "/usr/local/lib/python3.7/dist-packages/matplotlib/cbook/__init__.py:1376: VisibleDeprecationWarning: Creating an ndarray from ragged nested sequences (which is a list-or-tuple of lists-or-tuples-or ndarrays with different lengths or shapes) is deprecated. If you meant to do this, you must specify 'dtype=object' when creating the ndarray.\n",
            "  X = np.atleast_1d(X.T if isinstance(X, np.ndarray) else np.asarray(X))\n",
            "/usr/local/lib/python3.7/dist-packages/matplotlib/cbook/__init__.py:1376: VisibleDeprecationWarning: Creating an ndarray from ragged nested sequences (which is a list-or-tuple of lists-or-tuples-or ndarrays with different lengths or shapes) is deprecated. If you meant to do this, you must specify 'dtype=object' when creating the ndarray.\n",
            "  X = np.atleast_1d(X.T if isinstance(X, np.ndarray) else np.asarray(X))\n",
            "/usr/local/lib/python3.7/dist-packages/matplotlib/cbook/__init__.py:1376: VisibleDeprecationWarning: Creating an ndarray from ragged nested sequences (which is a list-or-tuple of lists-or-tuples-or ndarrays with different lengths or shapes) is deprecated. If you meant to do this, you must specify 'dtype=object' when creating the ndarray.\n",
            "  X = np.atleast_1d(X.T if isinstance(X, np.ndarray) else np.asarray(X))\n",
            "/usr/local/lib/python3.7/dist-packages/matplotlib/cbook/__init__.py:1376: VisibleDeprecationWarning: Creating an ndarray from ragged nested sequences (which is a list-or-tuple of lists-or-tuples-or ndarrays with different lengths or shapes) is deprecated. If you meant to do this, you must specify 'dtype=object' when creating the ndarray.\n",
            "  X = np.atleast_1d(X.T if isinstance(X, np.ndarray) else np.asarray(X))\n",
            "/usr/local/lib/python3.7/dist-packages/matplotlib/cbook/__init__.py:1376: VisibleDeprecationWarning: Creating an ndarray from ragged nested sequences (which is a list-or-tuple of lists-or-tuples-or ndarrays with different lengths or shapes) is deprecated. If you meant to do this, you must specify 'dtype=object' when creating the ndarray.\n",
            "  X = np.atleast_1d(X.T if isinstance(X, np.ndarray) else np.asarray(X))\n",
            "/usr/local/lib/python3.7/dist-packages/matplotlib/cbook/__init__.py:1376: VisibleDeprecationWarning: Creating an ndarray from ragged nested sequences (which is a list-or-tuple of lists-or-tuples-or ndarrays with different lengths or shapes) is deprecated. If you meant to do this, you must specify 'dtype=object' when creating the ndarray.\n",
            "  X = np.atleast_1d(X.T if isinstance(X, np.ndarray) else np.asarray(X))\n",
            "/usr/local/lib/python3.7/dist-packages/matplotlib/cbook/__init__.py:1376: VisibleDeprecationWarning: Creating an ndarray from ragged nested sequences (which is a list-or-tuple of lists-or-tuples-or ndarrays with different lengths or shapes) is deprecated. If you meant to do this, you must specify 'dtype=object' when creating the ndarray.\n",
            "  X = np.atleast_1d(X.T if isinstance(X, np.ndarray) else np.asarray(X))\n",
            "/usr/local/lib/python3.7/dist-packages/matplotlib/cbook/__init__.py:1376: VisibleDeprecationWarning: Creating an ndarray from ragged nested sequences (which is a list-or-tuple of lists-or-tuples-or ndarrays with different lengths or shapes) is deprecated. If you meant to do this, you must specify 'dtype=object' when creating the ndarray.\n",
            "  X = np.atleast_1d(X.T if isinstance(X, np.ndarray) else np.asarray(X))\n",
            "/usr/local/lib/python3.7/dist-packages/matplotlib/cbook/__init__.py:1376: VisibleDeprecationWarning: Creating an ndarray from ragged nested sequences (which is a list-or-tuple of lists-or-tuples-or ndarrays with different lengths or shapes) is deprecated. If you meant to do this, you must specify 'dtype=object' when creating the ndarray.\n",
            "  X = np.atleast_1d(X.T if isinstance(X, np.ndarray) else np.asarray(X))\n",
            "/usr/local/lib/python3.7/dist-packages/matplotlib/cbook/__init__.py:1376: VisibleDeprecationWarning: Creating an ndarray from ragged nested sequences (which is a list-or-tuple of lists-or-tuples-or ndarrays with different lengths or shapes) is deprecated. If you meant to do this, you must specify 'dtype=object' when creating the ndarray.\n",
            "  X = np.atleast_1d(X.T if isinstance(X, np.ndarray) else np.asarray(X))\n",
            "/usr/local/lib/python3.7/dist-packages/matplotlib/cbook/__init__.py:1376: VisibleDeprecationWarning: Creating an ndarray from ragged nested sequences (which is a list-or-tuple of lists-or-tuples-or ndarrays with different lengths or shapes) is deprecated. If you meant to do this, you must specify 'dtype=object' when creating the ndarray.\n",
            "  X = np.atleast_1d(X.T if isinstance(X, np.ndarray) else np.asarray(X))\n"
          ]
        },
        {
          "output_type": "display_data",
          "data": {
            "text/plain": [
              "<Figure size 432x288 with 1 Axes>"
            ],
            "image/png": "[encoded data removed]"
          },
          "metadata": {
            "needs_background": "light"
          }
        },
        {
          "output_type": "display_data",
          "data": {
            "text/plain": [
              "<Figure size 432x288 with 1 Axes>"
            ],
            "image/png": "[encoded data removed]"
          },
          "metadata": {
            "needs_background": "light"
          }
        },
        {
          "output_type": "display_data",
          "data": {
            "text/plain": [
              "<Figure size 432x288 with 1 Axes>"
            ],
            "image/png": "[encoded data removed]"
          },
          "metadata": {
            "needs_background": "light"
          }
        },
        {
          "output_type": "display_data",
          "data": {
            "text/plain": [
              "<Figure size 432x288 with 1 Axes>"
            ],
            "image/png": "[encoded data removed]"
          },
          "metadata": {
            "needs_background": "light"
          }
        },
        {
          "output_type": "display_data",
          "data": {
            "text/plain": [
              "<Figure size 432x288 with 1 Axes>"
            ],
            "image/png": "[encoded data removed]"
          },
          "metadata": {
            "needs_background": "light"
          }
        },
        {
          "output_type": "display_data",
          "data": {
            "text/plain": [
              "<Figure size 432x288 with 1 Axes>"
            ],
            "image/png": "[encoded data removed]"
          },
          "metadata": {
            "needs_background": "light"
          }
        },
        {
          "output_type": "display_data",
          "data": {
            "text/plain": [
              "<Figure size 432x288 with 1 Axes>"
            ],
            "image/png": "[encoded data removed]"
          },
          "metadata": {
            "needs_background": "light"
          }
        },
        {
          "output_type": "display_data",
          "data": {
            "text/plain": [
              "<Figure size 432x288 with 1 Axes>"
            ],
            "image/png": "[encoded data removed]"
          },
          "metadata": {
            "needs_background": "light"
          }
        },
        {
          "output_type": "display_data",
          "data": {
            "text/plain": [
              "<Figure size 432x288 with 1 Axes>"
            ],
            "image/png": "[encoded data removed]"
          },
          "metadata": {
            "needs_background": "light"
          }
        },
        {
          "output_type": "display_data",
          "data": {
            "text/plain": [
              "<Figure size 432x288 with 1 Axes>"
            ],
            "image/png": "[encoded data removed]"
          },
          "metadata": {
            "needs_background": "light"
          }
        },
        {
          "output_type": "display_data",
          "data": {
            "text/plain": [
              "<Figure size 432x288 with 1 Axes>"
            ],
            "image/png": "[encoded data removed]"
          },
          "metadata": {
            "needs_background": "light"
          }
        },
        {
          "output_type": "display_data",
          "data": {
            "text/plain": [
              "<Figure size 432x288 with 1 Axes>"
            ],
            "image/png": "[encoded data removed]"
          },
          "metadata": {
            "needs_background": "light"
          }
        }
      ]
    },
    {
      "cell_type": "code",
      "source": [
        "  df_ext.boxplot(column='relation_stim6_PS-PS',by='label')\n",
        "  plt.title('Positive Local Contrast and Positive Response')\n",
        "\n",
        "  plt.suptitle('')\n",
        "  plt.xlabel('Cell Type')\n",
        "  # plt.figure(figsize=4,5)\n",
        "  plt.savefig(sv_path + 'stim6-psps.png', bbox_inches = 'tight',pad_inchesfloat='1')\n",
        "  "
      ],
      "metadata": {
        "colab": {
          "base_uri": "https://localhost:8080/",
          "height": 349
        },
        "id": "kKlZAxtWx9Mu",
        "outputId": "19e84263-3c13-4ca3-f44d-c84ed656a5e0"
      },
      "execution_count": 18,
      "outputs": [
        {
          "output_type": "stream",
          "name": "stderr",
          "text": [
            "/usr/local/lib/python3.7/dist-packages/matplotlib/cbook/__init__.py:1376: VisibleDeprecationWarning: Creating an ndarray from ragged nested sequences (which is a list-or-tuple of lists-or-tuples-or ndarrays with different lengths or shapes) is deprecated. If you meant to do this, you must specify 'dtype=object' when creating the ndarray.\n",
            "  X = np.atleast_1d(X.T if isinstance(X, np.ndarray) else np.asarray(X))\n"
          ]
        },
        {
          "output_type": "display_data",
          "data": {
            "text/plain": [
              "<Figure size 432x288 with 1 Axes>"
            ],
            "image/png": "[encoded data removed]"
          },
          "metadata": {
            "needs_background": "light"
          }
        }
      ]
    },
    {
      "cell_type": "code",
      "source": [
        "df_HOLD_ext.columns"
      ],
      "metadata": {
        "colab": {
          "base_uri": "https://localhost:8080/"
        },
        "id": "jWFIgTs6Rlzb",
        "outputId": "6a9bc5b7-437c-432b-dc08-7cc080f5e6d5"
      },
      "execution_count": 13,
      "outputs": [
        {
          "output_type": "execute_result",
          "data": {
            "text/plain": [
              "Index(['Unnamed: 0', 'stack', 'label', 'roi', 'frame', 'movie_ID', 'resp',\n",
              "       'stim1', 'stim2', 'stim3', 'stim4', 'stim5', 'stim6', 'stim7', 'stim8',\n",
              "       'stim2_feature', 'stim3_feature', 'stim5_feature', 'stim4_feature',\n",
              "       'stim7_feature', 'stim8_feature', 'relation_type_stim1',\n",
              "       'relation_stim1', 'relation_stim1_+5', 'relation_type_stim1_+5',\n",
              "       'relation_stim1_NS-NS', 'relation_stim1_NS-PS', 'relation_stim1_PS-NS',\n",
              "       'relation_stim1_PS-PS', 'relation_type_stim6', 'relation_stim6',\n",
              "       'relation_stim6_+5', 'relation_type_stim6_+5', 'relation_stim6_NS-NS',\n",
              "       'relation_stim6_NS-PS', 'relation_stim6_PS-NS', 'relation_stim6_PS-PS',\n",
              "       'frame_group'],\n",
              "      dtype='object')"
            ]
          },
          "metadata": {},
          "execution_count": 13
        }
      ]
    },
    {
      "cell_type": "code",
      "source": [
        "df_ext[columns].dtypes"
      ],
      "metadata": {
        "colab": {
          "base_uri": "https://localhost:8080/"
        },
        "id": "HYPR7Becc9eq",
        "outputId": "5e95bcc3-4b2b-4f6d-a742-c167d6245cdf"
      },
      "execution_count": 42,
      "outputs": [
        {
          "output_type": "execute_result",
          "data": {
            "text/plain": [
              "relation_stim1          float64\n",
              "relation_stim1_+5       float64\n",
              "relation_stim1_NS-NS    float64\n",
              "relation_stim1_NS-PS    float64\n",
              "relation_stim1_PS-NS    float64\n",
              "relation_stim1_PS-PS    float64\n",
              "relation_type_stim6      object\n",
              "relation_stim6          float64\n",
              "relation_stim6_+5       float64\n",
              "relation_stim6_NS-NS    float64\n",
              "relation_stim6_NS-PS    float64\n",
              "relation_stim6_PS-NS    float64\n",
              "relation_stim6_PS-PS    float64\n",
              "dtype: object"
            ]
          },
          "metadata": {},
          "execution_count": 42
        }
      ]
    },
    {
      "cell_type": "code",
      "source": [
        ""
      ],
      "metadata": {
        "id": "N3jQEplJfKhB"
      },
      "execution_count": null,
      "outputs": []
    }
  ]
}