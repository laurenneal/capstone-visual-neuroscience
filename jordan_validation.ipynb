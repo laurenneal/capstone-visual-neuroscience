{
  "nbformat": 4,
  "nbformat_minor": 0,
  "metadata": {
    "colab": {
      "name": "jordan validation.ipynb",
      "provenance": [],
      "collapsed_sections": [],
      "include_colab_link": true
    },
    "kernelspec": {
      "name": "python3",
      "display_name": "Python 3"
    },
    "language_info": {
      "name": "python"
    }
  },
  "cells": [
    {
      "cell_type": "markdown",
      "metadata": {
        "id": "view-in-github",
        "colab_type": "text"
      },
      "source": [
        "<a href=\"https://colab.research.google.com/github/laurenneal/capstone-visual-neuroscience/blob/Jordan/jordan_validation.ipynb\" target=\"_parent\"><img src=\"https://colab.research.google.com/assets/colab-badge.svg\" alt=\"Open In Colab\"/></a>"
      ]
    },
    {
      "cell_type": "markdown",
      "metadata": {
        "id": "43ADamXOI9uB"
      },
      "source": [
        "The demo_pipeline file we've been working with uses some of the more advanced features of caiman which I think are throwing me off. \n",
        "\n",
        "This notebook is intended to implement a more stripped down version of the caiman pipeline with the goal of understanding the functions better and potentially being a platform to write our wrapper around for the parameter gridsearch"
      ]
    },
    {
      "cell_type": "code",
      "metadata": {
        "colab": {
          "base_uri": "https://localhost:8080/"
        },
        "id": "BbIj2QeEAbTE",
        "outputId": "92a97723-840a-49b1-f2b4-a7ec82df1277"
      },
      "source": [
        "from google.colab import drive\n",
        "drive.mount('/content/drive')"
      ],
      "execution_count": 6,
      "outputs": [
        {
          "output_type": "stream",
          "name": "stdout",
          "text": [
            "Mounted at /content/drive\n"
          ]
        }
      ]
    },
    {
      "cell_type": "code",
      "metadata": {
        "colab": {
          "base_uri": "https://localhost:8080/"
        },
        "id": "VrE1xeswQNHM",
        "outputId": "2da91cb1-bb19-476f-efcb-0bccaf18b067"
      },
      "source": [
        "# Install CaImAn - takes around 2 minutes\n",
        "!git clone https://github.com/flatironinstitute/CaImAn.git\n",
        "%cd '/content/CaImAn/'\n",
        "!pip install .\n",
        "\n",
        "# Install caiman dependencies (&> /dev/null will suppress the hundreds of printed lines in the output)\n",
        "!pip install -r requirements.txt &> /dev/null\n",
        "\n",
        "#import other dependencies\n",
        "import cv2\n",
        "import glob\n",
        "import numpy as np\n",
        "import os\n",
        "import matplotlib.pyplot as plt\n",
        "\n",
        "#IMPORTANT! Newer versions of h5py will cause errors when saving results\n",
        "!pip install h5py==2.10.0\n",
        "import h5py\n",
        "\n",
        "#Set up caiman\n",
        "!python setup.py build_ext -i\n",
        "\n",
        "#Other file setup\n",
        "!python caimanmanager.py install --inplace\n",
        "\n",
        "#Caiman imports\n",
        "import caiman as cm\n",
        "from caiman.paths import caiman_datadir\n",
        "from caiman.source_extraction.cnmf import cnmf as cnmf\n",
        "from caiman.source_extraction.cnmf import params as params\n",
        "from caiman.summary_images import local_correlations_movie_offline\n"
      ],
      "execution_count": 7,
      "outputs": [
        {
          "output_type": "stream",
          "name": "stdout",
          "text": [
            "Cloning into 'CaImAn'...\n",
            "remote: Enumerating objects: 24903, done.\u001b[K\n",
            "remote: Counting objects: 100% (838/838), done.\u001b[K\n",
            "remote: Compressing objects: 100% (410/410), done.\u001b[K\n",
            "remote: Total 24903 (delta 470), reused 733 (delta 412), pack-reused 24065\u001b[K\n",
            "Receiving objects: 100% (24903/24903), 518.50 MiB | 28.35 MiB/s, done.\n",
            "Resolving deltas: 100% (16683/16683), done.\n",
            "Checking out files: 100% (317/317), done.\n",
            "/content/CaImAn\n",
            "Processing /content/CaImAn\n",
            "\u001b[33m  DEPRECATION: A future pip version will change local packages to be built in-place without first copying to a temporary directory. We recommend you use --use-feature=in-tree-build to test your packages with this new behavior before it becomes the default.\n",
            "   pip 21.3 will remove support for this functionality. You can find discussion regarding this at https://github.com/pypa/pip/issues/7555.\u001b[0m\n",
            "Building wheels for collected packages: caiman\n",
            "  Building wheel for caiman (setup.py) ... \u001b[?25l\u001b[?25hdone\n",
            "  Created wheel for caiman: filename=caiman-1.9.6-cp37-cp37m-linux_x86_64.whl size=123929521 sha256=9e2c7af9eb3e1a4e516467cb396917e14bea156eb9c7c3822ce7dd0377eace2d\n",
            "  Stored in directory: /tmp/pip-ephem-wheel-cache-ksj3zj8w/wheels/e5/b7/da/71e6f0cc489fdd53e7fe366d0ddf8f5a04eecb9003dbcb835d\n",
            "Successfully built caiman\n",
            "Installing collected packages: caiman\n",
            "Successfully installed caiman-1.9.6\n",
            "Collecting h5py==2.10.0\n",
            "  Downloading h5py-2.10.0-cp37-cp37m-manylinux1_x86_64.whl (2.9 MB)\n",
            "\u001b[K     |████████████████████████████████| 2.9 MB 5.2 MB/s \n",
            "\u001b[?25hRequirement already satisfied: numpy>=1.7 in /usr/local/lib/python3.7/dist-packages (from h5py==2.10.0) (1.19.5)\n",
            "Requirement already satisfied: six in /usr/local/lib/python3.7/dist-packages (from h5py==2.10.0) (1.15.0)\n",
            "Installing collected packages: h5py\n",
            "  Attempting uninstall: h5py\n",
            "    Found existing installation: h5py 3.1.0\n",
            "    Uninstalling h5py-3.1.0:\n",
            "      Successfully uninstalled h5py-3.1.0\n",
            "Successfully installed h5py-2.10.0\n",
            "Compiling caiman/source_extraction/cnmf/oasis.pyx because it changed.\n",
            "[1/1] Cythonizing caiman/source_extraction/cnmf/oasis.pyx\n",
            "/usr/local/lib/python3.7/dist-packages/Cython/Compiler/Main.py:369: FutureWarning: Cython directive 'language_level' not set, using 2 for now (Py2). This will change in a later release! File: /content/CaImAn/caiman/source_extraction/cnmf/oasis.pyx\n",
            "  tree = Parsing.p_module(s, pxd, full_module_name)\n",
            "running build_ext\n",
            "building 'caiman.source_extraction.cnmf.oasis' extension\n",
            "creating build\n",
            "creating build/temp.linux-x86_64-3.7\n",
            "creating build/temp.linux-x86_64-3.7/caiman\n",
            "creating build/temp.linux-x86_64-3.7/caiman/source_extraction\n",
            "creating build/temp.linux-x86_64-3.7/caiman/source_extraction/cnmf\n",
            "x86_64-linux-gnu-gcc -pthread -Wno-unused-result -Wsign-compare -DNDEBUG -g -fwrapv -O2 -Wall -g -fdebug-prefix-map=/build/python3.7-Y7dWVB/python3.7-3.7.12=. -fstack-protector-strong -Wformat -Werror=format-security -g -fdebug-prefix-map=/build/python3.7-Y7dWVB/python3.7-3.7.12=. -fstack-protector-strong -Wformat -Werror=format-security -Wdate-time -D_FORTIFY_SOURCE=2 -fPIC -I/usr/local/lib/python3.7/dist-packages/numpy/core/include -I/usr/include/python3.7m -c caiman/source_extraction/cnmf/oasis.cpp -o build/temp.linux-x86_64-3.7/caiman/source_extraction/cnmf/oasis.o\n",
            "In file included from \u001b[01m\u001b[K/usr/local/lib/python3.7/dist-packages/numpy/core/include/numpy/ndarraytypes.h:1822:0\u001b[m\u001b[K,\n",
            "                 from \u001b[01m\u001b[K/usr/local/lib/python3.7/dist-packages/numpy/core/include/numpy/ndarrayobject.h:12\u001b[m\u001b[K,\n",
            "                 from \u001b[01m\u001b[K/usr/local/lib/python3.7/dist-packages/numpy/core/include/numpy/arrayobject.h:4\u001b[m\u001b[K,\n",
            "                 from \u001b[01m\u001b[Kcaiman/source_extraction/cnmf/oasis.cpp:654\u001b[m\u001b[K:\n",
            "\u001b[01m\u001b[K/usr/local/lib/python3.7/dist-packages/numpy/core/include/numpy/npy_1_7_deprecated_api.h:17:2:\u001b[m\u001b[K \u001b[01;35m\u001b[Kwarning: \u001b[m\u001b[K#warning \"Using deprecated NumPy API, disable it with \" \"#define NPY_NO_DEPRECATED_API NPY_1_7_API_VERSION\" [\u001b[01;35m\u001b[K-Wcpp\u001b[m\u001b[K]\n",
            " #\u001b[01;35m\u001b[Kwarning\u001b[m\u001b[K \"Using deprecated NumPy API, disable it with \" \\\n",
            "  \u001b[01;35m\u001b[K^~~~~~~\u001b[m\u001b[K\n",
            "\u001b[01m\u001b[Kcaiman/source_extraction/cnmf/oasis.cpp:\u001b[m\u001b[K In function ‘\u001b[01m\u001b[KPyObject* __pyx_pf_6caiman_17source_extraction_4cnmf_5oasis_5OASIS_4fit_next_tmp(__pyx_obj_6caiman_17source_extraction_4cnmf_5oasis_OASIS*, PyObject*, PyObject*)\u001b[m\u001b[K’:\n",
            "\u001b[01m\u001b[Kcaiman/source_extraction/cnmf/oasis.cpp:4994:47:\u001b[m\u001b[K \u001b[01;35m\u001b[Kwarning: \u001b[m\u001b[Kcomparison between signed and unsigned integer expressions [\u001b[01;35m\u001b[K-Wsign-compare\u001b[m\u001b[K]\n",
            "         if (((\u001b[01;35m\u001b[K(__pyx_v_newpool.t + __pyx_v_k) < __pyx_v_self->_y.size()\u001b[m\u001b[K) != 0)) {\n",
            "               \u001b[01;35m\u001b[K~~~~~~~~~~~~~~~~~~~~~~~~~~~~~~~~^~~~~~~~~~~~~~~~~~~~~~~~~\u001b[m\u001b[K\n",
            "\u001b[01m\u001b[Kcaiman/source_extraction/cnmf/oasis.cpp:\u001b[m\u001b[K In function ‘\u001b[01m\u001b[KPyObject* __pyx_pf_6caiman_17source_extraction_4cnmf_5oasis_20constrained_oasisAR1_2oasis(PyObject*, std::vector<__pyx_t_6caiman_17source_extraction_4cnmf_5oasis_Pool>, __pyx_t_6caiman_17source_extraction_4cnmf_5oasis_SINGLE, PyArrayObject*)\u001b[m\u001b[K’:\n",
            "\u001b[01m\u001b[Kcaiman/source_extraction/cnmf/oasis.cpp:10810:29:\u001b[m\u001b[K \u001b[01;35m\u001b[Kwarning: \u001b[m\u001b[Kcomparison between signed and unsigned integer expressions [\u001b[01;35m\u001b[K-Wsign-compare\u001b[m\u001b[K]\n",
            "     __pyx_t_1 = ((\u001b[01;35m\u001b[K__pyx_v_i < (__pyx_v_P.size() - 1)\u001b[m\u001b[K) != 0);\n",
            "                   \u001b[01;35m\u001b[K~~~~~~~~~~^~~~~~~~~~~~~~~~~~~~~~~~\u001b[m\u001b[K\n",
            "\u001b[01m\u001b[Kcaiman/source_extraction/cnmf/oasis.cpp:\u001b[m\u001b[K In function ‘\u001b[01m\u001b[KPyObject* __pyx_pf_6caiman_17source_extraction_4cnmf_5oasis_20constrained_oasisAR1_8bar(PyObject*, PyObject*, PyObject*, PyObject*, PyObject*)\u001b[m\u001b[K’:\n",
            "\u001b[01m\u001b[Kcaiman/source_extraction/cnmf/oasis.cpp:12856:43:\u001b[m\u001b[K \u001b[01;35m\u001b[Kwarning: \u001b[m\u001b[Kcomparison between signed and unsigned integer expressions [\u001b[01;35m\u001b[K-Wsign-compare\u001b[m\u001b[K]\n",
            "   if (((\u001b[01;35m\u001b[K__pyx_cur_scope->__pyx_v_P.size() < __pyx_cur_scope->__pyx_v_optimize_g\u001b[m\u001b[K) != 0)) {\n",
            "         \u001b[01;35m\u001b[K~~~~~~~~~~~~~~~~~~~~~~~~~~~~~~~~~~^~~~~~~~~~~~~~~~~~~~~~~~~~~~~~~~~~~~~\u001b[m\u001b[K\n",
            "\u001b[01m\u001b[Kcaiman/source_extraction/cnmf/oasis.cpp:\u001b[m\u001b[K In function ‘\u001b[01m\u001b[KPyObject* __pyx_pf_6caiman_17source_extraction_4cnmf_5oasis_2constrained_oasisAR1(PyObject*, PyArrayObject*, __pyx_t_6caiman_17source_extraction_4cnmf_5oasis_SINGLE, __pyx_t_6caiman_17source_extraction_4cnmf_5oasis_SINGLE, PyLongObject*, PyLongObject*, int, int, int, int, __pyx_t_6caiman_17source_extraction_4cnmf_5oasis_SINGLE)\u001b[m\u001b[K’:\n",
            "\u001b[01m\u001b[Kcaiman/source_extraction/cnmf/oasis.cpp:14079:37:\u001b[m\u001b[K \u001b[01;35m\u001b[Kwarning: \u001b[m\u001b[Kcomparison between signed and unsigned integer expressions [\u001b[01;35m\u001b[K-Wsign-compare\u001b[m\u001b[K]\n",
            "       for (__pyx_t_1 = 0; \u001b[01;35m\u001b[K__pyx_t_1 < __pyx_t_20\u001b[m\u001b[K; __pyx_t_1+=1) {\n",
            "                           \u001b[01;35m\u001b[K~~~~~~~~~~^~~~~~~~~~~~\u001b[m\u001b[K\n",
            "\u001b[01m\u001b[Kcaiman/source_extraction/cnmf/oasis.cpp:14089:34:\u001b[m\u001b[K \u001b[01;35m\u001b[Kwarning: \u001b[m\u001b[Kcomparison between signed and unsigned integer expressions [\u001b[01;35m\u001b[K-Wsign-compare\u001b[m\u001b[K]\n",
            "         __pyx_t_15 = ((\u001b[01;35m\u001b[K__pyx_v_i == (__pyx_cur_scope->__pyx_v_P.size() - 1)\u001b[m\u001b[K) != 0);\n",
            "                        \u001b[01;35m\u001b[K~~~~~~~~~~^~~~~~~~~~~~~~~~~~~~~~~~~~~~~~~~~~~~~~~~~~\u001b[m\u001b[K\n",
            "\u001b[01m\u001b[Kcaiman/source_extraction/cnmf/oasis.cpp:14298:37:\u001b[m\u001b[K \u001b[01;35m\u001b[Kwarning: \u001b[m\u001b[Kcomparison between signed and unsigned integer expressions [\u001b[01;35m\u001b[K-Wsign-compare\u001b[m\u001b[K]\n",
            "       for (__pyx_t_1 = 0; \u001b[01;35m\u001b[K__pyx_t_1 < __pyx_t_20\u001b[m\u001b[K; __pyx_t_1+=1) {\n",
            "                           \u001b[01;35m\u001b[K~~~~~~~~~~^~~~~~~~~~~~\u001b[m\u001b[K\n",
            "\u001b[01m\u001b[Kcaiman/source_extraction/cnmf/oasis.cpp:14416:35:\u001b[m\u001b[K \u001b[01;35m\u001b[Kwarning: \u001b[m\u001b[Kcomparison between signed and unsigned integer expressions [\u001b[01;35m\u001b[K-Wsign-compare\u001b[m\u001b[K]\n",
            "       __pyx_t_2 = ((\u001b[01;35m\u001b[K__pyx_v_count < (__pyx_v_max_iter - 1)\u001b[m\u001b[K) != 0);\n",
            "                     \u001b[01;35m\u001b[K~~~~~~~~~~~~~~^~~~~~~~~~~~~~~~~~~~~~~~\u001b[m\u001b[K\n",
            "\u001b[01m\u001b[Kcaiman/source_extraction/cnmf/oasis.cpp:14439:39:\u001b[m\u001b[K \u001b[01;35m\u001b[Kwarning: \u001b[m\u001b[Kcomparison between signed and unsigned integer expressions [\u001b[01;35m\u001b[K-Wsign-compare\u001b[m\u001b[K]\n",
            "         for (__pyx_t_1 = 0; \u001b[01;35m\u001b[K__pyx_t_1 < __pyx_t_20\u001b[m\u001b[K; __pyx_t_1+=1) {\n",
            "                             \u001b[01;35m\u001b[K~~~~~~~~~~^~~~~~~~~~~~\u001b[m\u001b[K\n",
            "\u001b[01m\u001b[Kcaiman/source_extraction/cnmf/oasis.cpp:14469:39:\u001b[m\u001b[K \u001b[01;35m\u001b[Kwarning: \u001b[m\u001b[Kcomparison between signed and unsigned integer expressions [\u001b[01;35m\u001b[K-Wsign-compare\u001b[m\u001b[K]\n",
            "         for (__pyx_t_1 = 0; \u001b[01;35m\u001b[K__pyx_t_1 < __pyx_t_20\u001b[m\u001b[K; __pyx_t_1+=1) {\n",
            "                             \u001b[01;35m\u001b[K~~~~~~~~~~^~~~~~~~~~~~\u001b[m\u001b[K\n",
            "\u001b[01m\u001b[Kcaiman/source_extraction/cnmf/oasis.cpp:14802:39:\u001b[m\u001b[K \u001b[01;35m\u001b[Kwarning: \u001b[m\u001b[Kcomparison between signed and unsigned integer expressions [\u001b[01;35m\u001b[K-Wsign-compare\u001b[m\u001b[K]\n",
            "         for (__pyx_t_1 = 0; \u001b[01;35m\u001b[K__pyx_t_1 < __pyx_t_20\u001b[m\u001b[K; __pyx_t_1+=1) {\n",
            "                             \u001b[01;35m\u001b[K~~~~~~~~~~^~~~~~~~~~~~\u001b[m\u001b[K\n",
            "\u001b[01m\u001b[Kcaiman/source_extraction/cnmf/oasis.cpp:15529:36:\u001b[m\u001b[K \u001b[01;35m\u001b[Kwarning: \u001b[m\u001b[Kcomparison between signed and unsigned integer expressions [\u001b[01;35m\u001b[K-Wsign-compare\u001b[m\u001b[K]\n",
            "       __pyx_t_25 = ((\u001b[01;35m\u001b[K__pyx_v_count < __pyx_v_max_iter\u001b[m\u001b[K) != 0);\n",
            "                      \u001b[01;35m\u001b[K~~~~~~~~~~~~~~^~~~~~~~~~~~~~~~~~\u001b[m\u001b[K\n",
            "\u001b[01m\u001b[Kcaiman/source_extraction/cnmf/oasis.cpp:15552:37:\u001b[m\u001b[K \u001b[01;35m\u001b[Kwarning: \u001b[m\u001b[Kcomparison between signed and unsigned integer expressions [\u001b[01;35m\u001b[K-Wsign-compare\u001b[m\u001b[K]\n",
            "       for (__pyx_t_1 = 0; \u001b[01;35m\u001b[K__pyx_t_1 < __pyx_t_20\u001b[m\u001b[K; __pyx_t_1+=1) {\n",
            "                           \u001b[01;35m\u001b[K~~~~~~~~~~^~~~~~~~~~~~\u001b[m\u001b[K\n",
            "\u001b[01m\u001b[Kcaiman/source_extraction/cnmf/oasis.cpp:15562:34:\u001b[m\u001b[K \u001b[01;35m\u001b[Kwarning: \u001b[m\u001b[Kcomparison between signed and unsigned integer expressions [\u001b[01;35m\u001b[K-Wsign-compare\u001b[m\u001b[K]\n",
            "         __pyx_t_15 = ((\u001b[01;35m\u001b[K__pyx_v_i == (__pyx_cur_scope->__pyx_v_P.size() - 1)\u001b[m\u001b[K) != 0);\n",
            "                        \u001b[01;35m\u001b[K~~~~~~~~~~^~~~~~~~~~~~~~~~~~~~~~~~~~~~~~~~~~~~~~~~~~\u001b[m\u001b[K\n",
            "\u001b[01m\u001b[Kcaiman/source_extraction/cnmf/oasis.cpp:15705:37:\u001b[m\u001b[K \u001b[01;35m\u001b[Kwarning: \u001b[m\u001b[Kcomparison between signed and unsigned integer expressions [\u001b[01;35m\u001b[K-Wsign-compare\u001b[m\u001b[K]\n",
            "       for (__pyx_t_1 = 0; \u001b[01;35m\u001b[K__pyx_t_1 < __pyx_t_20\u001b[m\u001b[K; __pyx_t_1+=1) {\n",
            "                           \u001b[01;35m\u001b[K~~~~~~~~~~^~~~~~~~~~~~\u001b[m\u001b[K\n",
            "\u001b[01m\u001b[Kcaiman/source_extraction/cnmf/oasis.cpp:15918:37:\u001b[m\u001b[K \u001b[01;35m\u001b[Kwarning: \u001b[m\u001b[Kcomparison between signed and unsigned integer expressions [\u001b[01;35m\u001b[K-Wsign-compare\u001b[m\u001b[K]\n",
            "       for (__pyx_t_1 = 0; \u001b[01;35m\u001b[K__pyx_t_1 < __pyx_t_20\u001b[m\u001b[K; __pyx_t_1+=1) {\n",
            "                           \u001b[01;35m\u001b[K~~~~~~~~~~^~~~~~~~~~~~\u001b[m\u001b[K\n",
            "\u001b[01m\u001b[Kcaiman/source_extraction/cnmf/oasis.cpp:16155:36:\u001b[m\u001b[K \u001b[01;35m\u001b[Kwarning: \u001b[m\u001b[Kcomparison between signed and unsigned integer expressions [\u001b[01;35m\u001b[K-Wsign-compare\u001b[m\u001b[K]\n",
            "       __pyx_t_25 = ((\u001b[01;35m\u001b[K__pyx_v_count < (__pyx_v_max_iter - 1)\u001b[m\u001b[K) != 0);\n",
            "                      \u001b[01;35m\u001b[K~~~~~~~~~~~~~~^~~~~~~~~~~~~~~~~~~~~~~~\u001b[m\u001b[K\n",
            "\u001b[01m\u001b[Kcaiman/source_extraction/cnmf/oasis.cpp:16178:39:\u001b[m\u001b[K \u001b[01;35m\u001b[Kwarning: \u001b[m\u001b[Kcomparison between signed and unsigned integer expressions [\u001b[01;35m\u001b[K-Wsign-compare\u001b[m\u001b[K]\n",
            "         for (__pyx_t_1 = 0; \u001b[01;35m\u001b[K__pyx_t_1 < __pyx_t_20\u001b[m\u001b[K; __pyx_t_1+=1) {\n",
            "                             \u001b[01;35m\u001b[K~~~~~~~~~~^~~~~~~~~~~~\u001b[m\u001b[K\n",
            "\u001b[01m\u001b[Kcaiman/source_extraction/cnmf/oasis.cpp:16208:39:\u001b[m\u001b[K \u001b[01;35m\u001b[Kwarning: \u001b[m\u001b[Kcomparison between signed and unsigned integer expressions [\u001b[01;35m\u001b[K-Wsign-compare\u001b[m\u001b[K]\n",
            "         for (__pyx_t_1 = 0; \u001b[01;35m\u001b[K__pyx_t_1 < __pyx_t_20\u001b[m\u001b[K; __pyx_t_1+=1) {\n",
            "                             \u001b[01;35m\u001b[K~~~~~~~~~~^~~~~~~~~~~~\u001b[m\u001b[K\n",
            "\u001b[01m\u001b[Kcaiman/source_extraction/cnmf/oasis.cpp:16606:39:\u001b[m\u001b[K \u001b[01;35m\u001b[Kwarning: \u001b[m\u001b[Kcomparison between signed and unsigned integer expressions [\u001b[01;35m\u001b[K-Wsign-compare\u001b[m\u001b[K]\n",
            "         for (__pyx_t_1 = 0; \u001b[01;35m\u001b[K__pyx_t_1 < __pyx_t_20\u001b[m\u001b[K; __pyx_t_1+=1) {\n",
            "                             \u001b[01;35m\u001b[K~~~~~~~~~~^~~~~~~~~~~~\u001b[m\u001b[K\n",
            "\u001b[01m\u001b[Kcaiman/source_extraction/cnmf/oasis.cpp:17123:35:\u001b[m\u001b[K \u001b[01;35m\u001b[Kwarning: \u001b[m\u001b[Kcomparison between signed and unsigned integer expressions [\u001b[01;35m\u001b[K-Wsign-compare\u001b[m\u001b[K]\n",
            "     for (__pyx_t_1 = 0; \u001b[01;35m\u001b[K__pyx_t_1 < __pyx_t_20\u001b[m\u001b[K; __pyx_t_1+=1) {\n",
            "                         \u001b[01;35m\u001b[K~~~~~~~~~~^~~~~~~~~~~~\u001b[m\u001b[K\n",
            "\u001b[01m\u001b[Kcaiman/source_extraction/cnmf/oasis.cpp:17940:37:\u001b[m\u001b[K \u001b[01;35m\u001b[Kwarning: \u001b[m\u001b[Kcomparison between signed and unsigned integer expressions [\u001b[01;35m\u001b[K-Wsign-compare\u001b[m\u001b[K]\n",
            "       for (__pyx_t_1 = 0; \u001b[01;35m\u001b[K__pyx_t_1 < __pyx_t_20\u001b[m\u001b[K; __pyx_t_1+=1) {\n",
            "                           \u001b[01;35m\u001b[K~~~~~~~~~~^~~~~~~~~~~~\u001b[m\u001b[K\n",
            "x86_64-linux-gnu-g++ -pthread -shared -Wl,-O1 -Wl,-Bsymbolic-functions -Wl,-Bsymbolic-functions -Wl,-z,relro -Wl,-Bsymbolic-functions -Wl,-z,relro -g -fdebug-prefix-map=/build/python3.7-Y7dWVB/python3.7-3.7.12=. -fstack-protector-strong -Wformat -Werror=format-security -Wdate-time -D_FORTIFY_SOURCE=2 build/temp.linux-x86_64-3.7/caiman/source_extraction/cnmf/oasis.o -o /content/CaImAn/caiman/source_extraction/cnmf/oasis.cpython-37m-x86_64-linux-gnu.so\n",
            "Installed /root/caiman_data\n"
          ]
        }
      ]
    },
    {
      "cell_type": "code",
      "metadata": {
        "id": "BJtcnIiCBWQb"
      },
      "source": [
        "#Using h5py to open and explore a test raw stack\n",
        "#paths into google drive to a random pre-motion correction movie\n",
        "stackRaw = h5py.File('../drive/MyDrive/DS6011_Capstone_VisualNeuroscience/DATA/stackRaw/210815_0/210815_0_1_stackRaw_pmc_mix1_syt_.mat', 'r+')\n"
      ],
      "execution_count": 8,
      "outputs": []
    },
    {
      "cell_type": "code",
      "metadata": {
        "id": "AFylueZ4Nb8l"
      },
      "source": [
        "#save movie array as a variable to check a few frames\n",
        "mov = np.array(stackRaw['stackRaw_pmc'])"
      ],
      "execution_count": 9,
      "outputs": []
    },
    {
      "cell_type": "code",
      "metadata": {
        "colab": {
          "base_uri": "https://localhost:8080/",
          "height": 236
        },
        "id": "2mVK735SmQYu",
        "outputId": "d576ca85-e421-45b5-d806-ef14d1f579fa"
      },
      "source": [
        "#numpy function to flip the x and y for whole movie array\n",
        "flip = np.transpose(mov, axes = (0,2,1))\n",
        "#show the 500th frame\n",
        "plt.imshow(flip[500])"
      ],
      "execution_count": 10,
      "outputs": [
        {
          "output_type": "execute_result",
          "data": {
            "text/plain": [
              "<matplotlib.image.AxesImage at 0x7f3386b6e490>"
            ]
          },
          "metadata": {},
          "execution_count": 10
        },
        {
          "output_type": "display_data",
          "data": {
            "image/png": "[encoded data removed]",
            "text/plain": [
              "<Figure size 432x288 with 1 Axes>"
            ]
          },
          "metadata": {
            "needs_background": "light"
          }
        }
      ]
    },
    {
      "cell_type": "code",
      "metadata": {
        "id": "Fj9MBxjPh6lp"
      },
      "source": [
        "#save the first 500 frames back to an h5 file to test with\n",
        "#This is just for development so we don't have to wait for processing times\n",
        "#h5f = h5py.File('../drive/MyDrive/DS6011_Capstone_VisualNeuroscience/DATA/subset_stackRaw_pmc.h5', 'w')\n",
        "#h5f.create_dataset('stackRaw_pmc', data=flip[:500])\n",
        "\n",
        "#h5f.close()"
      ],
      "execution_count": 11,
      "outputs": []
    },
    {
      "cell_type": "code",
      "metadata": {
        "id": "HzqeUrwjDsWg"
      },
      "source": [
        "# start a cluster\n",
        "c, dview, n_processes =\\\n",
        "    cm.cluster.setup_cluster(backend='local', n_processes=None,\n",
        "                                 single_thread=False)"
      ],
      "execution_count": 12,
      "outputs": []
    },
    {
      "cell_type": "code",
      "metadata": {
        "id": "kcc1v4IOK9B6"
      },
      "source": [
        "#dview.terminate()"
      ],
      "execution_count": 13,
      "outputs": []
    },
    {
      "cell_type": "code",
      "metadata": {
        "id": "v8TzDU7qfVmB"
      },
      "source": [
        "#%% First setup some parameters for data and motion correction\n",
        "# dataset dependent parameters\n",
        "\n",
        "# ADJUSTED FROM DEFAULTS TO CARL'S PARAMS ON 11/13 (not completely)\n",
        "\n",
        "fnames = ['../drive/MyDrive/DS6011_Capstone_VisualNeuroscience/DATA/stackRaw/210815_0/210815_0_1_stackRaw_pmc_mix1_syt_.mat'] #path to video file\n",
        "fr = 20             # imaging rate in frames per second\n",
        "decay_time = 0.4    # length of a typical transient in seconds\n",
        "dxy = (2., 2.)      # spatial resolution in x and y in (um per pixel)\n",
        "# note the lower than usual spatial resolution here\n",
        "max_shift_um = (12., 12.)       # maximum shift in um\n",
        "patch_motion_um = (100., 100.)  # patch size for non-rigid correction in um\n",
        "\n",
        "# motion correction parameters\n",
        "pw_rigid = False       # flag to select rigid vs pw_rigid motion correction\n",
        "# maximum allowed rigid shift in pixels\n",
        "max_shifts = [int(a/b) for a, b in zip(max_shift_um, dxy)]\n",
        "# start a new patch for pw-rigid motion correction every x pixels\n",
        "strides = tuple([int(a/b) for a, b in zip(patch_motion_um, dxy)])\n",
        "# overlap between pathes (size of patch in pixels: strides+overlaps)\n",
        "overlaps = (24, 24)\n",
        "# maximum deviation allowed for patch with respect to rigid shifts\n",
        "max_deviation_rigid = 3\n",
        "\n",
        "opts = params.CNMFParams()\n",
        "\n",
        "opts.set('motion', {\n",
        "    'fnames': fnames,\n",
        "    'fr': fr,\n",
        "    'decay_time': decay_time,\n",
        "    'dxy': dxy,\n",
        "    'pw_rigid': pw_rigid,\n",
        "    'max_shifts': max_shifts,\n",
        "    'strides': strides,\n",
        "    'overlaps': overlaps,\n",
        "    'max_deviation_rigid': max_deviation_rigid,\n",
        "    'border_nan': 'copy'\n",
        "    #'var_name_hdf5': 'stackRaw_pmc'\n",
        "})\n",
        "\n",
        "\n"
      ],
      "execution_count": 14,
      "outputs": []
    },
    {
      "cell_type": "code",
      "metadata": {
        "id": "tLzfCy0wFb-g"
      },
      "source": [
        "# set up some parameters for extraction\n",
        "fnames = ['../drive/MyDrive/DS6011_Capstone_VisualNeuroscience/DATA/stackRaw/210815_0/210815_0_1_stackRaw_pmc_mix1_syt_.mat']\n",
        "                        # file(s) to be analyzed\n",
        "is_patches = True       # flag for processing in patches or not\n",
        "fr = 20                 # approximate frame rate of data\n",
        "decay_time = .4        # length of transient\n",
        "\n",
        "if is_patches:          # PROCESS IN PATCHES AND THEN COMBINE\n",
        "    rf = 25             # half size of each patch\n",
        "    stride = 5          # overlap between patches\n",
        "    K = 3               # number of components in each patch\n",
        "else:                   # PROCESS THE WHOLE FOV AT ONCE\n",
        "    rf = None           # setting these parameters to None\n",
        "    stride = None       # will run CNMF on the whole FOV\n",
        "    K = 40              # number of neurons expected (in the whole FOV)\n",
        "\n",
        "gSig = [6, 6]           # expected half size of neurons\n",
        "merge_thresh = 0.95     # merging threshold, max correlation allowed\n",
        "p = 0                   # order of the autoregressive system\n",
        "gnb = 2                 # global background order\n",
        "\n",
        "var_name_hdf5 = 'stackRaw_pmc' #variable to path caiman into the subfolder within our mat files\n",
        "\n",
        "opts.set('data', {'fnames': fnames,\n",
        "                   'fr': fr,\n",
        "                   'decay_time': decay_time,\n",
        "                   'rf': rf,\n",
        "                   'stride': stride,\n",
        "                   'K': K,\n",
        "                   'gSig': gSig,\n",
        "                   'merge_thr': merge_thresh,\n",
        "                   'p': p,\n",
        "                   'nb': gnb\n",
        "                   #'var_name_hdf5': var_name_hdf5\n",
        "                  })\n",
        "\n",
        "\n"
      ],
      "execution_count": 15,
      "outputs": []
    },
    {
      "cell_type": "code",
      "metadata": {
        "id": "0JAZz7VSWsEd"
      },
      "source": [
        "# %% COMPONENT EVALUATION\n",
        "# the components are evaluated in three ways:\n",
        "#   a) the shape of each component must be correlated with the data\n",
        "#   b) a minimum peak SNR is required over the length of a transient\n",
        "#   c) each shape passes a CNN based classifier (this will pick up only neurons\n",
        "#           and filter out active processes)\n",
        "\n",
        "min_SNR = 2      # peak SNR for accepted components (if above this, acept)\n",
        "rval_thr = 0.95     # space correlation threshold (if above this, accept)\n",
        "use_cnn = True      # use the CNN classifier\n",
        "min_cnn_thr = 0.90  # if cnn classifier predicts below this value, reject\n",
        "cnn_lowest = 0.1 # neurons with cnn probability lower than this value are rejected\n",
        "\n",
        "opts.set('quality', {'min_SNR': min_SNR,\n",
        "                                'rval_thr': rval_thr,\n",
        "                                'use_cnn': use_cnn,\n",
        "                                'min_cnn_thr': min_cnn_thr,\n",
        "                                'cnn_lowest': cnn_lowest})\n",
        "\n",
        "#cnm2.estimates.evaluate_components(images, cnm2.params, dview=dview)"
      ],
      "execution_count": 16,
      "outputs": []
    },
    {
      "cell_type": "code",
      "metadata": {
        "id": "bdscDTVLZKBe"
      },
      "source": [
        "#THIS FUCKING LINE IS ALL IT TOOK\n",
        "#THE MOTION PARAMS DOES NOT PULL IN THE VAR NAME BY DEFAULT\n",
        "#NEEDS TO BE MANUALLY INJECTED SO IT GETS PULLED INTO MOTION CORRECT WITH THE REST\n",
        "\n",
        "opts.motion['var_name_hdf5'] = 'stackRaw_pmc'\n",
        "opts.data['var_name_hdf5'] = 'stackRaw_pmc'"
      ],
      "execution_count": 17,
      "outputs": []
    },
    {
      "cell_type": "markdown",
      "metadata": {
        "id": "-VLpbI7xvI6b"
      },
      "source": [
        "The 2 lines below initiate and then run the caiman motion correction, deconvolution, and ROI evaluation by calling the fit_file function.\n",
        "\n",
        "Pasting the source code of fit_file here for transparency: \n",
        "\n",
        "\n",
        "def fit_file(self, motion_correct=False, indices=None, include_eval=False):\n",
        "\n",
        "        This method packages the analysis pipeline (motion correction, memory\n",
        "        mapping, patch based CNMF processing and component evaluation) in a\n",
        "        single method that can be called on a specific (sequence of) file(s).\n",
        "        It is assumed that the CNMF object already contains a params object\n",
        "        where the location of the files and all the relevant parameters have\n",
        "        been specified. The method will perform the last step, i.e. component\n",
        "        evaluation, if the flag \"include_eval\" is set to `True`.\n",
        "\n",
        "        Args:\n",
        "            motion_correct (bool)\n",
        "                flag for performing motion correction\n",
        "            indices (list of slice objects)\n",
        "                perform analysis only on a part of the FOV\n",
        "            include_eval (bool)\n",
        "                flag for performing component evaluation\n",
        "        Returns:\n",
        "            cnmf object with the current estimates\n",
        "\n",
        "\n",
        "        if indices is None:\n",
        "            indices = (slice(None), slice(None))\n",
        "        fnames = self.params.get('data', 'fnames')\n",
        "        if os.path.exists(fnames[0]):\n",
        "            _, extension = os.path.splitext(fnames[0])[:2]\n",
        "            extension = extension.lower()\n",
        "        else:\n",
        "            logging.warning(\"Error: File not found, with file list:\\n\" + fnames[0])\n",
        "            raise Exception('File not found!')\n",
        "\n",
        "        base_name = pathlib.Path(fnames[0]).stem + \"_memmap_\"\n",
        "        if extension == '.mmap':\n",
        "            fname_new = fnames[0]\n",
        "            Yr, dims, T = mmapping.load_memmap(fnames[0])\n",
        "            if np.isfortran(Yr):\n",
        "                raise Exception('The file should be in C order (see save_memmap function)')\n",
        "        else:\n",
        "            if motion_correct:\n",
        "                mc = MotionCorrect(fnames, dview=self.dview, **self.params.motion)\n",
        "                mc.motion_correct(save_movie=True)\n",
        "                fname_mc = mc.fname_tot_els if self.params.motion['pw_rigid'] else mc.fname_tot_rig\n",
        "                if self.params.get('motion', 'pw_rigid'):\n",
        "                    b0 = np.ceil(np.maximum(np.max(np.abs(mc.x_shifts_els)),\n",
        "                                            np.max(np.abs(mc.y_shifts_els)))).astype(np.int)\n",
        "                    self.estimates.shifts = [mc.x_shifts_els, mc.y_shifts_els]\n",
        "                else:\n",
        "                    b0 = np.ceil(np.max(np.abs(mc.shifts_rig))).astype(np.int)\n",
        "                    self.estimates.shifts = mc.shifts_rig\n",
        "                # TODO - b0 is currently direction inspecific, which can cause\n",
        "                # sub-optimal behavior. See\n",
        "                # https://github.com/flatironinstitute/CaImAn/pull/618#discussion_r313960370\n",
        "                # for further details.\n",
        "                # b0 = 0 if self.params.get('motion', 'border_nan') is 'copy' else 0\n",
        "                b0 = 0\n",
        "                fname_new = mmapping.save_memmap(fname_mc, base_name=base_name, order='C',\n",
        "                                                 border_to_0=b0)\n",
        "            else:\n",
        "                fname_new = mmapping.save_memmap(fnames, base_name=base_name, order='C')\n",
        "            Yr, dims, T = mmapping.load_memmap(fname_new)\n",
        "\n",
        "        images = np.reshape(Yr.T, [T] + list(dims), order='F')\n",
        "        self.mmap_file = fname_new\n",
        "        if not include_eval:\n",
        "            return self.fit(images, indices=indices)\n",
        "\n",
        "        fit_cnm = self.fit(images, indices=indices)\n",
        "        Cn = summary_images.local_correlations(images[::max(T//1000, 1)], swap_dim=False)\n",
        "        Cn[np.isnan(Cn)] = 0\n",
        "        fit_cnm.save(fname_new[:-5]+'_init.hdf5')\n",
        "        #fit_cnm.params.change_params({'p': self.params.get('preprocess', 'p')})\n",
        "        # RE-RUN seeded CNMF on accepted patches to refine and perform deconvolution\n",
        "        cnm2 = fit_cnm.refit(images, dview=self.dview)\n",
        "        cnm2.estimates.evaluate_components(images, cnm2.params, dview=self.dview)\n",
        "        # update object with selected components\n",
        "        #cnm2.estimates.select_components(use_object=True)\n",
        "        # Extract DF/F values\n",
        "        cnm2.estimates.detrend_df_f(quantileMin=8, frames_window=250)\n",
        "        cnm2.estimates.Cn = Cn\n",
        "        cnm2.save(cnm2.mmap_file[:-4] + 'hdf5')\n",
        "\n",
        "        cluster.stop_server(dview=self.dview)\n",
        "        log_files = glob.glob('*_LOG_*')\n",
        "        for log_file in log_files:\n",
        "            os.remove(log_file)\n",
        "\n",
        "        return cnm2\n"
      ]
    },
    {
      "cell_type": "code",
      "metadata": {
        "colab": {
          "base_uri": "https://localhost:8080/"
        },
        "id": "BXiK-nRtE1W-",
        "outputId": "ddd2ff65-d742-4181-cf6e-b8f1efd50961"
      },
      "source": [
        "# %% Now RUN CaImAn Batch (CNMF)\n",
        "cnm = cnmf.CNMF(n_processes, params=opts, dview=dview)\n",
        "cnm = cnm.fit_file(motion_correct = True, include_eval=True)"
      ],
      "execution_count": 18,
      "outputs": [
        {
          "output_type": "stream",
          "name": "stderr",
          "text": [
            "WARNING:root:Loading a *.mat file. x- and y- dimensions might have been swapped.\n",
            "/usr/local/lib/python3.7/dist-packages/sklearn/decomposition/_nmf.py:1641: ConvergenceWarning: Maximum number of iterations 200 reached. Increase it to improve convergence.\n",
            "  ConvergenceWarning,\n"
          ]
        },
        {
          "output_type": "stream",
          "name": "stdout",
          "text": [
            "USING MODEL:/root/caiman_data/model/cnn_model.json\n",
            "1/1 [==============================] - 1s 576ms/step\n"
          ]
        }
      ]
    },
    {
      "cell_type": "markdown",
      "metadata": {
        "id": "ElmK1O9ijXSv"
      },
      "source": [
        "These cells only work if the fit function has gone through without errors"
      ]
    },
    {
      "cell_type": "code",
      "metadata": {
        "colab": {
          "base_uri": "https://localhost:8080/",
          "height": 236
        },
        "id": "chmt34wkHD9j",
        "outputId": "7908ab39-e408-4f46-976e-8ef81f8cf473"
      },
      "source": [
        "import matplotlib.pyplot as plt\n",
        "dims = [128, 256]\n",
        "#5th component\n",
        "plt.figure() \n",
        "plt.imshow(np.reshape(cnm.estimates.A[:,4].toarray(), dims, order='F'))"
      ],
      "execution_count": 19,
      "outputs": [
        {
          "output_type": "execute_result",
          "data": {
            "text/plain": [
              "<matplotlib.image.AxesImage at 0x7f334f81d7d0>"
            ]
          },
          "metadata": {},
          "execution_count": 19
        },
        {
          "output_type": "display_data",
          "data": {
            "image/png": "[encoded data removed]",
            "text/plain": [
              "<Figure size 432x288 with 1 Axes>"
            ]
          },
          "metadata": {
            "needs_background": "light"
          }
        }
      ]
    },
    {
      "cell_type": "code",
      "metadata": {
        "colab": {
          "base_uri": "https://localhost:8080/",
          "height": 282
        },
        "id": "mSllkGeSHg5p",
        "outputId": "98bff11e-6c78-4bb2-a7a0-cdb40c030c10"
      },
      "source": [
        "#deconvolved trace for 5th component\n",
        "plt.figure() \n",
        "plt.plot(cnm.estimates.C[4])"
      ],
      "execution_count": 20,
      "outputs": [
        {
          "output_type": "execute_result",
          "data": {
            "text/plain": [
              "[<matplotlib.lines.Line2D at 0x7f3383cb78d0>]"
            ]
          },
          "metadata": {},
          "execution_count": 20
        },
        {
          "output_type": "display_data",
          "data": {
            "image/png": "[encoded data removed]",
            "text/plain": [
              "<Figure size 432x288 with 1 Axes>"
            ]
          },
          "metadata": {
            "needs_background": "light"
          }
        }
      ]
    },
    {
      "cell_type": "code",
      "metadata": {
        "colab": {
          "base_uri": "https://localhost:8080/",
          "height": 282
        },
        "id": "CN01-lViHo-x",
        "outputId": "5141d30c-328e-4405-d0ad-d3979acbab11"
      },
      "source": [
        "#inferred spikes for 5th component\n",
        "plt.figure() \n",
        "plt.plot(cnm.estimates.S[4])"
      ],
      "execution_count": 21,
      "outputs": [
        {
          "output_type": "execute_result",
          "data": {
            "text/plain": [
              "[<matplotlib.lines.Line2D at 0x7f334f813250>]"
            ]
          },
          "metadata": {},
          "execution_count": 21
        },
        {
          "output_type": "display_data",
          "data": {
            "image/png": "[encoded data removed]",
            "text/plain": [
              "<Figure size 432x288 with 1 Axes>"
            ]
          },
          "metadata": {
            "needs_background": "light"
          }
        }
      ]
    },
    {
      "cell_type": "code",
      "metadata": {
        "id": "6kPwxqrhHVz9"
      },
      "source": [
        "#returns a list of our binary masks\n",
        "M = cnm.estimates.A > 0\n",
        "masks = [np.reshape(M[:,i].toarray(), dims, order='F') for i in range(M.shape[1])]"
      ],
      "execution_count": 22,
      "outputs": []
    },
    {
      "cell_type": "code",
      "metadata": {
        "colab": {
          "base_uri": "https://localhost:8080/",
          "height": 236
        },
        "id": "RYTgb7e_JGro",
        "outputId": "ae4fef25-4a22-48b6-8f93-cc4b46dcf83b"
      },
      "source": [
        "#plot mask for 3rd ROI\n",
        "plt.imshow(np.reshape(masks[4], dims, order='F'))"
      ],
      "execution_count": 23,
      "outputs": [
        {
          "output_type": "execute_result",
          "data": {
            "text/plain": [
              "<matplotlib.image.AxesImage at 0x7f334f82f310>"
            ]
          },
          "metadata": {},
          "execution_count": 23
        },
        {
          "output_type": "display_data",
          "data": {
            "image/png": "[encoded data removed]",
            "text/plain": [
              "<Figure size 432x288 with 1 Axes>"
            ]
          },
          "metadata": {
            "needs_background": "light"
          }
        }
      ]
    },
    {
      "cell_type": "code",
      "metadata": {
        "colab": {
          "base_uri": "https://localhost:8080/"
        },
        "id": "A3FmZssZ0oUw",
        "outputId": "345d1922-1f40-4bba-b0e5-587ff0808158"
      },
      "source": [
        "M.shape"
      ],
      "execution_count": 24,
      "outputs": [
        {
          "output_type": "execute_result",
          "data": {
            "text/plain": [
              "(32768, 28)"
            ]
          },
          "metadata": {},
          "execution_count": 24
        }
      ]
    },
    {
      "cell_type": "code",
      "metadata": {
        "id": "Pd2hl39cPV1K"
      },
      "source": [
        "# %% STOP CLUSTER and clean up log files\n",
        "cm.stop_server(dview=dview)"
      ],
      "execution_count": 25,
      "outputs": []
    },
    {
      "cell_type": "code",
      "metadata": {
        "id": "qxF1QD6NIDdM",
        "colab": {
          "base_uri": "https://localhost:8080/"
        },
        "outputId": "5526c85c-132f-4fac-ae80-324b238097d4"
      },
      "source": [
        "np.shape(cnm.estimates)"
      ],
      "execution_count": 27,
      "outputs": [
        {
          "output_type": "execute_result",
          "data": {
            "text/plain": [
              "()"
            ]
          },
          "metadata": {},
          "execution_count": 27
        }
      ]
    },
    {
      "cell_type": "code",
      "metadata": {
        "id": "UyKglYCjIDf0"
      },
      "source": [
        "f2 = h5py.File('../drive/MyDrive/DS6011_Capstone_VisualNeuroscience/DATA/manualROIs/210728_0_1_manualROIs_tm2_tm9_syt.mat', 'r+')"
      ],
      "execution_count": 34,
      "outputs": []
    },
    {
      "cell_type": "code",
      "metadata": {
        "colab": {
          "base_uri": "https://localhost:8080/"
        },
        "id": "Ixv0AlR3GX2w",
        "outputId": "b4f25d9f-b867-4b50-b763-ee057569ed5d"
      },
      "source": [
        "f2"
      ],
      "execution_count": 41,
      "outputs": [
        {
          "output_type": "execute_result",
          "data": {
            "text/plain": [
              "<HDF5 file \"210728_0_1_manualROIs_tm2_tm9_syt.mat\" (mode r+)>"
            ]
          },
          "metadata": {},
          "execution_count": 41
        }
      ]
    },
    {
      "cell_type": "code",
      "metadata": {
        "colab": {
          "base_uri": "https://localhost:8080/"
        },
        "id": "-nI9STiAGX8S",
        "outputId": "2fef4f5a-a742-4dc6-c3e7-04647b99d50d"
      },
      "source": [
        "list(f2.keys())"
      ],
      "execution_count": 45,
      "outputs": [
        {
          "output_type": "execute_result",
          "data": {
            "text/plain": [
              "['bwLabel']"
            ]
          },
          "metadata": {},
          "execution_count": 45
        }
      ]
    },
    {
      "cell_type": "code",
      "metadata": {
        "id": "yJRe5s9fGX_n"
      },
      "source": [
        "data = f2['bwLabel']"
      ],
      "execution_count": 47,
      "outputs": []
    },
    {
      "cell_type": "code",
      "metadata": {
        "colab": {
          "base_uri": "https://localhost:8080/"
        },
        "id": "TPISZ7qMGYCg",
        "outputId": "2eb68159-cc52-423b-ed5d-fe3477796be6"
      },
      "source": [
        "data.shape"
      ],
      "execution_count": 49,
      "outputs": [
        {
          "output_type": "execute_result",
          "data": {
            "text/plain": [
              "(256, 128)"
            ]
          },
          "metadata": {},
          "execution_count": 49
        }
      ]
    },
    {
      "cell_type": "code",
      "metadata": {
        "id": "peRZqucnZEJS"
      },
      "source": [
        "data = data[:] #converts to an array (places the data in memory, otherwise just an HDF5 object that can only be sliced)"
      ],
      "execution_count": 57,
      "outputs": []
    },
    {
      "cell_type": "code",
      "metadata": {
        "colab": {
          "base_uri": "https://localhost:8080/"
        },
        "id": "Fy6PUK33ZEM9",
        "outputId": "88d5fd63-aeed-4eaa-ca2c-ccdf53d41d22"
      },
      "source": [
        "data"
      ],
      "execution_count": 56,
      "outputs": [
        {
          "output_type": "execute_result",
          "data": {
            "text/plain": [
              "array([[0., 0., 0., ..., 0., 0., 0.],\n",
              "       [0., 0., 0., ..., 0., 0., 0.],\n",
              "       [0., 0., 0., ..., 0., 0., 0.],\n",
              "       ...,\n",
              "       [0., 0., 0., ..., 0., 0., 0.],\n",
              "       [0., 0., 0., ..., 0., 0., 0.],\n",
              "       [0., 0., 0., ..., 0., 0., 0.]])"
            ]
          },
          "metadata": {},
          "execution_count": 56
        }
      ]
    },
    {
      "cell_type": "code",
      "metadata": {
        "colab": {
          "base_uri": "https://localhost:8080/"
        },
        "id": "VIk0ys8GZEPG",
        "outputId": "ec0d5845-c32a-4c59-f0db-3f3df042c044"
      },
      "source": [
        "data1 = np.empty((0,128))\n",
        "data2 = np.empty((0,128))\n",
        "\n",
        "for i in data:\n",
        "  data1 = np.append(data1,np.array([[x if x==1 else 0 for x in i]]), axis=0)\n",
        "  data2 = np.append(data2,np.array([[x if x==2 else 0 for x in i]]), axis=0)\n",
        "\n",
        "np.shape(data1)"
      ],
      "execution_count": 90,
      "outputs": [
        {
          "output_type": "execute_result",
          "data": {
            "text/plain": [
              "(256, 128)"
            ]
          },
          "metadata": {},
          "execution_count": 90
        }
      ]
    },
    {
      "cell_type": "code",
      "metadata": {
        "colab": {
          "base_uri": "https://localhost:8080/"
        },
        "id": "lKJPiKVnZESQ",
        "outputId": "37b1dce4-202a-482f-c0d7-0d3193fca0a8"
      },
      "source": [
        "# make sure it works\n",
        "counter = 0\n",
        "for x in data2:\n",
        "  for y in x:\n",
        "    if y == 2:\n",
        "      counter += 1\n",
        "counter"
      ],
      "execution_count": 91,
      "outputs": [
        {
          "output_type": "execute_result",
          "data": {
            "text/plain": [
              "78"
            ]
          },
          "metadata": {},
          "execution_count": 91
        }
      ]
    },
    {
      "cell_type": "code",
      "metadata": {
        "colab": {
          "base_uri": "https://localhost:8080/"
        },
        "id": "mTKPj-b1ZEVl",
        "outputId": "3e2c5da3-f34f-4fc1-9ff7-01f5c893ee7f"
      },
      "source": [
        "counter = 0\n",
        "for x in data:\n",
        "  for y in x:\n",
        "    if y == 2:\n",
        "      counter += 1\n",
        "counter\n",
        "# works!!"
      ],
      "execution_count": 92,
      "outputs": [
        {
          "output_type": "execute_result",
          "data": {
            "text/plain": [
              "78"
            ]
          },
          "metadata": {},
          "execution_count": 92
        }
      ]
    },
    {
      "cell_type": "code",
      "metadata": {
        "id": "1lWEznmMZEXc"
      },
      "source": [
        "with h5py.File('test.hdf5', 'w') as f:\n",
        "    f.create_dataset('ds_1', data = data1)\n",
        "    f.create_dataset('ds_2', data = data2)"
      ],
      "execution_count": 93,
      "outputs": []
    },
    {
      "cell_type": "code",
      "metadata": {
        "id": "OTH5Y8LwZEah"
      },
      "source": [
        ""
      ],
      "execution_count": null,
      "outputs": []
    },
    {
      "cell_type": "code",
      "metadata": {
        "id": "7krBdvrflGLn"
      },
      "source": [
        ""
      ],
      "execution_count": null,
      "outputs": []
    },
    {
      "cell_type": "code",
      "metadata": {
        "id": "5toaD1hdlGOm"
      },
      "source": [
        ""
      ],
      "execution_count": null,
      "outputs": []
    },
    {
      "cell_type": "code",
      "metadata": {
        "id": "wUgD2EeAlGRf"
      },
      "source": [
        ""
      ],
      "execution_count": null,
      "outputs": []
    },
    {
      "cell_type": "code",
      "metadata": {
        "id": "yFX-A26DlGUX"
      },
      "source": [
        ""
      ],
      "execution_count": null,
      "outputs": []
    },
    {
      "cell_type": "code",
      "metadata": {
        "id": "6JURCto7lGXA"
      },
      "source": [
        ""
      ],
      "execution_count": null,
      "outputs": []
    },
    {
      "cell_type": "code",
      "metadata": {
        "id": "HURULl1mlGZW"
      },
      "source": [
        ""
      ],
      "execution_count": null,
      "outputs": []
    },
    {
      "cell_type": "code",
      "metadata": {
        "id": "8v2BrlwPlGcI"
      },
      "source": [
        ""
      ],
      "execution_count": null,
      "outputs": []
    },
    {
      "cell_type": "code",
      "metadata": {
        "id": "WFV_yJ-XlGea"
      },
      "source": [
        ""
      ],
      "execution_count": null,
      "outputs": []
    },
    {
      "cell_type": "code",
      "metadata": {
        "id": "X7HaI8MSlGhT"
      },
      "source": [
        ""
      ],
      "execution_count": null,
      "outputs": []
    },
    {
      "cell_type": "code",
      "metadata": {
        "id": "7S4_qgZgvvHY"
      },
      "source": [
        "#Using h5py to pull back in and see the saved output\n",
        "import h5py\n",
        "f = h5py.File(cnm.mmap_file[:-5]+'_init.hdf5', 'r')\n"
      ],
      "execution_count": null,
      "outputs": []
    },
    {
      "cell_type": "code",
      "metadata": {
        "colab": {
          "base_uri": "https://localhost:8080/"
        },
        "id": "S3ekp_2lxbjk",
        "outputId": "16f07f22-1520-4cdd-defa-01b01dff3cba"
      },
      "source": [
        "#This shape should match matrix A from the cnm object above, but doesn't\n",
        "f['estimates']['A']['data']"
      ],
      "execution_count": null,
      "outputs": [
        {
          "output_type": "execute_result",
          "data": {
            "text/plain": [
              "<HDF5 dataset \"data\": shape (9643,), type \"<f4\">"
            ]
          },
          "metadata": {},
          "execution_count": 22
        }
      ]
    },
    {
      "cell_type": "code",
      "metadata": {
        "colab": {
          "base_uri": "https://localhost:8080/"
        },
        "id": "qlT2UQyX33ih",
        "outputId": "8d37d94e-8c4a-4e3c-9248-21382234859c"
      },
      "source": [
        "!ls ../drive/MyDrive/DS6011_Capstone_VisualNeuroscience/DATA/manualROIs/210815_0_1_manualROIs_mix1_syt.mat\n",
        "\n",
        "#stackRaw/210815_0/210815_0_1_stackRaw_pmc_mix1_syt_.mat'"
      ],
      "execution_count": null,
      "outputs": [
        {
          "output_type": "stream",
          "name": "stdout",
          "text": [
            "../drive/MyDrive/DS6011_Capstone_VisualNeuroscience/DATA/manualROIs/210815_0_1_manualROIs_mix1_syt.mat\n"
          ]
        }
      ]
    },
    {
      "cell_type": "code",
      "metadata": {
        "colab": {
          "base_uri": "https://localhost:8080/"
        },
        "id": "ykF9yxzZ33l0",
        "outputId": "0ab196a9-66dd-4ddc-e659-21c37904c906"
      },
      "source": [
        "#moving on to reading roi masks attempting to compare to matrix A from cnm object\n",
        "f = h5py.File('../drive/MyDrive/DS6011_Capstone_VisualNeuroscience/DATA/manualROIs/210815_0_1_manualROIs_mix1_syt.mat', 'r')\n",
        "\n",
        "f.keys()\n"
      ],
      "execution_count": null,
      "outputs": [
        {
          "output_type": "execute_result",
          "data": {
            "text/plain": [
              "<KeysViewHDF5 ['bwLabel']>"
            ]
          },
          "metadata": {},
          "execution_count": 24
        }
      ]
    },
    {
      "cell_type": "code",
      "metadata": {
        "colab": {
          "base_uri": "https://localhost:8080/",
          "height": 236
        },
        "id": "sQlff4ia4fTo",
        "outputId": "d6e68087-7797-40ad-97bb-9b1ce8465c28"
      },
      "source": [
        "plt.imshow(np.array(f['bwLabel']).T)"
      ],
      "execution_count": null,
      "outputs": [
        {
          "output_type": "execute_result",
          "data": {
            "text/plain": [
              "<matplotlib.image.AxesImage at 0x7f1381c1dc10>"
            ]
          },
          "metadata": {},
          "execution_count": 25
        },
        {
          "output_type": "display_data",
          "data": {
            "image/png": "[encoded data removed]",
            "text/plain": [
              "<Figure size 432x288 with 1 Axes>"
            ]
          },
          "metadata": {
            "needs_background": "light"
          }
        }
      ]
    },
    {
      "cell_type": "code",
      "metadata": {
        "id": "2PtupBe44jb-"
      },
      "source": [
        ""
      ],
      "execution_count": null,
      "outputs": []
    },
    {
      "cell_type": "code",
      "metadata": {
        "colab": {
          "base_uri": "https://localhost:8080/"
        },
        "id": "Pv0UpyBq4_kJ",
        "outputId": "1f408f2e-f084-4015-8d06-f91b14103ce5"
      },
      "source": [
        "#moving on to reading roi masks attempting to compare to matrix A from cnm object\n",
        "f = h5py.File('../drive/MyDrive/DS6011_Capstone_VisualNeuroscience/DATA/manualROIs/210731_0_1_manualROIs_t5_syt.mat', 'r')\n",
        "\n",
        "f.keys()\n"
      ],
      "execution_count": null,
      "outputs": [
        {
          "output_type": "execute_result",
          "data": {
            "text/plain": [
              "<KeysViewHDF5 ['bwLabel']>"
            ]
          },
          "metadata": {},
          "execution_count": 26
        }
      ]
    },
    {
      "cell_type": "code",
      "metadata": {
        "colab": {
          "base_uri": "https://localhost:8080/",
          "height": 236
        },
        "id": "-UWPUADF4_kK",
        "outputId": "6dc026b0-4bc4-4f81-d0f9-cb47db3c52de"
      },
      "source": [
        "plt.imshow(np.array(f['bwLabel']).T)"
      ],
      "execution_count": null,
      "outputs": [
        {
          "output_type": "execute_result",
          "data": {
            "text/plain": [
              "<matplotlib.image.AxesImage at 0x7f1381ecdc50>"
            ]
          },
          "metadata": {},
          "execution_count": 27
        },
        {
          "output_type": "display_data",
          "data": {
            "image/png": "[encoded data removed]",
            "text/plain": [
              "<Figure size 432x288 with 1 Axes>"
            ]
          },
          "metadata": {
            "needs_background": "light"
          }
        }
      ]
    },
    {
      "cell_type": "code",
      "metadata": {
        "id": "tM9dIEXy5LcW"
      },
      "source": [
        ""
      ],
      "execution_count": null,
      "outputs": []
    }
  ]
}