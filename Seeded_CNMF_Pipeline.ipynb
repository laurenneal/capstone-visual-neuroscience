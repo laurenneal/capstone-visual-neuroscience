{
  "nbformat": 4,
  "nbformat_minor": 0,
  "metadata": {
    "colab": {
      "name": "Seeded CNMF Pipeline.ipynb",
      "provenance": [],
      "collapsed_sections": [
        "DMQyPTVxwhVU",
        "fCRFFvODsO4i",
        "OzmBKC4DsV2y"
      ],
      "mount_file_id": "1rngpZ2v5WfmtxJTvHkWuQ1ZQsa8f7lz_",
      "authorship_tag": "ABX9TyNN9qu4Lp5/Afycu8jHSNTJ",
      "include_colab_link": true
    },
    "kernelspec": {
      "name": "python3",
      "display_name": "Python 3"
    },
    "language_info": {
      "name": "python"
    }
  },
  "cells": [
    {
      "cell_type": "markdown",
      "metadata": {
        "id": "view-in-github",
        "colab_type": "text"
      },
      "source": [
        "<a href=\"https://colab.research.google.com/github/laurenneal/capstone-visual-neuroscience/blob/Dylan/Seeded_CNMF_Pipeline.ipynb\" target=\"_parent\"><img src=\"https://colab.research.google.com/assets/colab-badge.svg\" alt=\"Open In Colab\"/></a>"
      ]
    },
    {
      "cell_type": "markdown",
      "metadata": {
        "id": "DMQyPTVxwhVU"
      },
      "source": [
        "## Setup"
      ]
    },
    {
      "cell_type": "code",
      "metadata": {
        "colab": {
          "base_uri": "https://localhost:8080/"
        },
        "id": "BbIj2QeEAbTE",
        "outputId": "82961e05-68ee-4dee-dc47-4c0fd441e488"
      },
      "source": [
        "from google.colab import drive\n",
        "drive.mount('/content/drive')"
      ],
      "execution_count": 1,
      "outputs": [
        {
          "output_type": "stream",
          "name": "stdout",
          "text": [
            "Drive already mounted at /content/drive; to attempt to forcibly remount, call drive.mount(\"/content/drive\", force_remount=True).\n"
          ]
        }
      ]
    },
    {
      "cell_type": "code",
      "metadata": {
        "colab": {
          "base_uri": "https://localhost:8080/"
        },
        "id": "VrE1xeswQNHM",
        "outputId": "ebbac69a-9b86-45ac-e2d1-7da337a19bbf"
      },
      "source": [
        "# Install CaImAn - takes around 2 minutes\n",
        "\n",
        "!git clone https://github.com/flatironinstitute/CaImAn.git\n",
        "%cd '/content/CaImAn/'\n",
        "!pip install -e .\n",
        "\n",
        "# Install caiman dependencies (&> /dev/null will suppress the hundreds of printed lines in the output)\n",
        "!pip install -r requirements.txt &> /dev/null\n",
        "\n",
        "#import other dependencies\n",
        "import cv2\n",
        "import glob\n",
        "import numpy as np\n",
        "import os\n",
        "import matplotlib.pyplot as plt\n",
        "import imageio\n",
        "\n",
        "#IMPORTANT! Newer versions of h5py will cause errors when saving results\n",
        "!pip install h5py==2.10.0\n",
        "import h5py\n",
        "\n",
        "#Set up caiman\n",
        "!python setup.py build_ext -i\n",
        "\n",
        "#Other file setup\n",
        "!python caimanmanager.py install --inplace\n",
        "\n",
        "#Caiman imports\n",
        "import caiman as cm\n",
        "from caiman.motion_correction import MotionCorrect\n",
        "from caiman.source_extraction.cnmf import cnmf as cnmf\n",
        "from caiman.source_extraction.cnmf import params as params\n",
        "from caiman.utils.utils import download_demo\n",
        "from caiman.utils.visualization import plot_contours, nb_view_patches, nb_plot_contour\n",
        "from caiman.summary_images import local_correlations_movie_offline\n",
        "from scipy.ndimage import center_of_mass\n",
        "from IPython.display import display, clear_output"
      ],
      "execution_count": 2,
      "outputs": [
        {
          "output_type": "stream",
          "name": "stdout",
          "text": [
            "Cloning into 'CaImAn'...\n",
            "remote: Enumerating objects: 24960, done.\u001b[K\n",
            "remote: Counting objects: 100% (6/6), done.\u001b[K\n",
            "remote: Compressing objects: 100% (6/6), done.\u001b[K\n",
            "remote: Total 24960 (delta 0), reused 2 (delta 0), pack-reused 24954\u001b[K\n",
            "Receiving objects: 100% (24960/24960), 518.36 MiB | 29.19 MiB/s, done.\n",
            "Resolving deltas: 100% (16746/16746), done.\n",
            "Checking out files: 100% (317/317), done.\n",
            "/content/CaImAn\n",
            "Obtaining file:///content/CaImAn\n",
            "Installing collected packages: caiman\n",
            "  Running setup.py develop for caiman\n",
            "Successfully installed caiman-1.9.7\n",
            "Collecting h5py==2.10.0\n",
            "  Downloading h5py-2.10.0-cp37-cp37m-manylinux1_x86_64.whl (2.9 MB)\n",
            "\u001b[K     |████████████████████████████████| 2.9 MB 5.2 MB/s \n",
            "\u001b[?25hRequirement already satisfied: six in /usr/local/lib/python3.7/dist-packages (from h5py==2.10.0) (1.15.0)\n",
            "Requirement already satisfied: numpy>=1.7 in /usr/local/lib/python3.7/dist-packages (from h5py==2.10.0) (1.19.5)\n",
            "Installing collected packages: h5py\n",
            "  Attempting uninstall: h5py\n",
            "    Found existing installation: h5py 3.1.0\n",
            "    Uninstalling h5py-3.1.0:\n",
            "      Successfully uninstalled h5py-3.1.0\n",
            "Successfully installed h5py-2.10.0\n",
            "running build_ext\n",
            "Installed /root/caiman_data\n"
          ]
        }
      ]
    },
    {
      "cell_type": "code",
      "source": [
        "#logging and configuring enviroment for interactive visualizations\n",
        "#Some of this is redundant\n",
        "\n",
        "try:\n",
        "    get_ipython().magic(u'load_ext autoreload')\n",
        "    get_ipython().magic(u'autoreload 2')\n",
        "    print(1)\n",
        "except:\n",
        "    print('NOT IPYTHON')\n",
        "\n",
        "from ipyparallel import Client\n",
        "import logging\n",
        "import matplotlib.pyplot as plt\n",
        "import numpy as np\n",
        "import os\n",
        "import psutil\n",
        "from scipy.ndimage.filters import gaussian_filter\n",
        "import sys\n",
        "\n",
        "import caiman as cm\n",
        "from caiman.utils.visualization import nb_view_patches3d\n",
        "import caiman.source_extraction.cnmf as cnmf\n",
        "from caiman.components_evaluation import evaluate_components, estimate_components_quality_auto\n",
        "from caiman.cluster import setup_cluster\n",
        "from caiman.paths import caiman_datadir\n",
        "\n",
        "import bokeh.plotting as bpl\n",
        "bpl.output_notebook()\n",
        "logging.basicConfig(format=\n",
        "                          \"%(relativeCreated)12d [%(filename)s:%(funcName)20s():%(lineno)s] [%(process)d] %(message)s\",\n",
        "                    # filename=\"/tmp/caiman.log\",\n",
        "                    level=logging.DEBUG)"
      ],
      "metadata": {
        "colab": {
          "base_uri": "https://localhost:8080/"
        },
        "id": "JpFwJng10xS6",
        "outputId": "f7b03766-c52b-4a47-b775-64fb2cdc3625"
      },
      "execution_count": 3,
      "outputs": [
        {
          "output_type": "stream",
          "name": "stdout",
          "text": [
            "1\n"
          ]
        }
      ]
    },
    {
      "cell_type": "markdown",
      "metadata": {
        "id": "fCRFFvODsO4i"
      },
      "source": [
        "## Get paths to movie files and labelled ROI masks - this was used for our model tuning where we looped over these pairs, only here to collect these pairs to demonstate function below working"
      ]
    },
    {
      "cell_type": "code",
      "metadata": {
        "id": "DfNJcFmeEq23"
      },
      "source": [
        "# #get a list of our masks and a list of our stacks in the same order\n",
        "# from os import listdir\n",
        "# maskpath = '../drive/MyDrive/DS6011_Capstone_VisualNeuroscience/DATA/manualROIs'\n",
        "# mask_filenames = [f for f in listdir(maskpath) if 'manualROIs' in f]\n",
        "# mask_filenames = sorted(mask_filenames)\n",
        "# mask_filenames"
      ],
      "execution_count": 4,
      "outputs": []
    },
    {
      "cell_type": "code",
      "metadata": {
        "id": "KBBLhWJoFMXP"
      },
      "source": [
        "# stack_indices = [x[:10] for x in mask_filenames] #get the index portion of the masks\n",
        "# stack_celltypes = [x[22:(len(x)-4)] for x in mask_filenames] #get the cell type descriptions\n",
        "\n",
        "# #create filenames in mat and h5, well only keep what exists\n",
        "# stack_filenames_h5 = ['CLEAN_' + stack_indices[x] + '_stackRaw_mc_' + stack_celltypes[x] \\\n",
        "#                    + '_.h5' for x in range(len(mask_filenames))] #reconstruct filenames for the movies we have masks for\n",
        "# stack_filenames_mat = ['CLEAN_' + stack_indices[x] + '_stackRaw_mc_' + stack_celltypes[x] \\\n",
        "#                    + '_.mat' for x in range(len(mask_filenames))] #reconstruct filenames for the movies we have masks for\n",
        "# stack_filenames = stack_filenames_h5 + stack_filenames_mat \n",
        "# stack_filenames"
      ],
      "execution_count": 5,
      "outputs": []
    },
    {
      "cell_type": "code",
      "metadata": {
        "id": "7cRs3HHyG0nV"
      },
      "source": [
        "# #checking that files exist in our cleaned file\n",
        "# stackpath = '../drive/MyDrive/DS6011_Capstone_VisualNeuroscience/DATA/stackRaw/CLEANED'\n",
        "# stackfiles = [f for f in listdir(stackpath) if f in stack_filenames]\n",
        "# stackfiles = sorted(stackfiles)\n",
        "# stackfiles"
      ],
      "execution_count": 6,
      "outputs": []
    },
    {
      "cell_type": "code",
      "metadata": {
        "id": "BkrZMX_oLZ8J"
      },
      "source": [
        "# #convert filenames back into paths\n",
        "# maskpaths = [maskpath+'/'+f for f in mask_filenames]\n",
        "# stackpaths = [stackpath+'/'+f for f in stackfiles]"
      ],
      "execution_count": 7,
      "outputs": []
    },
    {
      "cell_type": "code",
      "metadata": {
        "id": "5O3Ta8XtKXFQ"
      },
      "source": [
        "# #join the lists into pairs of tuples\n",
        "# mask_stack_pairs = list(map(lambda x, y:[x,y], maskpaths, stackpaths))\n",
        "# mask_stack_pairs"
      ],
      "execution_count": 8,
      "outputs": []
    },
    {
      "cell_type": "markdown",
      "metadata": {
        "id": "OzmBKC4DsV2y"
      },
      "source": [
        "## Initialize parameters object with starter values"
      ]
    },
    {
      "cell_type": "code",
      "metadata": {
        "id": "24iRFksugPTv"
      },
      "source": [
        "#create parameters object\n",
        "opts = params.CNMFParams()\n",
        "#fname will be assigned in the loop\n",
        "fnames = []\n",
        "subfolder = 'stackRaw_mc'\n",
        "opts.motion['var_name_hdf5'] = subfolder\n",
        "opts.data['var_name_hdf5'] = subfolder"
      ],
      "execution_count": 9,
      "outputs": []
    },
    {
      "cell_type": "code",
      "metadata": {
        "id": "tLzfCy0wFb-g",
        "colab": {
          "base_uri": "https://localhost:8080/"
        },
        "outputId": "f3ccda94-f1a4-4468-921f-af9af9542987"
      },
      "source": [
        "# set initial values for extraction and evaluation\n",
        "# most of these are specific to our data and will not need to be changed during optimization\n",
        "\n",
        "# overall params about our data\n",
        "\n",
        "fr = 20                 # approximate frame rate of data - CONFIRMED FPS\n",
        "decay_time = .4         # length of transient - CONFIRMED APPROPRIATE FOR OUR INDICATOR GCaMP6f\n",
        "dims = [128, 256]       # dimensions of the FOV in pixels - CONFIRMED\n",
        "dxy = [.29, .29]        # resolution of 1 pixel in um - CONFIRMED BY CARL\n",
        "\n",
        "opts.set('data', {'fnames': fnames,\n",
        "                   'fr': fr,\n",
        "                   'decay_time': decay_time,\n",
        "                   'dims': dims,\n",
        "                   'dxy': dxy\n",
        "                  })\n",
        "\n",
        "\n",
        "# params related to the temporal traces\n",
        "\n",
        "p = 0                   # order of the autoregressive system - 0 from carl's code\n",
        "fudge_factor = 1        # (default is 0.96; Carl's value = 1) -- bias correction factor for discrete time constants\n",
        "ITER = 2                # (default is 2; Carl's value=5) -- block coordinate descent iterations\n",
        "tnb = 1                  # temporal global background components - TUNE\n",
        "\n",
        "opts.set('temporal', {'p': p,\n",
        "                      'fudge_factor': fudge_factor,\n",
        "                      'ITER': ITER#,\n",
        "                      #'nb': tnb\n",
        "                 })\n",
        "\n",
        "# p is also set in the preprocessing step\n",
        "opts.set('preprocess', {'p': p\n",
        "                 })\n",
        "\n",
        "\n",
        "\n",
        "# params related to the FOV and patches for parallel processing\n",
        "\n",
        "is_patches = False      # flag for processing in patches or not - turn on or off - Not used in Matlab\n",
        "\n",
        "if is_patches:          # PROCESS IN PATCHES AND THEN COMBINE \n",
        "    rf = 25             # half size of each patch \n",
        "    stride = 5          # overlap between patches \n",
        "    K = 3               # number of components in each patch\n",
        "    p_patch = p\n",
        "\n",
        "else:                   # PROCESS THE WHOLE FOV AT ONCE\n",
        "    rf = None           # setting these parameters to None\n",
        "    stride = None       # will run CNMF on the whole FOV \n",
        "    K = 30              # number of neurons expected (in the whole FOV) - 40 from Carl's Code, seems to be too many\n",
        "\n",
        "n_processes = 2         # Number of processes to run in parallel, 2 for 2 cores available in Colab\n",
        "\n",
        "opts.set('patch', {'rf': rf,\n",
        "                   'stride': stride,\n",
        "                   'n_processes': n_processes,\n",
        "                   \"K\": K\n",
        "                  })   \n",
        "\n",
        "\n",
        "\n",
        "# initialization params\n",
        "ssub = 3               # spatial downsampling\n",
        "tsub = 1                # temporal downsampling\n",
        "ssub_B = 3              # background spatial downsampling\n",
        "gSig = [5,5]            # radius (half-size) of average neurons (in pixels)\n",
        "tau=0                   # standard deviation of neuron size along x and y - from Carl's code\n",
        "nb = 1                  # number of background components\n",
        "method_init = 'greedy_roi' #python Caiman defaults to greedy_roi, carl's code uses sparse_nmf, but sparse_nmf runs MUCH slower\n",
        "\n",
        "opts.set('init', {'K': K,            # declared above in patch params    \n",
        "                   'tau': tau,      \n",
        "                   'tsub': tsub, \n",
        "                   'ssub': ssub, \n",
        "                   'ssub_B': ssub_B, \n",
        "                   'nb': nb,\n",
        "                   'method_init': method_init\n",
        "                  })\n",
        "\n",
        "# parameters related to merging correlated ROIs\n",
        "merge_thr = 0.95     # merging threshold, max correlation allowed - From Carl's Code\n",
        "\n",
        "opts.set('merging', {'merge_thr': merge_thr\n",
        "                            })\n",
        "\n",
        "\n",
        "#set some spatial params\n",
        "snb = 1                  # spatial global background components\n",
        "\n",
        "opts.set('spatial', {'nb': snb\n",
        "                            })\n",
        "\n",
        "# %% COMPONENT EVALUATION\n",
        "# the components are evaluated in three ways:\n",
        "#   a) the shape of each component must be correlated with the data\n",
        "#   b) a minimum peak SNR is required over the length of a transient\n",
        "#   c) each shape passes a CNN based classifier (this will pick up only neurons\n",
        "#           and filter out active processes)\n",
        "\n",
        "\n",
        "#Not sure if these should be tuned or not\n",
        "\n",
        "min_SNR = 2.5      # peak SNR for accepted components (if above this, acept)\n",
        "SNR_lowest = 1         # minimum SNR for accepted components (if below this, reject)\n",
        "rval_thr = 0.9     # space correlation threshold (if above this, accept)\n",
        "\n",
        "use_cnn = True      # use the CNN classifier affects if 2 below params are used\n",
        "min_cnn_thr = 0.9  # if cnn classifier predicts below this value, reject\n",
        "cnn_lowest = 0.1   # neurons with cnn probability lower than this value are rejected\n",
        "\n",
        "opts.set('quality', {'min_SNR': min_SNR,\n",
        "                     'SNR_lowest': SNR_lowest,\n",
        "                     'rval_thr': rval_thr,\n",
        "                     'use_cnn': use_cnn,\n",
        "                     'min_cnn_thr': min_cnn_thr,\n",
        "                     'cnn_lowest': cnn_lowest})\n",
        "\n",
        "\n",
        "#Manually assign subfolder variable\n",
        "opts.motion['var_name_hdf5'] = subfolder\n",
        "opts.data['var_name_hdf5'] = subfolder\n",
        "\n",
        "\n",
        "\n",
        "#motion correction not used for our parameter tuning. Leaving these params here in case they get used in the future.\n",
        "\n",
        "#%% First setup some parameters for data and motion correction\n",
        "# dataset dependent parameters\n",
        "\n",
        "# ADJUSTED FROM DEFAULTS TO CARL'S PARAMS ON 11/13 (not completely)\n",
        "\n",
        "fr = 20             # imaging rate in frames per second\n",
        "decay_time = 0.4    # length of a typical transient in seconds\n",
        "dxy = (.29, .29)      # spatial resolution in x and y in (um per pixel)\n",
        "max_shift_um = (12., 12.)       # maximum shift in um\n",
        "patch_motion_um = (100., 100.)  # patch size for non-rigid correction in um\n",
        "\n",
        "# motion correction parameters\n",
        "pw_rigid = False       # flag to select rigid vs pw_rigid motion correction\n",
        "# maximum allowed rigid shift in pixels\n",
        "max_shifts = [int(a/b) for a, b in zip(max_shift_um, dxy)]\n",
        "# start a new patch for pw-rigid motion correction every x pixels\n",
        "strides = tuple([int(a/b) for a, b in zip(patch_motion_um, dxy)])\n",
        "# overlap between pathes (size of patch in pixels: strides+overlaps)\n",
        "overlaps = (24, 24)\n",
        "# maximum deviation allowed for patch with respect to rigid shifts\n",
        "max_deviation_rigid = 3\n",
        "\n",
        "opts.set('motion', {\n",
        "    'fnames': fnames,\n",
        "    'fr': fr,\n",
        "    'decay_time': decay_time,\n",
        "    'dxy': dxy,\n",
        "    'pw_rigid': pw_rigid,\n",
        "    'max_shifts': max_shifts,\n",
        "    'strides': strides,\n",
        "    'overlaps': overlaps,\n",
        "    'max_deviation_rigid': max_deviation_rigid,\n",
        "    'border_nan': 'copy'\n",
        "})"
      ],
      "execution_count": 10,
      "outputs": [
        {
          "output_type": "stream",
          "name": "stderr",
          "text": [
            "      111504 [params.py:                 set():972] [70] Changing key fnames in group data from None to []\n",
            "      111507 [params.py:                 set():972] [70] Changing key fr in group data from 30 to 20\n",
            "      111509 [params.py:                 set():972] [70] Changing key dims in group data from None to [128, 256]\n",
            "      111511 [params.py:                 set():972] [70] Changing key dxy in group data from (1, 1) to [0.29, 0.29]\n",
            "      111514 [params.py:                 set():972] [70] Changing key p in group temporal from 2 to 0\n",
            "      111516 [params.py:                 set():972] [70] Changing key fudge_factor in group temporal from 0.96 to 1\n",
            "      111518 [params.py:                 set():972] [70] Changing key p in group preprocess from 2 to 0\n",
            "      111520 [params.py:                 set():972] [70] Changing key n_processes in group patch from 1 to 2\n",
            "      111522 [params.py:                 set():972] [70] Changing key tsub in group init from 2 to 1\n",
            "      111524 [params.py:                 set():972] [70] Changing key ssub in group init from 2 to 3\n",
            "      111525 [params.py:                 set():972] [70] Changing key ssub_B in group init from 2 to 3\n",
            "      111527 [params.py:                 set():972] [70] Changing key merge_thr in group merging from 0.8 to 0.95\n",
            "      111529 [params.py:                 set():972] [70] Changing key SNR_lowest in group quality from 0.5 to 1\n",
            "      111530 [params.py:                 set():972] [70] Changing key rval_thr in group quality from 0.8 to 0.9\n",
            "      111532 [params.py:                 set():972] [70] Changing key max_shifts in group motion from (6, 6) to [41, 41]\n",
            "      111533 [params.py:                 set():972] [70] Changing key strides in group motion from (96, 96) to (344, 344)\n",
            "      111535 [params.py:                 set():972] [70] Changing key overlaps in group motion from (32, 32) to (24, 24)\n"
          ]
        }
      ]
    },
    {
      "cell_type": "markdown",
      "source": [
        "## Seed CNMF with the masks"
      ],
      "metadata": {
        "id": "UEtM1AAmtvYg"
      }
    },
    {
      "cell_type": "code",
      "source": [
        "#Function to run seeded cnmf using masks, then return results\n",
        "\n",
        "def seeded_cnmf(path_to_stack, path_to_masks, opts):\n",
        "  import warnings\n",
        "  warnings.simplefilter(action='ignore', category=FutureWarning)\n",
        "\n",
        "  fnames = [path_to_stack]\n",
        "  opts.set('data', {'fnames': fnames})\n",
        "\n",
        "  try:\n",
        "\n",
        "    #cluster handling\n",
        "    if 'dview' in locals():\n",
        "      cm.stop_server(dview=dview)\n",
        "    dview = cm.cluster.start_server(ncpus=2) #Start a cluster with 2 CPU's (available in colab)\n",
        "\n",
        "\n",
        "    #Read in masks and reformat\n",
        "    g = h5py.File(path_to_masks, 'r')\n",
        "\n",
        "    #transpose the matrix and save to an array A\n",
        "    mask_A = g['bwMaskStack'][:].T\n",
        "\n",
        "    #close the .mat file holding the masks\n",
        "    g.close()\n",
        "\n",
        "    #rearrange the dimensions of masks to match reformatted .h5 movie that has been flipped (not necessary if input movie has not been flipped), \n",
        "                                                                                                                  #but will afect following lines\n",
        "    mask_A = mask_A.transpose(1,0,2)\n",
        "\n",
        "    #reshape to 2D, first dimension is 128*256 (32768), 2nd dimension is the # of ROI's\n",
        "    mask_A = mask_A.reshape((mask_A.shape[1]*mask_A.shape[0]), mask_A.shape[2])\n",
        "\n",
        "    #convert the values from 0/1 to boolean False/True\n",
        "    mask_A = np.array(mask_A, dtype=bool)\n",
        "    print('mask read in and reformatted')\n",
        "\n",
        "    #For seeded CNMF, need to verify certain params\n",
        "    opts.patch['only_init'] = False\n",
        "    opts.data['use_cnn'] = False\n",
        "\n",
        "    print('params adjusted for seeded cnmf')\n",
        "    \n",
        "    #Initialize a new cnmf object and pass in our masks as the \"Ain\" param\n",
        "    #\"Ain\" is A-in, meaning the A matrix holding the spatial footprints of the roi's\n",
        "    cnm_seeded = cnmf.CNMF(n_processes = 2, params=opts, dview=dview, Ain=mask_A)\n",
        "    print('seeded cnmf object initialized')\n",
        "    cnm_seeded.fit_file(motion_correct = False, include_eval=True)\n",
        "    print('seeded cnmf completed')\n",
        "\n",
        "    cm.stop_server(dview=dview)\n",
        "\n",
        "\n",
        "#Comment out whichever you don't want to return and leave the one you do\n",
        "\n",
        "    #return either the whole fit CNMF object(with associated visualizations available)\n",
        "    #return cnm_seeded\n",
        "\n",
        "    #Or just return the spatial and temporal response (A and C matrices) in a dictionary, to be saved and used in our model\n",
        "    return {'stack_name': path_to_stack[:(len(path_to_stack)-4)].split('/')[6], #chops the movie identifier out of the filepath\n",
        "            'spatial': cnm_seeded.estimates.A,\n",
        "            'temporal': cnm_seeded.estimates.C}\n",
        "\n",
        "  except:\n",
        "    print('failed')\n",
        "    cm.stop_server(dview=dview)"
      ],
      "metadata": {
        "id": "htsfa6hetzxG"
      },
      "execution_count": 11,
      "outputs": []
    },
    {
      "cell_type": "code",
      "source": [
        "#manually setting the paths to the example files in the new folder\n",
        "#later we can pass these in with a wrapper function to extract everything in the folders\n",
        "\n",
        "path_to_stack = '../drive/MyDrive/DS6011_Capstone_VisualNeuroscience/Seeded CNMF/Preformatted Movies/EXAMPLE_210728_0_1_stackRaw_mc_tm2_tm9_syt_.h5'\n",
        "path_to_masks = '../drive/MyDrive/DS6011_Capstone_VisualNeuroscience/Seeded CNMF/Seed Masks/EXAMPLE_210728_0_1_manualROIs_tm2_tm9_syt.mat'"
      ],
      "metadata": {
        "id": "Dj6moakNsRot"
      },
      "execution_count": 12,
      "outputs": []
    },
    {
      "cell_type": "code",
      "source": [
        "#Call the function, passing in a string path to the movie, path to masks, and the params object('opts')\n",
        "\n",
        "seeded = seeded_cnmf(path_to_stack = path_to_stack, #from the pairs of files above, could be swapped out for string directly\n",
        "                     path_to_masks = path_to_masks, #same as above\n",
        "                     opts = opts) #params object globally initialized earlier\n",
        "\n",
        "#uncomment this line if returning the full object to visualize\n",
        "#seeded.estimates.nb_view_components(denoised_color = 'red')"
      ],
      "metadata": {
        "colab": {
          "base_uri": "https://localhost:8080/"
        },
        "id": "Do8pyatDvxdE",
        "outputId": "c67b90f1-51b0-439f-d187-f059e830da5e"
      },
      "execution_count": 13,
      "outputs": [
        {
          "output_type": "stream",
          "name": "stderr",
          "text": [
            "      111822 [params.py:                 set():972] [70] Changing key fnames in group data from [] to ['../drive/MyDrive/DS6011_Capstone_VisualNeuroscience/Seeded CNMF/Preformatted Movies/EXAMPLE_210728_0_1_stackRaw_mc_tm2_tm9_syt_.h5']\n",
            "      111824 [cluster.py:        start_server():219] [70] Starting cluster...\n"
          ]
        },
        {
          "output_type": "stream",
          "name": "stdout",
          "text": [
            "Waiting for connection file: ~/.ipython/profile_default/security/ipcontroller-client.json\n"
          ]
        },
        {
          "output_type": "stream",
          "name": "stderr",
          "text": [
            "      115377 [selector_events.py:            __init__():58] [70] Using selector: EpollSelector\n",
            "      115384 [selector_events.py:            __init__():58] [70] Using selector: EpollSelector\n"
          ]
        },
        {
          "output_type": "stream",
          "name": "stdout",
          "text": [
            ".............."
          ]
        },
        {
          "output_type": "stream",
          "name": "stderr",
          "text": [
            "      123975 [cluster.py:        start_server():239] [70] Making sure everything is up and running\n",
            "      125031 [mmapping.py:         save_memmap():439] [70] ../drive/MyDrive/DS6011_Capstone_VisualNeuroscience/Seeded CNMF/Preformatted Movies/EXAMPLE_210728_0_1_stackRaw_mc_tm2_tm9_syt_.h5\n"
          ]
        },
        {
          "output_type": "stream",
          "name": "stdout",
          "text": [
            "mask read in and reformatted\n",
            "params adjusted for seeded cnmf\n",
            "seeded cnmf object initialized\n"
          ]
        },
        {
          "output_type": "stream",
          "name": "stderr",
          "text": [
            "      156162 [mmapping.py:         save_memmap():514] [70] SAVING WITH numpy.tofile()\n",
            "      161178 [params.py:                 set():972] [70] Changing key init_batch in group online from 200 to 5519\n",
            "      161179 [cnmf.py:                 fit():470] [70] (5519, 128, 256)\n",
            "      161181 [cnmf.py:                 fit():487] [70] Using 2 processes\n",
            "      161196 [params.py:                 set():972] [70] Changing key n_pixels_per_process in group preprocess from None to 16384\n",
            "      161210 [params.py:                 set():972] [70] Changing key n_pixels_per_process in group spatial from None to 16384\n",
            "      161220 [cnmf.py:                 fit():498] [70] using 16384 pixels per process\n",
            "      161228 [cnmf.py:                 fit():499] [70] using 5000 block_size_spat\n",
            "      161231 [cnmf.py:                 fit():500] [70] using 5000 block_size_temp\n",
            "      161238 [cnmf.py:                 fit():503] [70] preprocessing ...\n",
            "      161249 [pre_processing.py:interpolate_missing_data():53] [70] Checking for missing data entries (NaN)\n",
            "      175847 [cnmf.py:                 fit():543] [70] update spatial ...\n",
            "      175861 [spatial.py:update_spatial_components():185] [70] Computing support of spatial components\n"
          ]
        },
        {
          "output_type": "stream",
          "name": "stdout",
          "text": [
            "spatial support for each components given by the user\n"
          ]
        },
        {
          "output_type": "stream",
          "name": "stderr",
          "text": [
            "      176773 [spatial.py:update_spatial_components():214] [70] Memory mapping\n",
            "      176776 [spatial.py:update_spatial_components():220] [70] Updating Spatial Components using lasso lars\n",
            "      181759 [spatial.py:update_spatial_components():253] [70] thresholding components\n",
            "      181905 [spatial.py:update_spatial_components():276] [70] Computing residuals\n",
            "      181913 [mmapping.py:parallel_dot_product():555] [70] parallel dot product block size: 1724\n",
            "      181923 [mmapping.py:parallel_dot_product():570] [70] Start product\n",
            "      182133 [mmapping.py:    dot_place_holder():623] [70] 1723\n",
            "      182326 [mmapping.py:    dot_place_holder():623] [70] 3447\n",
            "      182538 [mmapping.py:    dot_place_holder():623] [70] 5171\n",
            "      182702 [mmapping.py:    dot_place_holder():623] [70] 6895\n",
            "      182828 [mmapping.py:    dot_place_holder():623] [70] 8619\n",
            "      182962 [mmapping.py:    dot_place_holder():623] [70] 10343\n",
            "      183096 [mmapping.py:    dot_place_holder():623] [70] 12067\n",
            "      183236 [mmapping.py:    dot_place_holder():623] [70] 13791\n",
            "      183368 [mmapping.py:    dot_place_holder():623] [70] 15515\n",
            "      183517 [mmapping.py:    dot_place_holder():623] [70] 17239\n",
            "      183637 [mmapping.py:    dot_place_holder():623] [70] 18963\n",
            "      183744 [mmapping.py:    dot_place_holder():623] [70] 20687\n",
            "      183862 [mmapping.py:    dot_place_holder():623] [70] 22411\n",
            "      183969 [mmapping.py:    dot_place_holder():623] [70] 24135\n",
            "      184085 [mmapping.py:    dot_place_holder():623] [70] 25859\n",
            "      184197 [mmapping.py:    dot_place_holder():623] [70] 27583\n",
            "      184305 [mmapping.py:    dot_place_holder():623] [70] 29307\n",
            "      184420 [mmapping.py:    dot_place_holder():623] [70] 31031\n",
            "      184542 [mmapping.py:    dot_place_holder():623] [70] 32755\n",
            "      184652 [mmapping.py:    dot_place_holder():623] [70] 32767\n",
            "      184679 [spatial.py:update_spatial_components():304] [70] Updating done in 8s\n",
            "      184686 [spatial.py:update_spatial_components():307] [70] Removing created tempfiles\n",
            "      184702 [cnmf.py:                 fit():546] [70] update temporal ...\n",
            "      184720 [temporal.py:update_temporal_components():207] [70] Generating residuals\n",
            "      184734 [mmapping.py:parallel_dot_product():555] [70] parallel dot product block size: 1724\n",
            "      184741 [mmapping.py:parallel_dot_product():570] [70] Start product\n",
            "      184747 [mmapping.py:parallel_dot_product():581] [70] Transposing\n",
            "      184755 [mmapping.py:    dot_place_holder():623] [70] 1723\n",
            "      184882 [mmapping.py:    dot_place_holder():623] [70] 3447\n",
            "      184998 [mmapping.py:    dot_place_holder():623] [70] 5171\n",
            "      185113 [mmapping.py:    dot_place_holder():623] [70] 6895\n",
            "      185223 [mmapping.py:    dot_place_holder():623] [70] 8619\n",
            "      185348 [mmapping.py:    dot_place_holder():623] [70] 10343\n",
            "      185466 [mmapping.py:    dot_place_holder():623] [70] 12067\n",
            "      185600 [mmapping.py:    dot_place_holder():623] [70] 13791\n",
            "      185738 [mmapping.py:    dot_place_holder():623] [70] 15515\n",
            "      185882 [mmapping.py:    dot_place_holder():623] [70] 17239\n",
            "      186014 [mmapping.py:    dot_place_holder():623] [70] 18963\n",
            "      186160 [mmapping.py:    dot_place_holder():623] [70] 20687\n",
            "      186299 [mmapping.py:    dot_place_holder():623] [70] 22411\n",
            "      186446 [mmapping.py:    dot_place_holder():623] [70] 24135\n",
            "      186560 [mmapping.py:    dot_place_holder():623] [70] 25859\n",
            "      186692 [mmapping.py:    dot_place_holder():623] [70] 27583\n",
            "      186821 [mmapping.py:    dot_place_holder():623] [70] 29307\n",
            "      186977 [mmapping.py:    dot_place_holder():623] [70] 31031\n",
            "      187123 [mmapping.py:    dot_place_holder():623] [70] 32755\n",
            "      187251 [mmapping.py:    dot_place_holder():623] [70] 32767\n",
            "      187284 [temporal.py:update_temporal_components():221] [70] entering the deconvolution \n",
            "      187369 [temporal.py:    update_iteration():391] [70] 12 out of total 12 temporal components updated\n",
            "      187470 [temporal.py:    update_iteration():391] [70] 12 out of total 12 temporal components updated\n",
            "      187483 [cnmf.py:                 fit():557] [70] refinement...\n",
            "      187490 [cnmf.py:                 fit():559] [70] merging components ...\n",
            "      187514 [merging.py:    merge_components():296] [70] No more components merged!\n",
            "      187517 [cnmf.py:                 fit():562] [70] Updating spatial ...\n",
            "      187522 [spatial.py:update_spatial_components():185] [70] Computing support of spatial components\n",
            "      188247 [spatial.py:update_spatial_components():214] [70] Memory mapping\n",
            "      188249 [spatial.py:update_spatial_components():220] [70] Updating Spatial Components using lasso lars\n",
            "      199810 [spatial.py:update_spatial_components():253] [70] thresholding components\n",
            "      200070 [spatial.py:update_spatial_components():276] [70] Computing residuals\n",
            "      200073 [mmapping.py:parallel_dot_product():555] [70] parallel dot product block size: 1724\n",
            "      200077 [mmapping.py:parallel_dot_product():570] [70] Start product\n",
            "      200343 [mmapping.py:    dot_place_holder():623] [70] 1723\n",
            "      200439 [mmapping.py:    dot_place_holder():623] [70] 3447\n",
            "      200559 [mmapping.py:    dot_place_holder():623] [70] 5171\n",
            "      200670 [mmapping.py:    dot_place_holder():623] [70] 6895\n",
            "      200785 [mmapping.py:    dot_place_holder():623] [70] 8619\n",
            "      200897 [mmapping.py:    dot_place_holder():623] [70] 10343\n",
            "      201018 [mmapping.py:    dot_place_holder():623] [70] 12067\n",
            "      201141 [mmapping.py:    dot_place_holder():623] [70] 13791\n",
            "      201248 [mmapping.py:    dot_place_holder():623] [70] 15515\n",
            "      201362 [mmapping.py:    dot_place_holder():623] [70] 17239\n",
            "      201482 [mmapping.py:    dot_place_holder():623] [70] 18963\n",
            "      201604 [mmapping.py:    dot_place_holder():623] [70] 20687\n",
            "      201721 [mmapping.py:    dot_place_holder():623] [70] 22411\n",
            "      201835 [mmapping.py:    dot_place_holder():623] [70] 24135\n",
            "      201956 [mmapping.py:    dot_place_holder():623] [70] 25859\n",
            "      202096 [mmapping.py:    dot_place_holder():623] [70] 27583\n",
            "      202221 [mmapping.py:    dot_place_holder():623] [70] 29307\n",
            "      202337 [mmapping.py:    dot_place_holder():623] [70] 31031\n",
            "      202452 [mmapping.py:    dot_place_holder():623] [70] 32755\n",
            "      202568 [mmapping.py:    dot_place_holder():623] [70] 32767\n",
            "      202588 [spatial.py:update_spatial_components():304] [70] Updating done in 15s\n",
            "      202592 [spatial.py:update_spatial_components():307] [70] Removing created tempfiles\n",
            "      202608 [cnmf.py:                 fit():567] [70] update temporal ...\n",
            "      202622 [temporal.py:update_temporal_components():207] [70] Generating residuals\n",
            "      202629 [mmapping.py:parallel_dot_product():555] [70] parallel dot product block size: 1724\n",
            "      202635 [mmapping.py:parallel_dot_product():570] [70] Start product\n",
            "      202638 [mmapping.py:parallel_dot_product():581] [70] Transposing\n",
            "      202646 [mmapping.py:    dot_place_holder():623] [70] 1723\n",
            "      202763 [mmapping.py:    dot_place_holder():623] [70] 3447\n",
            "      202853 [mmapping.py:    dot_place_holder():623] [70] 5171\n",
            "      202942 [mmapping.py:    dot_place_holder():623] [70] 6895\n",
            "      203031 [mmapping.py:    dot_place_holder():623] [70] 8619\n",
            "      203179 [mmapping.py:    dot_place_holder():623] [70] 10343\n",
            "      203291 [mmapping.py:    dot_place_holder():623] [70] 12067\n",
            "      203404 [mmapping.py:    dot_place_holder():623] [70] 13791\n",
            "      203535 [mmapping.py:    dot_place_holder():623] [70] 15515\n",
            "      203664 [mmapping.py:    dot_place_holder():623] [70] 17239\n",
            "      203795 [mmapping.py:    dot_place_holder():623] [70] 18963\n",
            "      203919 [mmapping.py:    dot_place_holder():623] [70] 20687\n",
            "      204029 [mmapping.py:    dot_place_holder():623] [70] 22411\n",
            "      204179 [mmapping.py:    dot_place_holder():623] [70] 24135\n",
            "      204301 [mmapping.py:    dot_place_holder():623] [70] 25859\n",
            "      204418 [mmapping.py:    dot_place_holder():623] [70] 27583\n",
            "      204516 [mmapping.py:    dot_place_holder():623] [70] 29307\n",
            "      204636 [mmapping.py:    dot_place_holder():623] [70] 31031\n",
            "      204762 [mmapping.py:    dot_place_holder():623] [70] 32755\n",
            "      204895 [mmapping.py:    dot_place_holder():623] [70] 32767\n",
            "      204918 [temporal.py:update_temporal_components():221] [70] entering the deconvolution \n",
            "      204955 [temporal.py:    update_iteration():391] [70] 9 out of total 12 temporal components updated\n",
            "      204971 [temporal.py:    update_iteration():391] [70] 12 out of total 12 temporal components updated\n",
            "      205027 [temporal.py:    update_iteration():391] [70] 9 out of total 12 temporal components updated\n",
            "      205056 [temporal.py:    update_iteration():391] [70] 12 out of total 12 temporal components updated\n",
            "      207700 [utils.py:recursively_save_dict_contents_to_group():501] [70] Saving dims\n",
            "      207705 [utils.py:recursively_save_dict_contents_to_group():483] [70] Key empty_merged is not saved.\n",
            "      207718 [utils.py:recursively_save_dict_contents_to_group():496] [70] Saving skip_refinement\n",
            "      207722 [utils.py:recursively_save_dict_contents_to_group():496] [70] Saving remove_very_bad_comps\n",
            "      207732 [utils.py:recursively_save_dict_contents_to_group():501] [70] Saving fnames\n",
            "      207737 [utils.py:recursively_save_dict_contents_to_group():501] [70] Saving dims\n",
            "      207752 [utils.py:recursively_save_dict_contents_to_group():496] [70] Saving fr\n",
            "      207754 [utils.py:recursively_save_dict_contents_to_group():496] [70] Saving decay_time\n",
            "      207764 [utils.py:recursively_save_dict_contents_to_group():501] [70] Saving dxy\n",
            "      207775 [utils.py:recursively_save_dict_contents_to_group():496] [70] Saving var_name_hdf5\n",
            "      207780 [utils.py:recursively_save_dict_contents_to_group():496] [70] Saving caiman_version\n",
            "      207798 [utils.py:recursively_save_dict_contents_to_group():496] [70] Saving last_commit\n",
            "      207803 [utils.py:recursively_save_dict_contents_to_group():496] [70] Saving use_cnn\n",
            "      207812 [utils.py:recursively_save_dict_contents_to_group():496] [70] Saving border_pix\n",
            "      207820 [utils.py:recursively_save_dict_contents_to_group():496] [70] Saving del_duplicates\n",
            "      207824 [utils.py:recursively_save_dict_contents_to_group():496] [70] Saving in_memory\n",
            "      207828 [utils.py:recursively_save_dict_contents_to_group():496] [70] Saving low_rank_background\n",
            "      207838 [utils.py:recursively_save_dict_contents_to_group():496] [70] Saving memory_fact\n",
            "      207841 [utils.py:recursively_save_dict_contents_to_group():496] [70] Saving n_processes\n",
            "      207846 [utils.py:recursively_save_dict_contents_to_group():496] [70] Saving nb_patch\n",
            "      207851 [utils.py:recursively_save_dict_contents_to_group():496] [70] Saving only_init\n",
            "      207862 [utils.py:recursively_save_dict_contents_to_group():496] [70] Saving p_patch\n",
            "      207867 [utils.py:recursively_save_dict_contents_to_group():496] [70] Saving remove_very_bad_comps\n",
            "      207870 [utils.py:recursively_save_dict_contents_to_group():496] [70] Saving skip_refinement\n",
            "      207875 [utils.py:recursively_save_dict_contents_to_group():496] [70] Saving p_ssub\n",
            "      207883 [utils.py:recursively_save_dict_contents_to_group():496] [70] Saving p_tsub\n",
            "      207888 [utils.py:recursively_save_dict_contents_to_group():496] [70] Saving check_nan\n",
            "      207899 [utils.py:recursively_save_dict_contents_to_group():496] [70] Saving compute_g\n",
            "      207903 [utils.py:recursively_save_dict_contents_to_group():496] [70] Saving include_noise\n",
            "      207908 [utils.py:recursively_save_dict_contents_to_group():496] [70] Saving lags\n",
            "      207916 [utils.py:recursively_save_dict_contents_to_group():496] [70] Saving max_num_samples_fft\n",
            "      207920 [utils.py:recursively_save_dict_contents_to_group():496] [70] Saving n_pixels_per_process\n",
            "      207925 [utils.py:recursively_save_dict_contents_to_group():496] [70] Saving noise_method\n",
            "      207928 [utils.py:recursively_save_dict_contents_to_group():501] [70] Saving noise_range\n",
            "      207937 [utils.py:recursively_save_dict_contents_to_group():496] [70] Saving p\n",
            "      207944 [utils.py:recursively_save_dict_contents_to_group():496] [70] Saving K\n",
            "      207951 [utils.py:recursively_save_dict_contents_to_group():496] [70] Saving SC_kernel\n",
            "      207955 [utils.py:recursively_save_dict_contents_to_group():496] [70] Saving SC_sigma\n",
            "      207958 [utils.py:recursively_save_dict_contents_to_group():496] [70] Saving SC_thr\n",
            "      207961 [utils.py:recursively_save_dict_contents_to_group():496] [70] Saving SC_normalize\n",
            "      207965 [utils.py:recursively_save_dict_contents_to_group():496] [70] Saving SC_use_NN\n",
            "      207967 [utils.py:recursively_save_dict_contents_to_group():496] [70] Saving SC_nnn\n",
            "      207971 [utils.py:recursively_save_dict_contents_to_group():496] [70] Saving alpha_snmf\n",
            "      207974 [utils.py:recursively_save_dict_contents_to_group():496] [70] Saving center_psf\n",
            "      207976 [utils.py:recursively_save_dict_contents_to_group():501] [70] Saving gSig\n",
            "      207979 [utils.py:recursively_save_dict_contents_to_group():501] [70] Saving gSiz\n",
            "      207983 [utils.py:recursively_save_dict_contents_to_group():496] [70] Saving init_iter\n",
            "      207990 [utils.py:recursively_save_dict_contents_to_group():496] [70] Saving lambda_gnmf\n",
            "      207993 [utils.py:recursively_save_dict_contents_to_group():496] [70] Saving maxIter\n",
            "      207996 [utils.py:recursively_save_dict_contents_to_group():496] [70] Saving max_iter_snmf\n",
            "      208000 [utils.py:recursively_save_dict_contents_to_group():496] [70] Saving method_init\n",
            "      208003 [utils.py:recursively_save_dict_contents_to_group():496] [70] Saving min_corr\n",
            "      208005 [utils.py:recursively_save_dict_contents_to_group():496] [70] Saving min_pnr\n",
            "      208008 [utils.py:recursively_save_dict_contents_to_group():496] [70] Saving nIter\n",
            "      208011 [utils.py:recursively_save_dict_contents_to_group():496] [70] Saving nb\n",
            "      208013 [utils.py:recursively_save_dict_contents_to_group():496] [70] Saving normalize_init\n",
            "      208018 [utils.py:recursively_save_dict_contents_to_group():496] [70] Saving perc_baseline_snmf\n",
            "      208025 [utils.py:recursively_save_dict_contents_to_group():496] [70] Saving ring_size_factor\n",
            "      208030 [utils.py:recursively_save_dict_contents_to_group():496] [70] Saving rolling_length\n",
            "      208038 [utils.py:recursively_save_dict_contents_to_group():496] [70] Saving rolling_sum\n",
            "      208043 [utils.py:recursively_save_dict_contents_to_group():496] [70] Saving seed_method\n",
            "      208046 [utils.py:recursively_save_dict_contents_to_group():501] [70] Saving sigma_smooth_snmf\n",
            "      208055 [utils.py:recursively_save_dict_contents_to_group():496] [70] Saving ssub\n",
            "      208064 [utils.py:recursively_save_dict_contents_to_group():496] [70] Saving ssub_B\n",
            "      208072 [utils.py:recursively_save_dict_contents_to_group():496] [70] Saving tsub\n",
            "      208088 [utils.py:recursively_save_dict_contents_to_group():496] [70] Saving block_size_spat\n",
            "      208092 [utils.py:recursively_save_dict_contents_to_group():496] [70] Saving dist\n",
            "      208094 [utils.py:recursively_save_dict_contents_to_group():501] [70] Saving expandCore\n",
            "      208097 [utils.py:recursively_save_dict_contents_to_group():496] [70] Saving extract_cc\n",
            "      208101 [utils.py:recursively_save_dict_contents_to_group():496] [70] Saving maxthr\n",
            "      208105 [utils.py:recursively_save_dict_contents_to_group():496] [70] Saving method_exp\n",
            "      208111 [utils.py:recursively_save_dict_contents_to_group():496] [70] Saving method_ls\n",
            "      208114 [utils.py:recursively_save_dict_contents_to_group():496] [70] Saving n_pixels_per_process\n",
            "      208118 [utils.py:recursively_save_dict_contents_to_group():496] [70] Saving nb\n",
            "      208121 [utils.py:recursively_save_dict_contents_to_group():496] [70] Saving normalize_yyt_one\n",
            "      208123 [utils.py:recursively_save_dict_contents_to_group():496] [70] Saving nrgthr\n",
            "      208126 [utils.py:recursively_save_dict_contents_to_group():496] [70] Saving num_blocks_per_run_spat\n",
            "      208131 [utils.py:recursively_save_dict_contents_to_group():496] [70] Saving thr_method\n",
            "      208135 [utils.py:recursively_save_dict_contents_to_group():496] [70] Saving update_background_components\n",
            "      208138 [utils.py:recursively_save_dict_contents_to_group():496] [70] Saving ITER\n",
            "      208141 [utils.py:recursively_save_dict_contents_to_group():496] [70] Saving bas_nonneg\n",
            "      208145 [utils.py:recursively_save_dict_contents_to_group():496] [70] Saving block_size_temp\n",
            "      208148 [utils.py:recursively_save_dict_contents_to_group():496] [70] Saving fudge_factor\n",
            "      208151 [utils.py:recursively_save_dict_contents_to_group():496] [70] Saving lags\n",
            "      208155 [utils.py:recursively_save_dict_contents_to_group():496] [70] Saving optimize_g\n",
            "      208159 [utils.py:recursively_save_dict_contents_to_group():496] [70] Saving memory_efficient\n",
            "      208163 [utils.py:recursively_save_dict_contents_to_group():496] [70] Saving method_deconvolution\n",
            "      208166 [utils.py:recursively_save_dict_contents_to_group():496] [70] Saving nb\n",
            "      208170 [utils.py:recursively_save_dict_contents_to_group():496] [70] Saving noise_method\n",
            "      208174 [utils.py:recursively_save_dict_contents_to_group():501] [70] Saving noise_range\n",
            "      208177 [utils.py:recursively_save_dict_contents_to_group():496] [70] Saving num_blocks_per_run_temp\n",
            "      208182 [utils.py:recursively_save_dict_contents_to_group():496] [70] Saving p\n",
            "      208189 [utils.py:recursively_save_dict_contents_to_group():501] [70] Saving solvers\n",
            "      208202 [utils.py:recursively_save_dict_contents_to_group():496] [70] Saving verbosity\n",
            "      208212 [utils.py:recursively_save_dict_contents_to_group():496] [70] Saving do_merge\n",
            "      208224 [utils.py:recursively_save_dict_contents_to_group():496] [70] Saving merge_thr\n",
            "      208234 [utils.py:recursively_save_dict_contents_to_group():496] [70] Saving merge_parallel\n",
            "      208243 [utils.py:recursively_save_dict_contents_to_group():496] [70] Saving SNR_lowest\n",
            "      208250 [utils.py:recursively_save_dict_contents_to_group():496] [70] Saving cnn_lowest\n",
            "      208254 [utils.py:recursively_save_dict_contents_to_group():496] [70] Saving min_SNR\n",
            "      208262 [utils.py:recursively_save_dict_contents_to_group():496] [70] Saving min_cnn_thr\n",
            "      208269 [utils.py:recursively_save_dict_contents_to_group():496] [70] Saving rval_lowest\n",
            "      208276 [utils.py:recursively_save_dict_contents_to_group():496] [70] Saving rval_thr\n",
            "      208279 [utils.py:recursively_save_dict_contents_to_group():496] [70] Saving use_cnn\n",
            "      208284 [utils.py:recursively_save_dict_contents_to_group():496] [70] Saving use_ecc\n",
            "      208290 [utils.py:recursively_save_dict_contents_to_group():496] [70] Saving max_ecc\n",
            "      208297 [utils.py:recursively_save_dict_contents_to_group():496] [70] Saving N_samples_exceptionality\n",
            "      208310 [utils.py:recursively_save_dict_contents_to_group():496] [70] Saving batch_update_suff_stat\n",
            "      208315 [utils.py:recursively_save_dict_contents_to_group():496] [70] Saving dist_shape_update\n",
            "      208321 [utils.py:recursively_save_dict_contents_to_group():496] [70] Saving ds_factor\n",
            "      208327 [utils.py:recursively_save_dict_contents_to_group():496] [70] Saving epochs\n",
            "      208333 [utils.py:recursively_save_dict_contents_to_group():496] [70] Saving expected_comps\n",
            "      208341 [utils.py:recursively_save_dict_contents_to_group():496] [70] Saving full_XXt\n",
            "      208356 [utils.py:recursively_save_dict_contents_to_group():496] [70] Saving init_batch\n",
            "      208360 [utils.py:recursively_save_dict_contents_to_group():496] [70] Saving init_method\n",
            "      208369 [utils.py:recursively_save_dict_contents_to_group():496] [70] Saving iters_shape\n",
            "      208379 [utils.py:recursively_save_dict_contents_to_group():496] [70] Saving max_comp_update_shape\n",
            "      208390 [utils.py:recursively_save_dict_contents_to_group():496] [70] Saving max_num_added\n",
            "      208397 [utils.py:recursively_save_dict_contents_to_group():496] [70] Saving max_shifts_online\n",
            "      208411 [utils.py:recursively_save_dict_contents_to_group():496] [70] Saving min_SNR\n",
            "      208422 [utils.py:recursively_save_dict_contents_to_group():496] [70] Saving min_num_trial\n",
            "      208427 [utils.py:recursively_save_dict_contents_to_group():496] [70] Saving minibatch_shape\n",
            "      208431 [utils.py:recursively_save_dict_contents_to_group():496] [70] Saving minibatch_suff_stat\n",
            "      208437 [utils.py:recursively_save_dict_contents_to_group():496] [70] Saving motion_correct\n",
            "      208443 [utils.py:recursively_save_dict_contents_to_group():496] [70] Saving movie_name_online\n",
            "      208457 [utils.py:recursively_save_dict_contents_to_group():496] [70] Saving normalize\n",
            "      208463 [utils.py:recursively_save_dict_contents_to_group():496] [70] Saving n_refit\n",
            "      208468 [utils.py:recursively_save_dict_contents_to_group():496] [70] Saving num_times_comp_updated\n",
            "      208478 [utils.py:recursively_save_dict_contents_to_group():496] [70] Saving opencv_codec\n",
            "      208490 [utils.py:recursively_save_dict_contents_to_group():496] [70] Saving path_to_model\n",
            "      208497 [utils.py:recursively_save_dict_contents_to_group():496] [70] Saving ring_CNN\n",
            "      208503 [utils.py:recursively_save_dict_contents_to_group():496] [70] Saving rval_thr\n",
            "      208571 [utils.py:recursively_save_dict_contents_to_group():496] [70] Saving save_online_movie\n",
            "      208580 [utils.py:recursively_save_dict_contents_to_group():496] [70] Saving show_movie\n",
            "      208584 [utils.py:recursively_save_dict_contents_to_group():496] [70] Saving simultaneously\n",
            "      208595 [utils.py:recursively_save_dict_contents_to_group():496] [70] Saving sniper_mode\n",
            "      208604 [utils.py:recursively_save_dict_contents_to_group():496] [70] Saving stop_detection\n",
            "      208614 [utils.py:recursively_save_dict_contents_to_group():496] [70] Saving test_both\n",
            "      208618 [utils.py:recursively_save_dict_contents_to_group():496] [70] Saving thresh_CNN_noisy\n",
            "      208621 [utils.py:recursively_save_dict_contents_to_group():496] [70] Saving thresh_fitness_delta\n",
            "      208627 [utils.py:recursively_save_dict_contents_to_group():496] [70] Saving thresh_fitness_raw\n",
            "      208630 [utils.py:recursively_save_dict_contents_to_group():496] [70] Saving thresh_overlap\n",
            "      208634 [utils.py:recursively_save_dict_contents_to_group():496] [70] Saving update_freq\n",
            "      208640 [utils.py:recursively_save_dict_contents_to_group():496] [70] Saving update_num_comps\n",
            "      208643 [utils.py:recursively_save_dict_contents_to_group():496] [70] Saving use_corr_img\n",
            "      208661 [utils.py:recursively_save_dict_contents_to_group():496] [70] Saving use_dense\n",
            "      208670 [utils.py:recursively_save_dict_contents_to_group():496] [70] Saving use_peak_max\n",
            "      208691 [utils.py:recursively_save_dict_contents_to_group():496] [70] Saving W_update_factor\n",
            "      208698 [utils.py:recursively_save_dict_contents_to_group():496] [70] Saving border_nan\n",
            "      208712 [utils.py:recursively_save_dict_contents_to_group():496] [70] Saving is3D\n",
            "      208718 [utils.py:recursively_save_dict_contents_to_group():496] [70] Saving max_deviation_rigid\n",
            "      208720 [utils.py:recursively_save_dict_contents_to_group():501] [70] Saving max_shifts\n",
            "      208738 [utils.py:recursively_save_dict_contents_to_group():496] [70] Saving niter_rig\n",
            "      208740 [utils.py:recursively_save_dict_contents_to_group():496] [70] Saving nonneg_movie\n",
            "      208743 [utils.py:recursively_save_dict_contents_to_group():496] [70] Saving num_frames_split\n",
            "      208760 [utils.py:recursively_save_dict_contents_to_group():501] [70] Saving overlaps\n",
            "      208763 [utils.py:recursively_save_dict_contents_to_group():496] [70] Saving pw_rigid\n",
            "      208771 [utils.py:recursively_save_dict_contents_to_group():496] [70] Saving shifts_opencv\n",
            "      208775 [utils.py:recursively_save_dict_contents_to_group():496] [70] Saving splits_els\n",
            "      208782 [utils.py:recursively_save_dict_contents_to_group():496] [70] Saving splits_rig\n",
            "      208784 [utils.py:recursively_save_dict_contents_to_group():501] [70] Saving strides\n",
            "      208791 [utils.py:recursively_save_dict_contents_to_group():496] [70] Saving upsample_factor_grid\n",
            "      208800 [utils.py:recursively_save_dict_contents_to_group():496] [70] Saving use_cuda\n",
            "      208805 [utils.py:recursively_save_dict_contents_to_group():501] [70] Saving indices\n",
            "      208816 [utils.py:recursively_save_dict_contents_to_group():496] [70] Saving var_name_hdf5\n",
            "      208829 [utils.py:recursively_save_dict_contents_to_group():496] [70] Saving n_channels\n",
            "      208845 [utils.py:recursively_save_dict_contents_to_group():496] [70] Saving use_bias\n",
            "      208852 [utils.py:recursively_save_dict_contents_to_group():496] [70] Saving use_add\n",
            "      208860 [utils.py:recursively_save_dict_contents_to_group():496] [70] Saving pct\n",
            "      208865 [utils.py:recursively_save_dict_contents_to_group():496] [70] Saving patience\n",
            "      208874 [utils.py:recursively_save_dict_contents_to_group():496] [70] Saving max_epochs\n",
            "      208880 [utils.py:recursively_save_dict_contents_to_group():496] [70] Saving width\n",
            "      208887 [utils.py:recursively_save_dict_contents_to_group():496] [70] Saving loss_fn\n",
            "      208893 [utils.py:recursively_save_dict_contents_to_group():496] [70] Saving lr\n",
            "      208900 [utils.py:recursively_save_dict_contents_to_group():496] [70] Saving remove_activity\n",
            "      208912 [utils.py:recursively_save_dict_contents_to_group():496] [70] Saving reuse_model\n",
            "      208914 [utils.py:recursively_save_dict_contents_to_group():513] [70] A is sparse ****\n",
            "      208920 [utils.py:recursively_save_dict_contents_to_group():501] [70] Saving C\n",
            "      208943 [utils.py:recursively_save_dict_contents_to_group():501] [70] Saving f\n",
            "      208947 [utils.py:recursively_save_dict_contents_to_group():501] [70] Saving b\n",
            "      208955 [utils.py:recursively_save_dict_contents_to_group():501] [70] Saving R\n",
            "      208967 [utils.py:recursively_save_dict_contents_to_group():501] [70] Saving YrA\n",
            "      208983 [utils.py:recursively_save_dict_contents_to_group():501] [70] Saving S\n",
            "      208999 [utils.py:recursively_save_dict_contents_to_group():501] [70] Saving sn\n",
            "      209007 [utils.py:recursively_save_dict_contents_to_group():473] [70] g is an object type\n",
            "      209011 [utils.py:recursively_save_dict_contents_to_group():501] [70] Saving g\n",
            "      209013 [utils.py:recursively_save_dict_contents_to_group():501] [70] Saving bl\n",
            "      209016 [utils.py:recursively_save_dict_contents_to_group():501] [70] Saving c1\n",
            "      209019 [utils.py:recursively_save_dict_contents_to_group():501] [70] Saving neurons_sn\n",
            "      209023 [utils.py:recursively_save_dict_contents_to_group():501] [70] Saving lam\n",
            "      209027 [utils.py:recursively_save_dict_contents_to_group():483] [70] Key merged_ROIs is not saved.\n",
            "      209031 [utils.py:recursively_save_dict_contents_to_group():483] [70] Key coordinates is not saved.\n",
            "      209072 [utils.py:recursively_save_dict_contents_to_group():483] [70] Key groups is not saved.\n",
            "      209076 [utils.py:recursively_save_dict_contents_to_group():501] [70] Saving dims\n",
            "      209083 [utils.py:recursively_save_dict_contents_to_group():501] [70] Saving shifts\n",
            "      209092 [utils.py:recursively_save_dict_contents_to_group():496] [70] Saving nr\n",
            "      209100 [utils.py:recursively_save_dict_contents_to_group():496] [70] Saving mmap_file\n",
            "      209128 [cnmf.py:                 fit():470] [70] (5519, 128, 256)\n",
            "      209134 [cnmf.py:                 fit():487] [70] Using 2 processes\n",
            "      209137 [cnmf.py:                 fit():498] [70] using 16384 pixels per process\n",
            "      209139 [cnmf.py:                 fit():499] [70] using 5000 block_size_spat\n",
            "      209140 [cnmf.py:                 fit():500] [70] using 5000 block_size_temp\n",
            "      209142 [cnmf.py:                 fit():503] [70] preprocessing ...\n",
            "      209144 [pre_processing.py:interpolate_missing_data():53] [70] Checking for missing data entries (NaN)\n",
            "      215868 [cnmf.py:                 fit():543] [70] update spatial ...\n",
            "      215870 [spatial.py:update_spatial_components():185] [70] Computing support of spatial components\n",
            "      216750 [spatial.py:update_spatial_components():214] [70] Memory mapping\n",
            "      216758 [spatial.py:update_spatial_components():220] [70] Updating Spatial Components using lasso lars\n",
            "      222455 [spatial.py:update_spatial_components():253] [70] thresholding components\n",
            "      222528 [spatial.py:update_spatial_components():276] [70] Computing residuals\n",
            "      222530 [mmapping.py:parallel_dot_product():555] [70] parallel dot product block size: 1724\n",
            "      222535 [mmapping.py:parallel_dot_product():570] [70] Start product\n",
            "      222643 [mmapping.py:    dot_place_holder():623] [70] 1723\n",
            "      222709 [mmapping.py:    dot_place_holder():623] [70] 3447\n",
            "      222791 [mmapping.py:    dot_place_holder():623] [70] 5171\n",
            "      222864 [mmapping.py:    dot_place_holder():623] [70] 6895\n",
            "      222940 [mmapping.py:    dot_place_holder():623] [70] 8619\n",
            "      223014 [mmapping.py:    dot_place_holder():623] [70] 10343\n",
            "      223098 [mmapping.py:    dot_place_holder():623] [70] 12067\n",
            "      223161 [mmapping.py:    dot_place_holder():623] [70] 13791\n",
            "      223241 [mmapping.py:    dot_place_holder():623] [70] 15515\n",
            "      223325 [mmapping.py:    dot_place_holder():623] [70] 17239\n",
            "      223406 [mmapping.py:    dot_place_holder():623] [70] 18963\n",
            "      223481 [mmapping.py:    dot_place_holder():623] [70] 20687\n",
            "      223556 [mmapping.py:    dot_place_holder():623] [70] 22411\n",
            "      223640 [mmapping.py:    dot_place_holder():623] [70] 24135\n",
            "      223733 [mmapping.py:    dot_place_holder():623] [70] 25859\n",
            "      223887 [mmapping.py:    dot_place_holder():623] [70] 27583\n",
            "      224041 [mmapping.py:    dot_place_holder():623] [70] 29307\n",
            "      224205 [mmapping.py:    dot_place_holder():623] [70] 31031\n",
            "      224365 [mmapping.py:    dot_place_holder():623] [70] 32755\n",
            "      224512 [mmapping.py:    dot_place_holder():623] [70] 32767\n",
            "      224545 [spatial.py:update_spatial_components():304] [70] Updating done in 8s\n",
            "      224552 [spatial.py:update_spatial_components():307] [70] Removing created tempfiles\n",
            "      224576 [cnmf.py:                 fit():546] [70] update temporal ...\n",
            "      224590 [temporal.py:update_temporal_components():207] [70] Generating residuals\n",
            "      224598 [mmapping.py:parallel_dot_product():555] [70] parallel dot product block size: 1724\n",
            "      224602 [mmapping.py:parallel_dot_product():570] [70] Start product\n",
            "      224608 [mmapping.py:parallel_dot_product():581] [70] Transposing\n",
            "      224621 [mmapping.py:    dot_place_holder():623] [70] 1723\n",
            "      224736 [mmapping.py:    dot_place_holder():623] [70] 3447\n",
            "      224827 [mmapping.py:    dot_place_holder():623] [70] 5171\n",
            "      224966 [mmapping.py:    dot_place_holder():623] [70] 6895\n",
            "      225122 [mmapping.py:    dot_place_holder():623] [70] 8619\n",
            "      225303 [mmapping.py:    dot_place_holder():623] [70] 10343\n",
            "      225431 [mmapping.py:    dot_place_holder():623] [70] 12067\n",
            "      225560 [mmapping.py:    dot_place_holder():623] [70] 13791\n",
            "      225726 [mmapping.py:    dot_place_holder():623] [70] 15515\n",
            "      225850 [mmapping.py:    dot_place_holder():623] [70] 17239\n",
            "      225973 [mmapping.py:    dot_place_holder():623] [70] 18963\n",
            "      226064 [mmapping.py:    dot_place_holder():623] [70] 20687\n",
            "      226148 [mmapping.py:    dot_place_holder():623] [70] 22411\n",
            "      226244 [mmapping.py:    dot_place_holder():623] [70] 24135\n",
            "      226363 [mmapping.py:    dot_place_holder():623] [70] 25859\n",
            "      226448 [mmapping.py:    dot_place_holder():623] [70] 27583\n",
            "      226553 [mmapping.py:    dot_place_holder():623] [70] 29307\n",
            "      226681 [mmapping.py:    dot_place_holder():623] [70] 31031\n",
            "      226827 [mmapping.py:    dot_place_holder():623] [70] 32755\n",
            "      226966 [mmapping.py:    dot_place_holder():623] [70] 32767\n",
            "      227004 [temporal.py:update_temporal_components():221] [70] entering the deconvolution \n",
            "      227064 [temporal.py:    update_iteration():391] [70] 7 out of total 12 temporal components updated\n",
            "      227099 [temporal.py:    update_iteration():391] [70] 12 out of total 12 temporal components updated\n",
            "      227159 [temporal.py:    update_iteration():391] [70] 7 out of total 12 temporal components updated\n",
            "      227183 [temporal.py:    update_iteration():391] [70] 12 out of total 12 temporal components updated\n",
            "      227201 [cnmf.py:                 fit():557] [70] refinement...\n",
            "      227203 [cnmf.py:                 fit():559] [70] merging components ...\n",
            "      227236 [merging.py:    merge_components():296] [70] No more components merged!\n",
            "      227244 [cnmf.py:                 fit():562] [70] Updating spatial ...\n",
            "      227249 [spatial.py:update_spatial_components():185] [70] Computing support of spatial components\n",
            "      228078 [spatial.py:update_spatial_components():214] [70] Memory mapping\n",
            "      228086 [spatial.py:update_spatial_components():220] [70] Updating Spatial Components using lasso lars\n",
            "      239991 [spatial.py:update_spatial_components():253] [70] thresholding components\n",
            "      240136 [spatial.py:update_spatial_components():276] [70] Computing residuals\n",
            "      240146 [mmapping.py:parallel_dot_product():555] [70] parallel dot product block size: 1724\n",
            "      240160 [mmapping.py:parallel_dot_product():570] [70] Start product\n",
            "      240307 [mmapping.py:    dot_place_holder():623] [70] 1723\n",
            "      240542 [mmapping.py:    dot_place_holder():623] [70] 3447\n",
            "      240705 [mmapping.py:    dot_place_holder():623] [70] 5171\n",
            "      240859 [mmapping.py:    dot_place_holder():623] [70] 6895\n",
            "      241039 [mmapping.py:    dot_place_holder():623] [70] 8619\n",
            "      241196 [mmapping.py:    dot_place_holder():623] [70] 10343\n",
            "      241352 [mmapping.py:    dot_place_holder():623] [70] 12067\n",
            "      241520 [mmapping.py:    dot_place_holder():623] [70] 13791\n",
            "      241675 [mmapping.py:    dot_place_holder():623] [70] 15515\n",
            "      241794 [mmapping.py:    dot_place_holder():623] [70] 17239\n",
            "      241907 [mmapping.py:    dot_place_holder():623] [70] 18963\n",
            "      242024 [mmapping.py:    dot_place_holder():623] [70] 20687\n",
            "      242153 [mmapping.py:    dot_place_holder():623] [70] 22411\n",
            "      242261 [mmapping.py:    dot_place_holder():623] [70] 24135\n",
            "      242359 [mmapping.py:    dot_place_holder():623] [70] 25859\n",
            "      242464 [mmapping.py:    dot_place_holder():623] [70] 27583\n",
            "      242588 [mmapping.py:    dot_place_holder():623] [70] 29307\n",
            "      242694 [mmapping.py:    dot_place_holder():623] [70] 31031\n",
            "      242816 [mmapping.py:    dot_place_holder():623] [70] 32755\n",
            "      242923 [mmapping.py:    dot_place_holder():623] [70] 32767\n",
            "      242944 [spatial.py:update_spatial_components():304] [70] Updating done in 15s\n",
            "      242947 [spatial.py:update_spatial_components():307] [70] Removing created tempfiles\n",
            "      242975 [cnmf.py:                 fit():567] [70] update temporal ...\n",
            "      242988 [temporal.py:update_temporal_components():207] [70] Generating residuals\n",
            "      242994 [mmapping.py:parallel_dot_product():555] [70] parallel dot product block size: 1724\n",
            "      242997 [mmapping.py:parallel_dot_product():570] [70] Start product\n",
            "      243000 [mmapping.py:parallel_dot_product():581] [70] Transposing\n",
            "      243013 [mmapping.py:    dot_place_holder():623] [70] 1723\n",
            "      243110 [mmapping.py:    dot_place_holder():623] [70] 3447\n",
            "      243211 [mmapping.py:    dot_place_holder():623] [70] 5171\n",
            "      243333 [mmapping.py:    dot_place_holder():623] [70] 6895\n",
            "      243439 [mmapping.py:    dot_place_holder():623] [70] 8619\n",
            "      243546 [mmapping.py:    dot_place_holder():623] [70] 10343\n",
            "      243657 [mmapping.py:    dot_place_holder():623] [70] 12067\n",
            "      243760 [mmapping.py:    dot_place_holder():623] [70] 13791\n",
            "      243864 [mmapping.py:    dot_place_holder():623] [70] 15515\n",
            "      243966 [mmapping.py:    dot_place_holder():623] [70] 17239\n",
            "      244082 [mmapping.py:    dot_place_holder():623] [70] 18963\n",
            "      244180 [mmapping.py:    dot_place_holder():623] [70] 20687\n",
            "      244285 [mmapping.py:    dot_place_holder():623] [70] 22411\n",
            "      244384 [mmapping.py:    dot_place_holder():623] [70] 24135\n",
            "      244486 [mmapping.py:    dot_place_holder():623] [70] 25859\n",
            "      244602 [mmapping.py:    dot_place_holder():623] [70] 27583\n",
            "      244704 [mmapping.py:    dot_place_holder():623] [70] 29307\n",
            "      244801 [mmapping.py:    dot_place_holder():623] [70] 31031\n",
            "      244896 [mmapping.py:    dot_place_holder():623] [70] 32755\n",
            "      245037 [mmapping.py:    dot_place_holder():623] [70] 32767\n",
            "      245056 [temporal.py:update_temporal_components():221] [70] entering the deconvolution \n",
            "      245085 [temporal.py:    update_iteration():391] [70] 6 out of total 12 temporal components updated\n",
            "      245107 [temporal.py:    update_iteration():391] [70] 12 out of total 12 temporal components updated\n",
            "      245136 [temporal.py:    update_iteration():391] [70] 6 out of total 12 temporal components updated\n",
            "      245156 [temporal.py:    update_iteration():391] [70] 12 out of total 12 temporal components updated\n",
            "      245177 [components_evaluation.py: evaluate_components():428] [70] tB:-4.0,tA:17.0\n",
            "      245180 [components_evaluation.py: evaluate_components():433] [70] Computing event exceptionality delta\n",
            "      245278 [components_evaluation.py: evaluate_components():439] [70] Removing Baseline\n",
            "      245281 [components_evaluation.py: evaluate_components():457] [70] binning data ...\n",
            "      245293 [components_evaluation.py: evaluate_components():460] [70] interpolating data ...\n",
            "      245296 [components_evaluation.py: evaluate_components():461] [70] (7, 12)\n",
            "      245324 [components_evaluation.py: evaluate_components():472] [70] Computing event exceptionality\n",
            "      245408 [components_evaluation.py: evaluate_components():478] [70] Evaluating spatial footprint\n",
            "      246072 [components_evaluation.py:evaluate_components_CNN():288] [70] Using Keras\n"
          ]
        },
        {
          "output_type": "stream",
          "name": "stdout",
          "text": [
            "USING MODEL:/root/caiman_data/model/cnn_model.json\n"
          ]
        },
        {
          "output_type": "stream",
          "name": "stderr",
          "text": [
            "      246753 [components_evaluation.py:evaluate_components_CNN():319] [70] Loaded model from disk\n"
          ]
        },
        {
          "output_type": "stream",
          "name": "stdout",
          "text": [
            "1/1 [==============================] - 1s 731ms/step\n"
          ]
        },
        {
          "output_type": "stream",
          "name": "stderr",
          "text": [
            "      249813 [utils.py:recursively_save_dict_contents_to_group():501] [70] Saving dims\n",
            "      249821 [utils.py:recursively_save_dict_contents_to_group():483] [70] Key empty_merged is not saved.\n",
            "      249825 [utils.py:recursively_save_dict_contents_to_group():496] [70] Saving skip_refinement\n",
            "      249833 [utils.py:recursively_save_dict_contents_to_group():496] [70] Saving remove_very_bad_comps\n",
            "      249839 [utils.py:recursively_save_dict_contents_to_group():501] [70] Saving fnames\n",
            "      249843 [utils.py:recursively_save_dict_contents_to_group():501] [70] Saving dims\n",
            "      249847 [utils.py:recursively_save_dict_contents_to_group():496] [70] Saving fr\n",
            "      249853 [utils.py:recursively_save_dict_contents_to_group():496] [70] Saving decay_time\n",
            "      249855 [utils.py:recursively_save_dict_contents_to_group():501] [70] Saving dxy\n",
            "      249860 [utils.py:recursively_save_dict_contents_to_group():496] [70] Saving var_name_hdf5\n",
            "      249868 [utils.py:recursively_save_dict_contents_to_group():496] [70] Saving caiman_version\n",
            "      249878 [utils.py:recursively_save_dict_contents_to_group():496] [70] Saving last_commit\n",
            "      249884 [utils.py:recursively_save_dict_contents_to_group():496] [70] Saving use_cnn\n",
            "      249900 [utils.py:recursively_save_dict_contents_to_group():496] [70] Saving border_pix\n",
            "      249903 [utils.py:recursively_save_dict_contents_to_group():496] [70] Saving del_duplicates\n",
            "      249919 [utils.py:recursively_save_dict_contents_to_group():496] [70] Saving in_memory\n",
            "      249926 [utils.py:recursively_save_dict_contents_to_group():496] [70] Saving low_rank_background\n",
            "      249929 [utils.py:recursively_save_dict_contents_to_group():496] [70] Saving memory_fact\n",
            "      249935 [utils.py:recursively_save_dict_contents_to_group():496] [70] Saving n_processes\n",
            "      249938 [utils.py:recursively_save_dict_contents_to_group():496] [70] Saving nb_patch\n",
            "      249946 [utils.py:recursively_save_dict_contents_to_group():496] [70] Saving only_init\n",
            "      249954 [utils.py:recursively_save_dict_contents_to_group():496] [70] Saving p_patch\n",
            "      249961 [utils.py:recursively_save_dict_contents_to_group():496] [70] Saving remove_very_bad_comps\n",
            "      249973 [utils.py:recursively_save_dict_contents_to_group():496] [70] Saving skip_refinement\n",
            "      249976 [utils.py:recursively_save_dict_contents_to_group():496] [70] Saving p_ssub\n",
            "      249983 [utils.py:recursively_save_dict_contents_to_group():496] [70] Saving p_tsub\n",
            "      249990 [utils.py:recursively_save_dict_contents_to_group():496] [70] Saving check_nan\n",
            "      249996 [utils.py:recursively_save_dict_contents_to_group():496] [70] Saving compute_g\n",
            "      250001 [utils.py:recursively_save_dict_contents_to_group():496] [70] Saving include_noise\n",
            "      250006 [utils.py:recursively_save_dict_contents_to_group():496] [70] Saving lags\n",
            "      250010 [utils.py:recursively_save_dict_contents_to_group():496] [70] Saving max_num_samples_fft\n",
            "      250021 [utils.py:recursively_save_dict_contents_to_group():496] [70] Saving n_pixels_per_process\n",
            "      250027 [utils.py:recursively_save_dict_contents_to_group():496] [70] Saving noise_method\n",
            "      250032 [utils.py:recursively_save_dict_contents_to_group():501] [70] Saving noise_range\n",
            "      250038 [utils.py:recursively_save_dict_contents_to_group():496] [70] Saving p\n",
            "      250045 [utils.py:recursively_save_dict_contents_to_group():496] [70] Saving K\n",
            "      250054 [utils.py:recursively_save_dict_contents_to_group():496] [70] Saving SC_kernel\n",
            "      250059 [utils.py:recursively_save_dict_contents_to_group():496] [70] Saving SC_sigma\n",
            "      250063 [utils.py:recursively_save_dict_contents_to_group():496] [70] Saving SC_thr\n",
            "      250067 [utils.py:recursively_save_dict_contents_to_group():496] [70] Saving SC_normalize\n",
            "      250072 [utils.py:recursively_save_dict_contents_to_group():496] [70] Saving SC_use_NN\n",
            "      250076 [utils.py:recursively_save_dict_contents_to_group():496] [70] Saving SC_nnn\n",
            "      250080 [utils.py:recursively_save_dict_contents_to_group():496] [70] Saving alpha_snmf\n",
            "      250083 [utils.py:recursively_save_dict_contents_to_group():496] [70] Saving center_psf\n",
            "      250086 [utils.py:recursively_save_dict_contents_to_group():501] [70] Saving gSig\n",
            "      250089 [utils.py:recursively_save_dict_contents_to_group():501] [70] Saving gSiz\n",
            "      250093 [utils.py:recursively_save_dict_contents_to_group():496] [70] Saving init_iter\n",
            "      250098 [utils.py:recursively_save_dict_contents_to_group():496] [70] Saving lambda_gnmf\n",
            "      250103 [utils.py:recursively_save_dict_contents_to_group():496] [70] Saving maxIter\n",
            "      250106 [utils.py:recursively_save_dict_contents_to_group():496] [70] Saving max_iter_snmf\n",
            "      250109 [utils.py:recursively_save_dict_contents_to_group():496] [70] Saving method_init\n",
            "      250112 [utils.py:recursively_save_dict_contents_to_group():496] [70] Saving min_corr\n",
            "      250115 [utils.py:recursively_save_dict_contents_to_group():496] [70] Saving min_pnr\n",
            "      250124 [utils.py:recursively_save_dict_contents_to_group():496] [70] Saving nIter\n",
            "      250132 [utils.py:recursively_save_dict_contents_to_group():496] [70] Saving nb\n",
            "      250136 [utils.py:recursively_save_dict_contents_to_group():496] [70] Saving normalize_init\n",
            "      250147 [utils.py:recursively_save_dict_contents_to_group():496] [70] Saving perc_baseline_snmf\n",
            "      250157 [utils.py:recursively_save_dict_contents_to_group():496] [70] Saving ring_size_factor\n",
            "      250167 [utils.py:recursively_save_dict_contents_to_group():496] [70] Saving rolling_length\n",
            "      250176 [utils.py:recursively_save_dict_contents_to_group():496] [70] Saving rolling_sum\n",
            "      250189 [utils.py:recursively_save_dict_contents_to_group():496] [70] Saving seed_method\n",
            "      250192 [utils.py:recursively_save_dict_contents_to_group():501] [70] Saving sigma_smooth_snmf\n",
            "      250205 [utils.py:recursively_save_dict_contents_to_group():496] [70] Saving ssub\n",
            "      250216 [utils.py:recursively_save_dict_contents_to_group():496] [70] Saving ssub_B\n",
            "      250227 [utils.py:recursively_save_dict_contents_to_group():496] [70] Saving tsub\n",
            "      250236 [utils.py:recursively_save_dict_contents_to_group():496] [70] Saving block_size_spat\n",
            "      250241 [utils.py:recursively_save_dict_contents_to_group():496] [70] Saving dist\n",
            "      250250 [utils.py:recursively_save_dict_contents_to_group():501] [70] Saving expandCore\n",
            "      250259 [utils.py:recursively_save_dict_contents_to_group():496] [70] Saving extract_cc\n",
            "      250269 [utils.py:recursively_save_dict_contents_to_group():496] [70] Saving maxthr\n",
            "      250277 [utils.py:recursively_save_dict_contents_to_group():496] [70] Saving method_exp\n",
            "      250283 [utils.py:recursively_save_dict_contents_to_group():496] [70] Saving method_ls\n",
            "      250289 [utils.py:recursively_save_dict_contents_to_group():496] [70] Saving n_pixels_per_process\n",
            "      250292 [utils.py:recursively_save_dict_contents_to_group():496] [70] Saving nb\n",
            "      250294 [utils.py:recursively_save_dict_contents_to_group():496] [70] Saving normalize_yyt_one\n",
            "      250298 [utils.py:recursively_save_dict_contents_to_group():496] [70] Saving nrgthr\n",
            "      250300 [utils.py:recursively_save_dict_contents_to_group():496] [70] Saving num_blocks_per_run_spat\n",
            "      250306 [utils.py:recursively_save_dict_contents_to_group():496] [70] Saving thr_method\n",
            "      250309 [utils.py:recursively_save_dict_contents_to_group():496] [70] Saving update_background_components\n",
            "      250313 [utils.py:recursively_save_dict_contents_to_group():496] [70] Saving ITER\n",
            "      250316 [utils.py:recursively_save_dict_contents_to_group():496] [70] Saving bas_nonneg\n",
            "      250319 [utils.py:recursively_save_dict_contents_to_group():496] [70] Saving block_size_temp\n",
            "      250322 [utils.py:recursively_save_dict_contents_to_group():496] [70] Saving fudge_factor\n",
            "      250325 [utils.py:recursively_save_dict_contents_to_group():496] [70] Saving lags\n",
            "      250328 [utils.py:recursively_save_dict_contents_to_group():496] [70] Saving optimize_g\n",
            "      250331 [utils.py:recursively_save_dict_contents_to_group():496] [70] Saving memory_efficient\n",
            "      250334 [utils.py:recursively_save_dict_contents_to_group():496] [70] Saving method_deconvolution\n",
            "      250341 [utils.py:recursively_save_dict_contents_to_group():496] [70] Saving nb\n",
            "      250347 [utils.py:recursively_save_dict_contents_to_group():496] [70] Saving noise_method\n",
            "      250351 [utils.py:recursively_save_dict_contents_to_group():501] [70] Saving noise_range\n",
            "      250360 [utils.py:recursively_save_dict_contents_to_group():496] [70] Saving num_blocks_per_run_temp\n",
            "      250365 [utils.py:recursively_save_dict_contents_to_group():496] [70] Saving p\n",
            "      250373 [utils.py:recursively_save_dict_contents_to_group():501] [70] Saving solvers\n",
            "      250382 [utils.py:recursively_save_dict_contents_to_group():496] [70] Saving verbosity\n",
            "      250390 [utils.py:recursively_save_dict_contents_to_group():496] [70] Saving do_merge\n",
            "      250397 [utils.py:recursively_save_dict_contents_to_group():496] [70] Saving merge_thr\n",
            "      250405 [utils.py:recursively_save_dict_contents_to_group():496] [70] Saving merge_parallel\n",
            "      250415 [utils.py:recursively_save_dict_contents_to_group():496] [70] Saving SNR_lowest\n",
            "      250428 [utils.py:recursively_save_dict_contents_to_group():496] [70] Saving cnn_lowest\n",
            "      250439 [utils.py:recursively_save_dict_contents_to_group():496] [70] Saving min_SNR\n",
            "      250443 [utils.py:recursively_save_dict_contents_to_group():496] [70] Saving min_cnn_thr\n",
            "      250448 [utils.py:recursively_save_dict_contents_to_group():496] [70] Saving rval_lowest\n",
            "      250454 [utils.py:recursively_save_dict_contents_to_group():496] [70] Saving rval_thr\n",
            "      250459 [utils.py:recursively_save_dict_contents_to_group():496] [70] Saving use_cnn\n",
            "      250466 [utils.py:recursively_save_dict_contents_to_group():496] [70] Saving use_ecc\n",
            "      250475 [utils.py:recursively_save_dict_contents_to_group():496] [70] Saving max_ecc\n",
            "      250488 [utils.py:recursively_save_dict_contents_to_group():496] [70] Saving N_samples_exceptionality\n",
            "      250493 [utils.py:recursively_save_dict_contents_to_group():496] [70] Saving batch_update_suff_stat\n",
            "      250499 [utils.py:recursively_save_dict_contents_to_group():496] [70] Saving dist_shape_update\n",
            "      250502 [utils.py:recursively_save_dict_contents_to_group():496] [70] Saving ds_factor\n",
            "      250508 [utils.py:recursively_save_dict_contents_to_group():496] [70] Saving epochs\n",
            "      250511 [utils.py:recursively_save_dict_contents_to_group():496] [70] Saving expected_comps\n",
            "      250515 [utils.py:recursively_save_dict_contents_to_group():496] [70] Saving full_XXt\n",
            "      250518 [utils.py:recursively_save_dict_contents_to_group():496] [70] Saving init_batch\n",
            "      250524 [utils.py:recursively_save_dict_contents_to_group():496] [70] Saving init_method\n",
            "      250528 [utils.py:recursively_save_dict_contents_to_group():496] [70] Saving iters_shape\n",
            "      250532 [utils.py:recursively_save_dict_contents_to_group():496] [70] Saving max_comp_update_shape\n",
            "      250536 [utils.py:recursively_save_dict_contents_to_group():496] [70] Saving max_num_added\n",
            "      250540 [utils.py:recursively_save_dict_contents_to_group():496] [70] Saving max_shifts_online\n",
            "      250543 [utils.py:recursively_save_dict_contents_to_group():496] [70] Saving min_SNR\n",
            "      250548 [utils.py:recursively_save_dict_contents_to_group():496] [70] Saving min_num_trial\n",
            "      250551 [utils.py:recursively_save_dict_contents_to_group():496] [70] Saving minibatch_shape\n",
            "      250554 [utils.py:recursively_save_dict_contents_to_group():496] [70] Saving minibatch_suff_stat\n",
            "      250557 [utils.py:recursively_save_dict_contents_to_group():496] [70] Saving motion_correct\n",
            "      250563 [utils.py:recursively_save_dict_contents_to_group():496] [70] Saving movie_name_online\n",
            "      250566 [utils.py:recursively_save_dict_contents_to_group():496] [70] Saving normalize\n",
            "      250570 [utils.py:recursively_save_dict_contents_to_group():496] [70] Saving n_refit\n",
            "      250573 [utils.py:recursively_save_dict_contents_to_group():496] [70] Saving num_times_comp_updated\n",
            "      250586 [utils.py:recursively_save_dict_contents_to_group():496] [70] Saving opencv_codec\n",
            "      250602 [utils.py:recursively_save_dict_contents_to_group():496] [70] Saving path_to_model\n",
            "      250610 [utils.py:recursively_save_dict_contents_to_group():496] [70] Saving ring_CNN\n",
            "      250619 [utils.py:recursively_save_dict_contents_to_group():496] [70] Saving rval_thr\n",
            "      250627 [utils.py:recursively_save_dict_contents_to_group():496] [70] Saving save_online_movie\n",
            "      250632 [utils.py:recursively_save_dict_contents_to_group():496] [70] Saving show_movie\n",
            "      250639 [utils.py:recursively_save_dict_contents_to_group():496] [70] Saving simultaneously\n",
            "      250648 [utils.py:recursively_save_dict_contents_to_group():496] [70] Saving sniper_mode\n",
            "      250654 [utils.py:recursively_save_dict_contents_to_group():496] [70] Saving stop_detection\n",
            "      250662 [utils.py:recursively_save_dict_contents_to_group():496] [70] Saving test_both\n",
            "      250666 [utils.py:recursively_save_dict_contents_to_group():496] [70] Saving thresh_CNN_noisy\n",
            "      250669 [utils.py:recursively_save_dict_contents_to_group():496] [70] Saving thresh_fitness_delta\n",
            "      250674 [utils.py:recursively_save_dict_contents_to_group():496] [70] Saving thresh_fitness_raw\n",
            "      250678 [utils.py:recursively_save_dict_contents_to_group():496] [70] Saving thresh_overlap\n",
            "      250681 [utils.py:recursively_save_dict_contents_to_group():496] [70] Saving update_freq\n",
            "      250685 [utils.py:recursively_save_dict_contents_to_group():496] [70] Saving update_num_comps\n",
            "      250690 [utils.py:recursively_save_dict_contents_to_group():496] [70] Saving use_corr_img\n",
            "      250692 [utils.py:recursively_save_dict_contents_to_group():496] [70] Saving use_dense\n",
            "      250697 [utils.py:recursively_save_dict_contents_to_group():496] [70] Saving use_peak_max\n",
            "      250700 [utils.py:recursively_save_dict_contents_to_group():496] [70] Saving W_update_factor\n",
            "      250711 [utils.py:recursively_save_dict_contents_to_group():496] [70] Saving border_nan\n",
            "      250715 [utils.py:recursively_save_dict_contents_to_group():496] [70] Saving is3D\n",
            "      250724 [utils.py:recursively_save_dict_contents_to_group():496] [70] Saving max_deviation_rigid\n",
            "      250726 [utils.py:recursively_save_dict_contents_to_group():501] [70] Saving max_shifts\n",
            "      250736 [utils.py:recursively_save_dict_contents_to_group():496] [70] Saving niter_rig\n",
            "      250755 [utils.py:recursively_save_dict_contents_to_group():496] [70] Saving nonneg_movie\n",
            "      250763 [utils.py:recursively_save_dict_contents_to_group():496] [70] Saving num_frames_split\n",
            "      250768 [utils.py:recursively_save_dict_contents_to_group():501] [70] Saving overlaps\n",
            "      250777 [utils.py:recursively_save_dict_contents_to_group():496] [70] Saving pw_rigid\n",
            "      250784 [utils.py:recursively_save_dict_contents_to_group():496] [70] Saving shifts_opencv\n",
            "      250788 [utils.py:recursively_save_dict_contents_to_group():496] [70] Saving splits_els\n",
            "      250794 [utils.py:recursively_save_dict_contents_to_group():496] [70] Saving splits_rig\n",
            "      250796 [utils.py:recursively_save_dict_contents_to_group():501] [70] Saving strides\n",
            "      250804 [utils.py:recursively_save_dict_contents_to_group():496] [70] Saving upsample_factor_grid\n",
            "      250807 [utils.py:recursively_save_dict_contents_to_group():496] [70] Saving use_cuda\n",
            "      250813 [utils.py:recursively_save_dict_contents_to_group():501] [70] Saving indices\n",
            "      250822 [utils.py:recursively_save_dict_contents_to_group():496] [70] Saving var_name_hdf5\n",
            "      250838 [utils.py:recursively_save_dict_contents_to_group():496] [70] Saving n_channels\n",
            "      250844 [utils.py:recursively_save_dict_contents_to_group():496] [70] Saving use_bias\n",
            "      250846 [utils.py:recursively_save_dict_contents_to_group():496] [70] Saving use_add\n",
            "      250849 [utils.py:recursively_save_dict_contents_to_group():496] [70] Saving pct\n",
            "      250852 [utils.py:recursively_save_dict_contents_to_group():496] [70] Saving patience\n",
            "      250855 [utils.py:recursively_save_dict_contents_to_group():496] [70] Saving max_epochs\n",
            "      250858 [utils.py:recursively_save_dict_contents_to_group():496] [70] Saving width\n",
            "      250861 [utils.py:recursively_save_dict_contents_to_group():496] [70] Saving loss_fn\n",
            "      250864 [utils.py:recursively_save_dict_contents_to_group():496] [70] Saving lr\n",
            "      250874 [utils.py:recursively_save_dict_contents_to_group():496] [70] Saving remove_activity\n",
            "      250877 [utils.py:recursively_save_dict_contents_to_group():496] [70] Saving reuse_model\n",
            "      250888 [utils.py:recursively_save_dict_contents_to_group():513] [70] A is sparse ****\n",
            "      250894 [utils.py:recursively_save_dict_contents_to_group():501] [70] Saving C\n",
            "      250905 [utils.py:recursively_save_dict_contents_to_group():501] [70] Saving f\n",
            "      250911 [utils.py:recursively_save_dict_contents_to_group():501] [70] Saving b\n",
            "      250917 [utils.py:recursively_save_dict_contents_to_group():501] [70] Saving R\n",
            "      250947 [utils.py:recursively_save_dict_contents_to_group():501] [70] Saving YrA\n",
            "      250969 [utils.py:recursively_save_dict_contents_to_group():501] [70] Saving S\n",
            "      251019 [utils.py:recursively_save_dict_contents_to_group():501] [70] Saving sn\n",
            "      251037 [utils.py:recursively_save_dict_contents_to_group():473] [70] g is an object type\n",
            "      251043 [utils.py:recursively_save_dict_contents_to_group():501] [70] Saving g\n",
            "      251048 [utils.py:recursively_save_dict_contents_to_group():501] [70] Saving bl\n",
            "      251055 [utils.py:recursively_save_dict_contents_to_group():501] [70] Saving c1\n",
            "      251066 [utils.py:recursively_save_dict_contents_to_group():501] [70] Saving neurons_sn\n",
            "      251075 [utils.py:recursively_save_dict_contents_to_group():501] [70] Saving lam\n",
            "      251096 [utils.py:recursively_save_dict_contents_to_group():483] [70] Key merged_ROIs is not saved.\n",
            "      251098 [utils.py:recursively_save_dict_contents_to_group():483] [70] Key coordinates is not saved.\n",
            "      251099 [utils.py:recursively_save_dict_contents_to_group():501] [70] Saving F_dff\n",
            "      251121 [utils.py:recursively_save_dict_contents_to_group():501] [70] Saving idx_components\n",
            "      251127 [utils.py:recursively_save_dict_contents_to_group():501] [70] Saving idx_components_bad\n",
            "      251140 [utils.py:recursively_save_dict_contents_to_group():501] [70] Saving SNR_comp\n",
            "      251145 [utils.py:recursively_save_dict_contents_to_group():501] [70] Saving r_values\n",
            "      251152 [utils.py:recursively_save_dict_contents_to_group():501] [70] Saving cnn_preds\n",
            "      251188 [utils.py:recursively_save_dict_contents_to_group():483] [70] Key groups is not saved.\n",
            "      251190 [utils.py:recursively_save_dict_contents_to_group():501] [70] Saving dims\n",
            "      251203 [utils.py:recursively_save_dict_contents_to_group():501] [70] Saving shifts\n",
            "      251211 [utils.py:recursively_save_dict_contents_to_group():496] [70] Saving nr\n",
            "      251214 [utils.py:recursively_save_dict_contents_to_group():501] [70] Saving Cn\n",
            "      251231 [utils.py:recursively_save_dict_contents_to_group():496] [70] Saving mmap_file\n",
            "      251251 [cluster.py:         stop_server():291] [70] Stopping cluster...\n",
            "      251254 [cluster.py:         stop_server():296] [70] stop_server: not a slurm cluster\n",
            "      253064 [cluster.py:         stop_server():337] [70] Waiting for cluster to stop...\n"
          ]
        },
        {
          "output_type": "stream",
          "name": "stdout",
          "text": [
            "...."
          ]
        },
        {
          "output_type": "stream",
          "name": "stderr",
          "text": [
            "      257105 [cluster.py:         stop_server():348] [70] stop_cluster(): done\n",
            "      257113 [cluster.py:         stop_server():291] [70] Stopping cluster...\n",
            "      257116 [cluster.py:         stop_server():296] [70] stop_server: not a slurm cluster\n"
          ]
        },
        {
          "output_type": "stream",
          "name": "stdout",
          "text": [
            "seeded cnmf completed\n"
          ]
        },
        {
          "output_type": "stream",
          "name": "stderr",
          "text": [
            "      258687 [cluster.py:         stop_server():334] [70] No cluster to stop...\n",
            "      258688 [cluster.py:         stop_server():348] [70] stop_cluster(): done\n"
          ]
        }
      ]
    },
    {
      "cell_type": "markdown",
      "source": [
        "## test output dictionary and save - this will all not run if the function output above is edited to output the cnmf object for visualization"
      ],
      "metadata": {
        "id": "LFfx8GgkzLMB"
      }
    },
    {
      "cell_type": "code",
      "source": [
        "#check the stack name saved in the dictionary\n",
        "print(seeded['stack_name'])"
      ],
      "metadata": {
        "colab": {
          "base_uri": "https://localhost:8080/"
        },
        "id": "OsRWt2AEzRlG",
        "outputId": "05aa8805-c949-454f-d3f4-f48b93e191f7"
      },
      "execution_count": 14,
      "outputs": [
        {
          "output_type": "stream",
          "name": "stdout",
          "text": [
            "EXAMPLE_210728_0_1_stackRaw_mc_tm2_tm9_syt\n"
          ]
        }
      ]
    },
    {
      "cell_type": "code",
      "source": [
        "#temporal responses are saved in the dictionary under 'temporal'\n",
        "#showing shape here just for demonstration\n",
        "seeded['temporal'].shape"
      ],
      "metadata": {
        "colab": {
          "base_uri": "https://localhost:8080/"
        },
        "id": "KDj7Djm_4GAe",
        "outputId": "e4d533e6-2359-4ca4-a3dc-a8e60a177c6f"
      },
      "execution_count": 15,
      "outputs": [
        {
          "output_type": "execute_result",
          "data": {
            "text/plain": [
              "(12, 5519)"
            ]
          },
          "metadata": {},
          "execution_count": 15
        }
      ]
    },
    {
      "cell_type": "code",
      "source": [
        "#spatial footprints are saved in the dictionary under 'spatial'\n",
        "seeded['spatial'].shape"
      ],
      "metadata": {
        "colab": {
          "base_uri": "https://localhost:8080/"
        },
        "id": "3oHMzcz44R5t",
        "outputId": "db21e2f4-e1e4-4516-e83f-db9e201e4909"
      },
      "execution_count": 16,
      "outputs": [
        {
          "output_type": "execute_result",
          "data": {
            "text/plain": [
              "(32768, 12)"
            ]
          },
          "metadata": {},
          "execution_count": 16
        }
      ]
    },
    {
      "cell_type": "code",
      "source": [
        "#procedurally generate the path to the result file we will write\n",
        "results_folder_path ='/content/drive/MyDrive/DS6011_Capstone_VisualNeuroscience/Seeded CNMF/Results/'\n",
        "result_h5_path = results_folder_path + seeded['stack_name'] + '_result.h5'\n",
        "result_h5_path"
      ],
      "metadata": {
        "colab": {
          "base_uri": "https://localhost:8080/",
          "height": 35
        },
        "id": "S0vUdtOT6c-t",
        "outputId": "b4aed4df-d017-4776-9dfd-7a3a3d38255c"
      },
      "execution_count": 17,
      "outputs": [
        {
          "output_type": "execute_result",
          "data": {
            "application/vnd.google.colaboratory.intrinsic+json": {
              "type": "string"
            },
            "text/plain": [
              "'/content/drive/MyDrive/DS6011_Capstone_VisualNeuroscience/Seeded CNMF/Results/EXAMPLE_210728_0_1_stackRaw_mc_tm2_tm9_syt_result.h5'"
            ]
          },
          "metadata": {},
          "execution_count": 17
        }
      ]
    },
    {
      "cell_type": "code",
      "source": [
        "#Write the results into an hdf5 file\n",
        "with h5py.File(result_h5_path, \"w\") as result_file:\n",
        "  result_file.create_dataset('stack_name', data=seeded['stack_name'])\n",
        "  result_file.create_dataset('temporal', data=seeded['temporal'])\n",
        "  result_file.create_dataset('spatial', data=seeded['spatial'].A) # \".A\" converts from a sparse matrix to normal. h5py cant save sparse matrices\n"
      ],
      "metadata": {
        "id": "rfRpyz-b0YiE"
      },
      "execution_count": 18,
      "outputs": []
    },
    {
      "cell_type": "code",
      "source": [
        "#Read those results back to test\n",
        "results_read = h5py.File(result_h5_path,'r')\n",
        "results_read.keys()"
      ],
      "metadata": {
        "colab": {
          "base_uri": "https://localhost:8080/"
        },
        "id": "1etRWOBr5UmN",
        "outputId": "7fcfeff8-b3a5-45d8-de98-07322a85ba09"
      },
      "execution_count": 19,
      "outputs": [
        {
          "output_type": "execute_result",
          "data": {
            "text/plain": [
              "<KeysViewHDF5 ['spatial', 'stack_name', 'temporal']>"
            ]
          },
          "metadata": {},
          "execution_count": 19
        }
      ]
    },
    {
      "cell_type": "code",
      "source": [
        "#verify that everything wrote to the file is identical to the original results\n",
        "print(results_read['spatial'][:].all() == seeded['spatial'].A.all())\n",
        "print(results_read['temporal'][:].all() == seeded['temporal'].all())\n",
        "print(results_read['stack_name'][()] == seeded['stack_name'])"
      ],
      "metadata": {
        "colab": {
          "base_uri": "https://localhost:8080/"
        },
        "id": "iRUSYOLf5AQD",
        "outputId": "9ede05ca-e928-4576-955d-a90bd7a015e6"
      },
      "execution_count": 20,
      "outputs": [
        {
          "output_type": "stream",
          "name": "stdout",
          "text": [
            "True\n",
            "True\n",
            "True\n"
          ]
        }
      ]
    },
    {
      "cell_type": "code",
      "source": [
        "#close the results file\n",
        "results_read.close()"
      ],
      "metadata": {
        "id": "jA2HX8KQ8BnQ"
      },
      "execution_count": 21,
      "outputs": []
    }
  ]
}