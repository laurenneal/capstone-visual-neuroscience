{
  "nbformat": 4,
  "nbformat_minor": 0,
  "metadata": {
    "colab": {
      "name": "Capstone Setup",
      "provenance": [],
      "collapsed_sections": [],
      "authorship_tag": "ABX9TyOmR/A9y8sTY7HMAm0mEEAU",
      "include_colab_link": true
    },
    "kernelspec": {
      "name": "python3",
      "display_name": "Python 3"
    },
    "language_info": {
      "name": "python"
    }
  },
  "cells": [
    {
      "cell_type": "markdown",
      "metadata": {
        "id": "view-in-github",
        "colab_type": "text"
      },
      "source": [
        "<a href=\"https://colab.research.google.com/github/laurenneal/capstone-visual-neuroscience/blob/main/Capstone_Setup.ipynb\" target=\"_parent\"><img src=\"https://colab.research.google.com/assets/colab-badge.svg\" alt=\"Open In Colab\"/></a>"
      ]
    },
    {
      "cell_type": "markdown",
      "metadata": {
        "id": "gb_QPPwHavG3"
      },
      "source": [
        "# Set up Visual Neuroscience Repo\n",
        "\n",
        "Run these cells to set up the repo on google drive\n",
        "\n",
        "----------------\n",
        "\n",
        "## 1. Set up google drive connection"
      ]
    },
    {
      "cell_type": "code",
      "metadata": {
        "id": "2ZclUizST2oE"
      },
      "source": [
        "from google.colab import drive"
      ],
      "execution_count": null,
      "outputs": []
    },
    {
      "cell_type": "code",
      "metadata": {
        "colab": {
          "base_uri": "https://localhost:8080/"
        },
        "id": "Wl70VhBxUN8_",
        "outputId": "ad8fcbe7-22ab-425d-ee56-116165d5d1d1"
      },
      "source": [
        "drive.mount('/content/drive')"
      ],
      "execution_count": null,
      "outputs": [
        {
          "output_type": "stream",
          "name": "stdout",
          "text": [
            "Mounted at /content/drive\n"
          ]
        }
      ]
    },
    {
      "cell_type": "code",
      "metadata": {
        "id": "G6k19jd3U0-P",
        "colab": {
          "base_uri": "https://localhost:8080/"
        },
        "outputId": "59e916aa-4101-4137-835a-2078f1abf3c5"
      },
      "source": [
        "# this will work if you have a capstone folder in your google drive, feel free to change this path\n",
        "%cd drive/My\\ Drive/capstone/"
      ],
      "execution_count": null,
      "outputs": [
        {
          "output_type": "stream",
          "name": "stdout",
          "text": [
            "/content/drive/My Drive/capstone\n"
          ]
        }
      ]
    },
    {
      "cell_type": "markdown",
      "metadata": {
        "id": "eBo97RGVbHtE"
      },
      "source": [
        "## 2. Set up an ssh key so you don't have to enter your password every time you run a git command"
      ]
    },
    {
      "cell_type": "code",
      "metadata": {
        "id": "AXIJdP4LVZ3l",
        "colab": {
          "base_uri": "https://localhost:8080/"
        },
        "outputId": "185108f8-a856-48f3-cad8-6e7400674b13"
      },
      "source": [
        "# after the prompt click into the boxes it creates and press enter (don't type anything)\n",
        "!ssh-keygen -t rsa -b 4096"
      ],
      "execution_count": null,
      "outputs": [
        {
          "output_type": "stream",
          "name": "stdout",
          "text": [
            "Generating public/private rsa key pair.\n",
            "Enter file in which to save the key (/root/.ssh/id_rsa): \n",
            "Created directory '/root/.ssh'.\n",
            "Enter passphrase (empty for no passphrase): \n",
            "Enter same passphrase again: \n",
            "Your identification has been saved in /root/.ssh/id_rsa.\n",
            "Your public key has been saved in /root/.ssh/id_rsa.pub.\n",
            "The key fingerprint is:\n",
            "SHA256:ysBi1hOCFVNxsCzLam/Mf3/oW2Suv3sYjA1iHrsAn60 root@658800e97a0a\n",
            "The key's randomart image is:\n",
            "+---[RSA 4096]----+\n",
            "|  +o+o.          |\n",
            "| o o o           |\n",
            "|. o +            |\n",
            "| . B . + .       |\n",
            "|  * B = S =o     |\n",
            "| + . B = .++     |\n",
            "|..o   = . .oo    |\n",
            "|. .+ E o .oo .   |\n",
            "|  ..... o=+++    |\n",
            "+----[SHA256]-----+\n"
          ]
        }
      ]
    },
    {
      "cell_type": "code",
      "metadata": {
        "colab": {
          "base_uri": "https://localhost:8080/"
        },
        "id": "FqOejyvEYMrm",
        "outputId": "5853f06e-7833-4a2a-b5be-ec509f1a1920"
      },
      "source": [
        "!ssh-keyscan -t rsa github.com >> ~/.ssh/known_hosts"
      ],
      "execution_count": null,
      "outputs": [
        {
          "output_type": "stream",
          "name": "stdout",
          "text": [
            "# github.com:22 SSH-2.0-babeld-abb5d94f\n"
          ]
        }
      ]
    },
    {
      "cell_type": "code",
      "metadata": {
        "id": "a_RU2YSaYn8G"
      },
      "source": [
        "# run this and copy the output, then delete the output for security reasons\n",
        "# add this code to your git hub, follow these instructions https://docs.github.com/en/authentication/connecting-to-github-with-ssh/adding-a-new-ssh-key-to-your-github-account\n",
        "!cat /root/.ssh/id_rsa.pub"
      ],
      "execution_count": null,
      "outputs": []
    },
    {
      "cell_type": "code",
      "metadata": {
        "colab": {
          "base_uri": "https://localhost:8080/"
        },
        "id": "ze_uHLwyYuKy",
        "outputId": "88408415-563c-4019-efc9-36ea4ffd69a1"
      },
      "source": [
        "# test that it worked\n",
        "!ssh -T git@github.com"
      ],
      "execution_count": null,
      "outputs": [
        {
          "output_type": "stream",
          "name": "stdout",
          "text": [
            "Warning: Permanently added the RSA host key for IP address '140.82.113.3' to the list of known hosts.\r\n",
            "Hi jhiatt! You've successfully authenticated, but GitHub does not provide shell access.\n"
          ]
        }
      ]
    },
    {
      "cell_type": "code",
      "metadata": {
        "id": "j8OAmcf4Zt7d"
      },
      "source": [
        "# add your username and password\n",
        "!git config --global user.email \"jordan.hiatt11@gmail.com\"\n",
        "!git config --global user.name \"jhiatt\""
      ],
      "execution_count": null,
      "outputs": []
    },
    {
      "cell_type": "markdown",
      "metadata": {
        "id": "zJymXAWXbS82"
      },
      "source": [
        "## 3. Download the repository in your current folder"
      ]
    },
    {
      "cell_type": "code",
      "metadata": {
        "colab": {
          "base_uri": "https://localhost:8080/"
        },
        "id": "68ACrbuzZ7mp",
        "outputId": "0fd91697-77af-4ff5-b119-267a3f2f67e0"
      },
      "source": [
        "# make sure you are navigated to a folder on google drive where you want to store the repo\n",
        "!git clone git@github.com:laurenneal/capstone-visual-neuroscience.git"
      ],
      "execution_count": null,
      "outputs": [
        {
          "output_type": "stream",
          "name": "stdout",
          "text": [
            "Cloning into 'capstone-visual-neuroscience'...\n",
            "Warning: Permanently added the RSA host key for IP address '140.82.113.4' to the list of known hosts.\n",
            "remote: Enumerating objects: 9, done.\u001b[K\n",
            "remote: Counting objects: 100% (9/9), done.\u001b[K\n",
            "remote: Compressing objects: 100% (7/7), done.\u001b[K\n",
            "remote: Total 9 (delta 1), reused 0 (delta 0), pack-reused 0\u001b[K\n",
            "Receiving objects: 100% (9/9), 19.70 MiB | 7.97 MiB/s, done.\n",
            "Resolving deltas: 100% (1/1), done.\n"
          ]
        }
      ]
    },
    {
      "cell_type": "markdown",
      "metadata": {
        "id": "SQdSSRXPbZXV"
      },
      "source": [
        "## 4. Reference for git commands"
      ]
    },
    {
      "cell_type": "code",
      "metadata": {
        "id": "soaHMrXud04X"
      },
      "source": [
        "!cd capstone-visual-neuroscience/"
      ],
      "execution_count": 34,
      "outputs": []
    },
    {
      "cell_type": "code",
      "metadata": {
        "colab": {
          "base_uri": "https://localhost:8080/"
        },
        "id": "xTjmx2OBeJ-v",
        "outputId": "582f1dd2-1d91-41bb-eb4e-95478459333f"
      },
      "source": [
        "# !git init"
      ],
      "execution_count": 36,
      "outputs": [
        {
          "output_type": "stream",
          "name": "stdout",
          "text": [
            "Initialized empty Git repository in /content/drive/My Drive/capstone/.git/\n"
          ]
        }
      ]
    },
    {
      "cell_type": "code",
      "metadata": {
        "id": "cB-6zhfmeNIi"
      },
      "source": [
        "git remote add origin [your-repository]"
      ],
      "execution_count": null,
      "outputs": []
    },
    {
      "cell_type": "code",
      "metadata": {
        "id": "AUhEJhljaIVG",
        "colab": {
          "base_uri": "https://localhost:8080/"
        },
        "outputId": "4e186a16-f4bf-442c-b0b0-72922dc30ff9"
      },
      "source": [
        "!git checkout Jordan"
      ],
      "execution_count": 37,
      "outputs": [
        {
          "output_type": "stream",
          "name": "stdout",
          "text": [
            "error: pathspec 'Jordan' did not match any file(s) known to git.\n"
          ]
        }
      ]
    },
    {
      "cell_type": "code",
      "metadata": {
        "id": "nRXBymLAdZVN"
      },
      "source": [
        ""
      ],
      "execution_count": null,
      "outputs": []
    }
  ]
}