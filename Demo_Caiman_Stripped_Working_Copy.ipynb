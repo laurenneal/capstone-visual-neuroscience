{
  "nbformat": 4,
  "nbformat_minor": 0,
  "metadata": {
    "colab": {
      "name": "Demo Caiman Stripped Working Copy.ipynb",
      "provenance": [],
      "collapsed_sections": [],
      "authorship_tag": "ABX9TyOXkQLcRtjp3qGghU3wPjIv",
      "include_colab_link": true
    },
    "kernelspec": {
      "name": "python3",
      "display_name": "Python 3"
    },
    "language_info": {
      "name": "python"
    }
  },
  "cells": [
    {
      "cell_type": "markdown",
      "metadata": {
        "id": "view-in-github",
        "colab_type": "text"
      },
      "source": [
        "<a href=\"https://colab.research.google.com/github/laurenneal/capstone-visual-neuroscience/blob/Dylan/Demo_Caiman_Stripped_Working_Copy.ipynb\" target=\"_parent\"><img src=\"https://colab.research.google.com/assets/colab-badge.svg\" alt=\"Open In Colab\"/></a>"
      ]
    },
    {
      "cell_type": "markdown",
      "metadata": {
        "id": "43ADamXOI9uB"
      },
      "source": [
        "The demo_pipeline file we've been working with uses some of the more advanced features of caiman which I think are throwing me off. \n",
        "\n",
        "This notebook is intended to implement a more stripped down version of the caiman pipeline with the goal of understanding the functions better and potentially being a platform to write our wrapper around for the parameter gridsearch"
      ]
    },
    {
      "cell_type": "code",
      "metadata": {
        "colab": {
          "base_uri": "https://localhost:8080/"
        },
        "id": "BbIj2QeEAbTE",
        "outputId": "bde9a411-0d64-4520-beb8-6fcdbf11eb5c"
      },
      "source": [
        "from google.colab import drive\n",
        "drive.mount('/content/drive')"
      ],
      "execution_count": 1,
      "outputs": [
        {
          "output_type": "stream",
          "name": "stdout",
          "text": [
            "Mounted at /content/drive\n"
          ]
        }
      ]
    },
    {
      "cell_type": "code",
      "metadata": {
        "colab": {
          "base_uri": "https://localhost:8080/"
        },
        "id": "VrE1xeswQNHM",
        "outputId": "5a21dbc1-ae1d-4349-c0dd-ddcbb56bd15f"
      },
      "source": [
        "# Install CaImAn - takes around 2 minutes\n",
        "!git clone https://github.com/flatironinstitute/CaImAn.git\n",
        "%cd '/content/CaImAn/'\n",
        "!pip install .\n",
        "\n",
        "# Install caiman dependencies (&> /dev/null will suppress the hundreds of printed lines in the output)\n",
        "!pip install -r requirements.txt &> /dev/null\n",
        "\n",
        "#import other dependencies\n",
        "import cv2\n",
        "import glob\n",
        "import numpy as np\n",
        "import os\n",
        "import matplotlib.pyplot as plt\n",
        "import h5py\n",
        "\n",
        "#Set up caiman\n",
        "!python setup.py build_ext -i\n",
        "\n",
        "#Other file setup\n",
        "!python caimanmanager.py install --inplace\n",
        "\n",
        "#Caiman imports\n",
        "import caiman as cm\n",
        "from caiman.paths import caiman_datadir\n",
        "from caiman.source_extraction.cnmf import cnmf as cnmf\n",
        "from caiman.source_extraction.cnmf import params as params\n",
        "from caiman.summary_images import local_correlations_movie_offline\n"
      ],
      "execution_count": 2,
      "outputs": [
        {
          "output_type": "stream",
          "name": "stdout",
          "text": [
            "Cloning into 'CaImAn'...\n",
            "remote: Enumerating objects: 24886, done.\u001b[K\n",
            "remote: Counting objects: 100% (821/821), done.\u001b[K\n",
            "remote: Compressing objects: 100% (400/400), done.\u001b[K\n",
            "remote: Total 24886 (delta 461), reused 723 (delta 406), pack-reused 24065\u001b[K\n",
            "Receiving objects: 100% (24886/24886), 518.49 MiB | 27.52 MiB/s, done.\n",
            "Resolving deltas: 100% (16674/16674), done.\n",
            "Checking out files: 100% (317/317), done.\n",
            "/content/CaImAn\n",
            "Processing /content/CaImAn\n",
            "\u001b[33m  DEPRECATION: A future pip version will change local packages to be built in-place without first copying to a temporary directory. We recommend you use --use-feature=in-tree-build to test your packages with this new behavior before it becomes the default.\n",
            "   pip 21.3 will remove support for this functionality. You can find discussion regarding this at https://github.com/pypa/pip/issues/7555.\u001b[0m\n",
            "Building wheels for collected packages: caiman\n",
            "  Building wheel for caiman (setup.py) ... \u001b[?25l\u001b[?25hdone\n",
            "  Created wheel for caiman: filename=caiman-1.9.5-cp37-cp37m-linux_x86_64.whl size=123929419 sha256=08ed943f19821525f21635455e7ddee44435a184b8b1a29ec6563dca3889cd7b\n",
            "  Stored in directory: /tmp/pip-ephem-wheel-cache-ejgvirtw/wheels/e5/b7/da/71e6f0cc489fdd53e7fe366d0ddf8f5a04eecb9003dbcb835d\n",
            "Successfully built caiman\n",
            "Installing collected packages: caiman\n",
            "Successfully installed caiman-1.9.5\n",
            "Compiling caiman/source_extraction/cnmf/oasis.pyx because it changed.\n",
            "[1/1] Cythonizing caiman/source_extraction/cnmf/oasis.pyx\n",
            "/usr/local/lib/python3.7/dist-packages/Cython/Compiler/Main.py:369: FutureWarning: Cython directive 'language_level' not set, using 2 for now (Py2). This will change in a later release! File: /content/CaImAn/caiman/source_extraction/cnmf/oasis.pyx\n",
            "  tree = Parsing.p_module(s, pxd, full_module_name)\n",
            "running build_ext\n",
            "building 'caiman.source_extraction.cnmf.oasis' extension\n",
            "creating build\n",
            "creating build/temp.linux-x86_64-3.7\n",
            "creating build/temp.linux-x86_64-3.7/caiman\n",
            "creating build/temp.linux-x86_64-3.7/caiman/source_extraction\n",
            "creating build/temp.linux-x86_64-3.7/caiman/source_extraction/cnmf\n",
            "x86_64-linux-gnu-gcc -pthread -Wno-unused-result -Wsign-compare -DNDEBUG -g -fwrapv -O2 -Wall -g -fdebug-prefix-map=/build/python3.7-Y7dWVB/python3.7-3.7.12=. -fstack-protector-strong -Wformat -Werror=format-security -g -fdebug-prefix-map=/build/python3.7-Y7dWVB/python3.7-3.7.12=. -fstack-protector-strong -Wformat -Werror=format-security -Wdate-time -D_FORTIFY_SOURCE=2 -fPIC -I/usr/local/lib/python3.7/dist-packages/numpy/core/include -I/usr/include/python3.7m -c caiman/source_extraction/cnmf/oasis.cpp -o build/temp.linux-x86_64-3.7/caiman/source_extraction/cnmf/oasis.o\n",
            "In file included from \u001b[01m\u001b[K/usr/local/lib/python3.7/dist-packages/numpy/core/include/numpy/ndarraytypes.h:1822:0\u001b[m\u001b[K,\n",
            "                 from \u001b[01m\u001b[K/usr/local/lib/python3.7/dist-packages/numpy/core/include/numpy/ndarrayobject.h:12\u001b[m\u001b[K,\n",
            "                 from \u001b[01m\u001b[K/usr/local/lib/python3.7/dist-packages/numpy/core/include/numpy/arrayobject.h:4\u001b[m\u001b[K,\n",
            "                 from \u001b[01m\u001b[Kcaiman/source_extraction/cnmf/oasis.cpp:654\u001b[m\u001b[K:\n",
            "\u001b[01m\u001b[K/usr/local/lib/python3.7/dist-packages/numpy/core/include/numpy/npy_1_7_deprecated_api.h:17:2:\u001b[m\u001b[K \u001b[01;35m\u001b[Kwarning: \u001b[m\u001b[K#warning \"Using deprecated NumPy API, disable it with \" \"#define NPY_NO_DEPRECATED_API NPY_1_7_API_VERSION\" [\u001b[01;35m\u001b[K-Wcpp\u001b[m\u001b[K]\n",
            " #\u001b[01;35m\u001b[Kwarning\u001b[m\u001b[K \"Using deprecated NumPy API, disable it with \" \\\n",
            "  \u001b[01;35m\u001b[K^~~~~~~\u001b[m\u001b[K\n",
            "\u001b[01m\u001b[Kcaiman/source_extraction/cnmf/oasis.cpp:\u001b[m\u001b[K In function ‘\u001b[01m\u001b[KPyObject* __pyx_pf_6caiman_17source_extraction_4cnmf_5oasis_5OASIS_4fit_next_tmp(__pyx_obj_6caiman_17source_extraction_4cnmf_5oasis_OASIS*, PyObject*, PyObject*)\u001b[m\u001b[K’:\n",
            "\u001b[01m\u001b[Kcaiman/source_extraction/cnmf/oasis.cpp:4994:47:\u001b[m\u001b[K \u001b[01;35m\u001b[Kwarning: \u001b[m\u001b[Kcomparison between signed and unsigned integer expressions [\u001b[01;35m\u001b[K-Wsign-compare\u001b[m\u001b[K]\n",
            "         if (((\u001b[01;35m\u001b[K(__pyx_v_newpool.t + __pyx_v_k) < __pyx_v_self->_y.size()\u001b[m\u001b[K) != 0)) {\n",
            "               \u001b[01;35m\u001b[K~~~~~~~~~~~~~~~~~~~~~~~~~~~~~~~~^~~~~~~~~~~~~~~~~~~~~~~~~\u001b[m\u001b[K\n",
            "\u001b[01m\u001b[Kcaiman/source_extraction/cnmf/oasis.cpp:\u001b[m\u001b[K In function ‘\u001b[01m\u001b[KPyObject* __pyx_pf_6caiman_17source_extraction_4cnmf_5oasis_20constrained_oasisAR1_2oasis(PyObject*, std::vector<__pyx_t_6caiman_17source_extraction_4cnmf_5oasis_Pool>, __pyx_t_6caiman_17source_extraction_4cnmf_5oasis_SINGLE, PyArrayObject*)\u001b[m\u001b[K’:\n",
            "\u001b[01m\u001b[Kcaiman/source_extraction/cnmf/oasis.cpp:10810:29:\u001b[m\u001b[K \u001b[01;35m\u001b[Kwarning: \u001b[m\u001b[Kcomparison between signed and unsigned integer expressions [\u001b[01;35m\u001b[K-Wsign-compare\u001b[m\u001b[K]\n",
            "     __pyx_t_1 = ((\u001b[01;35m\u001b[K__pyx_v_i < (__pyx_v_P.size() - 1)\u001b[m\u001b[K) != 0);\n",
            "                   \u001b[01;35m\u001b[K~~~~~~~~~~^~~~~~~~~~~~~~~~~~~~~~~~\u001b[m\u001b[K\n",
            "\u001b[01m\u001b[Kcaiman/source_extraction/cnmf/oasis.cpp:\u001b[m\u001b[K In function ‘\u001b[01m\u001b[KPyObject* __pyx_pf_6caiman_17source_extraction_4cnmf_5oasis_20constrained_oasisAR1_8bar(PyObject*, PyObject*, PyObject*, PyObject*, PyObject*)\u001b[m\u001b[K’:\n",
            "\u001b[01m\u001b[Kcaiman/source_extraction/cnmf/oasis.cpp:12856:43:\u001b[m\u001b[K \u001b[01;35m\u001b[Kwarning: \u001b[m\u001b[Kcomparison between signed and unsigned integer expressions [\u001b[01;35m\u001b[K-Wsign-compare\u001b[m\u001b[K]\n",
            "   if (((\u001b[01;35m\u001b[K__pyx_cur_scope->__pyx_v_P.size() < __pyx_cur_scope->__pyx_v_optimize_g\u001b[m\u001b[K) != 0)) {\n",
            "         \u001b[01;35m\u001b[K~~~~~~~~~~~~~~~~~~~~~~~~~~~~~~~~~~^~~~~~~~~~~~~~~~~~~~~~~~~~~~~~~~~~~~~\u001b[m\u001b[K\n",
            "\u001b[01m\u001b[Kcaiman/source_extraction/cnmf/oasis.cpp:\u001b[m\u001b[K In function ‘\u001b[01m\u001b[KPyObject* __pyx_pf_6caiman_17source_extraction_4cnmf_5oasis_2constrained_oasisAR1(PyObject*, PyArrayObject*, __pyx_t_6caiman_17source_extraction_4cnmf_5oasis_SINGLE, __pyx_t_6caiman_17source_extraction_4cnmf_5oasis_SINGLE, PyLongObject*, PyLongObject*, int, int, int, int, __pyx_t_6caiman_17source_extraction_4cnmf_5oasis_SINGLE)\u001b[m\u001b[K’:\n",
            "\u001b[01m\u001b[Kcaiman/source_extraction/cnmf/oasis.cpp:14079:37:\u001b[m\u001b[K \u001b[01;35m\u001b[Kwarning: \u001b[m\u001b[Kcomparison between signed and unsigned integer expressions [\u001b[01;35m\u001b[K-Wsign-compare\u001b[m\u001b[K]\n",
            "       for (__pyx_t_1 = 0; \u001b[01;35m\u001b[K__pyx_t_1 < __pyx_t_20\u001b[m\u001b[K; __pyx_t_1+=1) {\n",
            "                           \u001b[01;35m\u001b[K~~~~~~~~~~^~~~~~~~~~~~\u001b[m\u001b[K\n",
            "\u001b[01m\u001b[Kcaiman/source_extraction/cnmf/oasis.cpp:14089:34:\u001b[m\u001b[K \u001b[01;35m\u001b[Kwarning: \u001b[m\u001b[Kcomparison between signed and unsigned integer expressions [\u001b[01;35m\u001b[K-Wsign-compare\u001b[m\u001b[K]\n",
            "         __pyx_t_15 = ((\u001b[01;35m\u001b[K__pyx_v_i == (__pyx_cur_scope->__pyx_v_P.size() - 1)\u001b[m\u001b[K) != 0);\n",
            "                        \u001b[01;35m\u001b[K~~~~~~~~~~^~~~~~~~~~~~~~~~~~~~~~~~~~~~~~~~~~~~~~~~~~\u001b[m\u001b[K\n",
            "\u001b[01m\u001b[Kcaiman/source_extraction/cnmf/oasis.cpp:14298:37:\u001b[m\u001b[K \u001b[01;35m\u001b[Kwarning: \u001b[m\u001b[Kcomparison between signed and unsigned integer expressions [\u001b[01;35m\u001b[K-Wsign-compare\u001b[m\u001b[K]\n",
            "       for (__pyx_t_1 = 0; \u001b[01;35m\u001b[K__pyx_t_1 < __pyx_t_20\u001b[m\u001b[K; __pyx_t_1+=1) {\n",
            "                           \u001b[01;35m\u001b[K~~~~~~~~~~^~~~~~~~~~~~\u001b[m\u001b[K\n",
            "\u001b[01m\u001b[Kcaiman/source_extraction/cnmf/oasis.cpp:14416:35:\u001b[m\u001b[K \u001b[01;35m\u001b[Kwarning: \u001b[m\u001b[Kcomparison between signed and unsigned integer expressions [\u001b[01;35m\u001b[K-Wsign-compare\u001b[m\u001b[K]\n",
            "       __pyx_t_2 = ((\u001b[01;35m\u001b[K__pyx_v_count < (__pyx_v_max_iter - 1)\u001b[m\u001b[K) != 0);\n",
            "                     \u001b[01;35m\u001b[K~~~~~~~~~~~~~~^~~~~~~~~~~~~~~~~~~~~~~~\u001b[m\u001b[K\n",
            "\u001b[01m\u001b[Kcaiman/source_extraction/cnmf/oasis.cpp:14439:39:\u001b[m\u001b[K \u001b[01;35m\u001b[Kwarning: \u001b[m\u001b[Kcomparison between signed and unsigned integer expressions [\u001b[01;35m\u001b[K-Wsign-compare\u001b[m\u001b[K]\n",
            "         for (__pyx_t_1 = 0; \u001b[01;35m\u001b[K__pyx_t_1 < __pyx_t_20\u001b[m\u001b[K; __pyx_t_1+=1) {\n",
            "                             \u001b[01;35m\u001b[K~~~~~~~~~~^~~~~~~~~~~~\u001b[m\u001b[K\n",
            "\u001b[01m\u001b[Kcaiman/source_extraction/cnmf/oasis.cpp:14469:39:\u001b[m\u001b[K \u001b[01;35m\u001b[Kwarning: \u001b[m\u001b[Kcomparison between signed and unsigned integer expressions [\u001b[01;35m\u001b[K-Wsign-compare\u001b[m\u001b[K]\n",
            "         for (__pyx_t_1 = 0; \u001b[01;35m\u001b[K__pyx_t_1 < __pyx_t_20\u001b[m\u001b[K; __pyx_t_1+=1) {\n",
            "                             \u001b[01;35m\u001b[K~~~~~~~~~~^~~~~~~~~~~~\u001b[m\u001b[K\n",
            "\u001b[01m\u001b[Kcaiman/source_extraction/cnmf/oasis.cpp:14802:39:\u001b[m\u001b[K \u001b[01;35m\u001b[Kwarning: \u001b[m\u001b[Kcomparison between signed and unsigned integer expressions [\u001b[01;35m\u001b[K-Wsign-compare\u001b[m\u001b[K]\n",
            "         for (__pyx_t_1 = 0; \u001b[01;35m\u001b[K__pyx_t_1 < __pyx_t_20\u001b[m\u001b[K; __pyx_t_1+=1) {\n",
            "                             \u001b[01;35m\u001b[K~~~~~~~~~~^~~~~~~~~~~~\u001b[m\u001b[K\n",
            "\u001b[01m\u001b[Kcaiman/source_extraction/cnmf/oasis.cpp:15529:36:\u001b[m\u001b[K \u001b[01;35m\u001b[Kwarning: \u001b[m\u001b[Kcomparison between signed and unsigned integer expressions [\u001b[01;35m\u001b[K-Wsign-compare\u001b[m\u001b[K]\n",
            "       __pyx_t_25 = ((\u001b[01;35m\u001b[K__pyx_v_count < __pyx_v_max_iter\u001b[m\u001b[K) != 0);\n",
            "                      \u001b[01;35m\u001b[K~~~~~~~~~~~~~~^~~~~~~~~~~~~~~~~~\u001b[m\u001b[K\n",
            "\u001b[01m\u001b[Kcaiman/source_extraction/cnmf/oasis.cpp:15552:37:\u001b[m\u001b[K \u001b[01;35m\u001b[Kwarning: \u001b[m\u001b[Kcomparison between signed and unsigned integer expressions [\u001b[01;35m\u001b[K-Wsign-compare\u001b[m\u001b[K]\n",
            "       for (__pyx_t_1 = 0; \u001b[01;35m\u001b[K__pyx_t_1 < __pyx_t_20\u001b[m\u001b[K; __pyx_t_1+=1) {\n",
            "                           \u001b[01;35m\u001b[K~~~~~~~~~~^~~~~~~~~~~~\u001b[m\u001b[K\n",
            "\u001b[01m\u001b[Kcaiman/source_extraction/cnmf/oasis.cpp:15562:34:\u001b[m\u001b[K \u001b[01;35m\u001b[Kwarning: \u001b[m\u001b[Kcomparison between signed and unsigned integer expressions [\u001b[01;35m\u001b[K-Wsign-compare\u001b[m\u001b[K]\n",
            "         __pyx_t_15 = ((\u001b[01;35m\u001b[K__pyx_v_i == (__pyx_cur_scope->__pyx_v_P.size() - 1)\u001b[m\u001b[K) != 0);\n",
            "                        \u001b[01;35m\u001b[K~~~~~~~~~~^~~~~~~~~~~~~~~~~~~~~~~~~~~~~~~~~~~~~~~~~~\u001b[m\u001b[K\n",
            "\u001b[01m\u001b[Kcaiman/source_extraction/cnmf/oasis.cpp:15705:37:\u001b[m\u001b[K \u001b[01;35m\u001b[Kwarning: \u001b[m\u001b[Kcomparison between signed and unsigned integer expressions [\u001b[01;35m\u001b[K-Wsign-compare\u001b[m\u001b[K]\n",
            "       for (__pyx_t_1 = 0; \u001b[01;35m\u001b[K__pyx_t_1 < __pyx_t_20\u001b[m\u001b[K; __pyx_t_1+=1) {\n",
            "                           \u001b[01;35m\u001b[K~~~~~~~~~~^~~~~~~~~~~~\u001b[m\u001b[K\n",
            "\u001b[01m\u001b[Kcaiman/source_extraction/cnmf/oasis.cpp:15918:37:\u001b[m\u001b[K \u001b[01;35m\u001b[Kwarning: \u001b[m\u001b[Kcomparison between signed and unsigned integer expressions [\u001b[01;35m\u001b[K-Wsign-compare\u001b[m\u001b[K]\n",
            "       for (__pyx_t_1 = 0; \u001b[01;35m\u001b[K__pyx_t_1 < __pyx_t_20\u001b[m\u001b[K; __pyx_t_1+=1) {\n",
            "                           \u001b[01;35m\u001b[K~~~~~~~~~~^~~~~~~~~~~~\u001b[m\u001b[K\n",
            "\u001b[01m\u001b[Kcaiman/source_extraction/cnmf/oasis.cpp:16155:36:\u001b[m\u001b[K \u001b[01;35m\u001b[Kwarning: \u001b[m\u001b[Kcomparison between signed and unsigned integer expressions [\u001b[01;35m\u001b[K-Wsign-compare\u001b[m\u001b[K]\n",
            "       __pyx_t_25 = ((\u001b[01;35m\u001b[K__pyx_v_count < (__pyx_v_max_iter - 1)\u001b[m\u001b[K) != 0);\n",
            "                      \u001b[01;35m\u001b[K~~~~~~~~~~~~~~^~~~~~~~~~~~~~~~~~~~~~~~\u001b[m\u001b[K\n",
            "\u001b[01m\u001b[Kcaiman/source_extraction/cnmf/oasis.cpp:16178:39:\u001b[m\u001b[K \u001b[01;35m\u001b[Kwarning: \u001b[m\u001b[Kcomparison between signed and unsigned integer expressions [\u001b[01;35m\u001b[K-Wsign-compare\u001b[m\u001b[K]\n",
            "         for (__pyx_t_1 = 0; \u001b[01;35m\u001b[K__pyx_t_1 < __pyx_t_20\u001b[m\u001b[K; __pyx_t_1+=1) {\n",
            "                             \u001b[01;35m\u001b[K~~~~~~~~~~^~~~~~~~~~~~\u001b[m\u001b[K\n",
            "\u001b[01m\u001b[Kcaiman/source_extraction/cnmf/oasis.cpp:16208:39:\u001b[m\u001b[K \u001b[01;35m\u001b[Kwarning: \u001b[m\u001b[Kcomparison between signed and unsigned integer expressions [\u001b[01;35m\u001b[K-Wsign-compare\u001b[m\u001b[K]\n",
            "         for (__pyx_t_1 = 0; \u001b[01;35m\u001b[K__pyx_t_1 < __pyx_t_20\u001b[m\u001b[K; __pyx_t_1+=1) {\n",
            "                             \u001b[01;35m\u001b[K~~~~~~~~~~^~~~~~~~~~~~\u001b[m\u001b[K\n",
            "\u001b[01m\u001b[Kcaiman/source_extraction/cnmf/oasis.cpp:16606:39:\u001b[m\u001b[K \u001b[01;35m\u001b[Kwarning: \u001b[m\u001b[Kcomparison between signed and unsigned integer expressions [\u001b[01;35m\u001b[K-Wsign-compare\u001b[m\u001b[K]\n",
            "         for (__pyx_t_1 = 0; \u001b[01;35m\u001b[K__pyx_t_1 < __pyx_t_20\u001b[m\u001b[K; __pyx_t_1+=1) {\n",
            "                             \u001b[01;35m\u001b[K~~~~~~~~~~^~~~~~~~~~~~\u001b[m\u001b[K\n",
            "\u001b[01m\u001b[Kcaiman/source_extraction/cnmf/oasis.cpp:17123:35:\u001b[m\u001b[K \u001b[01;35m\u001b[Kwarning: \u001b[m\u001b[Kcomparison between signed and unsigned integer expressions [\u001b[01;35m\u001b[K-Wsign-compare\u001b[m\u001b[K]\n",
            "     for (__pyx_t_1 = 0; \u001b[01;35m\u001b[K__pyx_t_1 < __pyx_t_20\u001b[m\u001b[K; __pyx_t_1+=1) {\n",
            "                         \u001b[01;35m\u001b[K~~~~~~~~~~^~~~~~~~~~~~\u001b[m\u001b[K\n",
            "\u001b[01m\u001b[Kcaiman/source_extraction/cnmf/oasis.cpp:17940:37:\u001b[m\u001b[K \u001b[01;35m\u001b[Kwarning: \u001b[m\u001b[Kcomparison between signed and unsigned integer expressions [\u001b[01;35m\u001b[K-Wsign-compare\u001b[m\u001b[K]\n",
            "       for (__pyx_t_1 = 0; \u001b[01;35m\u001b[K__pyx_t_1 < __pyx_t_20\u001b[m\u001b[K; __pyx_t_1+=1) {\n",
            "                           \u001b[01;35m\u001b[K~~~~~~~~~~^~~~~~~~~~~~\u001b[m\u001b[K\n",
            "x86_64-linux-gnu-g++ -pthread -shared -Wl,-O1 -Wl,-Bsymbolic-functions -Wl,-Bsymbolic-functions -Wl,-z,relro -Wl,-Bsymbolic-functions -Wl,-z,relro -g -fdebug-prefix-map=/build/python3.7-Y7dWVB/python3.7-3.7.12=. -fstack-protector-strong -Wformat -Werror=format-security -Wdate-time -D_FORTIFY_SOURCE=2 build/temp.linux-x86_64-3.7/caiman/source_extraction/cnmf/oasis.o -o /content/CaImAn/caiman/source_extraction/cnmf/oasis.cpython-37m-x86_64-linux-gnu.so\n",
            "Installed /root/caiman_data\n"
          ]
        }
      ]
    },
    {
      "cell_type": "code",
      "metadata": {
        "id": "7HiN-CCX8ETk"
      },
      "source": [
        "# Clone CaImAn from Github\n",
        "#!git clone https://github.com/flatironinstitute/CaImAn.git"
      ],
      "execution_count": 5,
      "outputs": []
    },
    {
      "cell_type": "code",
      "metadata": {
        "id": "6VsMknf78Jez"
      },
      "source": [
        "# Install CaImAn package\n",
        "#%cd /content/CaImAn\n",
        "#!pip install . "
      ],
      "execution_count": 6,
      "outputs": []
    },
    {
      "cell_type": "code",
      "metadata": {
        "id": "lPoI0C7-8FYs"
      },
      "source": [
        "# Install caiman dependencies\n",
        "#!pip install -r requirements.txt"
      ],
      "execution_count": 7,
      "outputs": []
    },
    {
      "cell_type": "code",
      "metadata": {
        "id": "Co66B0mw_cjC"
      },
      "source": [
        "#!python setup.py build_ext -i"
      ],
      "execution_count": 8,
      "outputs": []
    },
    {
      "cell_type": "code",
      "metadata": {
        "id": "T5qIjoqV99Yt"
      },
      "source": [
        "#!python caimanmanager.py install --inplace"
      ],
      "execution_count": 9,
      "outputs": []
    },
    {
      "cell_type": "code",
      "metadata": {
        "id": "YsfDTIRKJliN"
      },
      "source": [
        "\"\"\"\n",
        "Basic stripped-down demo for running the CNMF source extraction algorithm with\n",
        "CaImAn and evaluation the components. The analysis can be run either in the\n",
        "whole FOV or in patches. For a complete pipeline (including motion correction)\n",
        "check demo_pipeline.py\n",
        "Data courtesy of W. Yang, D. Peterka and R. Yuste (Columbia University)\n",
        "This demo is designed to be run under spyder or jupyter; its plotting functions\n",
        "are tailored for that environment.\n",
        "@authors: @agiovann and @epnev\n",
        "\n",
        "\n",
        "import cv2\n",
        "import glob\n",
        "import logging\n",
        "import numpy as np\n",
        "import os\n",
        "import matplotlib.pyplot as plt\n",
        "\n",
        "\n",
        "try:\n",
        "    cv2.setNumThreads(0)\n",
        "except:\n",
        "    pass\n",
        "\n",
        "try:\n",
        "    if __IPYTHON__:\n",
        "        get_ipython().magic('load_ext autoreload')\n",
        "        get_ipython().magic('autoreload 2')\n",
        "except NameError:\n",
        "    pass\n",
        "\n",
        "\n",
        "import caiman as cm\n",
        "from caiman.paths import caiman_datadir\n",
        "from caiman.source_extraction.cnmf import cnmf as cnmf\n",
        "from caiman.source_extraction.cnmf import params as params\n",
        "from caiman.summary_images import local_correlations_movie_offline\n",
        "\n",
        "\"\"\""
      ],
      "execution_count": null,
      "outputs": []
    },
    {
      "cell_type": "code",
      "metadata": {
        "id": "BJtcnIiCBWQb"
      },
      "source": [
        "#Using h5py to open and explore a test raw stack\n",
        "#paths into google drive to a random pre-motion correction movie\n",
        "stackRaw = h5py.File('../drive/MyDrive/DS6011_Capstone_VisualNeuroscience/DATA/stackRaw/210725_1/210725_1_10_stackRaw_pmc_tm4_t5_syt_.mat', 'r+')\n"
      ],
      "execution_count": 4,
      "outputs": []
    },
    {
      "cell_type": "code",
      "metadata": {
        "id": "AFylueZ4Nb8l"
      },
      "source": [
        "#save movie array as a variable to check a few frames\n",
        "mov = np.array(stackRaw['stackRaw_pmc'])"
      ],
      "execution_count": 6,
      "outputs": []
    },
    {
      "cell_type": "code",
      "metadata": {
        "colab": {
          "base_uri": "https://localhost:8080/",
          "height": 236
        },
        "id": "2mVK735SmQYu",
        "outputId": "f58921d1-7828-4637-d499-7180b5cbea85"
      },
      "source": [
        "#numpy function to flip the x and y for whole movie array\n",
        "flip = np.transpose(mov, axes = (0,2,1))\n",
        "#show the 500th frame\n",
        "plt.imshow(flip[500])"
      ],
      "execution_count": 7,
      "outputs": [
        {
          "output_type": "execute_result",
          "data": {
            "text/plain": [
              "<matplotlib.image.AxesImage at 0x7f2ba788fb90>"
            ]
          },
          "metadata": {},
          "execution_count": 7
        },
        {
          "output_type": "display_data",
          "data": {
            "image/png": "[encoded data removed]",
            "text/plain": [
              "<Figure size 432x288 with 1 Axes>"
            ]
          },
          "metadata": {
            "needs_background": "light"
          }
        }
      ]
    },
    {
      "cell_type": "code",
      "metadata": {
        "id": "Fj9MBxjPh6lp"
      },
      "source": [
        "#save the first 500 frames back to an h5 file to test with\n",
        "#This is just for development so we don't have to wait for processing times\n",
        "h5f = h5py.File('../drive/MyDrive/DS6011_Capstone_VisualNeuroscience/DATA/subset_stackRaw_pmc.h5', 'w')\n",
        "h5f.create_dataset('mov', data=flip[:500])\n",
        "\n",
        "h5f.close()"
      ],
      "execution_count": 71,
      "outputs": []
    },
    {
      "cell_type": "code",
      "metadata": {
        "id": "ASzv3CJyDsT2"
      },
      "source": [
        "# %%\n",
        "# Set up the logger; change this if you like.\n",
        "# You can log to a file using the filename parameter, or make the output more or less\n",
        "# verbose by setting level to logging.DEBUG, logging.INFO, logging.WARNING, or logging.ERROR\n",
        "\n",
        "#logging.basicConfig(format=\n",
        "#                    \"%(relativeCreated)12d [%(filename)s:%(funcName)20s():%(lineno)s]\"\\\n",
        "#                    \"[%(process)d] %(message)s\",\n",
        "#                    level=logging.WARNING)\n",
        "                    # filename=\"/tmp/caiman.log\",\n",
        "\n"
      ],
      "execution_count": 17,
      "outputs": []
    },
    {
      "cell_type": "code",
      "metadata": {
        "id": "HzqeUrwjDsWg"
      },
      "source": [
        "# start a cluster\n",
        "c, dview, n_processes =\\\n",
        "    cm.cluster.setup_cluster(backend='local', n_processes=None,\n",
        "                                 single_thread=False)"
      ],
      "execution_count": 9,
      "outputs": []
    },
    {
      "cell_type": "code",
      "metadata": {
        "id": "kcc1v4IOK9B6"
      },
      "source": [
        "#dview.terminate()"
      ],
      "execution_count": 19,
      "outputs": []
    },
    {
      "cell_type": "code",
      "metadata": {
        "id": "v8TzDU7qfVmB"
      },
      "source": [
        "#%% First setup some parameters for data and motion correction\n",
        "# dataset dependent parameters\n",
        "\n",
        "# ADJUSTED FROM DEFAULTS TO CARL'S PARAMS ON 11/13 (not completely)\n",
        "\n",
        "fr = 20             # imaging rate in frames per second\n",
        "decay_time = 0.4    # length of a typical transient in seconds\n",
        "dxy = (2., 2.)      # spatial resolution in x and y in (um per pixel)\n",
        "# note the lower than usual spatial resolution here\n",
        "max_shift_um = (12., 12.)       # maximum shift in um\n",
        "patch_motion_um = (100., 100.)  # patch size for non-rigid correction in um\n",
        "\n",
        "# motion correction parameters\n",
        "pw_rigid = False       # flag to select rigid vs pw_rigid motion correction\n",
        "# maximum allowed rigid shift in pixels\n",
        "max_shifts = [int(a/b) for a, b in zip(max_shift_um, dxy)]\n",
        "# start a new patch for pw-rigid motion correction every x pixels\n",
        "strides = tuple([int(a/b) for a, b in zip(patch_motion_um, dxy)])\n",
        "# overlap between pathes (size of patch in pixels: strides+overlaps)\n",
        "overlaps = (24, 24)\n",
        "# maximum deviation allowed for patch with respect to rigid shifts\n",
        "max_deviation_rigid = 3\n",
        "\n",
        "opts = params.CNMFParams()\n",
        "\n",
        "opts.set('motion', {\n",
        "    'fnames': fnames,\n",
        "    'fr': fr,\n",
        "    'decay_time': decay_time,\n",
        "    'dxy': dxy,\n",
        "    'pw_rigid': pw_rigid,\n",
        "    'max_shifts': max_shifts,\n",
        "    'strides': strides,\n",
        "    'overlaps': overlaps,\n",
        "    'max_deviation_rigid': max_deviation_rigid,\n",
        "    'border_nan': 'copy'\n",
        "    #'var_name_hdf5': 'stackRaw_pmc'\n",
        "})\n",
        "\n",
        "\n"
      ],
      "execution_count": 73,
      "outputs": []
    },
    {
      "cell_type": "code",
      "metadata": {
        "id": "tLzfCy0wFb-g"
      },
      "source": [
        "# set up some parameters for extraction\n",
        "fnames = ['../drive/MyDrive/DS6011_Capstone_VisualNeuroscience/DATA/subset_stackRaw_pmc.h5']\n",
        "                        # file(s) to be analyzed\n",
        "is_patches = True       # flag for processing in patches or not\n",
        "fr = 20                 # approximate frame rate of data\n",
        "decay_time = .4        # length of transient\n",
        "\n",
        "if is_patches:          # PROCESS IN PATCHES AND THEN COMBINE\n",
        "    rf = 25             # half size of each patch\n",
        "    stride = 5          # overlap between patches\n",
        "    K = 3               # number of components in each patch\n",
        "else:                   # PROCESS THE WHOLE FOV AT ONCE\n",
        "    rf = None           # setting these parameters to None\n",
        "    stride = None       # will run CNMF on the whole FOV\n",
        "    K = 40              # number of neurons expected (in the whole FOV)\n",
        "\n",
        "gSig = [6, 6]           # expected half size of neurons\n",
        "merge_thresh = 0.95     # merging threshold, max correlation allowed\n",
        "p = 0                   # order of the autoregressive system\n",
        "gnb = 2                 # global background order\n",
        "\n",
        "var_name_hdf5 = 'stackRaw_pmc' #variable to path caiman into the subfolder within our mat files\n",
        "\n",
        "opts.set('data', {'fnames': fnames,\n",
        "                   'fr': fr,\n",
        "                   'decay_time': decay_time,\n",
        "                   'rf': rf,\n",
        "                   'stride': stride,\n",
        "                   'K': K,\n",
        "                   'gSig': gSig,\n",
        "                   'merge_thr': merge_thresh,\n",
        "                   'p': p,\n",
        "                   'nb': gnb\n",
        "                   #'var_name_hdf5': var_name_hdf5\n",
        "                  })\n",
        "\n",
        "\n"
      ],
      "execution_count": 74,
      "outputs": []
    },
    {
      "cell_type": "code",
      "metadata": {
        "id": "0JAZz7VSWsEd"
      },
      "source": [
        "# %% COMPONENT EVALUATION\n",
        "# the components are evaluated in three ways:\n",
        "#   a) the shape of each component must be correlated with the data\n",
        "#   b) a minimum peak SNR is required over the length of a transient\n",
        "#   c) each shape passes a CNN based classifier (this will pick up only neurons\n",
        "#           and filter out active processes)\n",
        "\n",
        "min_SNR = 2      # peak SNR for accepted components (if above this, acept)\n",
        "rval_thr = 0.95     # space correlation threshold (if above this, accept)\n",
        "use_cnn = True      # use the CNN classifier\n",
        "min_cnn_thr = 0.90  # if cnn classifier predicts below this value, reject\n",
        "cnn_lowest = 0.1 # neurons with cnn probability lower than this value are rejected\n",
        "\n",
        "opts.set('quality', {'min_SNR': min_SNR,\n",
        "                                'rval_thr': rval_thr,\n",
        "                                'use_cnn': use_cnn,\n",
        "                                'min_cnn_thr': min_cnn_thr,\n",
        "                                'cnn_lowest': cnn_lowest})\n",
        "\n",
        "#cnm2.estimates.evaluate_components(images, cnm2.params, dview=dview)"
      ],
      "execution_count": 75,
      "outputs": []
    },
    {
      "cell_type": "code",
      "metadata": {
        "colab": {
          "base_uri": "https://localhost:8080/"
        },
        "id": "rby2PvYaf3wC",
        "outputId": "c24aa965-3894-4999-819c-1340073a6a71"
      },
      "source": [
        "opts"
      ],
      "execution_count": 88,
      "outputs": [
        {
          "output_type": "execute_result",
          "data": {
            "text/plain": [
              "CNMFParams:\n",
              "\n",
              "data:\n",
              "\n",
              "{'caiman_version': '1.9.5',\n",
              " 'decay_time': 0.4,\n",
              " 'dims': None,\n",
              " 'dxy': (1, 1),\n",
              " 'fnames': ['../drive/MyDrive/DS6011_Capstone_VisualNeuroscience/DATA/subset_stackRaw_pmc.h5'],\n",
              " 'fr': 20,\n",
              " 'last_commit': 'GITW-a814402519f822d530f61f46d62840ca634e04d3',\n",
              " 'mmap_C': None,\n",
              " 'mmap_F': None,\n",
              " 'var_name_hdf5': 'mov'}\n",
              "\n",
              "spatial_params:\n",
              "\n",
              "{'block_size_spat': 5000,\n",
              " 'dist': 3,\n",
              " 'expandCore': array([[0, 0, 1, 0, 0],\n",
              "       [0, 1, 1, 1, 0],\n",
              "       [1, 1, 1, 1, 1],\n",
              "       [0, 1, 1, 1, 0],\n",
              "       [0, 0, 1, 0, 0]]),\n",
              " 'extract_cc': True,\n",
              " 'maxthr': 0.1,\n",
              " 'medw': None,\n",
              " 'method_exp': 'dilate',\n",
              " 'method_ls': 'lasso_lars',\n",
              " 'n_pixels_per_process': 32768,\n",
              " 'nb': 1,\n",
              " 'normalize_yyt_one': True,\n",
              " 'nrgthr': 0.9999,\n",
              " 'num_blocks_per_run_spat': 20,\n",
              " 'se': None,\n",
              " 'ss': None,\n",
              " 'thr_method': 'nrg',\n",
              " 'update_background_components': True}\n",
              "\n",
              "temporal_params:\n",
              "\n",
              "{'ITER': 2,\n",
              " 'bas_nonneg': False,\n",
              " 'block_size_temp': 5000,\n",
              " 'fudge_factor': 0.96,\n",
              " 'lags': 5,\n",
              " 'memory_efficient': False,\n",
              " 'method_deconvolution': 'oasis',\n",
              " 'nb': 1,\n",
              " 'noise_method': 'mean',\n",
              " 'noise_range': [0.25, 0.5],\n",
              " 'num_blocks_per_run_temp': 20,\n",
              " 'optimize_g': False,\n",
              " 'p': 2,\n",
              " 's_min': None,\n",
              " 'solvers': ['ECOS', 'SCS'],\n",
              " 'verbosity': False}\n",
              "\n",
              "init_params:\n",
              "\n",
              "{'K': 30,\n",
              " 'SC_kernel': 'heat',\n",
              " 'SC_nnn': 20,\n",
              " 'SC_normalize': True,\n",
              " 'SC_sigma': 1,\n",
              " 'SC_thr': 0,\n",
              " 'SC_use_NN': False,\n",
              " 'alpha_snmf': 100,\n",
              " 'center_psf': False,\n",
              " 'gSig': [5, 5],\n",
              " 'gSiz': (11, 11),\n",
              " 'init_iter': 2,\n",
              " 'kernel': None,\n",
              " 'lambda_gnmf': 1,\n",
              " 'maxIter': 5,\n",
              " 'max_iter_snmf': 500,\n",
              " 'method_init': 'greedy_roi',\n",
              " 'min_corr': 0.85,\n",
              " 'min_pnr': 20,\n",
              " 'nIter': 5,\n",
              " 'nb': 1,\n",
              " 'normalize_init': True,\n",
              " 'options_local_NMF': None,\n",
              " 'perc_baseline_snmf': 20,\n",
              " 'ring_size_factor': 1.5,\n",
              " 'rolling_length': 100,\n",
              " 'rolling_sum': True,\n",
              " 'seed_method': 'auto',\n",
              " 'sigma_smooth_snmf': (0.5, 0.5, 0.5),\n",
              " 'ssub': 2,\n",
              " 'ssub_B': 2,\n",
              " 'tsub': 2}\n",
              "\n",
              "preprocess_params:\n",
              "\n",
              "{'check_nan': True,\n",
              " 'compute_g': False,\n",
              " 'include_noise': False,\n",
              " 'lags': 5,\n",
              " 'max_num_samples_fft': 3072,\n",
              " 'n_pixels_per_process': 32768,\n",
              " 'noise_method': 'mean',\n",
              " 'noise_range': [0.25, 0.5],\n",
              " 'p': 2,\n",
              " 'pixels': None,\n",
              " 'sn': None}\n",
              "\n",
              "patch_params:\n",
              "\n",
              "{'border_pix': 0,\n",
              " 'del_duplicates': False,\n",
              " 'in_memory': True,\n",
              " 'low_rank_background': True,\n",
              " 'memory_fact': 1,\n",
              " 'n_processes': 1,\n",
              " 'nb_patch': 1,\n",
              " 'only_init': True,\n",
              " 'p_patch': 0,\n",
              " 'p_ssub': 2,\n",
              " 'p_tsub': 2,\n",
              " 'remove_very_bad_comps': False,\n",
              " 'rf': None,\n",
              " 'skip_refinement': False,\n",
              " 'stride': None}\n",
              "\n",
              "online:\n",
              "\n",
              "{'N_samples_exceptionality': 12,\n",
              " 'W_update_factor': 1,\n",
              " 'batch_update_suff_stat': False,\n",
              " 'dist_shape_update': False,\n",
              " 'ds_factor': 1,\n",
              " 'epochs': 1,\n",
              " 'expected_comps': 500,\n",
              " 'full_XXt': False,\n",
              " 'init_batch': 500,\n",
              " 'init_method': 'bare',\n",
              " 'iters_shape': 5,\n",
              " 'max_comp_update_shape': inf,\n",
              " 'max_num_added': 5,\n",
              " 'max_shifts_online': 10,\n",
              " 'min_SNR': 2.5,\n",
              " 'min_num_trial': 5,\n",
              " 'minibatch_shape': 100,\n",
              " 'minibatch_suff_stat': 5,\n",
              " 'motion_correct': True,\n",
              " 'movie_name_online': 'online_movie.mp4',\n",
              " 'n_refit': 0,\n",
              " 'normalize': False,\n",
              " 'num_times_comp_updated': inf,\n",
              " 'opencv_codec': 'H264',\n",
              " 'path_to_model': '/root/caiman_data/model/cnn_model_online.h5',\n",
              " 'ring_CNN': False,\n",
              " 'rval_thr': 0.8,\n",
              " 'save_online_movie': False,\n",
              " 'show_movie': False,\n",
              " 'simultaneously': False,\n",
              " 'sniper_mode': False,\n",
              " 'stop_detection': False,\n",
              " 'test_both': False,\n",
              " 'thresh_CNN_noisy': 0.5,\n",
              " 'thresh_fitness_delta': -50,\n",
              " 'thresh_fitness_raw': -60.97977932734429,\n",
              " 'thresh_overlap': 0.5,\n",
              " 'update_freq': 200,\n",
              " 'update_num_comps': True,\n",
              " 'use_corr_img': False,\n",
              " 'use_dense': True,\n",
              " 'use_peak_max': True}\n",
              "\n",
              "quality:\n",
              "\n",
              "{'SNR_lowest': 0.5,\n",
              " 'cnn_lowest': 0.1,\n",
              " 'gSig_range': None,\n",
              " 'max_ecc': 3,\n",
              " 'min_SNR': 2,\n",
              " 'min_cnn_thr': 0.9,\n",
              " 'rval_lowest': -1,\n",
              " 'rval_thr': 0.95,\n",
              " 'use_cnn': True,\n",
              " 'use_ecc': False}\n",
              "\n",
              "merging:\n",
              "\n",
              "{'do_merge': True,\n",
              " 'max_merge_area': None,\n",
              " 'merge_parallel': False,\n",
              " 'merge_thr': 0.8}\n",
              "\n",
              "motion:\n",
              "\n",
              "{'border_nan': 'copy',\n",
              " 'gSig_filt': None,\n",
              " 'indices': (slice(None, None, None), slice(None, None, None)),\n",
              " 'is3D': False,\n",
              " 'max_deviation_rigid': 3,\n",
              " 'max_shifts': [6, 6],\n",
              " 'min_mov': None,\n",
              " 'niter_rig': 1,\n",
              " 'nonneg_movie': True,\n",
              " 'num_frames_split': 80,\n",
              " 'num_splits_to_process_els': None,\n",
              " 'num_splits_to_process_rig': None,\n",
              " 'overlaps': (24, 24),\n",
              " 'pw_rigid': False,\n",
              " 'shifts_opencv': True,\n",
              " 'splits_els': 14,\n",
              " 'splits_rig': 14,\n",
              " 'strides': (50, 50),\n",
              " 'upsample_factor_grid': 4,\n",
              " 'use_cuda': False}\n",
              "\n",
              "ring_CNN:\n",
              "\n",
              "{'loss_fn': 'pct',\n",
              " 'lr': 0.001,\n",
              " 'lr_scheduler': None,\n",
              " 'max_epochs': 100,\n",
              " 'n_channels': 2,\n",
              " 'path_to_model': None,\n",
              " 'patience': 3,\n",
              " 'pct': 0.01,\n",
              " 'remove_activity': False,\n",
              " 'reuse_model': False,\n",
              " 'use_add': False,\n",
              " 'use_bias': False,\n",
              " 'width': 5}"
            ]
          },
          "metadata": {},
          "execution_count": 88
        }
      ]
    },
    {
      "cell_type": "code",
      "metadata": {
        "id": "bdscDTVLZKBe"
      },
      "source": [
        "#THIS FUCKING LINE IS ALL IT TOOK\n",
        "#THE MOTION PARAMS DOES NOT PULL IN THE VAR NAME BY DEFAULT\n",
        "#NEEDS TO BE MANUALLY INJECTED SO IT GETS PULLED INTO MOTION CORRECT WITH THE REST\n",
        "\n",
        "#I think this causes problems in the next step because the save function doesn't expect this variable?\n",
        "opts.motion['var_name_hdf5'] = 'stackRaw_pmc'"
      ],
      "execution_count": 57,
      "outputs": []
    },
    {
      "cell_type": "code",
      "metadata": {
        "colab": {
          "base_uri": "https://localhost:8080/",
          "height": 370
        },
        "id": "BXiK-nRtE1W-",
        "outputId": "c5ddfb0b-5140-471b-8f11-70d6df80441b"
      },
      "source": [
        "# %% Now RUN CaImAn Batch (CNMF)\n",
        "cnm = cnmf.CNMF(n_processes, params=opts, dview=dview)\n",
        "cnm = cnm.fit_file(motion_correct = False, include_eval=True)"
      ],
      "execution_count": 77,
      "outputs": [
        {
          "output_type": "stream",
          "name": "stderr",
          "text": [
            "/usr/local/lib/python3.7/dist-packages/sklearn/decomposition/_nmf.py:1641: ConvergenceWarning: Maximum number of iterations 200 reached. Increase it to improve convergence.\n",
            "  ConvergenceWarning,\n"
          ]
        },
        {
          "output_type": "error",
          "ename": "ValueError",
          "evalue": "ignored",
          "traceback": [
            "\u001b[0;31m---------------------------------------------------------------------------\u001b[0m",
            "\u001b[0;31mValueError\u001b[0m                                Traceback (most recent call last)",
            "\u001b[0;32m<ipython-input-77-4e487bbaf5a3>\u001b[0m in \u001b[0;36m<module>\u001b[0;34m()\u001b[0m\n\u001b[1;32m      1\u001b[0m \u001b[0;31m# %% Now RUN CaImAn Batch (CNMF)\u001b[0m\u001b[0;34m\u001b[0m\u001b[0;34m\u001b[0m\u001b[0;34m\u001b[0m\u001b[0m\n\u001b[1;32m      2\u001b[0m \u001b[0mcnm\u001b[0m \u001b[0;34m=\u001b[0m \u001b[0mcnmf\u001b[0m\u001b[0;34m.\u001b[0m\u001b[0mCNMF\u001b[0m\u001b[0;34m(\u001b[0m\u001b[0mn_processes\u001b[0m\u001b[0;34m,\u001b[0m \u001b[0mparams\u001b[0m\u001b[0;34m=\u001b[0m\u001b[0mopts\u001b[0m\u001b[0;34m,\u001b[0m \u001b[0mdview\u001b[0m\u001b[0;34m=\u001b[0m\u001b[0mdview\u001b[0m\u001b[0;34m)\u001b[0m\u001b[0;34m\u001b[0m\u001b[0;34m\u001b[0m\u001b[0m\n\u001b[0;32m----> 3\u001b[0;31m \u001b[0mcnm\u001b[0m \u001b[0;34m=\u001b[0m \u001b[0mcnm\u001b[0m\u001b[0;34m.\u001b[0m\u001b[0mfit_file\u001b[0m\u001b[0;34m(\u001b[0m\u001b[0mmotion_correct\u001b[0m \u001b[0;34m=\u001b[0m \u001b[0;32mFalse\u001b[0m\u001b[0;34m,\u001b[0m \u001b[0minclude_eval\u001b[0m\u001b[0;34m=\u001b[0m\u001b[0;32mTrue\u001b[0m\u001b[0;34m)\u001b[0m\u001b[0;34m\u001b[0m\u001b[0;34m\u001b[0m\u001b[0m\n\u001b[0m",
            "\u001b[0;32m/content/CaImAn/caiman/source_extraction/cnmf/cnmf.py\u001b[0m in \u001b[0;36mfit_file\u001b[0;34m(self, motion_correct, indices, include_eval)\u001b[0m\n\u001b[1;32m    376\u001b[0m         \u001b[0mCn\u001b[0m \u001b[0;34m=\u001b[0m \u001b[0msummary_images\u001b[0m\u001b[0;34m.\u001b[0m\u001b[0mlocal_correlations\u001b[0m\u001b[0;34m(\u001b[0m\u001b[0mimages\u001b[0m\u001b[0;34m[\u001b[0m\u001b[0;34m:\u001b[0m\u001b[0;34m:\u001b[0m\u001b[0mmax\u001b[0m\u001b[0;34m(\u001b[0m\u001b[0mT\u001b[0m\u001b[0;34m//\u001b[0m\u001b[0;36m1000\u001b[0m\u001b[0;34m,\u001b[0m \u001b[0;36m1\u001b[0m\u001b[0;34m)\u001b[0m\u001b[0;34m]\u001b[0m\u001b[0;34m,\u001b[0m \u001b[0mswap_dim\u001b[0m\u001b[0;34m=\u001b[0m\u001b[0;32mFalse\u001b[0m\u001b[0;34m)\u001b[0m\u001b[0;34m\u001b[0m\u001b[0;34m\u001b[0m\u001b[0m\n\u001b[1;32m    377\u001b[0m         \u001b[0mCn\u001b[0m\u001b[0;34m[\u001b[0m\u001b[0mnp\u001b[0m\u001b[0;34m.\u001b[0m\u001b[0misnan\u001b[0m\u001b[0;34m(\u001b[0m\u001b[0mCn\u001b[0m\u001b[0;34m)\u001b[0m\u001b[0;34m]\u001b[0m \u001b[0;34m=\u001b[0m \u001b[0;36m0\u001b[0m\u001b[0;34m\u001b[0m\u001b[0;34m\u001b[0m\u001b[0m\n\u001b[0;32m--> 378\u001b[0;31m         \u001b[0mfit_cnm\u001b[0m\u001b[0;34m.\u001b[0m\u001b[0msave\u001b[0m\u001b[0;34m(\u001b[0m\u001b[0mfname_new\u001b[0m\u001b[0;34m[\u001b[0m\u001b[0;34m:\u001b[0m\u001b[0;34m-\u001b[0m\u001b[0;36m5\u001b[0m\u001b[0;34m]\u001b[0m\u001b[0;34m+\u001b[0m\u001b[0;34m'_init.hdf5'\u001b[0m\u001b[0;34m)\u001b[0m\u001b[0;34m\u001b[0m\u001b[0;34m\u001b[0m\u001b[0m\n\u001b[0m\u001b[1;32m    379\u001b[0m         \u001b[0;31m#fit_cnm.params.change_params({'p': self.params.get('preprocess', 'p')})\u001b[0m\u001b[0;34m\u001b[0m\u001b[0;34m\u001b[0m\u001b[0;34m\u001b[0m\u001b[0m\n\u001b[1;32m    380\u001b[0m         \u001b[0;31m# RE-RUN seeded CNMF on accepted patches to refine and perform deconvolution\u001b[0m\u001b[0;34m\u001b[0m\u001b[0;34m\u001b[0m\u001b[0;34m\u001b[0m\u001b[0m\n",
            "\u001b[0;32m/content/CaImAn/caiman/source_extraction/cnmf/cnmf.py\u001b[0m in \u001b[0;36msave\u001b[0;34m(self, filename)\u001b[0m\n\u001b[1;32m    667\u001b[0m         \u001b[0;32mif\u001b[0m \u001b[0;34m'.hdf5'\u001b[0m \u001b[0;32min\u001b[0m \u001b[0mfilename\u001b[0m\u001b[0;34m:\u001b[0m\u001b[0;34m\u001b[0m\u001b[0;34m\u001b[0m\u001b[0m\n\u001b[1;32m    668\u001b[0m             \u001b[0mfilename\u001b[0m \u001b[0;34m=\u001b[0m \u001b[0mcaiman\u001b[0m\u001b[0;34m.\u001b[0m\u001b[0mpaths\u001b[0m\u001b[0;34m.\u001b[0m\u001b[0mfn_relocated\u001b[0m\u001b[0;34m(\u001b[0m\u001b[0mfilename\u001b[0m\u001b[0;34m)\u001b[0m\u001b[0;34m\u001b[0m\u001b[0;34m\u001b[0m\u001b[0m\n\u001b[0;32m--> 669\u001b[0;31m             \u001b[0msave_dict_to_hdf5\u001b[0m\u001b[0;34m(\u001b[0m\u001b[0mself\u001b[0m\u001b[0;34m.\u001b[0m\u001b[0m__dict__\u001b[0m\u001b[0;34m,\u001b[0m \u001b[0mfilename\u001b[0m\u001b[0;34m)\u001b[0m\u001b[0;34m\u001b[0m\u001b[0;34m\u001b[0m\u001b[0m\n\u001b[0m\u001b[1;32m    670\u001b[0m         \u001b[0;32melse\u001b[0m\u001b[0;34m:\u001b[0m\u001b[0;34m\u001b[0m\u001b[0;34m\u001b[0m\u001b[0m\n\u001b[1;32m    671\u001b[0m             \u001b[0;32mraise\u001b[0m \u001b[0mException\u001b[0m\u001b[0;34m(\u001b[0m\u001b[0;34m\"File extension not supported for cnmf.save\"\u001b[0m\u001b[0;34m)\u001b[0m\u001b[0;34m\u001b[0m\u001b[0;34m\u001b[0m\u001b[0m\n",
            "\u001b[0;32m/content/CaImAn/caiman/utils/utils.py\u001b[0m in \u001b[0;36msave_dict_to_hdf5\u001b[0;34m(dic, filename, subdir)\u001b[0m\n\u001b[1;32m    429\u001b[0m \u001b[0;34m\u001b[0m\u001b[0m\n\u001b[1;32m    430\u001b[0m     \u001b[0;32mwith\u001b[0m \u001b[0mh5py\u001b[0m\u001b[0;34m.\u001b[0m\u001b[0mFile\u001b[0m\u001b[0;34m(\u001b[0m\u001b[0mfilename\u001b[0m\u001b[0;34m,\u001b[0m \u001b[0;34m'w'\u001b[0m\u001b[0;34m)\u001b[0m \u001b[0;32mas\u001b[0m \u001b[0mh5file\u001b[0m\u001b[0;34m:\u001b[0m\u001b[0;34m\u001b[0m\u001b[0;34m\u001b[0m\u001b[0m\n\u001b[0;32m--> 431\u001b[0;31m         \u001b[0mrecursively_save_dict_contents_to_group\u001b[0m\u001b[0;34m(\u001b[0m\u001b[0mh5file\u001b[0m\u001b[0;34m,\u001b[0m \u001b[0msubdir\u001b[0m\u001b[0;34m,\u001b[0m \u001b[0mdic\u001b[0m\u001b[0;34m)\u001b[0m\u001b[0;34m\u001b[0m\u001b[0;34m\u001b[0m\u001b[0m\n\u001b[0m\u001b[1;32m    432\u001b[0m \u001b[0;34m\u001b[0m\u001b[0m\n\u001b[1;32m    433\u001b[0m \u001b[0;32mdef\u001b[0m \u001b[0mload_dict_from_hdf5\u001b[0m\u001b[0;34m(\u001b[0m\u001b[0mfilename\u001b[0m\u001b[0;34m:\u001b[0m\u001b[0mstr\u001b[0m\u001b[0;34m)\u001b[0m \u001b[0;34m->\u001b[0m \u001b[0mDict\u001b[0m\u001b[0;34m:\u001b[0m\u001b[0;34m\u001b[0m\u001b[0;34m\u001b[0m\u001b[0m\n",
            "\u001b[0;32m/content/CaImAn/caiman/utils/utils.py\u001b[0m in \u001b[0;36mrecursively_save_dict_contents_to_group\u001b[0;34m(h5file, path, dic)\u001b[0m\n\u001b[1;32m    524\u001b[0m             \u001b[0mh5file\u001b[0m\u001b[0;34m[\u001b[0m\u001b[0mpath\u001b[0m \u001b[0;34m+\u001b[0m \u001b[0mkey\u001b[0m\u001b[0;34m]\u001b[0m \u001b[0;34m=\u001b[0m \u001b[0mnp\u001b[0m\u001b[0;34m.\u001b[0m\u001b[0marray\u001b[0m\u001b[0;34m(\u001b[0m\u001b[0mitem\u001b[0m\u001b[0;34m)\u001b[0m\u001b[0;34m\u001b[0m\u001b[0;34m\u001b[0m\u001b[0m\n\u001b[1;32m    525\u001b[0m         \u001b[0;32melif\u001b[0m \u001b[0mtype\u001b[0m\u001b[0;34m(\u001b[0m\u001b[0mitem\u001b[0m\u001b[0;34m)\u001b[0m\u001b[0;34m.\u001b[0m\u001b[0m__name__\u001b[0m \u001b[0;32min\u001b[0m \u001b[0;34m[\u001b[0m\u001b[0;34m'CNMFParams'\u001b[0m\u001b[0;34m,\u001b[0m \u001b[0;34m'Estimates'\u001b[0m\u001b[0;34m]\u001b[0m\u001b[0;34m:\u001b[0m \u001b[0;31m#  parameter object\u001b[0m\u001b[0;34m\u001b[0m\u001b[0;34m\u001b[0m\u001b[0m\n\u001b[0;32m--> 526\u001b[0;31m             \u001b[0mrecursively_save_dict_contents_to_group\u001b[0m\u001b[0;34m(\u001b[0m\u001b[0mh5file\u001b[0m\u001b[0;34m,\u001b[0m \u001b[0mpath\u001b[0m \u001b[0;34m+\u001b[0m \u001b[0mkey\u001b[0m \u001b[0;34m+\u001b[0m \u001b[0;34m'/'\u001b[0m\u001b[0;34m,\u001b[0m \u001b[0mitem\u001b[0m\u001b[0;34m.\u001b[0m\u001b[0m__dict__\u001b[0m\u001b[0;34m)\u001b[0m\u001b[0;34m\u001b[0m\u001b[0;34m\u001b[0m\u001b[0m\n\u001b[0m\u001b[1;32m    527\u001b[0m         \u001b[0;32melse\u001b[0m\u001b[0;34m:\u001b[0m\u001b[0;34m\u001b[0m\u001b[0;34m\u001b[0m\u001b[0m\n\u001b[1;32m    528\u001b[0m             \u001b[0;32mraise\u001b[0m \u001b[0mValueError\u001b[0m\u001b[0;34m(\u001b[0m\u001b[0;34mf\"Cannot save {type(item)} type for key '{key}'.\"\u001b[0m\u001b[0;34m)\u001b[0m\u001b[0;34m\u001b[0m\u001b[0;34m\u001b[0m\u001b[0m\n",
            "\u001b[0;32m/content/CaImAn/caiman/utils/utils.py\u001b[0m in \u001b[0;36mrecursively_save_dict_contents_to_group\u001b[0;34m(h5file, path, dic)\u001b[0m\n\u001b[1;32m    509\u001b[0m         \u001b[0;31m# save dictionaries\u001b[0m\u001b[0;34m\u001b[0m\u001b[0;34m\u001b[0m\u001b[0;34m\u001b[0m\u001b[0m\n\u001b[1;32m    510\u001b[0m         \u001b[0;32melif\u001b[0m \u001b[0misinstance\u001b[0m\u001b[0;34m(\u001b[0m\u001b[0mitem\u001b[0m\u001b[0;34m,\u001b[0m \u001b[0mdict\u001b[0m\u001b[0;34m)\u001b[0m\u001b[0;34m:\u001b[0m\u001b[0;34m\u001b[0m\u001b[0;34m\u001b[0m\u001b[0m\n\u001b[0;32m--> 511\u001b[0;31m             \u001b[0mrecursively_save_dict_contents_to_group\u001b[0m\u001b[0;34m(\u001b[0m\u001b[0mh5file\u001b[0m\u001b[0;34m,\u001b[0m \u001b[0mpath\u001b[0m \u001b[0;34m+\u001b[0m \u001b[0mkey\u001b[0m \u001b[0;34m+\u001b[0m \u001b[0;34m'/'\u001b[0m\u001b[0;34m,\u001b[0m \u001b[0mitem\u001b[0m\u001b[0;34m)\u001b[0m\u001b[0;34m\u001b[0m\u001b[0;34m\u001b[0m\u001b[0m\n\u001b[0m\u001b[1;32m    512\u001b[0m         \u001b[0;32melif\u001b[0m \u001b[0;34m'sparse'\u001b[0m \u001b[0;32min\u001b[0m \u001b[0mstr\u001b[0m\u001b[0;34m(\u001b[0m\u001b[0mtype\u001b[0m\u001b[0;34m(\u001b[0m\u001b[0mitem\u001b[0m\u001b[0;34m)\u001b[0m\u001b[0;34m)\u001b[0m\u001b[0;34m:\u001b[0m\u001b[0;34m\u001b[0m\u001b[0;34m\u001b[0m\u001b[0m\n\u001b[1;32m    513\u001b[0m             \u001b[0mlogging\u001b[0m\u001b[0;34m.\u001b[0m\u001b[0minfo\u001b[0m\u001b[0;34m(\u001b[0m\u001b[0mkey\u001b[0m \u001b[0;34m+\u001b[0m \u001b[0;34m' is sparse ****'\u001b[0m\u001b[0;34m)\u001b[0m\u001b[0;34m\u001b[0m\u001b[0;34m\u001b[0m\u001b[0m\n",
            "\u001b[0;32m/content/CaImAn/caiman/utils/utils.py\u001b[0m in \u001b[0;36mrecursively_save_dict_contents_to_group\u001b[0;34m(h5file, path, dic)\u001b[0m\n\u001b[1;32m    496\u001b[0m             \u001b[0mlogging\u001b[0m\u001b[0;34m.\u001b[0m\u001b[0mdebug\u001b[0m\u001b[0;34m(\u001b[0m\u001b[0;34m'Saving {}'\u001b[0m\u001b[0;34m.\u001b[0m\u001b[0mformat\u001b[0m\u001b[0;34m(\u001b[0m\u001b[0mkey\u001b[0m\u001b[0;34m)\u001b[0m\u001b[0;34m)\u001b[0m\u001b[0;34m\u001b[0m\u001b[0;34m\u001b[0m\u001b[0m\n\u001b[1;32m    497\u001b[0m             \u001b[0;32mif\u001b[0m \u001b[0;32mnot\u001b[0m \u001b[0mh5file\u001b[0m\u001b[0;34m[\u001b[0m\u001b[0mpath\u001b[0m \u001b[0;34m+\u001b[0m \u001b[0mkey\u001b[0m\u001b[0;34m]\u001b[0m\u001b[0;34m[\u001b[0m\u001b[0;34m(\u001b[0m\u001b[0;34m)\u001b[0m\u001b[0;34m]\u001b[0m \u001b[0;34m==\u001b[0m \u001b[0mitem\u001b[0m\u001b[0;34m:\u001b[0m\u001b[0;34m\u001b[0m\u001b[0;34m\u001b[0m\u001b[0m\n\u001b[0;32m--> 498\u001b[0;31m                 \u001b[0;32mraise\u001b[0m \u001b[0mValueError\u001b[0m\u001b[0;34m(\u001b[0m\u001b[0;34m'Error while saving {}.'\u001b[0m\u001b[0;34m.\u001b[0m\u001b[0mformat\u001b[0m\u001b[0;34m(\u001b[0m\u001b[0mkey\u001b[0m\u001b[0;34m)\u001b[0m\u001b[0;34m)\u001b[0m\u001b[0;34m\u001b[0m\u001b[0;34m\u001b[0m\u001b[0m\n\u001b[0m\u001b[1;32m    499\u001b[0m         \u001b[0;31m# save numpy arrays\u001b[0m\u001b[0;34m\u001b[0m\u001b[0;34m\u001b[0m\u001b[0;34m\u001b[0m\u001b[0m\n\u001b[1;32m    500\u001b[0m         \u001b[0;32melif\u001b[0m \u001b[0misinstance\u001b[0m\u001b[0;34m(\u001b[0m\u001b[0mitem\u001b[0m\u001b[0;34m,\u001b[0m \u001b[0mnp\u001b[0m\u001b[0;34m.\u001b[0m\u001b[0mndarray\u001b[0m\u001b[0;34m)\u001b[0m\u001b[0;34m:\u001b[0m\u001b[0;34m\u001b[0m\u001b[0;34m\u001b[0m\u001b[0m\n",
            "\u001b[0;31mValueError\u001b[0m: Error while saving var_name_hdf5."
          ]
        }
      ]
    },
    {
      "cell_type": "markdown",
      "metadata": {
        "id": "ElmK1O9ijXSv"
      },
      "source": [
        "These cells only work if the fit function has gone through without errors"
      ]
    },
    {
      "cell_type": "code",
      "metadata": {
        "id": "chmt34wkHD9j"
      },
      "source": [
        "import matplotlib.pyplot as plt\n",
        "#3rd component\n",
        "plt.figure() \n",
        "plt.imshow(np.reshape(cnm.estimates.A[:,2].toarray(), dims, order='F'))"
      ],
      "execution_count": null,
      "outputs": []
    },
    {
      "cell_type": "code",
      "metadata": {
        "id": "mSllkGeSHg5p"
      },
      "source": [
        "#deconvolved trace for 3rd component\n",
        "plt.figure() \n",
        "plt.plot(cnm.estimates.C[2])"
      ],
      "execution_count": null,
      "outputs": []
    },
    {
      "cell_type": "code",
      "metadata": {
        "id": "CN01-lViHo-x"
      },
      "source": [
        "#inferred spikes for 3rd component\n",
        "plt.figure() \n",
        "plt.plot(cnm.estimates.S[2])"
      ],
      "execution_count": null,
      "outputs": []
    },
    {
      "cell_type": "code",
      "metadata": {
        "id": "6kPwxqrhHVz9"
      },
      "source": [
        "#returns a list of our binary masks\n",
        "M = cnm.estimates.A > 0\n",
        "masks = [np.reshape(M[:,i].toarray(), dims, order='F') for i in range(M.shape[1])]"
      ],
      "execution_count": null,
      "outputs": []
    },
    {
      "cell_type": "code",
      "metadata": {
        "id": "RYTgb7e_JGro"
      },
      "source": [
        "#plot mask for 3rd ROI\n",
        "plt.imshow(np.reshape(masks[2], dims, order='F'))"
      ],
      "execution_count": null,
      "outputs": []
    },
    {
      "cell_type": "code",
      "metadata": {
        "id": "qxF1QD6NIDdM"
      },
      "source": [
        ""
      ],
      "execution_count": null,
      "outputs": []
    },
    {
      "cell_type": "code",
      "metadata": {
        "id": "UyKglYCjIDf0"
      },
      "source": [
        ""
      ],
      "execution_count": null,
      "outputs": []
    },
    {
      "cell_type": "code",
      "metadata": {
        "id": "7S4_qgZgvvHY"
      },
      "source": [
        "#Using h5py to see the saved output\n",
        "import h5py\n",
        "f = h5py.File(cnm.mmap_file[:-4]+'hdf5', 'r')\n"
      ],
      "execution_count": 79,
      "outputs": []
    },
    {
      "cell_type": "code",
      "metadata": {
        "colab": {
          "base_uri": "https://localhost:8080/"
        },
        "id": "S3ekp_2lxbjk",
        "outputId": "755385e3-d56c-437a-bf27-71cde3b698c1"
      },
      "source": [
        "list(f.keys())"
      ],
      "execution_count": 80,
      "outputs": [
        {
          "output_type": "execute_result",
          "data": {
            "text/plain": [
              "['dims', 'dview', 'params', 'remove_very_bad_comps', 'skip_refinement']"
            ]
          },
          "metadata": {},
          "execution_count": 80
        }
      ]
    },
    {
      "cell_type": "code",
      "metadata": {
        "id": "S5WJ0oa9xl0h"
      },
      "source": [
        "f['dims'][()]"
      ],
      "execution_count": null,
      "outputs": []
    },
    {
      "cell_type": "code",
      "metadata": {
        "id": "4P_kgNA6xy3s"
      },
      "source": [
        "f['dview'][()]"
      ],
      "execution_count": null,
      "outputs": []
    },
    {
      "cell_type": "code",
      "metadata": {
        "id": "UyZUPV3XzEbx"
      },
      "source": [
        "f['remove_very_bad_comps'][()]"
      ],
      "execution_count": null,
      "outputs": []
    },
    {
      "cell_type": "code",
      "metadata": {
        "id": "o5SR5fMQzEeK"
      },
      "source": [
        "f['skip_refinement'][()]"
      ],
      "execution_count": null,
      "outputs": []
    },
    {
      "cell_type": "code",
      "metadata": {
        "colab": {
          "base_uri": "https://localhost:8080/"
        },
        "id": "xU7FOVZRhj4o",
        "outputId": "1e84adc9-c109-4306-c82a-607cff0cdc01"
      },
      "source": [
        "f['params']"
      ],
      "execution_count": 86,
      "outputs": [
        {
          "output_type": "execute_result",
          "data": {
            "text/plain": [
              "<HDF5 group \"/params\" (1 members)>"
            ]
          },
          "metadata": {},
          "execution_count": 86
        }
      ]
    },
    {
      "cell_type": "code",
      "metadata": {
        "colab": {
          "base_uri": "https://localhost:8080/"
        },
        "id": "Xa8dlX6Qvrj_",
        "outputId": "7a0220b6-b723-4278-dd38-7099229544a2"
      },
      "source": [
        "#save gets through some of this then fails\n",
        "f['params']['data'].keys()"
      ],
      "execution_count": 81,
      "outputs": [
        {
          "output_type": "execute_result",
          "data": {
            "text/plain": [
              "<KeysViewHDF5 ['decay_time', 'dims', 'dxy', 'fnames', 'fr', 'var_name_hdf5']>"
            ]
          },
          "metadata": {},
          "execution_count": 81
        }
      ]
    },
    {
      "cell_type": "code",
      "metadata": {
        "colab": {
          "base_uri": "https://localhost:8080/"
        },
        "id": "jM-TOJ3hiAbr",
        "outputId": "210059b7-c594-47a5-f4e6-f5597400d1f7"
      },
      "source": [
        "#this is the full section of dict that should be saved before it fails\n",
        "cnm.params.data"
      ],
      "execution_count": 89,
      "outputs": [
        {
          "output_type": "execute_result",
          "data": {
            "text/plain": [
              "{'caiman_version': '1.9.5',\n",
              " 'decay_time': 0.4,\n",
              " 'dims': None,\n",
              " 'dxy': (1, 1),\n",
              " 'fnames': ['../drive/MyDrive/DS6011_Capstone_VisualNeuroscience/DATA/subset_stackRaw_pmc.h5'],\n",
              " 'fr': 20,\n",
              " 'last_commit': 'GITW-a814402519f822d530f61f46d62840ca634e04d3',\n",
              " 'mmap_C': None,\n",
              " 'mmap_F': None,\n",
              " 'var_name_hdf5': 'mov'}"
            ]
          },
          "metadata": {},
          "execution_count": 89
        }
      ]
    },
    {
      "cell_type": "code",
      "metadata": {
        "id": "Gkq9loCEzq7i"
      },
      "source": [
        "f['params']['data']['decay_time'][()]"
      ],
      "execution_count": null,
      "outputs": []
    },
    {
      "cell_type": "code",
      "metadata": {
        "id": "4XkapSlgzq-r"
      },
      "source": [
        "f['params']['data']['dims'][()]"
      ],
      "execution_count": null,
      "outputs": []
    },
    {
      "cell_type": "code",
      "metadata": {
        "id": "8JS4_amLzrBv"
      },
      "source": [
        "f['params']['data']['dxy'][()]"
      ],
      "execution_count": null,
      "outputs": []
    },
    {
      "cell_type": "code",
      "metadata": {
        "id": "GG8ffZR6zrEk"
      },
      "source": [
        "f['params']['data']['fnames'][()]"
      ],
      "execution_count": null,
      "outputs": []
    },
    {
      "cell_type": "code",
      "metadata": {
        "id": "k8-BSOZZzrHm"
      },
      "source": [
        "f['params']['data']['fr'][()]"
      ],
      "execution_count": null,
      "outputs": []
    },
    {
      "cell_type": "code",
      "metadata": {
        "colab": {
          "base_uri": "https://localhost:8080/"
        },
        "id": "smYPqsaNz3xi",
        "outputId": "ade33baf-7a26-4002-a60a-564f530478f7"
      },
      "source": [
        "f['params']['data']['var_name_hdf5'][()]"
      ],
      "execution_count": 82,
      "outputs": [
        {
          "output_type": "execute_result",
          "data": {
            "text/plain": [
              "b'mov'"
            ]
          },
          "metadata": {},
          "execution_count": 82
        }
      ]
    },
    {
      "cell_type": "code",
      "metadata": {
        "id": "Pd2hl39cPV1K"
      },
      "source": [
        "# %% STOP CLUSTER and clean up log files\n",
        "cm.stop_server(dview=dview)"
      ],
      "execution_count": null,
      "outputs": []
    }
  ]
}