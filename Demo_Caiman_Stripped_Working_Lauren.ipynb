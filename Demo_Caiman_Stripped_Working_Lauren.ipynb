{
  "nbformat": 4,
  "nbformat_minor": 0,
  "metadata": {
    "colab": {
      "name": "Demo Caiman Stripped Working-Lauren.ipynb",
      "provenance": [],
      "collapsed_sections": [],
      "include_colab_link": true
    },
    "kernelspec": {
      "name": "python3",
      "display_name": "Python 3"
    },
    "language_info": {
      "name": "python"
    }
  },
  "cells": [
    {
      "cell_type": "markdown",
      "metadata": {
        "id": "view-in-github",
        "colab_type": "text"
      },
      "source": [
        "<a href=\"https://colab.research.google.com/github/laurenneal/capstone-visual-neuroscience/blob/Lauren/Demo_Caiman_Stripped_Working_Lauren.ipynb\" target=\"_parent\"><img src=\"https://colab.research.google.com/assets/colab-badge.svg\" alt=\"Open In Colab\"/></a>"
      ]
    },
    {
      "cell_type": "markdown",
      "metadata": {
        "id": "43ADamXOI9uB"
      },
      "source": [
        "The demo_pipeline file we've been working with uses some of the more advanced features of caiman which I think are throwing me off. \n",
        "\n",
        "This notebook is intended to implement a more stripped down version of the caiman pipeline with the goal of understanding the functions better and potentially being a platform to write our wrapper around for the parameter gridsearch"
      ]
    },
    {
      "cell_type": "code",
      "metadata": {
        "colab": {
          "base_uri": "https://localhost:8080/"
        },
        "id": "BbIj2QeEAbTE",
        "outputId": "3100c76f-81f1-46b6-c2bc-e322295e5663"
      },
      "source": [
        "from google.colab import drive\n",
        "drive.mount('/content/drive')"
      ],
      "execution_count": 161,
      "outputs": [
        {
          "output_type": "stream",
          "name": "stdout",
          "text": [
            "Drive already mounted at /content/drive; to attempt to forcibly remount, call drive.mount(\"/content/drive\", force_remount=True).\n"
          ]
        }
      ]
    },
    {
      "cell_type": "code",
      "metadata": {
        "colab": {
          "base_uri": "https://localhost:8080/",
          "height": 711
        },
        "id": "VrE1xeswQNHM",
        "outputId": "a60d7648-49c2-4903-95cc-5ffd742492bf"
      },
      "source": [
        "# Install CaImAn - takes around 2 minutes\n",
        "!git clone https://github.com/flatironinstitute/CaImAn.git\n",
        "%cd '/content/CaImAn/'\n",
        "!pip install .\n",
        "\n",
        "# Install caiman dependencies (&> /dev/null will suppress the hundreds of printed lines in the output)\n",
        "!pip install -r requirements.txt &> /dev/null\n",
        "\n",
        "#import other dependencies\n",
        "import cv2\n",
        "import glob\n",
        "import numpy as np\n",
        "import os\n",
        "import matplotlib.pyplot as plt\n",
        "\n",
        "#IMPORTANT! Newer versions of h5py will cause errors when saving results\n",
        "!pip install h5py==2.10.0\n",
        "import h5py\n",
        "\n",
        "#Set up caiman\n",
        "!python setup.py build_ext -i\n",
        "\n",
        "#Other file setup\n",
        "!python caimanmanager.py install --inplace\n",
        "\n",
        "#Caiman imports\n",
        "import caiman as cm\n",
        "from caiman.paths import caiman_datadir\n",
        "from caiman.source_extraction.cnmf import cnmf as cnmf\n",
        "from caiman.source_extraction.cnmf import params as params\n",
        "from caiman.summary_images import local_correlations_movie_offline\n",
        "\n",
        "from caiman.utils.visualization import plot_contours, nb_view_patches, nb_plot_contour\n",
        "from caiman.components_evaluation import estimate_components_quality_auto\n",
        "from caiman.base.rois import register_multisession, extract_binary_masks_from_structural_channel, extract_binary_masks_blob\n",
        "from caiman.utils import visualization\n",
        "from caiman.utils.utils import download_demo\n"
      ],
      "execution_count": 162,
      "outputs": [
        {
          "output_type": "stream",
          "name": "stdout",
          "text": [
            "Cloning into 'CaImAn'...\n",
            "remote: Enumerating objects: 24909, done.\u001b[K\n",
            "remote: Counting objects: 100% (844/844), done.\u001b[K\n",
            "remote: Compressing objects: 100% (415/415), done.\u001b[K\n",
            "remote: Total 24909 (delta 473), reused 739 (delta 413), pack-reused 24065\u001b[K\n",
            "Receiving objects: 100% (24909/24909), 518.50 MiB | 27.72 MiB/s, done.\n",
            "Resolving deltas: 100% (16686/16686), done.\n",
            "Checking out files: 100% (317/317), done.\n",
            "/content/CaImAn\n",
            "Processing /content/CaImAn\n",
            "\u001b[33m  DEPRECATION: A future pip version will change local packages to be built in-place without first copying to a temporary directory. We recommend you use --use-feature=in-tree-build to test your packages with this new behavior before it becomes the default.\n",
            "   pip 21.3 will remove support for this functionality. You can find discussion regarding this at https://github.com/pypa/pip/issues/7555.\u001b[0m\n",
            "Building wheels for collected packages: caiman\n",
            "  Building wheel for caiman (setup.py) ... \u001b[?25l\u001b[?25hdone\n",
            "  Created wheel for caiman: filename=caiman-1.9.6-cp37-cp37m-linux_x86_64.whl size=123929522 sha256=6e1c63ba4edc289ebbffdc6f8a287de4b0d16b472fb404e6750f34fe9b94bf03\n",
            "  Stored in directory: /tmp/pip-ephem-wheel-cache-n_r3qi8s/wheels/e5/b7/da/71e6f0cc489fdd53e7fe366d0ddf8f5a04eecb9003dbcb835d\n",
            "Successfully built caiman\n",
            "Installing collected packages: caiman\n",
            "  Attempting uninstall: caiman\n",
            "    Found existing installation: caiman 1.9.6\n",
            "    Uninstalling caiman-1.9.6:\n",
            "      Successfully uninstalled caiman-1.9.6\n",
            "Successfully installed caiman-1.9.6\n"
          ]
        },
        {
          "output_type": "display_data",
          "data": {
            "application/vnd.colab-display-data+json": {
              "pip_warning": {
                "packages": [
                  "caiman"
                ]
              }
            }
          },
          "metadata": {}
        },
        {
          "output_type": "stream",
          "name": "stdout",
          "text": [
            "Requirement already satisfied: h5py==2.10.0 in /usr/local/lib/python3.7/dist-packages (2.10.0)\n",
            "Requirement already satisfied: numpy>=1.7 in /usr/local/lib/python3.7/dist-packages (from h5py==2.10.0) (1.19.5)\n",
            "Requirement already satisfied: six in /usr/local/lib/python3.7/dist-packages (from h5py==2.10.0) (1.15.0)\n",
            "running build_ext\n",
            "Traceback (most recent call last):\n",
            "  File \"caimanmanager.py\", line 276, in <module>\n",
            "    main()\n",
            "  File \"caimanmanager.py\", line 234, in main\n",
            "    do_install_to(cfg.userdir, cfg.inplace, cfg.force)\n",
            "  File \"caimanmanager.py\", line 57, in do_install_to\n",
            "    raise Exception(targdir + \" already exists. You may move it out of the way, remove it, or use --force\")\n",
            "Exception: /root/caiman_data already exists. You may move it out of the way, remove it, or use --force\n"
          ]
        }
      ]
    },
    {
      "cell_type": "code",
      "metadata": {
        "id": "BJtcnIiCBWQb"
      },
      "source": [
        "#Using h5py to open and explore a test raw stack\n",
        "#paths into google drive to a random pre-motion correction movie\n",
        "\n",
        "fnames = ['../drive/MyDrive/DS6011_Capstone_VisualNeuroscience/DATA/stackRaw/210815_0/210815_0_1_stackRaw_mc_mix1_syt_.mat']\n",
        "subfolder = 'stackRaw_mc'\n",
        "\n",
        "stackRaw = h5py.File(fnames[0], 'r+')\n"
      ],
      "execution_count": 163,
      "outputs": []
    },
    {
      "cell_type": "code",
      "metadata": {
        "id": "AFylueZ4Nb8l"
      },
      "source": [
        "#save movie array as a variable to check a few frames\n",
        "mov = np.array(stackRaw[subfolder])"
      ],
      "execution_count": 164,
      "outputs": []
    },
    {
      "cell_type": "code",
      "metadata": {
        "colab": {
          "base_uri": "https://localhost:8080/",
          "height": 236
        },
        "id": "2mVK735SmQYu",
        "outputId": "e6f71c11-5bf7-451c-b866-547a8c517ca1"
      },
      "source": [
        "#numpy function to flip the x and y for whole movie array\n",
        "flip = np.transpose(mov, axes = (0,2,1))\n",
        "#show the 500th frame\n",
        "plt.imshow(flip[500])"
      ],
      "execution_count": 165,
      "outputs": [
        {
          "output_type": "execute_result",
          "data": {
            "text/plain": [
              "<matplotlib.image.AxesImage at 0x7fb12afcf450>"
            ]
          },
          "metadata": {},
          "execution_count": 165
        },
        {
          "output_type": "display_data",
          "data": {
            "image/png": "[encoded data removed]",
            "text/plain": [
              "<Figure size 432x288 with 1 Axes>"
            ]
          },
          "metadata": {
            "needs_background": "light"
          }
        }
      ]
    },
    {
      "cell_type": "code",
      "metadata": {
        "id": "Fj9MBxjPh6lp"
      },
      "source": [
        "#save the flipped file back to an h5 file to test with\n",
        "#This is just for development so we don't have to wait for processing times\n",
        "\n",
        "#just the first 1000 frames\n",
        "#flip = flip[:1000]\n",
        "\n",
        "#motion corrected files have many nans which I think breaks Caiman, pleace nan with 0\n",
        "flip = np.nan_to_num(flip, 0)\n",
        "\n",
        "\n",
        "h5f = h5py.File('../drive/MyDrive/DS6011_Capstone_VisualNeuroscience/DATA/subset_stackRaw_mc.h5', 'w')\n",
        "h5f.create_dataset(subfolder, data=flip)\n",
        "\n",
        "h5f.close()\n",
        "\n",
        "#point the fnames param at the new location\n",
        "fnames = ['../drive/MyDrive/DS6011_Capstone_VisualNeuroscience/DATA/subset_stackRaw_mc.h5']\n"
      ],
      "execution_count": 166,
      "outputs": []
    },
    {
      "cell_type": "code",
      "metadata": {
        "id": "HzqeUrwjDsWg"
      },
      "source": [
        "# start a cluster\n",
        "c, dview, n_processes =\\\n",
        "    cm.cluster.setup_cluster(backend='local', n_processes=None,\n",
        "                                 single_thread=False)"
      ],
      "execution_count": 169,
      "outputs": []
    },
    {
      "cell_type": "code",
      "metadata": {
        "id": "kcc1v4IOK9B6"
      },
      "source": [
        "#dview.terminate()"
      ],
      "execution_count": null,
      "outputs": []
    },
    {
      "cell_type": "code",
      "metadata": {
        "id": "v8TzDU7qfVmB"
      },
      "source": [
        "#%% First setup some parameters for data and motion correction\n",
        "# dataset dependent parameters\n",
        "\n",
        "# ADJUSTED FROM DEFAULTS TO CARL'S PARAMS ON 11/13 (not completely)\n",
        "\n",
        "#fnames = path to video file, set above\n",
        "fr = 20             # imaging rate in frames per second\n",
        "decay_time = 0.4    # length of a typical transient in seconds\n",
        "dxy = (.29, .29)      # spatial resolution in x and y in (um per pixel)\n",
        "# note the lower than usual spatial resolution here\n",
        "max_shift_um = (12., 12.)       # maximum shift in um\n",
        "patch_motion_um = (100., 100.)  # patch size for non-rigid correction in um\n",
        "\n",
        "# motion correction parameters\n",
        "pw_rigid = False       # flag to select rigid vs pw_rigid motion correction\n",
        "# maximum allowed rigid shift in pixels\n",
        "max_shifts = [int(a/b) for a, b in zip(max_shift_um, dxy)]\n",
        "# start a new patch for pw-rigid motion correction every x pixels\n",
        "strides = tuple([int(a/b) for a, b in zip(patch_motion_um, dxy)])\n",
        "# overlap between pathes (size of patch in pixels: strides+overlaps)\n",
        "overlaps = (24, 24)\n",
        "# maximum deviation allowed for patch with respect to rigid shifts\n",
        "max_deviation_rigid = 3\n",
        "\n",
        "opts = params.CNMFParams()\n",
        "\n",
        "opts.set('motion', {\n",
        "    'fnames': fnames,\n",
        "    'fr': fr,\n",
        "    'decay_time': decay_time,\n",
        "    'dxy': dxy,\n",
        "    'pw_rigid': pw_rigid,\n",
        "    'max_shifts': max_shifts,\n",
        "    'strides': strides,\n",
        "    'overlaps': overlaps,\n",
        "    'max_deviation_rigid': max_deviation_rigid,\n",
        "    'border_nan': 'copy'\n",
        "})\n",
        "\n",
        "\n"
      ],
      "execution_count": 170,
      "outputs": []
    },
    {
      "cell_type": "code",
      "metadata": {
        "id": "tLzfCy0wFb-g"
      },
      "source": [
        "# set up some parameters for extraction\n",
        "#fnames = path to video file, set above\n",
        "## 11/26/21 -- Lauren updated parameters to those in Carl's MatLab code\n",
        "## changed K from 20 to 40; removed gSig, added tau; changed p from 1 to 0 (should always remain 0); merge_thr to 0.85\n",
        "## will also attempt K=15, merge_thr=0.95\n",
        "## changed gnb from 2 to 1\n",
        "\n",
        "                        # file(s) to be analyzed\n",
        "is_patches = True       # flag for processing in patches or not\n",
        "fr = 20                 # approximate frame rate of data\n",
        "decay_time = .4        # length of transient\n",
        "dims = [128, 256]\n",
        "\n",
        "if is_patches:          # PROCESS IN PATCHES AND THEN COMBINE\n",
        "    rf = 25             # half size of each patch\n",
        "    stride = 5          # overlap between patches\n",
        "    K = 3               # number of components in each patch\n",
        "else:                   # PROCESS THE WHOLE FOV AT ONCE\n",
        "    rf = None           # setting these parameters to None\n",
        "    stride = None       # will run CNMF on the whole FOV\n",
        "    K = 40              # number of neurons expected (in the whole FOV)\n",
        "\n",
        "tau = 0                 ## std of gaussian kernel (size of neuron)\n",
        "                        ## gSig = size of kernel (default 2*tau + 1).\n",
        "## gSig = [6, 6]        # expected half size of neurons\n",
        "merge_thresh = 0.95     # merging threshold, max correlation allowed\n",
        "p = 0                   # order of the autoregressive system\n",
        "gnb = 1                 # global background order\n",
        "\n",
        "fudge = 1               ## Lauren: adding temporal param fudge_factor (default is 0.96; Carl's value = 1) -- bias correction factor for discrete time constants\n",
        "temp_iter = 5           ## Lauren: adding temporal param ITER (default is 2; Carl's value=5) -- block coordinate descent iterations\n",
        "search_method = 'dilate' ## Lauren: adding spatial param search_method (Carl's set to 'dilate')\n",
        "thr_meth = 'nrg'        ## Lauren: adding spatial param thr_method\n",
        "\n",
        "\n",
        "var_name_hdf5 = subfolder #variable to path caiman into the subfolder within our mat files\n",
        "\n",
        "opts.set('data', {'fnames': fnames,\n",
        "                   'fr': fr,\n",
        "                   'decay_time': decay_time,\n",
        "                   'dims': dims,\n",
        "                   'rf': rf,\n",
        "                   'stride': stride,\n",
        "                   'K': K,\n",
        "                   ## 'gSig': gSig,\n",
        "                   'tau': tau,\n",
        "                   'merge_thr': merge_thresh,\n",
        "                   'p': p,\n",
        "                   'nb': gnb,\n",
        "                  'fudge_factor': fudge,\n",
        "                  'ITER': temp_iter,\n",
        "                  'thr_method': thr_meth,\n",
        "                  'method': search_method\n",
        "                  })\n",
        "\n",
        "\n"
      ],
      "execution_count": null,
      "outputs": []
    },
    {
      "cell_type": "code",
      "metadata": {
        "id": "0JAZz7VSWsEd"
      },
      "source": [
        "# %% COMPONENT EVALUATION\n",
        "# the components are evaluated in three ways:\n",
        "#   a) the shape of each component must be correlated with the data\n",
        "#   b) a minimum peak SNR is required over the length of a transient\n",
        "#   c) each shape passes a CNN based classifier (this will pick up only neurons\n",
        "#           and filter out active processes)\n",
        "\n",
        "min_SNR = 2.5      # peak SNR for accepted components (if above this, acept)\n",
        "rval_thr = 0.95     # space correlation threshold (if above this, accept)\n",
        "use_cnn = True      # use the CNN classifier\n",
        "min_cnn_thr = 0.95  # if cnn classifier predicts below this value, reject\n",
        "cnn_lowest = 0.1 # neurons with cnn probability lower than this value are rejected\n",
        "\n",
        "opts.set('quality', {'min_SNR': min_SNR,\n",
        "                                'rval_thr': rval_thr,\n",
        "                                'use_cnn': use_cnn,\n",
        "                                'min_cnn_thr': min_cnn_thr,\n",
        "                                'cnn_lowest': cnn_lowest})\n",
        "\n",
        "#cnm2.estimates.evaluate_components(images, cnm2.params, dview=dview)"
      ],
      "execution_count": 171,
      "outputs": []
    },
    {
      "cell_type": "code",
      "metadata": {
        "id": "bdscDTVLZKBe"
      },
      "source": [
        "#THIS FUCKING LINE IS ALL IT TOOK\n",
        "#THE MOTION PARAMS DOES NOT PULL IN THE VAR NAME BY DEFAULT\n",
        "#NEEDS TO BE MANUALLY INJECTED SO IT GETS PULLED INTO MOTION CORRECT WITH THE REST\n",
        "\n",
        "opts.motion['var_name_hdf5'] = subfolder\n",
        "opts.data['var_name_hdf5'] = subfolder"
      ],
      "execution_count": 172,
      "outputs": []
    },
    {
      "cell_type": "markdown",
      "metadata": {
        "id": "-VLpbI7xvI6b"
      },
      "source": [
        "The 2 lines below initiate and then run the caiman motion correction, deconvolution, and ROI evaluation by calling the fit_file function.\n",
        "\n",
        "Pasting the source code of fit_file here for transparency: \n",
        "\n",
        "\n",
        "def fit_file(self, motion_correct=False, indices=None, include_eval=False):\n",
        "\n",
        "        This method packages the analysis pipeline (motion correction, memory\n",
        "        mapping, patch based CNMF processing and component evaluation) in a\n",
        "        single method that can be called on a specific (sequence of) file(s).\n",
        "        It is assumed that the CNMF object already contains a params object\n",
        "        where the location of the files and all the relevant parameters have\n",
        "        been specified. The method will perform the last step, i.e. component\n",
        "        evaluation, if the flag \"include_eval\" is set to `True`.\n",
        "\n",
        "        Args:\n",
        "            motion_correct (bool)\n",
        "                flag for performing motion correction\n",
        "            indices (list of slice objects)\n",
        "                perform analysis only on a part of the FOV\n",
        "            include_eval (bool)\n",
        "                flag for performing component evaluation\n",
        "        Returns:\n",
        "            cnmf object with the current estimates\n",
        "\n",
        "\n",
        "        if indices is None:\n",
        "            indices = (slice(None), slice(None))\n",
        "        fnames = self.params.get('data', 'fnames')\n",
        "        if os.path.exists(fnames[0]):\n",
        "            _, extension = os.path.splitext(fnames[0])[:2]\n",
        "            extension = extension.lower()\n",
        "        else:\n",
        "            logging.warning(\"Error: File not found, with file list:\\n\" + fnames[0])\n",
        "            raise Exception('File not found!')\n",
        "\n",
        "        base_name = pathlib.Path(fnames[0]).stem + \"_memmap_\"\n",
        "        if extension == '.mmap':\n",
        "            fname_new = fnames[0]\n",
        "            Yr, dims, T = mmapping.load_memmap(fnames[0])\n",
        "            if np.isfortran(Yr):\n",
        "                raise Exception('The file should be in C order (see save_memmap function)')\n",
        "        else:\n",
        "            if motion_correct:\n",
        "                mc = MotionCorrect(fnames, dview=self.dview, **self.params.motion)\n",
        "                mc.motion_correct(save_movie=True)\n",
        "                fname_mc = mc.fname_tot_els if self.params.motion['pw_rigid'] else mc.fname_tot_rig\n",
        "                if self.params.get('motion', 'pw_rigid'):\n",
        "                    b0 = np.ceil(np.maximum(np.max(np.abs(mc.x_shifts_els)),\n",
        "                                            np.max(np.abs(mc.y_shifts_els)))).astype(np.int)\n",
        "                    self.estimates.shifts = [mc.x_shifts_els, mc.y_shifts_els]\n",
        "                else:\n",
        "                    b0 = np.ceil(np.max(np.abs(mc.shifts_rig))).astype(np.int)\n",
        "                    self.estimates.shifts = mc.shifts_rig\n",
        "                # TODO - b0 is currently direction inspecific, which can cause\n",
        "                # sub-optimal behavior. See\n",
        "                # https://github.com/flatironinstitute/CaImAn/pull/618#discussion_r313960370\n",
        "                # for further details.\n",
        "                # b0 = 0 if self.params.get('motion', 'border_nan') is 'copy' else 0\n",
        "                b0 = 0\n",
        "                fname_new = mmapping.save_memmap(fname_mc, base_name=base_name, order='C',\n",
        "                                                 border_to_0=b0)\n",
        "            else:\n",
        "                fname_new = mmapping.save_memmap(fnames, base_name=base_name, order='C')\n",
        "            Yr, dims, T = mmapping.load_memmap(fname_new)\n",
        "\n",
        "        images = np.reshape(Yr.T, [T] + list(dims), order='F')\n",
        "        self.mmap_file = fname_new\n",
        "        if not include_eval:\n",
        "            return self.fit(images, indices=indices)\n",
        "\n",
        "        fit_cnm = self.fit(images, indices=indices)\n",
        "        Cn = summary_images.local_correlations(images[::max(T//1000, 1)], swap_dim=False)\n",
        "        Cn[np.isnan(Cn)] = 0\n",
        "        fit_cnm.save(fname_new[:-5]+'_init.hdf5')\n",
        "        #fit_cnm.params.change_params({'p': self.params.get('preprocess', 'p')})\n",
        "        # RE-RUN seeded CNMF on accepted patches to refine and perform deconvolution\n",
        "        cnm2 = fit_cnm.refit(images, dview=self.dview)\n",
        "        cnm2.estimates.evaluate_components(images, cnm2.params, dview=self.dview)\n",
        "        # update object with selected components\n",
        "        #cnm2.estimates.select_components(use_object=True)\n",
        "        # Extract DF/F values\n",
        "        cnm2.estimates.detrend_df_f(quantileMin=8, frames_window=250)\n",
        "        cnm2.estimates.Cn = Cn\n",
        "        cnm2.save(cnm2.mmap_file[:-4] + 'hdf5')\n",
        "\n",
        "        cluster.stop_server(dview=self.dview)\n",
        "        log_files = glob.glob('*_LOG_*')\n",
        "        for log_file in log_files:\n",
        "            os.remove(log_file)\n",
        "\n",
        "        return cnm2\n"
      ]
    },
    {
      "cell_type": "code",
      "metadata": {
        "colab": {
          "base_uri": "https://localhost:8080/",
          "height": 322
        },
        "id": "BXiK-nRtE1W-",
        "outputId": "ac4597dd-8f54-4699-fcca-8723c58ef611"
      },
      "source": [
        "# %% Now RUN CaImAn Batch (CNMF)\n",
        "cnm = cnmf.CNMF(n_processes, params=opts, dview=dview)\n",
        "cnm = cnm.fit_file(motion_correct = False, include_eval=True)"
      ],
      "execution_count": 175,
      "outputs": [
        {
          "output_type": "error",
          "ename": "TypeError",
          "evalue": "ignored",
          "traceback": [
            "\u001b[0;31m---------------------------------------------------------------------------\u001b[0m",
            "\u001b[0;31mTypeError\u001b[0m                                 Traceback (most recent call last)",
            "\u001b[0;32m<ipython-input-175-4e487bbaf5a3>\u001b[0m in \u001b[0;36m<module>\u001b[0;34m()\u001b[0m\n\u001b[1;32m      1\u001b[0m \u001b[0;31m# %% Now RUN CaImAn Batch (CNMF)\u001b[0m\u001b[0;34m\u001b[0m\u001b[0;34m\u001b[0m\u001b[0;34m\u001b[0m\u001b[0m\n\u001b[1;32m      2\u001b[0m \u001b[0mcnm\u001b[0m \u001b[0;34m=\u001b[0m \u001b[0mcnmf\u001b[0m\u001b[0;34m.\u001b[0m\u001b[0mCNMF\u001b[0m\u001b[0;34m(\u001b[0m\u001b[0mn_processes\u001b[0m\u001b[0;34m,\u001b[0m \u001b[0mparams\u001b[0m\u001b[0;34m=\u001b[0m\u001b[0mopts\u001b[0m\u001b[0;34m,\u001b[0m \u001b[0mdview\u001b[0m\u001b[0;34m=\u001b[0m\u001b[0mdview\u001b[0m\u001b[0;34m)\u001b[0m\u001b[0;34m\u001b[0m\u001b[0;34m\u001b[0m\u001b[0m\n\u001b[0;32m----> 3\u001b[0;31m \u001b[0mcnm\u001b[0m \u001b[0;34m=\u001b[0m \u001b[0mcnm\u001b[0m\u001b[0;34m.\u001b[0m\u001b[0mfit_file\u001b[0m\u001b[0;34m(\u001b[0m\u001b[0mmotion_correct\u001b[0m \u001b[0;34m=\u001b[0m \u001b[0;32mFalse\u001b[0m\u001b[0;34m,\u001b[0m \u001b[0minclude_eval\u001b[0m\u001b[0;34m=\u001b[0m\u001b[0;32mTrue\u001b[0m\u001b[0;34m)\u001b[0m\u001b[0;34m\u001b[0m\u001b[0;34m\u001b[0m\u001b[0m\n\u001b[0m",
            "\u001b[0;32m/content/CaImAn/caiman/source_extraction/cnmf/cnmf.py\u001b[0m in \u001b[0;36mfit_file\u001b[0;34m(self, motion_correct, indices, include_eval)\u001b[0m\n\u001b[1;32m    331\u001b[0m             \u001b[0mindices\u001b[0m \u001b[0;34m=\u001b[0m \u001b[0;34m(\u001b[0m\u001b[0mslice\u001b[0m\u001b[0;34m(\u001b[0m\u001b[0;32mNone\u001b[0m\u001b[0;34m)\u001b[0m\u001b[0;34m,\u001b[0m \u001b[0mslice\u001b[0m\u001b[0;34m(\u001b[0m\u001b[0;32mNone\u001b[0m\u001b[0;34m)\u001b[0m\u001b[0;34m)\u001b[0m\u001b[0;34m\u001b[0m\u001b[0;34m\u001b[0m\u001b[0m\n\u001b[1;32m    332\u001b[0m         \u001b[0mfnames\u001b[0m \u001b[0;34m=\u001b[0m \u001b[0mself\u001b[0m\u001b[0;34m.\u001b[0m\u001b[0mparams\u001b[0m\u001b[0;34m.\u001b[0m\u001b[0mget\u001b[0m\u001b[0;34m(\u001b[0m\u001b[0;34m'data'\u001b[0m\u001b[0;34m,\u001b[0m \u001b[0;34m'fnames'\u001b[0m\u001b[0;34m)\u001b[0m\u001b[0;34m\u001b[0m\u001b[0;34m\u001b[0m\u001b[0m\n\u001b[0;32m--> 333\u001b[0;31m         \u001b[0;32mif\u001b[0m \u001b[0mos\u001b[0m\u001b[0;34m.\u001b[0m\u001b[0mpath\u001b[0m\u001b[0;34m.\u001b[0m\u001b[0mexists\u001b[0m\u001b[0;34m(\u001b[0m\u001b[0mfnames\u001b[0m\u001b[0;34m[\u001b[0m\u001b[0;36m0\u001b[0m\u001b[0;34m]\u001b[0m\u001b[0;34m)\u001b[0m\u001b[0;34m:\u001b[0m\u001b[0;34m\u001b[0m\u001b[0;34m\u001b[0m\u001b[0m\n\u001b[0m\u001b[1;32m    334\u001b[0m             \u001b[0m_\u001b[0m\u001b[0;34m,\u001b[0m \u001b[0mextension\u001b[0m \u001b[0;34m=\u001b[0m \u001b[0mos\u001b[0m\u001b[0;34m.\u001b[0m\u001b[0mpath\u001b[0m\u001b[0;34m.\u001b[0m\u001b[0msplitext\u001b[0m\u001b[0;34m(\u001b[0m\u001b[0mfnames\u001b[0m\u001b[0;34m[\u001b[0m\u001b[0;36m0\u001b[0m\u001b[0;34m]\u001b[0m\u001b[0;34m)\u001b[0m\u001b[0;34m[\u001b[0m\u001b[0;34m:\u001b[0m\u001b[0;36m2\u001b[0m\u001b[0;34m]\u001b[0m\u001b[0;34m\u001b[0m\u001b[0;34m\u001b[0m\u001b[0m\n\u001b[1;32m    335\u001b[0m             \u001b[0mextension\u001b[0m \u001b[0;34m=\u001b[0m \u001b[0mextension\u001b[0m\u001b[0;34m.\u001b[0m\u001b[0mlower\u001b[0m\u001b[0;34m(\u001b[0m\u001b[0;34m)\u001b[0m\u001b[0;34m\u001b[0m\u001b[0;34m\u001b[0m\u001b[0m\n",
            "\u001b[0;31mTypeError\u001b[0m: 'NoneType' object is not subscriptable"
          ]
        }
      ]
    },
    {
      "cell_type": "markdown",
      "metadata": {
        "id": "ElmK1O9ijXSv"
      },
      "source": [
        "These cells only work if the fit function has gone through without errors"
      ]
    },
    {
      "cell_type": "code",
      "metadata": {
        "id": "chmt34wkHD9j"
      },
      "source": [
        "import matplotlib.pyplot as plt\n",
        "dims = [128,256]\n",
        "#5th component\n",
        "plt.figure() \n",
        "plt.imshow(np.reshape(cnm.estimates.A[:,4].toarray(), dims, order='F'))"
      ],
      "execution_count": null,
      "outputs": []
    },
    {
      "cell_type": "code",
      "metadata": {
        "id": "XhlnxZRMYtEn"
      },
      "source": [
        "#visualize all roi's identified\n",
        "roiimg = np.zeros((32768,1))\n",
        "\n",
        "for i in range(cnm.estimates.A.shape[1]):\n",
        "  roiimg = roiimg+cnm.estimates.A[:,i]\n",
        "\n",
        "plt.figure()\n",
        "plt.imshow(np.reshape(roiimg, dims, order=\"F\"))"
      ],
      "execution_count": null,
      "outputs": []
    },
    {
      "cell_type": "code",
      "metadata": {
        "id": "mSllkGeSHg5p"
      },
      "source": [
        "#deconvolved trace for 5th component\n",
        "plt.figure() \n",
        "plt.plot(cnm.estimates.C[4])"
      ],
      "execution_count": null,
      "outputs": []
    },
    {
      "cell_type": "code",
      "metadata": {
        "id": "CN01-lViHo-x"
      },
      "source": [
        "#inferred spikes for 5th component\n",
        "plt.figure() \n",
        "plt.plot(cnm.estimates.S[4])"
      ],
      "execution_count": null,
      "outputs": []
    },
    {
      "cell_type": "code",
      "metadata": {
        "id": "6kPwxqrhHVz9"
      },
      "source": [
        "#returns a list of our binary masks\n",
        "M = cnm.estimates.A > 0\n",
        "masks = [np.reshape(M[:,i].toarray(), dims, order='F') for i in range(M.shape[1])]"
      ],
      "execution_count": null,
      "outputs": []
    },
    {
      "cell_type": "code",
      "metadata": {
        "id": "hWFiTd5BasID"
      },
      "source": [
        "M.shape"
      ],
      "execution_count": null,
      "outputs": []
    },
    {
      "cell_type": "code",
      "metadata": {
        "id": "RYTgb7e_JGro"
      },
      "source": [
        "#plot mask for 3rd ROI\n",
        "plt.imshow(np.reshape(masks[4], dims, order='F'))"
      ],
      "execution_count": null,
      "outputs": []
    },
    {
      "cell_type": "code",
      "metadata": {
        "id": "A3FmZssZ0oUw"
      },
      "source": [
        "#visualize all masks\n",
        "img = np.zeros((32768,1))\n",
        "\n",
        "for i in range(M.shape[1]):\n",
        "  img = img+M[:,i]\n",
        "\n",
        "plt.figure()\n",
        "plt.imshow(np.reshape(img, dims, order=\"F\"))"
      ],
      "execution_count": null,
      "outputs": []
    },
    {
      "cell_type": "code",
      "metadata": {
        "id": "Pd2hl39cPV1K"
      },
      "source": [
        "# %% STOP CLUSTER and clean up log files\n",
        "cm.stop_server(dview=dview)"
      ],
      "execution_count": 176,
      "outputs": []
    },
    {
      "cell_type": "code",
      "metadata": {
        "id": "qxF1QD6NIDdM"
      },
      "source": [
        "np.reshape(cnm.estimates.A[:,4].toarray(), dims, order='F').shape"
      ],
      "execution_count": null,
      "outputs": []
    },
    {
      "cell_type": "code",
      "metadata": {
        "id": "UyKglYCjIDf0"
      },
      "source": [
        ""
      ],
      "execution_count": null,
      "outputs": []
    },
    {
      "cell_type": "markdown",
      "metadata": {
        "id": "g1a45fQ3b_ax"
      },
      "source": [
        "## Validation"
      ]
    },
    {
      "cell_type": "code",
      "metadata": {
        "id": "qlT2UQyX33ih"
      },
      "source": [
        "#path to manual ROI file provided by Carl\n",
        "!ls ../drive/MyDrive/DS6011_Capstone_VisualNeuroscience/DATA/manualROIs/manualROIs_fixed/210815_0_1_manualROIs_mix1_syt.mat\n"
      ],
      "execution_count": null,
      "outputs": []
    },
    {
      "cell_type": "code",
      "metadata": {
        "id": "2PtupBe44jb-"
      },
      "source": [
        "g = h5py.File('../drive/MyDrive/DS6011_Capstone_VisualNeuroscience/DATA/manualROIs/manualROIs_fixed/210815_0_1_manualROIs_mix1_syt.mat', 'r')\n",
        "#current shape\n",
        "g['bwMaskStack'][:].shape"
      ],
      "execution_count": null,
      "outputs": []
    },
    {
      "cell_type": "code",
      "metadata": {
        "id": "YtL7W9-QUYrb"
      },
      "source": [
        "#shape to match - caiman results we fit above\n",
        "cnm.estimates.A.shape"
      ],
      "execution_count": null,
      "outputs": []
    },
    {
      "cell_type": "code",
      "metadata": {
        "id": "KcRnRPZ8XfyW"
      },
      "source": [
        "#image of original mask to match\n",
        "dims = [128,256]\n",
        "f = h5py.File('../drive/MyDrive/DS6011_Capstone_VisualNeuroscience/DATA/manualROIs/210815_0_1_manualROIs_mix1_syt.mat', 'r')\n",
        "plt.imshow(np.reshape(f['bwLabel'][:].T, dims, order='F'))"
      ],
      "execution_count": null,
      "outputs": []
    },
    {
      "cell_type": "code",
      "metadata": {
        "id": "SoqGxVyAUy-i"
      },
      "source": [
        "#transpose the matrix and save to an array A\n",
        "A = g['bwMaskStack'][:].T\n",
        "\n",
        "#rearrange the dimensions and show the new shape\n",
        "A = A.transpose(1,0,2)\n",
        "A.shape"
      ],
      "execution_count": null,
      "outputs": []
    },
    {
      "cell_type": "code",
      "metadata": {
        "id": "HokL8DvmU9Vj"
      },
      "source": [
        "#reshape to 2D, first dimension is 128*256 (32768), 2nd dimension is the # of ROI's\n",
        "A = A.reshape((A.shape[1]*A.shape[0]), A.shape[2])\n",
        "A.shape"
      ],
      "execution_count": null,
      "outputs": []
    },
    {
      "cell_type": "code",
      "metadata": {
        "id": "jG8f05HjWr2B"
      },
      "source": [
        "#Show the unique looking ROI to confirm we're not distorting ROIs\n",
        "plt.imshow(np.reshape(A[:,11], dims, order='F'))"
      ],
      "execution_count": null,
      "outputs": []
    },
    {
      "cell_type": "code",
      "metadata": {
        "id": "WX2drNmApC8g"
      },
      "source": [
        "#make the matrix sparse, see if that helps memory\n",
        "import scipy.sparse as sparse\n",
        "A_sparse = sparse.csc_matrix(A)"
      ],
      "execution_count": null,
      "outputs": []
    },
    {
      "cell_type": "code",
      "metadata": {
        "id": "L8xskWswb4Xs"
      },
      "source": [
        "#visualize all roi masks\n",
        "maskimg = np.zeros((32768,1))\n",
        "\n",
        "for i in range(A_sparse.shape[1]):\n",
        "  maskimg = maskimg+A_sparse[:,i]\n",
        "\n",
        "plt.figure()\n",
        "plt.imshow(np.reshape(maskimg, dims, order=\"F\"))"
      ],
      "execution_count": null,
      "outputs": []
    },
    {
      "cell_type": "code",
      "metadata": {
        "id": "mBP6hDxKdIWC"
      },
      "source": [
        "#For comparison visualize all rois identified\n",
        "img = np.zeros((32768,1))\n",
        "\n",
        "for i in range(cnm.estimates.A.shape[1]):\n",
        "  img = img+cnm.estimates.A[:,i]\n",
        "\n",
        "plt.figure()\n",
        "plt.imshow(np.reshape(img, dims, order=\"F\"))"
      ],
      "execution_count": null,
      "outputs": []
    },
    {
      "cell_type": "code",
      "metadata": {
        "id": "3FtY8tLaYwzH"
      },
      "source": [
        "## revisit original movie image\n",
        "plt.figure(figsize=(10, 6))\n",
        "plt.imshow(flip[500])"
      ],
      "execution_count": null,
      "outputs": []
    },
    {
      "cell_type": "code",
      "metadata": {
        "id": "askzyMxEe778"
      },
      "source": [
        "#overlay carl's masks on the roi's identified - looks like they don't match up and not sure why\n",
        "overlay = roiimg+maskimg\n",
        "plt.figure(figsize=(10, 6))\n",
        "plt.imshow(np.reshape(overlay, dims, order=\"F\"))"
      ],
      "execution_count": null,
      "outputs": []
    },
    {
      "cell_type": "code",
      "metadata": {
        "id": "v0ATz3fzWzcg"
      },
      "source": [
        "#Try running register_ROIs and see what happens\n",
        "## trying various thresholds\n",
        "matched_ROIs1, matched_ROIs2, non_matched1, non_matched2, performance, A2 = cm.base.rois.register_ROIs(A_sparse, cnm.estimates.A, dims=dims, thresh_cost = 0.1, max_dist = 100, print_assignment=True, plot_results=True, Cn=cnm.estimates.Cn)\n",
        "performance\n",
        "#zero matches - not sure if this is because our ROI's suck or if it's a formatting problem"
      ],
      "execution_count": null,
      "outputs": []
    },
    {
      "cell_type": "code",
      "metadata": {
        "id": "QFGAEjOoU37h"
      },
      "source": [
        "A2_sparse = sparse.csc_matrix(A2)"
      ],
      "execution_count": null,
      "outputs": []
    },
    {
      "cell_type": "code",
      "metadata": {
        "id": "hwVP7XTWU-KL"
      },
      "source": [
        "for i in range(A2_sparse.shape[1]):\n",
        "  maskimg2 = maskimg+A2_sparse[:,i]\n",
        "\n",
        "plt.figure(figsize=(10,6))\n",
        "plt.imshow(np.reshape(maskimg2, dims, order=\"F\"))"
      ],
      "execution_count": null,
      "outputs": []
    },
    {
      "cell_type": "markdown",
      "metadata": {
        "id": "5E-qv2qmw1vR"
      },
      "source": [
        "## *Lauren* (experimenting)"
      ]
    },
    {
      "cell_type": "code",
      "metadata": {
        "id": "cTlAbo4xw3nZ"
      },
      "source": [
        "#%% restart cluster to clean up memory\n",
        "c, dview, n_processes = cm.cluster.setup_cluster(\n",
        "    backend='local', n_processes=None, single_thread=False)"
      ],
      "execution_count": null,
      "outputs": []
    },
    {
      "cell_type": "code",
      "metadata": {
        "id": "w-cfdlM6w6AW"
      },
      "source": [
        "fname_new_exp = cm.save_memmap(fnames, base_name='memmap_',\n",
        "                               order='C', border_to_0=0, dview=dview)"
      ],
      "execution_count": null,
      "outputs": []
    },
    {
      "cell_type": "code",
      "metadata": {
        "id": "JJJOm_aGw6Cs"
      },
      "source": [
        "# load memory mappable file\n",
        "Yr, dims, T = cm.load_memmap(fname_new_exp)\n",
        "images = Yr.T.reshape((T,) + dims, order='F')"
      ],
      "execution_count": null,
      "outputs": []
    },
    {
      "cell_type": "code",
      "metadata": {
        "id": "o6LszP8Uw6E5"
      },
      "source": [
        "# Compute some summary images (correlation and peak to noise) \n",
        "cn_filter, pnr = cm.summary_images.correlation_pnr(images[::5], gSig=3, swap_dim=False)"
      ],
      "execution_count": null,
      "outputs": []
    },
    {
      "cell_type": "code",
      "metadata": {
        "id": "3zZsWoQFw6HM"
      },
      "source": [
        "#Plot the results of the correlation/PNR projection\n",
        "plt.figure(figsize=(20,10))\n",
        "plt.subplot(2, 2, 1); plt.imshow(cn_filter); plt.colorbar(); plt.title('Correlation projection')\n",
        "plt.subplot(2, 2, 2); plt.imshow(pnr); plt.colorbar(); plt.title('PNR')"
      ],
      "execution_count": null,
      "outputs": []
    },
    {
      "cell_type": "code",
      "metadata": {
        "id": "k0CbSEhQw6Mq"
      },
      "source": [
        "#%% plot contours of found components\n",
        "Cn = cm.local_correlations(images.transpose((0,2,1)))\n",
        "Cn[np.isnan(Cn)] = 0\n",
        "plt.figure(); crd = plot_contours(img=Cn, thr=0.9)\n",
        "plt.title('Contour plots of found components')"
      ],
      "execution_count": null,
      "outputs": []
    },
    {
      "cell_type": "markdown",
      "metadata": {
        "id": "2OcETzoLxR5r"
      },
      "source": [
        "#### Inspecting the results\n",
        "Briefly inspect the results by plotting contours of identified components against correlation image. The results of the algorithm are stored in the object `cnm.estimates`. More information can be found in the definition of the estimates object and in the wiki."
      ]
    },
    {
      "cell_type": "code",
      "metadata": {
        "id": "erb7suVtxSX-"
      },
      "source": [
        "#%% plot contours of found components\n",
        "Cn = cm.local_correlations(images.transpose(1,2,0))\n",
        "Cn[np.isnan(Cn)] = 0\n",
        "cnm.estimates.plot_contours_nb(img=Cn)"
      ],
      "execution_count": null,
      "outputs": []
    },
    {
      "cell_type": "code",
      "metadata": {
        "id": "QSH3Y1c6xUv0"
      },
      "source": [
        "#%% plot contour plots of accepted and rejected components\n",
        "cnm.estimates.plot_contours_nb(img=cn_filter, idx=cnm.estimates.idx_components)"
      ],
      "execution_count": null,
      "outputs": []
    },
    {
      "cell_type": "code",
      "metadata": {
        "id": "dUeZPcilxV2h"
      },
      "source": [
        "cnm.estimates.hv_view_components(img=cn_filter, idx=cnm.estimates.idx_components,\n",
        "                                denoised_color='red', cmap='gray')"
      ],
      "execution_count": null,
      "outputs": []
    },
    {
      "cell_type": "code",
      "metadata": {
        "id": "AeGlF0dQxXh0"
      },
      "source": [
        "cnm.estimates.evaluate_components(images, cnm.params, dview=dview)\n",
        "\n",
        "print(' ***** ')\n",
        "print('Number of total components: ', len(cnm.estimates.C))\n",
        "print('Number of accepted components: ', len(cnm.estimates.idx_components))"
      ],
      "execution_count": null,
      "outputs": []
    },
    {
      "cell_type": "code",
      "metadata": {
        "id": "V7HAEup2xZzE"
      },
      "source": [
        "%matplotlib inline\n",
        "\n",
        "#How many neurons to plot\n",
        "neuronsToPlot = 20\n",
        "\n",
        "DeconvTraces = cnm.estimates.S\n",
        "RawTraces = cnm.estimates.C\n",
        "SFP = cnm.estimates.A\n",
        "SFP_dims = list(dims)\n",
        "SFP_dims.append(SFP.shape[1]) \n",
        "print('Spatial foootprints dimensions (height x width x neurons): ' + str(SFP_dims))\n",
        "\n",
        "numNeurons = SFP_dims[2]\n",
        "\n",
        "SFP = np.reshape(SFP.toarray(), SFP_dims, order='F')\n",
        "\n",
        "maxRawTraces = np.amax(RawTraces)\n",
        "\n",
        "plt.figure(figsize=(30,15))\n",
        "plt.subplot(341);\n",
        "## plt.subplot(345); plt.plot(mc.shifts_rig); plt.title('Motion corrected shifts')\n",
        "plt.subplot(3,4,9);\n",
        "plt.subplot(3,4,2); plt.imshow(cn_filter); plt.colorbar(); plt.title('Correlation projection')\n",
        "plt.subplot(3,4,6); plt.imshow(pnr); plt.colorbar(); plt.title('PNR')\n",
        "plt.subplot(3,4,10); plt.imshow(np.amax(SFP,axis=2)); plt.colorbar(); plt.title('Spatial footprints')\n",
        "\n",
        "plt.subplot(2,2,2); plt.figure; plt.title('Example traces (first 50 cells)')\n",
        "plot_gain = 10 # To change the value gain of traces\n",
        "if numNeurons >= neuronsToPlot:\n",
        "  for i in range(neuronsToPlot):\n",
        "    if i == 0:\n",
        "      plt.plot(RawTraces[i,:],'k')\n",
        "    else:\n",
        "      trace = RawTraces[i,:] + maxRawTraces*i/plot_gain\n",
        "      plt.plot(trace,'k')\n",
        "else:\n",
        "  for i in range(numNeurons):\n",
        "    if i == 0:\n",
        "      plt.plot(RawTraces[i,:],'k')\n",
        "    else:\n",
        "      trace = RawTraces[i,:] + maxRawTraces*i/plot_gain\n",
        "      plt.plot(trace,'k')\n",
        "\n",
        "plt.subplot(2,2,4); plt.figure; plt.title('Deconvolved traces (first 50 cells)')\n",
        "plot_gain = 20 # To change the value gain of traces\n",
        "if numNeurons >= neuronsToPlot:\n",
        "  for i in range(neuronsToPlot):\n",
        "    if i == 0:\n",
        "      plt.plot(DeconvTraces[i,:],'k')\n",
        "    else:\n",
        "      trace = DeconvTraces[i,:] + maxRawTraces*i/plot_gain\n",
        "      plt.plot(trace,'k')\n",
        "else:\n",
        "  for i in range(numNeurons):\n",
        "    if i == 0:\n",
        "      plt.plot(DeconvTraces[i,:],'k')\n",
        "    else:\n",
        "      trace = DeconvTraces[i,:] + maxRawTraces*i/plot_gain\n",
        "      plt.plot(trace,'k')      \n",
        "\n",
        "# Save summary figure"
      ],
      "execution_count": null,
      "outputs": []
    },
    {
      "cell_type": "code",
      "metadata": {
        "id": "GG47D0yPxaTN"
      },
      "source": [
        "%%capture\n",
        "#%% RE-RUN seeded CNMF on accepted patches to refine and perform deconvolution \n",
        "cnm2 = cnm.refit(images, dview=dview)"
      ],
      "execution_count": null,
      "outputs": []
    },
    {
      "cell_type": "code",
      "metadata": {
        "id": "jGNO2wYsxc7n"
      },
      "source": [
        "## CRASHES COLLAB EVERY TIME\n",
        "\n",
        "## cnm.estimates.play_movie(images, q_max=99.5, magnification=2,\n",
        "                                 include_bck=True, gain_res=10, bpx=0)"
      ],
      "execution_count": null,
      "outputs": []
    }
  ]
}