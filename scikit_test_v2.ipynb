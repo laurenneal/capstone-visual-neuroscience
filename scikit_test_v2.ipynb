{
  "nbformat": 4,
  "nbformat_minor": 0,
  "metadata": {
    "colab": {
      "name": "scikit test v2.ipynb",
      "provenance": [],
      "collapsed_sections": [],
      "include_colab_link": true
    },
    "kernelspec": {
      "name": "python3",
      "display_name": "Python 3"
    },
    "language_info": {
      "name": "python"
    },
    "accelerator": "GPU"
  },
  "cells": [
    {
      "cell_type": "markdown",
      "metadata": {
        "id": "view-in-github",
        "colab_type": "text"
      },
      "source": [
        "<a href=\"https://colab.research.google.com/github/laurenneal/capstone-visual-neuroscience/blob/main/scikit_test_v2.ipynb\" target=\"_parent\"><img src=\"https://colab.research.google.com/assets/colab-badge.svg\" alt=\"Open In Colab\"/></a>"
      ]
    },
    {
      "cell_type": "code",
      "execution_count": 3,
      "metadata": {
        "colab": {
          "base_uri": "https://localhost:8080/"
        },
        "id": "XYt9E3-NyLo0",
        "outputId": "7d8af35a-7451-43c4-caca-a274017ebadb"
      },
      "outputs": [
        {
          "output_type": "stream",
          "name": "stdout",
          "text": [
            "Drive already mounted at /content/drive; to attempt to forcibly remount, call drive.mount(\"/content/drive\", force_remount=True).\n"
          ]
        }
      ],
      "source": [
        "from google.colab import drive\n",
        "drive.mount('/content/drive')"
      ]
    },
    {
      "cell_type": "code",
      "source": [
        "#imports\n",
        "import pandas as pd\n",
        "import os\n",
        "import random\n",
        "import seaborn as sns\n",
        "\n",
        "import numpy as np\n",
        "import matplotlib.pyplot as plt\n",
        "from matplotlib.colors import ListedColormap\n",
        "from sklearn.model_selection import train_test_split\n",
        "from sklearn.preprocessing import StandardScaler\n",
        "from sklearn.datasets import make_moons, make_circles, make_classification\n",
        "from sklearn.neural_network import MLPClassifier\n",
        "from sklearn.neighbors import KNeighborsClassifier\n",
        "from sklearn.svm import SVC\n",
        "from sklearn.gaussian_process import GaussianProcessClassifier\n",
        "from sklearn.gaussian_process.kernels import RBF\n",
        "from sklearn.tree import DecisionTreeClassifier\n",
        "from sklearn.ensemble import RandomForestClassifier, AdaBoostClassifier\n",
        "from sklearn.naive_bayes import GaussianNB\n",
        "from sklearn.discriminant_analysis import QuadraticDiscriminantAnalysis\n",
        "from sklearn.metrics import confusion_matrix\n",
        "from sklearn.metrics import ConfusionMatrixDisplay\n",
        "from sklearn.metrics import classification_report"
      ],
      "metadata": {
        "id": "rSe6lt-0RP-Q"
      },
      "execution_count": 4,
      "outputs": []
    },
    {
      "cell_type": "code",
      "source": [
        "#uncomment to pull data that's already been tagged train/test/val\n",
        "\n",
        "# # pull train and test data from the folder\n",
        "# root = '/content/drive/MyDrive/DS6011_Capstone_VisualNeuroscience/Seeded_CNMF/Extracted_Features/'\n",
        "# folder = '5_frames_stim1/'\n",
        "# f_names = os.listdir(root + folder)\n",
        "\n",
        "# cols = pd.read_csv(root + folder + f_names[0]).columns\n",
        "\n",
        "# df_train = pd.DataFrame(columns=cols)\n",
        "# df_test = pd.DataFrame(columns=cols)\n",
        "# df_val = pd.DataFrame(columns=cols)\n",
        "\n",
        "# for f in f_names:\n",
        "#   df = pd.read_csv(root + folder + f)\n",
        "#   if 'train' in f.split('_')[-1]:\n",
        "#     df_train = pd.concat([df_train, df])\n",
        "#   if 'test' in f.split('_')[-1]:\n",
        "#     df_test = pd.concat([df_test, df])\n",
        "#   if 'val' in f.split('_')[-1]:\n",
        "#     df_val = pd.concat([df_val, df])"
      ],
      "metadata": {
        "id": "sGpabZsZKocQ"
      },
      "execution_count": 5,
      "outputs": []
    },
    {
      "cell_type": "code",
      "source": [
        "# pull all data from folder\n",
        "root = '/content/drive/MyDrive/DS6011_Capstone_VisualNeuroscience/Seeded_CNMF/Extracted_Features/'\n",
        "folder = '5_frames_stim1/'\n",
        "f_names = os.listdir(root + folder)\n",
        "\n",
        "paths = [root + folder + f for f in f_names if \"TrainTest\" in f] #only train/test\n",
        "print(paths)\n",
        "\n",
        "df = pd.concat(map(pd.read_csv, paths), ignore_index=True)\n",
        "df.head()"
      ],
      "metadata": {
        "id": "n5WUekIHs3WC",
        "outputId": "fdd01ad1-05f1-445b-a753-30e83ad06f54",
        "colab": {
          "base_uri": "https://localhost:8080/",
          "height": 334
        }
      },
      "execution_count": 6,
      "outputs": [
        {
          "output_type": "stream",
          "name": "stdout",
          "text": [
            "['/content/drive/MyDrive/DS6011_Capstone_VisualNeuroscience/Seeded_CNMF/Extracted_Features/5_frames_stim1/TrainTest_RAW_extracted_data_features.csv']\n"
          ]
        },
        {
          "output_type": "execute_result",
          "data": {
            "text/plain": [
              "   Unnamed: 0  stack label  roi  frame  movie_ID      resp     stim1  \\\n",
              "0           0      1   tm9    1      0  210728_0  0.119422  1.827970   \n",
              "1           1      1   tm9    1      1  210728_0  0.065380  0.676591   \n",
              "2           2      1   tm9    1      2  210728_0  0.036917 -1.276472   \n",
              "3           3      1   tm9    1      3  210728_0  0.156975 -1.676237   \n",
              "4           4      1   tm9    1      4  210728_0  0.195883 -1.351235   \n",
              "\n",
              "      stim2     stim3  ...  relation_stim1_PS-PS  relation_type_stim6  \\\n",
              "0 -0.668979 -1.323903  ...                   0.0                   PS   \n",
              "1  1.133205  0.209498  ...                   0.0                   PS   \n",
              "2 -0.881429  1.220991  ...                   0.0                   PS   \n",
              "3  0.505447  1.208871  ...                   0.0                   PS   \n",
              "4 -0.832430  1.249990  ...                   0.0                   PS   \n",
              "\n",
              "   relation_stim6  relation_stim6_+5  relation_type_stim6_+5  \\\n",
              "0    6.131515e-15       1.709783e-19                      NS   \n",
              "1    1.404623e-10       2.707063e-14                      NS   \n",
              "2    7.426788e-10       2.085457e-13                      NS   \n",
              "3    1.971844e-08       9.885126e-13                      NS   \n",
              "4    3.232196e-08       1.051521e-12                      NS   \n",
              "\n",
              "   relation_stim6_NS-NS  relation_stim6_NS-PS  relation_stim6_PS-NS  \\\n",
              "0                   0.0                   0.0          1.048356e-33   \n",
              "1                   0.0                   0.0          3.802402e-24   \n",
              "2                   0.0                   0.0          1.548825e-22   \n",
              "3                   0.0                   0.0          1.949192e-20   \n",
              "4                   0.0                   0.0          3.398724e-20   \n",
              "\n",
              "   relation_stim6_PS-PS  frame_group  \n",
              "0                   0.0            1  \n",
              "1                   0.0            1  \n",
              "2                   0.0            1  \n",
              "3                   0.0            1  \n",
              "4                   0.0            1  \n",
              "\n",
              "[5 rows x 38 columns]"
            ],
            "text/html": [
              "\n",
              "  <div id=\"df-7a33237c-0274-4172-9ff8-2ad4c4d1e9ce\">\n",
              "    <div class=\"colab-df-container\">\n",
              "      <div>\n",
              "<style scoped>\n",
              "    .dataframe tbody tr th:only-of-type {\n",
              "        vertical-align: middle;\n",
              "    }\n",
              "\n",
              "    .dataframe tbody tr th {\n",
              "        vertical-align: top;\n",
              "    }\n",
              "\n",
              "    .dataframe thead th {\n",
              "        text-align: right;\n",
              "    }\n",
              "</style>\n",
              "<table border=\"1\" class=\"dataframe\">\n",
              "  <thead>\n",
              "    <tr style=\"text-align: right;\">\n",
              "      <th></th>\n",
              "      <th>Unnamed: 0</th>\n",
              "      <th>stack</th>\n",
              "      <th>label</th>\n",
              "      <th>roi</th>\n",
              "      <th>frame</th>\n",
              "      <th>movie_ID</th>\n",
              "      <th>resp</th>\n",
              "      <th>stim1</th>\n",
              "      <th>stim2</th>\n",
              "      <th>stim3</th>\n",
              "      <th>...</th>\n",
              "      <th>relation_stim1_PS-PS</th>\n",
              "      <th>relation_type_stim6</th>\n",
              "      <th>relation_stim6</th>\n",
              "      <th>relation_stim6_+5</th>\n",
              "      <th>relation_type_stim6_+5</th>\n",
              "      <th>relation_stim6_NS-NS</th>\n",
              "      <th>relation_stim6_NS-PS</th>\n",
              "      <th>relation_stim6_PS-NS</th>\n",
              "      <th>relation_stim6_PS-PS</th>\n",
              "      <th>frame_group</th>\n",
              "    </tr>\n",
              "  </thead>\n",
              "  <tbody>\n",
              "    <tr>\n",
              "      <th>0</th>\n",
              "      <td>0</td>\n",
              "      <td>1</td>\n",
              "      <td>tm9</td>\n",
              "      <td>1</td>\n",
              "      <td>0</td>\n",
              "      <td>210728_0</td>\n",
              "      <td>0.119422</td>\n",
              "      <td>1.827970</td>\n",
              "      <td>-0.668979</td>\n",
              "      <td>-1.323903</td>\n",
              "      <td>...</td>\n",
              "      <td>0.0</td>\n",
              "      <td>PS</td>\n",
              "      <td>6.131515e-15</td>\n",
              "      <td>1.709783e-19</td>\n",
              "      <td>NS</td>\n",
              "      <td>0.0</td>\n",
              "      <td>0.0</td>\n",
              "      <td>1.048356e-33</td>\n",
              "      <td>0.0</td>\n",
              "      <td>1</td>\n",
              "    </tr>\n",
              "    <tr>\n",
              "      <th>1</th>\n",
              "      <td>1</td>\n",
              "      <td>1</td>\n",
              "      <td>tm9</td>\n",
              "      <td>1</td>\n",
              "      <td>1</td>\n",
              "      <td>210728_0</td>\n",
              "      <td>0.065380</td>\n",
              "      <td>0.676591</td>\n",
              "      <td>1.133205</td>\n",
              "      <td>0.209498</td>\n",
              "      <td>...</td>\n",
              "      <td>0.0</td>\n",
              "      <td>PS</td>\n",
              "      <td>1.404623e-10</td>\n",
              "      <td>2.707063e-14</td>\n",
              "      <td>NS</td>\n",
              "      <td>0.0</td>\n",
              "      <td>0.0</td>\n",
              "      <td>3.802402e-24</td>\n",
              "      <td>0.0</td>\n",
              "      <td>1</td>\n",
              "    </tr>\n",
              "    <tr>\n",
              "      <th>2</th>\n",
              "      <td>2</td>\n",
              "      <td>1</td>\n",
              "      <td>tm9</td>\n",
              "      <td>1</td>\n",
              "      <td>2</td>\n",
              "      <td>210728_0</td>\n",
              "      <td>0.036917</td>\n",
              "      <td>-1.276472</td>\n",
              "      <td>-0.881429</td>\n",
              "      <td>1.220991</td>\n",
              "      <td>...</td>\n",
              "      <td>0.0</td>\n",
              "      <td>PS</td>\n",
              "      <td>7.426788e-10</td>\n",
              "      <td>2.085457e-13</td>\n",
              "      <td>NS</td>\n",
              "      <td>0.0</td>\n",
              "      <td>0.0</td>\n",
              "      <td>1.548825e-22</td>\n",
              "      <td>0.0</td>\n",
              "      <td>1</td>\n",
              "    </tr>\n",
              "    <tr>\n",
              "      <th>3</th>\n",
              "      <td>3</td>\n",
              "      <td>1</td>\n",
              "      <td>tm9</td>\n",
              "      <td>1</td>\n",
              "      <td>3</td>\n",
              "      <td>210728_0</td>\n",
              "      <td>0.156975</td>\n",
              "      <td>-1.676237</td>\n",
              "      <td>0.505447</td>\n",
              "      <td>1.208871</td>\n",
              "      <td>...</td>\n",
              "      <td>0.0</td>\n",
              "      <td>PS</td>\n",
              "      <td>1.971844e-08</td>\n",
              "      <td>9.885126e-13</td>\n",
              "      <td>NS</td>\n",
              "      <td>0.0</td>\n",
              "      <td>0.0</td>\n",
              "      <td>1.949192e-20</td>\n",
              "      <td>0.0</td>\n",
              "      <td>1</td>\n",
              "    </tr>\n",
              "    <tr>\n",
              "      <th>4</th>\n",
              "      <td>4</td>\n",
              "      <td>1</td>\n",
              "      <td>tm9</td>\n",
              "      <td>1</td>\n",
              "      <td>4</td>\n",
              "      <td>210728_0</td>\n",
              "      <td>0.195883</td>\n",
              "      <td>-1.351235</td>\n",
              "      <td>-0.832430</td>\n",
              "      <td>1.249990</td>\n",
              "      <td>...</td>\n",
              "      <td>0.0</td>\n",
              "      <td>PS</td>\n",
              "      <td>3.232196e-08</td>\n",
              "      <td>1.051521e-12</td>\n",
              "      <td>NS</td>\n",
              "      <td>0.0</td>\n",
              "      <td>0.0</td>\n",
              "      <td>3.398724e-20</td>\n",
              "      <td>0.0</td>\n",
              "      <td>1</td>\n",
              "    </tr>\n",
              "  </tbody>\n",
              "</table>\n",
              "<p>5 rows × 38 columns</p>\n",
              "</div>\n",
              "      <button class=\"colab-df-convert\" onclick=\"convertToInteractive('df-7a33237c-0274-4172-9ff8-2ad4c4d1e9ce')\"\n",
              "              title=\"Convert this dataframe to an interactive table.\"\n",
              "              style=\"display:none;\">\n",
              "        \n",
              "  <svg xmlns=\"http://www.w3.org/2000/svg\" height=\"24px\"viewBox=\"0 0 24 24\"\n",
              "       width=\"24px\">\n",
              "    <path d=\"M0 0h24v24H0V0z\" fill=\"none\"/>\n",
              "    <path d=\"M18.56 5.44l.94 2.06.94-2.06 2.06-.94-2.06-.94-.94-2.06-.94 2.06-2.06.94zm-11 1L8.5 8.5l.94-2.06 2.06-.94-2.06-.94L8.5 2.5l-.94 2.06-2.06.94zm10 10l.94 2.06.94-2.06 2.06-.94-2.06-.94-.94-2.06-.94 2.06-2.06.94z\"/><path d=\"M17.41 7.96l-1.37-1.37c-.4-.4-.92-.59-1.43-.59-.52 0-1.04.2-1.43.59L10.3 9.45l-7.72 7.72c-.78.78-.78 2.05 0 2.83L4 21.41c.39.39.9.59 1.41.59.51 0 1.02-.2 1.41-.59l7.78-7.78 2.81-2.81c.8-.78.8-2.07 0-2.86zM5.41 20L4 18.59l7.72-7.72 1.47 1.35L5.41 20z\"/>\n",
              "  </svg>\n",
              "      </button>\n",
              "      \n",
              "  <style>\n",
              "    .colab-df-container {\n",
              "      display:flex;\n",
              "      flex-wrap:wrap;\n",
              "      gap: 12px;\n",
              "    }\n",
              "\n",
              "    .colab-df-convert {\n",
              "      background-color: #E8F0FE;\n",
              "      border: none;\n",
              "      border-radius: 50%;\n",
              "      cursor: pointer;\n",
              "      display: none;\n",
              "      fill: #1967D2;\n",
              "      height: 32px;\n",
              "      padding: 0 0 0 0;\n",
              "      width: 32px;\n",
              "    }\n",
              "\n",
              "    .colab-df-convert:hover {\n",
              "      background-color: #E2EBFA;\n",
              "      box-shadow: 0px 1px 2px rgba(60, 64, 67, 0.3), 0px 1px 3px 1px rgba(60, 64, 67, 0.15);\n",
              "      fill: #174EA6;\n",
              "    }\n",
              "\n",
              "    [theme=dark] .colab-df-convert {\n",
              "      background-color: #3B4455;\n",
              "      fill: #D2E3FC;\n",
              "    }\n",
              "\n",
              "    [theme=dark] .colab-df-convert:hover {\n",
              "      background-color: #434B5C;\n",
              "      box-shadow: 0px 1px 3px 1px rgba(0, 0, 0, 0.15);\n",
              "      filter: drop-shadow(0px 1px 2px rgba(0, 0, 0, 0.3));\n",
              "      fill: #FFFFFF;\n",
              "    }\n",
              "  </style>\n",
              "\n",
              "      <script>\n",
              "        const buttonEl =\n",
              "          document.querySelector('#df-7a33237c-0274-4172-9ff8-2ad4c4d1e9ce button.colab-df-convert');\n",
              "        buttonEl.style.display =\n",
              "          google.colab.kernel.accessAllowed ? 'block' : 'none';\n",
              "\n",
              "        async function convertToInteractive(key) {\n",
              "          const element = document.querySelector('#df-7a33237c-0274-4172-9ff8-2ad4c4d1e9ce');\n",
              "          const dataTable =\n",
              "            await google.colab.kernel.invokeFunction('convertToInteractive',\n",
              "                                                     [key], {});\n",
              "          if (!dataTable) return;\n",
              "\n",
              "          const docLinkHtml = 'Like what you see? Visit the ' +\n",
              "            '<a target=\"_blank\" href=https://colab.research.google.com/notebooks/data_table.ipynb>data table notebook</a>'\n",
              "            + ' to learn more about interactive tables.';\n",
              "          element.innerHTML = '';\n",
              "          dataTable['output_type'] = 'display_data';\n",
              "          await google.colab.output.renderOutput(dataTable, element);\n",
              "          const docLink = document.createElement('div');\n",
              "          docLink.innerHTML = docLinkHtml;\n",
              "          element.appendChild(docLink);\n",
              "        }\n",
              "      </script>\n",
              "    </div>\n",
              "  </div>\n",
              "  "
            ]
          },
          "metadata": {},
          "execution_count": 6
        }
      ]
    },
    {
      "cell_type": "code",
      "source": [
        "#get the holdout df\n",
        "paths = [root + folder + f for f in f_names if \"HOLDOUT\" in f]\n",
        "print(paths)\n",
        "\n",
        "holdout_df = pd.concat(map(pd.read_csv, paths), ignore_index=True)\n",
        "holdout_df.head()"
      ],
      "metadata": {
        "colab": {
          "base_uri": "https://localhost:8080/",
          "height": 334
        },
        "id": "OhJLrp1J-srt",
        "outputId": "ca4d6a09-013b-4ef9-c215-ab3b4251f966"
      },
      "execution_count": 7,
      "outputs": [
        {
          "output_type": "stream",
          "name": "stdout",
          "text": [
            "['/content/drive/MyDrive/DS6011_Capstone_VisualNeuroscience/Seeded_CNMF/Extracted_Features/5_frames_stim1/HOLDOUT_RAW_extracted_data_features.csv']\n"
          ]
        },
        {
          "output_type": "execute_result",
          "data": {
            "text/plain": [
              "   Unnamed: 0  stack label  roi  frame  movie_ID      resp     stim1  \\\n",
              "0           0      1    t5    8      1  210809_2  0.217502  0.276790   \n",
              "1           1      1    t5    8      2  210809_2  0.416828  0.276790   \n",
              "2           2      1    t5    8      3  210809_2  0.354376 -0.551717   \n",
              "3           3      1    t5    8      4  210809_2  0.502063 -1.104055   \n",
              "4           4      1    t5    8      5  210809_2  0.332470 -1.104055   \n",
              "\n",
              "      stim2     stim3  ...  relation_stim1_PS-PS  relation_type_stim6  \\\n",
              "0  0.776442 -0.001301  ...                   0.0                   PS   \n",
              "1  0.776442 -0.001301  ...                   0.0                   PS   \n",
              "2 -1.050625 -1.773261  ...                   0.0                   PS   \n",
              "3 -1.343779 -1.581956  ...                   0.0                   PS   \n",
              "4  0.776442 -0.001301  ...                   0.0                   PS   \n",
              "\n",
              "   relation_stim6  relation_stim6_+5  relation_type_stim6_+5  \\\n",
              "0    7.216378e-11       2.790717e-16                      NS   \n",
              "1    1.653759e-08       9.894077e-13                      NS   \n",
              "2    1.354199e-07       2.692603e-11                      NS   \n",
              "3    8.086540e-07       2.216457e-10                      NS   \n",
              "4    5.285532e-09       6.543285e-14                      NS   \n",
              "\n",
              "   relation_stim6_NS-NS  relation_stim6_NS-PS  relation_stim6_PS-NS  \\\n",
              "0                   0.0                   0.0          2.013887e-26   \n",
              "1                   0.0                   0.0          1.636242e-20   \n",
              "2                   0.0                   0.0          3.646319e-18   \n",
              "3                   0.0                   0.0          1.792346e-16   \n",
              "4                   0.0                   0.0          3.458474e-22   \n",
              "\n",
              "   relation_stim6_PS-PS  frame_group  \n",
              "0                   0.0            1  \n",
              "1                   0.0            1  \n",
              "2                   0.0            1  \n",
              "3                   0.0            1  \n",
              "4                   0.0            1  \n",
              "\n",
              "[5 rows x 38 columns]"
            ],
            "text/html": [
              "\n",
              "  <div id=\"df-651508a2-89ce-4dad-b02a-7a6e2af4acca\">\n",
              "    <div class=\"colab-df-container\">\n",
              "      <div>\n",
              "<style scoped>\n",
              "    .dataframe tbody tr th:only-of-type {\n",
              "        vertical-align: middle;\n",
              "    }\n",
              "\n",
              "    .dataframe tbody tr th {\n",
              "        vertical-align: top;\n",
              "    }\n",
              "\n",
              "    .dataframe thead th {\n",
              "        text-align: right;\n",
              "    }\n",
              "</style>\n",
              "<table border=\"1\" class=\"dataframe\">\n",
              "  <thead>\n",
              "    <tr style=\"text-align: right;\">\n",
              "      <th></th>\n",
              "      <th>Unnamed: 0</th>\n",
              "      <th>stack</th>\n",
              "      <th>label</th>\n",
              "      <th>roi</th>\n",
              "      <th>frame</th>\n",
              "      <th>movie_ID</th>\n",
              "      <th>resp</th>\n",
              "      <th>stim1</th>\n",
              "      <th>stim2</th>\n",
              "      <th>stim3</th>\n",
              "      <th>...</th>\n",
              "      <th>relation_stim1_PS-PS</th>\n",
              "      <th>relation_type_stim6</th>\n",
              "      <th>relation_stim6</th>\n",
              "      <th>relation_stim6_+5</th>\n",
              "      <th>relation_type_stim6_+5</th>\n",
              "      <th>relation_stim6_NS-NS</th>\n",
              "      <th>relation_stim6_NS-PS</th>\n",
              "      <th>relation_stim6_PS-NS</th>\n",
              "      <th>relation_stim6_PS-PS</th>\n",
              "      <th>frame_group</th>\n",
              "    </tr>\n",
              "  </thead>\n",
              "  <tbody>\n",
              "    <tr>\n",
              "      <th>0</th>\n",
              "      <td>0</td>\n",
              "      <td>1</td>\n",
              "      <td>t5</td>\n",
              "      <td>8</td>\n",
              "      <td>1</td>\n",
              "      <td>210809_2</td>\n",
              "      <td>0.217502</td>\n",
              "      <td>0.276790</td>\n",
              "      <td>0.776442</td>\n",
              "      <td>-0.001301</td>\n",
              "      <td>...</td>\n",
              "      <td>0.0</td>\n",
              "      <td>PS</td>\n",
              "      <td>7.216378e-11</td>\n",
              "      <td>2.790717e-16</td>\n",
              "      <td>NS</td>\n",
              "      <td>0.0</td>\n",
              "      <td>0.0</td>\n",
              "      <td>2.013887e-26</td>\n",
              "      <td>0.0</td>\n",
              "      <td>1</td>\n",
              "    </tr>\n",
              "    <tr>\n",
              "      <th>1</th>\n",
              "      <td>1</td>\n",
              "      <td>1</td>\n",
              "      <td>t5</td>\n",
              "      <td>8</td>\n",
              "      <td>2</td>\n",
              "      <td>210809_2</td>\n",
              "      <td>0.416828</td>\n",
              "      <td>0.276790</td>\n",
              "      <td>0.776442</td>\n",
              "      <td>-0.001301</td>\n",
              "      <td>...</td>\n",
              "      <td>0.0</td>\n",
              "      <td>PS</td>\n",
              "      <td>1.653759e-08</td>\n",
              "      <td>9.894077e-13</td>\n",
              "      <td>NS</td>\n",
              "      <td>0.0</td>\n",
              "      <td>0.0</td>\n",
              "      <td>1.636242e-20</td>\n",
              "      <td>0.0</td>\n",
              "      <td>1</td>\n",
              "    </tr>\n",
              "    <tr>\n",
              "      <th>2</th>\n",
              "      <td>2</td>\n",
              "      <td>1</td>\n",
              "      <td>t5</td>\n",
              "      <td>8</td>\n",
              "      <td>3</td>\n",
              "      <td>210809_2</td>\n",
              "      <td>0.354376</td>\n",
              "      <td>-0.551717</td>\n",
              "      <td>-1.050625</td>\n",
              "      <td>-1.773261</td>\n",
              "      <td>...</td>\n",
              "      <td>0.0</td>\n",
              "      <td>PS</td>\n",
              "      <td>1.354199e-07</td>\n",
              "      <td>2.692603e-11</td>\n",
              "      <td>NS</td>\n",
              "      <td>0.0</td>\n",
              "      <td>0.0</td>\n",
              "      <td>3.646319e-18</td>\n",
              "      <td>0.0</td>\n",
              "      <td>1</td>\n",
              "    </tr>\n",
              "    <tr>\n",
              "      <th>3</th>\n",
              "      <td>3</td>\n",
              "      <td>1</td>\n",
              "      <td>t5</td>\n",
              "      <td>8</td>\n",
              "      <td>4</td>\n",
              "      <td>210809_2</td>\n",
              "      <td>0.502063</td>\n",
              "      <td>-1.104055</td>\n",
              "      <td>-1.343779</td>\n",
              "      <td>-1.581956</td>\n",
              "      <td>...</td>\n",
              "      <td>0.0</td>\n",
              "      <td>PS</td>\n",
              "      <td>8.086540e-07</td>\n",
              "      <td>2.216457e-10</td>\n",
              "      <td>NS</td>\n",
              "      <td>0.0</td>\n",
              "      <td>0.0</td>\n",
              "      <td>1.792346e-16</td>\n",
              "      <td>0.0</td>\n",
              "      <td>1</td>\n",
              "    </tr>\n",
              "    <tr>\n",
              "      <th>4</th>\n",
              "      <td>4</td>\n",
              "      <td>1</td>\n",
              "      <td>t5</td>\n",
              "      <td>8</td>\n",
              "      <td>5</td>\n",
              "      <td>210809_2</td>\n",
              "      <td>0.332470</td>\n",
              "      <td>-1.104055</td>\n",
              "      <td>0.776442</td>\n",
              "      <td>-0.001301</td>\n",
              "      <td>...</td>\n",
              "      <td>0.0</td>\n",
              "      <td>PS</td>\n",
              "      <td>5.285532e-09</td>\n",
              "      <td>6.543285e-14</td>\n",
              "      <td>NS</td>\n",
              "      <td>0.0</td>\n",
              "      <td>0.0</td>\n",
              "      <td>3.458474e-22</td>\n",
              "      <td>0.0</td>\n",
              "      <td>1</td>\n",
              "    </tr>\n",
              "  </tbody>\n",
              "</table>\n",
              "<p>5 rows × 38 columns</p>\n",
              "</div>\n",
              "      <button class=\"colab-df-convert\" onclick=\"convertToInteractive('df-651508a2-89ce-4dad-b02a-7a6e2af4acca')\"\n",
              "              title=\"Convert this dataframe to an interactive table.\"\n",
              "              style=\"display:none;\">\n",
              "        \n",
              "  <svg xmlns=\"http://www.w3.org/2000/svg\" height=\"24px\"viewBox=\"0 0 24 24\"\n",
              "       width=\"24px\">\n",
              "    <path d=\"M0 0h24v24H0V0z\" fill=\"none\"/>\n",
              "    <path d=\"M18.56 5.44l.94 2.06.94-2.06 2.06-.94-2.06-.94-.94-2.06-.94 2.06-2.06.94zm-11 1L8.5 8.5l.94-2.06 2.06-.94-2.06-.94L8.5 2.5l-.94 2.06-2.06.94zm10 10l.94 2.06.94-2.06 2.06-.94-2.06-.94-.94-2.06-.94 2.06-2.06.94z\"/><path d=\"M17.41 7.96l-1.37-1.37c-.4-.4-.92-.59-1.43-.59-.52 0-1.04.2-1.43.59L10.3 9.45l-7.72 7.72c-.78.78-.78 2.05 0 2.83L4 21.41c.39.39.9.59 1.41.59.51 0 1.02-.2 1.41-.59l7.78-7.78 2.81-2.81c.8-.78.8-2.07 0-2.86zM5.41 20L4 18.59l7.72-7.72 1.47 1.35L5.41 20z\"/>\n",
              "  </svg>\n",
              "      </button>\n",
              "      \n",
              "  <style>\n",
              "    .colab-df-container {\n",
              "      display:flex;\n",
              "      flex-wrap:wrap;\n",
              "      gap: 12px;\n",
              "    }\n",
              "\n",
              "    .colab-df-convert {\n",
              "      background-color: #E8F0FE;\n",
              "      border: none;\n",
              "      border-radius: 50%;\n",
              "      cursor: pointer;\n",
              "      display: none;\n",
              "      fill: #1967D2;\n",
              "      height: 32px;\n",
              "      padding: 0 0 0 0;\n",
              "      width: 32px;\n",
              "    }\n",
              "\n",
              "    .colab-df-convert:hover {\n",
              "      background-color: #E2EBFA;\n",
              "      box-shadow: 0px 1px 2px rgba(60, 64, 67, 0.3), 0px 1px 3px 1px rgba(60, 64, 67, 0.15);\n",
              "      fill: #174EA6;\n",
              "    }\n",
              "\n",
              "    [theme=dark] .colab-df-convert {\n",
              "      background-color: #3B4455;\n",
              "      fill: #D2E3FC;\n",
              "    }\n",
              "\n",
              "    [theme=dark] .colab-df-convert:hover {\n",
              "      background-color: #434B5C;\n",
              "      box-shadow: 0px 1px 3px 1px rgba(0, 0, 0, 0.15);\n",
              "      filter: drop-shadow(0px 1px 2px rgba(0, 0, 0, 0.3));\n",
              "      fill: #FFFFFF;\n",
              "    }\n",
              "  </style>\n",
              "\n",
              "      <script>\n",
              "        const buttonEl =\n",
              "          document.querySelector('#df-651508a2-89ce-4dad-b02a-7a6e2af4acca button.colab-df-convert');\n",
              "        buttonEl.style.display =\n",
              "          google.colab.kernel.accessAllowed ? 'block' : 'none';\n",
              "\n",
              "        async function convertToInteractive(key) {\n",
              "          const element = document.querySelector('#df-651508a2-89ce-4dad-b02a-7a6e2af4acca');\n",
              "          const dataTable =\n",
              "            await google.colab.kernel.invokeFunction('convertToInteractive',\n",
              "                                                     [key], {});\n",
              "          if (!dataTable) return;\n",
              "\n",
              "          const docLinkHtml = 'Like what you see? Visit the ' +\n",
              "            '<a target=\"_blank\" href=https://colab.research.google.com/notebooks/data_table.ipynb>data table notebook</a>'\n",
              "            + ' to learn more about interactive tables.';\n",
              "          element.innerHTML = '';\n",
              "          dataTable['output_type'] = 'display_data';\n",
              "          await google.colab.output.renderOutput(dataTable, element);\n",
              "          const docLink = document.createElement('div');\n",
              "          docLink.innerHTML = docLinkHtml;\n",
              "          element.appendChild(docLink);\n",
              "        }\n",
              "      </script>\n",
              "    </div>\n",
              "  </div>\n",
              "  "
            ]
          },
          "metadata": {},
          "execution_count": 7
        }
      ]
    },
    {
      "cell_type": "code",
      "source": [
        "df.columns"
      ],
      "metadata": {
        "id": "zGfjmPxBt3dl",
        "outputId": "1a4d7710-b3ac-4812-cef7-257e081911ae",
        "colab": {
          "base_uri": "https://localhost:8080/"
        }
      },
      "execution_count": 8,
      "outputs": [
        {
          "output_type": "execute_result",
          "data": {
            "text/plain": [
              "Index(['Unnamed: 0', 'stack', 'label', 'roi', 'frame', 'movie_ID', 'resp',\n",
              "       'stim1', 'stim2', 'stim3', 'stim4', 'stim5', 'stim6', 'stim7', 'stim8',\n",
              "       'stim2_feature', 'stim3_feature', 'stim5_feature', 'stim4_feature',\n",
              "       'stim7_feature', 'stim8_feature', 'relation_type_stim1',\n",
              "       'relation_stim1', 'relation_stim1_+5', 'relation_type_stim1_+5',\n",
              "       'relation_stim1_NS-NS', 'relation_stim1_NS-PS', 'relation_stim1_PS-NS',\n",
              "       'relation_stim1_PS-PS', 'relation_type_stim6', 'relation_stim6',\n",
              "       'relation_stim6_+5', 'relation_type_stim6_+5', 'relation_stim6_NS-NS',\n",
              "       'relation_stim6_NS-PS', 'relation_stim6_PS-NS', 'relation_stim6_PS-PS',\n",
              "       'frame_group'],\n",
              "      dtype='object')"
            ]
          },
          "metadata": {},
          "execution_count": 8
        }
      ]
    },
    {
      "cell_type": "code",
      "source": [
        "#add a unique roi id to the table\n",
        "\n",
        "#use this to average each movie/roi instead of stack/roi\n",
        "#df['movie'] = df['filename'].str.slice(0,8)\n",
        "#df['roi_ID_movie'] = df['movie'].astype(str) + '_' + df['roi'].astype(str)\n",
        "\n",
        "#use this to group by stack/roi/frame group\n",
        "df['roi_ID'] = df['movie_ID'].astype(str) + '_' + df['roi'].astype(str)\n",
        "df['roi_group_ID'] = df['movie_ID'].astype(str) + '_' + df['roi'].astype(str) + '_' + df['frame_group'].astype(str)\n",
        "\n",
        "#same for holdout data\n",
        "holdout_df['roi_ID'] = holdout_df['movie_ID'].astype(str) + '_' + holdout_df['roi'].astype(str)\n",
        "holdout_df['roi_group_ID'] = holdout_df['movie_ID'].astype(str) + '_' + holdout_df['roi'].astype(str) + '_' + holdout_df['frame_group'].astype(str)\n",
        "\n",
        "\n",
        "df.head()"
      ],
      "metadata": {
        "colab": {
          "base_uri": "https://localhost:8080/",
          "height": 317
        },
        "id": "4oeR-rJv43MN",
        "outputId": "4082ac45-1a92-4d2a-cae2-5805c058efff"
      },
      "execution_count": 9,
      "outputs": [
        {
          "output_type": "execute_result",
          "data": {
            "text/plain": [
              "   Unnamed: 0  stack label  roi  frame  movie_ID      resp     stim1  \\\n",
              "0           0      1   tm9    1      0  210728_0  0.119422  1.827970   \n",
              "1           1      1   tm9    1      1  210728_0  0.065380  0.676591   \n",
              "2           2      1   tm9    1      2  210728_0  0.036917 -1.276472   \n",
              "3           3      1   tm9    1      3  210728_0  0.156975 -1.676237   \n",
              "4           4      1   tm9    1      4  210728_0  0.195883 -1.351235   \n",
              "\n",
              "      stim2     stim3  ...  relation_stim6  relation_stim6_+5  \\\n",
              "0 -0.668979 -1.323903  ...    6.131515e-15       1.709783e-19   \n",
              "1  1.133205  0.209498  ...    1.404623e-10       2.707063e-14   \n",
              "2 -0.881429  1.220991  ...    7.426788e-10       2.085457e-13   \n",
              "3  0.505447  1.208871  ...    1.971844e-08       9.885126e-13   \n",
              "4 -0.832430  1.249990  ...    3.232196e-08       1.051521e-12   \n",
              "\n",
              "   relation_type_stim6_+5  relation_stim6_NS-NS  relation_stim6_NS-PS  \\\n",
              "0                      NS                   0.0                   0.0   \n",
              "1                      NS                   0.0                   0.0   \n",
              "2                      NS                   0.0                   0.0   \n",
              "3                      NS                   0.0                   0.0   \n",
              "4                      NS                   0.0                   0.0   \n",
              "\n",
              "   relation_stim6_PS-NS  relation_stim6_PS-PS  frame_group      roi_ID  \\\n",
              "0          1.048356e-33                   0.0            1  210728_0_1   \n",
              "1          3.802402e-24                   0.0            1  210728_0_1   \n",
              "2          1.548825e-22                   0.0            1  210728_0_1   \n",
              "3          1.949192e-20                   0.0            1  210728_0_1   \n",
              "4          3.398724e-20                   0.0            1  210728_0_1   \n",
              "\n",
              "   roi_group_ID  \n",
              "0  210728_0_1_1  \n",
              "1  210728_0_1_1  \n",
              "2  210728_0_1_1  \n",
              "3  210728_0_1_1  \n",
              "4  210728_0_1_1  \n",
              "\n",
              "[5 rows x 40 columns]"
            ],
            "text/html": [
              "\n",
              "  <div id=\"df-ee083a0b-1cad-4d52-9bb3-466b295bd1b8\">\n",
              "    <div class=\"colab-df-container\">\n",
              "      <div>\n",
              "<style scoped>\n",
              "    .dataframe tbody tr th:only-of-type {\n",
              "        vertical-align: middle;\n",
              "    }\n",
              "\n",
              "    .dataframe tbody tr th {\n",
              "        vertical-align: top;\n",
              "    }\n",
              "\n",
              "    .dataframe thead th {\n",
              "        text-align: right;\n",
              "    }\n",
              "</style>\n",
              "<table border=\"1\" class=\"dataframe\">\n",
              "  <thead>\n",
              "    <tr style=\"text-align: right;\">\n",
              "      <th></th>\n",
              "      <th>Unnamed: 0</th>\n",
              "      <th>stack</th>\n",
              "      <th>label</th>\n",
              "      <th>roi</th>\n",
              "      <th>frame</th>\n",
              "      <th>movie_ID</th>\n",
              "      <th>resp</th>\n",
              "      <th>stim1</th>\n",
              "      <th>stim2</th>\n",
              "      <th>stim3</th>\n",
              "      <th>...</th>\n",
              "      <th>relation_stim6</th>\n",
              "      <th>relation_stim6_+5</th>\n",
              "      <th>relation_type_stim6_+5</th>\n",
              "      <th>relation_stim6_NS-NS</th>\n",
              "      <th>relation_stim6_NS-PS</th>\n",
              "      <th>relation_stim6_PS-NS</th>\n",
              "      <th>relation_stim6_PS-PS</th>\n",
              "      <th>frame_group</th>\n",
              "      <th>roi_ID</th>\n",
              "      <th>roi_group_ID</th>\n",
              "    </tr>\n",
              "  </thead>\n",
              "  <tbody>\n",
              "    <tr>\n",
              "      <th>0</th>\n",
              "      <td>0</td>\n",
              "      <td>1</td>\n",
              "      <td>tm9</td>\n",
              "      <td>1</td>\n",
              "      <td>0</td>\n",
              "      <td>210728_0</td>\n",
              "      <td>0.119422</td>\n",
              "      <td>1.827970</td>\n",
              "      <td>-0.668979</td>\n",
              "      <td>-1.323903</td>\n",
              "      <td>...</td>\n",
              "      <td>6.131515e-15</td>\n",
              "      <td>1.709783e-19</td>\n",
              "      <td>NS</td>\n",
              "      <td>0.0</td>\n",
              "      <td>0.0</td>\n",
              "      <td>1.048356e-33</td>\n",
              "      <td>0.0</td>\n",
              "      <td>1</td>\n",
              "      <td>210728_0_1</td>\n",
              "      <td>210728_0_1_1</td>\n",
              "    </tr>\n",
              "    <tr>\n",
              "      <th>1</th>\n",
              "      <td>1</td>\n",
              "      <td>1</td>\n",
              "      <td>tm9</td>\n",
              "      <td>1</td>\n",
              "      <td>1</td>\n",
              "      <td>210728_0</td>\n",
              "      <td>0.065380</td>\n",
              "      <td>0.676591</td>\n",
              "      <td>1.133205</td>\n",
              "      <td>0.209498</td>\n",
              "      <td>...</td>\n",
              "      <td>1.404623e-10</td>\n",
              "      <td>2.707063e-14</td>\n",
              "      <td>NS</td>\n",
              "      <td>0.0</td>\n",
              "      <td>0.0</td>\n",
              "      <td>3.802402e-24</td>\n",
              "      <td>0.0</td>\n",
              "      <td>1</td>\n",
              "      <td>210728_0_1</td>\n",
              "      <td>210728_0_1_1</td>\n",
              "    </tr>\n",
              "    <tr>\n",
              "      <th>2</th>\n",
              "      <td>2</td>\n",
              "      <td>1</td>\n",
              "      <td>tm9</td>\n",
              "      <td>1</td>\n",
              "      <td>2</td>\n",
              "      <td>210728_0</td>\n",
              "      <td>0.036917</td>\n",
              "      <td>-1.276472</td>\n",
              "      <td>-0.881429</td>\n",
              "      <td>1.220991</td>\n",
              "      <td>...</td>\n",
              "      <td>7.426788e-10</td>\n",
              "      <td>2.085457e-13</td>\n",
              "      <td>NS</td>\n",
              "      <td>0.0</td>\n",
              "      <td>0.0</td>\n",
              "      <td>1.548825e-22</td>\n",
              "      <td>0.0</td>\n",
              "      <td>1</td>\n",
              "      <td>210728_0_1</td>\n",
              "      <td>210728_0_1_1</td>\n",
              "    </tr>\n",
              "    <tr>\n",
              "      <th>3</th>\n",
              "      <td>3</td>\n",
              "      <td>1</td>\n",
              "      <td>tm9</td>\n",
              "      <td>1</td>\n",
              "      <td>3</td>\n",
              "      <td>210728_0</td>\n",
              "      <td>0.156975</td>\n",
              "      <td>-1.676237</td>\n",
              "      <td>0.505447</td>\n",
              "      <td>1.208871</td>\n",
              "      <td>...</td>\n",
              "      <td>1.971844e-08</td>\n",
              "      <td>9.885126e-13</td>\n",
              "      <td>NS</td>\n",
              "      <td>0.0</td>\n",
              "      <td>0.0</td>\n",
              "      <td>1.949192e-20</td>\n",
              "      <td>0.0</td>\n",
              "      <td>1</td>\n",
              "      <td>210728_0_1</td>\n",
              "      <td>210728_0_1_1</td>\n",
              "    </tr>\n",
              "    <tr>\n",
              "      <th>4</th>\n",
              "      <td>4</td>\n",
              "      <td>1</td>\n",
              "      <td>tm9</td>\n",
              "      <td>1</td>\n",
              "      <td>4</td>\n",
              "      <td>210728_0</td>\n",
              "      <td>0.195883</td>\n",
              "      <td>-1.351235</td>\n",
              "      <td>-0.832430</td>\n",
              "      <td>1.249990</td>\n",
              "      <td>...</td>\n",
              "      <td>3.232196e-08</td>\n",
              "      <td>1.051521e-12</td>\n",
              "      <td>NS</td>\n",
              "      <td>0.0</td>\n",
              "      <td>0.0</td>\n",
              "      <td>3.398724e-20</td>\n",
              "      <td>0.0</td>\n",
              "      <td>1</td>\n",
              "      <td>210728_0_1</td>\n",
              "      <td>210728_0_1_1</td>\n",
              "    </tr>\n",
              "  </tbody>\n",
              "</table>\n",
              "<p>5 rows × 40 columns</p>\n",
              "</div>\n",
              "      <button class=\"colab-df-convert\" onclick=\"convertToInteractive('df-ee083a0b-1cad-4d52-9bb3-466b295bd1b8')\"\n",
              "              title=\"Convert this dataframe to an interactive table.\"\n",
              "              style=\"display:none;\">\n",
              "        \n",
              "  <svg xmlns=\"http://www.w3.org/2000/svg\" height=\"24px\"viewBox=\"0 0 24 24\"\n",
              "       width=\"24px\">\n",
              "    <path d=\"M0 0h24v24H0V0z\" fill=\"none\"/>\n",
              "    <path d=\"M18.56 5.44l.94 2.06.94-2.06 2.06-.94-2.06-.94-.94-2.06-.94 2.06-2.06.94zm-11 1L8.5 8.5l.94-2.06 2.06-.94-2.06-.94L8.5 2.5l-.94 2.06-2.06.94zm10 10l.94 2.06.94-2.06 2.06-.94-2.06-.94-.94-2.06-.94 2.06-2.06.94z\"/><path d=\"M17.41 7.96l-1.37-1.37c-.4-.4-.92-.59-1.43-.59-.52 0-1.04.2-1.43.59L10.3 9.45l-7.72 7.72c-.78.78-.78 2.05 0 2.83L4 21.41c.39.39.9.59 1.41.59.51 0 1.02-.2 1.41-.59l7.78-7.78 2.81-2.81c.8-.78.8-2.07 0-2.86zM5.41 20L4 18.59l7.72-7.72 1.47 1.35L5.41 20z\"/>\n",
              "  </svg>\n",
              "      </button>\n",
              "      \n",
              "  <style>\n",
              "    .colab-df-container {\n",
              "      display:flex;\n",
              "      flex-wrap:wrap;\n",
              "      gap: 12px;\n",
              "    }\n",
              "\n",
              "    .colab-df-convert {\n",
              "      background-color: #E8F0FE;\n",
              "      border: none;\n",
              "      border-radius: 50%;\n",
              "      cursor: pointer;\n",
              "      display: none;\n",
              "      fill: #1967D2;\n",
              "      height: 32px;\n",
              "      padding: 0 0 0 0;\n",
              "      width: 32px;\n",
              "    }\n",
              "\n",
              "    .colab-df-convert:hover {\n",
              "      background-color: #E2EBFA;\n",
              "      box-shadow: 0px 1px 2px rgba(60, 64, 67, 0.3), 0px 1px 3px 1px rgba(60, 64, 67, 0.15);\n",
              "      fill: #174EA6;\n",
              "    }\n",
              "\n",
              "    [theme=dark] .colab-df-convert {\n",
              "      background-color: #3B4455;\n",
              "      fill: #D2E3FC;\n",
              "    }\n",
              "\n",
              "    [theme=dark] .colab-df-convert:hover {\n",
              "      background-color: #434B5C;\n",
              "      box-shadow: 0px 1px 3px 1px rgba(0, 0, 0, 0.15);\n",
              "      filter: drop-shadow(0px 1px 2px rgba(0, 0, 0, 0.3));\n",
              "      fill: #FFFFFF;\n",
              "    }\n",
              "  </style>\n",
              "\n",
              "      <script>\n",
              "        const buttonEl =\n",
              "          document.querySelector('#df-ee083a0b-1cad-4d52-9bb3-466b295bd1b8 button.colab-df-convert');\n",
              "        buttonEl.style.display =\n",
              "          google.colab.kernel.accessAllowed ? 'block' : 'none';\n",
              "\n",
              "        async function convertToInteractive(key) {\n",
              "          const element = document.querySelector('#df-ee083a0b-1cad-4d52-9bb3-466b295bd1b8');\n",
              "          const dataTable =\n",
              "            await google.colab.kernel.invokeFunction('convertToInteractive',\n",
              "                                                     [key], {});\n",
              "          if (!dataTable) return;\n",
              "\n",
              "          const docLinkHtml = 'Like what you see? Visit the ' +\n",
              "            '<a target=\"_blank\" href=https://colab.research.google.com/notebooks/data_table.ipynb>data table notebook</a>'\n",
              "            + ' to learn more about interactive tables.';\n",
              "          element.innerHTML = '';\n",
              "          dataTable['output_type'] = 'display_data';\n",
              "          await google.colab.output.renderOutput(dataTable, element);\n",
              "          const docLink = document.createElement('div');\n",
              "          docLink.innerHTML = docLinkHtml;\n",
              "          element.appendChild(docLink);\n",
              "        }\n",
              "      </script>\n",
              "    </div>\n",
              "  </div>\n",
              "  "
            ]
          },
          "metadata": {},
          "execution_count": 9
        }
      ]
    },
    {
      "cell_type": "code",
      "source": [
        "# #scale the raw response\n",
        "\n",
        "# df['resp_scaled'] = df['resp'] /df['resp'].abs().max() #just divide by the max value\n",
        "\n",
        "# #TEMPORARILY distribute the scaled response into the directional columns - probably needs to be more involved than this\n",
        "# directional_cols = [col for col in df.columns if 'direction' in col]\n",
        "\n",
        "\n",
        "# for col in directional_cols:\n",
        "#   df[col] = df['resp_scaled'] * df[col]\n",
        "\n",
        "# df.head()"
      ],
      "metadata": {
        "id": "Ad31PgK5zt-R"
      },
      "execution_count": 10,
      "outputs": []
    },
    {
      "cell_type": "code",
      "source": [
        "#average each df by roi/frame group\n",
        "df = df.groupby(['roi_group_ID', 'label', 'roi_ID']).mean().reset_index()\n",
        "holdout_df = holdout_df.groupby(['roi_group_ID', 'label', 'roi_ID']).mean().reset_index()\n",
        "\n",
        "df.shape"
      ],
      "metadata": {
        "id": "SzJG6yuSTUQO",
        "colab": {
          "base_uri": "https://localhost:8080/"
        },
        "outputId": "2dc93bd7-1d64-450f-9242-f67c29d6c969"
      },
      "execution_count": 11,
      "outputs": [
        {
          "output_type": "execute_result",
          "data": {
            "text/plain": [
              "(930, 35)"
            ]
          },
          "metadata": {},
          "execution_count": 11
        }
      ]
    },
    {
      "cell_type": "code",
      "source": [
        "# #playing with visualizing the data\n",
        "# #single direction of the stimulus vs the scaled response seems to separate t5 in our 10-frame windowed table\n",
        "# sns.scatterplot(x=df['direction_up'], y=df['direction_down'], hue=df['label'])\n",
        "# plt.legend()"
      ],
      "metadata": {
        "id": "CtQLEowYFaim"
      },
      "execution_count": 12,
      "outputs": []
    },
    {
      "cell_type": "code",
      "source": [
        "#train test split by roi_ID so that no single roi is included in the training and testing data\n",
        "#Right now the split is random\n",
        "\n",
        "#get a list of the unique rois\n",
        "rois = df.drop_duplicates('roi_group_ID')[['roi_group_ID', 'label']]\n",
        "\n",
        "#treat them like the roi and labels are their own dataset\n",
        "X = np.array(rois['roi_group_ID'])\n",
        "y = np.array(rois['label'])\n",
        "\n",
        "\n",
        "#split into training and testing - returns the indexes\n",
        "from sklearn.model_selection import StratifiedShuffleSplit\n",
        "sss = StratifiedShuffleSplit(n_splits=1, test_size=0.3, random_state=0) #30% testing\n",
        "for train_index, test_index in sss.split(X, y):\n",
        "    print(\"TRAIN:\", train_index, \"TEST:\", test_index)\n",
        "\n",
        "#These are lists of the rois to be included in each split, not the actual data\n",
        "X_train_rois, X_test_rois = X[train_index], X[test_index]\n",
        "y_train, y_test = y[train_index], y[test_index]\n"
      ],
      "metadata": {
        "colab": {
          "base_uri": "https://localhost:8080/"
        },
        "id": "QoI2DsY9VI2j",
        "outputId": "095aab2b-5c79-4ef7-ca90-fcb8df294f96"
      },
      "execution_count": 13,
      "outputs": [
        {
          "output_type": "stream",
          "name": "stdout",
          "text": [
            "TRAIN: [539 915 798 693 492 914 749 452 708 583 183 771 299 858 163 680 863 880\n",
            " 467 869 136 347 243 384 204 117 342  60 824 305 307 758 122 917 338 244\n",
            " 401 463 252 499 750 278 590  39 201 316 297 173 604 701 699 769 270 598\n",
            " 431 900 919 286 187 239 481 705 513 772 847 309 451 485 827 688 143 445\n",
            " 538 345 471 725 684 526 230 925 640 766 904 165 300 837 350 649 390 533\n",
            " 655 834  42 415 418  10 866 240 853 274 911 409   1 506 326 903 116 602\n",
            " 170 560  53  51 367 227  41 142 532 555 878 194 774 313 358 261 734 381\n",
            " 618 707 354 635 664 828 256 351 613 505 642 498 860 145 835 279 441 628\n",
            " 249 557 795  37 620 690  26 228 213 308 638 454 563 511 198 301 811 389\n",
            " 717 218 482 202 631 802 178 380 800 692 319 406  38 251 522 846 385 310\n",
            "  43  11 912 104  82  21 317 312 214 397 703 775 709 189 340 448  62 135\n",
            " 637 253 343 666 154   0 566 450 842 237 421 248 332 657 883 615   7 459\n",
            " 292 435 830 785 778 791 503 691 836 704 711 392  15 290 428  72 780  71\n",
            " 208 177 877 414 906 818  76 376 552 119 417 909  12 682 839 223 768 508\n",
            " 677 782 643 257 220 901 679 242 193 355 589 365 495 848 603 629 480 185\n",
            " 885 683 174 221 149  47 553 159 606  57 851 854  64 783 516 805 281 645\n",
            " 475 105 850 527 269  18 770 282 108  61 741 393 696 648 524  46 130 536\n",
            " 320 556  44 205 512 895 192 819 430 844 804 591 779  77 465 867 694 215\n",
            " 226 357 168 291 821 825 829 697 896 674 546  48  75  14 374 882 110  40\n",
            " 654 190 525 781 456 700  45 106 289 727  95 793 799 186 897 404 923  78\n",
            "  94 678 334 429 259 519 303  63 720  90  89 151   9 838 422 596 182 810\n",
            " 353 671   3 496  55  65 449 773 235 126 394 726 550  70 191 740  86 276\n",
            "  19 236 490 125 275  87 298 364 625 920 762 420 871 264 399 695 662 111\n",
            " 348 833 874 572 488 266 797 568 447 238 721 324 581 764 181 160 360 331\n",
            " 812 543 273 746 710 267 594 368 595 927 102 232 841 626 442  56 346 455\n",
            " 718  17 763 438 609  30 610 541 554 255 157  54 742 416 115 922 891 776\n",
            " 731 124 169 801 470 907 197 486 817 584 921 529  88 544 344 542 547 410\n",
            " 902 152 304 476 656 845  66 188 382 474 139 760 872 386 407 107 405 530\n",
            " 754 285 924 887 670 436 789 884 857 494 567 484 263 489 225 295 898 375\n",
            " 569 128 577 570  36  96 840 624 413 412 916 732 402 219 424   8  79 322\n",
            " 314 356 918 509 673 352 862 330 627 929 333 325 150 388 387 153 561  97\n",
            " 786 702 362 400 433  20 728 619 873 528  67 137 733 535 748 457 681 378\n",
            " 588 144 207 379   6 669  85 373 647 881 605 147 761 586 113 491 611 910\n",
            " 268 644 473 813 403 832 515 913 460  33 437 158 425 118 641 132 698 894\n",
            " 504 293 129 224 148 753 302  81 419 120 744 757 335 372  23 272 715 551\n",
            "  27 217 796 306 167  32 587 908 751  84 540 831 162 537 427 366 138  58\n",
            " 612 576  92] TEST: [808 502 809 879 446 112 633 928 822 493 294 558 820 464 458 747 265 500\n",
            " 209 686 250 478 579 328 639 777 759  69 172 444 634 199  93 806 574 600\n",
            "   4 254 578   2 755 743 663 131 672 371 889 849 803 608 518 859 592 156\n",
            " 114 676 716 719 164 121 440 868 262  22 315 623 724 736 369  25 575 339\n",
            "  24 231 472 713 469 395 123   5 517 549 792 283 241  98 864  80 856 222\n",
            " 714 196 434 166 391 745 287 712 548 337 893 816 311 632 843 501 260 735\n",
            " 607  50 408 377 258 477 870 826 562 246 432 722 453 661 905  34 652 171\n",
            " 271 520 327 318 926 507 788 886 180 329 195 599 288  52 134 730 206 738\n",
            " 658 617 729 487 659 890 210 650 179 466 234 875  91 212 155 439  16 277\n",
            " 564 426 284 514 461  35 296 565 175 462 737 767 861 523 411 531 109 510\n",
            " 103 787 815 687 665 660 668 852 582 765 597 146 614  31 341 229 468  74\n",
            "  13 675 200 601 855 593 651 545 752 892 423 479 630 161 571 203 521 636\n",
            " 784 133 383 723 706 497 534 876 573 100 127  28 245 359 398 739 646 790\n",
            " 216 580 280  49 363 211 323 361 621  59 396 443 616 888 321 176 899  83\n",
            " 101 622 689 814 140 184 667 247 653 349 141  73 233 823  29 483 756 370\n",
            " 559 336 794 585  68 685 865 807  99]\n"
          ]
        }
      ]
    },
    {
      "cell_type": "code",
      "source": [
        "#get the columns holding the data we'll use in the model\n",
        "data_cols = [col for col in df.columns if ('feature' in col or 'relation_stim1_' in col or 'relation_stim6_' in col) and '+5' not in col]\n",
        "data_cols"
      ],
      "metadata": {
        "colab": {
          "base_uri": "https://localhost:8080/"
        },
        "id": "LDIhVKapYrMk",
        "outputId": "fb70b685-8324-4224-a537-158472f2aa38"
      },
      "execution_count": 15,
      "outputs": [
        {
          "output_type": "execute_result",
          "data": {
            "text/plain": [
              "['stim2_feature',\n",
              " 'stim3_feature',\n",
              " 'stim5_feature',\n",
              " 'stim4_feature',\n",
              " 'stim7_feature',\n",
              " 'stim8_feature',\n",
              " 'relation_stim1_NS-NS',\n",
              " 'relation_stim1_NS-PS',\n",
              " 'relation_stim1_PS-NS',\n",
              " 'relation_stim1_PS-PS',\n",
              " 'relation_stim6_NS-NS',\n",
              " 'relation_stim6_NS-PS',\n",
              " 'relation_stim6_PS-NS',\n",
              " 'relation_stim6_PS-PS']"
            ]
          },
          "metadata": {},
          "execution_count": 15
        }
      ]
    },
    {
      "cell_type": "code",
      "source": [
        "def train_test_scale(df, data_cols):\n",
        "  \"\"\"\n",
        "  Function to take in the different df's and return training and testing data\n",
        "  Useful to try different time windows without tracking a bunch of variables\n",
        "  \"\"\"\n",
        "\n",
        "  #use the roi_id's as indexes to split train and test from our full df\n",
        "  X_train = df.query('roi_group_ID in @X_train_rois')[data_cols] \n",
        "  y_train = df.query('roi_group_ID in @X_train_rois')['label'] \n",
        "\n",
        "  X_test = df.query('roi_group_ID in @X_test_rois')[data_cols] \n",
        "  y_test = df.query('roi_group_ID in @X_test_rois')['label']     \n",
        "\n",
        "  X_holdout = holdout_df[data_cols]\n",
        "  y_holdout = holdout_df['label']\n",
        "\n",
        "\n",
        "  #Scale based on X_train to avoid data leakage\n",
        "  scaler = StandardScaler() \n",
        "  scaler.fit(X_train)\n",
        "  X_train = scaler.transform(X_train)  \n",
        "  # apply same transformation to test data\n",
        "  X_test = scaler.transform(X_test)\n",
        "\n",
        "  scaler = StandardScaler()\n",
        "  scaler.fit(X_holdout)\n",
        "  X_holdout = scaler.transform(X_holdout)\n",
        "\n",
        "  return X_train, y_train, X_test, y_test, X_holdout, y_holdout"
      ],
      "metadata": {
        "id": "DsFEcppmVtkv"
      },
      "execution_count": 67,
      "outputs": []
    },
    {
      "cell_type": "markdown",
      "source": [
        "# try models based on 5-frame stim1 window"
      ],
      "metadata": {
        "id": "yfcE0b5RQRAG"
      }
    },
    {
      "cell_type": "code",
      "source": [
        "X_train, y_train, X_test, y_test, X_holdout, y_holdout = train_test_scale(df, data_cols) "
      ],
      "metadata": {
        "id": "yP5-UcQhc24L"
      },
      "execution_count": 68,
      "outputs": []
    },
    {
      "cell_type": "code",
      "source": [
        "#multilayer perceptron (neural net)\n",
        "model = MLPClassifier(hidden_layer_sizes=(10, 5), activation='relu', solver='adam', max_iter=100000, verbose = False, tol = .00001)\n",
        "model.fit(X_train, y_train)"
      ],
      "metadata": {
        "colab": {
          "base_uri": "https://localhost:8080/"
        },
        "outputId": "4fa90367-c4d5-4388-c3a6-a4a1d849425f",
        "id": "CJVJr3EKmqRg"
      },
      "execution_count": 69,
      "outputs": [
        {
          "output_type": "execute_result",
          "data": {
            "text/plain": [
              "MLPClassifier(hidden_layer_sizes=(10, 5), max_iter=100000, tol=1e-05)"
            ]
          },
          "metadata": {},
          "execution_count": 69
        }
      ]
    },
    {
      "cell_type": "code",
      "source": [
        "plt.plot(model.loss_curve_)"
      ],
      "metadata": {
        "colab": {
          "base_uri": "https://localhost:8080/",
          "height": 282
        },
        "id": "d6g91ZeTppj4",
        "outputId": "fdb938dd-aa26-47aa-9304-e30680c37e96"
      },
      "execution_count": 70,
      "outputs": [
        {
          "output_type": "execute_result",
          "data": {
            "text/plain": [
              "[<matplotlib.lines.Line2D at 0x7f4f5b969590>]"
            ]
          },
          "metadata": {},
          "execution_count": 70
        },
        {
          "output_type": "display_data",
          "data": {
            "text/plain": [
              "<Figure size 432x288 with 1 Axes>"
            ],
            "image/png": "[encoded data removed]"
          },
          "metadata": {
            "needs_background": "light"
          }
        }
      ]
    },
    {
      "cell_type": "code",
      "source": [
        "#return the predicted classes and probabilities\n",
        "preds_prob = model.predict_proba(X_test)\n",
        "preds = model.predict(X_test)\n",
        "print(model.classes_)"
      ],
      "metadata": {
        "colab": {
          "base_uri": "https://localhost:8080/"
        },
        "outputId": "5d6ef993-2c0e-4dca-f41b-817c12dd2e45",
        "id": "5LVlObMKmqRh"
      },
      "execution_count": 71,
      "outputs": [
        {
          "output_type": "stream",
          "name": "stdout",
          "text": [
            "['t5' 'tm1' 'tm2' 'tm4' 'tm9']\n"
          ]
        }
      ]
    },
    {
      "cell_type": "code",
      "source": [
        "report = classification_report(y_test,preds, output_dict=True)\n",
        "print(f\"Macro results: {report['macro avg']}\")\n",
        "print(f\"Accuracy: {report['accuracy']}\")\n",
        "print(f\"balanced accuracy: {(report['macro avg']['precision'] + report['macro avg']['recall']) /2}\")\n",
        "\n",
        "\n",
        "ConfusionMatrixDisplay.from_predictions(y_test, preds)"
      ],
      "metadata": {
        "colab": {
          "base_uri": "https://localhost:8080/",
          "height": 348
        },
        "outputId": "885d78e2-b467-43f7-b8c6-6780aa49647a",
        "id": "Um7BzZpKmqRi"
      },
      "execution_count": 72,
      "outputs": [
        {
          "output_type": "stream",
          "name": "stdout",
          "text": [
            "Macro results: {'precision': 0.4946278124690256, 'recall': 0.4165524813350901, 'f1-score': 0.44029974032094926, 'support': 279}\n",
            "Accuracy: 0.5770609318996416\n",
            "balanced accuracy: 0.45559014690205785\n"
          ]
        },
        {
          "output_type": "execute_result",
          "data": {
            "text/plain": [
              "<sklearn.metrics._plot.confusion_matrix.ConfusionMatrixDisplay at 0x7f4f5b562390>"
            ]
          },
          "metadata": {},
          "execution_count": 72
        },
        {
          "output_type": "display_data",
          "data": {
            "text/plain": [
              "<Figure size 432x288 with 2 Axes>"
            ],
            "image/png": "[encoded data removed]"
          },
          "metadata": {
            "needs_background": "light"
          }
        }
      ]
    },
    {
      "cell_type": "code",
      "source": [
        "#Roll the predictions up to the cell level taking the average prediction for each class\n",
        "\n",
        "model_test_df = df.query('roi_group_ID in @X_test_rois')\n",
        "\n",
        "model_test_df[['t5', 'tm1', 'tm2', 'tm4', 'tm9']] = preds_prob\n",
        "model_test_df = model_test_df.groupby(['roi_ID', 'label']).mean().reset_index()\n",
        "\n",
        "model_test_df['max_pred'] = model_test_df[['t5', 'tm1', 'tm2', 'tm4', 'tm9']].idxmax(axis=1)\n",
        "\n",
        "\n",
        "report = classification_report(model_test_df['label'],model_test_df['max_pred'], output_dict=True)\n",
        "print(f\"Macro results: {report['macro avg']}\")\n",
        "print(f\"Accuracy: {report['accuracy']}\")\n",
        "print(f\"balanced accuracy: {(report['macro avg']['precision'] + report['macro avg']['recall']) /2}\")\n",
        "\n",
        "ConfusionMatrixDisplay.from_predictions(model_test_df['label'],model_test_df['max_pred'])"
      ],
      "metadata": {
        "id": "1IBEiY6OmqRi",
        "colab": {
          "base_uri": "https://localhost:8080/",
          "height": 348
        },
        "outputId": "4d4a298c-90f4-403f-ea89-fdaf96b687c3"
      },
      "execution_count": 73,
      "outputs": [
        {
          "output_type": "stream",
          "name": "stdout",
          "text": [
            "Macro results: {'precision': 0.6026315789473684, 'recall': 0.44030303030303025, 'f1-score': 0.4573178471693323, 'support': 89}\n",
            "Accuracy: 0.6067415730337079\n",
            "balanced accuracy: 0.5214673046251993\n"
          ]
        },
        {
          "output_type": "execute_result",
          "data": {
            "text/plain": [
              "<sklearn.metrics._plot.confusion_matrix.ConfusionMatrixDisplay at 0x7f4f5bbb1750>"
            ]
          },
          "metadata": {},
          "execution_count": 73
        },
        {
          "output_type": "display_data",
          "data": {
            "text/plain": [
              "<Figure size 432x288 with 2 Axes>"
            ],
            "image/png": "[encoded data removed]"
          },
          "metadata": {
            "needs_background": "light"
          }
        }
      ]
    },
    {
      "cell_type": "code",
      "source": [
        "#testing predictions on holdout data\n",
        "\n",
        "preds_prob = model.predict_proba(X_holdout)\n",
        "#Roll the predictions up to the cell level taking the average prediction for each class\n",
        "\n",
        "model_test_df = holdout_df\n",
        "\n",
        "model_test_df[['t5', 'tm1', 'tm2', 'tm4', 'tm9']] = preds_prob\n",
        "model_test_df = model_test_df.groupby(['roi_ID', 'label']).mean().reset_index()\n",
        "\n",
        "model_test_df['max_pred'] = model_test_df[['t5', 'tm1', 'tm2', 'tm4', 'tm9']].idxmax(axis=1)\n",
        "\n",
        "report = classification_report(model_test_df['label'],model_test_df['max_pred'], output_dict=True)\n",
        "print(f\"Macro results: {report['macro avg']}\")\n",
        "print(f\"Accuracy: {report['accuracy']}\")\n",
        "print(f\"balanced accuracy: {(report['macro avg']['precision'] + report['macro avg']['recall']) /2}\")\n",
        "\n",
        "ConfusionMatrixDisplay.from_predictions(model_test_df['label'],model_test_df['max_pred'])"
      ],
      "metadata": {
        "colab": {
          "base_uri": "https://localhost:8080/",
          "height": 353
        },
        "id": "GCMUY18bJ7AK",
        "outputId": "f828c72a-25c1-4eb0-f4ec-3ed70f5741ec"
      },
      "execution_count": 74,
      "outputs": [
        {
          "output_type": "stream",
          "name": "stdout",
          "text": [
            "Macro results: {'precision': 0.2333333333333333, 'recall': 0.275, 'f1-score': 0.24155844155844158, 'support': 17}\n",
            "Accuracy: 0.5294117647058824\n",
            "balanced accuracy: 0.25416666666666665\n"
          ]
        },
        {
          "output_type": "execute_result",
          "data": {
            "text/plain": [
              "<sklearn.metrics._plot.confusion_matrix.ConfusionMatrixDisplay at 0x7f4f5b96b550>"
            ]
          },
          "metadata": {},
          "execution_count": 74
        },
        {
          "output_type": "display_data",
          "data": {
            "text/plain": [
              "<Figure size 432x288 with 2 Axes>"
            ],
            "image/png": "[encoded data removed]"
          },
          "metadata": {
            "needs_background": "light"
          }
        }
      ]
    },
    {
      "cell_type": "code",
      "source": [
        "#knn\n",
        "model = KNeighborsClassifier(3)\n",
        "model.fit(X_train, y_train)"
      ],
      "metadata": {
        "colab": {
          "base_uri": "https://localhost:8080/"
        },
        "id": "TfFapBmxFXQf",
        "outputId": "0f187cc5-0c55-412f-c1c3-a40a0efeef63"
      },
      "execution_count": 75,
      "outputs": [
        {
          "output_type": "execute_result",
          "data": {
            "text/plain": [
              "KNeighborsClassifier(n_neighbors=3)"
            ]
          },
          "metadata": {},
          "execution_count": 75
        }
      ]
    },
    {
      "cell_type": "code",
      "source": [
        "print(model.score(X_test, y_test)) \n",
        "preds_prob = model.predict_proba(X_test)\n",
        "preds = model.predict(X_test)\n",
        "\n",
        "report = classification_report(y_test,preds, output_dict=True)\n",
        "print(f\"Macro results: {report['macro avg']}\")\n",
        "print(f\"Accuracy: {report['accuracy']}\")\n",
        "print(f\"balanced accuracy: {(report['macro avg']['precision'] + report['macro avg']['recall']) /2}\")\n",
        "\n",
        "\n",
        "ConfusionMatrixDisplay.from_predictions(y_test, preds)"
      ],
      "metadata": {
        "colab": {
          "base_uri": "https://localhost:8080/",
          "height": 366
        },
        "id": "wyjguQC9I9wH",
        "outputId": "2059b966-2998-4f09-ea8a-c2810a1ae9cc"
      },
      "execution_count": 76,
      "outputs": [
        {
          "output_type": "stream",
          "name": "stdout",
          "text": [
            "0.6021505376344086\n",
            "Macro results: {'precision': 0.5397245963912631, 'recall': 0.4859925340360123, 'f1-score': 0.4999145257052177, 'support': 279}\n",
            "Accuracy: 0.6021505376344086\n",
            "balanced accuracy: 0.5128585652136377\n"
          ]
        },
        {
          "output_type": "execute_result",
          "data": {
            "text/plain": [
              "<sklearn.metrics._plot.confusion_matrix.ConfusionMatrixDisplay at 0x7f4f5b2d7090>"
            ]
          },
          "metadata": {},
          "execution_count": 76
        },
        {
          "output_type": "display_data",
          "data": {
            "text/plain": [
              "<Figure size 432x288 with 2 Axes>"
            ],
            "image/png": "[encoded data removed]"
          },
          "metadata": {
            "needs_background": "light"
          }
        }
      ]
    },
    {
      "cell_type": "code",
      "source": [
        "#Roll the predictions up to the cell level taking the average prediction for each class\n",
        "\n",
        "model_test_df = df.query('roi_group_ID in @X_test_rois')\n",
        "\n",
        "model_test_df[['t5', 'tm1', 'tm2', 'tm4', 'tm9']] = preds_prob\n",
        "model_test_df = model_test_df.groupby(['roi_ID', 'label']).mean().reset_index()\n",
        "\n",
        "model_test_df['max_pred'] = model_test_df[['t5', 'tm1', 'tm2', 'tm4', 'tm9']].idxmax(axis=1)\n",
        "\n",
        "\n",
        "report = classification_report(model_test_df['label'],model_test_df['max_pred'], output_dict=True)\n",
        "print(f\"Macro results: {report['macro avg']}\")\n",
        "print(f\"Accuracy: {report['accuracy']}\")\n",
        "print(f\"balanced accuracy: {(report['macro avg']['precision'] + report['macro avg']['recall']) /2}\")\n",
        "\n",
        "ConfusionMatrixDisplay.from_predictions(model_test_df['label'],model_test_df['max_pred'])"
      ],
      "metadata": {
        "colab": {
          "base_uri": "https://localhost:8080/",
          "height": 348
        },
        "id": "ko0fJXP0FUec",
        "outputId": "68cca6c4-3205-4880-f63d-e170c10a6d2a"
      },
      "execution_count": 77,
      "outputs": [
        {
          "output_type": "stream",
          "name": "stdout",
          "text": [
            "Macro results: {'precision': 0.6492974238875878, 'recall': 0.548939393939394, 'f1-score': 0.5782399626517274, 'support': 89}\n",
            "Accuracy: 0.6629213483146067\n",
            "balanced accuracy: 0.5991184089134909\n"
          ]
        },
        {
          "output_type": "execute_result",
          "data": {
            "text/plain": [
              "<sklearn.metrics._plot.confusion_matrix.ConfusionMatrixDisplay at 0x7f4f5bc40cd0>"
            ]
          },
          "metadata": {},
          "execution_count": 77
        },
        {
          "output_type": "display_data",
          "data": {
            "text/plain": [
              "<Figure size 432x288 with 2 Axes>"
            ],
            "image/png": "[encoded data removed]"
          },
          "metadata": {
            "needs_background": "light"
          }
        }
      ]
    },
    {
      "cell_type": "code",
      "source": [
        "#testing predictions on holdout data\n",
        "\n",
        "preds_prob = model.predict_proba(X_holdout)\n",
        "#Roll the predictions up to the cell level taking the average prediction for each class\n",
        "\n",
        "model_test_df = holdout_df\n",
        "\n",
        "model_test_df[['t5', 'tm1', 'tm2', 'tm4', 'tm9']] = preds_prob\n",
        "model_test_df = model_test_df.groupby(['roi_ID', 'label']).mean().reset_index()\n",
        "\n",
        "model_test_df['max_pred'] = model_test_df[['t5', 'tm1', 'tm2', 'tm4', 'tm9']].idxmax(axis=1)\n",
        "\n",
        "report = classification_report(model_test_df['label'],model_test_df['max_pred'], output_dict=True)\n",
        "print(f\"Macro results: {report['macro avg']}\")\n",
        "print(f\"Accuracy: {report['accuracy']}\")\n",
        "print(f\"balanced accuracy: {(report['macro avg']['precision'] + report['macro avg']['recall']) /2}\")\n",
        "\n",
        "ConfusionMatrixDisplay.from_predictions(model_test_df['label'],model_test_df['max_pred'])"
      ],
      "metadata": {
        "colab": {
          "base_uri": "https://localhost:8080/",
          "height": 353
        },
        "id": "sZKe0D1yId1U",
        "outputId": "093ce4bf-2e30-4806-b325-aaeeea7f2e56"
      },
      "execution_count": 78,
      "outputs": [
        {
          "output_type": "stream",
          "name": "stdout",
          "text": [
            "Macro results: {'precision': 0.2564102564102564, 'recall': 0.3, 'f1-score': 0.2666666666666667, 'support': 17}\n",
            "Accuracy: 0.5882352941176471\n",
            "balanced accuracy: 0.2782051282051282\n"
          ]
        },
        {
          "output_type": "execute_result",
          "data": {
            "text/plain": [
              "<sklearn.metrics._plot.confusion_matrix.ConfusionMatrixDisplay at 0x7f4f5ea4bd10>"
            ]
          },
          "metadata": {},
          "execution_count": 78
        },
        {
          "output_type": "display_data",
          "data": {
            "text/plain": [
              "<Figure size 432x288 with 2 Axes>"
            ],
            "image/png": "[encoded data removed]"
          },
          "metadata": {
            "needs_background": "light"
          }
        }
      ]
    },
    {
      "cell_type": "markdown",
      "source": [
        "Right now this is outputting results on the testing data, not the holdout set"
      ],
      "metadata": {
        "id": "f_w5-bvgV2b-"
      }
    },
    {
      "cell_type": "code",
      "source": [
        "#try the sklearn loop over different models\n",
        "\n",
        "#MODEL TUNING DONE BASED ON THE TRAINING SET, NOT THE HOLDOUT SET\n",
        "\n",
        "#Later in the notebook we will loop over the same models and test them on the holdout data\n",
        "\n",
        "# Code source: Gaël Varoquaux\n",
        "#              Andreas Müller\n",
        "# Modified for documentation by Jaques Grobler\n",
        "# License: BSD 3 clause\n",
        "\n",
        "import warnings\n",
        "warnings.filterwarnings('ignore')\n",
        "\n",
        "\n",
        "\n",
        "names = [\n",
        "    \"Nearest Neighbors\",\n",
        "    \"Linear SVM\",\n",
        "    \"RBF SVM\",\n",
        "    \"Gaussian Process\",\n",
        "    \"Decision Tree\",\n",
        "    \"Random Forest\",\n",
        "    \"Neural Net\",\n",
        "    \"AdaBoost\",\n",
        "    \"Naive Bayes\",\n",
        "    \"QDA\",\n",
        "]\n",
        "\n",
        "precisions = []\n",
        "recalls = []\n",
        "accuracies = []\n",
        "balanced_accuracies = []\n",
        "\n",
        "classifiers = [\n",
        "    KNeighborsClassifier(3),\n",
        "    SVC(kernel=\"linear\", C=1, probability=True),\n",
        "    SVC(kernel = 'rbf', gamma='auto', C=1, probability=True),\n",
        "    GaussianProcessClassifier(1.0 * RBF(1.0)),\n",
        "    DecisionTreeClassifier(max_depth=10, max_features = 4),\n",
        "    RandomForestClassifier(max_depth=10, n_estimators=10, max_features=4),\n",
        "    MLPClassifier(hidden_layer_sizes=(20, 20), activation='relu', solver='adam', max_iter=10000, verbose = False, tol = .000001),\n",
        "    AdaBoostClassifier(n_estimators = 30),\n",
        "    GaussianNB(),\n",
        "    QuadraticDiscriminantAnalysis(reg_param=.1),\n",
        "]\n",
        "\n",
        "\n",
        "# iterate over classifiers\n",
        "for name, clf in zip(names, classifiers):\n",
        "    clf.fit(X_train, y_train)\n",
        "    score = clf.score(X_test, y_test)\n",
        "    preds_prob =  clf.predict_proba(X_test)\n",
        "    print(f'{name}: score: {score}')\n",
        "\n",
        "\n",
        "    model_test_df = df.query('roi_group_ID in @X_test_rois')\n",
        "\n",
        "    model_test_df[['t5', 'tm1', 'tm2', 'tm4', 'tm9']] = preds_prob\n",
        "    model_test_df = model_test_df.groupby(['roi_ID', 'label']).mean().reset_index()\n",
        "\n",
        "    model_test_df['max_pred'] = model_test_df[['t5', 'tm1', 'tm2', 'tm4', 'tm9']].idxmax(axis=1)\n",
        "\n",
        "    report = classification_report(model_test_df['label'],model_test_df['max_pred'], output_dict=True)\n",
        "\n",
        "    precision = report['macro avg']['precision']\n",
        "    recall = report['macro avg']['recall']\n",
        "    accuracy = report['accuracy']\n",
        "    balanced_accuracy = (report['macro avg']['precision'] + report['macro avg']['recall']) /2\n",
        "\n",
        "\n",
        "    precisions.append(precision)\n",
        "    recalls.append(recall)\n",
        "    accuracies.append(accuracy)\n",
        "    balanced_accuracies.append(balanced_accuracy)\n",
        "\n",
        "\n",
        "    print(f\"Macro results: {report['macro avg']}\")\n",
        "    print(f\"Accuracy: {accuracy}\")\n",
        "    print(f\"balanced accuracy: {balanced_accuracy}\")\n",
        "\n",
        "    ConfusionMatrixDisplay.from_predictions(model_test_df['label'],model_test_df['max_pred'])\n",
        "\n",
        "    plt.show()\n",
        "\n",
        "test_results = pd.DataFrame(data = {'model': names,\n",
        "                                    'precision': precisions,\n",
        "                                    'recall': recalls,\n",
        "                                    'accuracy': accuracies,\n",
        "                                    'balanced_accuracy': balanced_accuracies})\n",
        "test_results"
      ],
      "metadata": {
        "id": "hNqSyVKdyPqB",
        "colab": {
          "base_uri": "https://localhost:8080/",
          "height": 1000
        },
        "outputId": "d4db8a2d-19ee-494c-aa24-729edf7493ae"
      },
      "execution_count": 79,
      "outputs": [
        {
          "output_type": "stream",
          "name": "stdout",
          "text": [
            "Nearest Neighbors: score: 0.6021505376344086\n",
            "Macro results: {'precision': 0.6492974238875878, 'recall': 0.548939393939394, 'f1-score': 0.5782399626517274, 'support': 89}\n",
            "Accuracy: 0.6629213483146067\n",
            "balanced accuracy: 0.5991184089134909\n"
          ]
        },
        {
          "output_type": "display_data",
          "data": {
            "text/plain": [
              "<Figure size 432x288 with 2 Axes>"
            ],
            "image/png": "[encoded data removed]"
          },
          "metadata": {
            "needs_background": "light"
          }
        },
        {
          "output_type": "stream",
          "name": "stdout",
          "text": [
            "Linear SVM: score: 0.5913978494623656\n",
            "Macro results: {'precision': 0.4891701828410689, 'recall': 0.32, 'f1-score': 0.3201009251471826, 'support': 89}\n",
            "Accuracy: 0.5955056179775281\n",
            "balanced accuracy: 0.40458509142053445\n"
          ]
        },
        {
          "output_type": "display_data",
          "data": {
            "text/plain": [
              "<Figure size 432x288 with 2 Axes>"
            ],
            "image/png": "[encoded data removed]"
          },
          "metadata": {
            "needs_background": "light"
          }
        },
        {
          "output_type": "stream",
          "name": "stdout",
          "text": [
            "RBF SVM: score: 0.5985663082437276\n",
            "Macro results: {'precision': 0.48274428274428277, 'recall': 0.35090909090909095, 'f1-score': 0.35570621468926555, 'support': 89}\n",
            "Accuracy: 0.6179775280898876\n",
            "balanced accuracy: 0.4168266868266869\n"
          ]
        },
        {
          "output_type": "display_data",
          "data": {
            "text/plain": [
              "<Figure size 432x288 with 2 Axes>"
            ],
            "image/png": "[encoded data removed]"
          },
          "metadata": {
            "needs_background": "light"
          }
        },
        {
          "output_type": "stream",
          "name": "stdout",
          "text": [
            "Gaussian Process: score: 0.6129032258064516\n",
            "Macro results: {'precision': 0.2895495495495496, 'recall': 0.3254545454545455, 'f1-score': 0.2943341404358354, 'support': 89}\n",
            "Accuracy: 0.6292134831460674\n",
            "balanced accuracy: 0.30750204750204757\n"
          ]
        },
        {
          "output_type": "display_data",
          "data": {
            "text/plain": [
              "<Figure size 432x288 with 2 Axes>"
            ],
            "image/png": "[encoded data removed]"
          },
          "metadata": {
            "needs_background": "light"
          }
        },
        {
          "output_type": "stream",
          "name": "stdout",
          "text": [
            "Decision Tree: score: 0.6523297491039427\n",
            "Macro results: {'precision': 0.6907017543859648, 'recall': 0.5806060606060606, 'f1-score': 0.6200757575757576, 'support': 89}\n",
            "Accuracy: 0.7191011235955056\n",
            "balanced accuracy: 0.6356539074960127\n"
          ]
        },
        {
          "output_type": "display_data",
          "data": {
            "text/plain": [
              "<Figure size 432x288 with 2 Axes>"
            ],
            "image/png": "[encoded data removed]"
          },
          "metadata": {
            "needs_background": "light"
          }
        },
        {
          "output_type": "stream",
          "name": "stdout",
          "text": [
            "Random Forest: score: 0.7240143369175627\n",
            "Macro results: {'precision': 0.7863799283154121, 'recall': 0.5483333333333333, 'f1-score': 0.5968830309048779, 'support': 89}\n",
            "Accuracy: 0.7528089887640449\n",
            "balanced accuracy: 0.6673566308243728\n"
          ]
        },
        {
          "output_type": "display_data",
          "data": {
            "text/plain": [
              "<Figure size 432x288 with 2 Axes>"
            ],
            "image/png": "[encoded data removed]"
          },
          "metadata": {
            "needs_background": "light"
          }
        },
        {
          "output_type": "stream",
          "name": "stdout",
          "text": [
            "Neural Net: score: 0.5448028673835126\n",
            "Macro results: {'precision': 0.5747641831852357, 'recall': 0.4162121212121212, 'f1-score': 0.4384263689526848, 'support': 89}\n",
            "Accuracy: 0.5842696629213483\n",
            "balanced accuracy: 0.4954881521986785\n"
          ]
        },
        {
          "output_type": "display_data",
          "data": {
            "text/plain": [
              "<Figure size 432x288 with 2 Axes>"
            ],
            "image/png": "[encoded data removed]"
          },
          "metadata": {
            "needs_background": "light"
          }
        },
        {
          "output_type": "stream",
          "name": "stdout",
          "text": [
            "AdaBoost: score: 0.5304659498207885\n",
            "Macro results: {'precision': 0.48690476190476184, 'recall': 0.41075757575757577, 'f1-score': 0.4302255639097744, 'support': 89}\n",
            "Accuracy: 0.5842696629213483\n",
            "balanced accuracy: 0.4488311688311688\n"
          ]
        },
        {
          "output_type": "display_data",
          "data": {
            "text/plain": [
              "<Figure size 432x288 with 2 Axes>"
            ],
            "image/png": "[encoded data removed]"
          },
          "metadata": {
            "needs_background": "light"
          }
        },
        {
          "output_type": "stream",
          "name": "stdout",
          "text": [
            "Naive Bayes: score: 0.1863799283154122\n",
            "Macro results: {'precision': 0.37619047619047624, 'recall': 0.2790909090909091, 'f1-score': 0.16997802197802198, 'support': 89}\n",
            "Accuracy: 0.15730337078651685\n",
            "balanced accuracy: 0.3276406926406927\n"
          ]
        },
        {
          "output_type": "display_data",
          "data": {
            "text/plain": [
              "<Figure size 432x288 with 2 Axes>"
            ],
            "image/png": "[encoded data removed]"
          },
          "metadata": {
            "needs_background": "light"
          }
        },
        {
          "output_type": "stream",
          "name": "stdout",
          "text": [
            "QDA: score: 0.35842293906810035\n",
            "Macro results: {'precision': 0.3282913165266107, 'recall': 0.35545454545454547, 'f1-score': 0.2537240537240537, 'support': 89}\n",
            "Accuracy: 0.39325842696629215\n",
            "balanced accuracy: 0.3418729309905781\n"
          ]
        },
        {
          "output_type": "display_data",
          "data": {
            "text/plain": [
              "<Figure size 432x288 with 2 Axes>"
            ],
            "image/png": "[encoded data removed]"
          },
          "metadata": {
            "needs_background": "light"
          }
        },
        {
          "output_type": "execute_result",
          "data": {
            "text/plain": [
              "               model  precision    recall  accuracy  balanced_accuracy\n",
              "0  Nearest Neighbors   0.649297  0.548939  0.662921           0.599118\n",
              "1         Linear SVM   0.489170  0.320000  0.595506           0.404585\n",
              "2            RBF SVM   0.482744  0.350909  0.617978           0.416827\n",
              "3   Gaussian Process   0.289550  0.325455  0.629213           0.307502\n",
              "4      Decision Tree   0.690702  0.580606  0.719101           0.635654\n",
              "5      Random Forest   0.786380  0.548333  0.752809           0.667357\n",
              "6         Neural Net   0.574764  0.416212  0.584270           0.495488\n",
              "7           AdaBoost   0.486905  0.410758  0.584270           0.448831\n",
              "8        Naive Bayes   0.376190  0.279091  0.157303           0.327641\n",
              "9                QDA   0.328291  0.355455  0.393258           0.341873"
            ],
            "text/html": [
              "\n",
              "  <div id=\"df-fcc67048-9105-4045-955d-5477755d7092\">\n",
              "    <div class=\"colab-df-container\">\n",
              "      <div>\n",
              "<style scoped>\n",
              "    .dataframe tbody tr th:only-of-type {\n",
              "        vertical-align: middle;\n",
              "    }\n",
              "\n",
              "    .dataframe tbody tr th {\n",
              "        vertical-align: top;\n",
              "    }\n",
              "\n",
              "    .dataframe thead th {\n",
              "        text-align: right;\n",
              "    }\n",
              "</style>\n",
              "<table border=\"1\" class=\"dataframe\">\n",
              "  <thead>\n",
              "    <tr style=\"text-align: right;\">\n",
              "      <th></th>\n",
              "      <th>model</th>\n",
              "      <th>precision</th>\n",
              "      <th>recall</th>\n",
              "      <th>accuracy</th>\n",
              "      <th>balanced_accuracy</th>\n",
              "    </tr>\n",
              "  </thead>\n",
              "  <tbody>\n",
              "    <tr>\n",
              "      <th>0</th>\n",
              "      <td>Nearest Neighbors</td>\n",
              "      <td>0.649297</td>\n",
              "      <td>0.548939</td>\n",
              "      <td>0.662921</td>\n",
              "      <td>0.599118</td>\n",
              "    </tr>\n",
              "    <tr>\n",
              "      <th>1</th>\n",
              "      <td>Linear SVM</td>\n",
              "      <td>0.489170</td>\n",
              "      <td>0.320000</td>\n",
              "      <td>0.595506</td>\n",
              "      <td>0.404585</td>\n",
              "    </tr>\n",
              "    <tr>\n",
              "      <th>2</th>\n",
              "      <td>RBF SVM</td>\n",
              "      <td>0.482744</td>\n",
              "      <td>0.350909</td>\n",
              "      <td>0.617978</td>\n",
              "      <td>0.416827</td>\n",
              "    </tr>\n",
              "    <tr>\n",
              "      <th>3</th>\n",
              "      <td>Gaussian Process</td>\n",
              "      <td>0.289550</td>\n",
              "      <td>0.325455</td>\n",
              "      <td>0.629213</td>\n",
              "      <td>0.307502</td>\n",
              "    </tr>\n",
              "    <tr>\n",
              "      <th>4</th>\n",
              "      <td>Decision Tree</td>\n",
              "      <td>0.690702</td>\n",
              "      <td>0.580606</td>\n",
              "      <td>0.719101</td>\n",
              "      <td>0.635654</td>\n",
              "    </tr>\n",
              "    <tr>\n",
              "      <th>5</th>\n",
              "      <td>Random Forest</td>\n",
              "      <td>0.786380</td>\n",
              "      <td>0.548333</td>\n",
              "      <td>0.752809</td>\n",
              "      <td>0.667357</td>\n",
              "    </tr>\n",
              "    <tr>\n",
              "      <th>6</th>\n",
              "      <td>Neural Net</td>\n",
              "      <td>0.574764</td>\n",
              "      <td>0.416212</td>\n",
              "      <td>0.584270</td>\n",
              "      <td>0.495488</td>\n",
              "    </tr>\n",
              "    <tr>\n",
              "      <th>7</th>\n",
              "      <td>AdaBoost</td>\n",
              "      <td>0.486905</td>\n",
              "      <td>0.410758</td>\n",
              "      <td>0.584270</td>\n",
              "      <td>0.448831</td>\n",
              "    </tr>\n",
              "    <tr>\n",
              "      <th>8</th>\n",
              "      <td>Naive Bayes</td>\n",
              "      <td>0.376190</td>\n",
              "      <td>0.279091</td>\n",
              "      <td>0.157303</td>\n",
              "      <td>0.327641</td>\n",
              "    </tr>\n",
              "    <tr>\n",
              "      <th>9</th>\n",
              "      <td>QDA</td>\n",
              "      <td>0.328291</td>\n",
              "      <td>0.355455</td>\n",
              "      <td>0.393258</td>\n",
              "      <td>0.341873</td>\n",
              "    </tr>\n",
              "  </tbody>\n",
              "</table>\n",
              "</div>\n",
              "      <button class=\"colab-df-convert\" onclick=\"convertToInteractive('df-fcc67048-9105-4045-955d-5477755d7092')\"\n",
              "              title=\"Convert this dataframe to an interactive table.\"\n",
              "              style=\"display:none;\">\n",
              "        \n",
              "  <svg xmlns=\"http://www.w3.org/2000/svg\" height=\"24px\"viewBox=\"0 0 24 24\"\n",
              "       width=\"24px\">\n",
              "    <path d=\"M0 0h24v24H0V0z\" fill=\"none\"/>\n",
              "    <path d=\"M18.56 5.44l.94 2.06.94-2.06 2.06-.94-2.06-.94-.94-2.06-.94 2.06-2.06.94zm-11 1L8.5 8.5l.94-2.06 2.06-.94-2.06-.94L8.5 2.5l-.94 2.06-2.06.94zm10 10l.94 2.06.94-2.06 2.06-.94-2.06-.94-.94-2.06-.94 2.06-2.06.94z\"/><path d=\"M17.41 7.96l-1.37-1.37c-.4-.4-.92-.59-1.43-.59-.52 0-1.04.2-1.43.59L10.3 9.45l-7.72 7.72c-.78.78-.78 2.05 0 2.83L4 21.41c.39.39.9.59 1.41.59.51 0 1.02-.2 1.41-.59l7.78-7.78 2.81-2.81c.8-.78.8-2.07 0-2.86zM5.41 20L4 18.59l7.72-7.72 1.47 1.35L5.41 20z\"/>\n",
              "  </svg>\n",
              "      </button>\n",
              "      \n",
              "  <style>\n",
              "    .colab-df-container {\n",
              "      display:flex;\n",
              "      flex-wrap:wrap;\n",
              "      gap: 12px;\n",
              "    }\n",
              "\n",
              "    .colab-df-convert {\n",
              "      background-color: #E8F0FE;\n",
              "      border: none;\n",
              "      border-radius: 50%;\n",
              "      cursor: pointer;\n",
              "      display: none;\n",
              "      fill: #1967D2;\n",
              "      height: 32px;\n",
              "      padding: 0 0 0 0;\n",
              "      width: 32px;\n",
              "    }\n",
              "\n",
              "    .colab-df-convert:hover {\n",
              "      background-color: #E2EBFA;\n",
              "      box-shadow: 0px 1px 2px rgba(60, 64, 67, 0.3), 0px 1px 3px 1px rgba(60, 64, 67, 0.15);\n",
              "      fill: #174EA6;\n",
              "    }\n",
              "\n",
              "    [theme=dark] .colab-df-convert {\n",
              "      background-color: #3B4455;\n",
              "      fill: #D2E3FC;\n",
              "    }\n",
              "\n",
              "    [theme=dark] .colab-df-convert:hover {\n",
              "      background-color: #434B5C;\n",
              "      box-shadow: 0px 1px 3px 1px rgba(0, 0, 0, 0.15);\n",
              "      filter: drop-shadow(0px 1px 2px rgba(0, 0, 0, 0.3));\n",
              "      fill: #FFFFFF;\n",
              "    }\n",
              "  </style>\n",
              "\n",
              "      <script>\n",
              "        const buttonEl =\n",
              "          document.querySelector('#df-fcc67048-9105-4045-955d-5477755d7092 button.colab-df-convert');\n",
              "        buttonEl.style.display =\n",
              "          google.colab.kernel.accessAllowed ? 'block' : 'none';\n",
              "\n",
              "        async function convertToInteractive(key) {\n",
              "          const element = document.querySelector('#df-fcc67048-9105-4045-955d-5477755d7092');\n",
              "          const dataTable =\n",
              "            await google.colab.kernel.invokeFunction('convertToInteractive',\n",
              "                                                     [key], {});\n",
              "          if (!dataTable) return;\n",
              "\n",
              "          const docLinkHtml = 'Like what you see? Visit the ' +\n",
              "            '<a target=\"_blank\" href=https://colab.research.google.com/notebooks/data_table.ipynb>data table notebook</a>'\n",
              "            + ' to learn more about interactive tables.';\n",
              "          element.innerHTML = '';\n",
              "          dataTable['output_type'] = 'display_data';\n",
              "          await google.colab.output.renderOutput(dataTable, element);\n",
              "          const docLink = document.createElement('div');\n",
              "          docLink.innerHTML = docLinkHtml;\n",
              "          element.appendChild(docLink);\n",
              "        }\n",
              "      </script>\n",
              "    </div>\n",
              "  </div>\n",
              "  "
            ]
          },
          "metadata": {},
          "execution_count": 79
        }
      ]
    },
    {
      "cell_type": "code",
      "source": [
        "#USING THE SAME MODEL HYPERPARAMETERS, FIT MODELS AND TEST ON HOLDOUT DATA\n",
        "\n",
        "# Code source: Gaël Varoquaux\n",
        "#              Andreas Müller\n",
        "# Modified for documentation by Jaques Grobler\n",
        "# License: BSD 3 clause\n",
        "\n",
        "import warnings\n",
        "warnings.filterwarnings('ignore')\n",
        "\n",
        "\n",
        "\n",
        "names = [\n",
        "    \"Nearest Neighbors\",\n",
        "    \"Linear SVM\",\n",
        "    \"RBF SVM\",\n",
        "    \"Gaussian Process\",\n",
        "    \"Decision Tree\",\n",
        "    \"Random Forest\",\n",
        "    \"Neural Net\",\n",
        "    \"AdaBoost\",\n",
        "    \"Naive Bayes\",\n",
        "    \"QDA\",\n",
        "]\n",
        "\n",
        "precisions = []\n",
        "recalls = []\n",
        "accuracies = []\n",
        "balanced_accuracies = []\n",
        "\n",
        "classifiers = [\n",
        "    KNeighborsClassifier(3),\n",
        "    SVC(kernel=\"linear\", C=1, probability=True),\n",
        "    SVC(kernel = 'rbf', gamma='auto', C=1, probability=True),\n",
        "    GaussianProcessClassifier(1.0 * RBF(1.0)),\n",
        "    DecisionTreeClassifier(max_depth=10, max_features = 4),\n",
        "    RandomForestClassifier(max_depth=10, n_estimators=10, max_features=4),\n",
        "    MLPClassifier(hidden_layer_sizes=(20, 20), activation='relu', solver='adam', max_iter=10000, verbose = False, tol = .000001),\n",
        "    AdaBoostClassifier(n_estimators = 30),\n",
        "    GaussianNB(),\n",
        "    QuadraticDiscriminantAnalysis(reg_param=.1),\n",
        "]\n",
        "\n",
        "\n",
        "# iterate over classifiers\n",
        "for name, clf in zip(names, classifiers):\n",
        "    clf.fit(X_train, y_train)\n",
        "    preds_prob =  clf.predict_proba(X_holdout)\n",
        "\n",
        "\n",
        "    model_test_df = holdout_df\n",
        "\n",
        "    model_test_df[['t5', 'tm1', 'tm2', 'tm4', 'tm9']] = preds_prob\n",
        "    model_test_df = model_test_df.groupby(['roi_ID', 'label']).mean().reset_index()\n",
        "\n",
        "    model_test_df['max_pred'] = model_test_df[['t5', 'tm1', 'tm2', 'tm4', 'tm9']].idxmax(axis=1)\n",
        "\n",
        "    report = classification_report(model_test_df['label'],model_test_df['max_pred'], output_dict=True)\n",
        "\n",
        "    precision = report['macro avg']['precision']\n",
        "    recall = report['macro avg']['recall']\n",
        "    accuracy = report['accuracy']\n",
        "    balanced_accuracy = (report['macro avg']['precision'] + report['macro avg']['recall']) /2\n",
        "\n",
        "\n",
        "    precisions.append(precision)\n",
        "    recalls.append(recall)\n",
        "    accuracies.append(accuracy)\n",
        "    balanced_accuracies.append(balanced_accuracy)\n",
        "\n",
        "    print(name)\n",
        "    print(f\"Macro results: {report['macro avg']}\")\n",
        "    print(f\"Accuracy: {accuracy}\")\n",
        "    print(f\"balanced accuracy: {balanced_accuracy}\")\n",
        "\n",
        "    ConfusionMatrixDisplay.from_predictions(model_test_df['label'],model_test_df['max_pred'])\n",
        "\n",
        "    plt.show()\n",
        "\n",
        "test_results = pd.DataFrame(data = {'model': names,\n",
        "                                    'precision': precisions,\n",
        "                                    'recall': recalls,\n",
        "                                    'accuracy': accuracies,\n",
        "                                    'balanced_accuracy': balanced_accuracies})\n",
        "test_results"
      ],
      "metadata": {
        "colab": {
          "base_uri": "https://localhost:8080/",
          "height": 1000
        },
        "id": "eCVpgABqSyJF",
        "outputId": "5ad12f0a-b99b-4e07-b072-878876aa955b"
      },
      "execution_count": 81,
      "outputs": [
        {
          "output_type": "stream",
          "name": "stdout",
          "text": [
            "Nearest Neighbors\n",
            "Macro results: {'precision': 0.2564102564102564, 'recall': 0.3, 'f1-score': 0.2666666666666667, 'support': 17}\n",
            "Accuracy: 0.5882352941176471\n",
            "balanced accuracy: 0.2782051282051282\n"
          ]
        },
        {
          "output_type": "display_data",
          "data": {
            "text/plain": [
              "<Figure size 432x288 with 2 Axes>"
            ],
            "image/png": "[encoded data removed]"
          },
          "metadata": {
            "needs_background": "light"
          }
        },
        {
          "output_type": "stream",
          "name": "stdout",
          "text": [
            "Linear SVM\n",
            "Macro results: {'precision': 0.27999999999999997, 'recall': 0.3, 'f1-score': 0.2782051282051282, 'support': 17}\n",
            "Accuracy: 0.35294117647058826\n",
            "balanced accuracy: 0.29\n"
          ]
        },
        {
          "output_type": "display_data",
          "data": {
            "text/plain": [
              "<Figure size 432x288 with 2 Axes>"
            ],
            "image/png": "[encoded data removed]"
          },
          "metadata": {
            "needs_background": "light"
          }
        },
        {
          "output_type": "stream",
          "name": "stdout",
          "text": [
            "RBF SVM\n",
            "Macro results: {'precision': 0.158974358974359, 'recall': 0.2, 'f1-score': 0.17142857142857143, 'support': 17}\n",
            "Accuracy: 0.4117647058823529\n",
            "balanced accuracy: 0.17948717948717952\n"
          ]
        },
        {
          "output_type": "display_data",
          "data": {
            "text/plain": [
              "<Figure size 432x288 with 2 Axes>"
            ],
            "image/png": "[encoded data removed]"
          },
          "metadata": {
            "needs_background": "light"
          }
        },
        {
          "output_type": "stream",
          "name": "stdout",
          "text": [
            "Gaussian Process\n",
            "Macro results: {'precision': 0.2333333333333333, 'recall': 0.275, 'f1-score': 0.24155844155844158, 'support': 17}\n",
            "Accuracy: 0.5294117647058824\n",
            "balanced accuracy: 0.25416666666666665\n"
          ]
        },
        {
          "output_type": "display_data",
          "data": {
            "text/plain": [
              "<Figure size 432x288 with 2 Axes>"
            ],
            "image/png": "[encoded data removed]"
          },
          "metadata": {
            "needs_background": "light"
          }
        },
        {
          "output_type": "stream",
          "name": "stdout",
          "text": [
            "Decision Tree\n",
            "Macro results: {'precision': 0.3333333333333333, 'recall': 0.425, 'f1-score': 0.3013986013986014, 'support': 17}\n",
            "Accuracy: 0.4117647058823529\n",
            "balanced accuracy: 0.37916666666666665\n"
          ]
        },
        {
          "output_type": "display_data",
          "data": {
            "text/plain": [
              "<Figure size 432x288 with 2 Axes>"
            ],
            "image/png": "[encoded data removed]"
          },
          "metadata": {
            "needs_background": "light"
          }
        },
        {
          "output_type": "stream",
          "name": "stdout",
          "text": [
            "Random Forest\n",
            "Macro results: {'precision': 0.509090909090909, 'recall': 0.55, 'f1-score': 0.49298245614035086, 'support': 17}\n",
            "Accuracy: 0.5882352941176471\n",
            "balanced accuracy: 0.5295454545454545\n"
          ]
        },
        {
          "output_type": "display_data",
          "data": {
            "text/plain": [
              "<Figure size 432x288 with 2 Axes>"
            ],
            "image/png": "[encoded data removed]"
          },
          "metadata": {
            "needs_background": "light"
          }
        },
        {
          "output_type": "stream",
          "name": "stdout",
          "text": [
            "Neural Net\n",
            "Macro results: {'precision': 0.2333333333333333, 'recall': 0.25, 'f1-score': 0.2342857142857143, 'support': 17}\n",
            "Accuracy: 0.47058823529411764\n",
            "balanced accuracy: 0.24166666666666664\n"
          ]
        },
        {
          "output_type": "display_data",
          "data": {
            "text/plain": [
              "<Figure size 432x288 with 2 Axes>"
            ],
            "image/png": "[encoded data removed]"
          },
          "metadata": {
            "needs_background": "light"
          }
        },
        {
          "output_type": "stream",
          "name": "stdout",
          "text": [
            "AdaBoost\n",
            "Macro results: {'precision': 0.27999999999999997, 'recall': 0.15, 'f1-score': 0.16888888888888892, 'support': 17}\n",
            "Accuracy: 0.29411764705882354\n",
            "balanced accuracy: 0.21499999999999997\n"
          ]
        },
        {
          "output_type": "display_data",
          "data": {
            "text/plain": [
              "<Figure size 432x288 with 2 Axes>"
            ],
            "image/png": "[encoded data removed]"
          },
          "metadata": {
            "needs_background": "light"
          }
        },
        {
          "output_type": "stream",
          "name": "stdout",
          "text": [
            "Naive Bayes\n",
            "Macro results: {'precision': 0.05, 'recall': 0.2, 'f1-score': 0.08, 'support': 17}\n",
            "Accuracy: 0.23529411764705882\n",
            "balanced accuracy: 0.125\n"
          ]
        },
        {
          "output_type": "display_data",
          "data": {
            "text/plain": [
              "<Figure size 432x288 with 2 Axes>"
            ],
            "image/png": "[encoded data removed]"
          },
          "metadata": {
            "needs_background": "light"
          }
        },
        {
          "output_type": "stream",
          "name": "stdout",
          "text": [
            "QDA\n",
            "Macro results: {'precision': 0.42727272727272725, 'recall': 0.475, 'f1-score': 0.4140350877192982, 'support': 17}\n",
            "Accuracy: 0.6470588235294118\n",
            "balanced accuracy: 0.4511363636363636\n"
          ]
        },
        {
          "output_type": "display_data",
          "data": {
            "text/plain": [
              "<Figure size 432x288 with 2 Axes>"
            ],
            "image/png": "[encoded data removed]"
          },
          "metadata": {
            "needs_background": "light"
          }
        },
        {
          "output_type": "execute_result",
          "data": {
            "text/plain": [
              "               model  precision  recall  accuracy  balanced_accuracy\n",
              "0  Nearest Neighbors   0.256410   0.300  0.588235           0.278205\n",
              "1         Linear SVM   0.280000   0.300  0.352941           0.290000\n",
              "2            RBF SVM   0.158974   0.200  0.411765           0.179487\n",
              "3   Gaussian Process   0.233333   0.275  0.529412           0.254167\n",
              "4      Decision Tree   0.333333   0.425  0.411765           0.379167\n",
              "5      Random Forest   0.509091   0.550  0.588235           0.529545\n",
              "6         Neural Net   0.233333   0.250  0.470588           0.241667\n",
              "7           AdaBoost   0.280000   0.150  0.294118           0.215000\n",
              "8        Naive Bayes   0.050000   0.200  0.235294           0.125000\n",
              "9                QDA   0.427273   0.475  0.647059           0.451136"
            ],
            "text/html": [
              "\n",
              "  <div id=\"df-b1b7c1ad-7422-4e73-a749-4b1e6ebf9560\">\n",
              "    <div class=\"colab-df-container\">\n",
              "      <div>\n",
              "<style scoped>\n",
              "    .dataframe tbody tr th:only-of-type {\n",
              "        vertical-align: middle;\n",
              "    }\n",
              "\n",
              "    .dataframe tbody tr th {\n",
              "        vertical-align: top;\n",
              "    }\n",
              "\n",
              "    .dataframe thead th {\n",
              "        text-align: right;\n",
              "    }\n",
              "</style>\n",
              "<table border=\"1\" class=\"dataframe\">\n",
              "  <thead>\n",
              "    <tr style=\"text-align: right;\">\n",
              "      <th></th>\n",
              "      <th>model</th>\n",
              "      <th>precision</th>\n",
              "      <th>recall</th>\n",
              "      <th>accuracy</th>\n",
              "      <th>balanced_accuracy</th>\n",
              "    </tr>\n",
              "  </thead>\n",
              "  <tbody>\n",
              "    <tr>\n",
              "      <th>0</th>\n",
              "      <td>Nearest Neighbors</td>\n",
              "      <td>0.256410</td>\n",
              "      <td>0.300</td>\n",
              "      <td>0.588235</td>\n",
              "      <td>0.278205</td>\n",
              "    </tr>\n",
              "    <tr>\n",
              "      <th>1</th>\n",
              "      <td>Linear SVM</td>\n",
              "      <td>0.280000</td>\n",
              "      <td>0.300</td>\n",
              "      <td>0.352941</td>\n",
              "      <td>0.290000</td>\n",
              "    </tr>\n",
              "    <tr>\n",
              "      <th>2</th>\n",
              "      <td>RBF SVM</td>\n",
              "      <td>0.158974</td>\n",
              "      <td>0.200</td>\n",
              "      <td>0.411765</td>\n",
              "      <td>0.179487</td>\n",
              "    </tr>\n",
              "    <tr>\n",
              "      <th>3</th>\n",
              "      <td>Gaussian Process</td>\n",
              "      <td>0.233333</td>\n",
              "      <td>0.275</td>\n",
              "      <td>0.529412</td>\n",
              "      <td>0.254167</td>\n",
              "    </tr>\n",
              "    <tr>\n",
              "      <th>4</th>\n",
              "      <td>Decision Tree</td>\n",
              "      <td>0.333333</td>\n",
              "      <td>0.425</td>\n",
              "      <td>0.411765</td>\n",
              "      <td>0.379167</td>\n",
              "    </tr>\n",
              "    <tr>\n",
              "      <th>5</th>\n",
              "      <td>Random Forest</td>\n",
              "      <td>0.509091</td>\n",
              "      <td>0.550</td>\n",
              "      <td>0.588235</td>\n",
              "      <td>0.529545</td>\n",
              "    </tr>\n",
              "    <tr>\n",
              "      <th>6</th>\n",
              "      <td>Neural Net</td>\n",
              "      <td>0.233333</td>\n",
              "      <td>0.250</td>\n",
              "      <td>0.470588</td>\n",
              "      <td>0.241667</td>\n",
              "    </tr>\n",
              "    <tr>\n",
              "      <th>7</th>\n",
              "      <td>AdaBoost</td>\n",
              "      <td>0.280000</td>\n",
              "      <td>0.150</td>\n",
              "      <td>0.294118</td>\n",
              "      <td>0.215000</td>\n",
              "    </tr>\n",
              "    <tr>\n",
              "      <th>8</th>\n",
              "      <td>Naive Bayes</td>\n",
              "      <td>0.050000</td>\n",
              "      <td>0.200</td>\n",
              "      <td>0.235294</td>\n",
              "      <td>0.125000</td>\n",
              "    </tr>\n",
              "    <tr>\n",
              "      <th>9</th>\n",
              "      <td>QDA</td>\n",
              "      <td>0.427273</td>\n",
              "      <td>0.475</td>\n",
              "      <td>0.647059</td>\n",
              "      <td>0.451136</td>\n",
              "    </tr>\n",
              "  </tbody>\n",
              "</table>\n",
              "</div>\n",
              "      <button class=\"colab-df-convert\" onclick=\"convertToInteractive('df-b1b7c1ad-7422-4e73-a749-4b1e6ebf9560')\"\n",
              "              title=\"Convert this dataframe to an interactive table.\"\n",
              "              style=\"display:none;\">\n",
              "        \n",
              "  <svg xmlns=\"http://www.w3.org/2000/svg\" height=\"24px\"viewBox=\"0 0 24 24\"\n",
              "       width=\"24px\">\n",
              "    <path d=\"M0 0h24v24H0V0z\" fill=\"none\"/>\n",
              "    <path d=\"M18.56 5.44l.94 2.06.94-2.06 2.06-.94-2.06-.94-.94-2.06-.94 2.06-2.06.94zm-11 1L8.5 8.5l.94-2.06 2.06-.94-2.06-.94L8.5 2.5l-.94 2.06-2.06.94zm10 10l.94 2.06.94-2.06 2.06-.94-2.06-.94-.94-2.06-.94 2.06-2.06.94z\"/><path d=\"M17.41 7.96l-1.37-1.37c-.4-.4-.92-.59-1.43-.59-.52 0-1.04.2-1.43.59L10.3 9.45l-7.72 7.72c-.78.78-.78 2.05 0 2.83L4 21.41c.39.39.9.59 1.41.59.51 0 1.02-.2 1.41-.59l7.78-7.78 2.81-2.81c.8-.78.8-2.07 0-2.86zM5.41 20L4 18.59l7.72-7.72 1.47 1.35L5.41 20z\"/>\n",
              "  </svg>\n",
              "      </button>\n",
              "      \n",
              "  <style>\n",
              "    .colab-df-container {\n",
              "      display:flex;\n",
              "      flex-wrap:wrap;\n",
              "      gap: 12px;\n",
              "    }\n",
              "\n",
              "    .colab-df-convert {\n",
              "      background-color: #E8F0FE;\n",
              "      border: none;\n",
              "      border-radius: 50%;\n",
              "      cursor: pointer;\n",
              "      display: none;\n",
              "      fill: #1967D2;\n",
              "      height: 32px;\n",
              "      padding: 0 0 0 0;\n",
              "      width: 32px;\n",
              "    }\n",
              "\n",
              "    .colab-df-convert:hover {\n",
              "      background-color: #E2EBFA;\n",
              "      box-shadow: 0px 1px 2px rgba(60, 64, 67, 0.3), 0px 1px 3px 1px rgba(60, 64, 67, 0.15);\n",
              "      fill: #174EA6;\n",
              "    }\n",
              "\n",
              "    [theme=dark] .colab-df-convert {\n",
              "      background-color: #3B4455;\n",
              "      fill: #D2E3FC;\n",
              "    }\n",
              "\n",
              "    [theme=dark] .colab-df-convert:hover {\n",
              "      background-color: #434B5C;\n",
              "      box-shadow: 0px 1px 3px 1px rgba(0, 0, 0, 0.15);\n",
              "      filter: drop-shadow(0px 1px 2px rgba(0, 0, 0, 0.3));\n",
              "      fill: #FFFFFF;\n",
              "    }\n",
              "  </style>\n",
              "\n",
              "      <script>\n",
              "        const buttonEl =\n",
              "          document.querySelector('#df-b1b7c1ad-7422-4e73-a749-4b1e6ebf9560 button.colab-df-convert');\n",
              "        buttonEl.style.display =\n",
              "          google.colab.kernel.accessAllowed ? 'block' : 'none';\n",
              "\n",
              "        async function convertToInteractive(key) {\n",
              "          const element = document.querySelector('#df-b1b7c1ad-7422-4e73-a749-4b1e6ebf9560');\n",
              "          const dataTable =\n",
              "            await google.colab.kernel.invokeFunction('convertToInteractive',\n",
              "                                                     [key], {});\n",
              "          if (!dataTable) return;\n",
              "\n",
              "          const docLinkHtml = 'Like what you see? Visit the ' +\n",
              "            '<a target=\"_blank\" href=https://colab.research.google.com/notebooks/data_table.ipynb>data table notebook</a>'\n",
              "            + ' to learn more about interactive tables.';\n",
              "          element.innerHTML = '';\n",
              "          dataTable['output_type'] = 'display_data';\n",
              "          await google.colab.output.renderOutput(dataTable, element);\n",
              "          const docLink = document.createElement('div');\n",
              "          docLink.innerHTML = docLinkHtml;\n",
              "          element.appendChild(docLink);\n",
              "        }\n",
              "      </script>\n",
              "    </div>\n",
              "  </div>\n",
              "  "
            ]
          },
          "metadata": {},
          "execution_count": 81
        }
      ]
    },
    {
      "cell_type": "markdown",
      "source": [
        "# Old code to take frame-level predictions and use the most frequent prediction at the roi level"
      ],
      "metadata": {
        "id": "Qq3EWNJiYIir"
      }
    },
    {
      "cell_type": "code",
      "source": [
        "# #groupby the roi_id and predicted class to see the number of times each cell was predicted which class\n",
        "# #right now it classifies everything as tm1\n",
        "# max_preds = test_df.groupby(['roi_ID', 'pred']).count() \\\n",
        "#     .reset_index() \\\n",
        "#     .sort_values(['roi_ID', 'label'], ascending = False) \\\n",
        "#     .drop_duplicates('roi_ID', keep='first') \\\n",
        "#     [['roi_ID', 'pred']] \\\n",
        "#     .rename(columns = {'pred': 'most_predicted_class'}) \\\n",
        "#     .set_index('roi_ID')\n"
      ],
      "metadata": {
        "id": "NkPhIdFomqRi"
      },
      "execution_count": 25,
      "outputs": []
    },
    {
      "cell_type": "code",
      "source": [
        "# max_preds.head()"
      ],
      "metadata": {
        "id": "T_gTmHkHmqRi"
      },
      "execution_count": 26,
      "outputs": []
    },
    {
      "cell_type": "code",
      "source": [
        "# #get the actual labels for the rois in the test set\n",
        "# test_labels = test_df[['roi_ID', 'label']].drop_duplicates('roi_ID').set_index('roi_ID')\n",
        "# test_labels.head()"
      ],
      "metadata": {
        "id": "V44kcjeRmqRj"
      },
      "execution_count": 27,
      "outputs": []
    },
    {
      "cell_type": "code",
      "source": [
        "# #join the actual labels to the most predicted class labels\n",
        "# max_preds = max_preds.join(test_labels)\n",
        "# max_preds.head()"
      ],
      "metadata": {
        "id": "dxXyGngmmqRj"
      },
      "execution_count": 28,
      "outputs": []
    },
    {
      "cell_type": "code",
      "source": [
        "# #show the confusion matrix for the test set rois\n",
        "# print(classification_report(max_preds['label'], max_preds['most_predicted_class']))\n",
        "# ConfusionMatrixDisplay.from_predictions(max_preds['label'], max_preds['most_predicted_class'])"
      ],
      "metadata": {
        "id": "F3rWrm_ImqRj"
      },
      "execution_count": 29,
      "outputs": []
    },
    {
      "cell_type": "code",
      "source": [
        "# #return the predicted classes and probabilities\n",
        "# preds_prob = model.predict_proba(X_test)\n",
        "# preds = model.predict(X_test)\n",
        "# print(model.classes_)\n",
        "# preds_prob"
      ],
      "metadata": {
        "id": "liOaHmEzIue8"
      },
      "execution_count": 30,
      "outputs": []
    },
    {
      "cell_type": "code",
      "source": [
        "# #add the classes and probabilities back to the df of test set records\n",
        "# test_df = df.query('roi_ID in @X_test_rois')\n",
        "# test_df[['t5', 'tm1', 'tm2', 'tm4', 'tm9']] = preds_prob\n",
        "# test_df['pred'] = preds"
      ],
      "metadata": {
        "id": "eQlaTIKEIuhT"
      },
      "execution_count": 31,
      "outputs": []
    },
    {
      "cell_type": "code",
      "source": [
        "# #groupby the roi_id and predicted class to see the number of times each cell was predicted which class\n",
        "# #right now it classifies everything as tm1\n",
        "# max_preds = test_df.groupby(['roi_ID', 'pred']).count() \\\n",
        "#     .reset_index() \\\n",
        "#     .sort_values(['roi_ID', 'label'], ascending = False) \\\n",
        "#     .drop_duplicates('roi_ID', keep='first') \\\n",
        "#     [['roi_ID', 'pred']] \\\n",
        "#     .rename(columns = {'pred': 'most_predicted_class'}) \\\n",
        "#     .set_index('roi_ID')\n"
      ],
      "metadata": {
        "id": "3vE-dlxBIuj7"
      },
      "execution_count": 32,
      "outputs": []
    },
    {
      "cell_type": "code",
      "source": [
        "# max_preds.head()"
      ],
      "metadata": {
        "id": "7aFjVXshVr-t"
      },
      "execution_count": 33,
      "outputs": []
    },
    {
      "cell_type": "code",
      "source": [
        "# #get the actual labels for the rois in the test set\n",
        "# test_labels = test_df[['roi_ID', 'label']].drop_duplicates('roi_ID').set_index('roi_ID')\n",
        "# test_labels.head()"
      ],
      "metadata": {
        "id": "gx3FUpjjVePe"
      },
      "execution_count": 34,
      "outputs": []
    },
    {
      "cell_type": "code",
      "source": [
        "# #join the actual labels to the most predicted class labels\n",
        "# max_preds = max_preds.join(test_labels)\n",
        "# max_preds.head()"
      ],
      "metadata": {
        "id": "cXFjBXjUSqhL"
      },
      "execution_count": 35,
      "outputs": []
    },
    {
      "cell_type": "code",
      "source": [
        "# #show the confusion matrix for the test set rois\n",
        "# ConfusionMatrixDisplay.from_predictions(max_preds['label'], max_preds['most_predicted_class'])"
      ],
      "metadata": {
        "id": "Ful8fpWETMq0"
      },
      "execution_count": 36,
      "outputs": []
    }
  ]
}