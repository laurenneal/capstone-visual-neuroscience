{
  "nbformat": 4,
  "nbformat_minor": 0,
  "metadata": {
    "colab": {
      "name": "scikit test v2.ipynb",
      "provenance": [],
      "collapsed_sections": [],
      "include_colab_link": true
    },
    "kernelspec": {
      "name": "python3",
      "display_name": "Python 3"
    },
    "language_info": {
      "name": "python"
    },
    "accelerator": "TPU"
  },
  "cells": [
    {
      "cell_type": "markdown",
      "metadata": {
        "id": "view-in-github",
        "colab_type": "text"
      },
      "source": [
        "<a href=\"https://colab.research.google.com/github/laurenneal/capstone-visual-neuroscience/blob/Lauren/scikit_test_v2.ipynb\" target=\"_parent\"><img src=\"https://colab.research.google.com/assets/colab-badge.svg\" alt=\"Open In Colab\"/></a>"
      ]
    },
    {
      "cell_type": "code",
      "execution_count": 1,
      "metadata": {
        "colab": {
          "base_uri": "https://localhost:8080/"
        },
        "id": "XYt9E3-NyLo0",
        "outputId": "cd87c2ba-2f54-40c7-f19b-093f05ab86cd"
      },
      "outputs": [
        {
          "output_type": "stream",
          "name": "stdout",
          "text": [
            "Mounted at /content/drive\n"
          ]
        }
      ],
      "source": [
        "from google.colab import drive\n",
        "drive.mount('/content/drive')"
      ]
    },
    {
      "cell_type": "code",
      "source": [
        "#imports\n",
        "import pandas as pd\n",
        "import os\n",
        "import random\n",
        "import seaborn as sns\n",
        "\n",
        "import numpy as np\n",
        "import matplotlib.pyplot as plt\n",
        "from matplotlib.colors import ListedColormap\n",
        "from sklearn.model_selection import train_test_split\n",
        "from sklearn.preprocessing import StandardScaler\n",
        "from sklearn.datasets import make_moons, make_circles, make_classification\n",
        "from sklearn.neural_network import MLPClassifier\n",
        "from sklearn.neighbors import KNeighborsClassifier\n",
        "from sklearn.svm import SVC\n",
        "from sklearn.gaussian_process import GaussianProcessClassifier\n",
        "from sklearn.gaussian_process.kernels import RBF\n",
        "from sklearn.tree import DecisionTreeClassifier\n",
        "from sklearn.ensemble import RandomForestClassifier, AdaBoostClassifier\n",
        "from sklearn.naive_bayes import GaussianNB\n",
        "from sklearn.discriminant_analysis import QuadraticDiscriminantAnalysis\n",
        "from sklearn.metrics import confusion_matrix\n",
        "from sklearn.metrics import ConfusionMatrixDisplay\n",
        "from sklearn.metrics import classification_report"
      ],
      "metadata": {
        "id": "rSe6lt-0RP-Q"
      },
      "execution_count": 2,
      "outputs": []
    },
    {
      "cell_type": "code",
      "source": [
        "# pull train and test data from the folder\n",
        "root = '/content/drive/MyDrive/DS6011_Capstone_VisualNeuroscience/Seeded_CNMF/Extracted_Features/'\n",
        "folder = '10_frames_stim1/'\n",
        "f_names = os.listdir(root + folder)\n",
        "\n",
        "cols = pd.read_csv(root + folder + f_names[0]).columns\n",
        "\n",
        "df_train = pd.DataFrame(columns=cols)\n",
        "df_test = pd.DataFrame(columns=cols)\n",
        "df_val = pd.DataFrame(columns=cols)\n",
        "\n",
        "for f in f_names:\n",
        "  df = pd.read_csv(root + folder + f)\n",
        "  if 'train' in f.split('_')[-1]:\n",
        "    df_train = pd.concat([df_train, df])\n",
        "  if 'test' in f.split('_')[-1]:\n",
        "    df_test = pd.concat([df_test, df])\n",
        "  if 'val' in f.split('_')[-1]:\n",
        "    df_val = pd.concat([df_val, df])"
      ],
      "metadata": {
        "id": "sGpabZsZKocQ"
      },
      "execution_count": 3,
      "outputs": []
    },
    {
      "cell_type": "code",
      "source": [
        "df_train"
      ],
      "metadata": {
        "colab": {
          "base_uri": "https://localhost:8080/",
          "height": 505
        },
        "id": "iCUfZYhbNJVJ",
        "outputId": "7671d360-5254-4653-a18e-dbdbb16dad82"
      },
      "execution_count": 4,
      "outputs": [
        {
          "output_type": "execute_result",
          "data": {
            "text/html": [
              "\n",
              "  <div id=\"df-a437015f-8841-411b-9282-5762f61f3418\">\n",
              "    <div class=\"colab-df-container\">\n",
              "      <div>\n",
              "<style scoped>\n",
              "    .dataframe tbody tr th:only-of-type {\n",
              "        vertical-align: middle;\n",
              "    }\n",
              "\n",
              "    .dataframe tbody tr th {\n",
              "        vertical-align: top;\n",
              "    }\n",
              "\n",
              "    .dataframe thead th {\n",
              "        text-align: right;\n",
              "    }\n",
              "</style>\n",
              "<table border=\"1\" class=\"dataframe\">\n",
              "  <thead>\n",
              "    <tr style=\"text-align: right;\">\n",
              "      <th></th>\n",
              "      <th>stack</th>\n",
              "      <th>label</th>\n",
              "      <th>roi</th>\n",
              "      <th>frame</th>\n",
              "      <th>filename</th>\n",
              "      <th>resp</th>\n",
              "      <th>stim1</th>\n",
              "      <th>stim2</th>\n",
              "      <th>stim3</th>\n",
              "      <th>relation_type_stim1</th>\n",
              "      <th>...</th>\n",
              "      <th>relation_stim1_NRPS-PRNS</th>\n",
              "      <th>relation_stim1_NRPS-PRPS</th>\n",
              "      <th>relation_stim1_PRNS-NRNS</th>\n",
              "      <th>relation_stim1_PRNS-NRPS</th>\n",
              "      <th>relation_stim1_PRNS-PRNS</th>\n",
              "      <th>relation_stim1_PRNS-PRPS</th>\n",
              "      <th>relation_stim1_PRPS-NRNS</th>\n",
              "      <th>relation_stim1_PRPS-NRPS</th>\n",
              "      <th>relation_stim1_PRPS-PRNS</th>\n",
              "      <th>relation_stim1_PRPS-PRPS</th>\n",
              "    </tr>\n",
              "  </thead>\n",
              "  <tbody>\n",
              "    <tr>\n",
              "      <th>0</th>\n",
              "      <td>1</td>\n",
              "      <td>tm2</td>\n",
              "      <td>1</td>\n",
              "      <td>0</td>\n",
              "      <td>210816_0_1_stackRaw_mc_result_20220304T112124.h5</td>\n",
              "      <td>-0.326919</td>\n",
              "      <td>-0.308124</td>\n",
              "      <td>-89.396360</td>\n",
              "      <td>0.136451</td>\n",
              "      <td>NRNS</td>\n",
              "      <td>...</td>\n",
              "      <td>0.0</td>\n",
              "      <td>0.000000e+00</td>\n",
              "      <td>0.0</td>\n",
              "      <td>0.0</td>\n",
              "      <td>0.0</td>\n",
              "      <td>0.000000e+00</td>\n",
              "      <td>0.0</td>\n",
              "      <td>0.0</td>\n",
              "      <td>0.0</td>\n",
              "      <td>0.000000e+00</td>\n",
              "    </tr>\n",
              "    <tr>\n",
              "      <th>1</th>\n",
              "      <td>1</td>\n",
              "      <td>tm2</td>\n",
              "      <td>1</td>\n",
              "      <td>1</td>\n",
              "      <td>210816_0_1_stackRaw_mc_result_20220304T112124.h5</td>\n",
              "      <td>-0.207673</td>\n",
              "      <td>-0.308124</td>\n",
              "      <td>0.000000</td>\n",
              "      <td>0.000000</td>\n",
              "      <td>NRNS</td>\n",
              "      <td>...</td>\n",
              "      <td>0.0</td>\n",
              "      <td>0.000000e+00</td>\n",
              "      <td>0.0</td>\n",
              "      <td>0.0</td>\n",
              "      <td>0.0</td>\n",
              "      <td>0.000000e+00</td>\n",
              "      <td>0.0</td>\n",
              "      <td>0.0</td>\n",
              "      <td>0.0</td>\n",
              "      <td>0.000000e+00</td>\n",
              "    </tr>\n",
              "    <tr>\n",
              "      <th>2</th>\n",
              "      <td>1</td>\n",
              "      <td>tm2</td>\n",
              "      <td>1</td>\n",
              "      <td>2</td>\n",
              "      <td>210816_0_1_stackRaw_mc_result_20220304T112124.h5</td>\n",
              "      <td>-0.135514</td>\n",
              "      <td>-0.308124</td>\n",
              "      <td>0.000000</td>\n",
              "      <td>0.000000</td>\n",
              "      <td>NRNS</td>\n",
              "      <td>...</td>\n",
              "      <td>0.0</td>\n",
              "      <td>0.000000e+00</td>\n",
              "      <td>0.0</td>\n",
              "      <td>0.0</td>\n",
              "      <td>0.0</td>\n",
              "      <td>0.000000e+00</td>\n",
              "      <td>0.0</td>\n",
              "      <td>0.0</td>\n",
              "      <td>0.0</td>\n",
              "      <td>0.000000e+00</td>\n",
              "    </tr>\n",
              "    <tr>\n",
              "      <th>3</th>\n",
              "      <td>1</td>\n",
              "      <td>tm2</td>\n",
              "      <td>1</td>\n",
              "      <td>3</td>\n",
              "      <td>210816_0_1_stackRaw_mc_result_20220304T112124.h5</td>\n",
              "      <td>-0.299841</td>\n",
              "      <td>-0.020208</td>\n",
              "      <td>159.307519</td>\n",
              "      <td>0.018253</td>\n",
              "      <td>NRNS</td>\n",
              "      <td>...</td>\n",
              "      <td>0.0</td>\n",
              "      <td>0.000000e+00</td>\n",
              "      <td>0.0</td>\n",
              "      <td>0.0</td>\n",
              "      <td>0.0</td>\n",
              "      <td>0.000000e+00</td>\n",
              "      <td>0.0</td>\n",
              "      <td>0.0</td>\n",
              "      <td>0.0</td>\n",
              "      <td>0.000000e+00</td>\n",
              "    </tr>\n",
              "    <tr>\n",
              "      <th>4</th>\n",
              "      <td>1</td>\n",
              "      <td>tm2</td>\n",
              "      <td>1</td>\n",
              "      <td>4</td>\n",
              "      <td>210816_0_1_stackRaw_mc_result_20220304T112124.h5</td>\n",
              "      <td>-0.127388</td>\n",
              "      <td>0.267709</td>\n",
              "      <td>115.439141</td>\n",
              "      <td>0.071810</td>\n",
              "      <td>NRPS</td>\n",
              "      <td>...</td>\n",
              "      <td>0.0</td>\n",
              "      <td>0.000000e+00</td>\n",
              "      <td>0.0</td>\n",
              "      <td>0.0</td>\n",
              "      <td>0.0</td>\n",
              "      <td>0.000000e+00</td>\n",
              "      <td>0.0</td>\n",
              "      <td>0.0</td>\n",
              "      <td>0.0</td>\n",
              "      <td>0.000000e+00</td>\n",
              "    </tr>\n",
              "    <tr>\n",
              "      <th>...</th>\n",
              "      <td>...</td>\n",
              "      <td>...</td>\n",
              "      <td>...</td>\n",
              "      <td>...</td>\n",
              "      <td>...</td>\n",
              "      <td>...</td>\n",
              "      <td>...</td>\n",
              "      <td>...</td>\n",
              "      <td>...</td>\n",
              "      <td>...</td>\n",
              "      <td>...</td>\n",
              "      <td>...</td>\n",
              "      <td>...</td>\n",
              "      <td>...</td>\n",
              "      <td>...</td>\n",
              "      <td>...</td>\n",
              "      <td>...</td>\n",
              "      <td>...</td>\n",
              "      <td>...</td>\n",
              "      <td>...</td>\n",
              "      <td>...</td>\n",
              "    </tr>\n",
              "    <tr>\n",
              "      <th>423726</th>\n",
              "      <td>11</td>\n",
              "      <td>t5</td>\n",
              "      <td>7</td>\n",
              "      <td>5498</td>\n",
              "      <td>210731_0_11_stackRaw_mc_mix2_syt_result_202203...</td>\n",
              "      <td>0.691645</td>\n",
              "      <td>0.202075</td>\n",
              "      <td>62.322086</td>\n",
              "      <td>0.038643</td>\n",
              "      <td>PRPS</td>\n",
              "      <td>...</td>\n",
              "      <td>0.0</td>\n",
              "      <td>0.000000e+00</td>\n",
              "      <td>0.0</td>\n",
              "      <td>0.0</td>\n",
              "      <td>0.0</td>\n",
              "      <td>0.000000e+00</td>\n",
              "      <td>0.0</td>\n",
              "      <td>0.0</td>\n",
              "      <td>0.0</td>\n",
              "      <td>1.317648e-14</td>\n",
              "    </tr>\n",
              "    <tr>\n",
              "      <th>423727</th>\n",
              "      <td>11</td>\n",
              "      <td>t5</td>\n",
              "      <td>7</td>\n",
              "      <td>5499</td>\n",
              "      <td>210731_0_11_stackRaw_mc_mix2_syt_result_202203...</td>\n",
              "      <td>-0.234363</td>\n",
              "      <td>0.203980</td>\n",
              "      <td>87.566001</td>\n",
              "      <td>0.005355</td>\n",
              "      <td>NRPS</td>\n",
              "      <td>...</td>\n",
              "      <td>0.0</td>\n",
              "      <td>2.278630e-15</td>\n",
              "      <td>0.0</td>\n",
              "      <td>0.0</td>\n",
              "      <td>0.0</td>\n",
              "      <td>0.000000e+00</td>\n",
              "      <td>0.0</td>\n",
              "      <td>0.0</td>\n",
              "      <td>0.0</td>\n",
              "      <td>0.000000e+00</td>\n",
              "    </tr>\n",
              "    <tr>\n",
              "      <th>423728</th>\n",
              "      <td>11</td>\n",
              "      <td>t5</td>\n",
              "      <td>7</td>\n",
              "      <td>5500</td>\n",
              "      <td>210731_0_11_stackRaw_mc_mix2_syt_result_202203...</td>\n",
              "      <td>0.841037</td>\n",
              "      <td>0.201777</td>\n",
              "      <td>165.228125</td>\n",
              "      <td>0.005023</td>\n",
              "      <td>PRPS</td>\n",
              "      <td>...</td>\n",
              "      <td>0.0</td>\n",
              "      <td>0.000000e+00</td>\n",
              "      <td>0.0</td>\n",
              "      <td>0.0</td>\n",
              "      <td>0.0</td>\n",
              "      <td>0.000000e+00</td>\n",
              "      <td>0.0</td>\n",
              "      <td>0.0</td>\n",
              "      <td>0.0</td>\n",
              "      <td>1.389093e-11</td>\n",
              "    </tr>\n",
              "    <tr>\n",
              "      <th>423729</th>\n",
              "      <td>11</td>\n",
              "      <td>t5</td>\n",
              "      <td>7</td>\n",
              "      <td>5501</td>\n",
              "      <td>210731_0_11_stackRaw_mc_mix2_syt_result_202203...</td>\n",
              "      <td>0.686215</td>\n",
              "      <td>-0.109233</td>\n",
              "      <td>156.838327</td>\n",
              "      <td>0.049430</td>\n",
              "      <td>PRNS</td>\n",
              "      <td>...</td>\n",
              "      <td>0.0</td>\n",
              "      <td>0.000000e+00</td>\n",
              "      <td>0.0</td>\n",
              "      <td>0.0</td>\n",
              "      <td>0.0</td>\n",
              "      <td>7.475436e-14</td>\n",
              "      <td>0.0</td>\n",
              "      <td>0.0</td>\n",
              "      <td>0.0</td>\n",
              "      <td>0.000000e+00</td>\n",
              "    </tr>\n",
              "    <tr>\n",
              "      <th>423730</th>\n",
              "      <td>11</td>\n",
              "      <td>t5</td>\n",
              "      <td>7</td>\n",
              "      <td>5502</td>\n",
              "      <td>210731_0_11_stackRaw_mc_mix2_syt_result_202203...</td>\n",
              "      <td>0.645116</td>\n",
              "      <td>-0.240236</td>\n",
              "      <td>100.203429</td>\n",
              "      <td>0.016563</td>\n",
              "      <td>PRNS</td>\n",
              "      <td>...</td>\n",
              "      <td>0.0</td>\n",
              "      <td>0.000000e+00</td>\n",
              "      <td>0.0</td>\n",
              "      <td>0.0</td>\n",
              "      <td>0.0</td>\n",
              "      <td>5.697997e-20</td>\n",
              "      <td>0.0</td>\n",
              "      <td>0.0</td>\n",
              "      <td>0.0</td>\n",
              "      <td>0.000000e+00</td>\n",
              "    </tr>\n",
              "  </tbody>\n",
              "</table>\n",
              "<p>1634391 rows × 29 columns</p>\n",
              "</div>\n",
              "      <button class=\"colab-df-convert\" onclick=\"convertToInteractive('df-a437015f-8841-411b-9282-5762f61f3418')\"\n",
              "              title=\"Convert this dataframe to an interactive table.\"\n",
              "              style=\"display:none;\">\n",
              "        \n",
              "  <svg xmlns=\"http://www.w3.org/2000/svg\" height=\"24px\"viewBox=\"0 0 24 24\"\n",
              "       width=\"24px\">\n",
              "    <path d=\"M0 0h24v24H0V0z\" fill=\"none\"/>\n",
              "    <path d=\"M18.56 5.44l.94 2.06.94-2.06 2.06-.94-2.06-.94-.94-2.06-.94 2.06-2.06.94zm-11 1L8.5 8.5l.94-2.06 2.06-.94-2.06-.94L8.5 2.5l-.94 2.06-2.06.94zm10 10l.94 2.06.94-2.06 2.06-.94-2.06-.94-.94-2.06-.94 2.06-2.06.94z\"/><path d=\"M17.41 7.96l-1.37-1.37c-.4-.4-.92-.59-1.43-.59-.52 0-1.04.2-1.43.59L10.3 9.45l-7.72 7.72c-.78.78-.78 2.05 0 2.83L4 21.41c.39.39.9.59 1.41.59.51 0 1.02-.2 1.41-.59l7.78-7.78 2.81-2.81c.8-.78.8-2.07 0-2.86zM5.41 20L4 18.59l7.72-7.72 1.47 1.35L5.41 20z\"/>\n",
              "  </svg>\n",
              "      </button>\n",
              "      \n",
              "  <style>\n",
              "    .colab-df-container {\n",
              "      display:flex;\n",
              "      flex-wrap:wrap;\n",
              "      gap: 12px;\n",
              "    }\n",
              "\n",
              "    .colab-df-convert {\n",
              "      background-color: #E8F0FE;\n",
              "      border: none;\n",
              "      border-radius: 50%;\n",
              "      cursor: pointer;\n",
              "      display: none;\n",
              "      fill: #1967D2;\n",
              "      height: 32px;\n",
              "      padding: 0 0 0 0;\n",
              "      width: 32px;\n",
              "    }\n",
              "\n",
              "    .colab-df-convert:hover {\n",
              "      background-color: #E2EBFA;\n",
              "      box-shadow: 0px 1px 2px rgba(60, 64, 67, 0.3), 0px 1px 3px 1px rgba(60, 64, 67, 0.15);\n",
              "      fill: #174EA6;\n",
              "    }\n",
              "\n",
              "    [theme=dark] .colab-df-convert {\n",
              "      background-color: #3B4455;\n",
              "      fill: #D2E3FC;\n",
              "    }\n",
              "\n",
              "    [theme=dark] .colab-df-convert:hover {\n",
              "      background-color: #434B5C;\n",
              "      box-shadow: 0px 1px 3px 1px rgba(0, 0, 0, 0.15);\n",
              "      filter: drop-shadow(0px 1px 2px rgba(0, 0, 0, 0.3));\n",
              "      fill: #FFFFFF;\n",
              "    }\n",
              "  </style>\n",
              "\n",
              "      <script>\n",
              "        const buttonEl =\n",
              "          document.querySelector('#df-a437015f-8841-411b-9282-5762f61f3418 button.colab-df-convert');\n",
              "        buttonEl.style.display =\n",
              "          google.colab.kernel.accessAllowed ? 'block' : 'none';\n",
              "\n",
              "        async function convertToInteractive(key) {\n",
              "          const element = document.querySelector('#df-a437015f-8841-411b-9282-5762f61f3418');\n",
              "          const dataTable =\n",
              "            await google.colab.kernel.invokeFunction('convertToInteractive',\n",
              "                                                     [key], {});\n",
              "          if (!dataTable) return;\n",
              "\n",
              "          const docLinkHtml = 'Like what you see? Visit the ' +\n",
              "            '<a target=\"_blank\" href=https://colab.research.google.com/notebooks/data_table.ipynb>data table notebook</a>'\n",
              "            + ' to learn more about interactive tables.';\n",
              "          element.innerHTML = '';\n",
              "          dataTable['output_type'] = 'display_data';\n",
              "          await google.colab.output.renderOutput(dataTable, element);\n",
              "          const docLink = document.createElement('div');\n",
              "          docLink.innerHTML = docLinkHtml;\n",
              "          element.appendChild(docLink);\n",
              "        }\n",
              "      </script>\n",
              "    </div>\n",
              "  </div>\n",
              "  "
            ],
            "text/plain": [
              "       stack label roi frame  \\\n",
              "0          1   tm2   1     0   \n",
              "1          1   tm2   1     1   \n",
              "2          1   tm2   1     2   \n",
              "3          1   tm2   1     3   \n",
              "4          1   tm2   1     4   \n",
              "...      ...   ...  ..   ...   \n",
              "423726    11    t5   7  5498   \n",
              "423727    11    t5   7  5499   \n",
              "423728    11    t5   7  5500   \n",
              "423729    11    t5   7  5501   \n",
              "423730    11    t5   7  5502   \n",
              "\n",
              "                                                 filename      resp     stim1  \\\n",
              "0        210816_0_1_stackRaw_mc_result_20220304T112124.h5 -0.326919 -0.308124   \n",
              "1        210816_0_1_stackRaw_mc_result_20220304T112124.h5 -0.207673 -0.308124   \n",
              "2        210816_0_1_stackRaw_mc_result_20220304T112124.h5 -0.135514 -0.308124   \n",
              "3        210816_0_1_stackRaw_mc_result_20220304T112124.h5 -0.299841 -0.020208   \n",
              "4        210816_0_1_stackRaw_mc_result_20220304T112124.h5 -0.127388  0.267709   \n",
              "...                                                   ...       ...       ...   \n",
              "423726  210731_0_11_stackRaw_mc_mix2_syt_result_202203...  0.691645  0.202075   \n",
              "423727  210731_0_11_stackRaw_mc_mix2_syt_result_202203... -0.234363  0.203980   \n",
              "423728  210731_0_11_stackRaw_mc_mix2_syt_result_202203...  0.841037  0.201777   \n",
              "423729  210731_0_11_stackRaw_mc_mix2_syt_result_202203...  0.686215 -0.109233   \n",
              "423730  210731_0_11_stackRaw_mc_mix2_syt_result_202203...  0.645116 -0.240236   \n",
              "\n",
              "             stim2     stim3 relation_type_stim1  ...  \\\n",
              "0       -89.396360  0.136451                NRNS  ...   \n",
              "1         0.000000  0.000000                NRNS  ...   \n",
              "2         0.000000  0.000000                NRNS  ...   \n",
              "3       159.307519  0.018253                NRNS  ...   \n",
              "4       115.439141  0.071810                NRPS  ...   \n",
              "...            ...       ...                 ...  ...   \n",
              "423726   62.322086  0.038643                PRPS  ...   \n",
              "423727   87.566001  0.005355                NRPS  ...   \n",
              "423728  165.228125  0.005023                PRPS  ...   \n",
              "423729  156.838327  0.049430                PRNS  ...   \n",
              "423730  100.203429  0.016563                PRNS  ...   \n",
              "\n",
              "        relation_stim1_NRPS-PRNS  relation_stim1_NRPS-PRPS  \\\n",
              "0                            0.0              0.000000e+00   \n",
              "1                            0.0              0.000000e+00   \n",
              "2                            0.0              0.000000e+00   \n",
              "3                            0.0              0.000000e+00   \n",
              "4                            0.0              0.000000e+00   \n",
              "...                          ...                       ...   \n",
              "423726                       0.0              0.000000e+00   \n",
              "423727                       0.0              2.278630e-15   \n",
              "423728                       0.0              0.000000e+00   \n",
              "423729                       0.0              0.000000e+00   \n",
              "423730                       0.0              0.000000e+00   \n",
              "\n",
              "       relation_stim1_PRNS-NRNS  relation_stim1_PRNS-NRPS  \\\n",
              "0                           0.0                       0.0   \n",
              "1                           0.0                       0.0   \n",
              "2                           0.0                       0.0   \n",
              "3                           0.0                       0.0   \n",
              "4                           0.0                       0.0   \n",
              "...                         ...                       ...   \n",
              "423726                      0.0                       0.0   \n",
              "423727                      0.0                       0.0   \n",
              "423728                      0.0                       0.0   \n",
              "423729                      0.0                       0.0   \n",
              "423730                      0.0                       0.0   \n",
              "\n",
              "        relation_stim1_PRNS-PRNS  relation_stim1_PRNS-PRPS  \\\n",
              "0                            0.0              0.000000e+00   \n",
              "1                            0.0              0.000000e+00   \n",
              "2                            0.0              0.000000e+00   \n",
              "3                            0.0              0.000000e+00   \n",
              "4                            0.0              0.000000e+00   \n",
              "...                          ...                       ...   \n",
              "423726                       0.0              0.000000e+00   \n",
              "423727                       0.0              0.000000e+00   \n",
              "423728                       0.0              0.000000e+00   \n",
              "423729                       0.0              7.475436e-14   \n",
              "423730                       0.0              5.697997e-20   \n",
              "\n",
              "        relation_stim1_PRPS-NRNS  relation_stim1_PRPS-NRPS  \\\n",
              "0                            0.0                       0.0   \n",
              "1                            0.0                       0.0   \n",
              "2                            0.0                       0.0   \n",
              "3                            0.0                       0.0   \n",
              "4                            0.0                       0.0   \n",
              "...                          ...                       ...   \n",
              "423726                       0.0                       0.0   \n",
              "423727                       0.0                       0.0   \n",
              "423728                       0.0                       0.0   \n",
              "423729                       0.0                       0.0   \n",
              "423730                       0.0                       0.0   \n",
              "\n",
              "        relation_stim1_PRPS-PRNS  relation_stim1_PRPS-PRPS  \n",
              "0                            0.0              0.000000e+00  \n",
              "1                            0.0              0.000000e+00  \n",
              "2                            0.0              0.000000e+00  \n",
              "3                            0.0              0.000000e+00  \n",
              "4                            0.0              0.000000e+00  \n",
              "...                          ...                       ...  \n",
              "423726                       0.0              1.317648e-14  \n",
              "423727                       0.0              0.000000e+00  \n",
              "423728                       0.0              1.389093e-11  \n",
              "423729                       0.0              0.000000e+00  \n",
              "423730                       0.0              0.000000e+00  \n",
              "\n",
              "[1634391 rows x 29 columns]"
            ]
          },
          "metadata": {},
          "execution_count": 4
        }
      ]
    },
    {
      "cell_type": "code",
      "source": [
        "df_test"
      ],
      "metadata": {
        "colab": {
          "base_uri": "https://localhost:8080/",
          "height": 505
        },
        "id": "1CPdFZIxOFXa",
        "outputId": "863b580c-35f6-495f-d4ab-c34c5daf75b3"
      },
      "execution_count": 5,
      "outputs": [
        {
          "output_type": "execute_result",
          "data": {
            "text/html": [
              "\n",
              "  <div id=\"df-9a5f1be5-7ca3-4578-aeca-337d59c9303e\">\n",
              "    <div class=\"colab-df-container\">\n",
              "      <div>\n",
              "<style scoped>\n",
              "    .dataframe tbody tr th:only-of-type {\n",
              "        vertical-align: middle;\n",
              "    }\n",
              "\n",
              "    .dataframe tbody tr th {\n",
              "        vertical-align: top;\n",
              "    }\n",
              "\n",
              "    .dataframe thead th {\n",
              "        text-align: right;\n",
              "    }\n",
              "</style>\n",
              "<table border=\"1\" class=\"dataframe\">\n",
              "  <thead>\n",
              "    <tr style=\"text-align: right;\">\n",
              "      <th></th>\n",
              "      <th>stack</th>\n",
              "      <th>label</th>\n",
              "      <th>roi</th>\n",
              "      <th>frame</th>\n",
              "      <th>filename</th>\n",
              "      <th>resp</th>\n",
              "      <th>stim1</th>\n",
              "      <th>stim2</th>\n",
              "      <th>stim3</th>\n",
              "      <th>relation_type_stim1</th>\n",
              "      <th>...</th>\n",
              "      <th>relation_stim1_NRPS-PRNS</th>\n",
              "      <th>relation_stim1_NRPS-PRPS</th>\n",
              "      <th>relation_stim1_PRNS-NRNS</th>\n",
              "      <th>relation_stim1_PRNS-NRPS</th>\n",
              "      <th>relation_stim1_PRNS-PRNS</th>\n",
              "      <th>relation_stim1_PRNS-PRPS</th>\n",
              "      <th>relation_stim1_PRPS-NRNS</th>\n",
              "      <th>relation_stim1_PRPS-NRPS</th>\n",
              "      <th>relation_stim1_PRPS-PRNS</th>\n",
              "      <th>relation_stim1_PRPS-PRPS</th>\n",
              "    </tr>\n",
              "  </thead>\n",
              "  <tbody>\n",
              "    <tr>\n",
              "      <th>0</th>\n",
              "      <td>1</td>\n",
              "      <td>tm2</td>\n",
              "      <td>1</td>\n",
              "      <td>0</td>\n",
              "      <td>210815_0_1_stackRaw_mc_mix1_syt_result_2022021...</td>\n",
              "      <td>-0.106575</td>\n",
              "      <td>-0.395877</td>\n",
              "      <td>160.447960</td>\n",
              "      <td>0.110063</td>\n",
              "      <td>NRNS</td>\n",
              "      <td>...</td>\n",
              "      <td>0.0</td>\n",
              "      <td>0.0</td>\n",
              "      <td>0.0</td>\n",
              "      <td>0.0</td>\n",
              "      <td>0.0</td>\n",
              "      <td>0.000000e+00</td>\n",
              "      <td>0.0</td>\n",
              "      <td>0.0</td>\n",
              "      <td>0.000000e+00</td>\n",
              "      <td>0.000000e+00</td>\n",
              "    </tr>\n",
              "    <tr>\n",
              "      <th>1</th>\n",
              "      <td>1</td>\n",
              "      <td>tm2</td>\n",
              "      <td>1</td>\n",
              "      <td>1</td>\n",
              "      <td>210815_0_1_stackRaw_mc_mix1_syt_result_2022021...</td>\n",
              "      <td>0.244535</td>\n",
              "      <td>-0.395877</td>\n",
              "      <td>0.000000</td>\n",
              "      <td>0.000000</td>\n",
              "      <td>PRNS</td>\n",
              "      <td>...</td>\n",
              "      <td>0.0</td>\n",
              "      <td>0.0</td>\n",
              "      <td>0.0</td>\n",
              "      <td>0.0</td>\n",
              "      <td>0.0</td>\n",
              "      <td>2.417284e-17</td>\n",
              "      <td>0.0</td>\n",
              "      <td>0.0</td>\n",
              "      <td>0.000000e+00</td>\n",
              "      <td>0.000000e+00</td>\n",
              "    </tr>\n",
              "    <tr>\n",
              "      <th>2</th>\n",
              "      <td>1</td>\n",
              "      <td>tm2</td>\n",
              "      <td>1</td>\n",
              "      <td>2</td>\n",
              "      <td>210815_0_1_stackRaw_mc_mix1_syt_result_2022021...</td>\n",
              "      <td>0.398458</td>\n",
              "      <td>-0.395877</td>\n",
              "      <td>0.000000</td>\n",
              "      <td>0.000000</td>\n",
              "      <td>PRNS</td>\n",
              "      <td>...</td>\n",
              "      <td>0.0</td>\n",
              "      <td>0.0</td>\n",
              "      <td>0.0</td>\n",
              "      <td>0.0</td>\n",
              "      <td>0.0</td>\n",
              "      <td>2.833944e-14</td>\n",
              "      <td>0.0</td>\n",
              "      <td>0.0</td>\n",
              "      <td>0.000000e+00</td>\n",
              "      <td>0.000000e+00</td>\n",
              "    </tr>\n",
              "    <tr>\n",
              "      <th>3</th>\n",
              "      <td>1</td>\n",
              "      <td>tm2</td>\n",
              "      <td>1</td>\n",
              "      <td>3</td>\n",
              "      <td>210815_0_1_stackRaw_mc_mix1_syt_result_2022021...</td>\n",
              "      <td>0.619290</td>\n",
              "      <td>-0.138699</td>\n",
              "      <td>170.252676</td>\n",
              "      <td>0.030790</td>\n",
              "      <td>PRNS</td>\n",
              "      <td>...</td>\n",
              "      <td>0.0</td>\n",
              "      <td>0.0</td>\n",
              "      <td>0.0</td>\n",
              "      <td>0.0</td>\n",
              "      <td>0.0</td>\n",
              "      <td>7.960630e-16</td>\n",
              "      <td>0.0</td>\n",
              "      <td>0.0</td>\n",
              "      <td>0.000000e+00</td>\n",
              "      <td>0.000000e+00</td>\n",
              "    </tr>\n",
              "    <tr>\n",
              "      <th>4</th>\n",
              "      <td>1</td>\n",
              "      <td>tm2</td>\n",
              "      <td>1</td>\n",
              "      <td>4</td>\n",
              "      <td>210815_0_1_stackRaw_mc_mix1_syt_result_2022021...</td>\n",
              "      <td>0.627615</td>\n",
              "      <td>0.890013</td>\n",
              "      <td>-62.485104</td>\n",
              "      <td>0.122134</td>\n",
              "      <td>PRPS</td>\n",
              "      <td>...</td>\n",
              "      <td>0.0</td>\n",
              "      <td>0.0</td>\n",
              "      <td>0.0</td>\n",
              "      <td>0.0</td>\n",
              "      <td>0.0</td>\n",
              "      <td>0.000000e+00</td>\n",
              "      <td>0.0</td>\n",
              "      <td>0.0</td>\n",
              "      <td>0.000000e+00</td>\n",
              "      <td>9.590115e-13</td>\n",
              "    </tr>\n",
              "    <tr>\n",
              "      <th>...</th>\n",
              "      <td>...</td>\n",
              "      <td>...</td>\n",
              "      <td>...</td>\n",
              "      <td>...</td>\n",
              "      <td>...</td>\n",
              "      <td>...</td>\n",
              "      <td>...</td>\n",
              "      <td>...</td>\n",
              "      <td>...</td>\n",
              "      <td>...</td>\n",
              "      <td>...</td>\n",
              "      <td>...</td>\n",
              "      <td>...</td>\n",
              "      <td>...</td>\n",
              "      <td>...</td>\n",
              "      <td>...</td>\n",
              "      <td>...</td>\n",
              "      <td>...</td>\n",
              "      <td>...</td>\n",
              "      <td>...</td>\n",
              "      <td>...</td>\n",
              "    </tr>\n",
              "    <tr>\n",
              "      <th>594319</th>\n",
              "      <td>9</td>\n",
              "      <td>tm4</td>\n",
              "      <td>12</td>\n",
              "      <td>5498</td>\n",
              "      <td>210728_0_9_stackRaw_mc_tm2_tm9_syt_result_2022...</td>\n",
              "      <td>0.304771</td>\n",
              "      <td>0.482281</td>\n",
              "      <td>-124.617985</td>\n",
              "      <td>0.029550</td>\n",
              "      <td>PRPS</td>\n",
              "      <td>...</td>\n",
              "      <td>0.0</td>\n",
              "      <td>0.0</td>\n",
              "      <td>0.0</td>\n",
              "      <td>0.0</td>\n",
              "      <td>0.0</td>\n",
              "      <td>0.000000e+00</td>\n",
              "      <td>0.0</td>\n",
              "      <td>0.0</td>\n",
              "      <td>2.422112e-13</td>\n",
              "      <td>0.000000e+00</td>\n",
              "    </tr>\n",
              "    <tr>\n",
              "      <th>594320</th>\n",
              "      <td>9</td>\n",
              "      <td>tm4</td>\n",
              "      <td>12</td>\n",
              "      <td>5499</td>\n",
              "      <td>210728_0_9_stackRaw_mc_tm2_tm9_syt_result_2022...</td>\n",
              "      <td>0.572298</td>\n",
              "      <td>0.613607</td>\n",
              "      <td>-3.163166</td>\n",
              "      <td>0.001918</td>\n",
              "      <td>PRPS</td>\n",
              "      <td>...</td>\n",
              "      <td>0.0</td>\n",
              "      <td>0.0</td>\n",
              "      <td>0.0</td>\n",
              "      <td>0.0</td>\n",
              "      <td>0.0</td>\n",
              "      <td>0.000000e+00</td>\n",
              "      <td>0.0</td>\n",
              "      <td>0.0</td>\n",
              "      <td>0.000000e+00</td>\n",
              "      <td>3.816035e-14</td>\n",
              "    </tr>\n",
              "    <tr>\n",
              "      <th>594321</th>\n",
              "      <td>9</td>\n",
              "      <td>tm4</td>\n",
              "      <td>12</td>\n",
              "      <td>5500</td>\n",
              "      <td>210728_0_9_stackRaw_mc_tm2_tm9_syt_result_2022...</td>\n",
              "      <td>0.460452</td>\n",
              "      <td>0.332815</td>\n",
              "      <td>-95.416102</td>\n",
              "      <td>0.015904</td>\n",
              "      <td>PRPS</td>\n",
              "      <td>...</td>\n",
              "      <td>0.0</td>\n",
              "      <td>0.0</td>\n",
              "      <td>0.0</td>\n",
              "      <td>0.0</td>\n",
              "      <td>0.0</td>\n",
              "      <td>0.000000e+00</td>\n",
              "      <td>0.0</td>\n",
              "      <td>0.0</td>\n",
              "      <td>0.000000e+00</td>\n",
              "      <td>1.917126e-17</td>\n",
              "    </tr>\n",
              "    <tr>\n",
              "      <th>594322</th>\n",
              "      <td>9</td>\n",
              "      <td>tm4</td>\n",
              "      <td>12</td>\n",
              "      <td>5501</td>\n",
              "      <td>210728_0_9_stackRaw_mc_tm2_tm9_syt_result_2022...</td>\n",
              "      <td>0.626407</td>\n",
              "      <td>0.016469</td>\n",
              "      <td>136.837402</td>\n",
              "      <td>0.043392</td>\n",
              "      <td>PRPS</td>\n",
              "      <td>...</td>\n",
              "      <td>0.0</td>\n",
              "      <td>0.0</td>\n",
              "      <td>0.0</td>\n",
              "      <td>0.0</td>\n",
              "      <td>0.0</td>\n",
              "      <td>0.000000e+00</td>\n",
              "      <td>0.0</td>\n",
              "      <td>0.0</td>\n",
              "      <td>6.448637e-20</td>\n",
              "      <td>0.000000e+00</td>\n",
              "    </tr>\n",
              "    <tr>\n",
              "      <th>594323</th>\n",
              "      <td>9</td>\n",
              "      <td>tm4</td>\n",
              "      <td>12</td>\n",
              "      <td>5502</td>\n",
              "      <td>210728_0_9_stackRaw_mc_tm2_tm9_syt_result_2022...</td>\n",
              "      <td>0.248872</td>\n",
              "      <td>-0.093116</td>\n",
              "      <td>85.455630</td>\n",
              "      <td>0.017548</td>\n",
              "      <td>PRNS</td>\n",
              "      <td>...</td>\n",
              "      <td>0.0</td>\n",
              "      <td>0.0</td>\n",
              "      <td>0.0</td>\n",
              "      <td>0.0</td>\n",
              "      <td>0.0</td>\n",
              "      <td>1.695226e-19</td>\n",
              "      <td>0.0</td>\n",
              "      <td>0.0</td>\n",
              "      <td>0.000000e+00</td>\n",
              "      <td>0.000000e+00</td>\n",
              "    </tr>\n",
              "  </tbody>\n",
              "</table>\n",
              "<p>1414271 rows × 29 columns</p>\n",
              "</div>\n",
              "      <button class=\"colab-df-convert\" onclick=\"convertToInteractive('df-9a5f1be5-7ca3-4578-aeca-337d59c9303e')\"\n",
              "              title=\"Convert this dataframe to an interactive table.\"\n",
              "              style=\"display:none;\">\n",
              "        \n",
              "  <svg xmlns=\"http://www.w3.org/2000/svg\" height=\"24px\"viewBox=\"0 0 24 24\"\n",
              "       width=\"24px\">\n",
              "    <path d=\"M0 0h24v24H0V0z\" fill=\"none\"/>\n",
              "    <path d=\"M18.56 5.44l.94 2.06.94-2.06 2.06-.94-2.06-.94-.94-2.06-.94 2.06-2.06.94zm-11 1L8.5 8.5l.94-2.06 2.06-.94-2.06-.94L8.5 2.5l-.94 2.06-2.06.94zm10 10l.94 2.06.94-2.06 2.06-.94-2.06-.94-.94-2.06-.94 2.06-2.06.94z\"/><path d=\"M17.41 7.96l-1.37-1.37c-.4-.4-.92-.59-1.43-.59-.52 0-1.04.2-1.43.59L10.3 9.45l-7.72 7.72c-.78.78-.78 2.05 0 2.83L4 21.41c.39.39.9.59 1.41.59.51 0 1.02-.2 1.41-.59l7.78-7.78 2.81-2.81c.8-.78.8-2.07 0-2.86zM5.41 20L4 18.59l7.72-7.72 1.47 1.35L5.41 20z\"/>\n",
              "  </svg>\n",
              "      </button>\n",
              "      \n",
              "  <style>\n",
              "    .colab-df-container {\n",
              "      display:flex;\n",
              "      flex-wrap:wrap;\n",
              "      gap: 12px;\n",
              "    }\n",
              "\n",
              "    .colab-df-convert {\n",
              "      background-color: #E8F0FE;\n",
              "      border: none;\n",
              "      border-radius: 50%;\n",
              "      cursor: pointer;\n",
              "      display: none;\n",
              "      fill: #1967D2;\n",
              "      height: 32px;\n",
              "      padding: 0 0 0 0;\n",
              "      width: 32px;\n",
              "    }\n",
              "\n",
              "    .colab-df-convert:hover {\n",
              "      background-color: #E2EBFA;\n",
              "      box-shadow: 0px 1px 2px rgba(60, 64, 67, 0.3), 0px 1px 3px 1px rgba(60, 64, 67, 0.15);\n",
              "      fill: #174EA6;\n",
              "    }\n",
              "\n",
              "    [theme=dark] .colab-df-convert {\n",
              "      background-color: #3B4455;\n",
              "      fill: #D2E3FC;\n",
              "    }\n",
              "\n",
              "    [theme=dark] .colab-df-convert:hover {\n",
              "      background-color: #434B5C;\n",
              "      box-shadow: 0px 1px 3px 1px rgba(0, 0, 0, 0.15);\n",
              "      filter: drop-shadow(0px 1px 2px rgba(0, 0, 0, 0.3));\n",
              "      fill: #FFFFFF;\n",
              "    }\n",
              "  </style>\n",
              "\n",
              "      <script>\n",
              "        const buttonEl =\n",
              "          document.querySelector('#df-9a5f1be5-7ca3-4578-aeca-337d59c9303e button.colab-df-convert');\n",
              "        buttonEl.style.display =\n",
              "          google.colab.kernel.accessAllowed ? 'block' : 'none';\n",
              "\n",
              "        async function convertToInteractive(key) {\n",
              "          const element = document.querySelector('#df-9a5f1be5-7ca3-4578-aeca-337d59c9303e');\n",
              "          const dataTable =\n",
              "            await google.colab.kernel.invokeFunction('convertToInteractive',\n",
              "                                                     [key], {});\n",
              "          if (!dataTable) return;\n",
              "\n",
              "          const docLinkHtml = 'Like what you see? Visit the ' +\n",
              "            '<a target=\"_blank\" href=https://colab.research.google.com/notebooks/data_table.ipynb>data table notebook</a>'\n",
              "            + ' to learn more about interactive tables.';\n",
              "          element.innerHTML = '';\n",
              "          dataTable['output_type'] = 'display_data';\n",
              "          await google.colab.output.renderOutput(dataTable, element);\n",
              "          const docLink = document.createElement('div');\n",
              "          docLink.innerHTML = docLinkHtml;\n",
              "          element.appendChild(docLink);\n",
              "        }\n",
              "      </script>\n",
              "    </div>\n",
              "  </div>\n",
              "  "
            ],
            "text/plain": [
              "       stack label roi frame  \\\n",
              "0          1   tm2   1     0   \n",
              "1          1   tm2   1     1   \n",
              "2          1   tm2   1     2   \n",
              "3          1   tm2   1     3   \n",
              "4          1   tm2   1     4   \n",
              "...      ...   ...  ..   ...   \n",
              "594319     9   tm4  12  5498   \n",
              "594320     9   tm4  12  5499   \n",
              "594321     9   tm4  12  5500   \n",
              "594322     9   tm4  12  5501   \n",
              "594323     9   tm4  12  5502   \n",
              "\n",
              "                                                 filename      resp     stim1  \\\n",
              "0       210815_0_1_stackRaw_mc_mix1_syt_result_2022021... -0.106575 -0.395877   \n",
              "1       210815_0_1_stackRaw_mc_mix1_syt_result_2022021...  0.244535 -0.395877   \n",
              "2       210815_0_1_stackRaw_mc_mix1_syt_result_2022021...  0.398458 -0.395877   \n",
              "3       210815_0_1_stackRaw_mc_mix1_syt_result_2022021...  0.619290 -0.138699   \n",
              "4       210815_0_1_stackRaw_mc_mix1_syt_result_2022021...  0.627615  0.890013   \n",
              "...                                                   ...       ...       ...   \n",
              "594319  210728_0_9_stackRaw_mc_tm2_tm9_syt_result_2022...  0.304771  0.482281   \n",
              "594320  210728_0_9_stackRaw_mc_tm2_tm9_syt_result_2022...  0.572298  0.613607   \n",
              "594321  210728_0_9_stackRaw_mc_tm2_tm9_syt_result_2022...  0.460452  0.332815   \n",
              "594322  210728_0_9_stackRaw_mc_tm2_tm9_syt_result_2022...  0.626407  0.016469   \n",
              "594323  210728_0_9_stackRaw_mc_tm2_tm9_syt_result_2022...  0.248872 -0.093116   \n",
              "\n",
              "             stim2     stim3 relation_type_stim1  ...  \\\n",
              "0       160.447960  0.110063                NRNS  ...   \n",
              "1         0.000000  0.000000                PRNS  ...   \n",
              "2         0.000000  0.000000                PRNS  ...   \n",
              "3       170.252676  0.030790                PRNS  ...   \n",
              "4       -62.485104  0.122134                PRPS  ...   \n",
              "...            ...       ...                 ...  ...   \n",
              "594319 -124.617985  0.029550                PRPS  ...   \n",
              "594320   -3.163166  0.001918                PRPS  ...   \n",
              "594321  -95.416102  0.015904                PRPS  ...   \n",
              "594322  136.837402  0.043392                PRPS  ...   \n",
              "594323   85.455630  0.017548                PRNS  ...   \n",
              "\n",
              "        relation_stim1_NRPS-PRNS  relation_stim1_NRPS-PRPS  \\\n",
              "0                            0.0                       0.0   \n",
              "1                            0.0                       0.0   \n",
              "2                            0.0                       0.0   \n",
              "3                            0.0                       0.0   \n",
              "4                            0.0                       0.0   \n",
              "...                          ...                       ...   \n",
              "594319                       0.0                       0.0   \n",
              "594320                       0.0                       0.0   \n",
              "594321                       0.0                       0.0   \n",
              "594322                       0.0                       0.0   \n",
              "594323                       0.0                       0.0   \n",
              "\n",
              "       relation_stim1_PRNS-NRNS  relation_stim1_PRNS-NRPS  \\\n",
              "0                           0.0                       0.0   \n",
              "1                           0.0                       0.0   \n",
              "2                           0.0                       0.0   \n",
              "3                           0.0                       0.0   \n",
              "4                           0.0                       0.0   \n",
              "...                         ...                       ...   \n",
              "594319                      0.0                       0.0   \n",
              "594320                      0.0                       0.0   \n",
              "594321                      0.0                       0.0   \n",
              "594322                      0.0                       0.0   \n",
              "594323                      0.0                       0.0   \n",
              "\n",
              "        relation_stim1_PRNS-PRNS  relation_stim1_PRNS-PRPS  \\\n",
              "0                            0.0              0.000000e+00   \n",
              "1                            0.0              2.417284e-17   \n",
              "2                            0.0              2.833944e-14   \n",
              "3                            0.0              7.960630e-16   \n",
              "4                            0.0              0.000000e+00   \n",
              "...                          ...                       ...   \n",
              "594319                       0.0              0.000000e+00   \n",
              "594320                       0.0              0.000000e+00   \n",
              "594321                       0.0              0.000000e+00   \n",
              "594322                       0.0              0.000000e+00   \n",
              "594323                       0.0              1.695226e-19   \n",
              "\n",
              "        relation_stim1_PRPS-NRNS  relation_stim1_PRPS-NRPS  \\\n",
              "0                            0.0                       0.0   \n",
              "1                            0.0                       0.0   \n",
              "2                            0.0                       0.0   \n",
              "3                            0.0                       0.0   \n",
              "4                            0.0                       0.0   \n",
              "...                          ...                       ...   \n",
              "594319                       0.0                       0.0   \n",
              "594320                       0.0                       0.0   \n",
              "594321                       0.0                       0.0   \n",
              "594322                       0.0                       0.0   \n",
              "594323                       0.0                       0.0   \n",
              "\n",
              "        relation_stim1_PRPS-PRNS  relation_stim1_PRPS-PRPS  \n",
              "0                   0.000000e+00              0.000000e+00  \n",
              "1                   0.000000e+00              0.000000e+00  \n",
              "2                   0.000000e+00              0.000000e+00  \n",
              "3                   0.000000e+00              0.000000e+00  \n",
              "4                   0.000000e+00              9.590115e-13  \n",
              "...                          ...                       ...  \n",
              "594319              2.422112e-13              0.000000e+00  \n",
              "594320              0.000000e+00              3.816035e-14  \n",
              "594321              0.000000e+00              1.917126e-17  \n",
              "594322              6.448637e-20              0.000000e+00  \n",
              "594323              0.000000e+00              0.000000e+00  \n",
              "\n",
              "[1414271 rows x 29 columns]"
            ]
          },
          "metadata": {},
          "execution_count": 5
        }
      ]
    },
    {
      "cell_type": "code",
      "source": [
        "#reading in the four files that have our data with different time windows for the stim1 features\n",
        "df5 = pd.read_csv('/content/drive/MyDrive/DS6011_Capstone_VisualNeuroscience/Seeded_CNMF/Extracted_Features/210815_0_20220213T070259_sparse_stim1_5f.csv').drop_duplicates()\n",
        "df10 = pd.read_csv('/content/drive/MyDrive/DS6011_Capstone_VisualNeuroscience/Seeded_CNMF/Extracted_Features/210815_0_20220213T070259_sparse_stim1_10f.csv').drop_duplicates()\n",
        "df15 = pd.read_csv('/content/drive/MyDrive/DS6011_Capstone_VisualNeuroscience/Seeded_CNMF/Extracted_Features/210815_0_20220213T070259_sparse_stim1_15f.csv').drop_duplicates()\n",
        "df20 = pd.read_csv('/content/drive/MyDrive/DS6011_Capstone_VisualNeuroscience/Seeded_CNMF/Extracted_Features/210815_0_20220213T070259_sparse_stim1_20f.csv').drop_duplicates()\n"
      ],
      "metadata": {
        "id": "BQhi6UMuqByr"
      },
      "execution_count": 6,
      "outputs": []
    },
    {
      "cell_type": "code",
      "source": [
        "#add a unique roi id to each table\n",
        "df_list = [df5, df10, df15, df20]\n",
        "for df in df_list:\n",
        "  df['roi_ID'] = df['stack'].astype(str) + '_' + df['roi'].astype(str)\n",
        "df5.head()"
      ],
      "metadata": {
        "colab": {
          "base_uri": "https://localhost:8080/",
          "height": 317
        },
        "id": "4oeR-rJv43MN",
        "outputId": "db2e2072-16d8-442b-ac57-49ab23f962fb"
      },
      "execution_count": 7,
      "outputs": [
        {
          "output_type": "execute_result",
          "data": {
            "text/html": [
              "\n",
              "  <div id=\"df-2a48b4ce-1e9f-4fba-81fb-fd1894090698\">\n",
              "    <div class=\"colab-df-container\">\n",
              "      <div>\n",
              "<style scoped>\n",
              "    .dataframe tbody tr th:only-of-type {\n",
              "        vertical-align: middle;\n",
              "    }\n",
              "\n",
              "    .dataframe tbody tr th {\n",
              "        vertical-align: top;\n",
              "    }\n",
              "\n",
              "    .dataframe thead th {\n",
              "        text-align: right;\n",
              "    }\n",
              "</style>\n",
              "<table border=\"1\" class=\"dataframe\">\n",
              "  <thead>\n",
              "    <tr style=\"text-align: right;\">\n",
              "      <th></th>\n",
              "      <th>stack</th>\n",
              "      <th>label</th>\n",
              "      <th>roi</th>\n",
              "      <th>frame</th>\n",
              "      <th>filename</th>\n",
              "      <th>resp</th>\n",
              "      <th>stim1</th>\n",
              "      <th>stim2</th>\n",
              "      <th>stim3</th>\n",
              "      <th>direction_quadrant_1</th>\n",
              "      <th>...</th>\n",
              "      <th>relation_stim1_NRPS-PRPS</th>\n",
              "      <th>relation_stim1_PRNS-NRNS</th>\n",
              "      <th>relation_stim1_PRNS-NRPS</th>\n",
              "      <th>relation_stim1_PRNS-PRNS</th>\n",
              "      <th>relation_stim1_PRNS-PRPS</th>\n",
              "      <th>relation_stim1_PRPS-NRNS</th>\n",
              "      <th>relation_stim1_PRPS-NRPS</th>\n",
              "      <th>relation_stim1_PRPS-PRNS</th>\n",
              "      <th>relation_stim1_PRPS-PRPS</th>\n",
              "      <th>roi_ID</th>\n",
              "    </tr>\n",
              "  </thead>\n",
              "  <tbody>\n",
              "    <tr>\n",
              "      <th>0</th>\n",
              "      <td>1</td>\n",
              "      <td>tm2</td>\n",
              "      <td>1</td>\n",
              "      <td>0</td>\n",
              "      <td>210815_0_1_stackRaw_mc_mix1_syt_result_2022021...</td>\n",
              "      <td>-0.106575</td>\n",
              "      <td>-0.395877</td>\n",
              "      <td>160.447960</td>\n",
              "      <td>0.110063</td>\n",
              "      <td>0</td>\n",
              "      <td>...</td>\n",
              "      <td>0.0</td>\n",
              "      <td>0.0</td>\n",
              "      <td>0.0</td>\n",
              "      <td>0.000000</td>\n",
              "      <td>0.000000</td>\n",
              "      <td>0.0</td>\n",
              "      <td>0.0</td>\n",
              "      <td>0.00000</td>\n",
              "      <td>0.0</td>\n",
              "      <td>1_1</td>\n",
              "    </tr>\n",
              "    <tr>\n",
              "      <th>1</th>\n",
              "      <td>1</td>\n",
              "      <td>tm2</td>\n",
              "      <td>1</td>\n",
              "      <td>1</td>\n",
              "      <td>210815_0_1_stackRaw_mc_mix1_syt_result_2022021...</td>\n",
              "      <td>0.244535</td>\n",
              "      <td>-0.395877</td>\n",
              "      <td>0.000000</td>\n",
              "      <td>0.000000</td>\n",
              "      <td>0</td>\n",
              "      <td>...</td>\n",
              "      <td>0.0</td>\n",
              "      <td>0.0</td>\n",
              "      <td>0.0</td>\n",
              "      <td>0.000000</td>\n",
              "      <td>0.001845</td>\n",
              "      <td>0.0</td>\n",
              "      <td>0.0</td>\n",
              "      <td>0.00000</td>\n",
              "      <td>0.0</td>\n",
              "      <td>1_1</td>\n",
              "    </tr>\n",
              "    <tr>\n",
              "      <th>2</th>\n",
              "      <td>1</td>\n",
              "      <td>tm2</td>\n",
              "      <td>1</td>\n",
              "      <td>2</td>\n",
              "      <td>210815_0_1_stackRaw_mc_mix1_syt_result_2022021...</td>\n",
              "      <td>0.398458</td>\n",
              "      <td>-0.395877</td>\n",
              "      <td>0.000000</td>\n",
              "      <td>0.000000</td>\n",
              "      <td>0</td>\n",
              "      <td>...</td>\n",
              "      <td>0.0</td>\n",
              "      <td>0.0</td>\n",
              "      <td>0.0</td>\n",
              "      <td>0.000000</td>\n",
              "      <td>0.001583</td>\n",
              "      <td>0.0</td>\n",
              "      <td>0.0</td>\n",
              "      <td>0.00000</td>\n",
              "      <td>0.0</td>\n",
              "      <td>1_1</td>\n",
              "    </tr>\n",
              "    <tr>\n",
              "      <th>3</th>\n",
              "      <td>1</td>\n",
              "      <td>tm2</td>\n",
              "      <td>1</td>\n",
              "      <td>3</td>\n",
              "      <td>210815_0_1_stackRaw_mc_mix1_syt_result_2022021...</td>\n",
              "      <td>0.619290</td>\n",
              "      <td>-0.138699</td>\n",
              "      <td>170.252676</td>\n",
              "      <td>0.030790</td>\n",
              "      <td>0</td>\n",
              "      <td>...</td>\n",
              "      <td>0.0</td>\n",
              "      <td>0.0</td>\n",
              "      <td>0.0</td>\n",
              "      <td>0.000007</td>\n",
              "      <td>0.000000</td>\n",
              "      <td>0.0</td>\n",
              "      <td>0.0</td>\n",
              "      <td>0.00000</td>\n",
              "      <td>0.0</td>\n",
              "      <td>1_1</td>\n",
              "    </tr>\n",
              "    <tr>\n",
              "      <th>4</th>\n",
              "      <td>1</td>\n",
              "      <td>tm2</td>\n",
              "      <td>1</td>\n",
              "      <td>4</td>\n",
              "      <td>210815_0_1_stackRaw_mc_mix1_syt_result_2022021...</td>\n",
              "      <td>0.627615</td>\n",
              "      <td>0.890013</td>\n",
              "      <td>-62.485104</td>\n",
              "      <td>0.122134</td>\n",
              "      <td>0</td>\n",
              "      <td>...</td>\n",
              "      <td>0.0</td>\n",
              "      <td>0.0</td>\n",
              "      <td>0.0</td>\n",
              "      <td>0.000000</td>\n",
              "      <td>0.000000</td>\n",
              "      <td>0.0</td>\n",
              "      <td>0.0</td>\n",
              "      <td>0.00004</td>\n",
              "      <td>0.0</td>\n",
              "      <td>1_1</td>\n",
              "    </tr>\n",
              "  </tbody>\n",
              "</table>\n",
              "<p>5 rows × 34 columns</p>\n",
              "</div>\n",
              "      <button class=\"colab-df-convert\" onclick=\"convertToInteractive('df-2a48b4ce-1e9f-4fba-81fb-fd1894090698')\"\n",
              "              title=\"Convert this dataframe to an interactive table.\"\n",
              "              style=\"display:none;\">\n",
              "        \n",
              "  <svg xmlns=\"http://www.w3.org/2000/svg\" height=\"24px\"viewBox=\"0 0 24 24\"\n",
              "       width=\"24px\">\n",
              "    <path d=\"M0 0h24v24H0V0z\" fill=\"none\"/>\n",
              "    <path d=\"M18.56 5.44l.94 2.06.94-2.06 2.06-.94-2.06-.94-.94-2.06-.94 2.06-2.06.94zm-11 1L8.5 8.5l.94-2.06 2.06-.94-2.06-.94L8.5 2.5l-.94 2.06-2.06.94zm10 10l.94 2.06.94-2.06 2.06-.94-2.06-.94-.94-2.06-.94 2.06-2.06.94z\"/><path d=\"M17.41 7.96l-1.37-1.37c-.4-.4-.92-.59-1.43-.59-.52 0-1.04.2-1.43.59L10.3 9.45l-7.72 7.72c-.78.78-.78 2.05 0 2.83L4 21.41c.39.39.9.59 1.41.59.51 0 1.02-.2 1.41-.59l7.78-7.78 2.81-2.81c.8-.78.8-2.07 0-2.86zM5.41 20L4 18.59l7.72-7.72 1.47 1.35L5.41 20z\"/>\n",
              "  </svg>\n",
              "      </button>\n",
              "      \n",
              "  <style>\n",
              "    .colab-df-container {\n",
              "      display:flex;\n",
              "      flex-wrap:wrap;\n",
              "      gap: 12px;\n",
              "    }\n",
              "\n",
              "    .colab-df-convert {\n",
              "      background-color: #E8F0FE;\n",
              "      border: none;\n",
              "      border-radius: 50%;\n",
              "      cursor: pointer;\n",
              "      display: none;\n",
              "      fill: #1967D2;\n",
              "      height: 32px;\n",
              "      padding: 0 0 0 0;\n",
              "      width: 32px;\n",
              "    }\n",
              "\n",
              "    .colab-df-convert:hover {\n",
              "      background-color: #E2EBFA;\n",
              "      box-shadow: 0px 1px 2px rgba(60, 64, 67, 0.3), 0px 1px 3px 1px rgba(60, 64, 67, 0.15);\n",
              "      fill: #174EA6;\n",
              "    }\n",
              "\n",
              "    [theme=dark] .colab-df-convert {\n",
              "      background-color: #3B4455;\n",
              "      fill: #D2E3FC;\n",
              "    }\n",
              "\n",
              "    [theme=dark] .colab-df-convert:hover {\n",
              "      background-color: #434B5C;\n",
              "      box-shadow: 0px 1px 3px 1px rgba(0, 0, 0, 0.15);\n",
              "      filter: drop-shadow(0px 1px 2px rgba(0, 0, 0, 0.3));\n",
              "      fill: #FFFFFF;\n",
              "    }\n",
              "  </style>\n",
              "\n",
              "      <script>\n",
              "        const buttonEl =\n",
              "          document.querySelector('#df-2a48b4ce-1e9f-4fba-81fb-fd1894090698 button.colab-df-convert');\n",
              "        buttonEl.style.display =\n",
              "          google.colab.kernel.accessAllowed ? 'block' : 'none';\n",
              "\n",
              "        async function convertToInteractive(key) {\n",
              "          const element = document.querySelector('#df-2a48b4ce-1e9f-4fba-81fb-fd1894090698');\n",
              "          const dataTable =\n",
              "            await google.colab.kernel.invokeFunction('convertToInteractive',\n",
              "                                                     [key], {});\n",
              "          if (!dataTable) return;\n",
              "\n",
              "          const docLinkHtml = 'Like what you see? Visit the ' +\n",
              "            '<a target=\"_blank\" href=https://colab.research.google.com/notebooks/data_table.ipynb>data table notebook</a>'\n",
              "            + ' to learn more about interactive tables.';\n",
              "          element.innerHTML = '';\n",
              "          dataTable['output_type'] = 'display_data';\n",
              "          await google.colab.output.renderOutput(dataTable, element);\n",
              "          const docLink = document.createElement('div');\n",
              "          docLink.innerHTML = docLinkHtml;\n",
              "          element.appendChild(docLink);\n",
              "        }\n",
              "      </script>\n",
              "    </div>\n",
              "  </div>\n",
              "  "
            ],
            "text/plain": [
              "   stack label  roi  frame                                           filename  \\\n",
              "0      1   tm2    1      0  210815_0_1_stackRaw_mc_mix1_syt_result_2022021...   \n",
              "1      1   tm2    1      1  210815_0_1_stackRaw_mc_mix1_syt_result_2022021...   \n",
              "2      1   tm2    1      2  210815_0_1_stackRaw_mc_mix1_syt_result_2022021...   \n",
              "3      1   tm2    1      3  210815_0_1_stackRaw_mc_mix1_syt_result_2022021...   \n",
              "4      1   tm2    1      4  210815_0_1_stackRaw_mc_mix1_syt_result_2022021...   \n",
              "\n",
              "       resp     stim1       stim2     stim3  direction_quadrant_1  ...  \\\n",
              "0 -0.106575 -0.395877  160.447960  0.110063                     0  ...   \n",
              "1  0.244535 -0.395877    0.000000  0.000000                     0  ...   \n",
              "2  0.398458 -0.395877    0.000000  0.000000                     0  ...   \n",
              "3  0.619290 -0.138699  170.252676  0.030790                     0  ...   \n",
              "4  0.627615  0.890013  -62.485104  0.122134                     0  ...   \n",
              "\n",
              "   relation_stim1_NRPS-PRPS  relation_stim1_PRNS-NRNS  \\\n",
              "0                       0.0                       0.0   \n",
              "1                       0.0                       0.0   \n",
              "2                       0.0                       0.0   \n",
              "3                       0.0                       0.0   \n",
              "4                       0.0                       0.0   \n",
              "\n",
              "   relation_stim1_PRNS-NRPS relation_stim1_PRNS-PRNS  \\\n",
              "0                       0.0                 0.000000   \n",
              "1                       0.0                 0.000000   \n",
              "2                       0.0                 0.000000   \n",
              "3                       0.0                 0.000007   \n",
              "4                       0.0                 0.000000   \n",
              "\n",
              "   relation_stim1_PRNS-PRPS  relation_stim1_PRPS-NRNS  \\\n",
              "0                  0.000000                       0.0   \n",
              "1                  0.001845                       0.0   \n",
              "2                  0.001583                       0.0   \n",
              "3                  0.000000                       0.0   \n",
              "4                  0.000000                       0.0   \n",
              "\n",
              "  relation_stim1_PRPS-NRPS  relation_stim1_PRPS-PRNS  \\\n",
              "0                      0.0                   0.00000   \n",
              "1                      0.0                   0.00000   \n",
              "2                      0.0                   0.00000   \n",
              "3                      0.0                   0.00000   \n",
              "4                      0.0                   0.00004   \n",
              "\n",
              "   relation_stim1_PRPS-PRPS  roi_ID  \n",
              "0                       0.0     1_1  \n",
              "1                       0.0     1_1  \n",
              "2                       0.0     1_1  \n",
              "3                       0.0     1_1  \n",
              "4                       0.0     1_1  \n",
              "\n",
              "[5 rows x 34 columns]"
            ]
          },
          "metadata": {},
          "execution_count": 7
        }
      ]
    },
    {
      "cell_type": "code",
      "source": [
        "#check the col indices holding the stim1 features\n",
        "df5.columns[17:33]"
      ],
      "metadata": {
        "colab": {
          "base_uri": "https://localhost:8080/"
        },
        "id": "jSECf5LvMdlW",
        "outputId": "0419d868-f113-48ff-e271-c2065dab2111"
      },
      "execution_count": 8,
      "outputs": [
        {
          "output_type": "execute_result",
          "data": {
            "text/plain": [
              "Index(['relation_stim1_NRNS-NRNS', 'relation_stim1_NRNS-NRPS',\n",
              "       'relation_stim1_NRNS-PRNS', 'relation_stim1_NRNS-PRPS',\n",
              "       'relation_stim1_NRPS-NRNS', 'relation_stim1_NRPS-NRPS',\n",
              "       'relation_stim1_NRPS-PRNS', 'relation_stim1_NRPS-PRPS',\n",
              "       'relation_stim1_PRNS-NRNS', 'relation_stim1_PRNS-NRPS',\n",
              "       'relation_stim1_PRNS-PRNS', 'relation_stim1_PRNS-PRPS',\n",
              "       'relation_stim1_PRPS-NRNS', 'relation_stim1_PRPS-NRPS',\n",
              "       'relation_stim1_PRPS-PRNS', 'relation_stim1_PRPS-PRPS'],\n",
              "      dtype='object')"
            ]
          },
          "metadata": {},
          "execution_count": 8
        }
      ]
    },
    {
      "cell_type": "code",
      "source": [
        "#check the col indices holding the directional features\n",
        "#right now these are binary\n",
        "df5.columns[9:13]"
      ],
      "metadata": {
        "colab": {
          "base_uri": "https://localhost:8080/"
        },
        "id": "LEMOy_loUocv",
        "outputId": "ce992668-fdfb-4f93-c286-f925494a795e"
      },
      "execution_count": 9,
      "outputs": [
        {
          "output_type": "execute_result",
          "data": {
            "text/plain": [
              "Index(['direction_quadrant_1', 'direction_quadrant_2', 'direction_quadrant_3',\n",
              "       'direction_quadrant_4'],\n",
              "      dtype='object')"
            ]
          },
          "metadata": {},
          "execution_count": 9
        }
      ]
    },
    {
      "cell_type": "code",
      "source": [
        "#scale the raw response\n",
        "for df in df_list:\n",
        "  df['resp_scaled'] = df['resp'] /df['resp'].abs().max() #just divide by the max value\n",
        "\n",
        "#TEMPORARILY distribute the scaled response into the directional columns - probably needs to be more involved than this\n",
        "directional_cols = [col for col in df5.columns if 'direction' in col]\n",
        "\n",
        "for df in df_list:\n",
        "  for col in directional_cols:\n",
        "    df[col] = df['resp_scaled'] * df[col]\n",
        "\n",
        "df10.head()"
      ],
      "metadata": {
        "id": "Ad31PgK5zt-R",
        "colab": {
          "base_uri": "https://localhost:8080/",
          "height": 317
        },
        "outputId": "3c63936f-d09c-4d1f-ddaa-a335316fcfdd"
      },
      "execution_count": 10,
      "outputs": [
        {
          "output_type": "execute_result",
          "data": {
            "text/html": [
              "\n",
              "  <div id=\"df-d8562d3c-8c93-4106-a19f-8a39faa16aae\">\n",
              "    <div class=\"colab-df-container\">\n",
              "      <div>\n",
              "<style scoped>\n",
              "    .dataframe tbody tr th:only-of-type {\n",
              "        vertical-align: middle;\n",
              "    }\n",
              "\n",
              "    .dataframe tbody tr th {\n",
              "        vertical-align: top;\n",
              "    }\n",
              "\n",
              "    .dataframe thead th {\n",
              "        text-align: right;\n",
              "    }\n",
              "</style>\n",
              "<table border=\"1\" class=\"dataframe\">\n",
              "  <thead>\n",
              "    <tr style=\"text-align: right;\">\n",
              "      <th></th>\n",
              "      <th>stack</th>\n",
              "      <th>label</th>\n",
              "      <th>roi</th>\n",
              "      <th>frame</th>\n",
              "      <th>filename</th>\n",
              "      <th>resp</th>\n",
              "      <th>stim1</th>\n",
              "      <th>stim2</th>\n",
              "      <th>stim3</th>\n",
              "      <th>direction_quadrant_1</th>\n",
              "      <th>...</th>\n",
              "      <th>relation_stim1_PRNS-NRNS</th>\n",
              "      <th>relation_stim1_PRNS-NRPS</th>\n",
              "      <th>relation_stim1_PRNS-PRNS</th>\n",
              "      <th>relation_stim1_PRNS-PRPS</th>\n",
              "      <th>relation_stim1_PRPS-NRNS</th>\n",
              "      <th>relation_stim1_PRPS-NRPS</th>\n",
              "      <th>relation_stim1_PRPS-PRNS</th>\n",
              "      <th>relation_stim1_PRPS-PRPS</th>\n",
              "      <th>roi_ID</th>\n",
              "      <th>resp_scaled</th>\n",
              "    </tr>\n",
              "  </thead>\n",
              "  <tbody>\n",
              "    <tr>\n",
              "      <th>0</th>\n",
              "      <td>1</td>\n",
              "      <td>tm2</td>\n",
              "      <td>1</td>\n",
              "      <td>0</td>\n",
              "      <td>210815_0_1_stackRaw_mc_mix1_syt_result_2022021...</td>\n",
              "      <td>-0.106575</td>\n",
              "      <td>-0.395877</td>\n",
              "      <td>160.447960</td>\n",
              "      <td>0.110063</td>\n",
              "      <td>-0.0</td>\n",
              "      <td>...</td>\n",
              "      <td>0.0</td>\n",
              "      <td>0.0</td>\n",
              "      <td>0.0</td>\n",
              "      <td>0.000000</td>\n",
              "      <td>0.0</td>\n",
              "      <td>0.0</td>\n",
              "      <td>0.0</td>\n",
              "      <td>0.000000</td>\n",
              "      <td>1_1</td>\n",
              "      <td>-0.025431</td>\n",
              "    </tr>\n",
              "    <tr>\n",
              "      <th>1</th>\n",
              "      <td>1</td>\n",
              "      <td>tm2</td>\n",
              "      <td>1</td>\n",
              "      <td>1</td>\n",
              "      <td>210815_0_1_stackRaw_mc_mix1_syt_result_2022021...</td>\n",
              "      <td>0.244535</td>\n",
              "      <td>-0.395877</td>\n",
              "      <td>0.000000</td>\n",
              "      <td>0.000000</td>\n",
              "      <td>0.0</td>\n",
              "      <td>...</td>\n",
              "      <td>0.0</td>\n",
              "      <td>0.0</td>\n",
              "      <td>0.0</td>\n",
              "      <td>0.000839</td>\n",
              "      <td>0.0</td>\n",
              "      <td>0.0</td>\n",
              "      <td>0.0</td>\n",
              "      <td>0.000000</td>\n",
              "      <td>1_1</td>\n",
              "      <td>0.058351</td>\n",
              "    </tr>\n",
              "    <tr>\n",
              "      <th>2</th>\n",
              "      <td>1</td>\n",
              "      <td>tm2</td>\n",
              "      <td>1</td>\n",
              "      <td>2</td>\n",
              "      <td>210815_0_1_stackRaw_mc_mix1_syt_result_2022021...</td>\n",
              "      <td>0.398458</td>\n",
              "      <td>-0.395877</td>\n",
              "      <td>0.000000</td>\n",
              "      <td>0.000000</td>\n",
              "      <td>0.0</td>\n",
              "      <td>...</td>\n",
              "      <td>0.0</td>\n",
              "      <td>0.0</td>\n",
              "      <td>0.0</td>\n",
              "      <td>0.004907</td>\n",
              "      <td>0.0</td>\n",
              "      <td>0.0</td>\n",
              "      <td>0.0</td>\n",
              "      <td>0.000000</td>\n",
              "      <td>1_1</td>\n",
              "      <td>0.095081</td>\n",
              "    </tr>\n",
              "    <tr>\n",
              "      <th>3</th>\n",
              "      <td>1</td>\n",
              "      <td>tm2</td>\n",
              "      <td>1</td>\n",
              "      <td>3</td>\n",
              "      <td>210815_0_1_stackRaw_mc_mix1_syt_result_2022021...</td>\n",
              "      <td>0.619290</td>\n",
              "      <td>-0.138699</td>\n",
              "      <td>170.252676</td>\n",
              "      <td>0.030790</td>\n",
              "      <td>0.0</td>\n",
              "      <td>...</td>\n",
              "      <td>0.0</td>\n",
              "      <td>0.0</td>\n",
              "      <td>0.0</td>\n",
              "      <td>0.002009</td>\n",
              "      <td>0.0</td>\n",
              "      <td>0.0</td>\n",
              "      <td>0.0</td>\n",
              "      <td>0.000000</td>\n",
              "      <td>1_1</td>\n",
              "      <td>0.147776</td>\n",
              "    </tr>\n",
              "    <tr>\n",
              "      <th>4</th>\n",
              "      <td>1</td>\n",
              "      <td>tm2</td>\n",
              "      <td>1</td>\n",
              "      <td>4</td>\n",
              "      <td>210815_0_1_stackRaw_mc_mix1_syt_result_2022021...</td>\n",
              "      <td>0.627615</td>\n",
              "      <td>0.890013</td>\n",
              "      <td>-62.485104</td>\n",
              "      <td>0.122134</td>\n",
              "      <td>0.0</td>\n",
              "      <td>...</td>\n",
              "      <td>0.0</td>\n",
              "      <td>0.0</td>\n",
              "      <td>0.0</td>\n",
              "      <td>0.000000</td>\n",
              "      <td>0.0</td>\n",
              "      <td>0.0</td>\n",
              "      <td>0.0</td>\n",
              "      <td>0.011836</td>\n",
              "      <td>1_1</td>\n",
              "      <td>0.149762</td>\n",
              "    </tr>\n",
              "  </tbody>\n",
              "</table>\n",
              "<p>5 rows × 35 columns</p>\n",
              "</div>\n",
              "      <button class=\"colab-df-convert\" onclick=\"convertToInteractive('df-d8562d3c-8c93-4106-a19f-8a39faa16aae')\"\n",
              "              title=\"Convert this dataframe to an interactive table.\"\n",
              "              style=\"display:none;\">\n",
              "        \n",
              "  <svg xmlns=\"http://www.w3.org/2000/svg\" height=\"24px\"viewBox=\"0 0 24 24\"\n",
              "       width=\"24px\">\n",
              "    <path d=\"M0 0h24v24H0V0z\" fill=\"none\"/>\n",
              "    <path d=\"M18.56 5.44l.94 2.06.94-2.06 2.06-.94-2.06-.94-.94-2.06-.94 2.06-2.06.94zm-11 1L8.5 8.5l.94-2.06 2.06-.94-2.06-.94L8.5 2.5l-.94 2.06-2.06.94zm10 10l.94 2.06.94-2.06 2.06-.94-2.06-.94-.94-2.06-.94 2.06-2.06.94z\"/><path d=\"M17.41 7.96l-1.37-1.37c-.4-.4-.92-.59-1.43-.59-.52 0-1.04.2-1.43.59L10.3 9.45l-7.72 7.72c-.78.78-.78 2.05 0 2.83L4 21.41c.39.39.9.59 1.41.59.51 0 1.02-.2 1.41-.59l7.78-7.78 2.81-2.81c.8-.78.8-2.07 0-2.86zM5.41 20L4 18.59l7.72-7.72 1.47 1.35L5.41 20z\"/>\n",
              "  </svg>\n",
              "      </button>\n",
              "      \n",
              "  <style>\n",
              "    .colab-df-container {\n",
              "      display:flex;\n",
              "      flex-wrap:wrap;\n",
              "      gap: 12px;\n",
              "    }\n",
              "\n",
              "    .colab-df-convert {\n",
              "      background-color: #E8F0FE;\n",
              "      border: none;\n",
              "      border-radius: 50%;\n",
              "      cursor: pointer;\n",
              "      display: none;\n",
              "      fill: #1967D2;\n",
              "      height: 32px;\n",
              "      padding: 0 0 0 0;\n",
              "      width: 32px;\n",
              "    }\n",
              "\n",
              "    .colab-df-convert:hover {\n",
              "      background-color: #E2EBFA;\n",
              "      box-shadow: 0px 1px 2px rgba(60, 64, 67, 0.3), 0px 1px 3px 1px rgba(60, 64, 67, 0.15);\n",
              "      fill: #174EA6;\n",
              "    }\n",
              "\n",
              "    [theme=dark] .colab-df-convert {\n",
              "      background-color: #3B4455;\n",
              "      fill: #D2E3FC;\n",
              "    }\n",
              "\n",
              "    [theme=dark] .colab-df-convert:hover {\n",
              "      background-color: #434B5C;\n",
              "      box-shadow: 0px 1px 3px 1px rgba(0, 0, 0, 0.15);\n",
              "      filter: drop-shadow(0px 1px 2px rgba(0, 0, 0, 0.3));\n",
              "      fill: #FFFFFF;\n",
              "    }\n",
              "  </style>\n",
              "\n",
              "      <script>\n",
              "        const buttonEl =\n",
              "          document.querySelector('#df-d8562d3c-8c93-4106-a19f-8a39faa16aae button.colab-df-convert');\n",
              "        buttonEl.style.display =\n",
              "          google.colab.kernel.accessAllowed ? 'block' : 'none';\n",
              "\n",
              "        async function convertToInteractive(key) {\n",
              "          const element = document.querySelector('#df-d8562d3c-8c93-4106-a19f-8a39faa16aae');\n",
              "          const dataTable =\n",
              "            await google.colab.kernel.invokeFunction('convertToInteractive',\n",
              "                                                     [key], {});\n",
              "          if (!dataTable) return;\n",
              "\n",
              "          const docLinkHtml = 'Like what you see? Visit the ' +\n",
              "            '<a target=\"_blank\" href=https://colab.research.google.com/notebooks/data_table.ipynb>data table notebook</a>'\n",
              "            + ' to learn more about interactive tables.';\n",
              "          element.innerHTML = '';\n",
              "          dataTable['output_type'] = 'display_data';\n",
              "          await google.colab.output.renderOutput(dataTable, element);\n",
              "          const docLink = document.createElement('div');\n",
              "          docLink.innerHTML = docLinkHtml;\n",
              "          element.appendChild(docLink);\n",
              "        }\n",
              "      </script>\n",
              "    </div>\n",
              "  </div>\n",
              "  "
            ],
            "text/plain": [
              "   stack label  roi  frame                                           filename  \\\n",
              "0      1   tm2    1      0  210815_0_1_stackRaw_mc_mix1_syt_result_2022021...   \n",
              "1      1   tm2    1      1  210815_0_1_stackRaw_mc_mix1_syt_result_2022021...   \n",
              "2      1   tm2    1      2  210815_0_1_stackRaw_mc_mix1_syt_result_2022021...   \n",
              "3      1   tm2    1      3  210815_0_1_stackRaw_mc_mix1_syt_result_2022021...   \n",
              "4      1   tm2    1      4  210815_0_1_stackRaw_mc_mix1_syt_result_2022021...   \n",
              "\n",
              "       resp     stim1       stim2     stim3  direction_quadrant_1  ...  \\\n",
              "0 -0.106575 -0.395877  160.447960  0.110063                  -0.0  ...   \n",
              "1  0.244535 -0.395877    0.000000  0.000000                   0.0  ...   \n",
              "2  0.398458 -0.395877    0.000000  0.000000                   0.0  ...   \n",
              "3  0.619290 -0.138699  170.252676  0.030790                   0.0  ...   \n",
              "4  0.627615  0.890013  -62.485104  0.122134                   0.0  ...   \n",
              "\n",
              "   relation_stim1_PRNS-NRNS  relation_stim1_PRNS-NRPS  \\\n",
              "0                       0.0                       0.0   \n",
              "1                       0.0                       0.0   \n",
              "2                       0.0                       0.0   \n",
              "3                       0.0                       0.0   \n",
              "4                       0.0                       0.0   \n",
              "\n",
              "   relation_stim1_PRNS-PRNS relation_stim1_PRNS-PRPS  \\\n",
              "0                       0.0                 0.000000   \n",
              "1                       0.0                 0.000839   \n",
              "2                       0.0                 0.004907   \n",
              "3                       0.0                 0.002009   \n",
              "4                       0.0                 0.000000   \n",
              "\n",
              "   relation_stim1_PRPS-NRNS  relation_stim1_PRPS-NRPS  \\\n",
              "0                       0.0                       0.0   \n",
              "1                       0.0                       0.0   \n",
              "2                       0.0                       0.0   \n",
              "3                       0.0                       0.0   \n",
              "4                       0.0                       0.0   \n",
              "\n",
              "  relation_stim1_PRPS-PRNS  relation_stim1_PRPS-PRPS  roi_ID  resp_scaled  \n",
              "0                      0.0                  0.000000     1_1    -0.025431  \n",
              "1                      0.0                  0.000000     1_1     0.058351  \n",
              "2                      0.0                  0.000000     1_1     0.095081  \n",
              "3                      0.0                  0.000000     1_1     0.147776  \n",
              "4                      0.0                  0.011836     1_1     0.149762  \n",
              "\n",
              "[5 rows x 35 columns]"
            ]
          },
          "metadata": {},
          "execution_count": 10
        }
      ]
    },
    {
      "cell_type": "code",
      "source": [
        "#average each df by roi\n",
        "df5 = df5.groupby(['roi_ID', 'label']).mean().reset_index()\n",
        "df10 = df10.groupby(['roi_ID', 'label']).mean().reset_index()\n",
        "df15 = df15.groupby(['roi_ID', 'label']).mean().reset_index()\n",
        "df20 = df20.groupby(['roi_ID', 'label']).mean().reset_index()"
      ],
      "metadata": {
        "id": "SzJG6yuSTUQO"
      },
      "execution_count": 11,
      "outputs": []
    },
    {
      "cell_type": "code",
      "source": [
        "#playing with visualizing the data\n",
        "#single direction of the stimulus vs the scaled response seems to separate t5 in our 10-frame windowed table\n",
        "sns.scatterplot(x=df10['direction_quadrant_3'], y=df10['resp_scaled'], hue=df10['label'])\n",
        "plt.legend()"
      ],
      "metadata": {
        "colab": {
          "base_uri": "https://localhost:8080/",
          "height": 297
        },
        "id": "CtQLEowYFaim",
        "outputId": "e4497241-7bba-4d94-c096-822e477c0f86"
      },
      "execution_count": 12,
      "outputs": [
        {
          "output_type": "execute_result",
          "data": {
            "text/plain": [
              "<matplotlib.legend.Legend at 0x7fcba0fd9ad0>"
            ]
          },
          "metadata": {},
          "execution_count": 12
        },
        {
          "output_type": "display_data",
          "data": {
            "image/png": "[encoded data removed]",
            "text/plain": [
              "<Figure size 432x288 with 1 Axes>"
            ]
          },
          "metadata": {
            "needs_background": "light"
          }
        }
      ]
    },
    {
      "cell_type": "code",
      "source": [
        "#train test split by roi_ID so that no single roi is included in the training and testing data\n",
        "#Right now the split is random\n",
        "\n",
        "#get a list of the unique rois\n",
        "rois = df5.drop_duplicates('roi_ID')[['roi_ID', 'label']]\n",
        "\n",
        "#treat them like the roi and labels are their own dataset\n",
        "X = np.array(rois['roi_ID'])\n",
        "y = np.array(rois['label'])\n",
        "\n",
        "\n",
        "#split into training and testing - returns the indexes\n",
        "from sklearn.model_selection import StratifiedShuffleSplit\n",
        "sss = StratifiedShuffleSplit(n_splits=1, test_size=0.4, random_state=0) #40% testing\n",
        "for train_index, test_index in sss.split(X, y):\n",
        "    print(\"TRAIN:\", train_index, \"TEST:\", test_index)\n",
        "\n",
        "#These are lists of the rois to be included in each split, not the actual data\n",
        "X_train_rois, X_test_rois = X[train_index], X[test_index]\n",
        "y_train, y_test = y[train_index], y[test_index]\n"
      ],
      "metadata": {
        "colab": {
          "base_uri": "https://localhost:8080/"
        },
        "id": "QoI2DsY9VI2j",
        "outputId": "5bac6382-b8a8-4686-fc8c-826c2f0640a8"
      },
      "execution_count": 13,
      "outputs": [
        {
          "output_type": "stream",
          "name": "stdout",
          "text": [
            "TRAIN: [118 103 126  59  10  45  57 146  51 127   8  31  98 138  40  53 115  94\n",
            " 114  15 148  32 113  47  80  62  44  64  77 141  20  35  41 120  24  70\n",
            "  90 134  38  93  55  46 110   5 102   2 104 101  95 137  25 135  27 107\n",
            " 139  16  88  34  87 109  79   7  50  67  91  89  54  85  12 119  17  73\n",
            "  78  71 147  58 106 125 124  13  29 133 129  56   4  92  96  69  97] TEST: [105  81  36   3 100  74 136  21 140 132  39   9  49  84  75  63   1   6\n",
            "   0 145  52 130 121 123  60  83  72 117  43 144 122  19  86  76  65  42\n",
            " 116  33  61  18  14 111 142 143  22  30  23  99 108  82 128 131  26  68\n",
            "  11  37 112  66  28  48]\n"
          ]
        }
      ]
    },
    {
      "cell_type": "code",
      "source": [
        "#get the column names we want to use as features\n",
        "data_cols = [col for col in df5.columns if 'direction' in col or ('relation_stim1_' in col and 'future' not in col)]\n",
        "data_cols"
      ],
      "metadata": {
        "colab": {
          "base_uri": "https://localhost:8080/"
        },
        "id": "LDIhVKapYrMk",
        "outputId": "3740cfa9-2b3e-448b-bb23-9931f07092a0"
      },
      "execution_count": 14,
      "outputs": [
        {
          "output_type": "execute_result",
          "data": {
            "text/plain": [
              "['direction_quadrant_1',\n",
              " 'direction_quadrant_2',\n",
              " 'direction_quadrant_3',\n",
              " 'direction_quadrant_4',\n",
              " 'relation_stim1_NRNS-NRNS',\n",
              " 'relation_stim1_NRNS-NRPS',\n",
              " 'relation_stim1_NRNS-PRNS',\n",
              " 'relation_stim1_NRNS-PRPS',\n",
              " 'relation_stim1_NRPS-NRNS',\n",
              " 'relation_stim1_NRPS-NRPS',\n",
              " 'relation_stim1_NRPS-PRNS',\n",
              " 'relation_stim1_NRPS-PRPS',\n",
              " 'relation_stim1_PRNS-NRNS',\n",
              " 'relation_stim1_PRNS-NRPS',\n",
              " 'relation_stim1_PRNS-PRNS',\n",
              " 'relation_stim1_PRNS-PRPS',\n",
              " 'relation_stim1_PRPS-NRNS',\n",
              " 'relation_stim1_PRPS-NRPS',\n",
              " 'relation_stim1_PRPS-PRNS',\n",
              " 'relation_stim1_PRPS-PRPS']"
            ]
          },
          "metadata": {},
          "execution_count": 14
        }
      ]
    },
    {
      "cell_type": "code",
      "source": [
        "def train_test_resample_scale(df, data_cols):\n",
        "  \"\"\"\n",
        "  Function to take in the different df's and return training and testing data\n",
        "  Useful to try different time windows without tracking a bunch of variables\n",
        "  \"\"\"\n",
        "\n",
        "  #use the roi_id's as indexes to split train and test from our full df\n",
        "  X_train = df.query('roi_ID in @X_train_rois')[data_cols] \n",
        "  y_train = df.query('roi_ID in @X_train_rois')['label'] \n",
        "\n",
        "  X_test = df.query('roi_ID in @X_test_rois')[data_cols] \n",
        "  y_test = df.query('roi_ID in @X_test_rois')['label']     \n",
        "\n",
        "  #resample the training set to balance the classes (upsampling the underrepresented classes)\n",
        "  from imblearn.over_sampling import SMOTE\n",
        "  smote_nc = SMOTE(random_state=0, k_neighbors = 3)\n",
        "  X_train_resampled, y_train_resampled = smote_nc.fit_resample(X_train, y_train)\n",
        "\n",
        "  #Scale based on X_train to avoid data leakage\n",
        "  scaler = StandardScaler() \n",
        "  scaler.fit(X_train_resampled)\n",
        "  X_train_resampled = scaler.transform(X_train_resampled)  \n",
        "  # apply same transformation to test data\n",
        "  X_test = scaler.transform(X_test)\n",
        "\n",
        "  return X_train_resampled, y_train_resampled, X_test, y_test"
      ],
      "metadata": {
        "id": "DsFEcppmVtkv"
      },
      "execution_count": 15,
      "outputs": []
    },
    {
      "cell_type": "markdown",
      "source": [
        "# try models based on 5-frame stim1 window"
      ],
      "metadata": {
        "id": "yfcE0b5RQRAG"
      }
    },
    {
      "cell_type": "code",
      "source": [
        "#change the df used here to try different time windows\n",
        "X_train_resampled, y_train_resampled, X_test, y_test = train_test_resample_scale(df5, data_cols) "
      ],
      "metadata": {
        "id": "yP5-UcQhc24L"
      },
      "execution_count": 16,
      "outputs": []
    },
    {
      "cell_type": "code",
      "source": [
        "#multilayer perceptron (neural net)\n",
        "model = MLPClassifier(hidden_layer_sizes=(10, 5), activation='relu', solver='adam', max_iter=1000000, verbose = False, tol = .0000001)\n",
        "model.fit(X_train_resampled, y_train_resampled)"
      ],
      "metadata": {
        "colab": {
          "base_uri": "https://localhost:8080/"
        },
        "outputId": "7a67c554-65d4-4b3d-c861-739eaa4edff6",
        "id": "CJVJr3EKmqRg"
      },
      "execution_count": 17,
      "outputs": [
        {
          "output_type": "execute_result",
          "data": {
            "text/plain": [
              "MLPClassifier(hidden_layer_sizes=(10, 5), max_iter=1000000, tol=1e-07)"
            ]
          },
          "metadata": {},
          "execution_count": 17
        }
      ]
    },
    {
      "cell_type": "code",
      "source": [
        "plt.plot(model.loss_curve_) #looks like with more data we would continue improving"
      ],
      "metadata": {
        "colab": {
          "base_uri": "https://localhost:8080/",
          "height": 282
        },
        "id": "d6g91ZeTppj4",
        "outputId": "0c99d6d9-7e58-4634-b47d-c2bf030a6388"
      },
      "execution_count": 18,
      "outputs": [
        {
          "output_type": "execute_result",
          "data": {
            "text/plain": [
              "[<matplotlib.lines.Line2D at 0x7fcb9d8c3450>]"
            ]
          },
          "metadata": {},
          "execution_count": 18
        },
        {
          "output_type": "display_data",
          "data": {
            "image/png": "[encoded data removed]",
            "text/plain": [
              "<Figure size 432x288 with 1 Axes>"
            ]
          },
          "metadata": {
            "needs_background": "light"
          }
        }
      ]
    },
    {
      "cell_type": "code",
      "source": [
        "#return the predicted classes and probabilities\n",
        "preds_prob = model.predict_proba(X_test)\n",
        "preds = model.predict(X_test)\n",
        "print(model.classes_)"
      ],
      "metadata": {
        "colab": {
          "base_uri": "https://localhost:8080/"
        },
        "outputId": "29bde7b0-13c0-4d5e-a3de-cde66a3c29da",
        "id": "5LVlObMKmqRh"
      },
      "execution_count": 19,
      "outputs": [
        {
          "output_type": "stream",
          "name": "stdout",
          "text": [
            "['t5' 'tm1' 'tm2' 'tm4' 'tm9']\n"
          ]
        }
      ]
    },
    {
      "cell_type": "code",
      "source": [
        "print(model.score(X_test, y_test)) \n",
        "print(classification_report(y_test,preds))\n",
        "ConfusionMatrixDisplay.from_predictions(y_test, preds)"
      ],
      "metadata": {
        "colab": {
          "base_uri": "https://localhost:8080/",
          "height": 526
        },
        "outputId": "6788dcb6-07cb-40ab-91ee-90e69ef679ba",
        "id": "Um7BzZpKmqRi"
      },
      "execution_count": 20,
      "outputs": [
        {
          "output_type": "stream",
          "name": "stdout",
          "text": [
            "0.5666666666666667\n",
            "              precision    recall  f1-score   support\n",
            "\n",
            "          t5       1.00      1.00      1.00         8\n",
            "         tm1       0.80      1.00      0.89         4\n",
            "         tm2       0.60      0.64      0.62        28\n",
            "         tm4       0.44      0.25      0.32        16\n",
            "         tm9       0.00      0.00      0.00         4\n",
            "\n",
            "    accuracy                           0.57        60\n",
            "   macro avg       0.57      0.58      0.57        60\n",
            "weighted avg       0.59      0.57      0.57        60\n",
            "\n"
          ]
        },
        {
          "output_type": "execute_result",
          "data": {
            "text/plain": [
              "<sklearn.metrics._plot.confusion_matrix.ConfusionMatrixDisplay at 0x7fcb9d8da050>"
            ]
          },
          "metadata": {},
          "execution_count": 20
        },
        {
          "output_type": "display_data",
          "data": {
            "image/png": "[encoded data removed]",
            "text/plain": [
              "<Figure size 432x288 with 2 Axes>"
            ]
          },
          "metadata": {
            "needs_background": "light"
          }
        }
      ]
    },
    {
      "cell_type": "code",
      "source": [
        "#knn\n",
        "model = KNeighborsClassifier(3)\n",
        "model.fit(X_train_resampled, y_train_resampled)"
      ],
      "metadata": {
        "colab": {
          "base_uri": "https://localhost:8080/"
        },
        "id": "TfFapBmxFXQf",
        "outputId": "51effa1b-0d59-4fc5-be84-d3adcd129b1f"
      },
      "execution_count": 21,
      "outputs": [
        {
          "output_type": "execute_result",
          "data": {
            "text/plain": [
              "KNeighborsClassifier(n_neighbors=3)"
            ]
          },
          "metadata": {},
          "execution_count": 21
        }
      ]
    },
    {
      "cell_type": "code",
      "source": [
        "print(model.score(X_test, y_test)) \n",
        "preds_prob = model.predict_proba(X_test)\n",
        "preds = model.predict(X_test)\n",
        "print(classification_report(y_test,preds))\n",
        "ConfusionMatrixDisplay.from_predictions(y_test, preds)"
      ],
      "metadata": {
        "colab": {
          "base_uri": "https://localhost:8080/",
          "height": 526
        },
        "id": "wyjguQC9I9wH",
        "outputId": "cff6b32c-79f5-4e16-abe6-c203d0c67ca4"
      },
      "execution_count": 22,
      "outputs": [
        {
          "output_type": "stream",
          "name": "stdout",
          "text": [
            "0.75\n",
            "              precision    recall  f1-score   support\n",
            "\n",
            "          t5       1.00      1.00      1.00         8\n",
            "         tm1       0.80      1.00      0.89         4\n",
            "         tm2       0.90      0.64      0.75        28\n",
            "         tm4       0.75      0.75      0.75        16\n",
            "         tm9       0.27      0.75      0.40         4\n",
            "\n",
            "    accuracy                           0.75        60\n",
            "   macro avg       0.74      0.83      0.76        60\n",
            "weighted avg       0.82      0.75      0.77        60\n",
            "\n"
          ]
        },
        {
          "output_type": "execute_result",
          "data": {
            "text/plain": [
              "<sklearn.metrics._plot.confusion_matrix.ConfusionMatrixDisplay at 0x7fcb9d871b50>"
            ]
          },
          "metadata": {},
          "execution_count": 22
        },
        {
          "output_type": "display_data",
          "data": {
            "image/png": "[encoded data removed]",
            "text/plain": [
              "<Figure size 432x288 with 2 Axes>"
            ]
          },
          "metadata": {
            "needs_background": "light"
          }
        }
      ]
    },
    {
      "cell_type": "code",
      "source": [
        "#try the sklearn loop over different models, haven't messed with plotting decision boundaries since we have so many dimensions\n",
        "\n",
        "# Code source: Gaël Varoquaux\n",
        "#              Andreas Müller\n",
        "# Modified for documentation by Jaques Grobler\n",
        "# License: BSD 3 clause\n",
        "\n",
        "\n",
        "\n",
        "names = [\n",
        "    \"Nearest Neighbors\",\n",
        "    \"Linear SVM\",\n",
        "    \"RBF SVM\",\n",
        "    \"Gaussian Process\",\n",
        "    \"Decision Tree\",\n",
        "    \"Random Forest\",\n",
        "    \"Neural Net\",\n",
        "    \"AdaBoost\",\n",
        "    \"Naive Bayes\",\n",
        "    \"QDA\",\n",
        "]\n",
        "\n",
        "classifiers = [\n",
        "    KNeighborsClassifier(3),\n",
        "    SVC(kernel=\"linear\", C=0.025),\n",
        "    SVC(gamma=2, C=1),\n",
        "    GaussianProcessClassifier(1.0 * RBF(1.0)),\n",
        "    DecisionTreeClassifier(max_depth=3),\n",
        "    RandomForestClassifier(max_depth=3, n_estimators=10, max_features=1),\n",
        "    MLPClassifier(alpha=.01, max_iter=1000),\n",
        "    AdaBoostClassifier(),\n",
        "    GaussianNB(),\n",
        "    QuadraticDiscriminantAnalysis(),\n",
        "]\n",
        "\n",
        "\n",
        "# iterate over classifiers\n",
        "for name, clf in zip(names, classifiers):\n",
        "    clf.fit(X_train_resampled, y_train_resampled)\n",
        "    score = clf.score(X_test, y_test)\n",
        "    print(f'{name}: score: {score}')\n",
        "\n",
        "    preds = clf.predict(X_test)\n",
        "    ConfusionMatrixDisplay.from_predictions(y_test, preds)\n",
        "    plt.show()\n"
      ],
      "metadata": {
        "id": "hNqSyVKdyPqB",
        "colab": {
          "base_uri": "https://localhost:8080/",
          "height": 1000
        },
        "outputId": "85eea657-b04a-4bd3-b345-6a8ddb105b57"
      },
      "execution_count": 23,
      "outputs": [
        {
          "output_type": "stream",
          "name": "stdout",
          "text": [
            "Nearest Neighbors: score: 0.75\n"
          ]
        },
        {
          "output_type": "display_data",
          "data": {
            "image/png": "[encoded data removed]",
            "text/plain": [
              "<Figure size 432x288 with 2 Axes>"
            ]
          },
          "metadata": {
            "needs_background": "light"
          }
        },
        {
          "output_type": "stream",
          "name": "stdout",
          "text": [
            "Linear SVM: score: 0.5833333333333334\n"
          ]
        },
        {
          "output_type": "display_data",
          "data": {
            "image/png": "[encoded data removed]",
            "text/plain": [
              "<Figure size 432x288 with 2 Axes>"
            ]
          },
          "metadata": {
            "needs_background": "light"
          }
        },
        {
          "output_type": "stream",
          "name": "stdout",
          "text": [
            "RBF SVM: score: 0.55\n"
          ]
        },
        {
          "output_type": "display_data",
          "data": {
            "image/png": "[encoded data removed]",
            "text/plain": [
              "<Figure size 432x288 with 2 Axes>"
            ]
          },
          "metadata": {
            "needs_background": "light"
          }
        },
        {
          "output_type": "stream",
          "name": "stdout",
          "text": [
            "Gaussian Process: score: 0.7666666666666667\n"
          ]
        },
        {
          "output_type": "display_data",
          "data": {
            "image/png": "[encoded data removed]",
            "text/plain": [
              "<Figure size 432x288 with 2 Axes>"
            ]
          },
          "metadata": {
            "needs_background": "light"
          }
        },
        {
          "output_type": "stream",
          "name": "stdout",
          "text": [
            "Decision Tree: score: 0.4\n"
          ]
        },
        {
          "output_type": "display_data",
          "data": {
            "image/png": "[encoded data removed]",
            "text/plain": [
              "<Figure size 432x288 with 2 Axes>"
            ]
          },
          "metadata": {
            "needs_background": "light"
          }
        },
        {
          "output_type": "stream",
          "name": "stdout",
          "text": [
            "Random Forest: score: 0.5833333333333334\n"
          ]
        },
        {
          "output_type": "display_data",
          "data": {
            "image/png": "[encoded data removed]",
            "text/plain": [
              "<Figure size 432x288 with 2 Axes>"
            ]
          },
          "metadata": {
            "needs_background": "light"
          }
        },
        {
          "output_type": "stream",
          "name": "stdout",
          "text": [
            "Neural Net: score: 0.75\n"
          ]
        },
        {
          "output_type": "display_data",
          "data": {
            "image/png": "[encoded data removed]",
            "text/plain": [
              "<Figure size 432x288 with 2 Axes>"
            ]
          },
          "metadata": {
            "needs_background": "light"
          }
        },
        {
          "output_type": "stream",
          "name": "stdout",
          "text": [
            "AdaBoost: score: 0.43333333333333335\n"
          ]
        },
        {
          "output_type": "display_data",
          "data": {
            "image/png": "[encoded data removed]",
            "text/plain": [
              "<Figure size 432x288 with 2 Axes>"
            ]
          },
          "metadata": {
            "needs_background": "light"
          }
        },
        {
          "output_type": "stream",
          "name": "stdout",
          "text": [
            "Naive Bayes: score: 0.7\n"
          ]
        },
        {
          "output_type": "display_data",
          "data": {
            "image/png": "[encoded data removed]",
            "text/plain": [
              "<Figure size 432x288 with 2 Axes>"
            ]
          },
          "metadata": {
            "needs_background": "light"
          }
        },
        {
          "output_type": "stream",
          "name": "stderr",
          "text": [
            "/usr/local/lib/python3.7/dist-packages/sklearn/discriminant_analysis.py:878: UserWarning: Variables are collinear\n",
            "  warnings.warn(\"Variables are collinear\")\n"
          ]
        },
        {
          "output_type": "stream",
          "name": "stdout",
          "text": [
            "QDA: score: 0.48333333333333334\n"
          ]
        },
        {
          "output_type": "display_data",
          "data": {
            "image/png": "[encoded data removed]",
            "text/plain": [
              "<Figure size 432x288 with 2 Axes>"
            ]
          },
          "metadata": {
            "needs_background": "light"
          }
        }
      ]
    },
    {
      "cell_type": "markdown",
      "source": [
        "# Old code to take frame-level predictions and use the most frequent prediction at the roi level"
      ],
      "metadata": {
        "id": "Qq3EWNJiYIir"
      }
    },
    {
      "cell_type": "code",
      "source": [
        "# #add the classes and probabilities back to the df of test set records\n",
        "# test_df = df.query('roi_ID in @X_test_rois')\n",
        "# test_df[['t5', 'tm1', 'tm2', 'tm4', 'tm9']] = preds_prob\n",
        "# test_df['pred'] = preds"
      ],
      "metadata": {
        "id": "1IBEiY6OmqRi"
      },
      "execution_count": null,
      "outputs": []
    },
    {
      "cell_type": "code",
      "source": [
        "# #groupby the roi_id and predicted class to see the number of times each cell was predicted which class\n",
        "# #right now it classifies everything as tm1\n",
        "# max_preds = test_df.groupby(['roi_ID', 'pred']).count() \\\n",
        "#     .reset_index() \\\n",
        "#     .sort_values(['roi_ID', 'label'], ascending = False) \\\n",
        "#     .drop_duplicates('roi_ID', keep='first') \\\n",
        "#     [['roi_ID', 'pred']] \\\n",
        "#     .rename(columns = {'pred': 'most_predicted_class'}) \\\n",
        "#     .set_index('roi_ID')\n"
      ],
      "metadata": {
        "id": "NkPhIdFomqRi"
      },
      "execution_count": null,
      "outputs": []
    },
    {
      "cell_type": "code",
      "source": [
        "# max_preds.head()"
      ],
      "metadata": {
        "id": "T_gTmHkHmqRi"
      },
      "execution_count": null,
      "outputs": []
    },
    {
      "cell_type": "code",
      "source": [
        "# #get the actual labels for the rois in the test set\n",
        "# test_labels = test_df[['roi_ID', 'label']].drop_duplicates('roi_ID').set_index('roi_ID')\n",
        "# test_labels.head()"
      ],
      "metadata": {
        "id": "V44kcjeRmqRj"
      },
      "execution_count": null,
      "outputs": []
    },
    {
      "cell_type": "code",
      "source": [
        "# #join the actual labels to the most predicted class labels\n",
        "# max_preds = max_preds.join(test_labels)\n",
        "# max_preds.head()"
      ],
      "metadata": {
        "id": "dxXyGngmmqRj"
      },
      "execution_count": null,
      "outputs": []
    },
    {
      "cell_type": "code",
      "source": [
        "# #show the confusion matrix for the test set rois\n",
        "# print(classification_report(max_preds['label'], max_preds['most_predicted_class']))\n",
        "# ConfusionMatrixDisplay.from_predictions(max_preds['label'], max_preds['most_predicted_class'])"
      ],
      "metadata": {
        "id": "F3rWrm_ImqRj"
      },
      "execution_count": null,
      "outputs": []
    },
    {
      "cell_type": "code",
      "source": [
        "# #return the predicted classes and probabilities\n",
        "# preds_prob = model.predict_proba(X_test)\n",
        "# preds = model.predict(X_test)\n",
        "# print(model.classes_)\n",
        "# preds_prob"
      ],
      "metadata": {
        "id": "liOaHmEzIue8"
      },
      "execution_count": null,
      "outputs": []
    },
    {
      "cell_type": "code",
      "source": [
        "# #add the classes and probabilities back to the df of test set records\n",
        "# test_df = df.query('roi_ID in @X_test_rois')\n",
        "# test_df[['t5', 'tm1', 'tm2', 'tm4', 'tm9']] = preds_prob\n",
        "# test_df['pred'] = preds"
      ],
      "metadata": {
        "id": "eQlaTIKEIuhT"
      },
      "execution_count": null,
      "outputs": []
    },
    {
      "cell_type": "code",
      "source": [
        "# #groupby the roi_id and predicted class to see the number of times each cell was predicted which class\n",
        "# #right now it classifies everything as tm1\n",
        "# max_preds = test_df.groupby(['roi_ID', 'pred']).count() \\\n",
        "#     .reset_index() \\\n",
        "#     .sort_values(['roi_ID', 'label'], ascending = False) \\\n",
        "#     .drop_duplicates('roi_ID', keep='first') \\\n",
        "#     [['roi_ID', 'pred']] \\\n",
        "#     .rename(columns = {'pred': 'most_predicted_class'}) \\\n",
        "#     .set_index('roi_ID')\n"
      ],
      "metadata": {
        "id": "3vE-dlxBIuj7"
      },
      "execution_count": null,
      "outputs": []
    },
    {
      "cell_type": "code",
      "source": [
        "# max_preds.head()"
      ],
      "metadata": {
        "id": "7aFjVXshVr-t"
      },
      "execution_count": null,
      "outputs": []
    },
    {
      "cell_type": "code",
      "source": [
        "# #get the actual labels for the rois in the test set\n",
        "# test_labels = test_df[['roi_ID', 'label']].drop_duplicates('roi_ID').set_index('roi_ID')\n",
        "# test_labels.head()"
      ],
      "metadata": {
        "id": "gx3FUpjjVePe"
      },
      "execution_count": null,
      "outputs": []
    },
    {
      "cell_type": "code",
      "source": [
        "# #join the actual labels to the most predicted class labels\n",
        "# max_preds = max_preds.join(test_labels)\n",
        "# max_preds.head()"
      ],
      "metadata": {
        "id": "cXFjBXjUSqhL"
      },
      "execution_count": null,
      "outputs": []
    },
    {
      "cell_type": "code",
      "source": [
        "# #show the confusion matrix for the test set rois\n",
        "# ConfusionMatrixDisplay.from_predictions(max_preds['label'], max_preds['most_predicted_class'])"
      ],
      "metadata": {
        "id": "Ful8fpWETMq0"
      },
      "execution_count": null,
      "outputs": []
    }
  ]
}